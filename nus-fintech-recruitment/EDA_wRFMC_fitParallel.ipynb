{
 "cells": [
  {
   "cell_type": "markdown",
   "metadata": {},
   "source": [
    "# Explanatory Data Analisys \n",
    "\n",
    "- Author: Israel Oliveira [\\[e-mail\\]](mailto:'Israel%20Oliveira%20'<prof.israel@gmail.com>)"
   ]
  },
  {
   "cell_type": "code",
   "execution_count": 1,
   "metadata": {
    "execution": {
     "iopub.execute_input": "2024-09-03T21:46:33.625855Z",
     "iopub.status.busy": "2024-09-03T21:46:33.625519Z",
     "iopub.status.idle": "2024-09-03T21:46:33.649680Z",
     "shell.execute_reply": "2024-09-03T21:46:33.648914Z",
     "shell.execute_reply.started": "2024-09-03T21:46:33.625823Z"
    }
   },
   "outputs": [],
   "source": [
    "%load_ext watermark"
   ]
  },
  {
   "cell_type": "code",
   "execution_count": 2,
   "metadata": {
    "execution": {
     "iopub.execute_input": "2024-09-03T21:46:33.951248Z",
     "iopub.status.busy": "2024-09-03T21:46:33.950038Z",
     "iopub.status.idle": "2024-09-03T21:46:35.086948Z",
     "shell.execute_reply": "2024-09-03T21:46:35.086472Z",
     "shell.execute_reply.started": "2024-09-03T21:46:33.951202Z"
    }
   },
   "outputs": [],
   "source": [
    "import pandas as pd\n",
    "import numpy as np\n",
    "from random_forest_mc.model import RandomForestMC\n",
    "from random_forest_mc.utils import LoadDicts, dump_file_json, load_file_json\n",
    "from tqdm import notebook as tqdm\n",
    "from datetime import datetime\n",
    "from collections import Counter"
   ]
  },
  {
   "cell_type": "code",
   "execution_count": 3,
   "metadata": {
    "execution": {
     "iopub.execute_input": "2024-09-03T21:46:35.088171Z",
     "iopub.status.busy": "2024-09-03T21:46:35.087907Z",
     "iopub.status.idle": "2024-09-03T21:46:35.091404Z",
     "shell.execute_reply": "2024-09-03T21:46:35.090540Z",
     "shell.execute_reply.started": "2024-09-03T21:46:35.088155Z"
    }
   },
   "outputs": [],
   "source": [
    "import warnings\n",
    "warnings.filterwarnings('ignore', category=pd.errors.SettingWithCopyWarning)"
   ]
  },
  {
   "cell_type": "code",
   "execution_count": 4,
   "metadata": {
    "execution": {
     "iopub.execute_input": "2024-09-03T21:46:35.092523Z",
     "iopub.status.busy": "2024-09-03T21:46:35.092185Z",
     "iopub.status.idle": "2024-09-03T21:46:36.239929Z",
     "shell.execute_reply": "2024-09-03T21:46:36.239332Z",
     "shell.execute_reply.started": "2024-09-03T21:46:35.092493Z"
    }
   },
   "outputs": [
    {
     "name": "stdout",
     "output_type": "stream",
     "text": [
      "Python implementation: CPython\n",
      "Python version       : 3.11.9\n",
      "IPython version      : 8.26.0\n",
      "\n",
      "Compiler    : GCC 10.2.1 20210110\n",
      "OS          : Linux\n",
      "Release     : 6.8.0-41-generic\n",
      "Machine     : x86_64\n",
      "Processor   : \n",
      "CPU cores   : 8\n",
      "Architecture: 64bit\n",
      "\n",
      "Git hash: 5831ff1cc24b1af22b0d6eac98686f23aa66d6d7\n",
      "\n",
      "Git repo: https://github.com/ysraell/random-forest-mc-utils.git\n",
      "\n",
      "Git branch: main\n",
      "\n",
      "pandas: 2.2.2\n",
      "tqdm  : 4.66.4\n",
      "numpy : 1.26.4\n",
      "\n",
      "CPU\t: Intel(R) Xeon(R) CPU E3-1241 v3 @ 3.50GHz\n",
      "Mem:            15G\n",
      "Swap:           15G\n"
     ]
    }
   ],
   "source": [
    "# Run this cell before close.\n",
    "%watermark -d --iversion -b -r -g -m -v\n",
    "!cat /proc/cpuinfo |grep 'model name'|head -n 1 |sed -e 's/model\\ name/CPU/'\n",
    "!free -h |cut -d'i' -f1  |grep -v total"
   ]
  },
  {
   "cell_type": "code",
   "execution_count": 5,
   "metadata": {
    "execution": {
     "iopub.execute_input": "2024-09-03T21:46:36.241641Z",
     "iopub.status.busy": "2024-09-03T21:46:36.241332Z",
     "iopub.status.idle": "2024-09-03T21:46:36.780595Z",
     "shell.execute_reply": "2024-09-03T21:46:36.779940Z",
     "shell.execute_reply.started": "2024-09-03T21:46:36.241620Z"
    }
   },
   "outputs": [
    {
     "name": "stdout",
     "output_type": "stream",
     "text": [
      "customer.csv\n",
      "model2_tuning_4trees_20240903_2136.json\n",
      "model_tmp__fitp_20240902_2002.json\n",
      "model_tmp_fitp_20240902_2049.json\n",
      "model_tmp_fitp_20240902_2143.json\n",
      "model_tmp_fitp_20240902_2206.json\n",
      "model_tmp_fitp_20240902_2330.json\n",
      "model_tuning_112trees_20240903_1041.json\n",
      "model_tuning_128trees_20240903_1217.json\n",
      "model_tuning_144trees_20240903_1359.json\n",
      "model_tuning_160trees_20240903_1546.json\n",
      "model_tuning_16trees_20240903_0302.json\n",
      "model_tuning_176trees_20240903_1742.json\n",
      "model_tuning_32trees_20240903_0411.json\n",
      "model_tuning_48trees_20240903_0519.json\n",
      "model_tuning_64trees_20240903_0633.json\n",
      "model_tuning_80trees_20240903_0750.json\n",
      "model_tuning_96trees_20240903_0913.json\n",
      "sample_submission.csv\n",
      "terminal.csv\n",
      "test.csv\n",
      "train.csv\n"
     ]
    }
   ],
   "source": [
    "!ls /work/tmp/nus-fintech-recruitment"
   ]
  },
  {
   "cell_type": "code",
   "execution_count": 6,
   "metadata": {
    "execution": {
     "iopub.execute_input": "2024-09-03T21:46:36.784033Z",
     "iopub.status.busy": "2024-09-03T21:46:36.782954Z",
     "iopub.status.idle": "2024-09-03T21:46:37.158032Z",
     "shell.execute_reply": "2024-09-03T21:46:37.157475Z",
     "shell.execute_reply.started": "2024-09-03T21:46:36.783948Z"
    }
   },
   "outputs": [
    {
     "data": {
      "text/html": [
       "<div>\n",
       "<style scoped>\n",
       "    .dataframe tbody tr th:only-of-type {\n",
       "        vertical-align: middle;\n",
       "    }\n",
       "\n",
       "    .dataframe tbody tr th {\n",
       "        vertical-align: top;\n",
       "    }\n",
       "\n",
       "    .dataframe thead th {\n",
       "        text-align: right;\n",
       "    }\n",
       "</style>\n",
       "<table border=\"1\" class=\"dataframe\">\n",
       "  <thead>\n",
       "    <tr style=\"text-align: right;\">\n",
       "      <th></th>\n",
       "      <th>TRANSACTION_ID</th>\n",
       "      <th>TX_DATETIME</th>\n",
       "      <th>CUSTOMER_ID</th>\n",
       "      <th>TERMINAL_ID</th>\n",
       "      <th>TX_AMOUNT</th>\n",
       "      <th>TX_FRAUD</th>\n",
       "    </tr>\n",
       "  </thead>\n",
       "  <tbody>\n",
       "    <tr>\n",
       "      <th>0</th>\n",
       "      <td>59383</td>\n",
       "      <td>2021-08-01 00:04:37</td>\n",
       "      <td>323</td>\n",
       "      <td>217</td>\n",
       "      <td>4.60</td>\n",
       "      <td>0</td>\n",
       "    </tr>\n",
       "    <tr>\n",
       "      <th>1</th>\n",
       "      <td>59384</td>\n",
       "      <td>2021-08-01 00:12:10</td>\n",
       "      <td>6</td>\n",
       "      <td>429</td>\n",
       "      <td>8.61</td>\n",
       "      <td>0</td>\n",
       "    </tr>\n",
       "    <tr>\n",
       "      <th>2</th>\n",
       "      <td>59385</td>\n",
       "      <td>2021-08-01 00:12:34</td>\n",
       "      <td>714</td>\n",
       "      <td>1011</td>\n",
       "      <td>64.00</td>\n",
       "      <td>0</td>\n",
       "    </tr>\n",
       "    <tr>\n",
       "      <th>3</th>\n",
       "      <td>59386</td>\n",
       "      <td>2021-08-01 00:15:40</td>\n",
       "      <td>266</td>\n",
       "      <td>1969</td>\n",
       "      <td>12.72</td>\n",
       "      <td>0</td>\n",
       "    </tr>\n",
       "    <tr>\n",
       "      <th>4</th>\n",
       "      <td>59387</td>\n",
       "      <td>2021-08-01 00:16:01</td>\n",
       "      <td>890</td>\n",
       "      <td>1482</td>\n",
       "      <td>98.88</td>\n",
       "      <td>0</td>\n",
       "    </tr>\n",
       "    <tr>\n",
       "      <th>...</th>\n",
       "      <td>...</td>\n",
       "      <td>...</td>\n",
       "      <td>...</td>\n",
       "      <td>...</td>\n",
       "      <td>...</td>\n",
       "      <td>...</td>\n",
       "    </tr>\n",
       "    <tr>\n",
       "      <th>291226</th>\n",
       "      <td>350609</td>\n",
       "      <td>2021-12-30 23:33:02</td>\n",
       "      <td>221</td>\n",
       "      <td>41</td>\n",
       "      <td>61.26</td>\n",
       "      <td>0</td>\n",
       "    </tr>\n",
       "    <tr>\n",
       "      <th>291227</th>\n",
       "      <td>350610</td>\n",
       "      <td>2021-12-30 23:46:15</td>\n",
       "      <td>101</td>\n",
       "      <td>761</td>\n",
       "      <td>58.80</td>\n",
       "      <td>0</td>\n",
       "    </tr>\n",
       "    <tr>\n",
       "      <th>291228</th>\n",
       "      <td>350611</td>\n",
       "      <td>2021-12-30 23:54:38</td>\n",
       "      <td>7</td>\n",
       "      <td>1991</td>\n",
       "      <td>15.08</td>\n",
       "      <td>0</td>\n",
       "    </tr>\n",
       "    <tr>\n",
       "      <th>291229</th>\n",
       "      <td>350612</td>\n",
       "      <td>2021-12-30 23:56:36</td>\n",
       "      <td>161</td>\n",
       "      <td>1166</td>\n",
       "      <td>54.24</td>\n",
       "      <td>0</td>\n",
       "    </tr>\n",
       "    <tr>\n",
       "      <th>291230</th>\n",
       "      <td>350613</td>\n",
       "      <td>2021-12-30 23:58:21</td>\n",
       "      <td>618</td>\n",
       "      <td>1549</td>\n",
       "      <td>6.62</td>\n",
       "      <td>0</td>\n",
       "    </tr>\n",
       "  </tbody>\n",
       "</table>\n",
       "<p>291231 rows × 6 columns</p>\n",
       "</div>"
      ],
      "text/plain": [
       "        TRANSACTION_ID          TX_DATETIME  CUSTOMER_ID  TERMINAL_ID  \\\n",
       "0                59383  2021-08-01 00:04:37          323          217   \n",
       "1                59384  2021-08-01 00:12:10            6          429   \n",
       "2                59385  2021-08-01 00:12:34          714         1011   \n",
       "3                59386  2021-08-01 00:15:40          266         1969   \n",
       "4                59387  2021-08-01 00:16:01          890         1482   \n",
       "...                ...                  ...          ...          ...   \n",
       "291226          350609  2021-12-30 23:33:02          221           41   \n",
       "291227          350610  2021-12-30 23:46:15          101          761   \n",
       "291228          350611  2021-12-30 23:54:38            7         1991   \n",
       "291229          350612  2021-12-30 23:56:36          161         1166   \n",
       "291230          350613  2021-12-30 23:58:21          618         1549   \n",
       "\n",
       "        TX_AMOUNT  TX_FRAUD  \n",
       "0            4.60         0  \n",
       "1            8.61         0  \n",
       "2           64.00         0  \n",
       "3           12.72         0  \n",
       "4           98.88         0  \n",
       "...           ...       ...  \n",
       "291226      61.26         0  \n",
       "291227      58.80         0  \n",
       "291228      15.08         0  \n",
       "291229      54.24         0  \n",
       "291230       6.62         0  \n",
       "\n",
       "[291231 rows x 6 columns]"
      ]
     },
     "execution_count": 6,
     "metadata": {},
     "output_type": "execute_result"
    }
   ],
   "source": [
    "df = pd.read_csv('/work/tmp/nus-fintech-recruitment/train.csv')\n",
    "df"
   ]
  },
  {
   "cell_type": "code",
   "execution_count": 7,
   "metadata": {
    "execution": {
     "iopub.execute_input": "2024-09-03T21:46:37.159737Z",
     "iopub.status.busy": "2024-09-03T21:46:37.159451Z",
     "iopub.status.idle": "2024-09-03T21:46:37.200878Z",
     "shell.execute_reply": "2024-09-03T21:46:37.200299Z",
     "shell.execute_reply.started": "2024-09-03T21:46:37.159713Z"
    }
   },
   "outputs": [
    {
     "data": {
      "text/plain": [
       "('2021-08-01 00:04:37', '2021-12-30 23:58:21')"
      ]
     },
     "execution_count": 7,
     "metadata": {},
     "output_type": "execute_result"
    }
   ],
   "source": [
    "df.TX_DATETIME.min(), df.TX_DATETIME.max()"
   ]
  },
  {
   "cell_type": "code",
   "execution_count": 8,
   "metadata": {
    "execution": {
     "iopub.execute_input": "2024-09-03T21:46:37.202352Z",
     "iopub.status.busy": "2024-09-03T21:46:37.201737Z",
     "iopub.status.idle": "2024-09-03T21:46:37.276577Z",
     "shell.execute_reply": "2024-09-03T21:46:37.276097Z",
     "shell.execute_reply.started": "2024-09-03T21:46:37.202314Z"
    }
   },
   "outputs": [],
   "source": [
    "df.TX_DATETIME = pd.to_datetime(df.TX_DATETIME)"
   ]
  },
  {
   "cell_type": "code",
   "execution_count": 9,
   "metadata": {
    "execution": {
     "iopub.execute_input": "2024-09-03T21:46:37.546180Z",
     "iopub.status.busy": "2024-09-03T21:46:37.545933Z",
     "iopub.status.idle": "2024-09-03T21:46:39.167216Z",
     "shell.execute_reply": "2024-09-03T21:46:39.166759Z",
     "shell.execute_reply.started": "2024-09-03T21:46:37.546160Z"
    }
   },
   "outputs": [],
   "source": [
    "df['DAY'] = df.TX_DATETIME.apply(lambda x: x.day)\n",
    "df['DAYOFWEEK'] = df.TX_DATETIME.apply(lambda x: x.dayofweek)\n",
    "df['HOUR'] = df.TX_DATETIME.apply(lambda x: x.hour)\n",
    "df['MINUTE'] = df.TX_DATETIME.apply(lambda x: x.minute)"
   ]
  },
  {
   "cell_type": "code",
   "execution_count": 10,
   "metadata": {
    "execution": {
     "iopub.execute_input": "2024-09-03T21:46:39.168310Z",
     "iopub.status.busy": "2024-09-03T21:46:39.168113Z",
     "iopub.status.idle": "2024-09-03T21:46:39.173243Z",
     "shell.execute_reply": "2024-09-03T21:46:39.172703Z",
     "shell.execute_reply.started": "2024-09-03T21:46:39.168294Z"
    }
   },
   "outputs": [
    {
     "data": {
      "text/plain": [
       "Index(['TRANSACTION_ID', 'TX_DATETIME', 'CUSTOMER_ID', 'TERMINAL_ID',\n",
       "       'TX_AMOUNT', 'TX_FRAUD', 'DAY', 'DAYOFWEEK', 'HOUR', 'MINUTE'],\n",
       "      dtype='object')"
      ]
     },
     "execution_count": 10,
     "metadata": {},
     "output_type": "execute_result"
    }
   ],
   "source": [
    "df.columns"
   ]
  },
  {
   "cell_type": "code",
   "execution_count": 11,
   "metadata": {
    "execution": {
     "iopub.execute_input": "2024-09-03T21:46:39.174141Z",
     "iopub.status.busy": "2024-09-03T21:46:39.173973Z",
     "iopub.status.idle": "2024-09-03T21:46:39.198765Z",
     "shell.execute_reply": "2024-09-03T21:46:39.198185Z",
     "shell.execute_reply.started": "2024-09-03T21:46:39.174126Z"
    }
   },
   "outputs": [
    {
     "data": {
      "text/html": [
       "<div>\n",
       "<style scoped>\n",
       "    .dataframe tbody tr th:only-of-type {\n",
       "        vertical-align: middle;\n",
       "    }\n",
       "\n",
       "    .dataframe tbody tr th {\n",
       "        vertical-align: top;\n",
       "    }\n",
       "\n",
       "    .dataframe thead th {\n",
       "        text-align: right;\n",
       "    }\n",
       "</style>\n",
       "<table border=\"1\" class=\"dataframe\">\n",
       "  <thead>\n",
       "    <tr style=\"text-align: right;\">\n",
       "      <th></th>\n",
       "      <th>CUSTOMER_ID</th>\n",
       "      <th>TERMINAL_ID</th>\n",
       "      <th>TX_AMOUNT</th>\n",
       "      <th>DAY</th>\n",
       "      <th>DAYOFWEEK</th>\n",
       "      <th>HOUR</th>\n",
       "      <th>MINUTE</th>\n",
       "      <th>TX_FRAUD</th>\n",
       "    </tr>\n",
       "  </thead>\n",
       "  <tbody>\n",
       "    <tr>\n",
       "      <th>0</th>\n",
       "      <td>323</td>\n",
       "      <td>217</td>\n",
       "      <td>4.60</td>\n",
       "      <td>1</td>\n",
       "      <td>6</td>\n",
       "      <td>0</td>\n",
       "      <td>4</td>\n",
       "      <td>0</td>\n",
       "    </tr>\n",
       "    <tr>\n",
       "      <th>1</th>\n",
       "      <td>6</td>\n",
       "      <td>429</td>\n",
       "      <td>8.61</td>\n",
       "      <td>1</td>\n",
       "      <td>6</td>\n",
       "      <td>0</td>\n",
       "      <td>12</td>\n",
       "      <td>0</td>\n",
       "    </tr>\n",
       "    <tr>\n",
       "      <th>2</th>\n",
       "      <td>714</td>\n",
       "      <td>1011</td>\n",
       "      <td>64.00</td>\n",
       "      <td>1</td>\n",
       "      <td>6</td>\n",
       "      <td>0</td>\n",
       "      <td>12</td>\n",
       "      <td>0</td>\n",
       "    </tr>\n",
       "    <tr>\n",
       "      <th>3</th>\n",
       "      <td>266</td>\n",
       "      <td>1969</td>\n",
       "      <td>12.72</td>\n",
       "      <td>1</td>\n",
       "      <td>6</td>\n",
       "      <td>0</td>\n",
       "      <td>15</td>\n",
       "      <td>0</td>\n",
       "    </tr>\n",
       "    <tr>\n",
       "      <th>4</th>\n",
       "      <td>890</td>\n",
       "      <td>1482</td>\n",
       "      <td>98.88</td>\n",
       "      <td>1</td>\n",
       "      <td>6</td>\n",
       "      <td>0</td>\n",
       "      <td>16</td>\n",
       "      <td>0</td>\n",
       "    </tr>\n",
       "    <tr>\n",
       "      <th>...</th>\n",
       "      <td>...</td>\n",
       "      <td>...</td>\n",
       "      <td>...</td>\n",
       "      <td>...</td>\n",
       "      <td>...</td>\n",
       "      <td>...</td>\n",
       "      <td>...</td>\n",
       "      <td>...</td>\n",
       "    </tr>\n",
       "    <tr>\n",
       "      <th>291226</th>\n",
       "      <td>221</td>\n",
       "      <td>41</td>\n",
       "      <td>61.26</td>\n",
       "      <td>30</td>\n",
       "      <td>3</td>\n",
       "      <td>23</td>\n",
       "      <td>33</td>\n",
       "      <td>0</td>\n",
       "    </tr>\n",
       "    <tr>\n",
       "      <th>291227</th>\n",
       "      <td>101</td>\n",
       "      <td>761</td>\n",
       "      <td>58.80</td>\n",
       "      <td>30</td>\n",
       "      <td>3</td>\n",
       "      <td>23</td>\n",
       "      <td>46</td>\n",
       "      <td>0</td>\n",
       "    </tr>\n",
       "    <tr>\n",
       "      <th>291228</th>\n",
       "      <td>7</td>\n",
       "      <td>1991</td>\n",
       "      <td>15.08</td>\n",
       "      <td>30</td>\n",
       "      <td>3</td>\n",
       "      <td>23</td>\n",
       "      <td>54</td>\n",
       "      <td>0</td>\n",
       "    </tr>\n",
       "    <tr>\n",
       "      <th>291229</th>\n",
       "      <td>161</td>\n",
       "      <td>1166</td>\n",
       "      <td>54.24</td>\n",
       "      <td>30</td>\n",
       "      <td>3</td>\n",
       "      <td>23</td>\n",
       "      <td>56</td>\n",
       "      <td>0</td>\n",
       "    </tr>\n",
       "    <tr>\n",
       "      <th>291230</th>\n",
       "      <td>618</td>\n",
       "      <td>1549</td>\n",
       "      <td>6.62</td>\n",
       "      <td>30</td>\n",
       "      <td>3</td>\n",
       "      <td>23</td>\n",
       "      <td>58</td>\n",
       "      <td>0</td>\n",
       "    </tr>\n",
       "  </tbody>\n",
       "</table>\n",
       "<p>291231 rows × 8 columns</p>\n",
       "</div>"
      ],
      "text/plain": [
       "        CUSTOMER_ID  TERMINAL_ID  TX_AMOUNT  DAY  DAYOFWEEK  HOUR  MINUTE  \\\n",
       "0               323          217       4.60    1          6     0       4   \n",
       "1                 6          429       8.61    1          6     0      12   \n",
       "2               714         1011      64.00    1          6     0      12   \n",
       "3               266         1969      12.72    1          6     0      15   \n",
       "4               890         1482      98.88    1          6     0      16   \n",
       "...             ...          ...        ...  ...        ...   ...     ...   \n",
       "291226          221           41      61.26   30          3    23      33   \n",
       "291227          101          761      58.80   30          3    23      46   \n",
       "291228            7         1991      15.08   30          3    23      54   \n",
       "291229          161         1166      54.24   30          3    23      56   \n",
       "291230          618         1549       6.62   30          3    23      58   \n",
       "\n",
       "        TX_FRAUD  \n",
       "0              0  \n",
       "1              0  \n",
       "2              0  \n",
       "3              0  \n",
       "4              0  \n",
       "...          ...  \n",
       "291226         0  \n",
       "291227         0  \n",
       "291228         0  \n",
       "291229         0  \n",
       "291230         0  \n",
       "\n",
       "[291231 rows x 8 columns]"
      ]
     },
     "execution_count": 11,
     "metadata": {},
     "output_type": "execute_result"
    }
   ],
   "source": [
    "feat_cols = ['CUSTOMER_ID', 'TERMINAL_ID','TX_AMOUNT', 'DAY', 'DAYOFWEEK', 'HOUR', 'MINUTE']\n",
    "target_col = 'TX_FRAUD'\n",
    "df = df[feat_cols + [target_col]]\n",
    "df"
   ]
  },
  {
   "cell_type": "code",
   "execution_count": 12,
   "metadata": {
    "execution": {
     "iopub.execute_input": "2024-09-03T21:46:39.200753Z",
     "iopub.status.busy": "2024-09-03T21:46:39.200443Z",
     "iopub.status.idle": "2024-09-03T21:46:39.618318Z",
     "shell.execute_reply": "2024-09-03T21:46:39.617796Z",
     "shell.execute_reply.started": "2024-09-03T21:46:39.200726Z"
    }
   },
   "outputs": [
    {
     "data": {
      "text/plain": [
       "CUSTOMER_ID     object\n",
       "TERMINAL_ID     object\n",
       "TX_AMOUNT      float64\n",
       "DAY             object\n",
       "DAYOFWEEK       object\n",
       "HOUR            object\n",
       "MINUTE          object\n",
       "TX_FRAUD        object\n",
       "dtype: object"
      ]
     },
     "execution_count": 12,
     "metadata": {},
     "output_type": "execute_result"
    }
   ],
   "source": [
    "for col in ['CUSTOMER_ID', 'TERMINAL_ID','TX_FRAUD', 'DAY', 'DAYOFWEEK', 'HOUR', 'MINUTE']:\n",
    "    df[col] = df[col].astype(str)\n",
    "df.dtypes"
   ]
  },
  {
   "cell_type": "code",
   "execution_count": 13,
   "metadata": {
    "execution": {
     "iopub.execute_input": "2024-09-03T21:46:39.619734Z",
     "iopub.status.busy": "2024-09-03T21:46:39.619561Z",
     "iopub.status.idle": "2024-09-03T21:46:39.647213Z",
     "shell.execute_reply": "2024-09-03T21:46:39.646574Z",
     "shell.execute_reply.started": "2024-09-03T21:46:39.619710Z"
    }
   },
   "outputs": [
    {
     "data": {
      "text/plain": [
       "TX_FRAUD\n",
       "0    284649\n",
       "1      6582\n",
       "Name: count, dtype: int64"
      ]
     },
     "execution_count": 13,
     "metadata": {},
     "output_type": "execute_result"
    }
   ],
   "source": [
    "df['TX_FRAUD'].value_counts()"
   ]
  },
  {
   "cell_type": "code",
   "execution_count": 14,
   "metadata": {
    "execution": {
     "iopub.execute_input": "2024-09-02T20:30:52.946694Z",
     "iopub.status.busy": "2024-09-02T20:30:52.946491Z",
     "iopub.status.idle": "2024-09-02T20:30:52.953407Z",
     "shell.execute_reply": "2024-09-02T20:30:52.952876Z",
     "shell.execute_reply.started": "2024-09-02T20:30:52.946680Z"
    }
   },
   "outputs": [
    {
     "data": {
      "text/plain": [
       "RandomForestMC(len(Forest)=0,n_trees=32,model_version=1.1.2,module_version=1.1.2)"
      ]
     },
     "execution_count": 14,
     "metadata": {},
     "output_type": "execute_result"
    }
   ],
   "source": [
    "batch_train_pclass = 1000\n",
    "batch_val_pclass = 2*batch_train_pclass\n",
    "max_depth = 2*(len(feat_cols) + 1)\n",
    "n_trees = 32\n",
    "max_discard_trees = 2*n_trees\n",
    "\n",
    "cls = RandomForestMC(\n",
    "    n_trees=n_trees, \n",
    "    target_col=target_col, \n",
    "    max_discard_trees=max_discard_trees,\n",
    "    batch_train_pclass=batch_train_pclass,\n",
    "    batch_val_pclass=batch_val_pclass,\n",
    "    max_depth=max_depth\n",
    ")\n",
    "cls"
   ]
  },
  {
   "cell_type": "code",
   "execution_count": 69,
   "metadata": {
    "execution": {
     "iopub.execute_input": "2024-09-03T01:23:05.313525Z",
     "iopub.status.busy": "2024-09-03T01:23:05.310762Z",
     "iopub.status.idle": "2024-09-03T01:23:05.327078Z",
     "shell.execute_reply": "2024-09-03T01:23:05.323666Z",
     "shell.execute_reply.started": "2024-09-03T01:23:05.313360Z"
    }
   },
   "outputs": [],
   "source": [
    "cpu_cores = 4\n",
    "max_workers = 2*cpu_cores"
   ]
  },
  {
   "cell_type": "code",
   "execution_count": 25,
   "metadata": {
    "execution": {
     "iopub.execute_input": "2024-09-02T23:13:54.204903Z",
     "iopub.status.busy": "2024-09-02T23:13:54.204582Z",
     "iopub.status.idle": "2024-09-02T23:30:18.507182Z",
     "shell.execute_reply": "2024-09-02T23:30:18.506614Z",
     "shell.execute_reply.started": "2024-09-02T23:13:54.204879Z"
    }
   },
   "outputs": [
    {
     "name": "stderr",
     "output_type": "stream",
     "text": [
      "/usr/local/lib/python3.11/site-packages/random_forest_mc/model.py:494: SettingWithCopyWarning: \n",
      "A value is trying to be set on a copy of a slice from a DataFrame.\n",
      "Try using .loc[row_indexer,col_indexer] = value instead\n",
      "\n",
      "See the caveats in the documentation: https://pandas.pydata.org/pandas-docs/stable/user_guide/indexing.html#returning-a-view-versus-a-copy\n",
      "  dataset[self.target_col] = dataset[self.target_col].astype(str)\n"
     ]
    },
    {
     "data": {
      "application/vnd.jupyter.widget-view+json": {
       "model_id": "045ac192f8ae499a9368ca90268913eb",
       "version_major": 2,
       "version_minor": 0
      },
      "text/plain": [
       "Planting the forest:   0%|          | 0/32 [00:00<?, ?it/s]"
      ]
     },
     "metadata": {},
     "output_type": "display_data"
    }
   ],
   "source": [
    "cls.fitParallel(dataset=df, max_workers=max_workers)"
   ]
  },
  {
   "cell_type": "code",
   "execution_count": 26,
   "metadata": {
    "execution": {
     "iopub.execute_input": "2024-09-02T23:30:18.508751Z",
     "iopub.status.busy": "2024-09-02T23:30:18.508438Z",
     "iopub.status.idle": "2024-09-02T23:30:19.687220Z",
     "shell.execute_reply": "2024-09-02T23:30:19.686751Z",
     "shell.execute_reply.started": "2024-09-02T23:30:18.508728Z"
    }
   },
   "outputs": [],
   "source": [
    "ModelDict = cls.model2dict()\n",
    "datetime_tag = datetime.now().strftime('%Y%m%d_%H%M')\n",
    "path_dict = f'/work/tmp/nus-fintech-recruitment/model_tmp_fitp_{datetime_tag}.json'\n",
    "dump_file_json(path_dict, ModelDict)\n",
    "del ModelDict"
   ]
  },
  {
   "cell_type": "code",
   "execution_count": 27,
   "metadata": {
    "execution": {
     "iopub.execute_input": "2024-09-02T23:32:13.386019Z",
     "iopub.status.busy": "2024-09-02T23:32:13.385642Z",
     "iopub.status.idle": "2024-09-02T23:32:13.390835Z",
     "shell.execute_reply": "2024-09-02T23:32:13.390172Z",
     "shell.execute_reply.started": "2024-09-02T23:32:13.385996Z"
    }
   },
   "outputs": [
    {
     "data": {
      "text/plain": [
       "RandomForestMC(len(Forest)=160,n_trees=32,model_version=1.1.2,module_version=1.1.2)"
      ]
     },
     "execution_count": 27,
     "metadata": {},
     "output_type": "execute_result"
    }
   ],
   "source": [
    "cls"
   ]
  },
  {
   "cell_type": "code",
   "execution_count": 66,
   "metadata": {
    "execution": {
     "iopub.execute_input": "2024-09-03T01:18:19.873229Z",
     "iopub.status.busy": "2024-09-03T01:18:19.871893Z",
     "iopub.status.idle": "2024-09-03T01:18:19.898888Z",
     "shell.execute_reply": "2024-09-03T01:18:19.895919Z",
     "shell.execute_reply.started": "2024-09-03T01:18:19.873100Z"
    }
   },
   "outputs": [
    {
     "data": {
      "text/plain": [
       "(2.7625, 0.9841716059712351, 2, 6)"
      ]
     },
     "execution_count": 66,
     "metadata": {},
     "output_type": "execute_result"
    }
   ],
   "source": [
    "fc_stars, fc_list = cls.featCount()\n",
    "fc_stars"
   ]
  },
  {
   "cell_type": "code",
   "execution_count": 67,
   "metadata": {
    "execution": {
     "iopub.execute_input": "2024-09-03T01:18:23.832181Z",
     "iopub.status.busy": "2024-09-03T01:18:23.830979Z",
     "iopub.status.idle": "2024-09-03T01:18:23.853530Z",
     "shell.execute_reply": "2024-09-03T01:18:23.851093Z",
     "shell.execute_reply.started": "2024-09-03T01:18:23.832062Z"
    }
   },
   "outputs": [
    {
     "data": {
      "text/plain": [
       "[(2, 81), (3, 51), (4, 18), (5, 5), (6, 5)]"
      ]
     },
     "execution_count": 67,
     "metadata": {},
     "output_type": "execute_result"
    }
   ],
   "source": [
    "Counter(fc_list).most_common()"
   ]
  },
  {
   "cell_type": "code",
   "execution_count": 30,
   "metadata": {
    "execution": {
     "iopub.execute_input": "2024-09-02T23:34:40.561214Z",
     "iopub.status.busy": "2024-09-02T23:34:40.560366Z",
     "iopub.status.idle": "2024-09-02T23:34:43.007749Z",
     "shell.execute_reply": "2024-09-02T23:34:43.006922Z",
     "shell.execute_reply.started": "2024-09-02T23:34:40.561104Z"
    }
   },
   "outputs": [
    {
     "name": "stderr",
     "output_type": "stream",
     "text": [
      "Counting pair occurences: 100%|██████████| 160/160 [00:01<00:00, 82.08it/s]\n"
     ]
    },
    {
     "data": {
      "text/html": [
       "<div>\n",
       "<style scoped>\n",
       "    .dataframe tbody tr th:only-of-type {\n",
       "        vertical-align: middle;\n",
       "    }\n",
       "\n",
       "    .dataframe tbody tr th {\n",
       "        vertical-align: top;\n",
       "    }\n",
       "\n",
       "    .dataframe thead th {\n",
       "        text-align: right;\n",
       "    }\n",
       "</style>\n",
       "<table border=\"1\" class=\"dataframe\">\n",
       "  <thead>\n",
       "    <tr style=\"text-align: right;\">\n",
       "      <th></th>\n",
       "      <th>CUSTOMER_ID</th>\n",
       "      <th>TERMINAL_ID</th>\n",
       "      <th>TX_AMOUNT</th>\n",
       "      <th>DAY</th>\n",
       "      <th>DAYOFWEEK</th>\n",
       "      <th>HOUR</th>\n",
       "      <th>MINUTE</th>\n",
       "    </tr>\n",
       "  </thead>\n",
       "  <tbody>\n",
       "    <tr>\n",
       "      <th>CUSTOMER_ID</th>\n",
       "      <td>0.987305</td>\n",
       "      <td>0.575195</td>\n",
       "      <td>0.068726</td>\n",
       "      <td>0.412598</td>\n",
       "      <td>0.606445</td>\n",
       "      <td>0.024994</td>\n",
       "      <td>0.062500</td>\n",
       "    </tr>\n",
       "    <tr>\n",
       "      <th>TERMINAL_ID</th>\n",
       "      <td>0.575195</td>\n",
       "      <td>0.587402</td>\n",
       "      <td>0.062500</td>\n",
       "      <td>0.256348</td>\n",
       "      <td>0.218750</td>\n",
       "      <td>0.024994</td>\n",
       "      <td>0.056244</td>\n",
       "    </tr>\n",
       "    <tr>\n",
       "      <th>TX_AMOUNT</th>\n",
       "      <td>0.068726</td>\n",
       "      <td>0.062500</td>\n",
       "      <td>0.068726</td>\n",
       "      <td>0.056244</td>\n",
       "      <td>0.049988</td>\n",
       "      <td>0.024994</td>\n",
       "      <td>0.012497</td>\n",
       "    </tr>\n",
       "    <tr>\n",
       "      <th>DAY</th>\n",
       "      <td>0.412598</td>\n",
       "      <td>0.256348</td>\n",
       "      <td>0.056244</td>\n",
       "      <td>0.412598</td>\n",
       "      <td>0.293701</td>\n",
       "      <td>0.018753</td>\n",
       "      <td>0.031250</td>\n",
       "    </tr>\n",
       "    <tr>\n",
       "      <th>DAYOFWEEK</th>\n",
       "      <td>0.606445</td>\n",
       "      <td>0.218750</td>\n",
       "      <td>0.049988</td>\n",
       "      <td>0.293701</td>\n",
       "      <td>0.612305</td>\n",
       "      <td>0.024994</td>\n",
       "      <td>0.037506</td>\n",
       "    </tr>\n",
       "    <tr>\n",
       "      <th>HOUR</th>\n",
       "      <td>0.024994</td>\n",
       "      <td>0.024994</td>\n",
       "      <td>0.024994</td>\n",
       "      <td>0.018753</td>\n",
       "      <td>0.024994</td>\n",
       "      <td>0.024994</td>\n",
       "      <td>0.000000</td>\n",
       "    </tr>\n",
       "    <tr>\n",
       "      <th>MINUTE</th>\n",
       "      <td>0.062500</td>\n",
       "      <td>0.056244</td>\n",
       "      <td>0.012497</td>\n",
       "      <td>0.031250</td>\n",
       "      <td>0.037506</td>\n",
       "      <td>0.000000</td>\n",
       "      <td>0.068726</td>\n",
       "    </tr>\n",
       "  </tbody>\n",
       "</table>\n",
       "</div>"
      ],
      "text/plain": [
       "             CUSTOMER_ID  TERMINAL_ID  TX_AMOUNT       DAY  DAYOFWEEK  \\\n",
       "CUSTOMER_ID     0.987305     0.575195   0.068726  0.412598   0.606445   \n",
       "TERMINAL_ID     0.575195     0.587402   0.062500  0.256348   0.218750   \n",
       "TX_AMOUNT       0.068726     0.062500   0.068726  0.056244   0.049988   \n",
       "DAY             0.412598     0.256348   0.056244  0.412598   0.293701   \n",
       "DAYOFWEEK       0.606445     0.218750   0.049988  0.293701   0.612305   \n",
       "HOUR            0.024994     0.024994   0.024994  0.018753   0.024994   \n",
       "MINUTE          0.062500     0.056244   0.012497  0.031250   0.037506   \n",
       "\n",
       "                 HOUR    MINUTE  \n",
       "CUSTOMER_ID  0.024994  0.062500  \n",
       "TERMINAL_ID  0.024994  0.056244  \n",
       "TX_AMOUNT    0.024994  0.012497  \n",
       "DAY          0.018753  0.031250  \n",
       "DAYOFWEEK    0.024994  0.037506  \n",
       "HOUR         0.024994  0.000000  \n",
       "MINUTE       0.000000  0.068726  "
      ]
     },
     "execution_count": 30,
     "metadata": {},
     "output_type": "execute_result"
    }
   ],
   "source": [
    "df_featCorr = cls.featCorrDataFrame()\n",
    "df_featCorr"
   ]
  },
  {
   "cell_type": "code",
   "execution_count": 31,
   "metadata": {
    "execution": {
     "iopub.execute_input": "2024-09-02T23:35:36.646498Z",
     "iopub.status.busy": "2024-09-02T23:35:36.645656Z",
     "iopub.status.idle": "2024-09-02T23:35:38.647017Z",
     "shell.execute_reply": "2024-09-02T23:35:38.646205Z",
     "shell.execute_reply.started": "2024-09-02T23:35:36.646456Z"
    }
   },
   "outputs": [
    {
     "name": "stderr",
     "output_type": "stream",
     "text": [
      "Counting pair occurences: 100%|██████████| 160/160 [00:01<00:00, 80.27it/s]\n"
     ]
    },
    {
     "data": {
      "text/plain": [
       "{('CUSTOMER_ID', 'TERMINAL_ID'): 0.574999999999999,\n",
       " ('CUSTOMER_ID', 'TX_AMOUNT'): 0.06874999999999999,\n",
       " ('CUSTOMER_ID', 'DAY'): 0.41249999999999953,\n",
       " ('CUSTOMER_ID', 'DAYOFWEEK'): 0.6062499999999988,\n",
       " ('CUSTOMER_ID', 'HOUR'): 0.025,\n",
       " ('CUSTOMER_ID', 'MINUTE'): 0.06249999999999999,\n",
       " ('TERMINAL_ID', 'TX_AMOUNT'): 0.06249999999999999,\n",
       " ('TERMINAL_ID', 'DAY'): 0.2562500000000001,\n",
       " ('TERMINAL_ID', 'DAYOFWEEK'): 0.2187500000000001,\n",
       " ('TERMINAL_ID', 'HOUR'): 0.025,\n",
       " ('TERMINAL_ID', 'MINUTE'): 0.056249999999999994,\n",
       " ('TX_AMOUNT', 'DAY'): 0.056249999999999994,\n",
       " ('TX_AMOUNT', 'DAYOFWEEK'): 0.049999999999999996,\n",
       " ('TX_AMOUNT', 'HOUR'): 0.025,\n",
       " ('TX_AMOUNT', 'MINUTE'): 0.0125,\n",
       " ('DAY', 'DAYOFWEEK'): 0.29374999999999996,\n",
       " ('DAY', 'HOUR'): 0.018750000000000003,\n",
       " ('DAY', 'MINUTE'): 0.03125,\n",
       " ('DAYOFWEEK', 'HOUR'): 0.025,\n",
       " ('DAYOFWEEK', 'MINUTE'): 0.0375,\n",
       " ('HOUR', 'MINUTE'): 0.0}"
      ]
     },
     "execution_count": 31,
     "metadata": {},
     "output_type": "execute_result"
    }
   ],
   "source": [
    "fetPairImp = cls.featPairImportance()\n",
    "fetPairImp"
   ]
  },
  {
   "cell_type": "code",
   "execution_count": 34,
   "metadata": {
    "execution": {
     "iopub.execute_input": "2024-09-02T23:37:33.312231Z",
     "iopub.status.busy": "2024-09-02T23:37:33.311781Z",
     "iopub.status.idle": "2024-09-02T23:37:33.322515Z",
     "shell.execute_reply": "2024-09-02T23:37:33.321137Z",
     "shell.execute_reply.started": "2024-09-02T23:37:33.312192Z"
    }
   },
   "outputs": [
    {
     "data": {
      "text/plain": [
       "[(('CUSTOMER_ID', 'DAYOFWEEK'), 0.6062499999999988),\n",
       " (('CUSTOMER_ID', 'TERMINAL_ID'), 0.574999999999999),\n",
       " (('CUSTOMER_ID', 'DAY'), 0.41249999999999953),\n",
       " (('DAY', 'DAYOFWEEK'), 0.29374999999999996),\n",
       " (('TERMINAL_ID', 'DAY'), 0.2562500000000001),\n",
       " (('TERMINAL_ID', 'DAYOFWEEK'), 0.2187500000000001),\n",
       " (('CUSTOMER_ID', 'TX_AMOUNT'), 0.06874999999999999),\n",
       " (('CUSTOMER_ID', 'MINUTE'), 0.06249999999999999),\n",
       " (('TERMINAL_ID', 'TX_AMOUNT'), 0.06249999999999999),\n",
       " (('TERMINAL_ID', 'MINUTE'), 0.056249999999999994),\n",
       " (('TX_AMOUNT', 'DAY'), 0.056249999999999994),\n",
       " (('TX_AMOUNT', 'DAYOFWEEK'), 0.049999999999999996),\n",
       " (('DAYOFWEEK', 'MINUTE'), 0.0375),\n",
       " (('DAY', 'MINUTE'), 0.03125),\n",
       " (('CUSTOMER_ID', 'HOUR'), 0.025),\n",
       " (('TERMINAL_ID', 'HOUR'), 0.025),\n",
       " (('TX_AMOUNT', 'HOUR'), 0.025),\n",
       " (('DAYOFWEEK', 'HOUR'), 0.025),\n",
       " (('DAY', 'HOUR'), 0.018750000000000003),\n",
       " (('TX_AMOUNT', 'MINUTE'), 0.0125),\n",
       " (('HOUR', 'MINUTE'), 0.0)]"
      ]
     },
     "execution_count": 34,
     "metadata": {},
     "output_type": "execute_result"
    }
   ],
   "source": [
    "sorted(fetPairImp.items(), key=lambda x: x[1], reverse=True)"
   ]
  },
  {
   "cell_type": "markdown",
   "metadata": {
    "execution": {
     "iopub.execute_input": "2024-09-02T23:42:24.689705Z",
     "iopub.status.busy": "2024-09-02T23:42:24.687844Z",
     "iopub.status.idle": "2024-09-02T23:42:24.702016Z",
     "shell.execute_reply": "2024-09-02T23:42:24.699331Z",
     "shell.execute_reply.started": "2024-09-02T23:42:24.689582Z"
    }
   },
   "source": [
    "# Frist prediction (with train data)"
   ]
  },
  {
   "cell_type": "code",
   "execution_count": 36,
   "metadata": {
    "execution": {
     "iopub.execute_input": "2024-09-02T23:43:32.204916Z",
     "iopub.status.busy": "2024-09-02T23:43:32.203679Z",
     "iopub.status.idle": "2024-09-02T23:43:32.233233Z",
     "shell.execute_reply": "2024-09-02T23:43:32.232408Z",
     "shell.execute_reply.started": "2024-09-02T23:43:32.204827Z"
    }
   },
   "outputs": [
    {
     "data": {
      "text/plain": [
       "['0', '0', '0', '0', '0', '0', '0', '0', '1', '0']"
      ]
     },
     "execution_count": 36,
     "metadata": {},
     "output_type": "execute_result"
    }
   ],
   "source": [
    "y_test = df[target_col].to_list()\n",
    "y_test[:10]"
   ]
  },
  {
   "cell_type": "markdown",
   "metadata": {},
   "source": [
    "### Hard voting, no weighted"
   ]
  },
  {
   "cell_type": "code",
   "execution_count": 38,
   "metadata": {
    "execution": {
     "iopub.execute_input": "2024-09-02T23:44:41.572457Z",
     "iopub.status.busy": "2024-09-02T23:44:41.572140Z",
     "iopub.status.idle": "2024-09-03T00:14:22.190594Z",
     "shell.execute_reply": "2024-09-03T00:14:22.190099Z",
     "shell.execute_reply.started": "2024-09-02T23:44:41.572432Z"
    }
   },
   "outputs": [],
   "source": [
    "y_pred_hard = cls.testForest(df)"
   ]
  },
  {
   "cell_type": "code",
   "execution_count": 61,
   "metadata": {
    "execution": {
     "iopub.execute_input": "2024-09-03T00:39:22.726324Z",
     "iopub.status.busy": "2024-09-03T00:39:22.725975Z",
     "iopub.status.idle": "2024-09-03T00:39:22.746996Z",
     "shell.execute_reply": "2024-09-03T00:39:22.746349Z",
     "shell.execute_reply.started": "2024-09-03T00:39:22.726296Z"
    }
   },
   "outputs": [
    {
     "data": {
      "text/plain": [
       "0.9742369459295198"
      ]
     },
     "execution_count": 61,
     "metadata": {},
     "output_type": "execute_result"
    }
   ],
   "source": [
    "accuracy_hard = sum([v == p for v, p in zip(y_test, y_pred_hard)]) / len(y_test)\n",
    "accuracy_hard"
   ]
  },
  {
   "cell_type": "code",
   "execution_count": 59,
   "metadata": {
    "execution": {
     "iopub.execute_input": "2024-09-03T00:38:39.680943Z",
     "iopub.status.busy": "2024-09-03T00:38:39.679771Z",
     "iopub.status.idle": "2024-09-03T00:38:39.777704Z",
     "shell.execute_reply": "2024-09-03T00:38:39.776873Z",
     "shell.execute_reply.started": "2024-09-03T00:38:39.680882Z"
    }
   },
   "outputs": [
    {
     "data": {
      "text/plain": [
       "(0.07247037374658159, 0.9950886881738562)"
      ]
     },
     "execution_count": 59,
     "metadata": {},
     "output_type": "execute_result"
    }
   ],
   "source": [
    "accuracy_hard_fraud = sum([v == p for v, p in zip(y_test, y_pred_hard) if v == '1']) / len([y for y in y_test if y == '1'])\n",
    "accuracy_hard_valid = sum([v == p for v, p in zip(y_test, y_pred_hard) if v == '0']) / len([y for y in y_test if y == '0'])\n",
    "accuracy_hard_fraud, accuracy_hard_valid"
   ]
  },
  {
   "cell_type": "markdown",
   "metadata": {},
   "source": [
    "### Soft voting, no weighted"
   ]
  },
  {
   "cell_type": "code",
   "execution_count": 62,
   "metadata": {
    "execution": {
     "iopub.execute_input": "2024-09-03T00:39:37.014305Z",
     "iopub.status.busy": "2024-09-03T00:39:37.013648Z",
     "iopub.status.idle": "2024-09-03T01:08:28.542768Z",
     "shell.execute_reply": "2024-09-03T01:08:28.542117Z",
     "shell.execute_reply.started": "2024-09-03T00:39:37.014281Z"
    }
   },
   "outputs": [
    {
     "data": {
      "text/plain": [
       "0.9428632254121299"
      ]
     },
     "execution_count": 62,
     "metadata": {},
     "output_type": "execute_result"
    }
   ],
   "source": [
    "cls.setSoftVoting()\n",
    "y_pred_soft  = cls.testForest(df)\n",
    "accuracy_soft = sum([v == p for v, p in zip(y_test, y_pred_soft )]) / len(y_test)\n",
    "accuracy_soft"
   ]
  },
  {
   "cell_type": "code",
   "execution_count": 63,
   "metadata": {
    "execution": {
     "iopub.execute_input": "2024-09-03T01:08:28.544273Z",
     "iopub.status.busy": "2024-09-03T01:08:28.544008Z",
     "iopub.status.idle": "2024-09-03T01:08:28.597103Z",
     "shell.execute_reply": "2024-09-03T01:08:28.596581Z",
     "shell.execute_reply.started": "2024-09-03T01:08:28.544250Z"
    }
   },
   "outputs": [
    {
     "data": {
      "text/plain": [
       "(0.42403524764509265, 0.9548601962416872)"
      ]
     },
     "execution_count": 63,
     "metadata": {},
     "output_type": "execute_result"
    }
   ],
   "source": [
    "accuracy_soft_fraud = sum([v == p for v, p in zip(y_test, y_pred_soft) if v == '1']) / len([y for y in y_test if y == '1'])\n",
    "accuracy_soft_valid = sum([v == p for v, p in zip(y_test, y_pred_soft) if v == '0']) / len([y for y in y_test if y == '0'])\n",
    "accuracy_soft_fraud, accuracy_soft_valid"
   ]
  },
  {
   "cell_type": "markdown",
   "metadata": {},
   "source": [
    "# Tuning"
   ]
  },
  {
   "cell_type": "code",
   "execution_count": 79,
   "metadata": {
    "execution": {
     "iopub.execute_input": "2024-09-03T02:00:22.964645Z",
     "iopub.status.busy": "2024-09-03T02:00:22.961896Z",
     "iopub.status.idle": "2024-09-03T02:00:22.986268Z",
     "shell.execute_reply": "2024-09-03T02:00:22.984898Z",
     "shell.execute_reply.started": "2024-09-03T02:00:22.964523Z"
    }
   },
   "outputs": [
    {
     "data": {
      "text/plain": [
       "RandomForestMC(len(Forest)=0,n_trees=16,model_version=1.1.2,module_version=1.1.2)"
      ]
     },
     "execution_count": 79,
     "metadata": {},
     "output_type": "execute_result"
    }
   ],
   "source": [
    "batch_train_pclass = 2000\n",
    "batch_val_pclass = batch_train_pclass\n",
    "max_depth = 4*(len(feat_cols) + 1)\n",
    "n_trees = 16\n",
    "max_discard_trees = 6*n_trees\n",
    "max_feature = 4\n",
    "\n",
    "cls = RandomForestMC(\n",
    "    n_trees=n_trees, \n",
    "    target_col=target_col, \n",
    "    max_discard_trees=max_discard_trees,\n",
    "    batch_train_pclass=batch_train_pclass,\n",
    "    batch_val_pclass=batch_val_pclass,\n",
    "    max_feature=max_feature,\n",
    "    max_depth=max_depth\n",
    ")\n",
    "cls"
   ]
  },
  {
   "cell_type": "code",
   "execution_count": 84,
   "metadata": {
    "execution": {
     "iopub.execute_input": "2024-09-03T02:03:54.879227Z",
     "iopub.status.busy": "2024-09-03T02:03:54.877228Z",
     "iopub.status.idle": "2024-09-03T03:02:09.623992Z",
     "shell.execute_reply": "2024-09-03T03:02:09.623504Z",
     "shell.execute_reply.started": "2024-09-03T02:03:54.879120Z"
    }
   },
   "outputs": [
    {
     "data": {
      "application/vnd.jupyter.widget-view+json": {
       "model_id": "f94709628a84408d8c32289f2ff3954f",
       "version_major": 2,
       "version_minor": 0
      },
      "text/plain": [
       "Planting the forest:   0%|          | 0/16 [00:00<?, ?it/s]"
      ]
     },
     "metadata": {},
     "output_type": "display_data"
    }
   ],
   "source": [
    "cls.fitParallel(dataset=df, max_workers=max_workers)\n",
    "ModelDict = cls.model2dict()\n",
    "datetime_tag = datetime.now().strftime('%Y%m%d_%H%M')\n",
    "path_dict = f'/work/tmp/nus-fintech-recruitment/model_tuning_{len(cls)}trees_{datetime_tag}.json'\n",
    "dump_file_json(path_dict, ModelDict)\n",
    "del ModelDict"
   ]
  },
  {
   "cell_type": "code",
   "execution_count": 85,
   "metadata": {
    "execution": {
     "iopub.execute_input": "2024-09-03T03:02:09.625704Z",
     "iopub.status.busy": "2024-09-03T03:02:09.625369Z",
     "iopub.status.idle": "2024-09-03T03:08:00.072833Z",
     "shell.execute_reply": "2024-09-03T03:08:00.072167Z",
     "shell.execute_reply.started": "2024-09-03T03:02:09.625674Z"
    }
   },
   "outputs": [
    {
     "data": {
      "text/plain": [
       "(0.5765724703737466, 0.9383451197790964)"
      ]
     },
     "execution_count": 85,
     "metadata": {},
     "output_type": "execute_result"
    }
   ],
   "source": [
    "cls.setSoftVoting()\n",
    "y_pred_soft  = cls.testForest(df)\n",
    "accuracy_soft = sum([v == p for v, p in zip(y_test, y_pred_soft )]) / len(y_test)\n",
    "accuracy_soft\n",
    "\n",
    "accuracy_soft_fraud = sum([v == p for v, p in zip(y_test, y_pred_soft) if v == '1']) / len([y for y in y_test if y == '1'])\n",
    "accuracy_soft_valid = sum([v == p for v, p in zip(y_test, y_pred_soft) if v == '0']) / len([y for y in y_test if y == '0'])\n",
    "accuracy_soft_fraud, accuracy_soft_valid, accuracy_soft"
   ]
  },
  {
   "cell_type": "code",
   "execution_count": 87,
   "metadata": {
    "execution": {
     "iopub.execute_input": "2024-09-03T03:13:43.030402Z",
     "iopub.status.busy": "2024-09-03T03:13:43.030176Z",
     "iopub.status.idle": "2024-09-03T04:11:06.956884Z",
     "shell.execute_reply": "2024-09-03T04:11:06.956228Z",
     "shell.execute_reply.started": "2024-09-03T03:13:43.030384Z"
    }
   },
   "outputs": [
    {
     "data": {
      "application/vnd.jupyter.widget-view+json": {
       "model_id": "50248d6208b343fe9a0be58a57969e51",
       "version_major": 2,
       "version_minor": 0
      },
      "text/plain": [
       "Planting the forest:   0%|          | 0/16 [00:00<?, ?it/s]"
      ]
     },
     "metadata": {},
     "output_type": "display_data"
    }
   ],
   "source": [
    "cls.fitParallel(dataset=df, max_workers=max_workers)\n",
    "ModelDict = cls.model2dict()\n",
    "datetime_tag = datetime.now().strftime('%Y%m%d_%H%M')\n",
    "path_dict = f'/work/tmp/nus-fintech-recruitment/model_tuning_{len(cls)}trees_{datetime_tag}.json'\n",
    "dump_file_json(path_dict, ModelDict)\n",
    "del ModelDict"
   ]
  },
  {
   "cell_type": "code",
   "execution_count": 88,
   "metadata": {
    "execution": {
     "iopub.execute_input": "2024-09-03T04:11:06.958227Z",
     "iopub.status.busy": "2024-09-03T04:11:06.958044Z",
     "iopub.status.idle": "2024-09-03T04:22:29.717287Z",
     "shell.execute_reply": "2024-09-03T04:22:29.716645Z",
     "shell.execute_reply.started": "2024-09-03T04:11:06.958210Z"
    }
   },
   "outputs": [
    {
     "data": {
      "text/plain": [
       "(0.585232452142206, 0.9448232735755263)"
      ]
     },
     "execution_count": 88,
     "metadata": {},
     "output_type": "execute_result"
    }
   ],
   "source": [
    "cls.setSoftVoting()\n",
    "y_pred_soft  = cls.testForest(df)\n",
    "accuracy_soft = sum([v == p for v, p in zip(y_test, y_pred_soft )]) / len(y_test)\n",
    "accuracy_soft\n",
    "\n",
    "accuracy_soft_fraud = sum([v == p for v, p in zip(y_test, y_pred_soft) if v == '1']) / len([y for y in y_test if y == '1'])\n",
    "accuracy_soft_valid = sum([v == p for v, p in zip(y_test, y_pred_soft) if v == '0']) / len([y for y in y_test if y == '0'])\n",
    "accuracy_soft_fraud, accuracy_soft_valid"
   ]
  },
  {
   "cell_type": "code",
   "execution_count": 89,
   "metadata": {
    "execution": {
     "iopub.execute_input": "2024-09-03T04:22:29.718228Z",
     "iopub.status.busy": "2024-09-03T04:22:29.718068Z",
     "iopub.status.idle": "2024-09-03T05:19:23.413936Z",
     "shell.execute_reply": "2024-09-03T05:19:23.413393Z",
     "shell.execute_reply.started": "2024-09-03T04:22:29.718213Z"
    }
   },
   "outputs": [
    {
     "data": {
      "application/vnd.jupyter.widget-view+json": {
       "model_id": "f924e2aea2a0497e8507c51d705dd087",
       "version_major": 2,
       "version_minor": 0
      },
      "text/plain": [
       "Planting the forest:   0%|          | 0/16 [00:00<?, ?it/s]"
      ]
     },
     "metadata": {},
     "output_type": "display_data"
    }
   ],
   "source": [
    "cls.fitParallel(dataset=df, max_workers=max_workers)\n",
    "ModelDict = cls.model2dict()\n",
    "datetime_tag = datetime.now().strftime('%Y%m%d_%H%M')\n",
    "path_dict = f'/work/tmp/nus-fintech-recruitment/model_tuning_{len(cls)}trees_{datetime_tag}.json'\n",
    "dump_file_json(path_dict, ModelDict)\n",
    "del ModelDict"
   ]
  },
  {
   "cell_type": "code",
   "execution_count": 90,
   "metadata": {
    "execution": {
     "iopub.execute_input": "2024-09-03T05:19:23.415764Z",
     "iopub.status.busy": "2024-09-03T05:19:23.415552Z",
     "iopub.status.idle": "2024-09-03T05:36:05.496754Z",
     "shell.execute_reply": "2024-09-03T05:36:05.496111Z",
     "shell.execute_reply.started": "2024-09-03T05:19:23.415748Z"
    }
   },
   "outputs": [
    {
     "data": {
      "text/plain": [
       "(0.5862959586751747, 0.9518178528644049, 0.9435568328921028)"
      ]
     },
     "execution_count": 90,
     "metadata": {},
     "output_type": "execute_result"
    }
   ],
   "source": [
    "cls.setSoftVoting()\n",
    "y_pred_soft  = cls.testForest(df)\n",
    "accuracy_soft = sum([v == p for v, p in zip(y_test, y_pred_soft )]) / len(y_test)\n",
    "accuracy_soft\n",
    "\n",
    "accuracy_soft_fraud = sum([v == p for v, p in zip(y_test, y_pred_soft) if v == '1']) / len([y for y in y_test if y == '1'])\n",
    "accuracy_soft_valid = sum([v == p for v, p in zip(y_test, y_pred_soft) if v == '0']) / len([y for y in y_test if y == '0'])\n",
    "accuracy_soft_fraud, accuracy_soft_valid, accuracy_soft"
   ]
  },
  {
   "cell_type": "code",
   "execution_count": 91,
   "metadata": {
    "execution": {
     "iopub.execute_input": "2024-09-03T05:36:05.497667Z",
     "iopub.status.busy": "2024-09-03T05:36:05.497488Z",
     "iopub.status.idle": "2024-09-03T06:33:08.184946Z",
     "shell.execute_reply": "2024-09-03T06:33:08.184416Z",
     "shell.execute_reply.started": "2024-09-03T05:36:05.497653Z"
    }
   },
   "outputs": [
    {
     "data": {
      "application/vnd.jupyter.widget-view+json": {
       "model_id": "7012805846794150a30e38c30e0233f3",
       "version_major": 2,
       "version_minor": 0
      },
      "text/plain": [
       "Planting the forest:   0%|          | 0/16 [00:00<?, ?it/s]"
      ]
     },
     "metadata": {},
     "output_type": "display_data"
    }
   ],
   "source": [
    "cls.fitParallel(dataset=df, max_workers=max_workers)\n",
    "ModelDict = cls.model2dict()\n",
    "datetime_tag = datetime.now().strftime('%Y%m%d_%H%M')\n",
    "path_dict = f'/work/tmp/nus-fintech-recruitment/model_tuning_{len(cls)}trees_{datetime_tag}.json'\n",
    "dump_file_json(path_dict, ModelDict)\n",
    "del ModelDict"
   ]
  },
  {
   "cell_type": "code",
   "execution_count": 92,
   "metadata": {
    "execution": {
     "iopub.execute_input": "2024-09-03T06:33:08.186140Z",
     "iopub.status.busy": "2024-09-03T06:33:08.185960Z",
     "iopub.status.idle": "2024-09-03T06:55:19.209891Z",
     "shell.execute_reply": "2024-09-03T06:55:19.209282Z",
     "shell.execute_reply.started": "2024-09-03T06:33:08.186123Z"
    }
   },
   "outputs": [
    {
     "data": {
      "text/plain": [
       "(0.5864478881798846, 0.9521761889203897, 0.9439105040328811)"
      ]
     },
     "execution_count": 92,
     "metadata": {},
     "output_type": "execute_result"
    }
   ],
   "source": [
    "cls.setSoftVoting()\n",
    "y_pred_soft  = cls.testForest(df)\n",
    "accuracy_soft = sum([v == p for v, p in zip(y_test, y_pred_soft )]) / len(y_test)\n",
    "accuracy_soft\n",
    "\n",
    "accuracy_soft_fraud = sum([v == p for v, p in zip(y_test, y_pred_soft) if v == '1']) / len([y for y in y_test if y == '1'])\n",
    "accuracy_soft_valid = sum([v == p for v, p in zip(y_test, y_pred_soft) if v == '0']) / len([y for y in y_test if y == '0'])\n",
    "accuracy_soft_fraud, accuracy_soft_valid, accuracy_soft"
   ]
  },
  {
   "cell_type": "code",
   "execution_count": 93,
   "metadata": {
    "execution": {
     "iopub.execute_input": "2024-09-03T06:55:19.211121Z",
     "iopub.status.busy": "2024-09-03T06:55:19.210840Z",
     "iopub.status.idle": "2024-09-03T07:50:36.854741Z",
     "shell.execute_reply": "2024-09-03T07:50:36.854160Z",
     "shell.execute_reply.started": "2024-09-03T06:55:19.211096Z"
    }
   },
   "outputs": [
    {
     "data": {
      "application/vnd.jupyter.widget-view+json": {
       "model_id": "e6ea56ce416541bd9f7406695f8e5c47",
       "version_major": 2,
       "version_minor": 0
      },
      "text/plain": [
       "Planting the forest:   0%|          | 0/16 [00:00<?, ?it/s]"
      ]
     },
     "metadata": {},
     "output_type": "display_data"
    }
   ],
   "source": [
    "cls.fitParallel(dataset=df, max_workers=max_workers)\n",
    "ModelDict = cls.model2dict()\n",
    "datetime_tag = datetime.now().strftime('%Y%m%d_%H%M')\n",
    "path_dict = f'/work/tmp/nus-fintech-recruitment/model_tuning_{len(cls)}trees_{datetime_tag}.json'\n",
    "dump_file_json(path_dict, ModelDict)\n",
    "del ModelDict"
   ]
  },
  {
   "cell_type": "code",
   "execution_count": 94,
   "metadata": {
    "execution": {
     "iopub.execute_input": "2024-09-03T07:50:36.855939Z",
     "iopub.status.busy": "2024-09-03T07:50:36.855727Z",
     "iopub.status.idle": "2024-09-03T08:18:15.794842Z",
     "shell.execute_reply": "2024-09-03T08:18:15.794307Z",
     "shell.execute_reply.started": "2024-09-03T07:50:36.855922Z"
    }
   },
   "outputs": [
    {
     "data": {
      "text/plain": [
       "(0.5879671832269827, 0.9524677761032008, 0.9442298381697003)"
      ]
     },
     "execution_count": 94,
     "metadata": {},
     "output_type": "execute_result"
    }
   ],
   "source": [
    "cls.setSoftVoting()\n",
    "y_pred_soft  = cls.testForest(df)\n",
    "accuracy_soft = sum([v == p for v, p in zip(y_test, y_pred_soft )]) / len(y_test)\n",
    "accuracy_soft\n",
    "\n",
    "accuracy_soft_fraud = sum([v == p for v, p in zip(y_test, y_pred_soft) if v == '1']) / len([y for y in y_test if y == '1'])\n",
    "accuracy_soft_valid = sum([v == p for v, p in zip(y_test, y_pred_soft) if v == '0']) / len([y for y in y_test if y == '0'])\n",
    "accuracy_soft_fraud, accuracy_soft_valid, accuracy_soft"
   ]
  },
  {
   "cell_type": "code",
   "execution_count": 95,
   "metadata": {
    "execution": {
     "iopub.execute_input": "2024-09-03T08:18:15.795691Z",
     "iopub.status.busy": "2024-09-03T08:18:15.795511Z",
     "iopub.status.idle": "2024-09-03T09:13:59.768336Z",
     "shell.execute_reply": "2024-09-03T09:13:59.767834Z",
     "shell.execute_reply.started": "2024-09-03T08:18:15.795675Z"
    }
   },
   "outputs": [
    {
     "data": {
      "application/vnd.jupyter.widget-view+json": {
       "model_id": "36f5dc95adb64ccd8fac2a7b594677fe",
       "version_major": 2,
       "version_minor": 0
      },
      "text/plain": [
       "Planting the forest:   0%|          | 0/16 [00:00<?, ?it/s]"
      ]
     },
     "metadata": {},
     "output_type": "display_data"
    }
   ],
   "source": [
    "cls.fitParallel(dataset=df, max_workers=max_workers)\n",
    "ModelDict = cls.model2dict()\n",
    "datetime_tag = datetime.now().strftime('%Y%m%d_%H%M')\n",
    "path_dict = f'/work/tmp/nus-fintech-recruitment/model_tuning_{len(cls)}trees_{datetime_tag}.json'\n",
    "dump_file_json(path_dict, ModelDict)\n",
    "del ModelDict"
   ]
  },
  {
   "cell_type": "code",
   "execution_count": 96,
   "metadata": {
    "execution": {
     "iopub.execute_input": "2024-09-03T09:13:59.770678Z",
     "iopub.status.busy": "2024-09-03T09:13:59.770439Z",
     "iopub.status.idle": "2024-09-03T09:47:11.528976Z",
     "shell.execute_reply": "2024-09-03T09:47:11.528475Z",
     "shell.execute_reply.started": "2024-09-03T09:13:59.770662Z"
    }
   },
   "outputs": [
    {
     "data": {
      "text/plain": [
       "(0.5873594652081434, 0.9522253723006229, 0.9439791780407992)"
      ]
     },
     "execution_count": 96,
     "metadata": {},
     "output_type": "execute_result"
    }
   ],
   "source": [
    "cls.setSoftVoting()\n",
    "y_pred_soft  = cls.testForest(df)\n",
    "accuracy_soft = sum([v == p for v, p in zip(y_test, y_pred_soft )]) / len(y_test)\n",
    "accuracy_soft\n",
    "\n",
    "accuracy_soft_fraud = sum([v == p for v, p in zip(y_test, y_pred_soft) if v == '1']) / len([y for y in y_test if y == '1'])\n",
    "accuracy_soft_valid = sum([v == p for v, p in zip(y_test, y_pred_soft) if v == '0']) / len([y for y in y_test if y == '0'])\n",
    "accuracy_soft_fraud, accuracy_soft_valid, accuracy_soft"
   ]
  },
  {
   "cell_type": "code",
   "execution_count": 97,
   "metadata": {
    "execution": {
     "iopub.execute_input": "2024-09-03T09:47:11.529831Z",
     "iopub.status.busy": "2024-09-03T09:47:11.529673Z",
     "iopub.status.idle": "2024-09-03T10:41:42.660708Z",
     "shell.execute_reply": "2024-09-03T10:41:42.660061Z",
     "shell.execute_reply.started": "2024-09-03T09:47:11.529816Z"
    }
   },
   "outputs": [
    {
     "data": {
      "application/vnd.jupyter.widget-view+json": {
       "model_id": "64bb3e9c2d384d28aa94661b7b2aeed0",
       "version_major": 2,
       "version_minor": 0
      },
      "text/plain": [
       "Planting the forest:   0%|          | 0/16 [00:00<?, ?it/s]"
      ]
     },
     "metadata": {},
     "output_type": "display_data"
    }
   ],
   "source": [
    "cls.fitParallel(dataset=df, max_workers=max_workers)\n",
    "ModelDict = cls.model2dict()\n",
    "datetime_tag = datetime.now().strftime('%Y%m%d_%H%M')\n",
    "path_dict = f'/work/tmp/nus-fintech-recruitment/model_tuning_{len(cls)}trees_{datetime_tag}.json'\n",
    "dump_file_json(path_dict, ModelDict)\n",
    "del ModelDict"
   ]
  },
  {
   "cell_type": "code",
   "execution_count": 98,
   "metadata": {
    "execution": {
     "iopub.execute_input": "2024-09-03T10:41:42.661927Z",
     "iopub.status.busy": "2024-09-03T10:41:42.661737Z",
     "iopub.status.idle": "2024-09-03T11:20:28.857801Z",
     "shell.execute_reply": "2024-09-03T11:20:28.857025Z",
     "shell.execute_reply.started": "2024-09-03T10:41:42.661909Z"
    }
   },
   "outputs": [
    {
     "data": {
      "text/plain": [
       "(0.5902461257976299, 0.9533706424403388, 0.9451638046773867)"
      ]
     },
     "execution_count": 98,
     "metadata": {},
     "output_type": "execute_result"
    }
   ],
   "source": [
    "cls.setSoftVoting()\n",
    "y_pred_soft  = cls.testForest(df)\n",
    "accuracy_soft = sum([v == p for v, p in zip(y_test, y_pred_soft )]) / len(y_test)\n",
    "accuracy_soft\n",
    "\n",
    "accuracy_soft_fraud = sum([v == p for v, p in zip(y_test, y_pred_soft) if v == '1']) / len([y for y in y_test if y == '1'])\n",
    "accuracy_soft_valid = sum([v == p for v, p in zip(y_test, y_pred_soft) if v == '0']) / len([y for y in y_test if y == '0'])\n",
    "accuracy_soft_fraud, accuracy_soft_valid, accuracy_soft"
   ]
  },
  {
   "cell_type": "code",
   "execution_count": 99,
   "metadata": {
    "execution": {
     "iopub.execute_input": "2024-09-03T11:20:28.858772Z",
     "iopub.status.busy": "2024-09-03T11:20:28.858589Z",
     "iopub.status.idle": "2024-09-03T12:17:57.210977Z",
     "shell.execute_reply": "2024-09-03T12:17:57.210415Z",
     "shell.execute_reply.started": "2024-09-03T11:20:28.858755Z"
    }
   },
   "outputs": [
    {
     "data": {
      "application/vnd.jupyter.widget-view+json": {
       "model_id": "87a1f830a2624a468d7218452f8b6f7f",
       "version_major": 2,
       "version_minor": 0
      },
      "text/plain": [
       "Planting the forest:   0%|          | 0/16 [00:00<?, ?it/s]"
      ]
     },
     "metadata": {},
     "output_type": "display_data"
    }
   ],
   "source": [
    "cls.fitParallel(dataset=df, max_workers=max_workers)\n",
    "ModelDict = cls.model2dict()\n",
    "datetime_tag = datetime.now().strftime('%Y%m%d_%H%M')\n",
    "path_dict = f'/work/tmp/nus-fintech-recruitment/model_tuning_{len(cls)}trees_{datetime_tag}.json'\n",
    "dump_file_json(path_dict, ModelDict)\n",
    "del ModelDict"
   ]
  },
  {
   "cell_type": "code",
   "execution_count": 100,
   "metadata": {
    "execution": {
     "iopub.execute_input": "2024-09-03T12:17:57.212180Z",
     "iopub.status.busy": "2024-09-03T12:17:57.211992Z",
     "iopub.status.idle": "2024-09-03T13:02:19.116698Z",
     "shell.execute_reply": "2024-09-03T13:02:19.116069Z",
     "shell.execute_reply.started": "2024-09-03T12:17:57.212163Z"
    }
   },
   "outputs": [
    {
     "data": {
      "text/plain": [
       "(0.59009419629292, 0.9528612431450664, 0.9446624844195844)"
      ]
     },
     "execution_count": 100,
     "metadata": {},
     "output_type": "execute_result"
    }
   ],
   "source": [
    "cls.setSoftVoting()\n",
    "y_pred_soft  = cls.testForest(df)\n",
    "accuracy_soft = sum([v == p for v, p in zip(y_test, y_pred_soft )]) / len(y_test)\n",
    "accuracy_soft\n",
    "\n",
    "accuracy_soft_fraud = sum([v == p for v, p in zip(y_test, y_pred_soft) if v == '1']) / len([y for y in y_test if y == '1'])\n",
    "accuracy_soft_valid = sum([v == p for v, p in zip(y_test, y_pred_soft) if v == '0']) / len([y for y in y_test if y == '0'])\n",
    "accuracy_soft_fraud, accuracy_soft_valid, accuracy_soft"
   ]
  },
  {
   "cell_type": "code",
   "execution_count": 101,
   "metadata": {
    "execution": {
     "iopub.execute_input": "2024-09-03T13:02:19.117756Z",
     "iopub.status.busy": "2024-09-03T13:02:19.117549Z",
     "iopub.status.idle": "2024-09-03T13:59:38.470737Z",
     "shell.execute_reply": "2024-09-03T13:59:38.470163Z",
     "shell.execute_reply.started": "2024-09-03T13:02:19.117739Z"
    }
   },
   "outputs": [
    {
     "data": {
      "application/vnd.jupyter.widget-view+json": {
       "model_id": "9b58ae280a214fac95fc76b1a9601ecd",
       "version_major": 2,
       "version_minor": 0
      },
      "text/plain": [
       "Planting the forest:   0%|          | 0/16 [00:00<?, ?it/s]"
      ]
     },
     "metadata": {},
     "output_type": "display_data"
    }
   ],
   "source": [
    "cls.fitParallel(dataset=df, max_workers=max_workers)\n",
    "ModelDict = cls.model2dict()\n",
    "datetime_tag = datetime.now().strftime('%Y%m%d_%H%M')\n",
    "path_dict = f'/work/tmp/nus-fintech-recruitment/model_tuning_{len(cls)}trees_{datetime_tag}.json'\n",
    "dump_file_json(path_dict, ModelDict)\n",
    "del ModelDict"
   ]
  },
  {
   "cell_type": "code",
   "execution_count": 102,
   "metadata": {
    "execution": {
     "iopub.execute_input": "2024-09-03T13:59:38.471895Z",
     "iopub.status.busy": "2024-09-03T13:59:38.471628Z",
     "iopub.status.idle": "2024-09-03T14:49:52.098639Z",
     "shell.execute_reply": "2024-09-03T14:49:52.098056Z",
     "shell.execute_reply.started": "2024-09-03T13:59:38.471877Z"
    }
   },
   "outputs": [
    {
     "data": {
      "text/plain": [
       "(0.5902461257976299, 0.9526961275114264, 0.9445045342013728)"
      ]
     },
     "execution_count": 102,
     "metadata": {},
     "output_type": "execute_result"
    }
   ],
   "source": [
    "cls.setSoftVoting()\n",
    "y_pred_soft  = cls.testForest(df)\n",
    "accuracy_soft = sum([v == p for v, p in zip(y_test, y_pred_soft )]) / len(y_test)\n",
    "accuracy_soft\n",
    "\n",
    "accuracy_soft_fraud = sum([v == p for v, p in zip(y_test, y_pred_soft) if v == '1']) / len([y for y in y_test if y == '1'])\n",
    "accuracy_soft_valid = sum([v == p for v, p in zip(y_test, y_pred_soft) if v == '0']) / len([y for y in y_test if y == '0'])\n",
    "accuracy_soft_fraud, accuracy_soft_valid, accuracy_soft"
   ]
  },
  {
   "cell_type": "code",
   "execution_count": 103,
   "metadata": {
    "execution": {
     "iopub.execute_input": "2024-09-03T14:49:52.099630Z",
     "iopub.status.busy": "2024-09-03T14:49:52.099414Z",
     "iopub.status.idle": "2024-09-03T15:47:18.725850Z",
     "shell.execute_reply": "2024-09-03T15:47:18.725345Z",
     "shell.execute_reply.started": "2024-09-03T14:49:52.099613Z"
    }
   },
   "outputs": [
    {
     "data": {
      "application/vnd.jupyter.widget-view+json": {
       "model_id": "a94a5053eb6e46569849a639ffa2d1d1",
       "version_major": 2,
       "version_minor": 0
      },
      "text/plain": [
       "Planting the forest:   0%|          | 0/16 [00:01<?, ?it/s]"
      ]
     },
     "metadata": {},
     "output_type": "display_data"
    }
   ],
   "source": [
    "cls.fitParallel(dataset=df, max_workers=max_workers)\n",
    "ModelDict = cls.model2dict()\n",
    "datetime_tag = datetime.now().strftime('%Y%m%d_%H%M')\n",
    "path_dict = f'/work/tmp/nus-fintech-recruitment/model_tuning_{len(cls)}trees_{datetime_tag}.json'\n",
    "dump_file_json(path_dict, ModelDict)\n",
    "del ModelDict"
   ]
  },
  {
   "cell_type": "code",
   "execution_count": 104,
   "metadata": {
    "execution": {
     "iopub.execute_input": "2024-09-03T15:47:18.727090Z",
     "iopub.status.busy": "2024-09-03T15:47:18.726808Z",
     "iopub.status.idle": "2024-09-03T16:43:16.752141Z",
     "shell.execute_reply": "2024-09-03T16:43:16.751556Z",
     "shell.execute_reply.started": "2024-09-03T15:47:18.727062Z"
    }
   },
   "outputs": [
    {
     "data": {
      "text/plain": [
       "(0.5902461257976299, 0.9529631230041209, 0.9447654954314616)"
      ]
     },
     "execution_count": 104,
     "metadata": {},
     "output_type": "execute_result"
    }
   ],
   "source": [
    "cls.setSoftVoting()\n",
    "y_pred_soft  = cls.testForest(df)\n",
    "accuracy_soft = sum([v == p for v, p in zip(y_test, y_pred_soft )]) / len(y_test)\n",
    "accuracy_soft\n",
    "\n",
    "accuracy_soft_fraud = sum([v == p for v, p in zip(y_test, y_pred_soft) if v == '1']) / len([y for y in y_test if y == '1'])\n",
    "accuracy_soft_valid = sum([v == p for v, p in zip(y_test, y_pred_soft) if v == '0']) / len([y for y in y_test if y == '0'])\n",
    "accuracy_soft_fraud, accuracy_soft_valid, accuracy_soft"
   ]
  },
  {
   "cell_type": "code",
   "execution_count": 105,
   "metadata": {
    "execution": {
     "iopub.execute_input": "2024-09-03T16:43:16.753143Z",
     "iopub.status.busy": "2024-09-03T16:43:16.752934Z",
     "iopub.status.idle": "2024-09-03T17:42:47.501527Z",
     "shell.execute_reply": "2024-09-03T17:42:47.501020Z",
     "shell.execute_reply.started": "2024-09-03T16:43:16.753125Z"
    }
   },
   "outputs": [
    {
     "data": {
      "application/vnd.jupyter.widget-view+json": {
       "model_id": "137782cbb14746bc8b636439390f21cc",
       "version_major": 2,
       "version_minor": 0
      },
      "text/plain": [
       "Planting the forest:   0%|          | 0/16 [00:00<?, ?it/s]"
      ]
     },
     "metadata": {},
     "output_type": "display_data"
    }
   ],
   "source": [
    "cls.fitParallel(dataset=df, max_workers=max_workers)\n",
    "ModelDict = cls.model2dict()\n",
    "datetime_tag = datetime.now().strftime('%Y%m%d_%H%M')\n",
    "path_dict = f'/work/tmp/nus-fintech-recruitment/model_tuning_{len(cls)}trees_{datetime_tag}.json'\n",
    "dump_file_json(path_dict, ModelDict)\n",
    "del ModelDict"
   ]
  },
  {
   "cell_type": "code",
   "execution_count": 106,
   "metadata": {
    "execution": {
     "iopub.execute_input": "2024-09-03T17:42:47.502607Z",
     "iopub.status.busy": "2024-09-03T17:42:47.502308Z",
     "iopub.status.idle": "2024-09-03T18:44:42.178185Z",
     "shell.execute_reply": "2024-09-03T18:44:42.177540Z",
     "shell.execute_reply.started": "2024-09-03T17:42:47.502591Z"
    }
   },
   "outputs": [
    {
     "data": {
      "text/plain": [
       "(0.5913096323305986, 0.9530087932857659, 0.9448341694393797)"
      ]
     },
     "execution_count": 106,
     "metadata": {},
     "output_type": "execute_result"
    }
   ],
   "source": [
    "cls.setSoftVoting()\n",
    "y_pred_soft  = cls.testForest(df)\n",
    "accuracy_soft = sum([v == p for v, p in zip(y_test, y_pred_soft )]) / len(y_test)\n",
    "accuracy_soft\n",
    "\n",
    "accuracy_soft_fraud = sum([v == p for v, p in zip(y_test, y_pred_soft) if v == '1']) / len([y for y in y_test if y == '1'])\n",
    "accuracy_soft_valid = sum([v == p for v, p in zip(y_test, y_pred_soft) if v == '0']) / len([y for y in y_test if y == '0'])\n",
    "accuracy_soft_fraud, accuracy_soft_valid, accuracy_soft"
   ]
  },
  {
   "cell_type": "markdown",
   "metadata": {
    "execution": {
     "iopub.execute_input": "2024-09-03T19:30:59.037019Z",
     "iopub.status.busy": "2024-09-03T19:30:59.036325Z",
     "iopub.status.idle": "2024-09-03T19:30:59.042403Z",
     "shell.execute_reply": "2024-09-03T19:30:59.040995Z",
     "shell.execute_reply.started": "2024-09-03T19:30:59.036980Z"
    }
   },
   "source": [
    "# N Experiment"
   ]
  },
  {
   "cell_type": "code",
   "execution_count": 15,
   "metadata": {
    "execution": {
     "iopub.execute_input": "2024-09-03T21:47:11.051216Z",
     "iopub.status.busy": "2024-09-03T21:47:11.049137Z",
     "iopub.status.idle": "2024-09-03T21:47:11.073902Z",
     "shell.execute_reply": "2024-09-03T21:47:11.073080Z",
     "shell.execute_reply.started": "2024-09-03T21:47:11.051104Z"
    }
   },
   "outputs": [
    {
     "data": {
      "text/plain": [
       "['0', '0', '0', '0', '0', '0', '0', '0', '1', '0']"
      ]
     },
     "execution_count": 15,
     "metadata": {},
     "output_type": "execute_result"
    }
   ],
   "source": [
    "y_test = df[target_col].to_list()\n",
    "y_test[:10]"
   ]
  },
  {
   "cell_type": "code",
   "execution_count": 16,
   "metadata": {
    "execution": {
     "iopub.execute_input": "2024-09-03T21:47:11.351032Z",
     "iopub.status.busy": "2024-09-03T21:47:11.349394Z",
     "iopub.status.idle": "2024-09-03T21:47:11.356914Z",
     "shell.execute_reply": "2024-09-03T21:47:11.354515Z",
     "shell.execute_reply.started": "2024-09-03T21:47:11.351009Z"
    }
   },
   "outputs": [],
   "source": [
    "N=2"
   ]
  },
  {
   "cell_type": "code",
   "execution_count": 17,
   "metadata": {
    "execution": {
     "iopub.execute_input": "2024-09-03T21:47:13.986745Z",
     "iopub.status.busy": "2024-09-03T21:47:13.986382Z",
     "iopub.status.idle": "2024-09-03T21:47:13.995870Z",
     "shell.execute_reply": "2024-09-03T21:47:13.994623Z",
     "shell.execute_reply.started": "2024-09-03T21:47:13.986710Z"
    }
   },
   "outputs": [
    {
     "data": {
      "text/plain": [
       "RandomForestMC(len(Forest)=0,n_trees=4,model_version=1.1.2,module_version=1.1.2)"
      ]
     },
     "execution_count": 17,
     "metadata": {},
     "output_type": "execute_result"
    }
   ],
   "source": [
    "batch_train_pclass = 4000\n",
    "batch_val_pclass = 1000\n",
    "max_depth = 8*(len(feat_cols) + 1)\n",
    "n_trees = 4\n",
    "max_discard_trees = 32\n",
    "max_feature = 4\n",
    "\n",
    "cls = RandomForestMC(\n",
    "    n_trees=n_trees, \n",
    "    target_col=target_col, \n",
    "    max_discard_trees=max_discard_trees,\n",
    "    batch_train_pclass=batch_train_pclass,\n",
    "    batch_val_pclass=batch_val_pclass,\n",
    "    max_feature=max_feature,\n",
    "    max_depth=max_depth\n",
    ")\n",
    "cls"
   ]
  },
  {
   "cell_type": "code",
   "execution_count": 18,
   "metadata": {
    "execution": {
     "iopub.execute_input": "2024-09-03T21:47:14.299884Z",
     "iopub.status.busy": "2024-09-03T21:47:14.298133Z",
     "iopub.status.idle": "2024-09-03T21:47:14.309349Z",
     "shell.execute_reply": "2024-09-03T21:47:14.306483Z",
     "shell.execute_reply.started": "2024-09-03T21:47:14.299802Z"
    }
   },
   "outputs": [],
   "source": [
    "cpu_cores = 4\n",
    "max_workers = cpu_cores"
   ]
  },
  {
   "cell_type": "code",
   "execution_count": 19,
   "metadata": {
    "execution": {
     "iopub.execute_input": "2024-09-03T21:47:18.184041Z",
     "iopub.status.busy": "2024-09-03T21:47:18.183810Z",
     "iopub.status.idle": "2024-09-03T22:04:16.171266Z",
     "shell.execute_reply": "2024-09-03T22:04:16.170722Z",
     "shell.execute_reply.started": "2024-09-03T21:47:18.184023Z"
    }
   },
   "outputs": [
    {
     "data": {
      "application/vnd.jupyter.widget-view+json": {
       "model_id": "26693287c8084603bc927759b66bf69f",
       "version_major": 2,
       "version_minor": 0
      },
      "text/plain": [
       "Planting the forest:   0%|          | 0/4 [00:00<?, ?it/s]"
      ]
     },
     "metadata": {},
     "output_type": "display_data"
    }
   ],
   "source": [
    "cls.fitParallel(dataset=df, max_workers=max_workers)\n",
    "ModelDict = cls.model2dict()\n",
    "datetime_tag = datetime.now().strftime('%Y%m%d_%H%M')\n",
    "path_dict = f'/work/tmp/nus-fintech-recruitment/model{N}_tuning_{len(cls)}trees_{datetime_tag}.json'\n",
    "dump_file_json(path_dict, ModelDict)\n",
    "del ModelDict"
   ]
  },
  {
   "cell_type": "code",
   "execution_count": 20,
   "metadata": {
    "execution": {
     "iopub.execute_input": "2024-09-03T22:04:16.172674Z",
     "iopub.status.busy": "2024-09-03T22:04:16.172475Z",
     "iopub.status.idle": "2024-09-03T22:07:06.970433Z",
     "shell.execute_reply": "2024-09-03T22:07:06.969652Z",
     "shell.execute_reply.started": "2024-09-03T22:04:16.172659Z"
    }
   },
   "outputs": [
    {
     "data": {
      "text/plain": [
       "(0.8059860224855667, 0.9167009193779005, 0.9141986945071094)"
      ]
     },
     "execution_count": 20,
     "metadata": {},
     "output_type": "execute_result"
    }
   ],
   "source": [
    "cls.setSoftVoting()\n",
    "y_pred_soft  = cls.testForest(df)\n",
    "accuracy_soft = sum([v == p for v, p in zip(y_test, y_pred_soft )]) / len(y_test)\n",
    "accuracy_soft\n",
    "\n",
    "accuracy_soft_fraud = sum([v == p for v, p in zip(y_test, y_pred_soft) if v == '1']) / len([y for y in y_test if y == '1'])\n",
    "accuracy_soft_valid = sum([v == p for v, p in zip(y_test, y_pred_soft) if v == '0']) / len([y for y in y_test if y == '0'])\n",
    "accuracy_soft_fraud, accuracy_soft_valid, accuracy_soft"
   ]
  },
  {
   "cell_type": "code",
   "execution_count": 21,
   "metadata": {
    "execution": {
     "iopub.execute_input": "2024-09-03T22:07:06.971393Z",
     "iopub.status.busy": "2024-09-03T22:07:06.971160Z",
     "iopub.status.idle": "2024-09-03T22:07:06.973742Z",
     "shell.execute_reply": "2024-09-03T22:07:06.973303Z",
     "shell.execute_reply.started": "2024-09-03T22:07:06.971377Z"
    }
   },
   "outputs": [],
   "source": [
    "# 4 discarts: (0.6353691886964449, 0.9230912457096283, 0.9165885499826598)"
   ]
  },
  {
   "cell_type": "code",
   "execution_count": 22,
   "metadata": {
    "execution": {
     "iopub.execute_input": "2024-09-03T22:07:06.975455Z",
     "iopub.status.busy": "2024-09-03T22:07:06.975150Z",
     "iopub.status.idle": "2024-09-03T22:21:37.322378Z",
     "shell.execute_reply": "2024-09-03T22:21:37.321856Z",
     "shell.execute_reply.started": "2024-09-03T22:07:06.975429Z"
    }
   },
   "outputs": [
    {
     "data": {
      "application/vnd.jupyter.widget-view+json": {
       "model_id": "9de6eaaf3c7f4332a999aeb4dac862d2",
       "version_major": 2,
       "version_minor": 0
      },
      "text/plain": [
       "Planting the forest:   0%|          | 0/4 [00:00<?, ?it/s]"
      ]
     },
     "metadata": {},
     "output_type": "display_data"
    }
   ],
   "source": [
    "cls.fitParallel(dataset=df, max_workers=max_workers)\n",
    "ModelDict = cls.model2dict()\n",
    "datetime_tag = datetime.now().strftime('%Y%m%d_%H%M')\n",
    "path_dict = f'/work/tmp/nus-fintech-recruitment/model{N}_tuning_{len(cls)}trees_{datetime_tag}.json'\n",
    "dump_file_json(path_dict, ModelDict)\n",
    "del ModelDict"
   ]
  },
  {
   "cell_type": "code",
   "execution_count": 23,
   "metadata": {
    "execution": {
     "iopub.execute_input": "2024-09-03T22:21:37.323332Z",
     "iopub.status.busy": "2024-09-03T22:21:37.323164Z",
     "iopub.status.idle": "2024-09-03T22:27:04.352767Z",
     "shell.execute_reply": "2024-09-03T22:27:04.352299Z",
     "shell.execute_reply.started": "2024-09-03T22:21:37.323316Z"
    }
   },
   "outputs": [
    {
     "data": {
      "text/plain": [
       "(0.7839562443026435, 0.9482415185017337, 0.9445285701041441)"
      ]
     },
     "execution_count": 23,
     "metadata": {},
     "output_type": "execute_result"
    }
   ],
   "source": [
    "cls.setSoftVoting()\n",
    "y_pred_soft  = cls.testForest(df)\n",
    "accuracy_soft = sum([v == p for v, p in zip(y_test, y_pred_soft )]) / len(y_test)\n",
    "accuracy_soft\n",
    "\n",
    "accuracy_soft_fraud = sum([v == p for v, p in zip(y_test, y_pred_soft) if v == '1']) / len([y for y in y_test if y == '1'])\n",
    "accuracy_soft_valid = sum([v == p for v, p in zip(y_test, y_pred_soft) if v == '0']) / len([y for y in y_test if y == '0'])\n",
    "accuracy_soft_fraud, accuracy_soft_valid, accuracy_soft"
   ]
  },
  {
   "cell_type": "code",
   "execution_count": 24,
   "metadata": {
    "execution": {
     "iopub.execute_input": "2024-09-03T22:27:04.353646Z",
     "iopub.status.busy": "2024-09-03T22:27:04.353473Z",
     "iopub.status.idle": "2024-09-03T22:45:30.241960Z",
     "shell.execute_reply": "2024-09-03T22:45:30.241454Z",
     "shell.execute_reply.started": "2024-09-03T22:27:04.353631Z"
    }
   },
   "outputs": [
    {
     "data": {
      "application/vnd.jupyter.widget-view+json": {
       "model_id": "1980b1ffb3f840b0894d7be102be7419",
       "version_major": 2,
       "version_minor": 0
      },
      "text/plain": [
       "Planting the forest:   0%|          | 0/4 [00:00<?, ?it/s]"
      ]
     },
     "metadata": {},
     "output_type": "display_data"
    }
   ],
   "source": [
    "cls.fitParallel(dataset=df, max_workers=max_workers)\n",
    "ModelDict = cls.model2dict()\n",
    "datetime_tag = datetime.now().strftime('%Y%m%d_%H%M')\n",
    "path_dict = f'/work/tmp/nus-fintech-recruitment/model{N}_tuning_{len(cls)}trees_{datetime_tag}.json'\n",
    "dump_file_json(path_dict, ModelDict)\n",
    "del ModelDict"
   ]
  },
  {
   "cell_type": "code",
   "execution_count": null,
   "metadata": {
    "execution": {
     "iopub.execute_input": "2024-09-03T22:45:30.243104Z",
     "iopub.status.busy": "2024-09-03T22:45:30.242871Z"
    }
   },
   "outputs": [],
   "source": [
    "cls.setSoftVoting()\n",
    "y_pred_soft  = cls.testForest(df)\n",
    "accuracy_soft = sum([v == p for v, p in zip(y_test, y_pred_soft )]) / len(y_test)\n",
    "accuracy_soft\n",
    "\n",
    "accuracy_soft_fraud = sum([v == p for v, p in zip(y_test, y_pred_soft) if v == '1']) / len([y for y in y_test if y == '1'])\n",
    "accuracy_soft_valid = sum([v == p for v, p in zip(y_test, y_pred_soft) if v == '0']) / len([y for y in y_test if y == '0'])\n",
    "accuracy_soft_fraud, accuracy_soft_valid, accuracy_soft"
   ]
  },
  {
   "cell_type": "code",
   "execution_count": null,
   "metadata": {},
   "outputs": [],
   "source": [
    "cls.fitParallel(dataset=df, max_workers=max_workers)\n",
    "ModelDict = cls.model2dict()\n",
    "datetime_tag = datetime.now().strftime('%Y%m%d_%H%M')\n",
    "path_dict = f'/work/tmp/nus-fintech-recruitment/model{N}_tuning_{len(cls)}trees_{datetime_tag}.json'\n",
    "dump_file_json(path_dict, ModelDict)\n",
    "del ModelDict"
   ]
  },
  {
   "cell_type": "code",
   "execution_count": null,
   "metadata": {},
   "outputs": [],
   "source": [
    "cls.setSoftVoting()\n",
    "y_pred_soft  = cls.testForest(df)\n",
    "accuracy_soft = sum([v == p for v, p in zip(y_test, y_pred_soft )]) / len(y_test)\n",
    "accuracy_soft\n",
    "\n",
    "accuracy_soft_fraud = sum([v == p for v, p in zip(y_test, y_pred_soft) if v == '1']) / len([y for y in y_test if y == '1'])\n",
    "accuracy_soft_valid = sum([v == p for v, p in zip(y_test, y_pred_soft) if v == '0']) / len([y for y in y_test if y == '0'])\n",
    "accuracy_soft_fraud, accuracy_soft_valid, accuracy_soft"
   ]
  },
  {
   "cell_type": "code",
   "execution_count": null,
   "metadata": {},
   "outputs": [],
   "source": [
    "cls.fitParallel(dataset=df, max_workers=max_workers)\n",
    "ModelDict = cls.model2dict()\n",
    "datetime_tag = datetime.now().strftime('%Y%m%d_%H%M')\n",
    "path_dict = f'/work/tmp/nus-fintech-recruitment/model{N}_tuning_{len(cls)}trees_{datetime_tag}.json'\n",
    "dump_file_json(path_dict, ModelDict)\n",
    "del ModelDict"
   ]
  },
  {
   "cell_type": "code",
   "execution_count": null,
   "metadata": {},
   "outputs": [],
   "source": [
    "cls.setSoftVoting()\n",
    "y_pred_soft  = cls.testForest(df)\n",
    "accuracy_soft = sum([v == p for v, p in zip(y_test, y_pred_soft )]) / len(y_test)\n",
    "accuracy_soft\n",
    "\n",
    "accuracy_soft_fraud = sum([v == p for v, p in zip(y_test, y_pred_soft) if v == '1']) / len([y for y in y_test if y == '1'])\n",
    "accuracy_soft_valid = sum([v == p for v, p in zip(y_test, y_pred_soft) if v == '0']) / len([y for y in y_test if y == '0'])\n",
    "accuracy_soft_fraud, accuracy_soft_valid, accuracy_soft"
   ]
  },
  {
   "cell_type": "code",
   "execution_count": null,
   "metadata": {},
   "outputs": [],
   "source": [
    "cls.fitParallel(dataset=df, max_workers=max_workers)\n",
    "ModelDict = cls.model2dict()\n",
    "datetime_tag = datetime.now().strftime('%Y%m%d_%H%M')\n",
    "path_dict = f'/work/tmp/nus-fintech-recruitment/model{N}_tuning_{len(cls)}trees_{datetime_tag}.json'\n",
    "dump_file_json(path_dict, ModelDict)\n",
    "del ModelDict"
   ]
  },
  {
   "cell_type": "code",
   "execution_count": null,
   "metadata": {},
   "outputs": [],
   "source": [
    "cls.setSoftVoting()\n",
    "y_pred_soft  = cls.testForest(df)\n",
    "accuracy_soft = sum([v == p for v, p in zip(y_test, y_pred_soft )]) / len(y_test)\n",
    "accuracy_soft\n",
    "\n",
    "accuracy_soft_fraud = sum([v == p for v, p in zip(y_test, y_pred_soft) if v == '1']) / len([y for y in y_test if y == '1'])\n",
    "accuracy_soft_valid = sum([v == p for v, p in zip(y_test, y_pred_soft) if v == '0']) / len([y for y in y_test if y == '0'])\n",
    "accuracy_soft_fraud, accuracy_soft_valid, accuracy_soft"
   ]
  },
  {
   "cell_type": "code",
   "execution_count": null,
   "metadata": {},
   "outputs": [],
   "source": [
    "cls.fitParallel(dataset=df, max_workers=max_workers)\n",
    "ModelDict = cls.model2dict()\n",
    "datetime_tag = datetime.now().strftime('%Y%m%d_%H%M')\n",
    "path_dict = f'/work/tmp/nus-fintech-recruitment/model{N}_tuning_{len(cls)}trees_{datetime_tag}.json'\n",
    "dump_file_json(path_dict, ModelDict)\n",
    "del ModelDict"
   ]
  },
  {
   "cell_type": "code",
   "execution_count": null,
   "metadata": {},
   "outputs": [],
   "source": [
    "cls.setSoftVoting()\n",
    "y_pred_soft  = cls.testForest(df)\n",
    "accuracy_soft = sum([v == p for v, p in zip(y_test, y_pred_soft )]) / len(y_test)\n",
    "accuracy_soft\n",
    "\n",
    "accuracy_soft_fraud = sum([v == p for v, p in zip(y_test, y_pred_soft) if v == '1']) / len([y for y in y_test if y == '1'])\n",
    "accuracy_soft_valid = sum([v == p for v, p in zip(y_test, y_pred_soft) if v == '0']) / len([y for y in y_test if y == '0'])\n",
    "accuracy_soft_fraud, accuracy_soft_valid, accuracy_soft"
   ]
  },
  {
   "cell_type": "code",
   "execution_count": null,
   "metadata": {},
   "outputs": [],
   "source": [
    "cls.fitParallel(dataset=df, max_workers=max_workers)\n",
    "ModelDict = cls.model2dict()\n",
    "datetime_tag = datetime.now().strftime('%Y%m%d_%H%M')\n",
    "path_dict = f'/work/tmp/nus-fintech-recruitment/model{N}_tuning_{len(cls)}trees_{datetime_tag}.json'\n",
    "dump_file_json(path_dict, ModelDict)\n",
    "del ModelDict"
   ]
  },
  {
   "cell_type": "code",
   "execution_count": null,
   "metadata": {},
   "outputs": [],
   "source": [
    "cls.setSoftVoting()\n",
    "y_pred_soft  = cls.testForest(df)\n",
    "accuracy_soft = sum([v == p for v, p in zip(y_test, y_pred_soft )]) / len(y_test)\n",
    "accuracy_soft\n",
    "\n",
    "accuracy_soft_fraud = sum([v == p for v, p in zip(y_test, y_pred_soft) if v == '1']) / len([y for y in y_test if y == '1'])\n",
    "accuracy_soft_valid = sum([v == p for v, p in zip(y_test, y_pred_soft) if v == '0']) / len([y for y in y_test if y == '0'])\n",
    "accuracy_soft_fraud, accuracy_soft_valid, accuracy_soft"
   ]
  },
  {
   "cell_type": "code",
   "execution_count": null,
   "metadata": {},
   "outputs": [],
   "source": [
    "cls.fitParallel(dataset=df, max_workers=max_workers)\n",
    "ModelDict = cls.model2dict()\n",
    "datetime_tag = datetime.now().strftime('%Y%m%d_%H%M')\n",
    "path_dict = f'/work/tmp/nus-fintech-recruitment/model{N}_tuning_{len(cls)}trees_{datetime_tag}.json'\n",
    "dump_file_json(path_dict, ModelDict)\n",
    "del ModelDict"
   ]
  },
  {
   "cell_type": "code",
   "execution_count": null,
   "metadata": {},
   "outputs": [],
   "source": [
    "cls.setSoftVoting()\n",
    "y_pred_soft  = cls.testForest(df)\n",
    "accuracy_soft = sum([v == p for v, p in zip(y_test, y_pred_soft )]) / len(y_test)\n",
    "accuracy_soft\n",
    "\n",
    "accuracy_soft_fraud = sum([v == p for v, p in zip(y_test, y_pred_soft) if v == '1']) / len([y for y in y_test if y == '1'])\n",
    "accuracy_soft_valid = sum([v == p for v, p in zip(y_test, y_pred_soft) if v == '0']) / len([y for y in y_test if y == '0'])\n",
    "accuracy_soft_fraud, accuracy_soft_valid, accuracy_soft"
   ]
  },
  {
   "cell_type": "code",
   "execution_count": null,
   "metadata": {},
   "outputs": [],
   "source": [
    "cls.fitParallel(dataset=df, max_workers=max_workers)\n",
    "ModelDict = cls.model2dict()\n",
    "datetime_tag = datetime.now().strftime('%Y%m%d_%H%M')\n",
    "path_dict = f'/work/tmp/nus-fintech-recruitment/model{N}_tuning_{len(cls)}trees_{datetime_tag}.json'\n",
    "dump_file_json(path_dict, ModelDict)\n",
    "del ModelDict"
   ]
  },
  {
   "cell_type": "code",
   "execution_count": null,
   "metadata": {},
   "outputs": [],
   "source": [
    "cls.setSoftVoting()\n",
    "y_pred_soft  = cls.testForest(df)\n",
    "accuracy_soft = sum([v == p for v, p in zip(y_test, y_pred_soft )]) / len(y_test)\n",
    "accuracy_soft\n",
    "\n",
    "accuracy_soft_fraud = sum([v == p for v, p in zip(y_test, y_pred_soft) if v == '1']) / len([y for y in y_test if y == '1'])\n",
    "accuracy_soft_valid = sum([v == p for v, p in zip(y_test, y_pred_soft) if v == '0']) / len([y for y in y_test if y == '0'])\n",
    "accuracy_soft_fraud, accuracy_soft_valid, accuracy_soft"
   ]
  },
  {
   "cell_type": "code",
   "execution_count": null,
   "metadata": {},
   "outputs": [],
   "source": [
    "cls.fitParallel(dataset=df, max_workers=max_workers)\n",
    "ModelDict = cls.model2dict()\n",
    "datetime_tag = datetime.now().strftime('%Y%m%d_%H%M')\n",
    "path_dict = f'/work/tmp/nus-fintech-recruitment/model{N}_tuning_{len(cls)}trees_{datetime_tag}.json'\n",
    "dump_file_json(path_dict, ModelDict)\n",
    "del ModelDict"
   ]
  },
  {
   "cell_type": "code",
   "execution_count": null,
   "metadata": {},
   "outputs": [],
   "source": [
    "cls.setSoftVoting()\n",
    "y_pred_soft  = cls.testForest(df)\n",
    "accuracy_soft = sum([v == p for v, p in zip(y_test, y_pred_soft )]) / len(y_test)\n",
    "accuracy_soft\n",
    "\n",
    "accuracy_soft_fraud = sum([v == p for v, p in zip(y_test, y_pred_soft) if v == '1']) / len([y for y in y_test if y == '1'])\n",
    "accuracy_soft_valid = sum([v == p for v, p in zip(y_test, y_pred_soft) if v == '0']) / len([y for y in y_test if y == '0'])\n",
    "accuracy_soft_fraud, accuracy_soft_valid, accuracy_soft"
   ]
  },
  {
   "cell_type": "code",
   "execution_count": null,
   "metadata": {},
   "outputs": [],
   "source": [
    "cls.fitParallel(dataset=df, max_workers=max_workers)\n",
    "ModelDict = cls.model2dict()\n",
    "datetime_tag = datetime.now().strftime('%Y%m%d_%H%M')\n",
    "path_dict = f'/work/tmp/nus-fintech-recruitment/model{N}_tuning_{len(cls)}trees_{datetime_tag}.json'\n",
    "dump_file_json(path_dict, ModelDict)\n",
    "del ModelDict"
   ]
  },
  {
   "cell_type": "code",
   "execution_count": null,
   "metadata": {},
   "outputs": [],
   "source": [
    "cls.setSoftVoting()\n",
    "y_pred_soft  = cls.testForest(df)\n",
    "accuracy_soft = sum([v == p for v, p in zip(y_test, y_pred_soft )]) / len(y_test)\n",
    "accuracy_soft\n",
    "\n",
    "accuracy_soft_fraud = sum([v == p for v, p in zip(y_test, y_pred_soft) if v == '1']) / len([y for y in y_test if y == '1'])\n",
    "accuracy_soft_valid = sum([v == p for v, p in zip(y_test, y_pred_soft) if v == '0']) / len([y for y in y_test if y == '0'])\n",
    "accuracy_soft_fraud, accuracy_soft_valid, accuracy_soft"
   ]
  },
  {
   "cell_type": "code",
   "execution_count": null,
   "metadata": {},
   "outputs": [],
   "source": [
    "cls.fitParallel(dataset=df, max_workers=max_workers)\n",
    "ModelDict = cls.model2dict()\n",
    "datetime_tag = datetime.now().strftime('%Y%m%d_%H%M')\n",
    "path_dict = f'/work/tmp/nus-fintech-recruitment/model{N}_tuning_{len(cls)}trees_{datetime_tag}.json'\n",
    "dump_file_json(path_dict, ModelDict)\n",
    "del ModelDict"
   ]
  },
  {
   "cell_type": "code",
   "execution_count": null,
   "metadata": {},
   "outputs": [],
   "source": [
    "cls.setSoftVoting()\n",
    "y_pred_soft  = cls.testForest(df)\n",
    "accuracy_soft = sum([v == p for v, p in zip(y_test, y_pred_soft )]) / len(y_test)\n",
    "accuracy_soft\n",
    "\n",
    "accuracy_soft_fraud = sum([v == p for v, p in zip(y_test, y_pred_soft) if v == '1']) / len([y for y in y_test if y == '1'])\n",
    "accuracy_soft_valid = sum([v == p for v, p in zip(y_test, y_pred_soft) if v == '0']) / len([y for y in y_test if y == '0'])\n",
    "accuracy_soft_fraud, accuracy_soft_valid, accuracy_soft"
   ]
  },
  {
   "cell_type": "code",
   "execution_count": null,
   "metadata": {},
   "outputs": [],
   "source": [
    "cls.fitParallel(dataset=df, max_workers=max_workers)\n",
    "ModelDict = cls.model2dict()\n",
    "datetime_tag = datetime.now().strftime('%Y%m%d_%H%M')\n",
    "path_dict = f'/work/tmp/nus-fintech-recruitment/model{N}_tuning_{len(cls)}trees_{datetime_tag}.json'\n",
    "dump_file_json(path_dict, ModelDict)\n",
    "del ModelDict"
   ]
  },
  {
   "cell_type": "code",
   "execution_count": null,
   "metadata": {},
   "outputs": [],
   "source": [
    "cls.setSoftVoting()\n",
    "y_pred_soft  = cls.testForest(df)\n",
    "accuracy_soft = sum([v == p for v, p in zip(y_test, y_pred_soft )]) / len(y_test)\n",
    "accuracy_soft\n",
    "\n",
    "accuracy_soft_fraud = sum([v == p for v, p in zip(y_test, y_pred_soft) if v == '1']) / len([y for y in y_test if y == '1'])\n",
    "accuracy_soft_valid = sum([v == p for v, p in zip(y_test, y_pred_soft) if v == '0']) / len([y for y in y_test if y == '0'])\n",
    "accuracy_soft_fraud, accuracy_soft_valid, accuracy_soft"
   ]
  },
  {
   "cell_type": "code",
   "execution_count": null,
   "metadata": {},
   "outputs": [],
   "source": []
  },
  {
   "cell_type": "code",
   "execution_count": null,
   "metadata": {},
   "outputs": [],
   "source": [
    "cls.fitParallel(dataset=df, max_workers=max_workers)\n",
    "ModelDict = cls.model2dict()\n",
    "datetime_tag = datetime.now().strftime('%Y%m%d_%H%M')\n",
    "path_dict = f'/work/tmp/nus-fintech-recruitment/model{N}_tuning_{len(cls)}trees_{datetime_tag}.json'\n",
    "dump_file_json(path_dict, ModelDict)\n",
    "del ModelDict"
   ]
  },
  {
   "cell_type": "code",
   "execution_count": null,
   "metadata": {},
   "outputs": [],
   "source": [
    "cls.setSoftVoting()\n",
    "y_pred_soft  = cls.testForest(df)\n",
    "accuracy_soft = sum([v == p for v, p in zip(y_test, y_pred_soft )]) / len(y_test)\n",
    "accuracy_soft\n",
    "\n",
    "accuracy_soft_fraud = sum([v == p for v, p in zip(y_test, y_pred_soft) if v == '1']) / len([y for y in y_test if y == '1'])\n",
    "accuracy_soft_valid = sum([v == p for v, p in zip(y_test, y_pred_soft) if v == '0']) / len([y for y in y_test if y == '0'])\n",
    "accuracy_soft_fraud, accuracy_soft_valid, accuracy_soft"
   ]
  },
  {
   "cell_type": "code",
   "execution_count": null,
   "metadata": {},
   "outputs": [],
   "source": []
  }
 ],
 "metadata": {
  "kernelspec": {
   "display_name": "Python 3 (ipykernel)",
   "language": "python",
   "name": "python3"
  },
  "language_info": {
   "codemirror_mode": {
    "name": "ipython",
    "version": 3
   },
   "file_extension": ".py",
   "mimetype": "text/x-python",
   "name": "python",
   "nbconvert_exporter": "python",
   "pygments_lexer": "ipython3",
   "version": "3.11.10"
  }
 },
 "nbformat": 4,
 "nbformat_minor": 4
}
