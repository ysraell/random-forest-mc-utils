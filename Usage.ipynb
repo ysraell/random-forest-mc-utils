{
 "cells": [
  {
   "cell_type": "markdown",
   "metadata": {},
   "source": [
    "# Usage \n",
    "\n",
    "- Author: Israel Oliveira [\\[e-mail\\]](mailto:'Israel%20Oliveira%20'<prof.israel@gmail.com>)"
   ]
  },
  {
   "cell_type": "code",
   "execution_count": 1,
   "metadata": {
    "execution": {
     "iopub.execute_input": "2022-08-01T20:19:41.918301Z",
     "iopub.status.busy": "2022-08-01T20:19:41.917851Z",
     "iopub.status.idle": "2022-08-01T20:19:52.114753Z",
     "shell.execute_reply": "2022-08-01T20:19:52.113550Z",
     "shell.execute_reply.started": "2022-08-01T20:19:41.918200Z"
    },
    "tags": []
   },
   "outputs": [
    {
     "name": "stdout",
     "output_type": "stream",
     "text": [
      "Processing /work/random-forest-mc\n",
      "  Installing build dependencies ... \u001b[?25ldone\n",
      "\u001b[?25h  Getting requirements to build wheel ... \u001b[?25ldone\n",
      "\u001b[?25h  Preparing metadata (pyproject.toml) ... \u001b[?25ldone\n",
      "\u001b[?25hRequirement already satisfied: pandas>=1.3 in /usr/local/lib/python3.10/site-packages (from random-forest-mc==0.4.0a0) (1.4.3)\n",
      "Requirement already satisfied: numpy>=1.20 in /usr/local/lib/python3.10/site-packages (from random-forest-mc==0.4.0a0) (1.23.1)\n",
      "Requirement already satisfied: tqdm>=4.60 in /usr/local/lib/python3.10/site-packages (from random-forest-mc==0.4.0a0) (4.64.0)\n",
      "Requirement already satisfied: python-dateutil>=2.8.1 in /usr/local/lib/python3.10/site-packages (from pandas>=1.3->random-forest-mc==0.4.0a0) (2.8.2)\n",
      "Requirement already satisfied: pytz>=2020.1 in /usr/local/lib/python3.10/site-packages (from pandas>=1.3->random-forest-mc==0.4.0a0) (2022.1)\n",
      "Requirement already satisfied: six>=1.5 in /usr/local/lib/python3.10/site-packages (from python-dateutil>=2.8.1->pandas>=1.3->random-forest-mc==0.4.0a0) (1.16.0)\n",
      "Building wheels for collected packages: random-forest-mc\n",
      "  Building wheel for random-forest-mc (pyproject.toml) ... \u001b[?25ldone\n",
      "\u001b[?25h  Created wheel for random-forest-mc: filename=random_forest_mc-0.4.0a0-py3-none-any.whl size=14146 sha256=21225202ef10f9fcaa691555a1f0db572240dabe5e3b2502b965ad99b903554a\n",
      "  Stored in directory: /root/.cache/pip/wheels/eb/5f/19/4722d7f6bf0d13102d1af6ab98e4b53771da1ed44ce678108e\n",
      "Successfully built random-forest-mc\n",
      "Installing collected packages: random-forest-mc\n",
      "  Attempting uninstall: random-forest-mc\n",
      "    Found existing installation: random-forest-mc 0.4.0a0\n",
      "    Uninstalling random-forest-mc-0.4.0a0:\n",
      "      Successfully uninstalled random-forest-mc-0.4.0a0\n",
      "Successfully installed random-forest-mc-0.4.0a0\n",
      "\u001b[33mWARNING: Running pip as the 'root' user can result in broken permissions and conflicting behaviour with the system package manager. It is recommended to use a virtual environment instead: https://pip.pypa.io/warnings/venv\u001b[0m\u001b[33m\n",
      "\u001b[0m"
     ]
    }
   ],
   "source": [
    "!pip install -U ../"
   ]
  },
  {
   "cell_type": "code",
   "execution_count": 2,
   "metadata": {
    "execution": {
     "iopub.execute_input": "2022-08-01T20:19:52.119126Z",
     "iopub.status.busy": "2022-08-01T20:19:52.118433Z",
     "iopub.status.idle": "2022-08-01T20:19:52.140861Z",
     "shell.execute_reply": "2022-08-01T20:19:52.140006Z",
     "shell.execute_reply.started": "2022-08-01T20:19:52.119094Z"
    },
    "tags": []
   },
   "outputs": [],
   "source": [
    "%load_ext watermark"
   ]
  },
  {
   "cell_type": "code",
   "execution_count": 3,
   "metadata": {
    "execution": {
     "iopub.execute_input": "2022-08-01T20:19:52.144100Z",
     "iopub.status.busy": "2022-08-01T20:19:52.143445Z",
     "iopub.status.idle": "2022-08-01T20:19:52.581251Z",
     "shell.execute_reply": "2022-08-01T20:19:52.580419Z",
     "shell.execute_reply.started": "2022-08-01T20:19:52.144073Z"
    },
    "tags": []
   },
   "outputs": [],
   "source": [
    "%load_ext autoreload\n",
    "%autoreload 2\n",
    "import numpy as np\n",
    "import pandas as pd\n",
    "from random_forest_mc.model import RandomForestMC\n",
    "from random_forest_mc.utils import load_file_json, dump_file_json\n"
   ]
  },
  {
   "cell_type": "code",
   "execution_count": 4,
   "metadata": {
    "execution": {
     "iopub.execute_input": "2022-08-01T20:19:52.583271Z",
     "iopub.status.busy": "2022-08-01T20:19:52.582372Z",
     "iopub.status.idle": "2022-08-01T20:19:52.602800Z",
     "shell.execute_reply": "2022-08-01T20:19:52.601921Z",
     "shell.execute_reply.started": "2022-08-01T20:19:52.583238Z"
    },
    "tags": []
   },
   "outputs": [],
   "source": [
    "# from tqdm import notebook as tqdm\n",
    "\n",
    "from glob import glob\n",
    "\n",
    "# import matplotlib.pyplot as plt\n",
    "# %matplotlib inline\n",
    "# from matplotlib import rcParams\n",
    "# from cycler import cycler\n",
    "\n",
    "# rcParams['figure.figsize'] = 12, 8 # 18, 5\n",
    "# rcParams['axes.spines.top'] = False\n",
    "# rcParams['axes.spines.right'] = False\n",
    "# rcParams['axes.grid'] = True\n",
    "# rcParams['axes.prop_cycle'] = cycler(color=['#365977'])\n",
    "# rcParams['lines.linewidth'] = 2.5\n",
    "\n",
    "# import seaborn as sns\n",
    "# sns.set_theme()\n",
    "\n",
    "# pd.set_option(\"max_columns\", None)\n",
    "# pd.set_option(\"max_rows\", None)\n",
    "# pd.set_option('display.max_colwidth', None)\n",
    "\n",
    "from IPython.display import Markdown, display\n",
    "def md(arg):\n",
    "    display(Markdown(arg))\n",
    "\n",
    "# from pandas_profiling import ProfileReport\n",
    "# #report = ProfileReport(#DataFrame here#, minimal=True)\n",
    "# #report.to\n",
    "\n",
    "# import pyarrow.parquet as pq\n",
    "# #df = pq.ParquetDataset(path_to_folder_with_parquets, filesystem=None).read_pandas().to_pandas()\n",
    "\n",
    "# import functools\n",
    "# import operator\n",
    "# def flat(a):\n",
    "#     return functools.reduce(operator.iconcat, a, [])\n",
    "\n",
    "\n",
    "######### LoadDicts\n",
    "\n",
    "import json\n",
    "from glob import glob\n",
    "from typing import Any\n",
    "from typing import NewType\n",
    "\n",
    "def np_encoder(object):\n",
    "    if isinstance(object, np.generic):\n",
    "        return object.item()\n",
    "\n",
    "\n",
    "DictsPathType = NewType(\"DictsPath\", str)\n",
    "\n",
    "\n",
    "def load_file_json(path: DictsPathType):\n",
    "    with open(path, \"r\") as f:\n",
    "        return json.load(f)\n",
    "\n",
    "\n",
    "def dump_file_json(path: DictsPathType, var: Any):\n",
    "    with open(path, \"w\") as f:\n",
    "        return json.dump(var, f, indent=4, default=np_encoder)\n",
    "\n",
    "\n",
    "class LoadDicts:\n",
    "    def __init__(self, dict_path: DictsPathType = \"./data\"):\n",
    "        Dicts_glob = glob(f\"{dict_path}/*.json\")\n",
    "        self.List = []\n",
    "        self.Dict = {}\n",
    "        for path_json in Dicts_glob:\n",
    "            name = path_json.split(\"/\")[-1].replace(\".json\", \"\")\n",
    "            self.List.append(name)\n",
    "            self.Dict[name] = load_file_json(path_json)\n",
    "            setattr(self, name, self.Dict[name])\n",
    "\n",
    "    def __repr__(self) -> str:\n",
    "        return \"LoadDicts: {}\".format(\", \".join(self.List))"
   ]
  },
  {
   "cell_type": "code",
   "execution_count": 5,
   "metadata": {
    "execution": {
     "iopub.execute_input": "2022-08-01T20:19:52.604306Z",
     "iopub.status.busy": "2022-08-01T20:19:52.603911Z",
     "iopub.status.idle": "2022-08-01T20:19:52.910581Z",
     "shell.execute_reply": "2022-08-01T20:19:52.909566Z",
     "shell.execute_reply.started": "2022-08-01T20:19:52.604280Z"
    },
    "tags": []
   },
   "outputs": [
    {
     "name": "stdout",
     "output_type": "stream",
     "text": [
      "Python implementation: CPython\n",
      "Python version       : 3.10.5\n",
      "IPython version      : 8.4.0\n",
      "\n",
      "Compiler    : GCC 10.2.1 20210110\n",
      "OS          : Linux\n",
      "Release     : 4.14.285-215.501.amzn2.x86_64\n",
      "Machine     : x86_64\n",
      "Processor   : \n",
      "CPU cores   : 4\n",
      "Architecture: 64bit\n",
      "\n",
      "Git hash: 5ff1c66d71d75b90cd68f322f18df0865a5109de\n",
      "\n",
      "Git repo: https://github.com/ysraell/random-forest-mc.git\n",
      "\n",
      "Git branch: dev\n",
      "\n",
      "numpy : 1.23.1\n",
      "json  : 2.0.9\n",
      "pandas: 1.4.3\n",
      "\n",
      "CPU\t: Intel(R) Xeon(R) CPU E5-2686 v4 @ 2.30GHz\n",
      "Mem:            15G\n",
      "Swap:             0B          0B          0B\n"
     ]
    }
   ],
   "source": [
    "# Run this cell before close.\n",
    "%watermark -d --iversion -b -r -g -m -v\n",
    "!cat /proc/cpuinfo |grep 'model name'|head -n 1 |sed -e 's/model\\ name/CPU/'\n",
    "!free -h |cut -d'i' -f1  |grep -v total"
   ]
  },
  {
   "cell_type": "code",
   "execution_count": 6,
   "metadata": {
    "execution": {
     "iopub.execute_input": "2022-08-01T20:19:52.912316Z",
     "iopub.status.busy": "2022-08-01T20:19:52.912007Z",
     "iopub.status.idle": "2022-08-01T20:19:52.937343Z",
     "shell.execute_reply": "2022-08-01T20:19:52.936326Z",
     "shell.execute_reply.started": "2022-08-01T20:19:52.912283Z"
    },
    "tags": []
   },
   "outputs": [
    {
     "data": {
      "text/plain": [
       "['/work/tmp/datasets/creditcard.csv',\n",
       " '/work/tmp/datasets/creditcard_trans_float.csv',\n",
       " '/work/tmp/datasets/creditcard_trans_int.csv',\n",
       " '/work/tmp/datasets/iris.csv',\n",
       " '/work/tmp/datasets/titanic.csv']"
      ]
     },
     "execution_count": 6,
     "metadata": {},
     "output_type": "execute_result"
    }
   ],
   "source": [
    "dataset_path_list = glob('/work/tmp/datasets/*.csv')\n",
    "dataset_path_list"
   ]
  },
  {
   "cell_type": "code",
   "execution_count": 7,
   "metadata": {
    "execution": {
     "iopub.execute_input": "2022-08-01T20:19:52.939348Z",
     "iopub.status.busy": "2022-08-01T20:19:52.938678Z",
     "iopub.status.idle": "2022-08-01T20:19:52.956025Z",
     "shell.execute_reply": "2022-08-01T20:19:52.954972Z",
     "shell.execute_reply.started": "2022-08-01T20:19:52.939309Z"
    },
    "tags": []
   },
   "outputs": [],
   "source": [
    "dataset_dict = {\n",
    "    'titanic' : {\n",
    "        'ds_cols' : ['Pclass', 'Sex', 'Age', 'SibSp', 'Fare', 'Embarked'],\n",
    "        'target_col' : 'Survived',\n",
    "        'csv_path' : '/work/tmp/datasets/titanic.csv'\n",
    "    },\n",
    "    'iris': {\n",
    "        'ds_cols' : ['sepal.length', 'sepal.width', 'petal.length', 'petal.width'],\n",
    "        'target_col' : 'variety',\n",
    "        'csv_path' : '/work/tmp/datasets/iris.csv'\n",
    "    },\n",
    "    'creditcard': {\n",
    "        'ds_cols' : ['V1', 'V2', 'V3', 'V4', 'V5', 'V6', 'V7', 'V8', 'V9', 'V10',\n",
    "       'V11', 'V12', 'V13', 'V14', 'V15', 'V16', 'V17', 'V18', 'V19', 'V20',\n",
    "       'V21', 'V22', 'V23', 'V24', 'V25', 'V26', 'V27', 'V28', 'Amount'],\n",
    "        'target_col' : 'Class',\n",
    "        'csv_path' : '/work/tmp/datasets/creditcard.csv'\n",
    "    },\n",
    "    'creditcard_trans_int': {\n",
    "        'ds_cols' : ['V1', 'V2', 'V3', 'V4', 'V5', 'V6', 'V7', 'V8', 'V9', 'V10',\n",
    "       'V11', 'V12', 'V13', 'V14', 'V15', 'V16', 'V17', 'V18', 'V19', 'V20',\n",
    "       'V21', 'V22', 'V23', 'V24', 'V25', 'V26', 'V27', 'V28', 'Amount'],\n",
    "        'target_col' : 'Class',\n",
    "        'csv_path' : '/work/tmp/datasets/creditcard_trans_int.csv'\n",
    "    },\n",
    "    'creditcard_trans_float': {\n",
    "        'ds_cols' : ['V1', 'V2', 'V3', 'V4', 'V5', 'V6', 'V7', 'V8', 'V9', 'V10',\n",
    "       'V11', 'V12', 'V13', 'V14', 'V15', 'V16', 'V17', 'V18', 'V19', 'V20',\n",
    "       'V21', 'V22', 'V23', 'V24', 'V25', 'V26', 'V27', 'V28', 'Amount'],\n",
    "        'target_col' : 'Class',\n",
    "        'csv_path' : '/work/tmp/datasets/creditcard_trans_float.csv'\n",
    "    }\n",
    "}\n",
    "\n",
    "# dump_file_json('../tests/datasets_metadata.json',dataset_dict)"
   ]
  },
  {
   "cell_type": "code",
   "execution_count": 8,
   "metadata": {
    "execution": {
     "iopub.execute_input": "2022-08-01T20:19:52.957670Z",
     "iopub.status.busy": "2022-08-01T20:19:52.957388Z",
     "iopub.status.idle": "2022-08-01T20:19:55.014222Z",
     "shell.execute_reply": "2022-08-01T20:19:55.013353Z",
     "shell.execute_reply.started": "2022-08-01T20:19:52.957646Z"
    },
    "tags": []
   },
   "outputs": [
    {
     "data": {
      "text/markdown": [
       "# titanic"
      ],
      "text/plain": [
       "<IPython.core.display.Markdown object>"
      ]
     },
     "metadata": {},
     "output_type": "display_data"
    },
    {
     "name": "stderr",
     "output_type": "stream",
     "text": [
      "Planting the forest: 100%|██████████| 8/8 [00:01<00:00,  4.74it/s]\n"
     ]
    },
    {
     "data": {
      "text/markdown": [
       "## Accuracy:"
      ],
      "text/plain": [
       "<IPython.core.display.Markdown object>"
      ]
     },
     "metadata": {},
     "output_type": "display_data"
    },
    {
     "data": {
      "text/markdown": [
       "## &nbsp;&nbsp;&nbsp; 78.09\\% (hard-voting)"
      ],
      "text/plain": [
       "<IPython.core.display.Markdown object>"
      ]
     },
     "metadata": {},
     "output_type": "display_data"
    },
    {
     "data": {
      "text/markdown": [
       "## &nbsp;&nbsp;&nbsp; 77.25\\% (soft-voting)"
      ],
      "text/plain": [
       "<IPython.core.display.Markdown object>"
      ]
     },
     "metadata": {},
     "output_type": "display_data"
    }
   ],
   "source": [
    "ds_name = 'titanic'\n",
    "md(f'# {ds_name}')\n",
    "params = dataset_dict[ds_name]\n",
    "\n",
    "dataset = pd.read_csv(params['csv_path'])[params['ds_cols']+[params['target_col']]].dropna().reset_index(drop=True)\n",
    "dataset['Age'] = dataset['Age'].astype(np.uint8)\n",
    "dataset['SibSp'] = dataset['SibSp'].astype(np.uint8)\n",
    "dataset['Pclass'] = dataset['Pclass'].astype(str)\n",
    "dataset['Fare'] = dataset['Fare'].astype(np.uint32)\n",
    "cls = RandomForestMC(\n",
    "    n_trees=8,\n",
    "    target_col = params['target_col'],\n",
    "    max_discard_trees = 4\n",
    ")\n",
    "cls.process_dataset(dataset)\n",
    "cls.fit()\n",
    "y_test = dataset[params['target_col']].to_list()\n",
    "y_pred = cls.testForest(dataset)\n",
    "accuracy_hard = \"{:.2f}\\%\".format(100*sum([v == p for v, p in zip(y_test, y_pred)]) / len(y_pred))\n",
    "cls.soft_voting=True\n",
    "y_pred = cls.testForest(dataset)\n",
    "accuracy_soft = \"{:.2f}\\%\".format(100*sum([v == p for v, p in zip(y_test, y_pred)]) / len(y_pred))\n",
    "md('## Accuracy:') \n",
    "md(f'## &nbsp;&nbsp;&nbsp; {accuracy_hard} (hard-voting)')\n",
    "md(f'## &nbsp;&nbsp;&nbsp; {accuracy_soft} (soft-voting)')"
   ]
  },
  {
   "cell_type": "code",
   "execution_count": 9,
   "metadata": {
    "execution": {
     "iopub.execute_input": "2022-08-01T20:19:55.017857Z",
     "iopub.status.busy": "2022-08-01T20:19:55.017327Z",
     "iopub.status.idle": "2022-08-01T20:19:56.786117Z",
     "shell.execute_reply": "2022-08-01T20:19:56.785078Z",
     "shell.execute_reply.started": "2022-08-01T20:19:55.017830Z"
    },
    "tags": []
   },
   "outputs": [
    {
     "data": {
      "text/markdown": [
       "# iris"
      ],
      "text/plain": [
       "<IPython.core.display.Markdown object>"
      ]
     },
     "metadata": {},
     "output_type": "display_data"
    },
    {
     "name": "stderr",
     "output_type": "stream",
     "text": [
      "Planting the forest: 100%|██████████| 8/8 [00:01<00:00,  4.78it/s]\n"
     ]
    },
    {
     "data": {
      "text/markdown": [
       "## Accuracy:"
      ],
      "text/plain": [
       "<IPython.core.display.Markdown object>"
      ]
     },
     "metadata": {},
     "output_type": "display_data"
    },
    {
     "data": {
      "text/markdown": [
       "## &nbsp;&nbsp;&nbsp; 90.00\\% (hard-voting)"
      ],
      "text/plain": [
       "<IPython.core.display.Markdown object>"
      ]
     },
     "metadata": {},
     "output_type": "display_data"
    },
    {
     "data": {
      "text/markdown": [
       "## &nbsp;&nbsp;&nbsp; 92.67\\% (soft-voting)"
      ],
      "text/plain": [
       "<IPython.core.display.Markdown object>"
      ]
     },
     "metadata": {},
     "output_type": "display_data"
    }
   ],
   "source": [
    "ds_name = 'iris'\n",
    "md(f'# {ds_name}')\n",
    "params = dataset_dict[ds_name]\n",
    "\n",
    "dataset = pd.read_csv(params['csv_path'])[params['ds_cols']+[params['target_col']]].dropna().reset_index(drop=True)\n",
    "dataset.rename(columns={col: col.replace('.','_') for col in dataset.columns}, inplace=True)\n",
    "params['ds_cols'] = [col.replace('.','_') for col in params['ds_cols']]\n",
    "cls = RandomForestMC(\n",
    "    n_trees=8,\n",
    "    target_col = params['target_col'],\n",
    "    max_discard_trees = 4\n",
    ")\n",
    "cls.process_dataset(dataset)\n",
    "cls.fit()\n",
    "y_test = dataset[params['target_col']].to_list()\n",
    "y_pred = cls.testForest(dataset)\n",
    "accuracy_hard = \"{:.2f}\\%\".format(100*sum([v == p for v, p in zip(y_test, y_pred)]) / len(y_pred))\n",
    "cls.soft_voting=True\n",
    "y_pred = cls.testForest(dataset)\n",
    "accuracy_soft = \"{:.2f}\\%\".format(100*sum([v == p for v, p in zip(y_test, y_pred)]) / len(y_pred))\n",
    "md('## Accuracy:') \n",
    "md(f'## &nbsp;&nbsp;&nbsp; {accuracy_hard} (hard-voting)')\n",
    "md(f'## &nbsp;&nbsp;&nbsp; {accuracy_soft} (soft-voting)')"
   ]
  },
  {
   "cell_type": "code",
   "execution_count": 10,
   "metadata": {
    "execution": {
     "iopub.execute_input": "2022-08-01T20:19:56.788347Z",
     "iopub.status.busy": "2022-08-01T20:19:56.787625Z",
     "iopub.status.idle": "2022-08-01T20:20:09.602541Z",
     "shell.execute_reply": "2022-08-01T20:20:09.601613Z",
     "shell.execute_reply.started": "2022-08-01T20:19:56.788305Z"
    },
    "tags": []
   },
   "outputs": [
    {
     "data": {
      "text/markdown": [
       "# creditcard"
      ],
      "text/plain": [
       "<IPython.core.display.Markdown object>"
      ]
     },
     "metadata": {},
     "output_type": "display_data"
    },
    {
     "name": "stderr",
     "output_type": "stream",
     "text": [
      "Planting the forest: 100%|██████████| 8/8 [00:02<00:00,  3.96it/s]\n"
     ]
    },
    {
     "data": {
      "text/markdown": [
       "## Accuracy:"
      ],
      "text/plain": [
       "<IPython.core.display.Markdown object>"
      ]
     },
     "metadata": {},
     "output_type": "display_data"
    },
    {
     "data": {
      "text/markdown": [
       "## &nbsp;&nbsp;&nbsp; 99.30\\% (hard-voting)"
      ],
      "text/plain": [
       "<IPython.core.display.Markdown object>"
      ]
     },
     "metadata": {},
     "output_type": "display_data"
    },
    {
     "data": {
      "text/markdown": [
       "## &nbsp;&nbsp;&nbsp; 99.30\\% (soft-voting)"
      ],
      "text/plain": [
       "<IPython.core.display.Markdown object>"
      ]
     },
     "metadata": {},
     "output_type": "display_data"
    },
    {
     "data": {
      "text/markdown": [
       "# creditcard_trans_int"
      ],
      "text/plain": [
       "<IPython.core.display.Markdown object>"
      ]
     },
     "metadata": {},
     "output_type": "display_data"
    },
    {
     "name": "stderr",
     "output_type": "stream",
     "text": [
      "Planting the forest: 100%|██████████| 8/8 [00:02<00:00,  3.62it/s]\n"
     ]
    },
    {
     "data": {
      "text/markdown": [
       "## Accuracy:"
      ],
      "text/plain": [
       "<IPython.core.display.Markdown object>"
      ]
     },
     "metadata": {},
     "output_type": "display_data"
    },
    {
     "data": {
      "text/markdown": [
       "## &nbsp;&nbsp;&nbsp; 95.30\\% (hard-voting)"
      ],
      "text/plain": [
       "<IPython.core.display.Markdown object>"
      ]
     },
     "metadata": {},
     "output_type": "display_data"
    },
    {
     "data": {
      "text/markdown": [
       "## &nbsp;&nbsp;&nbsp; 95.30\\% (soft-voting)"
      ],
      "text/plain": [
       "<IPython.core.display.Markdown object>"
      ]
     },
     "metadata": {},
     "output_type": "display_data"
    },
    {
     "data": {
      "text/markdown": [
       "# creditcard_trans_float"
      ],
      "text/plain": [
       "<IPython.core.display.Markdown object>"
      ]
     },
     "metadata": {},
     "output_type": "display_data"
    },
    {
     "name": "stderr",
     "output_type": "stream",
     "text": [
      "Planting the forest: 100%|██████████| 8/8 [00:02<00:00,  3.76it/s]\n"
     ]
    },
    {
     "data": {
      "text/markdown": [
       "## Accuracy:"
      ],
      "text/plain": [
       "<IPython.core.display.Markdown object>"
      ]
     },
     "metadata": {},
     "output_type": "display_data"
    },
    {
     "data": {
      "text/markdown": [
       "## &nbsp;&nbsp;&nbsp; 99.70\\% (hard-voting)"
      ],
      "text/plain": [
       "<IPython.core.display.Markdown object>"
      ]
     },
     "metadata": {},
     "output_type": "display_data"
    },
    {
     "data": {
      "text/markdown": [
       "## &nbsp;&nbsp;&nbsp; 99.70\\% (soft-voting)"
      ],
      "text/plain": [
       "<IPython.core.display.Markdown object>"
      ]
     },
     "metadata": {},
     "output_type": "display_data"
    }
   ],
   "source": [
    "for ds_name in ['creditcard', 'creditcard_trans_int', 'creditcard_trans_float']:\n",
    "    md(f'# {ds_name}')\n",
    "    params = dataset_dict[ds_name]\n",
    "\n",
    "    dataset = pd.read_csv(params['csv_path'])[params['ds_cols']+[params['target_col']]].dropna().reset_index(drop=True)\n",
    "    cls = RandomForestMC(\n",
    "        n_trees=8,\n",
    "        target_col = params['target_col'],\n",
    "        max_discard_trees = 4\n",
    "    )\n",
    "    cls.process_dataset(dataset)\n",
    "    cls.fit()\n",
    "    dataset = dataset.sample(n=1000)\n",
    "    y_test = dataset[params['target_col']].to_list()\n",
    "    y_pred = cls.testForest(dataset)\n",
    "    accuracy_hard = \"{:.2f}\\%\".format(100*sum([v == p for v, p in zip(y_test, y_pred)]) / len(y_pred))\n",
    "    cls.soft_voting=True\n",
    "    y_pred = cls.testForest(dataset)\n",
    "    accuracy_soft = \"{:.2f}\\%\".format(100*sum([v == p for v, p in zip(y_test, y_pred)]) / len(y_pred))\n",
    "    md('## Accuracy:') \n",
    "    md(f'## &nbsp;&nbsp;&nbsp; {accuracy_hard} (hard-voting)')\n",
    "    md(f'## &nbsp;&nbsp;&nbsp; {accuracy_soft} (soft-voting)')\n",
    "    model_dict = cls.model2dict()\n",
    "    model_path = f'/work/tmp/cls_rfmc_{ds_name}.json'\n",
    "    dump_file_json(model_path, model_dict)"
   ]
  },
  {
   "cell_type": "code",
   "execution_count": 11,
   "metadata": {
    "execution": {
     "iopub.execute_input": "2022-08-01T20:20:09.603993Z",
     "iopub.status.busy": "2022-08-01T20:20:09.603731Z",
     "iopub.status.idle": "2022-08-01T20:20:09.621527Z",
     "shell.execute_reply": "2022-08-01T20:20:09.620771Z",
     "shell.execute_reply.started": "2022-08-01T20:20:09.603966Z"
    },
    "tags": []
   },
   "outputs": [],
   "source": [
    "cls.mergeForest(cls)"
   ]
  },
  {
   "cell_type": "code",
   "execution_count": 12,
   "metadata": {
    "execution": {
     "iopub.execute_input": "2022-08-01T20:20:09.622697Z",
     "iopub.status.busy": "2022-08-01T20:20:09.622381Z",
     "iopub.status.idle": "2022-08-01T20:20:09.637477Z",
     "shell.execute_reply": "2022-08-01T20:20:09.636633Z",
     "shell.execute_reply.started": "2022-08-01T20:20:09.622663Z"
    },
    "tags": []
   },
   "outputs": [
    {
     "data": {
      "text/plain": [
       "[DecisionTreeMC(survived_score=0.9,module_version=0.4.0-alpha),\n",
       " DecisionTreeMC(survived_score=0.9,module_version=0.4.0-alpha),\n",
       " DecisionTreeMC(survived_score=0.9,module_version=0.4.0-alpha),\n",
       " DecisionTreeMC(survived_score=0.75,module_version=0.4.0-alpha),\n",
       " DecisionTreeMC(survived_score=0.75,module_version=0.4.0-alpha),\n",
       " DecisionTreeMC(survived_score=0.8,module_version=0.4.0-alpha),\n",
       " DecisionTreeMC(survived_score=0.7,module_version=0.4.0-alpha),\n",
       " DecisionTreeMC(survived_score=0.85,module_version=0.4.0-alpha),\n",
       " DecisionTreeMC(survived_score=0.9,module_version=0.4.0-alpha),\n",
       " DecisionTreeMC(survived_score=0.9,module_version=0.4.0-alpha),\n",
       " DecisionTreeMC(survived_score=0.9,module_version=0.4.0-alpha),\n",
       " DecisionTreeMC(survived_score=0.75,module_version=0.4.0-alpha),\n",
       " DecisionTreeMC(survived_score=0.75,module_version=0.4.0-alpha),\n",
       " DecisionTreeMC(survived_score=0.8,module_version=0.4.0-alpha),\n",
       " DecisionTreeMC(survived_score=0.7,module_version=0.4.0-alpha),\n",
       " DecisionTreeMC(survived_score=0.85,module_version=0.4.0-alpha)]"
      ]
     },
     "execution_count": 12,
     "metadata": {},
     "output_type": "execute_result"
    }
   ],
   "source": [
    "cls.data"
   ]
  },
  {
   "cell_type": "code",
   "execution_count": 13,
   "metadata": {
    "execution": {
     "iopub.execute_input": "2022-08-01T20:20:09.639480Z",
     "iopub.status.busy": "2022-08-01T20:20:09.638840Z",
     "iopub.status.idle": "2022-08-01T20:20:09.655601Z",
     "shell.execute_reply": "2022-08-01T20:20:09.654655Z",
     "shell.execute_reply.started": "2022-08-01T20:20:09.639441Z"
    },
    "tags": []
   },
   "outputs": [
    {
     "data": {
      "text/plain": [
       "16"
      ]
     },
     "execution_count": 13,
     "metadata": {},
     "output_type": "execute_result"
    }
   ],
   "source": [
    "cls.Forest_size"
   ]
  },
  {
   "cell_type": "code",
   "execution_count": 14,
   "metadata": {
    "execution": {
     "iopub.execute_input": "2022-08-01T20:20:09.656967Z",
     "iopub.status.busy": "2022-08-01T20:20:09.656693Z",
     "iopub.status.idle": "2022-08-01T20:20:09.673070Z",
     "shell.execute_reply": "2022-08-01T20:20:09.672173Z",
     "shell.execute_reply.started": "2022-08-01T20:20:09.656942Z"
    },
    "tags": []
   },
   "outputs": [
    {
     "data": {
      "text/plain": [
       "RandomForestMC(len(Forest)=16,n_trees=8,model_version=0.4.0-alpha,module_version=0.4.0-alpha)"
      ]
     },
     "execution_count": 14,
     "metadata": {},
     "output_type": "execute_result"
    }
   ],
   "source": [
    "cls"
   ]
  },
  {
   "cell_type": "code",
   "execution_count": 15,
   "metadata": {
    "execution": {
     "iopub.execute_input": "2022-08-01T20:20:09.674324Z",
     "iopub.status.busy": "2022-08-01T20:20:09.674064Z",
     "iopub.status.idle": "2022-08-01T20:20:09.688795Z",
     "shell.execute_reply": "2022-08-01T20:20:09.687989Z",
     "shell.execute_reply.started": "2022-08-01T20:20:09.674300Z"
    }
   },
   "outputs": [],
   "source": [
    "cls.mergeForest(cls, 10, 'random')"
   ]
  },
  {
   "cell_type": "code",
   "execution_count": 16,
   "metadata": {
    "execution": {
     "iopub.execute_input": "2022-08-01T20:20:09.690145Z",
     "iopub.status.busy": "2022-08-01T20:20:09.689882Z",
     "iopub.status.idle": "2022-08-01T20:20:09.705722Z",
     "shell.execute_reply": "2022-08-01T20:20:09.704855Z",
     "shell.execute_reply.started": "2022-08-01T20:20:09.690120Z"
    }
   },
   "outputs": [
    {
     "data": {
      "text/plain": [
       "RandomForestMC(len(Forest)=10,n_trees=8,model_version=0.4.0-alpha,module_version=0.4.0-alpha)"
      ]
     },
     "execution_count": 16,
     "metadata": {},
     "output_type": "execute_result"
    }
   ],
   "source": [
    "cls"
   ]
  },
  {
   "cell_type": "code",
   "execution_count": 17,
   "metadata": {
    "execution": {
     "iopub.execute_input": "2022-08-01T20:20:09.708129Z",
     "iopub.status.busy": "2022-08-01T20:20:09.707865Z",
     "iopub.status.idle": "2022-08-01T20:20:09.723169Z",
     "shell.execute_reply": "2022-08-01T20:20:09.722204Z",
     "shell.execute_reply.started": "2022-08-01T20:20:09.708104Z"
    }
   },
   "outputs": [
    {
     "data": {
      "text/plain": [
       "[DecisionTreeMC(survived_score=0.9,module_version=0.4.0-alpha),\n",
       " DecisionTreeMC(survived_score=0.8,module_version=0.4.0-alpha),\n",
       " DecisionTreeMC(survived_score=0.75,module_version=0.4.0-alpha),\n",
       " DecisionTreeMC(survived_score=0.9,module_version=0.4.0-alpha),\n",
       " DecisionTreeMC(survived_score=0.7,module_version=0.4.0-alpha),\n",
       " DecisionTreeMC(survived_score=0.7,module_version=0.4.0-alpha),\n",
       " DecisionTreeMC(survived_score=0.9,module_version=0.4.0-alpha),\n",
       " DecisionTreeMC(survived_score=0.75,module_version=0.4.0-alpha),\n",
       " DecisionTreeMC(survived_score=0.9,module_version=0.4.0-alpha),\n",
       " DecisionTreeMC(survived_score=0.9,module_version=0.4.0-alpha)]"
      ]
     },
     "execution_count": 17,
     "metadata": {},
     "output_type": "execute_result"
    }
   ],
   "source": [
    "cls.data"
   ]
  },
  {
   "cell_type": "code",
   "execution_count": 18,
   "metadata": {
    "execution": {
     "iopub.execute_input": "2022-08-01T20:20:09.726764Z",
     "iopub.status.busy": "2022-08-01T20:20:09.726259Z",
     "iopub.status.idle": "2022-08-01T20:20:09.739208Z",
     "shell.execute_reply": "2022-08-01T20:20:09.738327Z",
     "shell.execute_reply.started": "2022-08-01T20:20:09.726739Z"
    },
    "tags": []
   },
   "outputs": [],
   "source": [
    "cls.mergeForest(cls, 7,'score')"
   ]
  },
  {
   "cell_type": "code",
   "execution_count": 19,
   "metadata": {
    "execution": {
     "iopub.execute_input": "2022-08-01T20:20:09.740899Z",
     "iopub.status.busy": "2022-08-01T20:20:09.740207Z",
     "iopub.status.idle": "2022-08-01T20:20:09.755086Z",
     "shell.execute_reply": "2022-08-01T20:20:09.754203Z",
     "shell.execute_reply.started": "2022-08-01T20:20:09.740874Z"
    },
    "tags": []
   },
   "outputs": [
    {
     "data": {
      "text/plain": [
       "RandomForestMC(len(Forest)=7,n_trees=8,model_version=0.4.0-alpha,module_version=0.4.0-alpha)"
      ]
     },
     "execution_count": 19,
     "metadata": {},
     "output_type": "execute_result"
    }
   ],
   "source": [
    "cls"
   ]
  },
  {
   "cell_type": "code",
   "execution_count": 20,
   "metadata": {
    "execution": {
     "iopub.execute_input": "2022-08-01T20:20:09.756707Z",
     "iopub.status.busy": "2022-08-01T20:20:09.756313Z",
     "iopub.status.idle": "2022-08-01T20:20:09.771470Z",
     "shell.execute_reply": "2022-08-01T20:20:09.770470Z",
     "shell.execute_reply.started": "2022-08-01T20:20:09.756671Z"
    },
    "tags": []
   },
   "outputs": [],
   "source": [
    "Tree = cls.data[0]"
   ]
  },
  {
   "cell_type": "code",
   "execution_count": 21,
   "metadata": {
    "execution": {
     "iopub.execute_input": "2022-08-01T20:20:09.773184Z",
     "iopub.status.busy": "2022-08-01T20:20:09.772544Z",
     "iopub.status.idle": "2022-08-01T20:20:09.789400Z",
     "shell.execute_reply": "2022-08-01T20:20:09.788648Z",
     "shell.execute_reply.started": "2022-08-01T20:20:09.773144Z"
    },
    "tags": []
   },
   "outputs": [
    {
     "data": {
      "text/plain": [
       "7"
      ]
     },
     "execution_count": 21,
     "metadata": {},
     "output_type": "execute_result"
    }
   ],
   "source": [
    "len(cls.survived_scores)"
   ]
  },
  {
   "cell_type": "code",
   "execution_count": 22,
   "metadata": {
    "execution": {
     "iopub.execute_input": "2022-08-01T20:20:09.791384Z",
     "iopub.status.busy": "2022-08-01T20:20:09.791110Z",
     "iopub.status.idle": "2022-08-01T20:20:09.805404Z",
     "shell.execute_reply": "2022-08-01T20:20:09.804520Z",
     "shell.execute_reply.started": "2022-08-01T20:20:09.791359Z"
    },
    "tags": []
   },
   "outputs": [],
   "source": [
    "#Tree == Tree.data"
   ]
  },
  {
   "cell_type": "code",
   "execution_count": 23,
   "metadata": {
    "execution": {
     "iopub.execute_input": "2022-08-01T20:20:09.806679Z",
     "iopub.status.busy": "2022-08-01T20:20:09.806371Z",
     "iopub.status.idle": "2022-08-01T20:20:09.821634Z",
     "shell.execute_reply": "2022-08-01T20:20:09.820665Z",
     "shell.execute_reply.started": "2022-08-01T20:20:09.806654Z"
    },
    "tags": []
   },
   "outputs": [],
   "source": [
    "dataset = dataset.reset_index(drop=True)\n",
    "row = dataset.loc[0]"
   ]
  },
  {
   "cell_type": "code",
   "execution_count": 28,
   "metadata": {
    "execution": {
     "iopub.execute_input": "2022-08-01T20:23:16.427342Z",
     "iopub.status.busy": "2022-08-01T20:23:16.426548Z",
     "iopub.status.idle": "2022-08-01T20:23:16.446723Z",
     "shell.execute_reply": "2022-08-01T20:23:16.445704Z",
     "shell.execute_reply.started": "2022-08-01T20:23:16.427312Z"
    }
   },
   "outputs": [
    {
     "data": {
      "text/plain": [
       "V1       -0.583218\n",
       "V2        0.955092\n",
       "V3        1.407827\n",
       "V4        1.559776\n",
       "V5        0.251586\n",
       "V6       -0.166301\n",
       "V7        0.567984\n",
       "V8       -0.140859\n",
       "V9       -1.370046\n",
       "V10       0.559036\n",
       "V11       0.290585\n",
       "V12       0.437309\n",
       "V13       1.041657\n",
       "V14      -0.016315\n",
       "V15       0.706518\n",
       "V16      -0.317833\n",
       "V17       0.007561\n",
       "V18       -1.17142\n",
       "V19      -0.812256\n",
       "V20      -0.068132\n",
       "V21       0.056497\n",
       "V22       0.061986\n",
       "V23       0.129657\n",
       "V24       1.050658\n",
       "V25      -1.380546\n",
       "V26      -0.415294\n",
       "V27      -0.241776\n",
       "V28       0.569081\n",
       "Amount        2.11\n",
       "Class            0\n",
       "Name: 0, dtype: object"
      ]
     },
     "execution_count": 28,
     "metadata": {},
     "output_type": "execute_result"
    }
   ],
   "source": [
    "dataset.reset_index(drop=True).loc[0]"
   ]
  },
  {
   "cell_type": "code",
   "execution_count": 24,
   "metadata": {
    "execution": {
     "iopub.execute_input": "2022-08-01T20:20:09.822995Z",
     "iopub.status.busy": "2022-08-01T20:20:09.822720Z",
     "iopub.status.idle": "2022-08-01T20:20:09.837356Z",
     "shell.execute_reply": "2022-08-01T20:20:09.836557Z",
     "shell.execute_reply.started": "2022-08-01T20:20:09.822971Z"
    },
    "tags": []
   },
   "outputs": [
    {
     "data": {
      "text/plain": [
       "{'0': 1.0, '1': 0.0}"
      ]
     },
     "execution_count": 24,
     "metadata": {},
     "output_type": "execute_result"
    }
   ],
   "source": [
    "cls.predict(row)"
   ]
  },
  {
   "cell_type": "code",
   "execution_count": 25,
   "metadata": {
    "execution": {
     "iopub.execute_input": "2022-08-01T20:20:09.839474Z",
     "iopub.status.busy": "2022-08-01T20:20:09.838273Z",
     "iopub.status.idle": "2022-08-01T20:20:09.857166Z",
     "shell.execute_reply": "2022-08-01T20:20:09.856371Z",
     "shell.execute_reply.started": "2022-08-01T20:20:09.839434Z"
    },
    "tags": []
   },
   "outputs": [
    {
     "data": {
      "text/plain": [
       "['0', '0', '0', '0', '0', '0', '0', '0', '0', '0']"
      ]
     },
     "execution_count": 25,
     "metadata": {},
     "output_type": "execute_result"
    }
   ],
   "source": [
    "cls.predict(dataset.sample(n=10))"
   ]
  },
  {
   "cell_type": "code",
   "execution_count": 26,
   "metadata": {
    "execution": {
     "iopub.execute_input": "2022-08-01T20:20:09.858985Z",
     "iopub.status.busy": "2022-08-01T20:20:09.858728Z",
     "iopub.status.idle": "2022-08-01T20:20:09.872605Z",
     "shell.execute_reply": "2022-08-01T20:20:09.871786Z",
     "shell.execute_reply.started": "2022-08-01T20:20:09.858961Z"
    }
   },
   "outputs": [
    {
     "data": {
      "text/plain": [
       "{'0': 1.0, '1': 0.0}"
      ]
     },
     "execution_count": 26,
     "metadata": {},
     "output_type": "execute_result"
    }
   ],
   "source": [
    "cls.predict_proba(row)"
   ]
  },
  {
   "cell_type": "code",
   "execution_count": 27,
   "metadata": {
    "execution": {
     "iopub.execute_input": "2022-08-01T20:21:00.010308Z",
     "iopub.status.busy": "2022-08-01T20:21:00.009637Z",
     "iopub.status.idle": "2022-08-01T20:21:00.032301Z",
     "shell.execute_reply": "2022-08-01T20:21:00.031394Z",
     "shell.execute_reply.started": "2022-08-01T20:21:00.010279Z"
    }
   },
   "outputs": [
    {
     "data": {
      "text/plain": [
       "[{'0': 1.0, '1': 0.0},\n",
       " {'0': 1.0, '1': 0.0},\n",
       " {'0': 1.0, '1': 0.0},\n",
       " {'0': 1.0, '1': 0.0},\n",
       " {'0': 0.8571428571428571, '1': 0.14285714285714285},\n",
       " {'0': 1.0, '1': 0.0},\n",
       " {'0': 1.0, '1': 0.0},\n",
       " {'0': 1.0, '1': 0.0},\n",
       " {'0': 0.5714285714285714, '1': 0.42857142857142855},\n",
       " {'0': 0.5714285714285714, '1': 0.42857142857142855}]"
      ]
     },
     "execution_count": 27,
     "metadata": {},
     "output_type": "execute_result"
    }
   ],
   "source": [
    "cls.predict_proba(dataset.sample(n=10))"
   ]
  },
  {
   "cell_type": "code",
   "execution_count": null,
   "metadata": {},
   "outputs": [],
   "source": [
    "cls.predict(row)"
   ]
  }
 ],
 "metadata": {
  "kernelspec": {
   "display_name": "Python 3 (ipykernel)",
   "language": "python",
   "name": "python3"
  },
  "language_info": {
   "codemirror_mode": {
    "name": "ipython",
    "version": 3
   },
   "file_extension": ".py",
   "mimetype": "text/x-python",
   "name": "python",
   "nbconvert_exporter": "python",
   "pygments_lexer": "ipython3",
   "version": "3.10.5"
  }
 },
 "nbformat": 4,
 "nbformat_minor": 4
}
