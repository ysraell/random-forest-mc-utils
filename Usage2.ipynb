{
 "cells": [
  {
   "cell_type": "markdown",
   "metadata": {},
   "source": [
    "# Usage \n",
    "\n",
    "- Author: Israel de Oliveira [\\[e-mail\\]](mailto:'Israel%20Oliveira%20'<prof.israel@gmail.com>)"
   ]
  },
  {
   "cell_type": "code",
   "execution_count": 2,
   "metadata": {
    "execution": {
     "iopub.execute_input": "2022-08-02T02:59:29.996555Z",
     "iopub.status.busy": "2022-08-02T02:59:29.995822Z",
     "iopub.status.idle": "2022-08-02T02:59:32.754321Z",
     "shell.execute_reply": "2022-08-02T02:59:32.753317Z",
     "shell.execute_reply.started": "2022-08-02T02:59:29.996524Z"
    },
    "tags": []
   },
   "outputs": [
    {
     "name": "stdout",
     "output_type": "stream",
     "text": [
      "Requirement already satisfied: random-forest-mc in /usr/local/lib/python3.10/site-packages (0.4.0a0)\n",
      "Collecting random-forest-mc\n",
      "  Downloading random_forest_mc-1.0.0-py3-none-any.whl (13 kB)\n",
      "Requirement already satisfied: numpy>=1.20 in /usr/local/lib/python3.10/site-packages (from random-forest-mc) (1.23.1)\n",
      "Requirement already satisfied: tqdm>=4.60 in /usr/local/lib/python3.10/site-packages (from random-forest-mc) (4.64.0)\n",
      "Requirement already satisfied: pandas>=1.3 in /usr/local/lib/python3.10/site-packages (from random-forest-mc) (1.4.3)\n",
      "Requirement already satisfied: pytz>=2020.1 in /usr/local/lib/python3.10/site-packages (from pandas>=1.3->random-forest-mc) (2022.1)\n",
      "Requirement already satisfied: python-dateutil>=2.8.1 in /usr/local/lib/python3.10/site-packages (from pandas>=1.3->random-forest-mc) (2.8.2)\n",
      "Requirement already satisfied: six>=1.5 in /usr/local/lib/python3.10/site-packages (from python-dateutil>=2.8.1->pandas>=1.3->random-forest-mc) (1.16.0)\n",
      "Installing collected packages: random-forest-mc\n",
      "  Attempting uninstall: random-forest-mc\n",
      "    Found existing installation: random-forest-mc 0.4.0a0\n",
      "    Uninstalling random-forest-mc-0.4.0a0:\n",
      "      Successfully uninstalled random-forest-mc-0.4.0a0\n",
      "Successfully installed random-forest-mc-1.0.0\n",
      "\u001b[33mWARNING: Running pip as the 'root' user can result in broken permissions and conflicting behaviour with the system package manager. It is recommended to use a virtual environment instead: https://pip.pypa.io/warnings/venv\u001b[0m\u001b[33m\n",
      "\u001b[0m"
     ]
    }
   ],
   "source": [
    "!pip install -U random-forest-mc"
   ]
  },
  {
   "cell_type": "code",
   "execution_count": 3,
   "metadata": {
    "execution": {
     "iopub.execute_input": "2022-08-02T02:59:35.950469Z",
     "iopub.status.busy": "2022-08-02T02:59:35.949723Z",
     "iopub.status.idle": "2022-08-02T02:59:35.971418Z",
     "shell.execute_reply": "2022-08-02T02:59:35.970661Z",
     "shell.execute_reply.started": "2022-08-02T02:59:35.950439Z"
    },
    "tags": []
   },
   "outputs": [],
   "source": [
    "%load_ext watermark"
   ]
  },
  {
   "cell_type": "code",
   "execution_count": 4,
   "metadata": {
    "execution": {
     "iopub.execute_input": "2022-08-02T02:59:36.906011Z",
     "iopub.status.busy": "2022-08-02T02:59:36.904967Z",
     "iopub.status.idle": "2022-08-02T02:59:37.351953Z",
     "shell.execute_reply": "2022-08-02T02:59:37.351022Z",
     "shell.execute_reply.started": "2022-08-02T02:59:36.905976Z"
    },
    "tags": []
   },
   "outputs": [],
   "source": [
    "%load_ext autoreload\n",
    "%autoreload 2\n",
    "import numpy as np\n",
    "import pandas as pd\n",
    "from random_forest_mc.model import RandomForestMC\n",
    "from random_forest_mc.utils import load_file_json, dump_file_json\n"
   ]
  },
  {
   "cell_type": "code",
   "execution_count": 5,
   "metadata": {
    "execution": {
     "iopub.execute_input": "2022-08-02T02:59:38.267591Z",
     "iopub.status.busy": "2022-08-02T02:59:38.266782Z",
     "iopub.status.idle": "2022-08-02T02:59:38.288278Z",
     "shell.execute_reply": "2022-08-02T02:59:38.287336Z",
     "shell.execute_reply.started": "2022-08-02T02:59:38.267560Z"
    },
    "tags": []
   },
   "outputs": [],
   "source": [
    "# from tqdm import notebook as tqdm\n",
    "\n",
    "from glob import glob\n",
    "\n",
    "# import matplotlib.pyplot as plt\n",
    "# %matplotlib inline\n",
    "# from matplotlib import rcParams\n",
    "# from cycler import cycler\n",
    "\n",
    "# rcParams['figure.figsize'] = 12, 8 # 18, 5\n",
    "# rcParams['axes.spines.top'] = False\n",
    "# rcParams['axes.spines.right'] = False\n",
    "# rcParams['axes.grid'] = True\n",
    "# rcParams['axes.prop_cycle'] = cycler(color=['#365977'])\n",
    "# rcParams['lines.linewidth'] = 2.5\n",
    "\n",
    "# import seaborn as sns\n",
    "# sns.set_theme()\n",
    "\n",
    "# pd.set_option(\"max_columns\", None)\n",
    "# pd.set_option(\"max_rows\", None)\n",
    "# pd.set_option('display.max_colwidth', None)\n",
    "\n",
    "from IPython.display import Markdown, display\n",
    "def md(arg):\n",
    "    display(Markdown(arg))\n",
    "\n",
    "# from pandas_profiling import ProfileReport\n",
    "# #report = ProfileReport(#DataFrame here#, minimal=True)\n",
    "# #report.to\n",
    "\n",
    "# import pyarrow.parquet as pq\n",
    "# #df = pq.ParquetDataset(path_to_folder_with_parquets, filesystem=None).read_pandas().to_pandas()\n",
    "\n",
    "# import functools\n",
    "# import operator\n",
    "# def flat(a):\n",
    "#     return functools.reduce(operator.iconcat, a, [])\n",
    "\n",
    "\n",
    "######### LoadDicts\n",
    "\n",
    "import json\n",
    "from glob import glob\n",
    "from typing import Any\n",
    "from typing import NewType\n",
    "\n",
    "def np_encoder(object):\n",
    "    if isinstance(object, np.generic):\n",
    "        return object.item()\n",
    "\n",
    "\n",
    "DictsPathType = NewType(\"DictsPath\", str)\n",
    "\n",
    "\n",
    "def load_file_json(path: DictsPathType):\n",
    "    with open(path, \"r\") as f:\n",
    "        return json.load(f)\n",
    "\n",
    "\n",
    "def dump_file_json(path: DictsPathType, var: Any):\n",
    "    with open(path, \"w\") as f:\n",
    "        return json.dump(var, f, indent=4, default=np_encoder)\n",
    "\n",
    "\n",
    "class LoadDicts:\n",
    "    def __init__(self, dict_path: DictsPathType = \"./data\"):\n",
    "        Dicts_glob = glob(f\"{dict_path}/*.json\")\n",
    "        self.List = []\n",
    "        self.Dict = {}\n",
    "        for path_json in Dicts_glob:\n",
    "            name = path_json.split(\"/\")[-1].replace(\".json\", \"\")\n",
    "            self.List.append(name)\n",
    "            self.Dict[name] = load_file_json(path_json)\n",
    "            setattr(self, name, self.Dict[name])\n",
    "\n",
    "    def __repr__(self) -> str:\n",
    "        return \"LoadDicts: {}\".format(\", \".join(self.List))"
   ]
  },
  {
   "cell_type": "code",
   "execution_count": 6,
   "metadata": {
    "execution": {
     "iopub.execute_input": "2022-08-02T02:59:38.999221Z",
     "iopub.status.busy": "2022-08-02T02:59:38.998482Z",
     "iopub.status.idle": "2022-08-02T02:59:39.313768Z",
     "shell.execute_reply": "2022-08-02T02:59:39.312665Z",
     "shell.execute_reply.started": "2022-08-02T02:59:38.999188Z"
    },
    "tags": []
   },
   "outputs": [
    {
     "name": "stdout",
     "output_type": "stream",
     "text": [
      "Python implementation: CPython\n",
      "Python version       : 3.10.5\n",
      "IPython version      : 8.4.0\n",
      "\n",
      "Compiler    : GCC 10.2.1 20210110\n",
      "OS          : Linux\n",
      "Release     : 4.14.285-215.501.amzn2.x86_64\n",
      "Machine     : x86_64\n",
      "Processor   : \n",
      "CPU cores   : 4\n",
      "Architecture: 64bit\n",
      "\n",
      "Git hash: ed9d6a828038724ce12549dd4e4c79962779557a\n",
      "\n",
      "Git repo: https://github.com/ysraell/random-forest-mc.git\n",
      "\n",
      "Git branch: main\n",
      "\n",
      "pandas: 1.4.3\n",
      "numpy : 1.23.1\n",
      "json  : 2.0.9\n",
      "\n",
      "CPU\t: Intel(R) Xeon(R) CPU E5-2686 v4 @ 2.30GHz\n",
      "Mem:            15G\n",
      "Swap:             0B          0B          0B\n"
     ]
    }
   ],
   "source": [
    "# Run this cell before close.\n",
    "%watermark -d --iversion -b -r -g -m -v\n",
    "!cat /proc/cpuinfo |grep 'model name'|head -n 1 |sed -e 's/model\\ name/CPU/'\n",
    "!free -h |cut -d'i' -f1  |grep -v total"
   ]
  },
  {
   "cell_type": "code",
   "execution_count": 7,
   "metadata": {
    "execution": {
     "iopub.execute_input": "2022-08-02T02:59:39.755486Z",
     "iopub.status.busy": "2022-08-02T02:59:39.754770Z",
     "iopub.status.idle": "2022-08-02T02:59:39.782531Z",
     "shell.execute_reply": "2022-08-02T02:59:39.781437Z",
     "shell.execute_reply.started": "2022-08-02T02:59:39.755454Z"
    },
    "tags": []
   },
   "outputs": [
    {
     "data": {
      "text/plain": [
       "['/work/tmp/datasets/creditcard.csv',\n",
       " '/work/tmp/datasets/creditcard_trans_float.csv',\n",
       " '/work/tmp/datasets/creditcard_trans_int.csv',\n",
       " '/work/tmp/datasets/iris.csv',\n",
       " '/work/tmp/datasets/titanic.csv']"
      ]
     },
     "execution_count": 7,
     "metadata": {},
     "output_type": "execute_result"
    }
   ],
   "source": [
    "dataset_path_list = glob('/work/tmp/datasets/*.csv')\n",
    "dataset_path_list"
   ]
  },
  {
   "cell_type": "code",
   "execution_count": 8,
   "metadata": {
    "execution": {
     "iopub.execute_input": "2022-08-02T02:59:40.441933Z",
     "iopub.status.busy": "2022-08-02T02:59:40.441217Z",
     "iopub.status.idle": "2022-08-02T02:59:40.460454Z",
     "shell.execute_reply": "2022-08-02T02:59:40.459659Z",
     "shell.execute_reply.started": "2022-08-02T02:59:40.441904Z"
    },
    "tags": []
   },
   "outputs": [],
   "source": [
    "dataset_dict = {\n",
    "    'titanic' : {\n",
    "        'ds_cols' : ['Pclass', 'Sex', 'Age', 'SibSp', 'Fare', 'Embarked'],\n",
    "        'target_col' : 'Survived',\n",
    "        'csv_path' : '/work/tmp/datasets/titanic.csv'\n",
    "    },\n",
    "    'iris': {\n",
    "        'ds_cols' : ['sepal.length', 'sepal.width', 'petal.length', 'petal.width'],\n",
    "        'target_col' : 'variety',\n",
    "        'csv_path' : '/work/tmp/datasets/iris.csv'\n",
    "    },\n",
    "    'creditcard': {\n",
    "        'ds_cols' : ['V1', 'V2', 'V3', 'V4', 'V5', 'V6', 'V7', 'V8', 'V9', 'V10',\n",
    "       'V11', 'V12', 'V13', 'V14', 'V15', 'V16', 'V17', 'V18', 'V19', 'V20',\n",
    "       'V21', 'V22', 'V23', 'V24', 'V25', 'V26', 'V27', 'V28', 'Amount'],\n",
    "        'target_col' : 'Class',\n",
    "        'csv_path' : '/work/tmp/datasets/creditcard.csv'\n",
    "    },\n",
    "    'creditcard_trans_int': {\n",
    "        'ds_cols' : ['V1', 'V2', 'V3', 'V4', 'V5', 'V6', 'V7', 'V8', 'V9', 'V10',\n",
    "       'V11', 'V12', 'V13', 'V14', 'V15', 'V16', 'V17', 'V18', 'V19', 'V20',\n",
    "       'V21', 'V22', 'V23', 'V24', 'V25', 'V26', 'V27', 'V28', 'Amount'],\n",
    "        'target_col' : 'Class',\n",
    "        'csv_path' : '/work/tmp/datasets/creditcard_trans_int.csv'\n",
    "    },\n",
    "    'creditcard_trans_float': {\n",
    "        'ds_cols' : ['V1', 'V2', 'V3', 'V4', 'V5', 'V6', 'V7', 'V8', 'V9', 'V10',\n",
    "       'V11', 'V12', 'V13', 'V14', 'V15', 'V16', 'V17', 'V18', 'V19', 'V20',\n",
    "       'V21', 'V22', 'V23', 'V24', 'V25', 'V26', 'V27', 'V28', 'Amount'],\n",
    "        'target_col' : 'Class',\n",
    "        'csv_path' : '/work/tmp/datasets/creditcard_trans_float.csv'\n",
    "    }\n",
    "}\n",
    "\n",
    "# dump_file_json('../tests/datasets_metadata.json',dataset_dict)"
   ]
  },
  {
   "cell_type": "code",
   "execution_count": 9,
   "metadata": {
    "execution": {
     "iopub.execute_input": "2022-08-02T02:59:41.446954Z",
     "iopub.status.busy": "2022-08-02T02:59:41.446035Z",
     "iopub.status.idle": "2022-08-02T02:59:43.857829Z",
     "shell.execute_reply": "2022-08-02T02:59:43.856860Z",
     "shell.execute_reply.started": "2022-08-02T02:59:41.446922Z"
    },
    "tags": []
   },
   "outputs": [
    {
     "data": {
      "text/markdown": [
       "# titanic"
      ],
      "text/plain": [
       "<IPython.core.display.Markdown object>"
      ]
     },
     "metadata": {},
     "output_type": "display_data"
    },
    {
     "name": "stderr",
     "output_type": "stream",
     "text": [
      "Planting the forest: 100%|██████████| 8/8 [00:02<00:00,  3.94it/s]\n"
     ]
    },
    {
     "data": {
      "text/markdown": [
       "## Accuracy:"
      ],
      "text/plain": [
       "<IPython.core.display.Markdown object>"
      ]
     },
     "metadata": {},
     "output_type": "display_data"
    },
    {
     "data": {
      "text/markdown": [
       "## &nbsp;&nbsp;&nbsp; 70.93\\% (hard-voting)"
      ],
      "text/plain": [
       "<IPython.core.display.Markdown object>"
      ]
     },
     "metadata": {},
     "output_type": "display_data"
    },
    {
     "data": {
      "text/markdown": [
       "## &nbsp;&nbsp;&nbsp; 70.79\\% (soft-voting)"
      ],
      "text/plain": [
       "<IPython.core.display.Markdown object>"
      ]
     },
     "metadata": {},
     "output_type": "display_data"
    }
   ],
   "source": [
    "ds_name = 'titanic'\n",
    "md(f'# {ds_name}')\n",
    "params = dataset_dict[ds_name]\n",
    "\n",
    "dataset = pd.read_csv(params['csv_path'])[params['ds_cols']+[params['target_col']]].dropna().reset_index(drop=True)\n",
    "dataset['Age'] = dataset['Age'].astype(np.uint8)\n",
    "dataset['SibSp'] = dataset['SibSp'].astype(np.uint8)\n",
    "dataset['Pclass'] = dataset['Pclass'].astype(str)\n",
    "dataset['Fare'] = dataset['Fare'].astype(np.uint32)\n",
    "cls = RandomForestMC(\n",
    "    n_trees=8,\n",
    "    target_col = params['target_col'],\n",
    "    max_discard_trees = 4\n",
    ")\n",
    "cls.process_dataset(dataset)\n",
    "cls.fit()\n",
    "y_test = dataset[params['target_col']].to_list()\n",
    "y_pred = cls.testForest(dataset)\n",
    "accuracy_hard = \"{:.2f}\\%\".format(100*sum([v == p for v, p in zip(y_test, y_pred)]) / len(y_pred))\n",
    "cls.soft_voting=True\n",
    "y_pred = cls.testForest(dataset)\n",
    "accuracy_soft = \"{:.2f}\\%\".format(100*sum([v == p for v, p in zip(y_test, y_pred)]) / len(y_pred))\n",
    "md('## Accuracy:') \n",
    "md(f'## &nbsp;&nbsp;&nbsp; {accuracy_hard} (hard-voting)')\n",
    "md(f'## &nbsp;&nbsp;&nbsp; {accuracy_soft} (soft-voting)')"
   ]
  },
  {
   "cell_type": "code",
   "execution_count": 10,
   "metadata": {
    "execution": {
     "iopub.execute_input": "2022-08-02T02:59:45.951610Z",
     "iopub.status.busy": "2022-08-02T02:59:45.950904Z",
     "iopub.status.idle": "2022-08-02T02:59:47.442801Z",
     "shell.execute_reply": "2022-08-02T02:59:47.441708Z",
     "shell.execute_reply.started": "2022-08-02T02:59:45.951580Z"
    },
    "tags": []
   },
   "outputs": [
    {
     "data": {
      "text/markdown": [
       "# iris"
      ],
      "text/plain": [
       "<IPython.core.display.Markdown object>"
      ]
     },
     "metadata": {},
     "output_type": "display_data"
    },
    {
     "name": "stderr",
     "output_type": "stream",
     "text": [
      "Planting the forest: 100%|██████████| 8/8 [00:01<00:00,  5.73it/s]\n"
     ]
    },
    {
     "data": {
      "text/markdown": [
       "## Accuracy:"
      ],
      "text/plain": [
       "<IPython.core.display.Markdown object>"
      ]
     },
     "metadata": {},
     "output_type": "display_data"
    },
    {
     "data": {
      "text/markdown": [
       "## &nbsp;&nbsp;&nbsp; 92.00\\% (hard-voting)"
      ],
      "text/plain": [
       "<IPython.core.display.Markdown object>"
      ]
     },
     "metadata": {},
     "output_type": "display_data"
    },
    {
     "data": {
      "text/markdown": [
       "## &nbsp;&nbsp;&nbsp; 94.00\\% (soft-voting)"
      ],
      "text/plain": [
       "<IPython.core.display.Markdown object>"
      ]
     },
     "metadata": {},
     "output_type": "display_data"
    }
   ],
   "source": [
    "ds_name = 'iris'\n",
    "md(f'# {ds_name}')\n",
    "params = dataset_dict[ds_name]\n",
    "\n",
    "dataset = pd.read_csv(params['csv_path'])[params['ds_cols']+[params['target_col']]].dropna().reset_index(drop=True)\n",
    "dataset.rename(columns={col: col.replace('.','_') for col in dataset.columns}, inplace=True)\n",
    "params['ds_cols'] = [col.replace('.','_') for col in params['ds_cols']]\n",
    "cls = RandomForestMC(\n",
    "    n_trees=8,\n",
    "    target_col = params['target_col'],\n",
    "    max_discard_trees = 4\n",
    ")\n",
    "cls.process_dataset(dataset)\n",
    "cls.fit()\n",
    "y_test = dataset[params['target_col']].to_list()\n",
    "y_pred = cls.testForest(dataset)\n",
    "accuracy_hard = \"{:.2f}\\%\".format(100*sum([v == p for v, p in zip(y_test, y_pred)]) / len(y_pred))\n",
    "cls.soft_voting=True\n",
    "y_pred = cls.testForest(dataset)\n",
    "accuracy_soft = \"{:.2f}\\%\".format(100*sum([v == p for v, p in zip(y_test, y_pred)]) / len(y_pred))\n",
    "md('## Accuracy:') \n",
    "md(f'## &nbsp;&nbsp;&nbsp; {accuracy_hard} (hard-voting)')\n",
    "md(f'## &nbsp;&nbsp;&nbsp; {accuracy_soft} (soft-voting)')"
   ]
  },
  {
   "cell_type": "code",
   "execution_count": 11,
   "metadata": {
    "execution": {
     "iopub.execute_input": "2022-08-02T02:59:48.809935Z",
     "iopub.status.busy": "2022-08-02T02:59:48.809024Z",
     "iopub.status.idle": "2022-08-02T03:00:01.918762Z",
     "shell.execute_reply": "2022-08-02T03:00:01.917588Z",
     "shell.execute_reply.started": "2022-08-02T02:59:48.809905Z"
    },
    "tags": []
   },
   "outputs": [
    {
     "data": {
      "text/markdown": [
       "# creditcard"
      ],
      "text/plain": [
       "<IPython.core.display.Markdown object>"
      ]
     },
     "metadata": {},
     "output_type": "display_data"
    },
    {
     "name": "stderr",
     "output_type": "stream",
     "text": [
      "Planting the forest: 100%|██████████| 8/8 [00:02<00:00,  3.80it/s]\n"
     ]
    },
    {
     "data": {
      "text/markdown": [
       "## Accuracy:"
      ],
      "text/plain": [
       "<IPython.core.display.Markdown object>"
      ]
     },
     "metadata": {},
     "output_type": "display_data"
    },
    {
     "data": {
      "text/markdown": [
       "## &nbsp;&nbsp;&nbsp; 99.80\\% (hard-voting)"
      ],
      "text/plain": [
       "<IPython.core.display.Markdown object>"
      ]
     },
     "metadata": {},
     "output_type": "display_data"
    },
    {
     "data": {
      "text/markdown": [
       "## &nbsp;&nbsp;&nbsp; 99.80\\% (soft-voting)"
      ],
      "text/plain": [
       "<IPython.core.display.Markdown object>"
      ]
     },
     "metadata": {},
     "output_type": "display_data"
    },
    {
     "data": {
      "text/markdown": [
       "# creditcard_trans_int"
      ],
      "text/plain": [
       "<IPython.core.display.Markdown object>"
      ]
     },
     "metadata": {},
     "output_type": "display_data"
    },
    {
     "name": "stderr",
     "output_type": "stream",
     "text": [
      "Planting the forest: 100%|██████████| 8/8 [00:01<00:00,  4.35it/s]\n"
     ]
    },
    {
     "data": {
      "text/markdown": [
       "## Accuracy:"
      ],
      "text/plain": [
       "<IPython.core.display.Markdown object>"
      ]
     },
     "metadata": {},
     "output_type": "display_data"
    },
    {
     "data": {
      "text/markdown": [
       "## &nbsp;&nbsp;&nbsp; 99.50\\% (hard-voting)"
      ],
      "text/plain": [
       "<IPython.core.display.Markdown object>"
      ]
     },
     "metadata": {},
     "output_type": "display_data"
    },
    {
     "data": {
      "text/markdown": [
       "## &nbsp;&nbsp;&nbsp; 99.50\\% (soft-voting)"
      ],
      "text/plain": [
       "<IPython.core.display.Markdown object>"
      ]
     },
     "metadata": {},
     "output_type": "display_data"
    },
    {
     "data": {
      "text/markdown": [
       "# creditcard_trans_float"
      ],
      "text/plain": [
       "<IPython.core.display.Markdown object>"
      ]
     },
     "metadata": {},
     "output_type": "display_data"
    },
    {
     "name": "stderr",
     "output_type": "stream",
     "text": [
      "Planting the forest: 100%|██████████| 8/8 [00:02<00:00,  3.78it/s]\n"
     ]
    },
    {
     "data": {
      "text/markdown": [
       "## Accuracy:"
      ],
      "text/plain": [
       "<IPython.core.display.Markdown object>"
      ]
     },
     "metadata": {},
     "output_type": "display_data"
    },
    {
     "data": {
      "text/markdown": [
       "## &nbsp;&nbsp;&nbsp; 98.50\\% (hard-voting)"
      ],
      "text/plain": [
       "<IPython.core.display.Markdown object>"
      ]
     },
     "metadata": {},
     "output_type": "display_data"
    },
    {
     "data": {
      "text/markdown": [
       "## &nbsp;&nbsp;&nbsp; 98.50\\% (soft-voting)"
      ],
      "text/plain": [
       "<IPython.core.display.Markdown object>"
      ]
     },
     "metadata": {},
     "output_type": "display_data"
    }
   ],
   "source": [
    "for ds_name in ['creditcard', 'creditcard_trans_int', 'creditcard_trans_float']:\n",
    "    md(f'# {ds_name}')\n",
    "    params = dataset_dict[ds_name]\n",
    "\n",
    "    dataset = pd.read_csv(params['csv_path'])[params['ds_cols']+[params['target_col']]].dropna().reset_index(drop=True)\n",
    "    cls = RandomForestMC(\n",
    "        n_trees=8,\n",
    "        target_col = params['target_col'],\n",
    "        max_discard_trees = 4\n",
    "    )\n",
    "    cls.process_dataset(dataset)\n",
    "    cls.fit()\n",
    "    dataset = dataset.sample(n=1000)\n",
    "    y_test = dataset[params['target_col']].to_list()\n",
    "    y_pred = cls.testForest(dataset)\n",
    "    accuracy_hard = \"{:.2f}\\%\".format(100*sum([v == p for v, p in zip(y_test, y_pred)]) / len(y_pred))\n",
    "    cls.soft_voting=True\n",
    "    y_pred = cls.testForest(dataset)\n",
    "    accuracy_soft = \"{:.2f}\\%\".format(100*sum([v == p for v, p in zip(y_test, y_pred)]) / len(y_pred))\n",
    "    md('## Accuracy:') \n",
    "    md(f'## &nbsp;&nbsp;&nbsp; {accuracy_hard} (hard-voting)')\n",
    "    md(f'## &nbsp;&nbsp;&nbsp; {accuracy_soft} (soft-voting)')\n",
    "    model_dict = cls.model2dict()\n",
    "    model_path = f'/work/tmp/cls_rfmc_{ds_name}.json'\n",
    "    dump_file_json(model_path, model_dict)"
   ]
  },
  {
   "cell_type": "code",
   "execution_count": 12,
   "metadata": {
    "execution": {
     "iopub.execute_input": "2022-08-02T03:00:02.644727Z",
     "iopub.status.busy": "2022-08-02T03:00:02.644060Z",
     "iopub.status.idle": "2022-08-02T03:00:02.671917Z",
     "shell.execute_reply": "2022-08-02T03:00:02.670455Z",
     "shell.execute_reply.started": "2022-08-02T03:00:02.644685Z"
    }
   },
   "outputs": [
    {
     "data": {
      "text/plain": [
       "[DecisionTreeMC(survived_score=0.85,module_version=1.0.0),\n",
       " DecisionTreeMC(survived_score=0.9,module_version=1.0.0),\n",
       " DecisionTreeMC(survived_score=0.8,module_version=1.0.0),\n",
       " DecisionTreeMC(survived_score=0.9,module_version=1.0.0),\n",
       " DecisionTreeMC(survived_score=0.9,module_version=1.0.0),\n",
       " DecisionTreeMC(survived_score=0.85,module_version=1.0.0),\n",
       " DecisionTreeMC(survived_score=0.75,module_version=1.0.0),\n",
       " DecisionTreeMC(survived_score=0.9,module_version=1.0.0)]"
      ]
     },
     "execution_count": 12,
     "metadata": {},
     "output_type": "execute_result"
    }
   ],
   "source": [
    "cls.data"
   ]
  },
  {
   "cell_type": "code",
   "execution_count": 13,
   "metadata": {
    "execution": {
     "iopub.execute_input": "2022-08-02T03:00:04.709214Z",
     "iopub.status.busy": "2022-08-02T03:00:04.708645Z",
     "iopub.status.idle": "2022-08-02T03:00:04.729608Z",
     "shell.execute_reply": "2022-08-02T03:00:04.728375Z",
     "shell.execute_reply.started": "2022-08-02T03:00:04.709183Z"
    },
    "tags": []
   },
   "outputs": [],
   "source": [
    "cls.mergeForest(cls)"
   ]
  },
  {
   "cell_type": "code",
   "execution_count": 14,
   "metadata": {
    "execution": {
     "iopub.execute_input": "2022-08-02T03:00:04.960053Z",
     "iopub.status.busy": "2022-08-02T03:00:04.959312Z",
     "iopub.status.idle": "2022-08-02T03:00:04.979512Z",
     "shell.execute_reply": "2022-08-02T03:00:04.978385Z",
     "shell.execute_reply.started": "2022-08-02T03:00:04.960022Z"
    },
    "tags": []
   },
   "outputs": [
    {
     "data": {
      "text/plain": [
       "[DecisionTreeMC(survived_score=0.85,module_version=1.0.0),\n",
       " DecisionTreeMC(survived_score=0.9,module_version=1.0.0),\n",
       " DecisionTreeMC(survived_score=0.8,module_version=1.0.0),\n",
       " DecisionTreeMC(survived_score=0.9,module_version=1.0.0),\n",
       " DecisionTreeMC(survived_score=0.9,module_version=1.0.0),\n",
       " DecisionTreeMC(survived_score=0.85,module_version=1.0.0),\n",
       " DecisionTreeMC(survived_score=0.75,module_version=1.0.0),\n",
       " DecisionTreeMC(survived_score=0.9,module_version=1.0.0),\n",
       " DecisionTreeMC(survived_score=0.85,module_version=1.0.0),\n",
       " DecisionTreeMC(survived_score=0.9,module_version=1.0.0),\n",
       " DecisionTreeMC(survived_score=0.8,module_version=1.0.0),\n",
       " DecisionTreeMC(survived_score=0.9,module_version=1.0.0),\n",
       " DecisionTreeMC(survived_score=0.9,module_version=1.0.0),\n",
       " DecisionTreeMC(survived_score=0.85,module_version=1.0.0),\n",
       " DecisionTreeMC(survived_score=0.75,module_version=1.0.0),\n",
       " DecisionTreeMC(survived_score=0.9,module_version=1.0.0)]"
      ]
     },
     "execution_count": 14,
     "metadata": {},
     "output_type": "execute_result"
    }
   ],
   "source": [
    "cls.data"
   ]
  },
  {
   "cell_type": "code",
   "execution_count": 15,
   "metadata": {
    "execution": {
     "iopub.execute_input": "2022-08-02T03:00:10.520082Z",
     "iopub.status.busy": "2022-08-02T03:00:10.519372Z",
     "iopub.status.idle": "2022-08-02T03:00:10.535872Z",
     "shell.execute_reply": "2022-08-02T03:00:10.534811Z",
     "shell.execute_reply.started": "2022-08-02T03:00:10.520051Z"
    },
    "tags": []
   },
   "outputs": [],
   "source": [
    "cls.mergeForest(cls, 10, 'random')"
   ]
  },
  {
   "cell_type": "code",
   "execution_count": 16,
   "metadata": {
    "execution": {
     "iopub.execute_input": "2022-08-02T03:00:11.242897Z",
     "iopub.status.busy": "2022-08-02T03:00:11.242142Z",
     "iopub.status.idle": "2022-08-02T03:00:11.260693Z",
     "shell.execute_reply": "2022-08-02T03:00:11.259705Z",
     "shell.execute_reply.started": "2022-08-02T03:00:11.242866Z"
    },
    "tags": []
   },
   "outputs": [
    {
     "data": {
      "text/plain": [
       "RandomForestMC(len(Forest)=10,n_trees=8,model_version=1.0.0,module_version=1.0.0)"
      ]
     },
     "execution_count": 16,
     "metadata": {},
     "output_type": "execute_result"
    }
   ],
   "source": [
    "cls"
   ]
  },
  {
   "cell_type": "code",
   "execution_count": 17,
   "metadata": {
    "execution": {
     "iopub.execute_input": "2022-08-02T03:00:15.851195Z",
     "iopub.status.busy": "2022-08-02T03:00:15.850420Z",
     "iopub.status.idle": "2022-08-02T03:00:15.872037Z",
     "shell.execute_reply": "2022-08-02T03:00:15.871056Z",
     "shell.execute_reply.started": "2022-08-02T03:00:15.851164Z"
    },
    "tags": []
   },
   "outputs": [
    {
     "data": {
      "text/plain": [
       "[DecisionTreeMC(survived_score=0.8,module_version=1.0.0),\n",
       " DecisionTreeMC(survived_score=0.75,module_version=1.0.0),\n",
       " DecisionTreeMC(survived_score=0.9,module_version=1.0.0),\n",
       " DecisionTreeMC(survived_score=0.9,module_version=1.0.0),\n",
       " DecisionTreeMC(survived_score=0.9,module_version=1.0.0),\n",
       " DecisionTreeMC(survived_score=0.9,module_version=1.0.0),\n",
       " DecisionTreeMC(survived_score=0.85,module_version=1.0.0),\n",
       " DecisionTreeMC(survived_score=0.9,module_version=1.0.0),\n",
       " DecisionTreeMC(survived_score=0.9,module_version=1.0.0),\n",
       " DecisionTreeMC(survived_score=0.9,module_version=1.0.0)]"
      ]
     },
     "execution_count": 17,
     "metadata": {},
     "output_type": "execute_result"
    }
   ],
   "source": [
    "cls.data"
   ]
  },
  {
   "cell_type": "code",
   "execution_count": 18,
   "metadata": {
    "execution": {
     "iopub.execute_input": "2022-08-02T03:00:17.705931Z",
     "iopub.status.busy": "2022-08-02T03:00:17.705073Z",
     "iopub.status.idle": "2022-08-02T03:00:17.721130Z",
     "shell.execute_reply": "2022-08-02T03:00:17.720324Z",
     "shell.execute_reply.started": "2022-08-02T03:00:17.705901Z"
    },
    "tags": []
   },
   "outputs": [],
   "source": [
    "cls.mergeForest(cls, 7,'score')"
   ]
  },
  {
   "cell_type": "code",
   "execution_count": 19,
   "metadata": {
    "execution": {
     "iopub.execute_input": "2022-08-02T03:00:18.160666Z",
     "iopub.status.busy": "2022-08-02T03:00:18.159801Z",
     "iopub.status.idle": "2022-08-02T03:00:18.179544Z",
     "shell.execute_reply": "2022-08-02T03:00:18.178512Z",
     "shell.execute_reply.started": "2022-08-02T03:00:18.160636Z"
    },
    "tags": []
   },
   "outputs": [
    {
     "data": {
      "text/plain": [
       "RandomForestMC(len(Forest)=7,n_trees=8,model_version=1.0.0,module_version=1.0.0)"
      ]
     },
     "execution_count": 19,
     "metadata": {},
     "output_type": "execute_result"
    }
   ],
   "source": [
    "cls"
   ]
  },
  {
   "cell_type": "code",
   "execution_count": 20,
   "metadata": {
    "execution": {
     "iopub.execute_input": "2022-08-02T03:00:19.166506Z",
     "iopub.status.busy": "2022-08-02T03:00:19.165821Z",
     "iopub.status.idle": "2022-08-02T03:00:19.181992Z",
     "shell.execute_reply": "2022-08-02T03:00:19.181190Z",
     "shell.execute_reply.started": "2022-08-02T03:00:19.166477Z"
    },
    "tags": []
   },
   "outputs": [],
   "source": [
    "Tree = cls.data[0]"
   ]
  },
  {
   "cell_type": "code",
   "execution_count": 21,
   "metadata": {
    "execution": {
     "iopub.execute_input": "2022-08-02T03:00:23.001783Z",
     "iopub.status.busy": "2022-08-02T03:00:23.001309Z",
     "iopub.status.idle": "2022-08-02T03:00:23.020615Z",
     "shell.execute_reply": "2022-08-02T03:00:23.019755Z",
     "shell.execute_reply.started": "2022-08-02T03:00:23.001753Z"
    },
    "tags": []
   },
   "outputs": [
    {
     "data": {
      "text/plain": [
       "7"
      ]
     },
     "execution_count": 21,
     "metadata": {},
     "output_type": "execute_result"
    }
   ],
   "source": [
    "len(cls.survived_scores)"
   ]
  },
  {
   "cell_type": "code",
   "execution_count": 22,
   "metadata": {
    "execution": {
     "iopub.execute_input": "2022-08-01T20:20:09.791384Z",
     "iopub.status.busy": "2022-08-01T20:20:09.791110Z",
     "iopub.status.idle": "2022-08-01T20:20:09.805404Z",
     "shell.execute_reply": "2022-08-01T20:20:09.804520Z",
     "shell.execute_reply.started": "2022-08-01T20:20:09.791359Z"
    },
    "tags": []
   },
   "outputs": [],
   "source": [
    "#Tree == Tree.data"
   ]
  },
  {
   "cell_type": "code",
   "execution_count": 23,
   "metadata": {
    "execution": {
     "iopub.execute_input": "2022-08-01T20:20:09.806679Z",
     "iopub.status.busy": "2022-08-01T20:20:09.806371Z",
     "iopub.status.idle": "2022-08-01T20:20:09.821634Z",
     "shell.execute_reply": "2022-08-01T20:20:09.820665Z",
     "shell.execute_reply.started": "2022-08-01T20:20:09.806654Z"
    },
    "tags": []
   },
   "outputs": [],
   "source": [
    "dataset = dataset.reset_index(drop=True)\n",
    "row = dataset.loc[0]"
   ]
  },
  {
   "cell_type": "code",
   "execution_count": 28,
   "metadata": {
    "execution": {
     "iopub.execute_input": "2022-08-01T20:23:16.427342Z",
     "iopub.status.busy": "2022-08-01T20:23:16.426548Z",
     "iopub.status.idle": "2022-08-01T20:23:16.446723Z",
     "shell.execute_reply": "2022-08-01T20:23:16.445704Z",
     "shell.execute_reply.started": "2022-08-01T20:23:16.427312Z"
    }
   },
   "outputs": [
    {
     "data": {
      "text/plain": [
       "V1       -0.583218\n",
       "V2        0.955092\n",
       "V3        1.407827\n",
       "V4        1.559776\n",
       "V5        0.251586\n",
       "V6       -0.166301\n",
       "V7        0.567984\n",
       "V8       -0.140859\n",
       "V9       -1.370046\n",
       "V10       0.559036\n",
       "V11       0.290585\n",
       "V12       0.437309\n",
       "V13       1.041657\n",
       "V14      -0.016315\n",
       "V15       0.706518\n",
       "V16      -0.317833\n",
       "V17       0.007561\n",
       "V18       -1.17142\n",
       "V19      -0.812256\n",
       "V20      -0.068132\n",
       "V21       0.056497\n",
       "V22       0.061986\n",
       "V23       0.129657\n",
       "V24       1.050658\n",
       "V25      -1.380546\n",
       "V26      -0.415294\n",
       "V27      -0.241776\n",
       "V28       0.569081\n",
       "Amount        2.11\n",
       "Class            0\n",
       "Name: 0, dtype: object"
      ]
     },
     "execution_count": 28,
     "metadata": {},
     "output_type": "execute_result"
    }
   ],
   "source": [
    "dataset.reset_index(drop=True).loc[0]"
   ]
  },
  {
   "cell_type": "code",
   "execution_count": 24,
   "metadata": {
    "execution": {
     "iopub.execute_input": "2022-08-01T20:20:09.822995Z",
     "iopub.status.busy": "2022-08-01T20:20:09.822720Z",
     "iopub.status.idle": "2022-08-01T20:20:09.837356Z",
     "shell.execute_reply": "2022-08-01T20:20:09.836557Z",
     "shell.execute_reply.started": "2022-08-01T20:20:09.822971Z"
    },
    "tags": []
   },
   "outputs": [
    {
     "data": {
      "text/plain": [
       "{'0': 1.0, '1': 0.0}"
      ]
     },
     "execution_count": 24,
     "metadata": {},
     "output_type": "execute_result"
    }
   ],
   "source": [
    "cls.predict(row)"
   ]
  },
  {
   "cell_type": "code",
   "execution_count": 25,
   "metadata": {
    "execution": {
     "iopub.execute_input": "2022-08-01T20:20:09.839474Z",
     "iopub.status.busy": "2022-08-01T20:20:09.838273Z",
     "iopub.status.idle": "2022-08-01T20:20:09.857166Z",
     "shell.execute_reply": "2022-08-01T20:20:09.856371Z",
     "shell.execute_reply.started": "2022-08-01T20:20:09.839434Z"
    },
    "tags": []
   },
   "outputs": [
    {
     "data": {
      "text/plain": [
       "['0', '0', '0', '0', '0', '0', '0', '0', '0', '0']"
      ]
     },
     "execution_count": 25,
     "metadata": {},
     "output_type": "execute_result"
    }
   ],
   "source": [
    "cls.predict(dataset.sample(n=10))"
   ]
  },
  {
   "cell_type": "code",
   "execution_count": 26,
   "metadata": {
    "execution": {
     "iopub.execute_input": "2022-08-01T20:20:09.858985Z",
     "iopub.status.busy": "2022-08-01T20:20:09.858728Z",
     "iopub.status.idle": "2022-08-01T20:20:09.872605Z",
     "shell.execute_reply": "2022-08-01T20:20:09.871786Z",
     "shell.execute_reply.started": "2022-08-01T20:20:09.858961Z"
    }
   },
   "outputs": [
    {
     "data": {
      "text/plain": [
       "{'0': 1.0, '1': 0.0}"
      ]
     },
     "execution_count": 26,
     "metadata": {},
     "output_type": "execute_result"
    }
   ],
   "source": [
    "cls.predict_proba(row)"
   ]
  },
  {
   "cell_type": "code",
   "execution_count": 27,
   "metadata": {
    "execution": {
     "iopub.execute_input": "2022-08-01T20:21:00.010308Z",
     "iopub.status.busy": "2022-08-01T20:21:00.009637Z",
     "iopub.status.idle": "2022-08-01T20:21:00.032301Z",
     "shell.execute_reply": "2022-08-01T20:21:00.031394Z",
     "shell.execute_reply.started": "2022-08-01T20:21:00.010279Z"
    }
   },
   "outputs": [
    {
     "data": {
      "text/plain": [
       "[{'0': 1.0, '1': 0.0},\n",
       " {'0': 1.0, '1': 0.0},\n",
       " {'0': 1.0, '1': 0.0},\n",
       " {'0': 1.0, '1': 0.0},\n",
       " {'0': 0.8571428571428571, '1': 0.14285714285714285},\n",
       " {'0': 1.0, '1': 0.0},\n",
       " {'0': 1.0, '1': 0.0},\n",
       " {'0': 1.0, '1': 0.0},\n",
       " {'0': 0.5714285714285714, '1': 0.42857142857142855},\n",
       " {'0': 0.5714285714285714, '1': 0.42857142857142855}]"
      ]
     },
     "execution_count": 27,
     "metadata": {},
     "output_type": "execute_result"
    }
   ],
   "source": [
    "cls.predict_proba(dataset.sample(n=10))"
   ]
  },
  {
   "cell_type": "code",
   "execution_count": null,
   "metadata": {},
   "outputs": [],
   "source": [
    "cls.predict(row)"
   ]
  }
 ],
 "metadata": {
  "kernelspec": {
   "display_name": "Python 3 (ipykernel)",
   "language": "python",
   "name": "python3"
  },
  "language_info": {
   "codemirror_mode": {
    "name": "ipython",
    "version": 3
   },
   "file_extension": ".py",
   "mimetype": "text/x-python",
   "name": "python",
   "nbconvert_exporter": "python",
   "pygments_lexer": "ipython3",
   "version": "3.10.5"
  }
 },
 "nbformat": 4,
 "nbformat_minor": 4
}
