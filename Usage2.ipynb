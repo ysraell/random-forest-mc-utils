{
 "cells": [
  {
   "cell_type": "markdown",
   "metadata": {},
   "source": [
    "# Usage \n",
    "\n",
    "- Author: Israel de Oliveira [\\[e-mail\\]](mailto:'Israel%20Oliveira%20'<prof.israel@gmail.com>)"
   ]
  },
  {
   "cell_type": "code",
   "execution_count": 2,
   "metadata": {
    "execution": {
     "iopub.execute_input": "2022-08-02T02:59:29.996555Z",
     "iopub.status.busy": "2022-08-02T02:59:29.995822Z",
     "iopub.status.idle": "2022-08-02T02:59:32.754321Z",
     "shell.execute_reply": "2022-08-02T02:59:32.753317Z",
     "shell.execute_reply.started": "2022-08-02T02:59:29.996524Z"
    },
    "tags": []
   },
   "outputs": [
    {
     "name": "stdout",
     "output_type": "stream",
     "text": [
      "Requirement already satisfied: random-forest-mc in /usr/local/lib/python3.10/site-packages (0.4.0a0)\n",
      "Collecting random-forest-mc\n",
      "  Downloading random_forest_mc-1.0.0-py3-none-any.whl (13 kB)\n",
      "Requirement already satisfied: numpy>=1.20 in /usr/local/lib/python3.10/site-packages (from random-forest-mc) (1.23.1)\n",
      "Requirement already satisfied: tqdm>=4.60 in /usr/local/lib/python3.10/site-packages (from random-forest-mc) (4.64.0)\n",
      "Requirement already satisfied: pandas>=1.3 in /usr/local/lib/python3.10/site-packages (from random-forest-mc) (1.4.3)\n",
      "Requirement already satisfied: pytz>=2020.1 in /usr/local/lib/python3.10/site-packages (from pandas>=1.3->random-forest-mc) (2022.1)\n",
      "Requirement already satisfied: python-dateutil>=2.8.1 in /usr/local/lib/python3.10/site-packages (from pandas>=1.3->random-forest-mc) (2.8.2)\n",
      "Requirement already satisfied: six>=1.5 in /usr/local/lib/python3.10/site-packages (from python-dateutil>=2.8.1->pandas>=1.3->random-forest-mc) (1.16.0)\n",
      "Installing collected packages: random-forest-mc\n",
      "  Attempting uninstall: random-forest-mc\n",
      "    Found existing installation: random-forest-mc 0.4.0a0\n",
      "    Uninstalling random-forest-mc-0.4.0a0:\n",
      "      Successfully uninstalled random-forest-mc-0.4.0a0\n",
      "Successfully installed random-forest-mc-1.0.0\n",
      "\u001b[33mWARNING: Running pip as the 'root' user can result in broken permissions and conflicting behaviour with the system package manager. It is recommended to use a virtual environment instead: https://pip.pypa.io/warnings/venv\u001b[0m\u001b[33m\n",
      "\u001b[0m"
     ]
    }
   ],
   "source": [
    "!pip install -U random-forest-mc"
   ]
  },
  {
   "cell_type": "code",
   "execution_count": 1,
   "metadata": {
    "execution": {
     "iopub.execute_input": "2024-09-13T01:09:54.640547Z",
     "iopub.status.busy": "2024-09-13T01:09:54.639813Z",
     "iopub.status.idle": "2024-09-13T01:09:54.657606Z",
     "shell.execute_reply": "2024-09-13T01:09:54.657333Z",
     "shell.execute_reply.started": "2024-09-13T01:09:54.640484Z"
    },
    "tags": []
   },
   "outputs": [],
   "source": [
    "%load_ext watermark"
   ]
  },
  {
   "cell_type": "code",
   "execution_count": 2,
   "metadata": {
    "execution": {
     "iopub.execute_input": "2024-09-13T01:09:55.907254Z",
     "iopub.status.busy": "2024-09-13T01:09:55.907106Z",
     "iopub.status.idle": "2024-09-13T01:09:56.176019Z",
     "shell.execute_reply": "2024-09-13T01:09:56.175474Z",
     "shell.execute_reply.started": "2024-09-13T01:09:55.907245Z"
    },
    "tags": []
   },
   "outputs": [],
   "source": [
    "%load_ext autoreload\n",
    "%autoreload 2\n",
    "import numpy as np\n",
    "import pandas as pd\n",
    "from random_forest_mc.model import RandomForestMC\n",
    "from random_forest_mc.utils import load_file_json, dump_file_json\n"
   ]
  },
  {
   "cell_type": "code",
   "execution_count": 3,
   "metadata": {
    "execution": {
     "iopub.execute_input": "2024-09-13T01:09:56.906560Z",
     "iopub.status.busy": "2024-09-13T01:09:56.905886Z",
     "iopub.status.idle": "2024-09-13T01:09:56.923590Z",
     "shell.execute_reply": "2024-09-13T01:09:56.923211Z",
     "shell.execute_reply.started": "2024-09-13T01:09:56.906517Z"
    },
    "tags": []
   },
   "outputs": [],
   "source": [
    "# from tqdm import notebook as tqdm\n",
    "\n",
    "from glob import glob\n",
    "\n",
    "# import matplotlib.pyplot as plt\n",
    "# %matplotlib inline\n",
    "# from matplotlib import rcParams\n",
    "# from cycler import cycler\n",
    "\n",
    "# rcParams['figure.figsize'] = 12, 8 # 18, 5\n",
    "# rcParams['axes.spines.top'] = False\n",
    "# rcParams['axes.spines.right'] = False\n",
    "# rcParams['axes.grid'] = True\n",
    "# rcParams['axes.prop_cycle'] = cycler(color=['#365977'])\n",
    "# rcParams['lines.linewidth'] = 2.5\n",
    "\n",
    "# import seaborn as sns\n",
    "# sns.set_theme()\n",
    "\n",
    "# pd.set_option(\"max_columns\", None)\n",
    "# pd.set_option(\"max_rows\", None)\n",
    "# pd.set_option('display.max_colwidth', None)\n",
    "\n",
    "from IPython.display import Markdown, display\n",
    "def md(arg):\n",
    "    display(Markdown(arg))\n",
    "\n",
    "# from pandas_profiling import ProfileReport\n",
    "# #report = ProfileReport(#DataFrame here#, minimal=True)\n",
    "# #report.to\n",
    "\n",
    "# import pyarrow.parquet as pq\n",
    "# #df = pq.ParquetDataset(path_to_folder_with_parquets, filesystem=None).read_pandas().to_pandas()\n",
    "\n",
    "# import functools\n",
    "# import operator\n",
    "# def flat(a):\n",
    "#     return functools.reduce(operator.iconcat, a, [])\n",
    "\n",
    "\n",
    "######### LoadDicts\n",
    "\n",
    "import json\n",
    "from glob import glob\n",
    "from typing import Any\n",
    "from typing import NewType\n",
    "\n",
    "def np_encoder(object):\n",
    "    if isinstance(object, np.generic):\n",
    "        return object.item()\n",
    "\n",
    "\n",
    "DictsPathType = NewType(\"DictsPath\", str)\n",
    "\n",
    "\n",
    "def load_file_json(path: DictsPathType):\n",
    "    with open(path, \"r\") as f:\n",
    "        return json.load(f)\n",
    "\n",
    "\n",
    "def dump_file_json(path: DictsPathType, var: Any):\n",
    "    with open(path, \"w\") as f:\n",
    "        return json.dump(var, f, indent=4, default=np_encoder)\n",
    "\n",
    "\n",
    "class LoadDicts:\n",
    "    def __init__(self, dict_path: DictsPathType = \"./data\"):\n",
    "        Dicts_glob = glob(f\"{dict_path}/*.json\")\n",
    "        self.List = []\n",
    "        self.Dict = {}\n",
    "        for path_json in Dicts_glob:\n",
    "            name = path_json.split(\"/\")[-1].replace(\".json\", \"\")\n",
    "            self.List.append(name)\n",
    "            self.Dict[name] = load_file_json(path_json)\n",
    "            setattr(self, name, self.Dict[name])\n",
    "\n",
    "    def __repr__(self) -> str:\n",
    "        return \"LoadDicts: {}\".format(\", \".join(self.List))"
   ]
  },
  {
   "cell_type": "code",
   "execution_count": 4,
   "metadata": {
    "execution": {
     "iopub.execute_input": "2024-09-13T01:09:59.243513Z",
     "iopub.status.busy": "2024-09-13T01:09:59.243358Z",
     "iopub.status.idle": "2024-09-13T01:09:59.688897Z",
     "shell.execute_reply": "2024-09-13T01:09:59.686658Z",
     "shell.execute_reply.started": "2024-09-13T01:09:59.243500Z"
    },
    "tags": []
   },
   "outputs": [
    {
     "name": "stdout",
     "output_type": "stream",
     "text": [
      "Python implementation: CPython\n",
      "Python version       : 3.11.10\n",
      "IPython version      : 8.27.0\n",
      "\n",
      "Compiler    : GCC 10.2.1 20210110\n",
      "OS          : Linux\n",
      "Release     : 6.8.0-44-generic\n",
      "Machine     : x86_64\n",
      "Processor   : \n",
      "CPU cores   : 20\n",
      "Architecture: 64bit\n",
      "\n",
      "Git hash: \n",
      "\n",
      "Git repo: \n",
      "\n",
      "Git branch: \n",
      "\n",
      "json  : 2.0.9\n",
      "numpy : 1.26.4\n",
      "pandas: 2.2.2\n",
      "\n",
      "CPU\t: 12th Gen Intel(R) Core(TM) i7-12700\n"
     ]
    },
    {
     "name": "stderr",
     "output_type": "stream",
     "text": [
      "fatal: detected dubious ownership in repository at '/work/random-forest-mc-utils'\n",
      "To add an exception for this directory, call:\n",
      "\n",
      "\tgit config --global --add safe.directory /work/random-forest-mc-utils\n",
      "fatal: detected dubious ownership in repository at '/work/random-forest-mc-utils'\n",
      "To add an exception for this directory, call:\n",
      "\n",
      "\tgit config --global --add safe.directory /work/random-forest-mc-utils\n"
     ]
    },
    {
     "name": "stdout",
     "output_type": "stream",
     "text": [
      "Mem:            15G\n",
      "Swap:          3.7G\n"
     ]
    }
   ],
   "source": [
    "# Run this cell before close.\n",
    "%watermark -d --iversion -b -r -g -m -v\n",
    "!cat /proc/cpuinfo |grep 'model name'|head -n 1 |sed -e 's/model\\ name/CPU/'\n",
    "!free -h |cut -d'i' -f1  |grep -v total"
   ]
  },
  {
   "cell_type": "code",
   "execution_count": 7,
   "metadata": {
    "execution": {
     "iopub.execute_input": "2024-09-13T01:22:49.630075Z",
     "iopub.status.busy": "2024-09-13T01:22:49.629838Z",
     "iopub.status.idle": "2024-09-13T01:22:49.638463Z",
     "shell.execute_reply": "2024-09-13T01:22:49.638155Z",
     "shell.execute_reply.started": "2024-09-13T01:22:49.630062Z"
    },
    "tags": []
   },
   "outputs": [
    {
     "data": {
      "text/plain": [
       "['/work/tmp/datasets/creditcard.csv',\n",
       " '/work/tmp/datasets/iris.csv',\n",
       " '/work/tmp/datasets/titanic.csv']"
      ]
     },
     "execution_count": 7,
     "metadata": {},
     "output_type": "execute_result"
    }
   ],
   "source": [
    "dataset_path_list = glob('/work/tmp/datasets/*.csv')\n",
    "dataset_path_list"
   ]
  },
  {
   "cell_type": "code",
   "execution_count": 8,
   "metadata": {
    "execution": {
     "iopub.execute_input": "2024-09-13T01:22:55.031111Z",
     "iopub.status.busy": "2024-09-13T01:22:55.030934Z",
     "iopub.status.idle": "2024-09-13T01:22:55.040495Z",
     "shell.execute_reply": "2024-09-13T01:22:55.040224Z",
     "shell.execute_reply.started": "2024-09-13T01:22:55.031100Z"
    },
    "tags": []
   },
   "outputs": [],
   "source": [
    "dataset_dict = {\n",
    "    'titanic' : {\n",
    "        'ds_cols' : ['Pclass', 'Sex', 'Age', 'SibSp', 'Fare', 'Embarked'],\n",
    "        'target_col' : 'Survived',\n",
    "        'csv_path' : '/work/tmp/datasets/titanic.csv'\n",
    "    },\n",
    "    'iris': {\n",
    "        'ds_cols' : ['sepal.length', 'sepal.width', 'petal.length', 'petal.width'],\n",
    "        'target_col' : 'variety',\n",
    "        'csv_path' : '/work/tmp/datasets/iris.csv'\n",
    "    },\n",
    "    'creditcard': {\n",
    "        'ds_cols' : ['V1', 'V2', 'V3', 'V4', 'V5', 'V6', 'V7', 'V8', 'V9', 'V10',\n",
    "       'V11', 'V12', 'V13', 'V14', 'V15', 'V16', 'V17', 'V18', 'V19', 'V20',\n",
    "       'V21', 'V22', 'V23', 'V24', 'V25', 'V26', 'V27', 'V28', 'Amount'],\n",
    "        'target_col' : 'Class',\n",
    "        'csv_path' : '/work/tmp/datasets/creditcard.csv'\n",
    "    },\n",
    "    'creditcard_trans_int': {\n",
    "        'ds_cols' : ['V1', 'V2', 'V3', 'V4', 'V5', 'V6', 'V7', 'V8', 'V9', 'V10',\n",
    "       'V11', 'V12', 'V13', 'V14', 'V15', 'V16', 'V17', 'V18', 'V19', 'V20',\n",
    "       'V21', 'V22', 'V23', 'V24', 'V25', 'V26', 'V27', 'V28', 'Amount'],\n",
    "        'target_col' : 'Class',\n",
    "        'csv_path' : '/work/tmp/datasets/creditcard_trans_int.csv'\n",
    "    },\n",
    "    'creditcard_trans_float': {\n",
    "        'ds_cols' : ['V1', 'V2', 'V3', 'V4', 'V5', 'V6', 'V7', 'V8', 'V9', 'V10',\n",
    "       'V11', 'V12', 'V13', 'V14', 'V15', 'V16', 'V17', 'V18', 'V19', 'V20',\n",
    "       'V21', 'V22', 'V23', 'V24', 'V25', 'V26', 'V27', 'V28', 'Amount'],\n",
    "        'target_col' : 'Class',\n",
    "        'csv_path' : '/work/tmp/datasets/creditcard_trans_float.csv'\n",
    "    }\n",
    "}\n",
    "\n",
    "# dump_file_json('../tests/datasets_metadata.json',dataset_dict)"
   ]
  },
  {
   "cell_type": "code",
   "execution_count": 9,
   "metadata": {
    "execution": {
     "iopub.execute_input": "2024-09-13T01:22:55.675978Z",
     "iopub.status.busy": "2024-09-13T01:22:55.675437Z",
     "iopub.status.idle": "2024-09-13T01:22:56.756728Z",
     "shell.execute_reply": "2024-09-13T01:22:56.756348Z",
     "shell.execute_reply.started": "2024-09-13T01:22:55.675938Z"
    },
    "tags": []
   },
   "outputs": [
    {
     "data": {
      "text/markdown": [
       "# titanic"
      ],
      "text/plain": [
       "<IPython.core.display.Markdown object>"
      ]
     },
     "metadata": {},
     "output_type": "display_data"
    },
    {
     "name": "stderr",
     "output_type": "stream",
     "text": [
      "Planting the forest: 100%|██████████| 8/8 [00:00<00:00,  8.50it/s]\n"
     ]
    },
    {
     "data": {
      "text/markdown": [
       "## Accuracy:"
      ],
      "text/plain": [
       "<IPython.core.display.Markdown object>"
      ]
     },
     "metadata": {},
     "output_type": "display_data"
    },
    {
     "data": {
      "text/markdown": [
       "## &nbsp;&nbsp;&nbsp; 77.67\\% (hard-voting)"
      ],
      "text/plain": [
       "<IPython.core.display.Markdown object>"
      ]
     },
     "metadata": {},
     "output_type": "display_data"
    },
    {
     "data": {
      "text/markdown": [
       "## &nbsp;&nbsp;&nbsp; 73.31\\% (soft-voting)"
      ],
      "text/plain": [
       "<IPython.core.display.Markdown object>"
      ]
     },
     "metadata": {},
     "output_type": "display_data"
    }
   ],
   "source": [
    "ds_name = 'titanic'\n",
    "md(f'# {ds_name}')\n",
    "params = dataset_dict[ds_name]\n",
    "\n",
    "dataset = pd.read_csv(params['csv_path'])[params['ds_cols']+[params['target_col']]].dropna().reset_index(drop=True)\n",
    "dataset['Age'] = dataset['Age'].astype(np.uint8)\n",
    "dataset['SibSp'] = dataset['SibSp'].astype(np.uint8)\n",
    "dataset['Pclass'] = dataset['Pclass'].astype(str)\n",
    "dataset['Fare'] = dataset['Fare'].astype(np.uint32)\n",
    "cls = RandomForestMC(\n",
    "    n_trees=8,\n",
    "    target_col = params['target_col'],\n",
    "    max_discard_trees = 4\n",
    ")\n",
    "cls.process_dataset(dataset)\n",
    "cls.fit()\n",
    "y_test = dataset[params['target_col']].to_list()\n",
    "y_pred = cls.testForest(dataset)\n",
    "accuracy_hard = \"{:.2f}\\%\".format(100*sum([v == p for v, p in zip(y_test, y_pred)]) / len(y_pred))\n",
    "cls.soft_voting=True\n",
    "y_pred = cls.testForest(dataset)\n",
    "accuracy_soft = \"{:.2f}\\%\".format(100*sum([v == p for v, p in zip(y_test, y_pred)]) / len(y_pred))\n",
    "md('## Accuracy:') \n",
    "md(f'## &nbsp;&nbsp;&nbsp; {accuracy_hard} (hard-voting)')\n",
    "md(f'## &nbsp;&nbsp;&nbsp; {accuracy_soft} (soft-voting)')"
   ]
  },
  {
   "cell_type": "code",
   "execution_count": 10,
   "metadata": {
    "execution": {
     "iopub.execute_input": "2024-09-13T01:23:07.050246Z",
     "iopub.status.busy": "2024-09-13T01:23:07.050111Z",
     "iopub.status.idle": "2024-09-13T01:23:07.535316Z",
     "shell.execute_reply": "2024-09-13T01:23:07.535005Z",
     "shell.execute_reply.started": "2024-09-13T01:23:07.050238Z"
    },
    "tags": []
   },
   "outputs": [
    {
     "data": {
      "text/markdown": [
       "# iris"
      ],
      "text/plain": [
       "<IPython.core.display.Markdown object>"
      ]
     },
     "metadata": {},
     "output_type": "display_data"
    },
    {
     "name": "stderr",
     "output_type": "stream",
     "text": [
      "Planting the forest: 100%|██████████| 8/8 [00:00<00:00, 17.77it/s]\n"
     ]
    },
    {
     "data": {
      "text/markdown": [
       "## Accuracy:"
      ],
      "text/plain": [
       "<IPython.core.display.Markdown object>"
      ]
     },
     "metadata": {},
     "output_type": "display_data"
    },
    {
     "data": {
      "text/markdown": [
       "## &nbsp;&nbsp;&nbsp; 98.00\\% (hard-voting)"
      ],
      "text/plain": [
       "<IPython.core.display.Markdown object>"
      ]
     },
     "metadata": {},
     "output_type": "display_data"
    },
    {
     "data": {
      "text/markdown": [
       "## &nbsp;&nbsp;&nbsp; 98.00\\% (soft-voting)"
      ],
      "text/plain": [
       "<IPython.core.display.Markdown object>"
      ]
     },
     "metadata": {},
     "output_type": "display_data"
    }
   ],
   "source": [
    "ds_name = 'iris'\n",
    "md(f'# {ds_name}')\n",
    "params = dataset_dict[ds_name]\n",
    "\n",
    "dataset = pd.read_csv(params['csv_path'])[params['ds_cols']+[params['target_col']]].dropna().reset_index(drop=True)\n",
    "dataset.rename(columns={col: col.replace('.','_') for col in dataset.columns}, inplace=True)\n",
    "params['ds_cols'] = [col.replace('.','_') for col in params['ds_cols']]\n",
    "cls = RandomForestMC(\n",
    "    n_trees=8,\n",
    "    target_col = params['target_col'],\n",
    "    max_discard_trees = 4\n",
    ")\n",
    "cls.process_dataset(dataset)\n",
    "cls.fit()\n",
    "y_test = dataset[params['target_col']].to_list()\n",
    "y_pred = cls.testForest(dataset)\n",
    "accuracy_hard = \"{:.2f}\\%\".format(100*sum([v == p for v, p in zip(y_test, y_pred)]) / len(y_pred))\n",
    "cls.soft_voting=True\n",
    "y_pred = cls.testForest(dataset)\n",
    "accuracy_soft = \"{:.2f}\\%\".format(100*sum([v == p for v, p in zip(y_test, y_pred)]) / len(y_pred))\n",
    "md('## Accuracy:') \n",
    "md(f'## &nbsp;&nbsp;&nbsp; {accuracy_hard} (hard-voting)')\n",
    "md(f'## &nbsp;&nbsp;&nbsp; {accuracy_soft} (soft-voting)')"
   ]
  },
  {
   "cell_type": "code",
   "execution_count": 11,
   "metadata": {
    "execution": {
     "iopub.execute_input": "2024-09-13T01:23:09.180261Z",
     "iopub.status.busy": "2024-09-13T01:23:09.179506Z",
     "iopub.status.idle": "2024-09-13T01:23:09.369727Z",
     "shell.execute_reply": "2024-09-13T01:23:09.369333Z",
     "shell.execute_reply.started": "2024-09-13T01:23:09.180216Z"
    },
    "tags": []
   },
   "outputs": [
    {
     "data": {
      "text/markdown": [
       "# creditcard"
      ],
      "text/plain": [
       "<IPython.core.display.Markdown object>"
      ]
     },
     "metadata": {},
     "output_type": "display_data"
    },
    {
     "ename": "EmptyDataError",
     "evalue": "No columns to parse from file",
     "output_type": "error",
     "traceback": [
      "\u001b[0;31m---------------------------------------------------------------------------\u001b[0m",
      "\u001b[0;31mEmptyDataError\u001b[0m                            Traceback (most recent call last)",
      "Cell \u001b[0;32mIn[11], line 5\u001b[0m\n\u001b[1;32m      2\u001b[0m md(\u001b[38;5;124mf\u001b[39m\u001b[38;5;124m'\u001b[39m\u001b[38;5;124m# \u001b[39m\u001b[38;5;132;01m{\u001b[39;00mds_name\u001b[38;5;132;01m}\u001b[39;00m\u001b[38;5;124m'\u001b[39m)\n\u001b[1;32m      3\u001b[0m params \u001b[38;5;241m=\u001b[39m dataset_dict[ds_name]\n\u001b[0;32m----> 5\u001b[0m dataset \u001b[38;5;241m=\u001b[39m \u001b[43mpd\u001b[49m\u001b[38;5;241;43m.\u001b[39;49m\u001b[43mread_csv\u001b[49m\u001b[43m(\u001b[49m\u001b[43mparams\u001b[49m\u001b[43m[\u001b[49m\u001b[38;5;124;43m'\u001b[39;49m\u001b[38;5;124;43mcsv_path\u001b[39;49m\u001b[38;5;124;43m'\u001b[39;49m\u001b[43m]\u001b[49m\u001b[43m)\u001b[49m[params[\u001b[38;5;124m'\u001b[39m\u001b[38;5;124mds_cols\u001b[39m\u001b[38;5;124m'\u001b[39m]\u001b[38;5;241m+\u001b[39m[params[\u001b[38;5;124m'\u001b[39m\u001b[38;5;124mtarget_col\u001b[39m\u001b[38;5;124m'\u001b[39m]]]\u001b[38;5;241m.\u001b[39mdropna()\u001b[38;5;241m.\u001b[39mreset_index(drop\u001b[38;5;241m=\u001b[39m\u001b[38;5;28;01mTrue\u001b[39;00m)\n\u001b[1;32m      6\u001b[0m \u001b[38;5;28mcls\u001b[39m \u001b[38;5;241m=\u001b[39m RandomForestMC(\n\u001b[1;32m      7\u001b[0m     n_trees\u001b[38;5;241m=\u001b[39m\u001b[38;5;241m8\u001b[39m,\n\u001b[1;32m      8\u001b[0m     target_col \u001b[38;5;241m=\u001b[39m params[\u001b[38;5;124m'\u001b[39m\u001b[38;5;124mtarget_col\u001b[39m\u001b[38;5;124m'\u001b[39m],\n\u001b[1;32m      9\u001b[0m     max_discard_trees \u001b[38;5;241m=\u001b[39m \u001b[38;5;241m4\u001b[39m\n\u001b[1;32m     10\u001b[0m )\n\u001b[1;32m     11\u001b[0m \u001b[38;5;28mcls\u001b[39m\u001b[38;5;241m.\u001b[39mprocess_dataset(dataset)\n",
      "File \u001b[0;32m/usr/local/lib/python3.11/site-packages/pandas/io/parsers/readers.py:1026\u001b[0m, in \u001b[0;36mread_csv\u001b[0;34m(filepath_or_buffer, sep, delimiter, header, names, index_col, usecols, dtype, engine, converters, true_values, false_values, skipinitialspace, skiprows, skipfooter, nrows, na_values, keep_default_na, na_filter, verbose, skip_blank_lines, parse_dates, infer_datetime_format, keep_date_col, date_parser, date_format, dayfirst, cache_dates, iterator, chunksize, compression, thousands, decimal, lineterminator, quotechar, quoting, doublequote, escapechar, comment, encoding, encoding_errors, dialect, on_bad_lines, delim_whitespace, low_memory, memory_map, float_precision, storage_options, dtype_backend)\u001b[0m\n\u001b[1;32m   1013\u001b[0m kwds_defaults \u001b[38;5;241m=\u001b[39m _refine_defaults_read(\n\u001b[1;32m   1014\u001b[0m     dialect,\n\u001b[1;32m   1015\u001b[0m     delimiter,\n\u001b[0;32m   (...)\u001b[0m\n\u001b[1;32m   1022\u001b[0m     dtype_backend\u001b[38;5;241m=\u001b[39mdtype_backend,\n\u001b[1;32m   1023\u001b[0m )\n\u001b[1;32m   1024\u001b[0m kwds\u001b[38;5;241m.\u001b[39mupdate(kwds_defaults)\n\u001b[0;32m-> 1026\u001b[0m \u001b[38;5;28;01mreturn\u001b[39;00m \u001b[43m_read\u001b[49m\u001b[43m(\u001b[49m\u001b[43mfilepath_or_buffer\u001b[49m\u001b[43m,\u001b[49m\u001b[43m \u001b[49m\u001b[43mkwds\u001b[49m\u001b[43m)\u001b[49m\n",
      "File \u001b[0;32m/usr/local/lib/python3.11/site-packages/pandas/io/parsers/readers.py:620\u001b[0m, in \u001b[0;36m_read\u001b[0;34m(filepath_or_buffer, kwds)\u001b[0m\n\u001b[1;32m    617\u001b[0m _validate_names(kwds\u001b[38;5;241m.\u001b[39mget(\u001b[38;5;124m\"\u001b[39m\u001b[38;5;124mnames\u001b[39m\u001b[38;5;124m\"\u001b[39m, \u001b[38;5;28;01mNone\u001b[39;00m))\n\u001b[1;32m    619\u001b[0m \u001b[38;5;66;03m# Create the parser.\u001b[39;00m\n\u001b[0;32m--> 620\u001b[0m parser \u001b[38;5;241m=\u001b[39m \u001b[43mTextFileReader\u001b[49m\u001b[43m(\u001b[49m\u001b[43mfilepath_or_buffer\u001b[49m\u001b[43m,\u001b[49m\u001b[43m \u001b[49m\u001b[38;5;241;43m*\u001b[39;49m\u001b[38;5;241;43m*\u001b[39;49m\u001b[43mkwds\u001b[49m\u001b[43m)\u001b[49m\n\u001b[1;32m    622\u001b[0m \u001b[38;5;28;01mif\u001b[39;00m chunksize \u001b[38;5;129;01mor\u001b[39;00m iterator:\n\u001b[1;32m    623\u001b[0m     \u001b[38;5;28;01mreturn\u001b[39;00m parser\n",
      "File \u001b[0;32m/usr/local/lib/python3.11/site-packages/pandas/io/parsers/readers.py:1620\u001b[0m, in \u001b[0;36mTextFileReader.__init__\u001b[0;34m(self, f, engine, **kwds)\u001b[0m\n\u001b[1;32m   1617\u001b[0m     \u001b[38;5;28mself\u001b[39m\u001b[38;5;241m.\u001b[39moptions[\u001b[38;5;124m\"\u001b[39m\u001b[38;5;124mhas_index_names\u001b[39m\u001b[38;5;124m\"\u001b[39m] \u001b[38;5;241m=\u001b[39m kwds[\u001b[38;5;124m\"\u001b[39m\u001b[38;5;124mhas_index_names\u001b[39m\u001b[38;5;124m\"\u001b[39m]\n\u001b[1;32m   1619\u001b[0m \u001b[38;5;28mself\u001b[39m\u001b[38;5;241m.\u001b[39mhandles: IOHandles \u001b[38;5;241m|\u001b[39m \u001b[38;5;28;01mNone\u001b[39;00m \u001b[38;5;241m=\u001b[39m \u001b[38;5;28;01mNone\u001b[39;00m\n\u001b[0;32m-> 1620\u001b[0m \u001b[38;5;28mself\u001b[39m\u001b[38;5;241m.\u001b[39m_engine \u001b[38;5;241m=\u001b[39m \u001b[38;5;28;43mself\u001b[39;49m\u001b[38;5;241;43m.\u001b[39;49m\u001b[43m_make_engine\u001b[49m\u001b[43m(\u001b[49m\u001b[43mf\u001b[49m\u001b[43m,\u001b[49m\u001b[43m \u001b[49m\u001b[38;5;28;43mself\u001b[39;49m\u001b[38;5;241;43m.\u001b[39;49m\u001b[43mengine\u001b[49m\u001b[43m)\u001b[49m\n",
      "File \u001b[0;32m/usr/local/lib/python3.11/site-packages/pandas/io/parsers/readers.py:1898\u001b[0m, in \u001b[0;36mTextFileReader._make_engine\u001b[0;34m(self, f, engine)\u001b[0m\n\u001b[1;32m   1895\u001b[0m     \u001b[38;5;28;01mraise\u001b[39;00m \u001b[38;5;167;01mValueError\u001b[39;00m(msg)\n\u001b[1;32m   1897\u001b[0m \u001b[38;5;28;01mtry\u001b[39;00m:\n\u001b[0;32m-> 1898\u001b[0m     \u001b[38;5;28;01mreturn\u001b[39;00m \u001b[43mmapping\u001b[49m\u001b[43m[\u001b[49m\u001b[43mengine\u001b[49m\u001b[43m]\u001b[49m\u001b[43m(\u001b[49m\u001b[43mf\u001b[49m\u001b[43m,\u001b[49m\u001b[43m \u001b[49m\u001b[38;5;241;43m*\u001b[39;49m\u001b[38;5;241;43m*\u001b[39;49m\u001b[38;5;28;43mself\u001b[39;49m\u001b[38;5;241;43m.\u001b[39;49m\u001b[43moptions\u001b[49m\u001b[43m)\u001b[49m\n\u001b[1;32m   1899\u001b[0m \u001b[38;5;28;01mexcept\u001b[39;00m \u001b[38;5;167;01mException\u001b[39;00m:\n\u001b[1;32m   1900\u001b[0m     \u001b[38;5;28;01mif\u001b[39;00m \u001b[38;5;28mself\u001b[39m\u001b[38;5;241m.\u001b[39mhandles \u001b[38;5;129;01mis\u001b[39;00m \u001b[38;5;129;01mnot\u001b[39;00m \u001b[38;5;28;01mNone\u001b[39;00m:\n",
      "File \u001b[0;32m/usr/local/lib/python3.11/site-packages/pandas/io/parsers/c_parser_wrapper.py:93\u001b[0m, in \u001b[0;36mCParserWrapper.__init__\u001b[0;34m(self, src, **kwds)\u001b[0m\n\u001b[1;32m     90\u001b[0m \u001b[38;5;28;01mif\u001b[39;00m kwds[\u001b[38;5;124m\"\u001b[39m\u001b[38;5;124mdtype_backend\u001b[39m\u001b[38;5;124m\"\u001b[39m] \u001b[38;5;241m==\u001b[39m \u001b[38;5;124m\"\u001b[39m\u001b[38;5;124mpyarrow\u001b[39m\u001b[38;5;124m\"\u001b[39m:\n\u001b[1;32m     91\u001b[0m     \u001b[38;5;66;03m# Fail here loudly instead of in cython after reading\u001b[39;00m\n\u001b[1;32m     92\u001b[0m     import_optional_dependency(\u001b[38;5;124m\"\u001b[39m\u001b[38;5;124mpyarrow\u001b[39m\u001b[38;5;124m\"\u001b[39m)\n\u001b[0;32m---> 93\u001b[0m \u001b[38;5;28mself\u001b[39m\u001b[38;5;241m.\u001b[39m_reader \u001b[38;5;241m=\u001b[39m \u001b[43mparsers\u001b[49m\u001b[38;5;241;43m.\u001b[39;49m\u001b[43mTextReader\u001b[49m\u001b[43m(\u001b[49m\u001b[43msrc\u001b[49m\u001b[43m,\u001b[49m\u001b[43m \u001b[49m\u001b[38;5;241;43m*\u001b[39;49m\u001b[38;5;241;43m*\u001b[39;49m\u001b[43mkwds\u001b[49m\u001b[43m)\u001b[49m\n\u001b[1;32m     95\u001b[0m \u001b[38;5;28mself\u001b[39m\u001b[38;5;241m.\u001b[39munnamed_cols \u001b[38;5;241m=\u001b[39m \u001b[38;5;28mself\u001b[39m\u001b[38;5;241m.\u001b[39m_reader\u001b[38;5;241m.\u001b[39munnamed_cols\n\u001b[1;32m     97\u001b[0m \u001b[38;5;66;03m# error: Cannot determine type of 'names'\u001b[39;00m\n",
      "File \u001b[0;32mparsers.pyx:581\u001b[0m, in \u001b[0;36mpandas._libs.parsers.TextReader.__cinit__\u001b[0;34m()\u001b[0m\n",
      "\u001b[0;31mEmptyDataError\u001b[0m: No columns to parse from file"
     ]
    }
   ],
   "source": [
    "for ds_name in ['creditcard', 'creditcard_trans_int', 'creditcard_trans_float']:\n",
    "    md(f'# {ds_name}')\n",
    "    params = dataset_dict[ds_name]\n",
    "\n",
    "    dataset = pd.read_csv(params['csv_path'])[params['ds_cols']+[params['target_col']]].dropna().reset_index(drop=True)\n",
    "    cls = RandomForestMC(\n",
    "        n_trees=8,\n",
    "        target_col = params['target_col'],\n",
    "        max_discard_trees = 4\n",
    "    )\n",
    "    cls.process_dataset(dataset)\n",
    "    cls.fit()\n",
    "    dataset = dataset.sample(n=1000)\n",
    "    y_test = dataset[params['target_col']].to_list()\n",
    "    y_pred = cls.testForest(dataset)\n",
    "    accuracy_hard = \"{:.2f}\\%\".format(100*sum([v == p for v, p in zip(y_test, y_pred)]) / len(y_pred))\n",
    "    cls.soft_voting=True\n",
    "    y_pred = cls.testForest(dataset)\n",
    "    accuracy_soft = \"{:.2f}\\%\".format(100*sum([v == p for v, p in zip(y_test, y_pred)]) / len(y_pred))\n",
    "    md('## Accuracy:') \n",
    "    md(f'## &nbsp;&nbsp;&nbsp; {accuracy_hard} (hard-voting)')\n",
    "    md(f'## &nbsp;&nbsp;&nbsp; {accuracy_soft} (soft-voting)')\n",
    "    model_dict = cls.model2dict()\n",
    "    model_path = f'/work/tmp/cls_rfmc_{ds_name}.json'\n",
    "    dump_file_json(model_path, model_dict)"
   ]
  },
  {
   "cell_type": "code",
   "execution_count": 12,
   "metadata": {
    "execution": {
     "iopub.execute_input": "2022-08-02T03:00:02.644727Z",
     "iopub.status.busy": "2022-08-02T03:00:02.644060Z",
     "iopub.status.idle": "2022-08-02T03:00:02.671917Z",
     "shell.execute_reply": "2022-08-02T03:00:02.670455Z",
     "shell.execute_reply.started": "2022-08-02T03:00:02.644685Z"
    }
   },
   "outputs": [
    {
     "data": {
      "text/plain": [
       "[DecisionTreeMC(survived_score=0.85,module_version=1.0.0),\n",
       " DecisionTreeMC(survived_score=0.9,module_version=1.0.0),\n",
       " DecisionTreeMC(survived_score=0.8,module_version=1.0.0),\n",
       " DecisionTreeMC(survived_score=0.9,module_version=1.0.0),\n",
       " DecisionTreeMC(survived_score=0.9,module_version=1.0.0),\n",
       " DecisionTreeMC(survived_score=0.85,module_version=1.0.0),\n",
       " DecisionTreeMC(survived_score=0.75,module_version=1.0.0),\n",
       " DecisionTreeMC(survived_score=0.9,module_version=1.0.0)]"
      ]
     },
     "execution_count": 12,
     "metadata": {},
     "output_type": "execute_result"
    }
   ],
   "source": [
    "cls.data"
   ]
  },
  {
   "cell_type": "code",
   "execution_count": 13,
   "metadata": {
    "execution": {
     "iopub.execute_input": "2022-08-02T03:00:04.709214Z",
     "iopub.status.busy": "2022-08-02T03:00:04.708645Z",
     "iopub.status.idle": "2022-08-02T03:00:04.729608Z",
     "shell.execute_reply": "2022-08-02T03:00:04.728375Z",
     "shell.execute_reply.started": "2022-08-02T03:00:04.709183Z"
    },
    "tags": []
   },
   "outputs": [],
   "source": [
    "cls.mergeForest(cls)"
   ]
  },
  {
   "cell_type": "code",
   "execution_count": 14,
   "metadata": {
    "execution": {
     "iopub.execute_input": "2022-08-02T03:00:04.960053Z",
     "iopub.status.busy": "2022-08-02T03:00:04.959312Z",
     "iopub.status.idle": "2022-08-02T03:00:04.979512Z",
     "shell.execute_reply": "2022-08-02T03:00:04.978385Z",
     "shell.execute_reply.started": "2022-08-02T03:00:04.960022Z"
    },
    "tags": []
   },
   "outputs": [
    {
     "data": {
      "text/plain": [
       "[DecisionTreeMC(survived_score=0.85,module_version=1.0.0),\n",
       " DecisionTreeMC(survived_score=0.9,module_version=1.0.0),\n",
       " DecisionTreeMC(survived_score=0.8,module_version=1.0.0),\n",
       " DecisionTreeMC(survived_score=0.9,module_version=1.0.0),\n",
       " DecisionTreeMC(survived_score=0.9,module_version=1.0.0),\n",
       " DecisionTreeMC(survived_score=0.85,module_version=1.0.0),\n",
       " DecisionTreeMC(survived_score=0.75,module_version=1.0.0),\n",
       " DecisionTreeMC(survived_score=0.9,module_version=1.0.0),\n",
       " DecisionTreeMC(survived_score=0.85,module_version=1.0.0),\n",
       " DecisionTreeMC(survived_score=0.9,module_version=1.0.0),\n",
       " DecisionTreeMC(survived_score=0.8,module_version=1.0.0),\n",
       " DecisionTreeMC(survived_score=0.9,module_version=1.0.0),\n",
       " DecisionTreeMC(survived_score=0.9,module_version=1.0.0),\n",
       " DecisionTreeMC(survived_score=0.85,module_version=1.0.0),\n",
       " DecisionTreeMC(survived_score=0.75,module_version=1.0.0),\n",
       " DecisionTreeMC(survived_score=0.9,module_version=1.0.0)]"
      ]
     },
     "execution_count": 14,
     "metadata": {},
     "output_type": "execute_result"
    }
   ],
   "source": [
    "cls.data"
   ]
  },
  {
   "cell_type": "code",
   "execution_count": 15,
   "metadata": {
    "execution": {
     "iopub.execute_input": "2022-08-02T03:00:10.520082Z",
     "iopub.status.busy": "2022-08-02T03:00:10.519372Z",
     "iopub.status.idle": "2022-08-02T03:00:10.535872Z",
     "shell.execute_reply": "2022-08-02T03:00:10.534811Z",
     "shell.execute_reply.started": "2022-08-02T03:00:10.520051Z"
    },
    "tags": []
   },
   "outputs": [],
   "source": [
    "cls.mergeForest(cls, 10, 'random')"
   ]
  },
  {
   "cell_type": "code",
   "execution_count": 16,
   "metadata": {
    "execution": {
     "iopub.execute_input": "2022-08-02T03:00:11.242897Z",
     "iopub.status.busy": "2022-08-02T03:00:11.242142Z",
     "iopub.status.idle": "2022-08-02T03:00:11.260693Z",
     "shell.execute_reply": "2022-08-02T03:00:11.259705Z",
     "shell.execute_reply.started": "2022-08-02T03:00:11.242866Z"
    },
    "tags": []
   },
   "outputs": [
    {
     "data": {
      "text/plain": [
       "RandomForestMC(len(Forest)=10,n_trees=8,model_version=1.0.0,module_version=1.0.0)"
      ]
     },
     "execution_count": 16,
     "metadata": {},
     "output_type": "execute_result"
    }
   ],
   "source": [
    "cls"
   ]
  },
  {
   "cell_type": "code",
   "execution_count": 17,
   "metadata": {
    "execution": {
     "iopub.execute_input": "2022-08-02T03:00:15.851195Z",
     "iopub.status.busy": "2022-08-02T03:00:15.850420Z",
     "iopub.status.idle": "2022-08-02T03:00:15.872037Z",
     "shell.execute_reply": "2022-08-02T03:00:15.871056Z",
     "shell.execute_reply.started": "2022-08-02T03:00:15.851164Z"
    },
    "tags": []
   },
   "outputs": [
    {
     "data": {
      "text/plain": [
       "[DecisionTreeMC(survived_score=0.8,module_version=1.0.0),\n",
       " DecisionTreeMC(survived_score=0.75,module_version=1.0.0),\n",
       " DecisionTreeMC(survived_score=0.9,module_version=1.0.0),\n",
       " DecisionTreeMC(survived_score=0.9,module_version=1.0.0),\n",
       " DecisionTreeMC(survived_score=0.9,module_version=1.0.0),\n",
       " DecisionTreeMC(survived_score=0.9,module_version=1.0.0),\n",
       " DecisionTreeMC(survived_score=0.85,module_version=1.0.0),\n",
       " DecisionTreeMC(survived_score=0.9,module_version=1.0.0),\n",
       " DecisionTreeMC(survived_score=0.9,module_version=1.0.0),\n",
       " DecisionTreeMC(survived_score=0.9,module_version=1.0.0)]"
      ]
     },
     "execution_count": 17,
     "metadata": {},
     "output_type": "execute_result"
    }
   ],
   "source": [
    "cls.data"
   ]
  },
  {
   "cell_type": "code",
   "execution_count": 18,
   "metadata": {
    "execution": {
     "iopub.execute_input": "2022-08-02T03:00:17.705931Z",
     "iopub.status.busy": "2022-08-02T03:00:17.705073Z",
     "iopub.status.idle": "2022-08-02T03:00:17.721130Z",
     "shell.execute_reply": "2022-08-02T03:00:17.720324Z",
     "shell.execute_reply.started": "2022-08-02T03:00:17.705901Z"
    },
    "tags": []
   },
   "outputs": [],
   "source": [
    "cls.mergeForest(cls, 7,'score')"
   ]
  },
  {
   "cell_type": "code",
   "execution_count": 19,
   "metadata": {
    "execution": {
     "iopub.execute_input": "2022-08-02T03:00:18.160666Z",
     "iopub.status.busy": "2022-08-02T03:00:18.159801Z",
     "iopub.status.idle": "2022-08-02T03:00:18.179544Z",
     "shell.execute_reply": "2022-08-02T03:00:18.178512Z",
     "shell.execute_reply.started": "2022-08-02T03:00:18.160636Z"
    },
    "tags": []
   },
   "outputs": [
    {
     "data": {
      "text/plain": [
       "RandomForestMC(len(Forest)=7,n_trees=8,model_version=1.0.0,module_version=1.0.0)"
      ]
     },
     "execution_count": 19,
     "metadata": {},
     "output_type": "execute_result"
    }
   ],
   "source": [
    "cls"
   ]
  },
  {
   "cell_type": "code",
   "execution_count": 20,
   "metadata": {
    "execution": {
     "iopub.execute_input": "2022-08-02T03:00:19.166506Z",
     "iopub.status.busy": "2022-08-02T03:00:19.165821Z",
     "iopub.status.idle": "2022-08-02T03:00:19.181992Z",
     "shell.execute_reply": "2022-08-02T03:00:19.181190Z",
     "shell.execute_reply.started": "2022-08-02T03:00:19.166477Z"
    },
    "tags": []
   },
   "outputs": [],
   "source": [
    "Tree = cls.data[0]"
   ]
  },
  {
   "cell_type": "code",
   "execution_count": 21,
   "metadata": {
    "execution": {
     "iopub.execute_input": "2022-08-02T03:00:23.001783Z",
     "iopub.status.busy": "2022-08-02T03:00:23.001309Z",
     "iopub.status.idle": "2022-08-02T03:00:23.020615Z",
     "shell.execute_reply": "2022-08-02T03:00:23.019755Z",
     "shell.execute_reply.started": "2022-08-02T03:00:23.001753Z"
    },
    "tags": []
   },
   "outputs": [
    {
     "data": {
      "text/plain": [
       "7"
      ]
     },
     "execution_count": 21,
     "metadata": {},
     "output_type": "execute_result"
    }
   ],
   "source": [
    "len(cls.survived_scores)"
   ]
  },
  {
   "cell_type": "code",
   "execution_count": 22,
   "metadata": {
    "execution": {
     "iopub.execute_input": "2022-08-01T20:20:09.791384Z",
     "iopub.status.busy": "2022-08-01T20:20:09.791110Z",
     "iopub.status.idle": "2022-08-01T20:20:09.805404Z",
     "shell.execute_reply": "2022-08-01T20:20:09.804520Z",
     "shell.execute_reply.started": "2022-08-01T20:20:09.791359Z"
    },
    "tags": []
   },
   "outputs": [],
   "source": [
    "#Tree == Tree.data"
   ]
  },
  {
   "cell_type": "code",
   "execution_count": 23,
   "metadata": {
    "execution": {
     "iopub.execute_input": "2022-08-01T20:20:09.806679Z",
     "iopub.status.busy": "2022-08-01T20:20:09.806371Z",
     "iopub.status.idle": "2022-08-01T20:20:09.821634Z",
     "shell.execute_reply": "2022-08-01T20:20:09.820665Z",
     "shell.execute_reply.started": "2022-08-01T20:20:09.806654Z"
    },
    "tags": []
   },
   "outputs": [],
   "source": [
    "dataset = dataset.reset_index(drop=True)\n",
    "row = dataset.loc[0]"
   ]
  },
  {
   "cell_type": "code",
   "execution_count": 28,
   "metadata": {
    "execution": {
     "iopub.execute_input": "2022-08-01T20:23:16.427342Z",
     "iopub.status.busy": "2022-08-01T20:23:16.426548Z",
     "iopub.status.idle": "2022-08-01T20:23:16.446723Z",
     "shell.execute_reply": "2022-08-01T20:23:16.445704Z",
     "shell.execute_reply.started": "2022-08-01T20:23:16.427312Z"
    }
   },
   "outputs": [
    {
     "data": {
      "text/plain": [
       "V1       -0.583218\n",
       "V2        0.955092\n",
       "V3        1.407827\n",
       "V4        1.559776\n",
       "V5        0.251586\n",
       "V6       -0.166301\n",
       "V7        0.567984\n",
       "V8       -0.140859\n",
       "V9       -1.370046\n",
       "V10       0.559036\n",
       "V11       0.290585\n",
       "V12       0.437309\n",
       "V13       1.041657\n",
       "V14      -0.016315\n",
       "V15       0.706518\n",
       "V16      -0.317833\n",
       "V17       0.007561\n",
       "V18       -1.17142\n",
       "V19      -0.812256\n",
       "V20      -0.068132\n",
       "V21       0.056497\n",
       "V22       0.061986\n",
       "V23       0.129657\n",
       "V24       1.050658\n",
       "V25      -1.380546\n",
       "V26      -0.415294\n",
       "V27      -0.241776\n",
       "V28       0.569081\n",
       "Amount        2.11\n",
       "Class            0\n",
       "Name: 0, dtype: object"
      ]
     },
     "execution_count": 28,
     "metadata": {},
     "output_type": "execute_result"
    }
   ],
   "source": [
    "dataset.reset_index(drop=True).loc[0]"
   ]
  },
  {
   "cell_type": "code",
   "execution_count": 24,
   "metadata": {
    "execution": {
     "iopub.execute_input": "2022-08-01T20:20:09.822995Z",
     "iopub.status.busy": "2022-08-01T20:20:09.822720Z",
     "iopub.status.idle": "2022-08-01T20:20:09.837356Z",
     "shell.execute_reply": "2022-08-01T20:20:09.836557Z",
     "shell.execute_reply.started": "2022-08-01T20:20:09.822971Z"
    },
    "tags": []
   },
   "outputs": [
    {
     "data": {
      "text/plain": [
       "{'0': 1.0, '1': 0.0}"
      ]
     },
     "execution_count": 24,
     "metadata": {},
     "output_type": "execute_result"
    }
   ],
   "source": [
    "cls.predict(row)"
   ]
  },
  {
   "cell_type": "code",
   "execution_count": 25,
   "metadata": {
    "execution": {
     "iopub.execute_input": "2022-08-01T20:20:09.839474Z",
     "iopub.status.busy": "2022-08-01T20:20:09.838273Z",
     "iopub.status.idle": "2022-08-01T20:20:09.857166Z",
     "shell.execute_reply": "2022-08-01T20:20:09.856371Z",
     "shell.execute_reply.started": "2022-08-01T20:20:09.839434Z"
    },
    "tags": []
   },
   "outputs": [
    {
     "data": {
      "text/plain": [
       "['0', '0', '0', '0', '0', '0', '0', '0', '0', '0']"
      ]
     },
     "execution_count": 25,
     "metadata": {},
     "output_type": "execute_result"
    }
   ],
   "source": [
    "cls.predict(dataset.sample(n=10))"
   ]
  },
  {
   "cell_type": "code",
   "execution_count": 26,
   "metadata": {
    "execution": {
     "iopub.execute_input": "2022-08-01T20:20:09.858985Z",
     "iopub.status.busy": "2022-08-01T20:20:09.858728Z",
     "iopub.status.idle": "2022-08-01T20:20:09.872605Z",
     "shell.execute_reply": "2022-08-01T20:20:09.871786Z",
     "shell.execute_reply.started": "2022-08-01T20:20:09.858961Z"
    }
   },
   "outputs": [
    {
     "data": {
      "text/plain": [
       "{'0': 1.0, '1': 0.0}"
      ]
     },
     "execution_count": 26,
     "metadata": {},
     "output_type": "execute_result"
    }
   ],
   "source": [
    "cls.predict_proba(row)"
   ]
  },
  {
   "cell_type": "code",
   "execution_count": 27,
   "metadata": {
    "execution": {
     "iopub.execute_input": "2022-08-01T20:21:00.010308Z",
     "iopub.status.busy": "2022-08-01T20:21:00.009637Z",
     "iopub.status.idle": "2022-08-01T20:21:00.032301Z",
     "shell.execute_reply": "2022-08-01T20:21:00.031394Z",
     "shell.execute_reply.started": "2022-08-01T20:21:00.010279Z"
    }
   },
   "outputs": [
    {
     "data": {
      "text/plain": [
       "[{'0': 1.0, '1': 0.0},\n",
       " {'0': 1.0, '1': 0.0},\n",
       " {'0': 1.0, '1': 0.0},\n",
       " {'0': 1.0, '1': 0.0},\n",
       " {'0': 0.8571428571428571, '1': 0.14285714285714285},\n",
       " {'0': 1.0, '1': 0.0},\n",
       " {'0': 1.0, '1': 0.0},\n",
       " {'0': 1.0, '1': 0.0},\n",
       " {'0': 0.5714285714285714, '1': 0.42857142857142855},\n",
       " {'0': 0.5714285714285714, '1': 0.42857142857142855}]"
      ]
     },
     "execution_count": 27,
     "metadata": {},
     "output_type": "execute_result"
    }
   ],
   "source": [
    "cls.predict_proba(dataset.sample(n=10))"
   ]
  },
  {
   "cell_type": "code",
   "execution_count": null,
   "metadata": {},
   "outputs": [],
   "source": [
    "cls.predict(row)"
   ]
  }
 ],
 "metadata": {
  "kernelspec": {
   "display_name": "Python 3 (ipykernel)",
   "language": "python",
   "name": "python3"
  },
  "language_info": {
   "codemirror_mode": {
    "name": "ipython",
    "version": 3
   },
   "file_extension": ".py",
   "mimetype": "text/x-python",
   "name": "python",
   "nbconvert_exporter": "python",
   "pygments_lexer": "ipython3",
   "version": "3.11.10"
  }
 },
 "nbformat": 4,
 "nbformat_minor": 4
}
