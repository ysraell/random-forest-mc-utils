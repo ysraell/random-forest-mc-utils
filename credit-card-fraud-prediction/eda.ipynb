{
 "cells": [
  {
   "cell_type": "markdown",
   "metadata": {},
   "source": [
    "# EDA \n",
    "\n",
    "- Author: Israel Oliveira [\\[e-mail\\]](mailto:'Israel%20Oliveira%20'<prof.israel@gmail.com>)"
   ]
  },
  {
   "cell_type": "code",
   "execution_count": 1,
   "metadata": {
    "execution": {
     "iopub.execute_input": "2024-09-14T12:53:38.145830Z",
     "iopub.status.busy": "2024-09-14T12:53:38.145315Z",
     "iopub.status.idle": "2024-09-14T12:53:38.154206Z",
     "shell.execute_reply": "2024-09-14T12:53:38.153831Z",
     "shell.execute_reply.started": "2024-09-14T12:53:38.145785Z"
    }
   },
   "outputs": [],
   "source": [
    "%load_ext watermark"
   ]
  },
  {
   "cell_type": "code",
   "execution_count": 2,
   "metadata": {
    "execution": {
     "iopub.execute_input": "2024-09-14T12:53:38.449737Z",
     "iopub.status.busy": "2024-09-14T12:53:38.448408Z",
     "iopub.status.idle": "2024-09-14T12:53:38.718351Z",
     "shell.execute_reply": "2024-09-14T12:53:38.717842Z",
     "shell.execute_reply.started": "2024-09-14T12:53:38.449724Z"
    }
   },
   "outputs": [],
   "source": [
    "import pandas as pd\n",
    "import numpy as np\n",
    "from random_forest_mc.model import RandomForestMC\n",
    "from random_forest_mc.utils import LoadDicts, dump_file_json, load_file_json\n",
    "from tqdm import notebook as tqdm\n",
    "from datetime import datetime\n",
    "from collections import Counter\n",
    "from glob import glob"
   ]
  },
  {
   "cell_type": "code",
   "execution_count": 3,
   "metadata": {
    "execution": {
     "iopub.execute_input": "2024-09-14T12:53:38.808374Z",
     "iopub.status.busy": "2024-09-14T12:53:38.807693Z",
     "iopub.status.idle": "2024-09-14T12:53:38.816091Z",
     "shell.execute_reply": "2024-09-14T12:53:38.813932Z",
     "shell.execute_reply.started": "2024-09-14T12:53:38.808331Z"
    }
   },
   "outputs": [],
   "source": [
    "import warnings\n",
    "warnings.filterwarnings('ignore', category=pd.errors.SettingWithCopyWarning)"
   ]
  },
  {
   "cell_type": "code",
   "execution_count": 4,
   "metadata": {
    "execution": {
     "iopub.execute_input": "2024-09-14T12:53:39.234233Z",
     "iopub.status.busy": "2024-09-14T12:53:39.232649Z",
     "iopub.status.idle": "2024-09-14T12:53:39.686352Z",
     "shell.execute_reply": "2024-09-14T12:53:39.684185Z",
     "shell.execute_reply.started": "2024-09-14T12:53:39.234174Z"
    }
   },
   "outputs": [
    {
     "name": "stdout",
     "output_type": "stream",
     "text": [
      "Python implementation: CPython\n",
      "Python version       : 3.11.10\n",
      "IPython version      : 8.27.0\n",
      "\n",
      "Compiler    : GCC 10.2.1 20210110\n",
      "OS          : Linux\n",
      "Release     : 6.8.0-44-generic\n",
      "Machine     : x86_64\n",
      "Processor   : \n",
      "CPU cores   : 20\n",
      "Architecture: 64bit\n",
      "\n",
      "Git hash: 1fa21bde606ae8fa41e261b8bc96908a11a39755\n",
      "\n",
      "Git repo: https://github.com/ysraell/random-forest-mc-utils.git\n",
      "\n",
      "Git branch: main\n",
      "\n",
      "numpy : 1.26.4\n",
      "pandas: 2.2.2\n",
      "tqdm  : 4.66.5\n",
      "\n",
      "CPU\t: 12th Gen Intel(R) Core(TM) i7-12700\n",
      "Mem:            15G\n",
      "Swap:          3.7G\n"
     ]
    }
   ],
   "source": [
    "# Run this cell before close.\n",
    "%watermark -d --iversion -b -r -g -m -v\n",
    "!cat /proc/cpuinfo |grep 'model name'|head -n 1 |sed -e 's/model\\ name/CPU/'\n",
    "!free -h |cut -d'i' -f1  |grep -v total"
   ]
  },
  {
   "cell_type": "code",
   "execution_count": 5,
   "metadata": {
    "execution": {
     "iopub.execute_input": "2024-09-14T12:53:40.137888Z",
     "iopub.status.busy": "2024-09-14T12:53:40.136278Z",
     "iopub.status.idle": "2024-09-14T12:53:40.143914Z",
     "shell.execute_reply": "2024-09-14T12:53:40.143108Z",
     "shell.execute_reply.started": "2024-09-14T12:53:40.137737Z"
    }
   },
   "outputs": [],
   "source": [
    "dataset_path = '/work/tmp/credit-card-fraud-prediction'"
   ]
  },
  {
   "cell_type": "code",
   "execution_count": 6,
   "metadata": {
    "execution": {
     "iopub.execute_input": "2024-09-14T12:53:40.784756Z",
     "iopub.status.busy": "2024-09-14T12:53:40.784050Z",
     "iopub.status.idle": "2024-09-14T12:53:41.007739Z",
     "shell.execute_reply": "2024-09-14T12:53:41.006358Z",
     "shell.execute_reply.started": "2024-09-14T12:53:40.784708Z"
    }
   },
   "outputs": [
    {
     "name": "stdout",
     "output_type": "stream",
     "text": [
      "model_eda_16trees_20240914_1212.json  sample_submission.csv  train.csv\n",
      "model_eda_32trees_20240914_1216.json  test.csv\n"
     ]
    }
   ],
   "source": [
    "!ls $dataset_path"
   ]
  },
  {
   "cell_type": "code",
   "execution_count": 7,
   "metadata": {
    "execution": {
     "iopub.execute_input": "2024-09-14T12:53:41.960727Z",
     "iopub.status.busy": "2024-09-14T12:53:41.960152Z",
     "iopub.status.idle": "2024-09-14T12:53:42.402197Z",
     "shell.execute_reply": "2024-09-14T12:53:42.401791Z",
     "shell.execute_reply.started": "2024-09-14T12:53:41.960674Z"
    }
   },
   "outputs": [],
   "source": [
    "df_train = pd.read_csv(f'{dataset_path}/train.csv')"
   ]
  },
  {
   "cell_type": "code",
   "execution_count": 8,
   "metadata": {
    "execution": {
     "iopub.execute_input": "2024-09-14T12:53:42.402858Z",
     "iopub.status.busy": "2024-09-14T12:53:42.402751Z",
     "iopub.status.idle": "2024-09-14T12:53:42.408152Z",
     "shell.execute_reply": "2024-09-14T12:53:42.407807Z",
     "shell.execute_reply.started": "2024-09-14T12:53:42.402849Z"
    },
    "scrolled": true
   },
   "outputs": [
    {
     "data": {
      "text/plain": [
       "id                    0.000000\n",
       "Time                  0.000000\n",
       "feat1                 2.074329\n",
       "feat2                -0.129425\n",
       "feat3                -1.137418\n",
       "feat4                 0.412846\n",
       "feat5                -0.192638\n",
       "feat6                -1.210144\n",
       "feat7                 0.110697\n",
       "feat8                -0.263477\n",
       "feat9                 0.742144\n",
       "feat10                0.108782\n",
       "feat11               -1.070243\n",
       "feat12               -0.234910\n",
       "feat13               -1.099360\n",
       "feat14                0.502467\n",
       "feat15                0.169318\n",
       "feat16                0.065688\n",
       "feat17               -0.306957\n",
       "feat18               -0.323800\n",
       "feat19                0.103348\n",
       "feat20               -0.292969\n",
       "feat21               -0.334701\n",
       "feat22               -0.887840\n",
       "feat23                0.336701\n",
       "feat24               -0.110835\n",
       "feat25               -0.291459\n",
       "feat26                0.207733\n",
       "feat27               -0.076576\n",
       "feat28               -0.059577\n",
       "Transaction_Amount    1.980000\n",
       "IsFraud               0.000000\n",
       "Name: 0, dtype: float64"
      ]
     },
     "execution_count": 8,
     "metadata": {},
     "output_type": "execute_result"
    }
   ],
   "source": [
    "df_train.loc[0]"
   ]
  },
  {
   "cell_type": "code",
   "execution_count": 9,
   "metadata": {
    "execution": {
     "iopub.execute_input": "2024-09-14T12:53:42.600541Z",
     "iopub.status.busy": "2024-09-14T12:53:42.600014Z",
     "iopub.status.idle": "2024-09-14T12:53:42.618114Z",
     "shell.execute_reply": "2024-09-14T12:53:42.617693Z",
     "shell.execute_reply.started": "2024-09-14T12:53:42.600499Z"
    }
   },
   "outputs": [
    {
     "data": {
      "text/plain": [
       "count    150000.000000\n",
       "mean         71.065194\n",
       "std         158.712510\n",
       "min           0.000000\n",
       "25%           6.990000\n",
       "50%          24.900000\n",
       "75%          74.000000\n",
       "max        6513.350000\n",
       "Name: Transaction_Amount, dtype: float64"
      ]
     },
     "execution_count": 9,
     "metadata": {},
     "output_type": "execute_result"
    }
   ],
   "source": [
    "df_train['Transaction_Amount'].describe()"
   ]
  },
  {
   "cell_type": "code",
   "execution_count": 10,
   "metadata": {
    "execution": {
     "iopub.execute_input": "2024-09-14T12:53:43.033277Z",
     "iopub.status.busy": "2024-09-14T12:53:43.032052Z",
     "iopub.status.idle": "2024-09-14T12:53:43.051661Z",
     "shell.execute_reply": "2024-09-14T12:53:43.051055Z",
     "shell.execute_reply.started": "2024-09-14T12:53:43.033216Z"
    }
   },
   "outputs": [
    {
     "data": {
      "text/plain": [
       "count    150000.000000\n",
       "mean       7106.476180\n",
       "std       15871.250544\n",
       "min           0.000000\n",
       "25%         699.000000\n",
       "50%        2490.000000\n",
       "75%        7400.000000\n",
       "max      651335.000000\n",
       "Name: Transaction_Amount, dtype: float64"
      ]
     },
     "execution_count": 10,
     "metadata": {},
     "output_type": "execute_result"
    }
   ],
   "source": [
    "df_train['Transaction_Amount'] = (df_train['Transaction_Amount'] * 100).astype(np.uint32)\n",
    "df_train['Transaction_Amount'].describe()"
   ]
  },
  {
   "cell_type": "code",
   "execution_count": 11,
   "metadata": {
    "execution": {
     "iopub.execute_input": "2024-09-14T12:53:43.652457Z",
     "iopub.status.busy": "2024-09-14T12:53:43.651088Z",
     "iopub.status.idle": "2024-09-14T12:53:43.672299Z",
     "shell.execute_reply": "2024-09-14T12:53:43.671964Z",
     "shell.execute_reply.started": "2024-09-14T12:53:43.652398Z"
    }
   },
   "outputs": [],
   "source": [
    "df_train = df_train.drop(columns=['id', 'Time'])"
   ]
  },
  {
   "cell_type": "code",
   "execution_count": 12,
   "metadata": {
    "execution": {
     "iopub.execute_input": "2024-09-14T12:53:44.081556Z",
     "iopub.status.busy": "2024-09-14T12:53:44.080677Z",
     "iopub.status.idle": "2024-09-14T12:53:44.094256Z",
     "shell.execute_reply": "2024-09-14T12:53:44.093703Z",
     "shell.execute_reply.started": "2024-09-14T12:53:44.081215Z"
    }
   },
   "outputs": [
    {
     "data": {
      "text/plain": [
       "(269, 149731)"
      ]
     },
     "execution_count": 12,
     "metadata": {},
     "output_type": "execute_result"
    }
   ],
   "source": [
    "IsFraud_count, Not_IsFraud_count = df_train['IsFraud'].value_counts()[1], df_train['IsFraud'].value_counts()[0]\n",
    "IsFraud_count, Not_IsFraud_count"
   ]
  },
  {
   "cell_type": "code",
   "execution_count": 13,
   "metadata": {
    "execution": {
     "iopub.execute_input": "2024-09-14T12:53:44.296930Z",
     "iopub.status.busy": "2024-09-14T12:53:44.296379Z",
     "iopub.status.idle": "2024-09-14T12:53:44.307841Z",
     "shell.execute_reply": "2024-09-14T12:53:44.307094Z",
     "shell.execute_reply.started": "2024-09-14T12:53:44.296888Z"
    }
   },
   "outputs": [
    {
     "data": {
      "text/plain": [
       "id                    150000.000000\n",
       "Time                   73899.000000\n",
       "feat1                     -0.681234\n",
       "feat2                     -0.371212\n",
       "feat3                      0.385966\n",
       "feat4                      0.955703\n",
       "feat5                      2.064078\n",
       "feat6                      0.338827\n",
       "feat7                     -0.539452\n",
       "feat8                     -0.254046\n",
       "feat9                      0.010960\n",
       "feat10                     0.753938\n",
       "feat11                    -0.547338\n",
       "feat12                     0.559844\n",
       "feat13                     0.261633\n",
       "feat14                     0.847703\n",
       "feat15                    -0.992736\n",
       "feat16                     0.552428\n",
       "feat17                    -0.381524\n",
       "feat18                    -0.063139\n",
       "feat19                     0.919230\n",
       "feat20                     0.183560\n",
       "feat21                    -0.253324\n",
       "feat22                     0.266668\n",
       "feat23                    -0.153829\n",
       "feat24                     0.455969\n",
       "feat25                    -0.503628\n",
       "feat26                     0.257588\n",
       "feat27                    -0.456685\n",
       "feat28                    -0.298919\n",
       "Transaction_Amount        30.420000\n",
       "Name: 0, dtype: float64"
      ]
     },
     "execution_count": 13,
     "metadata": {},
     "output_type": "execute_result"
    }
   ],
   "source": [
    "df_test.loc[0]"
   ]
  },
  {
   "cell_type": "code",
   "execution_count": 43,
   "metadata": {
    "execution": {
     "iopub.execute_input": "2024-09-14T15:12:22.136487Z",
     "iopub.status.busy": "2024-09-14T15:12:22.136344Z",
     "iopub.status.idle": "2024-09-14T15:12:22.139581Z",
     "shell.execute_reply": "2024-09-14T15:12:22.139290Z",
     "shell.execute_reply.started": "2024-09-14T15:12:22.136477Z"
    }
   },
   "outputs": [
    {
     "data": {
      "text/plain": [
       "['feat1',\n",
       " 'feat2',\n",
       " 'feat3',\n",
       " 'feat4',\n",
       " 'feat5',\n",
       " 'feat6',\n",
       " 'feat7',\n",
       " 'feat8',\n",
       " 'feat9',\n",
       " 'feat10',\n",
       " 'feat11',\n",
       " 'feat12',\n",
       " 'feat13',\n",
       " 'feat14',\n",
       " 'feat15',\n",
       " 'feat16',\n",
       " 'feat17',\n",
       " 'feat18',\n",
       " 'feat19',\n",
       " 'feat20',\n",
       " 'feat21',\n",
       " 'feat22',\n",
       " 'feat23',\n",
       " 'feat24',\n",
       " 'feat25',\n",
       " 'feat26',\n",
       " 'feat27',\n",
       " 'feat28',\n",
       " 'Transaction_Amount',\n",
       " 'IsFraud']"
      ]
     },
     "execution_count": 43,
     "metadata": {},
     "output_type": "execute_result"
    }
   ],
   "source": [
    "feat_cols = df_train.columns.to_list()\n",
    "feat_cols"
   ]
  },
  {
   "cell_type": "code",
   "execution_count": 18,
   "metadata": {
    "execution": {
     "iopub.execute_input": "2024-09-14T12:53:45.928864Z",
     "iopub.status.busy": "2024-09-14T12:53:45.928335Z",
     "iopub.status.idle": "2024-09-14T12:53:45.935082Z",
     "shell.execute_reply": "2024-09-14T12:53:45.933661Z",
     "shell.execute_reply.started": "2024-09-14T12:53:45.928822Z"
    }
   },
   "outputs": [],
   "source": [
    "target_col = 'IsFraud'"
   ]
  },
  {
   "cell_type": "code",
   "execution_count": 19,
   "metadata": {
    "execution": {
     "iopub.execute_input": "2024-09-14T12:53:46.530130Z",
     "iopub.status.busy": "2024-09-14T12:53:46.528725Z",
     "iopub.status.idle": "2024-09-14T12:53:46.536657Z",
     "shell.execute_reply": "2024-09-14T12:53:46.535953Z",
     "shell.execute_reply.started": "2024-09-14T12:53:46.530074Z"
    }
   },
   "outputs": [
    {
     "data": {
      "text/plain": [
       "269"
      ]
     },
     "execution_count": 19,
     "metadata": {},
     "output_type": "execute_result"
    }
   ],
   "source": [
    "IsFraud_count"
   ]
  },
  {
   "cell_type": "code",
   "execution_count": 20,
   "metadata": {
    "execution": {
     "iopub.execute_input": "2024-09-14T12:53:47.297139Z",
     "iopub.status.busy": "2024-09-14T12:53:47.296553Z",
     "iopub.status.idle": "2024-09-14T12:53:47.308452Z",
     "shell.execute_reply": "2024-09-14T12:53:47.307564Z",
     "shell.execute_reply.started": "2024-09-14T12:53:47.297084Z"
    }
   },
   "outputs": [
    {
     "data": {
      "text/plain": [
       "RandomForestMC(len(Forest)=0,n_trees=16,model_version=1.2.0-dev,module_version=1.2.0-dev)"
      ]
     },
     "execution_count": 20,
     "metadata": {},
     "output_type": "execute_result"
    }
   ],
   "source": [
    "batch_train_pclass = IsFraud_count - 100\n",
    "batch_val_pclass = 100\n",
    "max_depth = None\n",
    "n_trees = 16\n",
    "max_discard_trees = 128\n",
    "\n",
    "cpu_cores = 8\n",
    "\n",
    "cls = RandomForestMC(\n",
    "    n_trees=n_trees, \n",
    "    target_col=target_col, \n",
    "    max_discard_trees=max_discard_trees,\n",
    "    batch_train_pclass=batch_train_pclass,\n",
    "    batch_val_pclass=batch_val_pclass,\n",
    "    max_depth=max_depth\n",
    ")\n",
    "cls"
   ]
  },
  {
   "cell_type": "markdown",
   "metadata": {},
   "source": [
    "# Create the model"
   ]
  },
  {
   "cell_type": "code",
   "execution_count": 26,
   "metadata": {
    "execution": {
     "iopub.execute_input": "2024-09-14T12:54:27.550245Z",
     "iopub.status.busy": "2024-09-14T12:54:27.549575Z",
     "iopub.status.idle": "2024-09-14T12:54:27.553047Z",
     "shell.execute_reply": "2024-09-14T12:54:27.552623Z",
     "shell.execute_reply.started": "2024-09-14T12:54:27.550212Z"
    }
   },
   "outputs": [],
   "source": [
    "max_workers = cpu_cores"
   ]
  },
  {
   "cell_type": "code",
   "execution_count": null,
   "metadata": {},
   "outputs": [],
   "source": [
    "cls.fitParallel(dataset=df_train, max_workers=max_workers)\n",
    "ModelDict = cls.model2dict()\n",
    "datetime_tag = datetime.now().strftime('%Y%m%d_%H%M')\n",
    "path_dict = f'{dataset_path}/model_eda_{len(cls)}trees_{datetime_tag}.json'\n",
    "dump_file_json(path_dict, ModelDict)\n",
    "del ModelDict"
   ]
  },
  {
   "cell_type": "code",
   "execution_count": 30,
   "metadata": {
    "execution": {
     "iopub.execute_input": "2024-09-14T14:28:59.292068Z",
     "iopub.status.busy": "2024-09-14T14:28:59.291884Z",
     "iopub.status.idle": "2024-09-14T14:28:59.296268Z",
     "shell.execute_reply": "2024-09-14T14:28:59.295839Z",
     "shell.execute_reply.started": "2024-09-14T14:28:59.292054Z"
    }
   },
   "outputs": [],
   "source": [
    "y_test = df_train[target_col].to_list()"
   ]
  },
  {
   "cell_type": "code",
   "execution_count": null,
   "metadata": {},
   "outputs": [],
   "source": [
    "cls.setSoftVoting()\n",
    "y_pred_soft  = cls.testForest(df_train)\n",
    "accuracy_soft = sum([v == p for v, p in zip(y_test, y_pred_soft )]) / len(y_test)\n",
    "accuracy_soft\n",
    "\n",
    "accuracy_soft_fraud = sum([str(v) == str(p) for v, p in zip(y_test, y_pred_soft) if str(v) == '1']) / len([y for y in y_test if str(y) == '1'])\n",
    "accuracy_soft_valid = sum([str(v) == str(p) for v, p in zip(y_test, y_pred_soft) if str(v) == '0']) / len([y for y in y_test if str(y) == '0'])\n",
    "accuracy_soft_fraud, accuracy_soft_valid, accuracy_soft"
   ]
  },
  {
   "cell_type": "code",
   "execution_count": null,
   "metadata": {},
   "outputs": [],
   "source": [
    "cls.fitParallel(dataset=df_train, max_workers=max_workers)\n",
    "ModelDict = cls.model2dict()\n",
    "datetime_tag = datetime.now().strftime('%Y%m%d_%H%M')\n",
    "path_dict = f'{dataset_path}/model_eda_{len(cls)}trees_{datetime_tag}.json'\n",
    "dump_file_json(path_dict, ModelDict)\n",
    "del ModelDict"
   ]
  },
  {
   "cell_type": "code",
   "execution_count": null,
   "metadata": {},
   "outputs": [],
   "source": [
    "cls.setSoftVoting()\n",
    "y_pred_soft  = cls.testForest(df_train)\n",
    "accuracy_soft = sum([v == p for v, p in zip(y_test, y_pred_soft )]) / len(y_test)\n",
    "accuracy_soft\n",
    "\n",
    "accuracy_soft_fraud = sum([str(v) == str(p) for v, p in zip(y_test, y_pred_soft) if str(v) == '1']) / len([y for y in y_test if str(y) == '1'])\n",
    "accuracy_soft_valid = sum([str(v) == str(p) for v, p in zip(y_test, y_pred_soft) if str(v) == '0']) / len([y for y in y_test if str(y) == '0'])\n",
    "accuracy_soft_fraud, accuracy_soft_valid, accuracy_soft"
   ]
  },
  {
   "cell_type": "markdown",
   "metadata": {},
   "source": [
    "# Load trained model"
   ]
  },
  {
   "cell_type": "code",
   "execution_count": null,
   "metadata": {},
   "outputs": [],
   "source": [
    "y_test = df_train[target_col].to_list()"
   ]
  },
  {
   "cell_type": "code",
   "execution_count": 21,
   "metadata": {
    "execution": {
     "iopub.execute_input": "2024-09-14T12:53:52.366185Z",
     "iopub.status.busy": "2024-09-14T12:53:52.365622Z",
     "iopub.status.idle": "2024-09-14T12:53:52.376494Z",
     "shell.execute_reply": "2024-09-14T12:53:52.375428Z",
     "shell.execute_reply.started": "2024-09-14T12:53:52.366141Z"
    }
   },
   "outputs": [
    {
     "data": {
      "text/plain": [
       "['/work/tmp/credit-card-fraud-prediction/model_eda_16trees_20240914_1212.json',\n",
       " '/work/tmp/credit-card-fraud-prediction/model_eda_32trees_20240914_1216.json']"
      ]
     },
     "execution_count": 21,
     "metadata": {},
     "output_type": "execute_result"
    }
   ],
   "source": [
    "glob(f'{dataset_path}/model_eda_*trees_*.json')"
   ]
  },
  {
   "cell_type": "code",
   "execution_count": 22,
   "metadata": {
    "execution": {
     "iopub.execute_input": "2024-09-14T12:53:52.689339Z",
     "iopub.status.busy": "2024-09-14T12:53:52.688771Z",
     "iopub.status.idle": "2024-09-14T12:53:52.753637Z",
     "shell.execute_reply": "2024-09-14T12:53:52.753208Z",
     "shell.execute_reply.started": "2024-09-14T12:53:52.689293Z"
    }
   },
   "outputs": [],
   "source": [
    "cls.process_dataset(df_train)"
   ]
  },
  {
   "cell_type": "code",
   "execution_count": 23,
   "metadata": {
    "execution": {
     "iopub.execute_input": "2024-09-14T12:53:53.241971Z",
     "iopub.status.busy": "2024-09-14T12:53:53.241448Z",
     "iopub.status.idle": "2024-09-14T12:53:53.326593Z",
     "shell.execute_reply": "2024-09-14T12:53:53.326266Z",
     "shell.execute_reply.started": "2024-09-14T12:53:53.241932Z"
    }
   },
   "outputs": [
    {
     "data": {
      "text/plain": [
       "RandomForestMC(len(Forest)=48,n_trees=16,model_version=1.2.0-dev,module_version=1.2.0-dev)"
      ]
     },
     "execution_count": 23,
     "metadata": {},
     "output_type": "execute_result"
    }
   ],
   "source": [
    "for model_json in glob(f'{dataset_path}/model_eda_*trees_*.json'):\n",
    "    model_dict = load_file_json(model_json)\n",
    "    cls_tmp = RandomForestMC(target_col=target_col)\n",
    "    cls_tmp.dict2model(model_dict)\n",
    "    cls.mergeForest(cls_tmp)\n",
    "cls"
   ]
  },
  {
   "cell_type": "code",
   "execution_count": 24,
   "metadata": {
    "execution": {
     "iopub.execute_input": "2024-09-14T12:53:54.003989Z",
     "iopub.status.busy": "2024-09-14T12:53:54.002496Z",
     "iopub.status.idle": "2024-09-14T12:53:54.011708Z",
     "shell.execute_reply": "2024-09-14T12:53:54.010896Z",
     "shell.execute_reply.started": "2024-09-14T12:53:54.003933Z"
    }
   },
   "outputs": [
    {
     "data": {
      "text/plain": [
       "208"
      ]
     },
     "execution_count": 24,
     "metadata": {},
     "output_type": "execute_result"
    }
   ],
   "source": [
    "cls.n_trees = 256 - cls.Forest_size\n",
    "cls.n_trees"
   ]
  },
  {
   "cell_type": "code",
   "execution_count": 27,
   "metadata": {
    "execution": {
     "iopub.execute_input": "2024-09-14T12:54:34.232874Z",
     "iopub.status.busy": "2024-09-14T12:54:34.232201Z",
     "iopub.status.idle": "2024-09-14T12:54:34.234421Z",
     "shell.execute_reply": "2024-09-14T12:54:34.234180Z",
     "shell.execute_reply.started": "2024-09-14T12:54:34.232859Z"
    }
   },
   "outputs": [],
   "source": [
    "max_workers = 2*cpu_cores"
   ]
  },
  {
   "cell_type": "code",
   "execution_count": 28,
   "metadata": {
    "execution": {
     "iopub.execute_input": "2024-09-14T12:54:35.609578Z",
     "iopub.status.busy": "2024-09-14T12:54:35.609087Z",
     "iopub.status.idle": "2024-09-14T13:37:38.594395Z",
     "shell.execute_reply": "2024-09-14T13:37:38.593562Z",
     "shell.execute_reply.started": "2024-09-14T12:54:35.609540Z"
    }
   },
   "outputs": [
    {
     "data": {
      "application/vnd.jupyter.widget-view+json": {
       "model_id": "bfa38c3235b046afa7085edd3feb58e2",
       "version_major": 2,
       "version_minor": 0
      },
      "text/plain": [
       "Planting the forest:   0%|          | 0/208 [00:00<?, ?it/s]"
      ]
     },
     "metadata": {},
     "output_type": "display_data"
    }
   ],
   "source": [
    "cls.fitParallel(dataset=df_train, max_workers=max_workers)\n",
    "ModelDict = cls.model2dict()\n",
    "datetime_tag = datetime.now().strftime('%Y%m%d_%H%M')\n",
    "path_dict = f'{dataset_path}/model_eda_{len(cls)}trees_{datetime_tag}.json'\n",
    "dump_file_json(path_dict, ModelDict)\n",
    "del ModelDict"
   ]
  },
  {
   "cell_type": "code",
   "execution_count": 31,
   "metadata": {
    "execution": {
     "iopub.execute_input": "2024-09-14T14:29:09.608916Z",
     "iopub.status.busy": "2024-09-14T14:29:09.608132Z",
     "iopub.status.idle": "2024-09-14T14:35:49.730508Z",
     "shell.execute_reply": "2024-09-14T14:35:49.730134Z",
     "shell.execute_reply.started": "2024-09-14T14:29:09.608866Z"
    }
   },
   "outputs": [
    {
     "data": {
      "text/plain": [
       "(1.0, 0.8379493892380335, 0.83824)"
      ]
     },
     "execution_count": 31,
     "metadata": {},
     "output_type": "execute_result"
    }
   ],
   "source": [
    "cls.setSoftVoting()\n",
    "y_pred_soft  = cls.testForest(df_train)\n",
    "accuracy_soft = sum([v == p for v, p in zip(y_test, y_pred_soft )]) / len(y_test)\n",
    "accuracy_soft\n",
    "\n",
    "accuracy_soft_fraud = sum([str(v) == str(p) for v, p in zip(y_test, y_pred_soft) if str(v) == '1']) / len([y for y in y_test if str(y) == '1'])\n",
    "accuracy_soft_valid = sum([str(v) == str(p) for v, p in zip(y_test, y_pred_soft) if str(v) == '0']) / len([y for y in y_test if str(y) == '0'])\n",
    "accuracy_soft_fraud, accuracy_soft_valid, accuracy_soft"
   ]
  },
  {
   "cell_type": "code",
   "execution_count": 32,
   "metadata": {
    "execution": {
     "iopub.execute_input": "2024-09-14T14:52:50.026359Z",
     "iopub.status.busy": "2024-09-14T14:52:50.025577Z",
     "iopub.status.idle": "2024-09-14T14:52:50.036278Z",
     "shell.execute_reply": "2024-09-14T14:52:50.034947Z",
     "shell.execute_reply.started": "2024-09-14T14:52:50.026283Z"
    }
   },
   "outputs": [
    {
     "data": {
      "text/plain": [
       "RandomForestMC(len(Forest)=256,n_trees=208,model_version=1.2.0-dev,module_version=1.2.0-dev)"
      ]
     },
     "execution_count": 32,
     "metadata": {},
     "output_type": "execute_result"
    }
   ],
   "source": [
    "cls"
   ]
  },
  {
   "cell_type": "code",
   "execution_count": 33,
   "metadata": {
    "execution": {
     "iopub.execute_input": "2024-09-14T14:53:51.284468Z",
     "iopub.status.busy": "2024-09-14T14:53:51.283877Z",
     "iopub.status.idle": "2024-09-14T14:54:32.474867Z",
     "shell.execute_reply": "2024-09-14T14:54:32.474380Z",
     "shell.execute_reply.started": "2024-09-14T14:53:51.284421Z"
    }
   },
   "outputs": [
    {
     "name": "stderr",
     "output_type": "stream",
     "text": [
      "Counting pair occurences: 100%|██████████| 256/256 [00:41<00:00,  6.22it/s]\n"
     ]
    },
    {
     "data": {
      "text/plain": [
       "[(('feat2', 'feat3'), 0.19921875),\n",
       " (('feat3', 'feat4'), 0.1953125),\n",
       " (('feat3', 'feat7'), 0.18359375),\n",
       " (('feat3', 'feat10'), 0.17578125),\n",
       " (('feat4', 'feat26'), 0.17578125),\n",
       " (('feat3', 'feat8'), 0.1640625),\n",
       " (('feat4', 'feat9'), 0.1640625),\n",
       " (('feat3', 'feat26'), 0.15625),\n",
       " (('feat1', 'feat3'), 0.15234375),\n",
       " (('feat2', 'feat4'), 0.14453125),\n",
       " (('feat4', 'feat10'), 0.14453125),\n",
       " (('feat7', 'feat8'), 0.14453125),\n",
       " (('feat3', 'feat16'), 0.140625),\n",
       " (('feat9', 'feat10'), 0.140625),\n",
       " (('feat4', 'feat7'), 0.13671875),\n",
       " (('feat4', 'feat13'), 0.13671875),\n",
       " (('feat4', 'feat18'), 0.13671875),\n",
       " (('feat8', 'feat26'), 0.13671875),\n",
       " (('feat3', 'feat9'), 0.1328125),\n",
       " (('feat3', 'Transaction_Amount'), 0.1328125),\n",
       " (('feat4', 'Transaction_Amount'), 0.1328125),\n",
       " (('feat1', 'feat4'), 0.12890625),\n",
       " (('feat2', 'feat7'), 0.12890625),\n",
       " (('feat2', 'feat26'), 0.12890625),\n",
       " (('feat3', 'feat18'), 0.12890625),\n",
       " (('feat4', 'feat19'), 0.12890625),\n",
       " (('feat9', 'feat26'), 0.12890625),\n",
       " (('feat3', 'feat19'), 0.125),\n",
       " (('feat3', 'feat20'), 0.125),\n",
       " (('feat4', 'feat5'), 0.125),\n",
       " (('feat4', 'feat21'), 0.125),\n",
       " (('feat7', 'feat10'), 0.125),\n",
       " (('feat8', 'feat10'), 0.125),\n",
       " (('feat2', 'feat8'), 0.12109375),\n",
       " (('feat3', 'feat12'), 0.12109375),\n",
       " (('feat3', 'feat13'), 0.12109375),\n",
       " (('feat4', 'feat8'), 0.12109375),\n",
       " (('feat10', 'feat18'), 0.12109375),\n",
       " (('feat1', 'feat10'), 0.1171875),\n",
       " (('feat2', 'feat13'), 0.1171875),\n",
       " (('feat3', 'feat25'), 0.1171875),\n",
       " (('feat4', 'feat14'), 0.1171875),\n",
       " (('feat4', 'feat20'), 0.1171875),\n",
       " (('feat7', 'feat26'), 0.1171875),\n",
       " (('feat9', 'feat20'), 0.1171875),\n",
       " (('feat1', 'feat2'), 0.11328125),\n",
       " (('feat3', 'feat5'), 0.11328125),\n",
       " (('feat4', 'feat22'), 0.11328125),\n",
       " (('feat10', 'feat16'), 0.11328125),\n",
       " (('feat14', 'feat26'), 0.11328125),\n",
       " (('feat2', 'feat18'), 0.109375),\n",
       " (('feat3', 'feat27'), 0.109375),\n",
       " (('feat10', 'feat26'), 0.109375),\n",
       " (('feat13', 'feat26'), 0.109375),\n",
       " (('feat26', 'feat27'), 0.109375),\n",
       " (('feat1', 'feat8'), 0.10546875),\n",
       " (('feat1', 'feat18'), 0.10546875),\n",
       " (('feat2', 'feat25'), 0.10546875),\n",
       " (('feat4', 'feat12'), 0.10546875),\n",
       " (('feat4', 'feat27'), 0.10546875),\n",
       " (('feat5', 'feat26'), 0.10546875),\n",
       " (('feat7', 'feat13'), 0.10546875),\n",
       " (('feat7', 'feat18'), 0.10546875),\n",
       " (('feat9', 'feat13'), 0.10546875),\n",
       " (('feat10', 'feat21'), 0.10546875),\n",
       " (('feat2', 'feat9'), 0.1015625),\n",
       " (('feat2', 'feat10'), 0.1015625),\n",
       " (('feat3', 'feat14'), 0.1015625),\n",
       " (('feat4', 'feat28'), 0.1015625),\n",
       " (('feat7', 'feat27'), 0.1015625),\n",
       " (('feat12', 'feat26'), 0.1015625),\n",
       " (('feat18', 'feat20'), 0.1015625),\n",
       " (('feat1', 'feat26'), 0.09765625),\n",
       " (('feat3', 'feat21'), 0.09765625),\n",
       " (('feat4', 'feat11'), 0.09765625),\n",
       " (('feat4', 'feat16'), 0.09765625),\n",
       " (('feat10', 'feat13'), 0.09765625),\n",
       " (('feat10', 'feat20'), 0.09765625),\n",
       " (('feat26', 'Transaction_Amount'), 0.09765625),\n",
       " (('feat2', 'feat14'), 0.09375),\n",
       " (('feat2', 'feat16'), 0.09375),\n",
       " (('feat3', 'feat23'), 0.09375),\n",
       " (('feat4', 'feat25'), 0.09375),\n",
       " (('feat8', 'feat18'), 0.09375),\n",
       " (('feat8', 'feat21'), 0.09375),\n",
       " (('feat15', 'feat18'), 0.09375),\n",
       " (('feat1', 'feat7'), 0.08984375),\n",
       " (('feat1', 'feat9'), 0.08984375),\n",
       " (('feat2', 'feat12'), 0.08984375),\n",
       " (('feat2', 'feat21'), 0.08984375),\n",
       " (('feat2', 'feat27'), 0.08984375),\n",
       " (('feat7', 'feat16'), 0.08984375),\n",
       " (('feat13', 'feat18'), 0.08984375),\n",
       " (('feat18', 'feat21'), 0.08984375),\n",
       " (('feat21', 'feat26'), 0.08984375),\n",
       " (('feat2', 'feat22'), 0.0859375),\n",
       " (('feat3', 'feat11'), 0.0859375),\n",
       " (('feat3', 'feat17'), 0.0859375),\n",
       " (('feat4', 'feat6'), 0.0859375),\n",
       " (('feat4', 'feat17'), 0.0859375)]"
      ]
     },
     "execution_count": 33,
     "metadata": {},
     "output_type": "execute_result"
    }
   ],
   "source": [
    "fetPairImp = cls.featPairImportance()\n",
    "sorted(fetPairImp.items(), key=lambda x: x[1], reverse=True)[:100]"
   ]
  },
  {
   "cell_type": "code",
   "execution_count": 34,
   "metadata": {
    "execution": {
     "iopub.execute_input": "2024-09-14T14:54:54.557211Z",
     "iopub.status.busy": "2024-09-14T14:54:54.556225Z",
     "iopub.status.idle": "2024-09-14T14:54:54.560645Z",
     "shell.execute_reply": "2024-09-14T14:54:54.560280Z",
     "shell.execute_reply.started": "2024-09-14T14:54:54.557175Z"
    }
   },
   "outputs": [
    {
     "data": {
      "text/plain": [
       "(7.875, 2.0367713421000406, 2, 10)"
      ]
     },
     "execution_count": 34,
     "metadata": {},
     "output_type": "execute_result"
    }
   ],
   "source": [
    "fc_stars, fc_list = cls.featCount()\n",
    "fc_stars"
   ]
  },
  {
   "cell_type": "code",
   "execution_count": 35,
   "metadata": {
    "execution": {
     "iopub.execute_input": "2024-09-14T14:55:07.740982Z",
     "iopub.status.busy": "2024-09-14T14:55:07.740325Z",
     "iopub.status.idle": "2024-09-14T14:55:07.743994Z",
     "shell.execute_reply": "2024-09-14T14:55:07.743762Z",
     "shell.execute_reply.started": "2024-09-14T14:55:07.740967Z"
    }
   },
   "outputs": [
    {
     "data": {
      "text/plain": [
       "[(9, 173),\n",
       " (7, 20),\n",
       " (4, 15),\n",
       " (6, 11),\n",
       " (2, 10),\n",
       " (8, 10),\n",
       " (5, 7),\n",
       " (3, 6),\n",
       " (10, 4)]"
      ]
     },
     "execution_count": 35,
     "metadata": {},
     "output_type": "execute_result"
    }
   ],
   "source": [
    "Counter(fc_list).most_common()"
   ]
  },
  {
   "cell_type": "code",
   "execution_count": 41,
   "metadata": {
    "execution": {
     "iopub.execute_input": "2024-09-14T14:58:11.661530Z",
     "iopub.status.busy": "2024-09-14T14:58:11.659973Z",
     "iopub.status.idle": "2024-09-14T14:58:14.098949Z",
     "shell.execute_reply": "2024-09-14T14:58:14.098411Z",
     "shell.execute_reply.started": "2024-09-14T14:58:11.661450Z"
    }
   },
   "outputs": [
    {
     "data": {
      "text/plain": [
       "[('feat3', 0.4921875),\n",
       " ('feat4', 0.44921875),\n",
       " ('feat2', 0.37109375),\n",
       " ('feat10', 0.3515625),\n",
       " ('feat26', 0.3515625),\n",
       " ('feat8', 0.34765625),\n",
       " ('feat7', 0.33203125),\n",
       " ('feat18', 0.3203125),\n",
       " ('feat9', 0.3046875),\n",
       " ('feat1', 0.30078125),\n",
       " ('feat13', 0.27734375),\n",
       " ('feat20', 0.26953125),\n",
       " ('Transaction_Amount', 0.25390625),\n",
       " ('feat16', 0.25),\n",
       " ('feat21', 0.25),\n",
       " ('feat5', 0.24609375),\n",
       " ('feat14', 0.2421875),\n",
       " ('feat19', 0.2421875),\n",
       " ('feat12', 0.23828125),\n",
       " ('feat27', 0.23046875),\n",
       " ('feat17', 0.21875),\n",
       " ('feat25', 0.21484375),\n",
       " ('feat11', 0.203125),\n",
       " ('feat28', 0.203125),\n",
       " ('feat23', 0.19921875),\n",
       " ('feat22', 0.1953125),\n",
       " ('feat15', 0.18359375),\n",
       " ('feat6', 0.16796875),\n",
       " ('feat24', 0.16796875)]"
      ]
     },
     "execution_count": 41,
     "metadata": {},
     "output_type": "execute_result"
    }
   ],
   "source": [
    "feat_imp = cls.featImportance()\n",
    "sorted([(k, v) for k, v in feat_imp.items()], key=lambda x: x[1], reverse=True)"
   ]
  },
  {
   "cell_type": "markdown",
   "metadata": {
    "execution": {
     "iopub.execute_input": "2024-09-14T14:58:54.658222Z",
     "iopub.status.busy": "2024-09-14T14:58:54.656802Z",
     "iopub.status.idle": "2024-09-14T14:58:54.660202Z",
     "shell.execute_reply": "2024-09-14T14:58:54.659937Z",
     "shell.execute_reply.started": "2024-09-14T14:58:54.658162Z"
    }
   },
   "source": [
    "# Conclusios:"
   ]
  },
  {
   "cell_type": "code",
   "execution_count": null,
   "metadata": {},
   "outputs": [],
   "source": []
  }
 ],
 "metadata": {
  "kernelspec": {
   "display_name": "Python 3 (ipykernel)",
   "language": "python",
   "name": "python3"
  },
  "language_info": {
   "codemirror_mode": {
    "name": "ipython",
    "version": 3
   },
   "file_extension": ".py",
   "mimetype": "text/x-python",
   "name": "python",
   "nbconvert_exporter": "python",
   "pygments_lexer": "ipython3",
   "version": "3.11.10"
  }
 },
 "nbformat": 4,
 "nbformat_minor": 4
}
