{
 "cells": [
  {
   "cell_type": "markdown",
   "metadata": {},
   "source": [
    "# Tuning \n",
    "\n",
    "- Author: Israel Oliveira [\\[e-mail\\]](mailto:'Israel%20Oliveira%20'<prof.israel@gmail.com>)"
   ]
  },
  {
   "cell_type": "code",
   "execution_count": 1,
   "metadata": {
    "execution": {
     "iopub.execute_input": "2024-09-18T07:29:35.710458Z",
     "iopub.status.busy": "2024-09-18T07:29:35.710314Z",
     "iopub.status.idle": "2024-09-18T07:29:35.719881Z",
     "shell.execute_reply": "2024-09-18T07:29:35.719536Z",
     "shell.execute_reply.started": "2024-09-18T07:29:35.710448Z"
    }
   },
   "outputs": [],
   "source": [
    "%load_ext watermark"
   ]
  },
  {
   "cell_type": "code",
   "execution_count": 2,
   "metadata": {
    "execution": {
     "iopub.execute_input": "2024-09-18T07:29:35.981497Z",
     "iopub.status.busy": "2024-09-18T07:29:35.980963Z",
     "iopub.status.idle": "2024-09-18T07:29:38.182635Z",
     "shell.execute_reply": "2024-09-18T07:29:38.182265Z",
     "shell.execute_reply.started": "2024-09-18T07:29:35.981454Z"
    }
   },
   "outputs": [],
   "source": [
    "import pandas as pd\n",
    "import numpy as np\n",
    "from random_forest_mc.model import RandomForestMC\n",
    "from random_forest_mc.utils import LoadDicts, dump_file_json, load_file_json\n",
    "from tqdm.notebook import tqdm\n",
    "from datetime import datetime\n",
    "from collections import Counter, defaultdict\n",
    "from glob import glob\n",
    "from sklearn.metrics import accuracy_score, f1_score, confusion_matrix\n",
    "import matplotlib "
   ]
  },
  {
   "cell_type": "code",
   "execution_count": 3,
   "metadata": {
    "execution": {
     "iopub.execute_input": "2024-09-18T07:29:38.183631Z",
     "iopub.status.busy": "2024-09-18T07:29:38.183198Z",
     "iopub.status.idle": "2024-09-18T07:29:38.427893Z",
     "shell.execute_reply": "2024-09-18T07:29:38.427097Z",
     "shell.execute_reply.started": "2024-09-18T07:29:38.183617Z"
    }
   },
   "outputs": [],
   "source": [
    "import matplotlib.pyplot as plt\n",
    "%matplotlib inline\n",
    "from matplotlib import rcParams\n",
    "from cycler import cycler\n",
    "\n",
    "rcParams['figure.figsize'] = 6, 2 # 18, 5\n",
    "rcParams['axes.spines.top'] = False\n",
    "rcParams['axes.spines.right'] = False\n",
    "rcParams['axes.grid'] = True\n",
    "rcParams['axes.prop_cycle'] = cycler(color=['#365977'])\n",
    "rcParams['lines.linewidth'] = 2.5"
   ]
  },
  {
   "cell_type": "code",
   "execution_count": 4,
   "metadata": {
    "execution": {
     "iopub.execute_input": "2024-09-18T07:29:38.428570Z",
     "iopub.status.busy": "2024-09-18T07:29:38.428408Z",
     "iopub.status.idle": "2024-09-18T07:29:38.432250Z",
     "shell.execute_reply": "2024-09-18T07:29:38.431499Z",
     "shell.execute_reply.started": "2024-09-18T07:29:38.428553Z"
    }
   },
   "outputs": [],
   "source": [
    "import warnings\n",
    "warnings.filterwarnings('ignore', category=pd.errors.SettingWithCopyWarning)"
   ]
  },
  {
   "cell_type": "code",
   "execution_count": 5,
   "metadata": {
    "execution": {
     "iopub.execute_input": "2024-09-18T07:29:38.433895Z",
     "iopub.status.busy": "2024-09-18T07:29:38.433641Z",
     "iopub.status.idle": "2024-09-18T07:29:38.449090Z",
     "shell.execute_reply": "2024-09-18T07:29:38.448408Z",
     "shell.execute_reply.started": "2024-09-18T07:29:38.433874Z"
    }
   },
   "outputs": [],
   "source": [
    "import functools\n",
    "import operator\n",
    "def flat(a):\n",
    "    return functools.reduce(operator.iconcat, a, [])"
   ]
  },
  {
   "cell_type": "code",
   "execution_count": 6,
   "metadata": {
    "execution": {
     "iopub.execute_input": "2024-09-18T07:29:38.449863Z",
     "iopub.status.busy": "2024-09-18T07:29:38.449704Z",
     "iopub.status.idle": "2024-09-18T07:29:39.030091Z",
     "shell.execute_reply": "2024-09-18T07:29:39.027878Z",
     "shell.execute_reply.started": "2024-09-18T07:29:38.449849Z"
    }
   },
   "outputs": [
    {
     "name": "stdout",
     "output_type": "stream",
     "text": [
      "Python implementation: CPython\n",
      "Python version       : 3.11.10\n",
      "IPython version      : 8.27.0\n",
      "\n",
      "Compiler    : GCC 10.2.1 20210110\n",
      "OS          : Linux\n",
      "Release     : 6.8.0-44-generic\n",
      "Machine     : x86_64\n",
      "Processor   : \n",
      "CPU cores   : 20\n",
      "Architecture: 64bit\n",
      "\n",
      "Git hash: afffba9ffbd19f4c4b696c18f695f73af62368d0\n",
      "\n",
      "Git repo: https://github.com/ysraell/random-forest-mc-utils.git\n",
      "\n",
      "Git branch: main\n",
      "\n",
      "numpy     : 1.26.4\n",
      "pandas    : 2.2.2\n",
      "matplotlib: 3.9.2\n",
      "\n",
      "CPU\t: 12th Gen Intel(R) Core(TM) i7-12700\n",
      "Mem:            15G\n",
      "Swap:          3.7G\n"
     ]
    }
   ],
   "source": [
    "# Run this cell before close.\n",
    "%watermark -d --iversion -b -r -g -m -v\n",
    "!cat /proc/cpuinfo |grep 'model name'|head -n 1 |sed -e 's/model\\ name/CPU/'\n",
    "!free -h |cut -d'i' -f1  |grep -v total"
   ]
  },
  {
   "cell_type": "code",
   "execution_count": 7,
   "metadata": {
    "execution": {
     "iopub.execute_input": "2024-09-18T07:29:39.033639Z",
     "iopub.status.busy": "2024-09-18T07:29:39.032843Z",
     "iopub.status.idle": "2024-09-18T07:29:39.041704Z",
     "shell.execute_reply": "2024-09-18T07:29:39.040149Z",
     "shell.execute_reply.started": "2024-09-18T07:29:39.033574Z"
    }
   },
   "outputs": [],
   "source": [
    "dataset_path = '/work/tmp/credit-card-fraud-prediction'"
   ]
  },
  {
   "cell_type": "code",
   "execution_count": 8,
   "metadata": {
    "execution": {
     "iopub.execute_input": "2024-09-18T07:29:39.045576Z",
     "iopub.status.busy": "2024-09-18T07:29:39.045082Z",
     "iopub.status.idle": "2024-09-18T07:29:39.273426Z",
     "shell.execute_reply": "2024-09-18T07:29:39.271643Z",
     "shell.execute_reply.started": "2024-09-18T07:29:39.045528Z"
    }
   },
   "outputs": [
    {
     "name": "stdout",
     "output_type": "stream",
     "text": [
      "model_trans_tuning_256trees_20240917_1808.json\n",
      "model_trans_tuning_32trees_20240917_1322.json\n",
      "model_trans_tuning_32trees_20240917_1416.json\n",
      "model_tuned_256trees_20240918_0134.json\n",
      "model_tuned_not_trans_256trees_20240918_0559.json\n",
      "sample_submission.csv\n",
      "submission_exp1.csv\n",
      "submission_exp2_trans.csv\n",
      "submission_exp2_trans_probs.csv\n",
      "submission_exp2_trans_probs2.csv\n",
      "submission_exp2_trans_probs4.csv\n",
      "submission_exp2_trans_t2.csv\n",
      "submission_exp2_trans_t3.csv\n",
      "submission_exp2_trans_t4.csv\n",
      "submission_exp2_trans_t5.csv\n",
      "submission_exp2_trans_t6.csv\n",
      "submission_exp4_not_trans_probs1.csv\n",
      "submission_sklearn_exp1.csv\n",
      "submission_sklearn_exp1_proba.csv\n",
      "submission_sklearn_exp1_proba2.csv\n",
      "submission_sklearn_exp1_proba3.csv\n",
      "submission_sklearn_exp2_proba1.csv\n",
      "test.csv\n",
      "test_trans.csv\n",
      "train.csv\n",
      "train_trans.csv\n",
      "trees_trans_metrcis_sim_20240917_1950.json\n"
     ]
    }
   ],
   "source": [
    "!ls $dataset_path"
   ]
  },
  {
   "cell_type": "code",
   "execution_count": 9,
   "metadata": {
    "execution": {
     "iopub.execute_input": "2024-09-18T07:29:39.677983Z",
     "iopub.status.busy": "2024-09-18T07:29:39.677423Z",
     "iopub.status.idle": "2024-09-18T07:29:40.031234Z",
     "shell.execute_reply": "2024-09-18T07:29:40.030791Z",
     "shell.execute_reply.started": "2024-09-18T07:29:39.677933Z"
    }
   },
   "outputs": [
    {
     "data": {
      "text/plain": [
       "(269, 149731)"
      ]
     },
     "execution_count": 9,
     "metadata": {},
     "output_type": "execute_result"
    }
   ],
   "source": [
    "df = pd.read_csv(f'{dataset_path}/train.csv')\n",
    "#df = df.drop(columns='Time')\n",
    "target_col = 'IsFraud'\n",
    "df[target_col] = df[target_col].astype(str)\n",
    "feat_cols = df.columns.to_list()\n",
    "feat_cols.remove('id')\n",
    "feat_cols.remove(target_col)\n",
    "IsFraud_count, Not_IsFraud_count = df[target_col].value_counts()['1'], df[target_col].value_counts()['0']\n",
    "IsFraud_count, Not_IsFraud_count"
   ]
  },
  {
   "cell_type": "code",
   "execution_count": 10,
   "metadata": {
    "execution": {
     "iopub.execute_input": "2024-09-18T07:29:40.587802Z",
     "iopub.status.busy": "2024-09-18T07:29:40.587059Z",
     "iopub.status.idle": "2024-09-18T07:29:40.594837Z",
     "shell.execute_reply": "2024-09-18T07:29:40.593688Z",
     "shell.execute_reply.started": "2024-09-18T07:29:40.587758Z"
    }
   },
   "outputs": [],
   "source": [
    "split_schema = {\n",
    "    'test': {\n",
    "        '1': 10,\n",
    "        '0': 10000,\n",
    "    },\n",
    "    'train': {\n",
    "        '1': 239,\n",
    "        '0': 50000,\n",
    "    },\n",
    "    'val': {\n",
    "        '1': 20,\n",
    "        '0': 6900,\n",
    "    }\n",
    "}"
   ]
  },
  {
   "cell_type": "code",
   "execution_count": 11,
   "metadata": {
    "execution": {
     "iopub.execute_input": "2024-09-18T07:29:44.308870Z",
     "iopub.status.busy": "2024-09-18T07:29:44.308622Z",
     "iopub.status.idle": "2024-09-18T07:29:44.479680Z",
     "shell.execute_reply": "2024-09-18T07:29:44.478989Z",
     "shell.execute_reply.started": "2024-09-18T07:29:44.308861Z"
    }
   },
   "outputs": [],
   "source": [
    "df_tmp = df.copy()\n",
    "\n",
    "dfs = {}\n",
    "for ds_set in split_schema.keys():\n",
    "    df_set = pd.concat([\n",
    "        df_tmp.query(f'{target_col} == \"{target_val}\"').sample(n=split_schema[ds_set][target_val], random_state=42)\n",
    "        for target_val in ['1', '0']\n",
    "    ])\n",
    "    df_tmp = df_tmp.drop(df_set.index).reset_index(drop=True)\n",
    "    dfs[ds_set] = df_set.reset_index(drop=True)\n",
    "\n",
    "df_tofit = pd.concat([dfs['train'], dfs['val']])"
   ]
  },
  {
   "cell_type": "code",
   "execution_count": 12,
   "metadata": {
    "execution": {
     "iopub.execute_input": "2024-09-18T07:29:45.238190Z",
     "iopub.status.busy": "2024-09-18T07:29:45.237625Z",
     "iopub.status.idle": "2024-09-18T07:29:45.248670Z",
     "shell.execute_reply": "2024-09-18T07:29:45.247756Z",
     "shell.execute_reply.started": "2024-09-18T07:29:45.238147Z"
    }
   },
   "outputs": [
    {
     "data": {
      "text/plain": [
       "(82831, 57159, 10010, 150000)"
      ]
     },
     "execution_count": 12,
     "metadata": {},
     "output_type": "execute_result"
    }
   ],
   "source": [
    "df_tmp.shape[0], df_tofit.shape[0], dfs['test'].shape[0], df_tmp.shape[0] + df_tofit.shape[0] + dfs['test'].shape[0]"
   ]
  },
  {
   "cell_type": "code",
   "execution_count": 16,
   "metadata": {
    "execution": {
     "iopub.execute_input": "2024-09-18T02:03:59.860386Z",
     "iopub.status.busy": "2024-09-18T02:03:59.860221Z",
     "iopub.status.idle": "2024-09-18T02:03:59.864181Z",
     "shell.execute_reply": "2024-09-18T02:03:59.863919Z",
     "shell.execute_reply.started": "2024-09-18T02:03:59.860374Z"
    }
   },
   "outputs": [
    {
     "data": {
      "text/plain": [
       "RandomForestMC(len(Forest)=0,n_trees=256,model_version=1.2.0-dev,module_version=1.2.0-dev)"
      ]
     },
     "execution_count": 16,
     "metadata": {},
     "output_type": "execute_result"
    }
   ],
   "source": [
    "batch_train_pclass = split_schema['train']['1']\n",
    "batch_val_pclass = split_schema['val']['1']\n",
    "max_depth = None\n",
    "n_trees = 256\n",
    "max_discard_trees = 256\n",
    "min_feature = 2\n",
    "max_feature = 16\n",
    "\n",
    "cpu_cores = 8\n",
    "max_workers = 16\n",
    "\n",
    "cls = RandomForestMC(\n",
    "    n_trees=n_trees, \n",
    "    target_col=target_col, \n",
    "    max_discard_trees=max_discard_trees,\n",
    "    batch_train_pclass=batch_train_pclass,\n",
    "    batch_val_pclass=batch_val_pclass,\n",
    "    min_feature=min_feature,\n",
    "    max_feature=max_feature,\n",
    "    max_depth=max_depth\n",
    ")\n",
    "cls"
   ]
  },
  {
   "cell_type": "code",
   "execution_count": 13,
   "metadata": {
    "execution": {
     "iopub.execute_input": "2024-09-18T07:29:52.891723Z",
     "iopub.status.busy": "2024-09-18T07:29:52.889785Z",
     "iopub.status.idle": "2024-09-18T07:29:52.899759Z",
     "shell.execute_reply": "2024-09-18T07:29:52.898927Z",
     "shell.execute_reply.started": "2024-09-18T07:29:52.891644Z"
    }
   },
   "outputs": [],
   "source": [
    "df_test = dfs['test']\n",
    "y_test = df_test[target_col].astype(int).to_list()\n",
    "ppy = lambda x: round(100*x, 6)"
   ]
  },
  {
   "cell_type": "code",
   "execution_count": 57,
   "metadata": {
    "execution": {
     "iopub.execute_input": "2024-09-18T12:02:35.618881Z",
     "iopub.status.busy": "2024-09-18T12:02:35.618760Z",
     "iopub.status.idle": "2024-09-18T12:02:35.621802Z",
     "shell.execute_reply": "2024-09-18T12:02:35.621430Z",
     "shell.execute_reply.started": "2024-09-18T12:02:35.618871Z"
    }
   },
   "outputs": [
    {
     "data": {
      "text/plain": [
       "Index(['id', 'Time', 'feat1', 'feat2', 'feat3', 'feat4', 'feat5', 'feat6',\n",
       "       'feat7', 'feat8', 'feat9', 'feat10', 'feat11', 'feat12', 'feat13',\n",
       "       'feat14', 'feat15', 'feat16', 'feat17', 'feat18', 'feat19', 'feat20',\n",
       "       'feat21', 'feat22', 'feat23', 'feat24', 'feat25', 'feat26', 'feat27',\n",
       "       'feat28', 'Transaction_Amount', 'IsFraud'],\n",
       "      dtype='object')"
      ]
     },
     "execution_count": 57,
     "metadata": {},
     "output_type": "execute_result"
    }
   ],
   "source": [
    "df_tofit.columns"
   ]
  },
  {
   "cell_type": "markdown",
   "metadata": {},
   "source": [
    "# Create the model"
   ]
  },
  {
   "cell_type": "code",
   "execution_count": 18,
   "metadata": {
    "execution": {
     "iopub.execute_input": "2024-09-18T02:04:02.278054Z",
     "iopub.status.busy": "2024-09-18T02:04:02.277518Z",
     "iopub.status.idle": "2024-09-18T05:59:23.242248Z",
     "shell.execute_reply": "2024-09-18T05:59:23.241664Z",
     "shell.execute_reply.started": "2024-09-18T02:04:02.278014Z"
    }
   },
   "outputs": [
    {
     "data": {
      "application/vnd.jupyter.widget-view+json": {
       "model_id": "53dcf903b1774fb29b55de69951e4746",
       "version_major": 2,
       "version_minor": 0
      },
      "text/plain": [
       "Planting the forest:   0%|          | 0/256 [00:00<?, ?it/s]"
      ]
     },
     "metadata": {},
     "output_type": "display_data"
    }
   ],
   "source": [
    "cls.fitParallel(dataset=df_tofit, max_workers=max_workers)\n",
    "ModelDict = cls.model2dict()\n",
    "datetime_tag = datetime.now().strftime('%Y%m%d_%H%M')\n",
    "path_dict = f'{dataset_path}/model_tuned_not_trans_{len(cls)}trees_{datetime_tag}.json'\n",
    "dump_file_json(path_dict, ModelDict)\n",
    "del ModelDict"
   ]
  },
  {
   "cell_type": "code",
   "execution_count": null,
   "metadata": {},
   "outputs": [],
   "source": [
    "cls.setSoftVoting()\n",
    "y_pred_soft = np.array(cls.testForest(df_test)).astype(int)\n",
    "accuracy_soft = accuracy_score(y_test, y_pred_soft)\n",
    "f1_score_soft = f1_score(y_test, y_pred_soft)\n",
    "\n",
    "print(f\"{len(cls)} Trees\")\n",
    "cm = confusion_matrix(y_test, y_pred_soft)\n",
    "display(pd.DataFrame(cm, columns=['Pred False','Pred True'], index=['False','True']))\n",
    "tn, fp, fn, tp = cm.ravel()\n",
    "obj_score = fn / (fn+tp)\n",
    "print(f\"Acc: {ppy(accuracy_soft):.4f}% \\n F1: {ppy(f1_score_soft):.4f}% \\n FN: {ppy(obj_score):.4f}%\")\n",
    "\n",
    "fc_stars, fc_list = cls.featCount()\n",
    "print(f\"Feat count stats: {fc_stars}\")\n",
    "Counter(fc_list).most_common()"
   ]
  },
  {
   "cell_type": "code",
   "execution_count": null,
   "metadata": {},
   "outputs": [],
   "source": [
    "cls.fitParallel(dataset=df_tofit, max_workers=max_workers)\n",
    "ModelDict = cls.model2dict()\n",
    "datetime_tag = datetime.now().strftime('%Y%m%d_%H%M')\n",
    "path_dict = f'{dataset_path}/model_trans_tuning_{len(cls)}trees_{datetime_tag}.json'\n",
    "dump_file_json(path_dict, ModelDict)\n",
    "del ModelDict"
   ]
  },
  {
   "cell_type": "code",
   "execution_count": null,
   "metadata": {},
   "outputs": [],
   "source": [
    "cls.setSoftVoting()\n",
    "y_pred_soft = np.array(cls.testForest(df_test)).astype(int)\n",
    "accuracy_soft = accuracy_score(y_test, y_pred_soft)\n",
    "f1_score_soft = f1_score(y_test, y_pred_soft)\n",
    "\n",
    "print(f\"{len(cls)} Trees\")\n",
    "cm = confusion_matrix(y_test, y_pred_soft)\n",
    "display(pd.DataFrame(cm, columns=['Pred False','Pred True'], index=['False','True']))\n",
    "tn, fp, fn, tp = cm.ravel()\n",
    "obj_score = fn / (fn+tp)\n",
    "print(f\"Acc: {ppy(accuracy_soft):.4f}% \\n F1: {ppy(f1_score_soft):.4f}% \\n FN: {ppy(obj_score):.4f}%\")\n",
    "\n",
    "fc_stars, fc_list = cls.featCount()\n",
    "print(f\"Feat count stats: {fc_stars}\")\n",
    "Counter(fc_list).most_common()"
   ]
  },
  {
   "cell_type": "code",
   "execution_count": null,
   "metadata": {},
   "outputs": [],
   "source": [
    "cls.n_trees = 16"
   ]
  },
  {
   "cell_type": "code",
   "execution_count": null,
   "metadata": {},
   "outputs": [],
   "source": [
    "cls.fitParallel(dataset=df_tofit, max_workers=max_workers)\n",
    "ModelDict = cls.model2dict()\n",
    "datetime_tag = datetime.now().strftime('%Y%m%d_%H%M')\n",
    "path_dict = f'{dataset_path}/model_trans_tuning_{len(cls)}trees_{datetime_tag}.json'\n",
    "dump_file_json(path_dict, ModelDict)\n",
    "del ModelDict"
   ]
  },
  {
   "cell_type": "code",
   "execution_count": null,
   "metadata": {},
   "outputs": [],
   "source": [
    "cls.setSoftVoting()\n",
    "y_pred_soft = np.array(cls.testForest(df_test)).astype(int)\n",
    "accuracy_soft = accuracy_score(y_test, y_pred_soft)\n",
    "f1_score_soft = f1_score(y_test, y_pred_soft)\n",
    "\n",
    "print(f\"{len(cls)} Trees\")\n",
    "cm = confusion_matrix(y_test, y_pred_soft)\n",
    "display(pd.DataFrame(cm, columns=['Pred False','Pred True'], index=['False','True']))\n",
    "tn, fp, fn, tp = cm.ravel()\n",
    "obj_score = fn / (fn+tp)\n",
    "print(f\"Acc: {ppy(accuracy_soft):.4f}% \\n F1: {ppy(f1_score_soft):.4f}% \\n FN: {ppy(obj_score):.4f}%\")\n",
    "\n",
    "fc_stars, fc_list = cls.featCount()\n",
    "print(f\"Feat count stats: {fc_stars}\")\n",
    "Counter(fc_list).most_common()"
   ]
  },
  {
   "cell_type": "code",
   "execution_count": null,
   "metadata": {},
   "outputs": [],
   "source": [
    "cls.n_trees = 256\n",
    "max_workers = 16"
   ]
  },
  {
   "cell_type": "code",
   "execution_count": null,
   "metadata": {},
   "outputs": [],
   "source": [
    "cls.fitParallel(dataset=df_tofit, max_workers=max_workers)\n",
    "ModelDict = cls.model2dict()\n",
    "datetime_tag = datetime.now().strftime('%Y%m%d_%H%M')\n",
    "path_dict = f'{dataset_path}/model_trans_tuning_{len(cls)}trees_{datetime_tag}.json'\n",
    "dump_file_json(path_dict, ModelDict)\n",
    "del ModelDict"
   ]
  },
  {
   "cell_type": "code",
   "execution_count": null,
   "metadata": {},
   "outputs": [],
   "source": [
    "cls.setSoftVoting()\n",
    "y_pred_soft = np.array(cls.testForest(df_test)).astype(int)\n",
    "accuracy_soft = accuracy_score(y_test, y_pred_soft)\n",
    "f1_score_soft = f1_score(y_test, y_pred_soft)\n",
    "\n",
    "print(f\"{len(cls)} Trees\")\n",
    "cm = confusion_matrix(y_test, y_pred_soft)\n",
    "display(pd.DataFrame(cm, columns=['Pred False','Pred True'], index=['False','True']))\n",
    "tn, fp, fn, tp = cm.ravel()\n",
    "obj_score = fn / (fn+tp)\n",
    "print(f\"Acc: {ppy(accuracy_soft):.4f}% \\n F1: {ppy(f1_score_soft):.4f}% \\n FN: {ppy(obj_score):.4f}%\")\n",
    "\n",
    "fc_stars, fc_list = cls.featCount()\n",
    "print(f\"Feat count stats: {fc_stars}\")\n",
    "Counter(fc_list).most_common()"
   ]
  },
  {
   "cell_type": "markdown",
   "metadata": {
    "execution": {
     "iopub.execute_input": "2024-09-14T14:58:54.658222Z",
     "iopub.status.busy": "2024-09-14T14:58:54.656802Z",
     "iopub.status.idle": "2024-09-14T14:58:54.660202Z",
     "shell.execute_reply": "2024-09-14T14:58:54.659937Z",
     "shell.execute_reply.started": "2024-09-14T14:58:54.658162Z"
    }
   },
   "source": [
    "# Search for the best set of trees"
   ]
  },
  {
   "cell_type": "code",
   "execution_count": 15,
   "metadata": {
    "execution": {
     "iopub.execute_input": "2024-09-18T07:30:19.727435Z",
     "iopub.status.busy": "2024-09-18T07:30:19.726937Z",
     "iopub.status.idle": "2024-09-18T07:30:19.751804Z",
     "shell.execute_reply": "2024-09-18T07:30:19.750918Z",
     "shell.execute_reply.started": "2024-09-18T07:30:19.727398Z"
    }
   },
   "outputs": [],
   "source": [
    "cls = RandomForestMC(target_col=target_col)\n",
    "cls.process_dataset(df_tofit)"
   ]
  },
  {
   "cell_type": "code",
   "execution_count": 17,
   "metadata": {
    "execution": {
     "iopub.execute_input": "2024-09-18T07:30:44.757122Z",
     "iopub.status.busy": "2024-09-18T07:30:44.756955Z",
     "iopub.status.idle": "2024-09-18T07:30:44.971925Z",
     "shell.execute_reply": "2024-09-18T07:30:44.969988Z",
     "shell.execute_reply.started": "2024-09-18T07:30:44.757108Z"
    }
   },
   "outputs": [
    {
     "name": "stdout",
     "output_type": "stream",
     "text": [
      "-rw-r--r-- 1 root root 200869760 Sep 17 18:08 /work/tmp/credit-card-fraud-prediction/model_trans_tuning_256trees_20240917_1808.json\n",
      "-rw-r--r-- 1 root root   8653992 Sep 17 13:22 /work/tmp/credit-card-fraud-prediction/model_trans_tuning_32trees_20240917_1322.json\n",
      "-rw-r--r-- 1 root root  25235821 Sep 17 14:16 /work/tmp/credit-card-fraud-prediction/model_trans_tuning_32trees_20240917_1416.json\n",
      "-rw-r--r-- 1 root root 200669551 Sep 18 01:34 /work/tmp/credit-card-fraud-prediction/model_tuned_256trees_20240918_0134.json\n",
      "-rw-r--r-- 1 root root 201051079 Sep 18 05:59 /work/tmp/credit-card-fraud-prediction/model_tuned_not_trans_256trees_20240918_0559.json\n"
     ]
    }
   ],
   "source": [
    "!ls -l $dataset_path/model_*"
   ]
  },
  {
   "cell_type": "code",
   "execution_count": 53,
   "metadata": {
    "execution": {
     "iopub.execute_input": "2024-09-18T11:59:00.077645Z",
     "iopub.status.busy": "2024-09-18T11:59:00.077460Z",
     "iopub.status.idle": "2024-09-18T11:59:01.021199Z",
     "shell.execute_reply": "2024-09-18T11:59:01.020841Z",
     "shell.execute_reply.started": "2024-09-18T11:59:00.077630Z"
    }
   },
   "outputs": [
    {
     "data": {
      "text/plain": [
       "RandomForestMC(len(Forest)=256,n_trees=256,model_version=1.2.0-dev,module_version=1.2.0-dev)"
      ]
     },
     "execution_count": 53,
     "metadata": {},
     "output_type": "execute_result"
    }
   ],
   "source": [
    "model_json = f'{dataset_path}/model_tuned_not_trans_256trees_20240918_0559.json'\n",
    "model_dict = load_file_json(model_json)\n",
    "cls.dict2model(model_dict)\n",
    "cls"
   ]
  },
  {
   "cell_type": "code",
   "execution_count": 19,
   "metadata": {
    "execution": {
     "iopub.execute_input": "2024-09-18T07:31:24.382227Z",
     "iopub.status.busy": "2024-09-18T07:31:24.381686Z",
     "iopub.status.idle": "2024-09-18T07:31:25.038052Z",
     "shell.execute_reply": "2024-09-18T07:31:25.037677Z",
     "shell.execute_reply.started": "2024-09-18T07:31:24.382180Z"
    },
    "scrolled": true
   },
   "outputs": [
    {
     "data": {
      "text/html": [
       "<div>\n",
       "<style scoped>\n",
       "    .dataframe tbody tr th:only-of-type {\n",
       "        vertical-align: middle;\n",
       "    }\n",
       "\n",
       "    .dataframe tbody tr th {\n",
       "        vertical-align: top;\n",
       "    }\n",
       "\n",
       "    .dataframe thead th {\n",
       "        text-align: right;\n",
       "    }\n",
       "</style>\n",
       "<table border=\"1\" class=\"dataframe\">\n",
       "  <thead>\n",
       "    <tr style=\"text-align: right;\">\n",
       "      <th></th>\n",
       "      <th>Depths</th>\n",
       "    </tr>\n",
       "  </thead>\n",
       "  <tbody>\n",
       "    <tr>\n",
       "      <th>count</th>\n",
       "      <td>117293.000000</td>\n",
       "    </tr>\n",
       "    <tr>\n",
       "      <th>mean</th>\n",
       "      <td>10.122625</td>\n",
       "    </tr>\n",
       "    <tr>\n",
       "      <th>std</th>\n",
       "      <td>0.835727</td>\n",
       "    </tr>\n",
       "    <tr>\n",
       "      <th>min</th>\n",
       "      <td>6.000000</td>\n",
       "    </tr>\n",
       "    <tr>\n",
       "      <th>25%</th>\n",
       "      <td>10.000000</td>\n",
       "    </tr>\n",
       "    <tr>\n",
       "      <th>50%</th>\n",
       "      <td>10.000000</td>\n",
       "    </tr>\n",
       "    <tr>\n",
       "      <th>75%</th>\n",
       "      <td>11.000000</td>\n",
       "    </tr>\n",
       "    <tr>\n",
       "      <th>max</th>\n",
       "      <td>13.000000</td>\n",
       "    </tr>\n",
       "  </tbody>\n",
       "</table>\n",
       "</div>"
      ],
      "text/plain": [
       "              Depths\n",
       "count  117293.000000\n",
       "mean       10.122625\n",
       "std         0.835727\n",
       "min         6.000000\n",
       "25%        10.000000\n",
       "50%        10.000000\n",
       "75%        11.000000\n",
       "max        13.000000"
      ]
     },
     "execution_count": 19,
     "metadata": {},
     "output_type": "execute_result"
    },
    {
     "data": {
      "image/png": "[encoded data removed]",
      "text/plain": [
       "<Figure size 600x200 with 1 Axes>"
      ]
     },
     "metadata": {},
     "output_type": "display_data"
    }
   ],
   "source": [
    "dps = cls.trees2depths\n",
    "df_dethps = pd.DataFrame(flat(dps), columns=['Depths'])\n",
    "df_dethps.hist()\n",
    "df_dethps.describe()"
   ]
  },
  {
   "cell_type": "code",
   "execution_count": null,
   "metadata": {},
   "outputs": [],
   "source": [
    "cls_inc = RandomForestMC(target_col=target_col)\n",
    "cls_inc.process_dataset(df_tofit)\n",
    "df_frauds = df_test.query(f'{target_col} == \"1\"').reset_index(drop=True)\n",
    "\n",
    "tp_soft = []\n",
    "tp_hard = []\n",
    "final_N = cls.Forest_size\n",
    "for i in tqdm(range(1,final_N)):\n",
    "    cls_inc.reset_forest()\n",
    "    cls_inc.mergeForest(cls, N=i, by=\"score\")\n",
    "    cls_inc.setSoftVoting(True)\n",
    "    y_pred_soft = np.array(cls_inc.testForest(df_frauds)).astype(int)\n",
    "    tp_soft.append(sum(y_pred_soft))\n",
    "    cls_inc.setSoftVoting(False)\n",
    "    y_pred_hard = np.array(cls_inc.testForest(df_frauds)).astype(int)\n",
    "    tp_hard.append(sum(y_pred_hard))"
   ]
  },
  {
   "cell_type": "code",
   "execution_count": null,
   "metadata": {},
   "outputs": [],
   "source": [
    "df_soft = pd.DataFrame(tp_soft)\n",
    "df_soft.plot()\n",
    "df_soft.describe()"
   ]
  },
  {
   "cell_type": "code",
   "execution_count": null,
   "metadata": {},
   "outputs": [],
   "source": [
    "df_hard = pd.DataFrame(tp_hard)\n",
    "df_hard.plot()\n",
    "df_hard.describe()"
   ]
  },
  {
   "cell_type": "code",
   "execution_count": null,
   "metadata": {},
   "outputs": [],
   "source": [
    "cls_inc = RandomForestMC(target_col=target_col)\n",
    "cls_inc.process_dataset(df_tofit)\n",
    "df_frauds = df_test.query(f'{target_col} == \"1\"').reset_index(drop=True)\n",
    "\n",
    "tp_soft = []\n",
    "tp_hard = []\n",
    "final_N = cls.Forest_size\n",
    "for i in tqdm(range(1,final_N)):\n",
    "    cls_inc.reset_forest()\n",
    "    cls_inc.mergeForest(cls, N=i, by=\"random\")\n",
    "    cls_inc.setSoftVoting(True)\n",
    "    y_pred_soft = np.array(cls_inc.testForest(df_frauds)).astype(int)\n",
    "    tp_soft.append(sum(y_pred_soft))\n",
    "    cls_inc.setSoftVoting(False)\n",
    "    y_pred_hard = np.array(cls_inc.testForest(df_frauds)).astype(int)\n",
    "    tp_hard.append(sum(y_pred_hard))"
   ]
  },
  {
   "cell_type": "code",
   "execution_count": null,
   "metadata": {},
   "outputs": [],
   "source": [
    "df_soft = pd.DataFrame(tp_soft)\n",
    "df_soft.plot()\n",
    "df_soft.describe()"
   ]
  },
  {
   "cell_type": "code",
   "execution_count": null,
   "metadata": {},
   "outputs": [],
   "source": [
    "df_hard = pd.DataFrame(tp_hard)\n",
    "df_hard.plot()\n",
    "df_hard.describe()"
   ]
  },
  {
   "cell_type": "code",
   "execution_count": null,
   "metadata": {},
   "outputs": [],
   "source": [
    "cls_inc = RandomForestMC(target_col=target_col)\n",
    "cls_inc.process_dataset(df_tofit)\n",
    "df_frauds = df_test.query(f'{target_col} == \"1\"').reset_index(drop=True)\n",
    "\n",
    "N_sim = 100\n",
    "\n",
    "data = []\n",
    "final_N = cls.Forest_size\n",
    "for i in tqdm(range(1,final_N)):\n",
    "    tp = []\n",
    "    for _ in range(N_sim):\n",
    "        cls_inc.reset_forest()\n",
    "        cls_inc.mergeForest(cls, N=i, by=\"random\")\n",
    "        cls_inc.setSoftVoting(True)\n",
    "        y_pred_soft = np.array(cls_inc.testForest(df_frauds)).astype(int)\n",
    "        tp.append(sum(y_pred_soft))\n",
    "    data.append(tp)"
   ]
  },
  {
   "cell_type": "code",
   "execution_count": null,
   "metadata": {},
   "outputs": [],
   "source": [
    "df = pd.DataFrame(data).T\n",
    "\n",
    "plt.figure()\n",
    "df.boxplot()"
   ]
  },
  {
   "cell_type": "code",
   "execution_count": null,
   "metadata": {},
   "outputs": [],
   "source": [
    "df.describe().T.sort_values(by='mean', ascending=False).head(20)"
   ]
  },
  {
   "cell_type": "code",
   "execution_count": null,
   "metadata": {},
   "outputs": [],
   "source": [
    "cls_inc = RandomForestMC(target_col=target_col)\n",
    "cls_inc.process_dataset(df_tofit)\n",
    "df_frauds = df_test.query(f'{target_col} == \"1\"').reset_index(drop=True)\n",
    "\n",
    "N_sim = 1000\n",
    "\n",
    "data = []\n",
    "final_N = 10\n",
    "for i in tqdm(range(1,final_N)):\n",
    "    tp = []\n",
    "    for _ in range(N_sim):\n",
    "        cls_inc.reset_forest()\n",
    "        cls_inc.mergeForest(cls, N=i, by=\"random\")\n",
    "        cls_inc.setSoftVoting(True)\n",
    "        y_pred_soft = np.array(cls_inc.testForest(df_frauds)).astype(int)\n",
    "        tp.append(sum(y_pred_soft))\n",
    "    data.append(tp)"
   ]
  },
  {
   "cell_type": "code",
   "execution_count": null,
   "metadata": {},
   "outputs": [],
   "source": [
    "df = pd.DataFrame(data).T\n",
    "\n",
    "plt.figure()\n",
    "df.boxplot()"
   ]
  },
  {
   "cell_type": "code",
   "execution_count": null,
   "metadata": {
    "scrolled": true
   },
   "outputs": [],
   "source": [
    "df.describe().T.sort_values(by='mean', ascending=False).head(20)"
   ]
  },
  {
   "cell_type": "markdown",
   "metadata": {
    "execution": {
     "iopub.execute_input": "2024-09-15T08:04:51.682912Z",
     "iopub.status.busy": "2024-09-15T08:04:51.682790Z",
     "iopub.status.idle": "2024-09-15T08:04:51.961459Z",
     "shell.execute_reply": "2024-09-15T08:04:51.958982Z",
     "shell.execute_reply.started": "2024-09-15T08:04:51.682904Z"
    }
   },
   "source": [
    "# Tunning 3 with search 2-4-6-trees"
   ]
  },
  {
   "cell_type": "code",
   "execution_count": 20,
   "metadata": {
    "execution": {
     "iopub.execute_input": "2024-09-18T07:31:49.804751Z",
     "iopub.status.busy": "2024-09-18T07:31:49.804181Z",
     "iopub.status.idle": "2024-09-18T07:31:50.019171Z",
     "shell.execute_reply": "2024-09-18T07:31:50.018866Z",
     "shell.execute_reply.started": "2024-09-18T07:31:49.804707Z"
    }
   },
   "outputs": [
    {
     "data": {
      "text/plain": [
       "0"
      ]
     },
     "execution_count": 20,
     "metadata": {},
     "output_type": "execute_result"
    }
   ],
   "source": [
    "cls.drop_duplicated_trees()"
   ]
  },
  {
   "cell_type": "code",
   "execution_count": 21,
   "metadata": {
    "execution": {
     "iopub.execute_input": "2024-09-18T07:31:50.019810Z",
     "iopub.status.busy": "2024-09-18T07:31:50.019696Z",
     "iopub.status.idle": "2024-09-18T07:31:50.022335Z",
     "shell.execute_reply": "2024-09-18T07:31:50.022051Z",
     "shell.execute_reply.started": "2024-09-18T07:31:50.019800Z"
    }
   },
   "outputs": [
    {
     "data": {
      "text/plain": [
       "RandomForestMC(len(Forest)=256,n_trees=256,model_version=1.2.0-dev,module_version=1.2.0-dev)"
      ]
     },
     "execution_count": 21,
     "metadata": {},
     "output_type": "execute_result"
    }
   ],
   "source": [
    "cls"
   ]
  },
  {
   "cell_type": "code",
   "execution_count": 22,
   "metadata": {
    "execution": {
     "iopub.execute_input": "2024-09-18T07:33:59.233464Z",
     "iopub.status.busy": "2024-09-18T07:33:59.232650Z",
     "iopub.status.idle": "2024-09-18T08:09:20.855926Z",
     "shell.execute_reply": "2024-09-18T08:09:20.855430Z",
     "shell.execute_reply.started": "2024-09-18T07:33:59.233398Z"
    }
   },
   "outputs": [
    {
     "data": {
      "application/vnd.jupyter.widget-view+json": {
       "model_id": "274dbd37fb2442aab30c97f976999072",
       "version_major": 2,
       "version_minor": 0
      },
      "text/plain": [
       "  0%|          | 0/10000 [00:00<?, ?it/s]"
      ]
     },
     "metadata": {},
     "output_type": "display_data"
    }
   ],
   "source": [
    "cls_inc = RandomForestMC(target_col=target_col)\n",
    "cls_inc.process_dataset(df_tofit)\n",
    "cls_inc.setSoftVoting(True)\n",
    "df_frauds = df_test.query(f'{target_col} == \"1\"').reset_index(drop=True)\n",
    "df_notfrauds = df_test.query(f'{target_col} == \"0\"').sample(n=1000).reset_index(drop=True)\n",
    "df_mini_test = pd.concat([df_frauds, df_notfrauds], ignore_index=True)\n",
    "y_test = df_mini_test[target_col].astype(int).to_list()\n",
    "\n",
    "N_sim = 10000\n",
    "\n",
    "data = defaultdict(list)\n",
    "n_trees = [8]\n",
    "for _ in tqdm(range(N_sim)):\n",
    "    repated_forest = set()\n",
    "    for i in n_trees:\n",
    "        cls_inc.reset_forest()\n",
    "        cls_inc.mergeForest(cls, N=i, by=\"random\")\n",
    "        hd5_forest = \"\".join(sorted([Tree.md5hexdigest for Tree in cls_inc]))\n",
    "        if hd5_forest in repated_forest:\n",
    "            continue\n",
    "        repated_forest.add(hd5_forest)\n",
    "        y_pred_soft = np.array(cls_inc.testForest(df_mini_test)).astype(int)\n",
    "        acc = accuracy_score(y_test, y_pred_soft)\n",
    "        f1 = f1_score(y_test, y_pred_soft)\n",
    "        miss_rate = sum([not p for t, p in zip(y_test, y_pred_soft) if t]) / sum(y_test)\n",
    "        for Tree in cls_inc:\n",
    "            data[Tree.md5hexdigest].append((i, len(Tree.used_features), max(Tree.depths), acc, f1, miss_rate))"
   ]
  },
  {
   "cell_type": "code",
   "execution_count": null,
   "metadata": {},
   "outputs": [],
   "source": [
    "datetime_tag = datetime.now().strftime('%Y%m%d_%H%M')\n",
    "dump_file_json(f\"{dataset_path}/trees_trans_metrcis_sim_{datetime_tag}.json\", data)"
   ]
  },
  {
   "cell_type": "code",
   "execution_count": null,
   "metadata": {},
   "outputs": [],
   "source": [
    "len(data)"
   ]
  },
  {
   "cell_type": "markdown",
   "metadata": {},
   "source": [
    "### Analysing the results"
   ]
  },
  {
   "cell_type": "code",
   "execution_count": null,
   "metadata": {},
   "outputs": [],
   "source": [
    "!ls $dataset_path/trees_metrcis_sim_*.json"
   ]
  },
  {
   "cell_type": "code",
   "execution_count": null,
   "metadata": {},
   "outputs": [],
   "source": [
    "data =  load_file_json('/work/tmp/credit-card-fraud-prediction/trees_metrcis_sim2_*.json')"
   ]
  },
  {
   "cell_type": "code",
   "execution_count": 25,
   "metadata": {
    "execution": {
     "iopub.execute_input": "2024-09-18T11:16:41.386657Z",
     "iopub.status.busy": "2024-09-18T11:16:41.386068Z",
     "iopub.status.idle": "2024-09-18T11:16:41.395687Z",
     "shell.execute_reply": "2024-09-18T11:16:41.393662Z",
     "shell.execute_reply.started": "2024-09-18T11:16:41.386603Z"
    }
   },
   "outputs": [],
   "source": [
    "md5_trees = list(data.keys())"
   ]
  },
  {
   "cell_type": "code",
   "execution_count": 26,
   "metadata": {
    "execution": {
     "iopub.execute_input": "2024-09-18T11:16:41.645792Z",
     "iopub.status.busy": "2024-09-18T11:16:41.645267Z",
     "iopub.status.idle": "2024-09-18T11:16:42.220266Z",
     "shell.execute_reply": "2024-09-18T11:16:42.219817Z",
     "shell.execute_reply.started": "2024-09-18T11:16:41.645750Z"
    }
   },
   "outputs": [
    {
     "data": {
      "text/html": [
       "<div>\n",
       "<style scoped>\n",
       "    .dataframe tbody tr th:only-of-type {\n",
       "        vertical-align: middle;\n",
       "    }\n",
       "\n",
       "    .dataframe tbody tr th {\n",
       "        vertical-align: top;\n",
       "    }\n",
       "\n",
       "    .dataframe thead th {\n",
       "        text-align: right;\n",
       "    }\n",
       "</style>\n",
       "<table border=\"1\" class=\"dataframe\">\n",
       "  <thead>\n",
       "    <tr style=\"text-align: right;\">\n",
       "      <th></th>\n",
       "      <th>Forest Size</th>\n",
       "      <th>Feature Count</th>\n",
       "      <th>Max Depths</th>\n",
       "      <th>Acc</th>\n",
       "      <th>F1</th>\n",
       "      <th>Miss Rate</th>\n",
       "      <th>Tree</th>\n",
       "    </tr>\n",
       "  </thead>\n",
       "  <tbody>\n",
       "    <tr>\n",
       "      <th>0</th>\n",
       "      <td>8.0</td>\n",
       "      <td>10.0</td>\n",
       "      <td>11.0</td>\n",
       "      <td>0.896040</td>\n",
       "      <td>0.105263</td>\n",
       "      <td>0.900000</td>\n",
       "      <td>fc379ad5e0e5d42a6dda55ecf4ce56a2</td>\n",
       "    </tr>\n",
       "    <tr>\n",
       "      <th>1</th>\n",
       "      <td>8.0</td>\n",
       "      <td>10.0</td>\n",
       "      <td>11.0</td>\n",
       "      <td>0.862820</td>\n",
       "      <td>0.066244</td>\n",
       "      <td>0.509804</td>\n",
       "      <td>fc379ad5e0e5d42a6dda55ecf4ce56a2</td>\n",
       "    </tr>\n",
       "    <tr>\n",
       "      <th>2</th>\n",
       "      <td>8.0</td>\n",
       "      <td>11.0</td>\n",
       "      <td>11.0</td>\n",
       "      <td>0.890099</td>\n",
       "      <td>0.125984</td>\n",
       "      <td>0.800000</td>\n",
       "      <td>dd983fe76902628c9b02fcf4a311c192</td>\n",
       "    </tr>\n",
       "    <tr>\n",
       "      <th>3</th>\n",
       "      <td>8.0</td>\n",
       "      <td>11.0</td>\n",
       "      <td>11.0</td>\n",
       "      <td>0.856270</td>\n",
       "      <td>0.067481</td>\n",
       "      <td>0.477950</td>\n",
       "      <td>dd983fe76902628c9b02fcf4a311c192</td>\n",
       "    </tr>\n",
       "    <tr>\n",
       "      <th>4</th>\n",
       "      <td>8.0</td>\n",
       "      <td>5.0</td>\n",
       "      <td>12.0</td>\n",
       "      <td>0.892079</td>\n",
       "      <td>0.113821</td>\n",
       "      <td>0.800000</td>\n",
       "      <td>ebde71475a010d072986ef0fc458993c</td>\n",
       "    </tr>\n",
       "    <tr>\n",
       "      <th>...</th>\n",
       "      <td>...</td>\n",
       "      <td>...</td>\n",
       "      <td>...</td>\n",
       "      <td>...</td>\n",
       "      <td>...</td>\n",
       "      <td>...</td>\n",
       "      <td>...</td>\n",
       "    </tr>\n",
       "    <tr>\n",
       "      <th>507</th>\n",
       "      <td>8.0</td>\n",
       "      <td>5.0</td>\n",
       "      <td>11.0</td>\n",
       "      <td>0.858963</td>\n",
       "      <td>0.067953</td>\n",
       "      <td>0.481250</td>\n",
       "      <td>2bbc674be7a69a2f4cadca58c86ae654</td>\n",
       "    </tr>\n",
       "    <tr>\n",
       "      <th>508</th>\n",
       "      <td>8.0</td>\n",
       "      <td>6.0</td>\n",
       "      <td>11.0</td>\n",
       "      <td>0.892079</td>\n",
       "      <td>0.125000</td>\n",
       "      <td>0.700000</td>\n",
       "      <td>bc079c0d4237eec92e35e55ad5d307ce</td>\n",
       "    </tr>\n",
       "    <tr>\n",
       "      <th>509</th>\n",
       "      <td>8.0</td>\n",
       "      <td>6.0</td>\n",
       "      <td>11.0</td>\n",
       "      <td>0.859008</td>\n",
       "      <td>0.077433</td>\n",
       "      <td>0.404601</td>\n",
       "      <td>bc079c0d4237eec92e35e55ad5d307ce</td>\n",
       "    </tr>\n",
       "    <tr>\n",
       "      <th>510</th>\n",
       "      <td>8.0</td>\n",
       "      <td>10.0</td>\n",
       "      <td>11.0</td>\n",
       "      <td>0.886139</td>\n",
       "      <td>0.122137</td>\n",
       "      <td>0.800000</td>\n",
       "      <td>3fc746f9c16a7409d289f7b7c050881b</td>\n",
       "    </tr>\n",
       "    <tr>\n",
       "      <th>511</th>\n",
       "      <td>8.0</td>\n",
       "      <td>10.0</td>\n",
       "      <td>11.0</td>\n",
       "      <td>0.851428</td>\n",
       "      <td>0.070002</td>\n",
       "      <td>0.436395</td>\n",
       "      <td>3fc746f9c16a7409d289f7b7c050881b</td>\n",
       "    </tr>\n",
       "  </tbody>\n",
       "</table>\n",
       "<p>512 rows × 7 columns</p>\n",
       "</div>"
      ],
      "text/plain": [
       "     Forest Size  Feature Count  Max Depths       Acc        F1  Miss Rate  \\\n",
       "0            8.0           10.0        11.0  0.896040  0.105263   0.900000   \n",
       "1            8.0           10.0        11.0  0.862820  0.066244   0.509804   \n",
       "2            8.0           11.0        11.0  0.890099  0.125984   0.800000   \n",
       "3            8.0           11.0        11.0  0.856270  0.067481   0.477950   \n",
       "4            8.0            5.0        12.0  0.892079  0.113821   0.800000   \n",
       "..           ...            ...         ...       ...       ...        ...   \n",
       "507          8.0            5.0        11.0  0.858963  0.067953   0.481250   \n",
       "508          8.0            6.0        11.0  0.892079  0.125000   0.700000   \n",
       "509          8.0            6.0        11.0  0.859008  0.077433   0.404601   \n",
       "510          8.0           10.0        11.0  0.886139  0.122137   0.800000   \n",
       "511          8.0           10.0        11.0  0.851428  0.070002   0.436395   \n",
       "\n",
       "                                 Tree  \n",
       "0    fc379ad5e0e5d42a6dda55ecf4ce56a2  \n",
       "1    fc379ad5e0e5d42a6dda55ecf4ce56a2  \n",
       "2    dd983fe76902628c9b02fcf4a311c192  \n",
       "3    dd983fe76902628c9b02fcf4a311c192  \n",
       "4    ebde71475a010d072986ef0fc458993c  \n",
       "..                                ...  \n",
       "507  2bbc674be7a69a2f4cadca58c86ae654  \n",
       "508  bc079c0d4237eec92e35e55ad5d307ce  \n",
       "509  bc079c0d4237eec92e35e55ad5d307ce  \n",
       "510  3fc746f9c16a7409d289f7b7c050881b  \n",
       "511  3fc746f9c16a7409d289f7b7c050881b  \n",
       "\n",
       "[512 rows x 7 columns]"
      ]
     },
     "execution_count": 26,
     "metadata": {},
     "output_type": "execute_result"
    }
   ],
   "source": [
    "columns = ['Forest Size','Feature Count','Max Depths','Acc','F1','Miss Rate']\n",
    "list_trees = []\n",
    "for md5_tree, stats_tree in data.items():\n",
    "    df_stats = pd.DataFrame(data[md5_tree], columns=columns).max().to_frame().T\n",
    "    df_stats['Tree'] = md5_tree\n",
    "    list_trees.append(df_stats)\n",
    "    df_stats = pd.DataFrame(data[md5_tree], columns=columns).mean().to_frame().T\n",
    "    df_stats['Tree'] = md5_tree\n",
    "    list_trees.append(df_stats)\n",
    "\n",
    "df_trees = pd.concat(list_trees, ignore_index=True)\n",
    "df_trees"
   ]
  },
  {
   "cell_type": "code",
   "execution_count": 27,
   "metadata": {
    "execution": {
     "iopub.execute_input": "2024-09-18T11:16:52.454108Z",
     "iopub.status.busy": "2024-09-18T11:16:52.453387Z",
     "iopub.status.idle": "2024-09-18T11:16:52.460740Z",
     "shell.execute_reply": "2024-09-18T11:16:52.460360Z",
     "shell.execute_reply.started": "2024-09-18T11:16:52.454060Z"
    }
   },
   "outputs": [
    {
     "data": {
      "text/html": [
       "<div>\n",
       "<style scoped>\n",
       "    .dataframe tbody tr th:only-of-type {\n",
       "        vertical-align: middle;\n",
       "    }\n",
       "\n",
       "    .dataframe tbody tr th {\n",
       "        vertical-align: top;\n",
       "    }\n",
       "\n",
       "    .dataframe thead th {\n",
       "        text-align: right;\n",
       "    }\n",
       "</style>\n",
       "<table border=\"1\" class=\"dataframe\">\n",
       "  <thead>\n",
       "    <tr style=\"text-align: right;\">\n",
       "      <th></th>\n",
       "      <th>Forest Size</th>\n",
       "      <th>Feature Count</th>\n",
       "      <th>Max Depths</th>\n",
       "      <th>Acc</th>\n",
       "      <th>F1</th>\n",
       "      <th>Miss Rate</th>\n",
       "      <th>Tree</th>\n",
       "    </tr>\n",
       "  </thead>\n",
       "  <tbody>\n",
       "    <tr>\n",
       "      <th>226</th>\n",
       "      <td>8.0</td>\n",
       "      <td>11.0</td>\n",
       "      <td>12.0</td>\n",
       "      <td>0.894059</td>\n",
       "      <td>0.140625</td>\n",
       "      <td>0.9</td>\n",
       "      <td>7a634382da5ca88bc265f4b890b80f9e</td>\n",
       "    </tr>\n",
       "    <tr>\n",
       "      <th>378</th>\n",
       "      <td>8.0</td>\n",
       "      <td>10.0</td>\n",
       "      <td>11.0</td>\n",
       "      <td>0.892079</td>\n",
       "      <td>0.140625</td>\n",
       "      <td>0.8</td>\n",
       "      <td>8dade4808352d09d959b6933d4f3674a</td>\n",
       "    </tr>\n",
       "    <tr>\n",
       "      <th>388</th>\n",
       "      <td>8.0</td>\n",
       "      <td>10.0</td>\n",
       "      <td>11.0</td>\n",
       "      <td>0.891089</td>\n",
       "      <td>0.140625</td>\n",
       "      <td>0.9</td>\n",
       "      <td>5fdf011ebf84620a0b238bf20bce4d93</td>\n",
       "    </tr>\n",
       "    <tr>\n",
       "      <th>132</th>\n",
       "      <td>8.0</td>\n",
       "      <td>10.0</td>\n",
       "      <td>12.0</td>\n",
       "      <td>0.891089</td>\n",
       "      <td>0.140625</td>\n",
       "      <td>0.9</td>\n",
       "      <td>2049c6539035763062cd5b6476c6e8e5</td>\n",
       "    </tr>\n",
       "    <tr>\n",
       "      <th>342</th>\n",
       "      <td>8.0</td>\n",
       "      <td>10.0</td>\n",
       "      <td>11.0</td>\n",
       "      <td>0.891089</td>\n",
       "      <td>0.140625</td>\n",
       "      <td>0.8</td>\n",
       "      <td>feea0805c44d083f1ba727dbc6a68a71</td>\n",
       "    </tr>\n",
       "    <tr>\n",
       "      <th>72</th>\n",
       "      <td>8.0</td>\n",
       "      <td>10.0</td>\n",
       "      <td>11.0</td>\n",
       "      <td>0.893069</td>\n",
       "      <td>0.140625</td>\n",
       "      <td>0.8</td>\n",
       "      <td>a54dbe66761c55097db954add242008f</td>\n",
       "    </tr>\n",
       "    <tr>\n",
       "      <th>406</th>\n",
       "      <td>8.0</td>\n",
       "      <td>3.0</td>\n",
       "      <td>12.0</td>\n",
       "      <td>0.896040</td>\n",
       "      <td>0.140625</td>\n",
       "      <td>0.7</td>\n",
       "      <td>8739353b6c4c49a91c65f9493446dc3e</td>\n",
       "    </tr>\n",
       "    <tr>\n",
       "      <th>398</th>\n",
       "      <td>8.0</td>\n",
       "      <td>6.0</td>\n",
       "      <td>12.0</td>\n",
       "      <td>0.892079</td>\n",
       "      <td>0.140625</td>\n",
       "      <td>0.8</td>\n",
       "      <td>9c94fcaeae301efba395daa39aa89e96</td>\n",
       "    </tr>\n",
       "    <tr>\n",
       "      <th>96</th>\n",
       "      <td>8.0</td>\n",
       "      <td>10.0</td>\n",
       "      <td>11.0</td>\n",
       "      <td>0.889109</td>\n",
       "      <td>0.133333</td>\n",
       "      <td>0.8</td>\n",
       "      <td>f9d5dab45b99159578350288ffa86a4b</td>\n",
       "    </tr>\n",
       "    <tr>\n",
       "      <th>428</th>\n",
       "      <td>8.0</td>\n",
       "      <td>6.0</td>\n",
       "      <td>11.0</td>\n",
       "      <td>0.893069</td>\n",
       "      <td>0.133333</td>\n",
       "      <td>0.8</td>\n",
       "      <td>5ef75a63052c46bf15066a2d2619d5b1</td>\n",
       "    </tr>\n",
       "  </tbody>\n",
       "</table>\n",
       "</div>"
      ],
      "text/plain": [
       "     Forest Size  Feature Count  Max Depths       Acc        F1  Miss Rate  \\\n",
       "226          8.0           11.0        12.0  0.894059  0.140625        0.9   \n",
       "378          8.0           10.0        11.0  0.892079  0.140625        0.8   \n",
       "388          8.0           10.0        11.0  0.891089  0.140625        0.9   \n",
       "132          8.0           10.0        12.0  0.891089  0.140625        0.9   \n",
       "342          8.0           10.0        11.0  0.891089  0.140625        0.8   \n",
       "72           8.0           10.0        11.0  0.893069  0.140625        0.8   \n",
       "406          8.0            3.0        12.0  0.896040  0.140625        0.7   \n",
       "398          8.0            6.0        12.0  0.892079  0.140625        0.8   \n",
       "96           8.0           10.0        11.0  0.889109  0.133333        0.8   \n",
       "428          8.0            6.0        11.0  0.893069  0.133333        0.8   \n",
       "\n",
       "                                 Tree  \n",
       "226  7a634382da5ca88bc265f4b890b80f9e  \n",
       "378  8dade4808352d09d959b6933d4f3674a  \n",
       "388  5fdf011ebf84620a0b238bf20bce4d93  \n",
       "132  2049c6539035763062cd5b6476c6e8e5  \n",
       "342  feea0805c44d083f1ba727dbc6a68a71  \n",
       "72   a54dbe66761c55097db954add242008f  \n",
       "406  8739353b6c4c49a91c65f9493446dc3e  \n",
       "398  9c94fcaeae301efba395daa39aa89e96  \n",
       "96   f9d5dab45b99159578350288ffa86a4b  \n",
       "428  5ef75a63052c46bf15066a2d2619d5b1  "
      ]
     },
     "execution_count": 27,
     "metadata": {},
     "output_type": "execute_result"
    }
   ],
   "source": [
    "df_trees.sort_values(by='F1', ascending=False).head(10)"
   ]
  },
  {
   "cell_type": "code",
   "execution_count": 28,
   "metadata": {
    "execution": {
     "iopub.execute_input": "2024-09-18T11:16:52.677845Z",
     "iopub.status.busy": "2024-09-18T11:16:52.677278Z",
     "iopub.status.idle": "2024-09-18T11:16:52.694320Z",
     "shell.execute_reply": "2024-09-18T11:16:52.693928Z",
     "shell.execute_reply.started": "2024-09-18T11:16:52.677799Z"
    }
   },
   "outputs": [
    {
     "data": {
      "text/html": [
       "<div>\n",
       "<style scoped>\n",
       "    .dataframe tbody tr th:only-of-type {\n",
       "        vertical-align: middle;\n",
       "    }\n",
       "\n",
       "    .dataframe tbody tr th {\n",
       "        vertical-align: top;\n",
       "    }\n",
       "\n",
       "    .dataframe thead th {\n",
       "        text-align: right;\n",
       "    }\n",
       "</style>\n",
       "<table border=\"1\" class=\"dataframe\">\n",
       "  <thead>\n",
       "    <tr style=\"text-align: right;\">\n",
       "      <th></th>\n",
       "      <th>Forest Size</th>\n",
       "      <th>Feature Count</th>\n",
       "      <th>Max Depths</th>\n",
       "      <th>Acc</th>\n",
       "      <th>F1</th>\n",
       "      <th>Miss Rate</th>\n",
       "      <th>Tree</th>\n",
       "    </tr>\n",
       "  </thead>\n",
       "  <tbody>\n",
       "    <tr>\n",
       "      <th>407</th>\n",
       "      <td>8.0</td>\n",
       "      <td>3.0</td>\n",
       "      <td>12.0</td>\n",
       "      <td>0.858575</td>\n",
       "      <td>0.081615</td>\n",
       "      <td>0.368222</td>\n",
       "      <td>8739353b6c4c49a91c65f9493446dc3e</td>\n",
       "    </tr>\n",
       "    <tr>\n",
       "      <th>375</th>\n",
       "      <td>8.0</td>\n",
       "      <td>10.0</td>\n",
       "      <td>11.0</td>\n",
       "      <td>0.849550</td>\n",
       "      <td>0.076881</td>\n",
       "      <td>0.369034</td>\n",
       "      <td>e67112b3264bf44b9d13a05183f11c31</td>\n",
       "    </tr>\n",
       "    <tr>\n",
       "      <th>459</th>\n",
       "      <td>8.0</td>\n",
       "      <td>11.0</td>\n",
       "      <td>12.0</td>\n",
       "      <td>0.863147</td>\n",
       "      <td>0.082621</td>\n",
       "      <td>0.380537</td>\n",
       "      <td>9b556ca72c25ad1a1e26ba1374c2e97e</td>\n",
       "    </tr>\n",
       "    <tr>\n",
       "      <th>27</th>\n",
       "      <td>8.0</td>\n",
       "      <td>10.0</td>\n",
       "      <td>11.0</td>\n",
       "      <td>0.851907</td>\n",
       "      <td>0.076329</td>\n",
       "      <td>0.384429</td>\n",
       "      <td>58a56d1ca90aab09b91c4ede7e38b447</td>\n",
       "    </tr>\n",
       "    <tr>\n",
       "      <th>55</th>\n",
       "      <td>8.0</td>\n",
       "      <td>6.0</td>\n",
       "      <td>11.0</td>\n",
       "      <td>0.856850</td>\n",
       "      <td>0.078531</td>\n",
       "      <td>0.385619</td>\n",
       "      <td>9083e2af23a756119bfffdbdfb443d58</td>\n",
       "    </tr>\n",
       "    <tr>\n",
       "      <th>43</th>\n",
       "      <td>8.0</td>\n",
       "      <td>4.0</td>\n",
       "      <td>11.0</td>\n",
       "      <td>0.854903</td>\n",
       "      <td>0.077516</td>\n",
       "      <td>0.386469</td>\n",
       "      <td>e881d202eafdadd087fe9fefd8e542a3</td>\n",
       "    </tr>\n",
       "    <tr>\n",
       "      <th>51</th>\n",
       "      <td>8.0</td>\n",
       "      <td>4.0</td>\n",
       "      <td>11.0</td>\n",
       "      <td>0.856227</td>\n",
       "      <td>0.078081</td>\n",
       "      <td>0.386994</td>\n",
       "      <td>14127220c29473819492e3b5591734ed</td>\n",
       "    </tr>\n",
       "    <tr>\n",
       "      <th>73</th>\n",
       "      <td>8.0</td>\n",
       "      <td>10.0</td>\n",
       "      <td>11.0</td>\n",
       "      <td>0.857278</td>\n",
       "      <td>0.078505</td>\n",
       "      <td>0.388199</td>\n",
       "      <td>a54dbe66761c55097db954add242008f</td>\n",
       "    </tr>\n",
       "    <tr>\n",
       "      <th>463</th>\n",
       "      <td>8.0</td>\n",
       "      <td>3.0</td>\n",
       "      <td>11.0</td>\n",
       "      <td>0.857174</td>\n",
       "      <td>0.078241</td>\n",
       "      <td>0.390960</td>\n",
       "      <td>0eb2b70988ac89b80b7549d46606160c</td>\n",
       "    </tr>\n",
       "    <tr>\n",
       "      <th>95</th>\n",
       "      <td>8.0</td>\n",
       "      <td>4.0</td>\n",
       "      <td>11.0</td>\n",
       "      <td>0.857319</td>\n",
       "      <td>0.078042</td>\n",
       "      <td>0.392063</td>\n",
       "      <td>bcf91b25345b36dc54c2380be99d72c1</td>\n",
       "    </tr>\n",
       "  </tbody>\n",
       "</table>\n",
       "</div>"
      ],
      "text/plain": [
       "     Forest Size  Feature Count  Max Depths       Acc        F1  Miss Rate  \\\n",
       "407          8.0            3.0        12.0  0.858575  0.081615   0.368222   \n",
       "375          8.0           10.0        11.0  0.849550  0.076881   0.369034   \n",
       "459          8.0           11.0        12.0  0.863147  0.082621   0.380537   \n",
       "27           8.0           10.0        11.0  0.851907  0.076329   0.384429   \n",
       "55           8.0            6.0        11.0  0.856850  0.078531   0.385619   \n",
       "43           8.0            4.0        11.0  0.854903  0.077516   0.386469   \n",
       "51           8.0            4.0        11.0  0.856227  0.078081   0.386994   \n",
       "73           8.0           10.0        11.0  0.857278  0.078505   0.388199   \n",
       "463          8.0            3.0        11.0  0.857174  0.078241   0.390960   \n",
       "95           8.0            4.0        11.0  0.857319  0.078042   0.392063   \n",
       "\n",
       "                                 Tree  \n",
       "407  8739353b6c4c49a91c65f9493446dc3e  \n",
       "375  e67112b3264bf44b9d13a05183f11c31  \n",
       "459  9b556ca72c25ad1a1e26ba1374c2e97e  \n",
       "27   58a56d1ca90aab09b91c4ede7e38b447  \n",
       "55   9083e2af23a756119bfffdbdfb443d58  \n",
       "43   e881d202eafdadd087fe9fefd8e542a3  \n",
       "51   14127220c29473819492e3b5591734ed  \n",
       "73   a54dbe66761c55097db954add242008f  \n",
       "463  0eb2b70988ac89b80b7549d46606160c  \n",
       "95   bcf91b25345b36dc54c2380be99d72c1  "
      ]
     },
     "execution_count": 28,
     "metadata": {},
     "output_type": "execute_result"
    }
   ],
   "source": [
    "df_trees.sort_values(by='Miss Rate').head(10)"
   ]
  },
  {
   "cell_type": "code",
   "execution_count": 29,
   "metadata": {
    "execution": {
     "iopub.execute_input": "2024-09-18T11:16:52.925259Z",
     "iopub.status.busy": "2024-09-18T11:16:52.924515Z",
     "iopub.status.idle": "2024-09-18T11:16:53.061159Z",
     "shell.execute_reply": "2024-09-18T11:16:53.060850Z",
     "shell.execute_reply.started": "2024-09-18T11:16:52.925206Z"
    }
   },
   "outputs": [
    {
     "data": {
      "text/plain": [
       "<Axes: >"
      ]
     },
     "execution_count": 29,
     "metadata": {},
     "output_type": "execute_result"
    },
    {
     "data": {
      "image/png": "[encoded data removed]",
      "text/plain": [
       "<Figure size 600x200 with 1 Axes>"
      ]
     },
     "metadata": {},
     "output_type": "display_data"
    }
   ],
   "source": [
    "df_trees.sort_values(by='Miss Rate')[['Acc', 'Miss Rate']].reset_index(drop=True).plot(grid=True)"
   ]
  },
  {
   "cell_type": "code",
   "execution_count": 30,
   "metadata": {
    "execution": {
     "iopub.execute_input": "2024-09-18T11:16:53.172872Z",
     "iopub.status.busy": "2024-09-18T11:16:53.172188Z",
     "iopub.status.idle": "2024-09-18T11:16:53.236986Z",
     "shell.execute_reply": "2024-09-18T11:16:53.236407Z",
     "shell.execute_reply.started": "2024-09-18T11:16:53.172829Z"
    }
   },
   "outputs": [
    {
     "data": {
      "text/plain": [
       "<Axes: >"
      ]
     },
     "execution_count": 30,
     "metadata": {},
     "output_type": "execute_result"
    },
    {
     "data": {
      "image/png": "[encoded data removed]",
      "text/plain": [
       "<Figure size 600x200 with 1 Axes>"
      ]
     },
     "metadata": {},
     "output_type": "display_data"
    }
   ],
   "source": [
    "df_trees.sort_values(by='Acc')[['Acc', 'Miss Rate']].reset_index(drop=True).plot(grid=True)"
   ]
  },
  {
   "cell_type": "code",
   "execution_count": 31,
   "metadata": {
    "execution": {
     "iopub.execute_input": "2024-09-18T11:16:53.535093Z",
     "iopub.status.busy": "2024-09-18T11:16:53.534518Z",
     "iopub.status.idle": "2024-09-18T11:16:53.593561Z",
     "shell.execute_reply": "2024-09-18T11:16:53.593287Z",
     "shell.execute_reply.started": "2024-09-18T11:16:53.535047Z"
    }
   },
   "outputs": [
    {
     "data": {
      "text/plain": [
       "<Axes: >"
      ]
     },
     "execution_count": 31,
     "metadata": {},
     "output_type": "execute_result"
    },
    {
     "data": {
      "image/png": "[encoded data removed]",
      "text/plain": [
       "<Figure size 600x200 with 1 Axes>"
      ]
     },
     "metadata": {},
     "output_type": "display_data"
    }
   ],
   "source": [
    "df_trees.sort_values(by='Miss Rate')[['Forest Size', 'Miss Rate']].reset_index(drop=True).plot(grid=True)"
   ]
  },
  {
   "cell_type": "code",
   "execution_count": 32,
   "metadata": {
    "execution": {
     "iopub.execute_input": "2024-09-18T11:16:55.638558Z",
     "iopub.status.busy": "2024-09-18T11:16:55.638357Z",
     "iopub.status.idle": "2024-09-18T11:16:55.700874Z",
     "shell.execute_reply": "2024-09-18T11:16:55.700520Z",
     "shell.execute_reply.started": "2024-09-18T11:16:55.638544Z"
    }
   },
   "outputs": [
    {
     "data": {
      "text/plain": [
       "<Axes: >"
      ]
     },
     "execution_count": 32,
     "metadata": {},
     "output_type": "execute_result"
    },
    {
     "data": {
      "image/png": "[encoded data removed]",
      "text/plain": [
       "<Figure size 600x200 with 1 Axes>"
      ]
     },
     "metadata": {},
     "output_type": "display_data"
    }
   ],
   "source": [
    "df_trees.sort_values(by='Miss Rate')[['Feature Count', 'Miss Rate']].reset_index(drop=True).plot(grid=True)"
   ]
  },
  {
   "cell_type": "code",
   "execution_count": null,
   "metadata": {},
   "outputs": [],
   "source": [
    "!touch /work/yes.do"
   ]
  },
  {
   "cell_type": "markdown",
   "metadata": {},
   "source": [
    "# Tuning 3"
   ]
  },
  {
   "cell_type": "code",
   "execution_count": null,
   "metadata": {},
   "outputs": [],
   "source": []
  },
  {
   "cell_type": "code",
   "execution_count": null,
   "metadata": {},
   "outputs": [],
   "source": [
    "batch_train_pclass = split_schema['train']['1']\n",
    "batch_val_pclass = split_schema['val']['1']\n",
    "max_depth = 11\n",
    "n_trees = 256\n",
    "max_discard_trees = 256\n",
    "min_feature = 10\n",
    "max_feature = 10\n",
    "\n",
    "cpu_cores = 8\n",
    "max_workers = 2*cpu_cores\n",
    "\n",
    "cls = RandomForestMC(\n",
    "    n_trees=n_trees, \n",
    "    target_col=target_col, \n",
    "    max_discard_trees=max_discard_trees,\n",
    "    batch_train_pclass=batch_train_pclass,\n",
    "    batch_val_pclass=batch_val_pclass,\n",
    "    min_feature=min_feature,\n",
    "    max_feature=max_feature,\n",
    "    max_depth=max_depth\n",
    ")\n",
    "cls"
   ]
  },
  {
   "cell_type": "code",
   "execution_count": null,
   "metadata": {},
   "outputs": [],
   "source": [
    "df_test = dfs['test']\n",
    "y_test = df_test[target_col].astype(int).to_list()\n",
    "ppy = lambda x: round(100*x, 6)"
   ]
  },
  {
   "cell_type": "code",
   "execution_count": null,
   "metadata": {},
   "outputs": [],
   "source": [
    "cls.fitParallel(dataset=df_tofit, max_workers=max_workers)\n",
    "ModelDict = cls.model2dict()\n",
    "datetime_tag = datetime.now().strftime('%Y%m%d_%H%M')\n",
    "path_dict = f'{dataset_path}/model_trans_tuning_{len(cls)}trees_{datetime_tag}.json'\n",
    "dump_file_json(path_dict, ModelDict)\n",
    "del ModelDict"
   ]
  },
  {
   "cell_type": "code",
   "execution_count": null,
   "metadata": {},
   "outputs": [],
   "source": [
    "cls.setSoftVoting()\n",
    "y_pred_soft = np.array(cls.testForest(df_test)).astype(int)\n",
    "accuracy_soft = accuracy_score(y_test, y_pred_soft)\n",
    "f1_score_soft = f1_score(y_test, y_pred_soft)\n",
    "\n",
    "print(f\"{len(cls)} Trees\")\n",
    "cm = confusion_matrix(y_test, y_pred_soft)\n",
    "display(pd.DataFrame(cm, columns=['Pred False','Pred True'], index=['False','True']))\n",
    "tn, fp, fn, tp = cm.ravel()\n",
    "obj_score = fn / (fn+tp)\n",
    "print(f\"Acc: {ppy(accuracy_soft):.4f}% \\n F1: {ppy(f1_score_soft):.4f}% \\n FN: {ppy(obj_score):.4f}%\")\n",
    "\n",
    "fc_stars, fc_list = cls.featCount()\n",
    "print(f\"Feat count stats: {fc_stars}\")\n",
    "Counter(fc_list).most_common()"
   ]
  },
  {
   "cell_type": "code",
   "execution_count": null,
   "metadata": {},
   "outputs": [],
   "source": [
    "cls.drop_duplicated_trees()"
   ]
  },
  {
   "cell_type": "code",
   "execution_count": null,
   "metadata": {},
   "outputs": [],
   "source": [
    "cls"
   ]
  },
  {
   "cell_type": "code",
   "execution_count": null,
   "metadata": {},
   "outputs": [],
   "source": [
    "cls_inc = RandomForestMC(target_col=target_col)\n",
    "cls_inc.process_dataset(df_tofit)\n",
    "cls_inc.setSoftVoting(True)\n",
    "df_frauds = df_test.query(f'{target_col} == \"1\"').reset_index(drop=True)\n",
    "df_notfrauds = df_test.query(f'{target_col} == \"0\"').sample(n=1000).reset_index(drop=True)\n",
    "df_mini_test = pd.concat([df_frauds, df_notfrauds], ignore_index=True)\n",
    "y_test = df_mini_test[target_col].astype(int).to_list()\n",
    "\n",
    "N_sim = 10000\n",
    "\n",
    "data = defaultdict(list)\n",
    "n_trees = [4, 5, 6]\n",
    "for _ in tqdm(range(N_sim)):\n",
    "    repated_forest = set()\n",
    "    for i in n_trees:\n",
    "        cls_inc.reset_forest()\n",
    "        cls_inc.mergeForest(cls, N=i, by=\"random\")\n",
    "        hd5_forest = \"\".join(sorted([Tree.md5hexdigest for Tree in cls_inc]))\n",
    "        if hd5_forest in repated_forest:\n",
    "            continue\n",
    "        repated_forest.add(hd5_forest)\n",
    "        y_pred_soft = np.array(cls_inc.testForest(df_mini_test)).astype(int)\n",
    "        acc = accuracy_score(y_test, y_pred_soft)\n",
    "        f1 = f1_score(y_test, y_pred_soft)\n",
    "        miss_rate = sum([not p for t, p in zip(y_test, y_pred_soft) if t]) / sum(y_test)\n",
    "        for Tree in cls_inc:\n",
    "            data[Tree.md5hexdigest].append((i, len(Tree.used_features), max(Tree.depths), acc, f1, miss_rate))"
   ]
  },
  {
   "cell_type": "code",
   "execution_count": null,
   "metadata": {},
   "outputs": [],
   "source": [
    "datetime_tag = datetime.now().strftime('%Y%m%d_%H%M')\n",
    "dump_file_json(f\"{dataset_path}/trees_trans_metrcis_sim2_{datetime_tag}.json\", data)"
   ]
  },
  {
   "cell_type": "code",
   "execution_count": null,
   "metadata": {},
   "outputs": [],
   "source": [
    "len(data)"
   ]
  },
  {
   "cell_type": "markdown",
   "metadata": {},
   "source": [
    "### Analysing the results"
   ]
  },
  {
   "cell_type": "code",
   "execution_count": null,
   "metadata": {},
   "outputs": [],
   "source": [
    "!ls $dataset_path/trees_metrcis_sim2_*.json"
   ]
  },
  {
   "cell_type": "code",
   "execution_count": null,
   "metadata": {},
   "outputs": [],
   "source": [
    "data =  load_file_json('/work/tmp/credit-card-fraud-prediction/trees_metrcis_sim2_20240915_1804.json')"
   ]
  },
  {
   "cell_type": "code",
   "execution_count": null,
   "metadata": {},
   "outputs": [],
   "source": [
    "md5_trees = list(data.keys())"
   ]
  },
  {
   "cell_type": "code",
   "execution_count": null,
   "metadata": {},
   "outputs": [],
   "source": [
    "columns = ['Forest Size','Feature Count','Max Depths','Acc','F1','Miss Rate']\n",
    "list_trees = []\n",
    "for md5_tree, stats_tree in data.items():\n",
    "    df_stats = pd.DataFrame(data[md5_tree], columns=columns).max().to_frame().T\n",
    "    df_stats['Tree'] = md5_tree\n",
    "    list_trees.append(df_stats)\n",
    "    df_stats = pd.DataFrame(data[md5_tree], columns=columns).mean().to_frame().T\n",
    "    df_stats['Tree'] = md5_tree\n",
    "    list_trees.append(df_stats)\n",
    "\n",
    "df_trees = pd.concat(list_trees, ignore_index=True)\n",
    "df_trees"
   ]
  },
  {
   "cell_type": "code",
   "execution_count": 33,
   "metadata": {
    "execution": {
     "iopub.execute_input": "2024-09-18T11:17:18.139227Z",
     "iopub.status.busy": "2024-09-18T11:17:18.138643Z",
     "iopub.status.idle": "2024-09-18T11:17:18.156160Z",
     "shell.execute_reply": "2024-09-18T11:17:18.155695Z",
     "shell.execute_reply.started": "2024-09-18T11:17:18.139183Z"
    }
   },
   "outputs": [
    {
     "data": {
      "text/html": [
       "<div>\n",
       "<style scoped>\n",
       "    .dataframe tbody tr th:only-of-type {\n",
       "        vertical-align: middle;\n",
       "    }\n",
       "\n",
       "    .dataframe tbody tr th {\n",
       "        vertical-align: top;\n",
       "    }\n",
       "\n",
       "    .dataframe thead th {\n",
       "        text-align: right;\n",
       "    }\n",
       "</style>\n",
       "<table border=\"1\" class=\"dataframe\">\n",
       "  <thead>\n",
       "    <tr style=\"text-align: right;\">\n",
       "      <th></th>\n",
       "      <th>Forest Size</th>\n",
       "      <th>Feature Count</th>\n",
       "      <th>Max Depths</th>\n",
       "      <th>Acc</th>\n",
       "      <th>F1</th>\n",
       "      <th>Miss Rate</th>\n",
       "      <th>Tree</th>\n",
       "    </tr>\n",
       "  </thead>\n",
       "  <tbody>\n",
       "    <tr>\n",
       "      <th>226</th>\n",
       "      <td>8.0</td>\n",
       "      <td>11.0</td>\n",
       "      <td>12.0</td>\n",
       "      <td>0.894059</td>\n",
       "      <td>0.140625</td>\n",
       "      <td>0.9</td>\n",
       "      <td>7a634382da5ca88bc265f4b890b80f9e</td>\n",
       "    </tr>\n",
       "    <tr>\n",
       "      <th>378</th>\n",
       "      <td>8.0</td>\n",
       "      <td>10.0</td>\n",
       "      <td>11.0</td>\n",
       "      <td>0.892079</td>\n",
       "      <td>0.140625</td>\n",
       "      <td>0.8</td>\n",
       "      <td>8dade4808352d09d959b6933d4f3674a</td>\n",
       "    </tr>\n",
       "    <tr>\n",
       "      <th>388</th>\n",
       "      <td>8.0</td>\n",
       "      <td>10.0</td>\n",
       "      <td>11.0</td>\n",
       "      <td>0.891089</td>\n",
       "      <td>0.140625</td>\n",
       "      <td>0.9</td>\n",
       "      <td>5fdf011ebf84620a0b238bf20bce4d93</td>\n",
       "    </tr>\n",
       "    <tr>\n",
       "      <th>132</th>\n",
       "      <td>8.0</td>\n",
       "      <td>10.0</td>\n",
       "      <td>12.0</td>\n",
       "      <td>0.891089</td>\n",
       "      <td>0.140625</td>\n",
       "      <td>0.9</td>\n",
       "      <td>2049c6539035763062cd5b6476c6e8e5</td>\n",
       "    </tr>\n",
       "    <tr>\n",
       "      <th>342</th>\n",
       "      <td>8.0</td>\n",
       "      <td>10.0</td>\n",
       "      <td>11.0</td>\n",
       "      <td>0.891089</td>\n",
       "      <td>0.140625</td>\n",
       "      <td>0.8</td>\n",
       "      <td>feea0805c44d083f1ba727dbc6a68a71</td>\n",
       "    </tr>\n",
       "    <tr>\n",
       "      <th>72</th>\n",
       "      <td>8.0</td>\n",
       "      <td>10.0</td>\n",
       "      <td>11.0</td>\n",
       "      <td>0.893069</td>\n",
       "      <td>0.140625</td>\n",
       "      <td>0.8</td>\n",
       "      <td>a54dbe66761c55097db954add242008f</td>\n",
       "    </tr>\n",
       "    <tr>\n",
       "      <th>406</th>\n",
       "      <td>8.0</td>\n",
       "      <td>3.0</td>\n",
       "      <td>12.0</td>\n",
       "      <td>0.896040</td>\n",
       "      <td>0.140625</td>\n",
       "      <td>0.7</td>\n",
       "      <td>8739353b6c4c49a91c65f9493446dc3e</td>\n",
       "    </tr>\n",
       "    <tr>\n",
       "      <th>398</th>\n",
       "      <td>8.0</td>\n",
       "      <td>6.0</td>\n",
       "      <td>12.0</td>\n",
       "      <td>0.892079</td>\n",
       "      <td>0.140625</td>\n",
       "      <td>0.8</td>\n",
       "      <td>9c94fcaeae301efba395daa39aa89e96</td>\n",
       "    </tr>\n",
       "    <tr>\n",
       "      <th>96</th>\n",
       "      <td>8.0</td>\n",
       "      <td>10.0</td>\n",
       "      <td>11.0</td>\n",
       "      <td>0.889109</td>\n",
       "      <td>0.133333</td>\n",
       "      <td>0.8</td>\n",
       "      <td>f9d5dab45b99159578350288ffa86a4b</td>\n",
       "    </tr>\n",
       "    <tr>\n",
       "      <th>428</th>\n",
       "      <td>8.0</td>\n",
       "      <td>6.0</td>\n",
       "      <td>11.0</td>\n",
       "      <td>0.893069</td>\n",
       "      <td>0.133333</td>\n",
       "      <td>0.8</td>\n",
       "      <td>5ef75a63052c46bf15066a2d2619d5b1</td>\n",
       "    </tr>\n",
       "  </tbody>\n",
       "</table>\n",
       "</div>"
      ],
      "text/plain": [
       "     Forest Size  Feature Count  Max Depths       Acc        F1  Miss Rate  \\\n",
       "226          8.0           11.0        12.0  0.894059  0.140625        0.9   \n",
       "378          8.0           10.0        11.0  0.892079  0.140625        0.8   \n",
       "388          8.0           10.0        11.0  0.891089  0.140625        0.9   \n",
       "132          8.0           10.0        12.0  0.891089  0.140625        0.9   \n",
       "342          8.0           10.0        11.0  0.891089  0.140625        0.8   \n",
       "72           8.0           10.0        11.0  0.893069  0.140625        0.8   \n",
       "406          8.0            3.0        12.0  0.896040  0.140625        0.7   \n",
       "398          8.0            6.0        12.0  0.892079  0.140625        0.8   \n",
       "96           8.0           10.0        11.0  0.889109  0.133333        0.8   \n",
       "428          8.0            6.0        11.0  0.893069  0.133333        0.8   \n",
       "\n",
       "                                 Tree  \n",
       "226  7a634382da5ca88bc265f4b890b80f9e  \n",
       "378  8dade4808352d09d959b6933d4f3674a  \n",
       "388  5fdf011ebf84620a0b238bf20bce4d93  \n",
       "132  2049c6539035763062cd5b6476c6e8e5  \n",
       "342  feea0805c44d083f1ba727dbc6a68a71  \n",
       "72   a54dbe66761c55097db954add242008f  \n",
       "406  8739353b6c4c49a91c65f9493446dc3e  \n",
       "398  9c94fcaeae301efba395daa39aa89e96  \n",
       "96   f9d5dab45b99159578350288ffa86a4b  \n",
       "428  5ef75a63052c46bf15066a2d2619d5b1  "
      ]
     },
     "execution_count": 33,
     "metadata": {},
     "output_type": "execute_result"
    }
   ],
   "source": [
    "df_trees.sort_values(by='F1', ascending=False).head(10)"
   ]
  },
  {
   "cell_type": "code",
   "execution_count": 34,
   "metadata": {
    "execution": {
     "iopub.execute_input": "2024-09-18T11:17:20.158578Z",
     "iopub.status.busy": "2024-09-18T11:17:20.157993Z",
     "iopub.status.idle": "2024-09-18T11:17:20.165200Z",
     "shell.execute_reply": "2024-09-18T11:17:20.164975Z",
     "shell.execute_reply.started": "2024-09-18T11:17:20.158532Z"
    }
   },
   "outputs": [
    {
     "data": {
      "text/html": [
       "<div>\n",
       "<style scoped>\n",
       "    .dataframe tbody tr th:only-of-type {\n",
       "        vertical-align: middle;\n",
       "    }\n",
       "\n",
       "    .dataframe tbody tr th {\n",
       "        vertical-align: top;\n",
       "    }\n",
       "\n",
       "    .dataframe thead th {\n",
       "        text-align: right;\n",
       "    }\n",
       "</style>\n",
       "<table border=\"1\" class=\"dataframe\">\n",
       "  <thead>\n",
       "    <tr style=\"text-align: right;\">\n",
       "      <th></th>\n",
       "      <th>Forest Size</th>\n",
       "      <th>Feature Count</th>\n",
       "      <th>Max Depths</th>\n",
       "      <th>Acc</th>\n",
       "      <th>F1</th>\n",
       "      <th>Miss Rate</th>\n",
       "      <th>Tree</th>\n",
       "    </tr>\n",
       "  </thead>\n",
       "  <tbody>\n",
       "    <tr>\n",
       "      <th>407</th>\n",
       "      <td>8.0</td>\n",
       "      <td>3.0</td>\n",
       "      <td>12.0</td>\n",
       "      <td>0.858575</td>\n",
       "      <td>0.081615</td>\n",
       "      <td>0.368222</td>\n",
       "      <td>8739353b6c4c49a91c65f9493446dc3e</td>\n",
       "    </tr>\n",
       "    <tr>\n",
       "      <th>375</th>\n",
       "      <td>8.0</td>\n",
       "      <td>10.0</td>\n",
       "      <td>11.0</td>\n",
       "      <td>0.849550</td>\n",
       "      <td>0.076881</td>\n",
       "      <td>0.369034</td>\n",
       "      <td>e67112b3264bf44b9d13a05183f11c31</td>\n",
       "    </tr>\n",
       "    <tr>\n",
       "      <th>459</th>\n",
       "      <td>8.0</td>\n",
       "      <td>11.0</td>\n",
       "      <td>12.0</td>\n",
       "      <td>0.863147</td>\n",
       "      <td>0.082621</td>\n",
       "      <td>0.380537</td>\n",
       "      <td>9b556ca72c25ad1a1e26ba1374c2e97e</td>\n",
       "    </tr>\n",
       "    <tr>\n",
       "      <th>27</th>\n",
       "      <td>8.0</td>\n",
       "      <td>10.0</td>\n",
       "      <td>11.0</td>\n",
       "      <td>0.851907</td>\n",
       "      <td>0.076329</td>\n",
       "      <td>0.384429</td>\n",
       "      <td>58a56d1ca90aab09b91c4ede7e38b447</td>\n",
       "    </tr>\n",
       "    <tr>\n",
       "      <th>55</th>\n",
       "      <td>8.0</td>\n",
       "      <td>6.0</td>\n",
       "      <td>11.0</td>\n",
       "      <td>0.856850</td>\n",
       "      <td>0.078531</td>\n",
       "      <td>0.385619</td>\n",
       "      <td>9083e2af23a756119bfffdbdfb443d58</td>\n",
       "    </tr>\n",
       "    <tr>\n",
       "      <th>43</th>\n",
       "      <td>8.0</td>\n",
       "      <td>4.0</td>\n",
       "      <td>11.0</td>\n",
       "      <td>0.854903</td>\n",
       "      <td>0.077516</td>\n",
       "      <td>0.386469</td>\n",
       "      <td>e881d202eafdadd087fe9fefd8e542a3</td>\n",
       "    </tr>\n",
       "    <tr>\n",
       "      <th>51</th>\n",
       "      <td>8.0</td>\n",
       "      <td>4.0</td>\n",
       "      <td>11.0</td>\n",
       "      <td>0.856227</td>\n",
       "      <td>0.078081</td>\n",
       "      <td>0.386994</td>\n",
       "      <td>14127220c29473819492e3b5591734ed</td>\n",
       "    </tr>\n",
       "    <tr>\n",
       "      <th>73</th>\n",
       "      <td>8.0</td>\n",
       "      <td>10.0</td>\n",
       "      <td>11.0</td>\n",
       "      <td>0.857278</td>\n",
       "      <td>0.078505</td>\n",
       "      <td>0.388199</td>\n",
       "      <td>a54dbe66761c55097db954add242008f</td>\n",
       "    </tr>\n",
       "    <tr>\n",
       "      <th>463</th>\n",
       "      <td>8.0</td>\n",
       "      <td>3.0</td>\n",
       "      <td>11.0</td>\n",
       "      <td>0.857174</td>\n",
       "      <td>0.078241</td>\n",
       "      <td>0.390960</td>\n",
       "      <td>0eb2b70988ac89b80b7549d46606160c</td>\n",
       "    </tr>\n",
       "    <tr>\n",
       "      <th>95</th>\n",
       "      <td>8.0</td>\n",
       "      <td>4.0</td>\n",
       "      <td>11.0</td>\n",
       "      <td>0.857319</td>\n",
       "      <td>0.078042</td>\n",
       "      <td>0.392063</td>\n",
       "      <td>bcf91b25345b36dc54c2380be99d72c1</td>\n",
       "    </tr>\n",
       "  </tbody>\n",
       "</table>\n",
       "</div>"
      ],
      "text/plain": [
       "     Forest Size  Feature Count  Max Depths       Acc        F1  Miss Rate  \\\n",
       "407          8.0            3.0        12.0  0.858575  0.081615   0.368222   \n",
       "375          8.0           10.0        11.0  0.849550  0.076881   0.369034   \n",
       "459          8.0           11.0        12.0  0.863147  0.082621   0.380537   \n",
       "27           8.0           10.0        11.0  0.851907  0.076329   0.384429   \n",
       "55           8.0            6.0        11.0  0.856850  0.078531   0.385619   \n",
       "43           8.0            4.0        11.0  0.854903  0.077516   0.386469   \n",
       "51           8.0            4.0        11.0  0.856227  0.078081   0.386994   \n",
       "73           8.0           10.0        11.0  0.857278  0.078505   0.388199   \n",
       "463          8.0            3.0        11.0  0.857174  0.078241   0.390960   \n",
       "95           8.0            4.0        11.0  0.857319  0.078042   0.392063   \n",
       "\n",
       "                                 Tree  \n",
       "407  8739353b6c4c49a91c65f9493446dc3e  \n",
       "375  e67112b3264bf44b9d13a05183f11c31  \n",
       "459  9b556ca72c25ad1a1e26ba1374c2e97e  \n",
       "27   58a56d1ca90aab09b91c4ede7e38b447  \n",
       "55   9083e2af23a756119bfffdbdfb443d58  \n",
       "43   e881d202eafdadd087fe9fefd8e542a3  \n",
       "51   14127220c29473819492e3b5591734ed  \n",
       "73   a54dbe66761c55097db954add242008f  \n",
       "463  0eb2b70988ac89b80b7549d46606160c  \n",
       "95   bcf91b25345b36dc54c2380be99d72c1  "
      ]
     },
     "execution_count": 34,
     "metadata": {},
     "output_type": "execute_result"
    }
   ],
   "source": [
    "df_trees.sort_values(by='Miss Rate').head(10)"
   ]
  },
  {
   "cell_type": "code",
   "execution_count": 35,
   "metadata": {
    "execution": {
     "iopub.execute_input": "2024-09-18T11:17:20.542633Z",
     "iopub.status.busy": "2024-09-18T11:17:20.542118Z",
     "iopub.status.idle": "2024-09-18T11:17:20.550719Z",
     "shell.execute_reply": "2024-09-18T11:17:20.549559Z",
     "shell.execute_reply.started": "2024-09-18T11:17:20.542590Z"
    }
   },
   "outputs": [],
   "source": [
    "df_trees['My Score'] = df_trees['Acc']-2*df_trees['Miss Rate']"
   ]
  },
  {
   "cell_type": "code",
   "execution_count": 36,
   "metadata": {
    "execution": {
     "iopub.execute_input": "2024-09-18T11:17:21.902720Z",
     "iopub.status.busy": "2024-09-18T11:17:21.902155Z",
     "iopub.status.idle": "2024-09-18T11:17:21.909814Z",
     "shell.execute_reply": "2024-09-18T11:17:21.909436Z",
     "shell.execute_reply.started": "2024-09-18T11:17:21.902675Z"
    }
   },
   "outputs": [
    {
     "data": {
      "text/html": [
       "<div>\n",
       "<style scoped>\n",
       "    .dataframe tbody tr th:only-of-type {\n",
       "        vertical-align: middle;\n",
       "    }\n",
       "\n",
       "    .dataframe tbody tr th {\n",
       "        vertical-align: top;\n",
       "    }\n",
       "\n",
       "    .dataframe thead th {\n",
       "        text-align: right;\n",
       "    }\n",
       "</style>\n",
       "<table border=\"1\" class=\"dataframe\">\n",
       "  <thead>\n",
       "    <tr style=\"text-align: right;\">\n",
       "      <th></th>\n",
       "      <th>Forest Size</th>\n",
       "      <th>Feature Count</th>\n",
       "      <th>Max Depths</th>\n",
       "      <th>Acc</th>\n",
       "      <th>F1</th>\n",
       "      <th>Miss Rate</th>\n",
       "      <th>Tree</th>\n",
       "      <th>My Score</th>\n",
       "    </tr>\n",
       "  </thead>\n",
       "  <tbody>\n",
       "    <tr>\n",
       "      <th>407</th>\n",
       "      <td>8.0</td>\n",
       "      <td>3.0</td>\n",
       "      <td>12.0</td>\n",
       "      <td>0.858575</td>\n",
       "      <td>0.081615</td>\n",
       "      <td>0.368222</td>\n",
       "      <td>8739353b6c4c49a91c65f9493446dc3e</td>\n",
       "      <td>0.122131</td>\n",
       "    </tr>\n",
       "    <tr>\n",
       "      <th>375</th>\n",
       "      <td>8.0</td>\n",
       "      <td>10.0</td>\n",
       "      <td>11.0</td>\n",
       "      <td>0.849550</td>\n",
       "      <td>0.076881</td>\n",
       "      <td>0.369034</td>\n",
       "      <td>e67112b3264bf44b9d13a05183f11c31</td>\n",
       "      <td>0.111482</td>\n",
       "    </tr>\n",
       "    <tr>\n",
       "      <th>459</th>\n",
       "      <td>8.0</td>\n",
       "      <td>11.0</td>\n",
       "      <td>12.0</td>\n",
       "      <td>0.863147</td>\n",
       "      <td>0.082621</td>\n",
       "      <td>0.380537</td>\n",
       "      <td>9b556ca72c25ad1a1e26ba1374c2e97e</td>\n",
       "      <td>0.102073</td>\n",
       "    </tr>\n",
       "    <tr>\n",
       "      <th>55</th>\n",
       "      <td>8.0</td>\n",
       "      <td>6.0</td>\n",
       "      <td>11.0</td>\n",
       "      <td>0.856850</td>\n",
       "      <td>0.078531</td>\n",
       "      <td>0.385619</td>\n",
       "      <td>9083e2af23a756119bfffdbdfb443d58</td>\n",
       "      <td>0.085612</td>\n",
       "    </tr>\n",
       "    <tr>\n",
       "      <th>27</th>\n",
       "      <td>8.0</td>\n",
       "      <td>10.0</td>\n",
       "      <td>11.0</td>\n",
       "      <td>0.851907</td>\n",
       "      <td>0.076329</td>\n",
       "      <td>0.384429</td>\n",
       "      <td>58a56d1ca90aab09b91c4ede7e38b447</td>\n",
       "      <td>0.083048</td>\n",
       "    </tr>\n",
       "    <tr>\n",
       "      <th>51</th>\n",
       "      <td>8.0</td>\n",
       "      <td>4.0</td>\n",
       "      <td>11.0</td>\n",
       "      <td>0.856227</td>\n",
       "      <td>0.078081</td>\n",
       "      <td>0.386994</td>\n",
       "      <td>14127220c29473819492e3b5591734ed</td>\n",
       "      <td>0.082238</td>\n",
       "    </tr>\n",
       "    <tr>\n",
       "      <th>43</th>\n",
       "      <td>8.0</td>\n",
       "      <td>4.0</td>\n",
       "      <td>11.0</td>\n",
       "      <td>0.854903</td>\n",
       "      <td>0.077516</td>\n",
       "      <td>0.386469</td>\n",
       "      <td>e881d202eafdadd087fe9fefd8e542a3</td>\n",
       "      <td>0.081966</td>\n",
       "    </tr>\n",
       "    <tr>\n",
       "      <th>73</th>\n",
       "      <td>8.0</td>\n",
       "      <td>10.0</td>\n",
       "      <td>11.0</td>\n",
       "      <td>0.857278</td>\n",
       "      <td>0.078505</td>\n",
       "      <td>0.388199</td>\n",
       "      <td>a54dbe66761c55097db954add242008f</td>\n",
       "      <td>0.080881</td>\n",
       "    </tr>\n",
       "    <tr>\n",
       "      <th>463</th>\n",
       "      <td>8.0</td>\n",
       "      <td>3.0</td>\n",
       "      <td>11.0</td>\n",
       "      <td>0.857174</td>\n",
       "      <td>0.078241</td>\n",
       "      <td>0.390960</td>\n",
       "      <td>0eb2b70988ac89b80b7549d46606160c</td>\n",
       "      <td>0.075253</td>\n",
       "    </tr>\n",
       "    <tr>\n",
       "      <th>465</th>\n",
       "      <td>8.0</td>\n",
       "      <td>10.0</td>\n",
       "      <td>11.0</td>\n",
       "      <td>0.860848</td>\n",
       "      <td>0.079714</td>\n",
       "      <td>0.393769</td>\n",
       "      <td>8b12a867804b34a8cc5edf8a941f18f9</td>\n",
       "      <td>0.073311</td>\n",
       "    </tr>\n",
       "  </tbody>\n",
       "</table>\n",
       "</div>"
      ],
      "text/plain": [
       "     Forest Size  Feature Count  Max Depths       Acc        F1  Miss Rate  \\\n",
       "407          8.0            3.0        12.0  0.858575  0.081615   0.368222   \n",
       "375          8.0           10.0        11.0  0.849550  0.076881   0.369034   \n",
       "459          8.0           11.0        12.0  0.863147  0.082621   0.380537   \n",
       "55           8.0            6.0        11.0  0.856850  0.078531   0.385619   \n",
       "27           8.0           10.0        11.0  0.851907  0.076329   0.384429   \n",
       "51           8.0            4.0        11.0  0.856227  0.078081   0.386994   \n",
       "43           8.0            4.0        11.0  0.854903  0.077516   0.386469   \n",
       "73           8.0           10.0        11.0  0.857278  0.078505   0.388199   \n",
       "463          8.0            3.0        11.0  0.857174  0.078241   0.390960   \n",
       "465          8.0           10.0        11.0  0.860848  0.079714   0.393769   \n",
       "\n",
       "                                 Tree  My Score  \n",
       "407  8739353b6c4c49a91c65f9493446dc3e  0.122131  \n",
       "375  e67112b3264bf44b9d13a05183f11c31  0.111482  \n",
       "459  9b556ca72c25ad1a1e26ba1374c2e97e  0.102073  \n",
       "55   9083e2af23a756119bfffdbdfb443d58  0.085612  \n",
       "27   58a56d1ca90aab09b91c4ede7e38b447  0.083048  \n",
       "51   14127220c29473819492e3b5591734ed  0.082238  \n",
       "43   e881d202eafdadd087fe9fefd8e542a3  0.081966  \n",
       "73   a54dbe66761c55097db954add242008f  0.080881  \n",
       "463  0eb2b70988ac89b80b7549d46606160c  0.075253  \n",
       "465  8b12a867804b34a8cc5edf8a941f18f9  0.073311  "
      ]
     },
     "execution_count": 36,
     "metadata": {},
     "output_type": "execute_result"
    }
   ],
   "source": [
    "df_trees.sort_values(by='My Score', ascending=False).head(10)"
   ]
  },
  {
   "cell_type": "code",
   "execution_count": 37,
   "metadata": {
    "execution": {
     "iopub.execute_input": "2024-09-18T11:17:37.091813Z",
     "iopub.status.busy": "2024-09-18T11:17:37.090611Z",
     "iopub.status.idle": "2024-09-18T11:17:37.097830Z",
     "shell.execute_reply": "2024-09-18T11:17:37.096686Z",
     "shell.execute_reply.started": "2024-09-18T11:17:37.091727Z"
    }
   },
   "outputs": [],
   "source": [
    "golden_trees = df_trees.sort_values(by='My Score', ascending=False).head(128).Tree.to_list()"
   ]
  },
  {
   "cell_type": "code",
   "execution_count": 38,
   "metadata": {
    "execution": {
     "iopub.execute_input": "2024-09-18T11:17:38.631595Z",
     "iopub.status.busy": "2024-09-18T11:17:38.631030Z",
     "iopub.status.idle": "2024-09-18T11:17:38.831562Z",
     "shell.execute_reply": "2024-09-18T11:17:38.830985Z",
     "shell.execute_reply.started": "2024-09-18T11:17:38.631551Z"
    }
   },
   "outputs": [],
   "source": [
    "cls.data = [Tree for Tree in cls.data if Tree.md5hexdigest in golden_trees]"
   ]
  },
  {
   "cell_type": "code",
   "execution_count": null,
   "metadata": {},
   "outputs": [],
   "source": [
    "cls"
   ]
  },
  {
   "cell_type": "markdown",
   "metadata": {},
   "source": [
    "# Generate the submission file"
   ]
  },
  {
   "cell_type": "code",
   "execution_count": 46,
   "metadata": {
    "execution": {
     "iopub.execute_input": "2024-09-18T11:20:11.020035Z",
     "iopub.status.busy": "2024-09-18T11:20:11.019225Z",
     "iopub.status.idle": "2024-09-18T11:20:11.224572Z",
     "shell.execute_reply": "2024-09-18T11:20:11.223873Z",
     "shell.execute_reply.started": "2024-09-18T11:20:11.019956Z"
    }
   },
   "outputs": [
    {
     "data": {
      "text/html": [
       "<div>\n",
       "<style scoped>\n",
       "    .dataframe tbody tr th:only-of-type {\n",
       "        vertical-align: middle;\n",
       "    }\n",
       "\n",
       "    .dataframe tbody tr th {\n",
       "        vertical-align: top;\n",
       "    }\n",
       "\n",
       "    .dataframe thead th {\n",
       "        text-align: right;\n",
       "    }\n",
       "</style>\n",
       "<table border=\"1\" class=\"dataframe\">\n",
       "  <thead>\n",
       "    <tr style=\"text-align: right;\">\n",
       "      <th></th>\n",
       "      <th>id</th>\n",
       "      <th>Time</th>\n",
       "      <th>feat1</th>\n",
       "      <th>feat2</th>\n",
       "      <th>feat3</th>\n",
       "      <th>feat4</th>\n",
       "      <th>feat5</th>\n",
       "      <th>feat6</th>\n",
       "      <th>feat7</th>\n",
       "      <th>feat8</th>\n",
       "      <th>...</th>\n",
       "      <th>feat20</th>\n",
       "      <th>feat21</th>\n",
       "      <th>feat22</th>\n",
       "      <th>feat23</th>\n",
       "      <th>feat24</th>\n",
       "      <th>feat25</th>\n",
       "      <th>feat26</th>\n",
       "      <th>feat27</th>\n",
       "      <th>feat28</th>\n",
       "      <th>Transaction_Amount</th>\n",
       "    </tr>\n",
       "  </thead>\n",
       "  <tbody>\n",
       "    <tr>\n",
       "      <th>0</th>\n",
       "      <td>150000</td>\n",
       "      <td>73899</td>\n",
       "      <td>-0.681234</td>\n",
       "      <td>-0.371212</td>\n",
       "      <td>0.385966</td>\n",
       "      <td>0.955703</td>\n",
       "      <td>2.064078</td>\n",
       "      <td>0.338827</td>\n",
       "      <td>-0.539452</td>\n",
       "      <td>-0.254046</td>\n",
       "      <td>...</td>\n",
       "      <td>0.183560</td>\n",
       "      <td>-0.253324</td>\n",
       "      <td>0.266668</td>\n",
       "      <td>-0.153829</td>\n",
       "      <td>0.455969</td>\n",
       "      <td>-0.503628</td>\n",
       "      <td>0.257588</td>\n",
       "      <td>-0.456685</td>\n",
       "      <td>-0.298919</td>\n",
       "      <td>30.42</td>\n",
       "    </tr>\n",
       "    <tr>\n",
       "      <th>1</th>\n",
       "      <td>150001</td>\n",
       "      <td>73899</td>\n",
       "      <td>-1.098947</td>\n",
       "      <td>-0.959377</td>\n",
       "      <td>0.324934</td>\n",
       "      <td>0.703908</td>\n",
       "      <td>1.090582</td>\n",
       "      <td>-1.595909</td>\n",
       "      <td>0.584548</td>\n",
       "      <td>0.260069</td>\n",
       "      <td>...</td>\n",
       "      <td>0.334764</td>\n",
       "      <td>0.130108</td>\n",
       "      <td>0.676928</td>\n",
       "      <td>-0.161070</td>\n",
       "      <td>-0.638011</td>\n",
       "      <td>-0.273424</td>\n",
       "      <td>0.711132</td>\n",
       "      <td>0.349967</td>\n",
       "      <td>0.141233</td>\n",
       "      <td>23.00</td>\n",
       "    </tr>\n",
       "    <tr>\n",
       "      <th>2</th>\n",
       "      <td>150002</td>\n",
       "      <td>73899</td>\n",
       "      <td>0.977029</td>\n",
       "      <td>-0.270984</td>\n",
       "      <td>0.471526</td>\n",
       "      <td>-1.232570</td>\n",
       "      <td>0.957537</td>\n",
       "      <td>-0.636602</td>\n",
       "      <td>-0.953060</td>\n",
       "      <td>-1.491744</td>\n",
       "      <td>...</td>\n",
       "      <td>0.355728</td>\n",
       "      <td>0.517912</td>\n",
       "      <td>1.175087</td>\n",
       "      <td>-0.325895</td>\n",
       "      <td>-0.362636</td>\n",
       "      <td>0.306037</td>\n",
       "      <td>0.004828</td>\n",
       "      <td>0.037389</td>\n",
       "      <td>0.058222</td>\n",
       "      <td>198.00</td>\n",
       "    </tr>\n",
       "    <tr>\n",
       "      <th>3</th>\n",
       "      <td>150003</td>\n",
       "      <td>73900</td>\n",
       "      <td>1.176658</td>\n",
       "      <td>-0.225816</td>\n",
       "      <td>-0.246600</td>\n",
       "      <td>0.015513</td>\n",
       "      <td>1.103831</td>\n",
       "      <td>1.229516</td>\n",
       "      <td>-1.527098</td>\n",
       "      <td>-0.459769</td>\n",
       "      <td>...</td>\n",
       "      <td>-0.152613</td>\n",
       "      <td>-0.104600</td>\n",
       "      <td>0.003800</td>\n",
       "      <td>-0.023180</td>\n",
       "      <td>-0.458338</td>\n",
       "      <td>0.481427</td>\n",
       "      <td>-0.381415</td>\n",
       "      <td>0.080165</td>\n",
       "      <td>0.027372</td>\n",
       "      <td>9.99</td>\n",
       "    </tr>\n",
       "    <tr>\n",
       "      <th>4</th>\n",
       "      <td>150004</td>\n",
       "      <td>73900</td>\n",
       "      <td>0.804828</td>\n",
       "      <td>-0.272967</td>\n",
       "      <td>0.959910</td>\n",
       "      <td>-1.117567</td>\n",
       "      <td>0.395748</td>\n",
       "      <td>0.589855</td>\n",
       "      <td>1.059880</td>\n",
       "      <td>-1.101203</td>\n",
       "      <td>...</td>\n",
       "      <td>-0.127818</td>\n",
       "      <td>-0.011849</td>\n",
       "      <td>0.078540</td>\n",
       "      <td>-0.241700</td>\n",
       "      <td>0.010130</td>\n",
       "      <td>0.302614</td>\n",
       "      <td>-0.259568</td>\n",
       "      <td>0.023127</td>\n",
       "      <td>0.056957</td>\n",
       "      <td>239.00</td>\n",
       "    </tr>\n",
       "    <tr>\n",
       "      <th>...</th>\n",
       "      <td>...</td>\n",
       "      <td>...</td>\n",
       "      <td>...</td>\n",
       "      <td>...</td>\n",
       "      <td>...</td>\n",
       "      <td>...</td>\n",
       "      <td>...</td>\n",
       "      <td>...</td>\n",
       "      <td>...</td>\n",
       "      <td>...</td>\n",
       "      <td>...</td>\n",
       "      <td>...</td>\n",
       "      <td>...</td>\n",
       "      <td>...</td>\n",
       "      <td>...</td>\n",
       "      <td>...</td>\n",
       "      <td>...</td>\n",
       "      <td>...</td>\n",
       "      <td>...</td>\n",
       "      <td>...</td>\n",
       "      <td>...</td>\n",
       "    </tr>\n",
       "    <tr>\n",
       "      <th>69124</th>\n",
       "      <td>219124</td>\n",
       "      <td>120580</td>\n",
       "      <td>1.891079</td>\n",
       "      <td>-0.041423</td>\n",
       "      <td>0.858158</td>\n",
       "      <td>-1.272908</td>\n",
       "      <td>-3.783908</td>\n",
       "      <td>-1.388939</td>\n",
       "      <td>-0.280639</td>\n",
       "      <td>2.012789</td>\n",
       "      <td>...</td>\n",
       "      <td>-0.195703</td>\n",
       "      <td>-0.181369</td>\n",
       "      <td>-0.456538</td>\n",
       "      <td>-0.069571</td>\n",
       "      <td>0.756765</td>\n",
       "      <td>0.244479</td>\n",
       "      <td>-0.147566</td>\n",
       "      <td>-0.054725</td>\n",
       "      <td>-0.044588</td>\n",
       "      <td>198.65</td>\n",
       "    </tr>\n",
       "    <tr>\n",
       "      <th>69125</th>\n",
       "      <td>219125</td>\n",
       "      <td>120580</td>\n",
       "      <td>0.139724</td>\n",
       "      <td>-0.917395</td>\n",
       "      <td>-0.257933</td>\n",
       "      <td>0.948649</td>\n",
       "      <td>-2.913655</td>\n",
       "      <td>-2.184829</td>\n",
       "      <td>-0.457534</td>\n",
       "      <td>1.883716</td>\n",
       "      <td>...</td>\n",
       "      <td>-0.116538</td>\n",
       "      <td>0.491469</td>\n",
       "      <td>1.478823</td>\n",
       "      <td>-0.085398</td>\n",
       "      <td>-0.091409</td>\n",
       "      <td>-1.053488</td>\n",
       "      <td>0.467570</td>\n",
       "      <td>0.358918</td>\n",
       "      <td>0.294735</td>\n",
       "      <td>24.00</td>\n",
       "    </tr>\n",
       "    <tr>\n",
       "      <th>69126</th>\n",
       "      <td>219126</td>\n",
       "      <td>120580</td>\n",
       "      <td>2.058343</td>\n",
       "      <td>0.391801</td>\n",
       "      <td>-0.136498</td>\n",
       "      <td>-0.038993</td>\n",
       "      <td>-1.928553</td>\n",
       "      <td>0.330117</td>\n",
       "      <td>0.179926</td>\n",
       "      <td>0.270127</td>\n",
       "      <td>...</td>\n",
       "      <td>-0.384830</td>\n",
       "      <td>-0.306640</td>\n",
       "      <td>-0.965783</td>\n",
       "      <td>0.307799</td>\n",
       "      <td>-0.021434</td>\n",
       "      <td>-0.343989</td>\n",
       "      <td>0.181065</td>\n",
       "      <td>-0.098387</td>\n",
       "      <td>-0.044064</td>\n",
       "      <td>1.79</td>\n",
       "    </tr>\n",
       "    <tr>\n",
       "      <th>69127</th>\n",
       "      <td>219127</td>\n",
       "      <td>120580</td>\n",
       "      <td>2.079227</td>\n",
       "      <td>0.301966</td>\n",
       "      <td>1.536193</td>\n",
       "      <td>-2.162389</td>\n",
       "      <td>-1.785833</td>\n",
       "      <td>-2.804889</td>\n",
       "      <td>-0.058879</td>\n",
       "      <td>0.552845</td>\n",
       "      <td>...</td>\n",
       "      <td>-0.190984</td>\n",
       "      <td>0.109909</td>\n",
       "      <td>0.590401</td>\n",
       "      <td>0.286621</td>\n",
       "      <td>0.675660</td>\n",
       "      <td>-0.510736</td>\n",
       "      <td>-0.090044</td>\n",
       "      <td>0.056749</td>\n",
       "      <td>-0.017126</td>\n",
       "      <td>88.00</td>\n",
       "    </tr>\n",
       "    <tr>\n",
       "      <th>69128</th>\n",
       "      <td>219128</td>\n",
       "      <td>120580</td>\n",
       "      <td>-0.431758</td>\n",
       "      <td>-0.640176</td>\n",
       "      <td>-0.049454</td>\n",
       "      <td>1.299171</td>\n",
       "      <td>-0.571602</td>\n",
       "      <td>-1.161499</td>\n",
       "      <td>1.374548</td>\n",
       "      <td>1.141765</td>\n",
       "      <td>...</td>\n",
       "      <td>0.058133</td>\n",
       "      <td>0.225629</td>\n",
       "      <td>0.988442</td>\n",
       "      <td>-0.224609</td>\n",
       "      <td>0.082977</td>\n",
       "      <td>-0.335529</td>\n",
       "      <td>0.042237</td>\n",
       "      <td>0.304965</td>\n",
       "      <td>0.240049</td>\n",
       "      <td>3.78</td>\n",
       "    </tr>\n",
       "  </tbody>\n",
       "</table>\n",
       "<p>69129 rows × 31 columns</p>\n",
       "</div>"
      ],
      "text/plain": [
       "           id    Time     feat1     feat2     feat3     feat4     feat5  \\\n",
       "0      150000   73899 -0.681234 -0.371212  0.385966  0.955703  2.064078   \n",
       "1      150001   73899 -1.098947 -0.959377  0.324934  0.703908  1.090582   \n",
       "2      150002   73899  0.977029 -0.270984  0.471526 -1.232570  0.957537   \n",
       "3      150003   73900  1.176658 -0.225816 -0.246600  0.015513  1.103831   \n",
       "4      150004   73900  0.804828 -0.272967  0.959910 -1.117567  0.395748   \n",
       "...       ...     ...       ...       ...       ...       ...       ...   \n",
       "69124  219124  120580  1.891079 -0.041423  0.858158 -1.272908 -3.783908   \n",
       "69125  219125  120580  0.139724 -0.917395 -0.257933  0.948649 -2.913655   \n",
       "69126  219126  120580  2.058343  0.391801 -0.136498 -0.038993 -1.928553   \n",
       "69127  219127  120580  2.079227  0.301966  1.536193 -2.162389 -1.785833   \n",
       "69128  219128  120580 -0.431758 -0.640176 -0.049454  1.299171 -0.571602   \n",
       "\n",
       "          feat6     feat7     feat8  ...    feat20    feat21    feat22  \\\n",
       "0      0.338827 -0.539452 -0.254046  ...  0.183560 -0.253324  0.266668   \n",
       "1     -1.595909  0.584548  0.260069  ...  0.334764  0.130108  0.676928   \n",
       "2     -0.636602 -0.953060 -1.491744  ...  0.355728  0.517912  1.175087   \n",
       "3      1.229516 -1.527098 -0.459769  ... -0.152613 -0.104600  0.003800   \n",
       "4      0.589855  1.059880 -1.101203  ... -0.127818 -0.011849  0.078540   \n",
       "...         ...       ...       ...  ...       ...       ...       ...   \n",
       "69124 -1.388939 -0.280639  2.012789  ... -0.195703 -0.181369 -0.456538   \n",
       "69125 -2.184829 -0.457534  1.883716  ... -0.116538  0.491469  1.478823   \n",
       "69126  0.330117  0.179926  0.270127  ... -0.384830 -0.306640 -0.965783   \n",
       "69127 -2.804889 -0.058879  0.552845  ... -0.190984  0.109909  0.590401   \n",
       "69128 -1.161499  1.374548  1.141765  ...  0.058133  0.225629  0.988442   \n",
       "\n",
       "         feat23    feat24    feat25    feat26    feat27    feat28  \\\n",
       "0     -0.153829  0.455969 -0.503628  0.257588 -0.456685 -0.298919   \n",
       "1     -0.161070 -0.638011 -0.273424  0.711132  0.349967  0.141233   \n",
       "2     -0.325895 -0.362636  0.306037  0.004828  0.037389  0.058222   \n",
       "3     -0.023180 -0.458338  0.481427 -0.381415  0.080165  0.027372   \n",
       "4     -0.241700  0.010130  0.302614 -0.259568  0.023127  0.056957   \n",
       "...         ...       ...       ...       ...       ...       ...   \n",
       "69124 -0.069571  0.756765  0.244479 -0.147566 -0.054725 -0.044588   \n",
       "69125 -0.085398 -0.091409 -1.053488  0.467570  0.358918  0.294735   \n",
       "69126  0.307799 -0.021434 -0.343989  0.181065 -0.098387 -0.044064   \n",
       "69127  0.286621  0.675660 -0.510736 -0.090044  0.056749 -0.017126   \n",
       "69128 -0.224609  0.082977 -0.335529  0.042237  0.304965  0.240049   \n",
       "\n",
       "       Transaction_Amount  \n",
       "0                   30.42  \n",
       "1                   23.00  \n",
       "2                  198.00  \n",
       "3                    9.99  \n",
       "4                  239.00  \n",
       "...                   ...  \n",
       "69124              198.65  \n",
       "69125               24.00  \n",
       "69126                1.79  \n",
       "69127               88.00  \n",
       "69128                3.78  \n",
       "\n",
       "[69129 rows x 31 columns]"
      ]
     },
     "execution_count": 46,
     "metadata": {},
     "output_type": "execute_result"
    }
   ],
   "source": [
    "df_test = pd.read_csv(f'{dataset_path}/test.csv')\n",
    "df_test"
   ]
  },
  {
   "cell_type": "code",
   "execution_count": 47,
   "metadata": {
    "execution": {
     "iopub.execute_input": "2024-09-18T11:20:11.676947Z",
     "iopub.status.busy": "2024-09-18T11:20:11.676390Z",
     "iopub.status.idle": "2024-09-18T11:20:11.686277Z",
     "shell.execute_reply": "2024-09-18T11:20:11.685811Z",
     "shell.execute_reply.started": "2024-09-18T11:20:11.676904Z"
    }
   },
   "outputs": [],
   "source": [
    "df_id = df_test['id'].to_frame()\n",
    "df_test = df_test.drop(columns=['id'])"
   ]
  },
  {
   "cell_type": "code",
   "execution_count": 48,
   "metadata": {
    "execution": {
     "iopub.execute_input": "2024-09-18T11:20:13.090548Z",
     "iopub.status.busy": "2024-09-18T11:20:13.090182Z",
     "iopub.status.idle": "2024-09-18T11:22:12.667504Z",
     "shell.execute_reply": "2024-09-18T11:22:12.666901Z",
     "shell.execute_reply.started": "2024-09-18T11:20:13.090539Z"
    }
   },
   "outputs": [],
   "source": [
    "cls.setSoftVoting()\n",
    "y_pred_probs = cls.testForestProbs(df_test)"
   ]
  },
  {
   "cell_type": "code",
   "execution_count": 49,
   "metadata": {
    "execution": {
     "iopub.execute_input": "2024-09-18T11:22:12.668368Z",
     "iopub.status.busy": "2024-09-18T11:22:12.668273Z",
     "iopub.status.idle": "2024-09-18T11:22:12.673589Z",
     "shell.execute_reply": "2024-09-18T11:22:12.673288Z",
     "shell.execute_reply.started": "2024-09-18T11:22:12.668359Z"
    }
   },
   "outputs": [],
   "source": [
    "y_pred_soft = [x['1'] for x in y_pred_probs]"
   ]
  },
  {
   "cell_type": "code",
   "execution_count": 50,
   "metadata": {
    "execution": {
     "iopub.execute_input": "2024-09-18T11:22:12.674136Z",
     "iopub.status.busy": "2024-09-18T11:22:12.674007Z",
     "iopub.status.idle": "2024-09-18T11:22:12.690880Z",
     "shell.execute_reply": "2024-09-18T11:22:12.690570Z",
     "shell.execute_reply.started": "2024-09-18T11:22:12.674126Z"
    }
   },
   "outputs": [
    {
     "data": {
      "text/html": [
       "<div>\n",
       "<style scoped>\n",
       "    .dataframe tbody tr th:only-of-type {\n",
       "        vertical-align: middle;\n",
       "    }\n",
       "\n",
       "    .dataframe tbody tr th {\n",
       "        vertical-align: top;\n",
       "    }\n",
       "\n",
       "    .dataframe thead th {\n",
       "        text-align: right;\n",
       "    }\n",
       "</style>\n",
       "<table border=\"1\" class=\"dataframe\">\n",
       "  <thead>\n",
       "    <tr style=\"text-align: right;\">\n",
       "      <th></th>\n",
       "      <th>id</th>\n",
       "      <th>IsFraud</th>\n",
       "    </tr>\n",
       "  </thead>\n",
       "  <tbody>\n",
       "    <tr>\n",
       "      <th>0</th>\n",
       "      <td>150000</td>\n",
       "      <td>0.281250</td>\n",
       "    </tr>\n",
       "    <tr>\n",
       "      <th>1</th>\n",
       "      <td>150001</td>\n",
       "      <td>0.351562</td>\n",
       "    </tr>\n",
       "    <tr>\n",
       "      <th>2</th>\n",
       "      <td>150002</td>\n",
       "      <td>0.250000</td>\n",
       "    </tr>\n",
       "    <tr>\n",
       "      <th>3</th>\n",
       "      <td>150003</td>\n",
       "      <td>0.320312</td>\n",
       "    </tr>\n",
       "    <tr>\n",
       "      <th>4</th>\n",
       "      <td>150004</td>\n",
       "      <td>0.296875</td>\n",
       "    </tr>\n",
       "    <tr>\n",
       "      <th>...</th>\n",
       "      <td>...</td>\n",
       "      <td>...</td>\n",
       "    </tr>\n",
       "    <tr>\n",
       "      <th>69124</th>\n",
       "      <td>219124</td>\n",
       "      <td>0.179688</td>\n",
       "    </tr>\n",
       "    <tr>\n",
       "      <th>69125</th>\n",
       "      <td>219125</td>\n",
       "      <td>0.359375</td>\n",
       "    </tr>\n",
       "    <tr>\n",
       "      <th>69126</th>\n",
       "      <td>219126</td>\n",
       "      <td>0.273438</td>\n",
       "    </tr>\n",
       "    <tr>\n",
       "      <th>69127</th>\n",
       "      <td>219127</td>\n",
       "      <td>0.203125</td>\n",
       "    </tr>\n",
       "    <tr>\n",
       "      <th>69128</th>\n",
       "      <td>219128</td>\n",
       "      <td>0.250000</td>\n",
       "    </tr>\n",
       "  </tbody>\n",
       "</table>\n",
       "<p>69129 rows × 2 columns</p>\n",
       "</div>"
      ],
      "text/plain": [
       "           id   IsFraud\n",
       "0      150000  0.281250\n",
       "1      150001  0.351562\n",
       "2      150002  0.250000\n",
       "3      150003  0.320312\n",
       "4      150004  0.296875\n",
       "...       ...       ...\n",
       "69124  219124  0.179688\n",
       "69125  219125  0.359375\n",
       "69126  219126  0.273438\n",
       "69127  219127  0.203125\n",
       "69128  219128  0.250000\n",
       "\n",
       "[69129 rows x 2 columns]"
      ]
     },
     "execution_count": 50,
     "metadata": {},
     "output_type": "execute_result"
    }
   ],
   "source": [
    "df_id['IsFraud'] = y_pred_soft\n",
    "df_id"
   ]
  },
  {
   "cell_type": "code",
   "execution_count": 51,
   "metadata": {
    "execution": {
     "iopub.execute_input": "2024-09-18T11:22:12.691534Z",
     "iopub.status.busy": "2024-09-18T11:22:12.691416Z",
     "iopub.status.idle": "2024-09-18T11:22:12.744482Z",
     "shell.execute_reply": "2024-09-18T11:22:12.743956Z",
     "shell.execute_reply.started": "2024-09-18T11:22:12.691524Z"
    }
   },
   "outputs": [],
   "source": [
    "df_id.to_csv(f'{dataset_path}/submission_exp4_not_trans_probs2.csv', index=False)"
   ]
  },
  {
   "cell_type": "code",
   "execution_count": null,
   "metadata": {},
   "outputs": [],
   "source": [
    "!head $dataset_path/submission_exp2_trans_t2.csv"
   ]
  },
  {
   "cell_type": "code",
   "execution_count": 25,
   "metadata": {
    "execution": {
     "iopub.execute_input": "2024-09-18T06:03:14.761224Z",
     "iopub.status.busy": "2024-09-18T06:03:14.761106Z",
     "iopub.status.idle": "2024-09-18T06:03:14.982390Z",
     "shell.execute_reply": "2024-09-18T06:03:14.979497Z",
     "shell.execute_reply.started": "2024-09-18T06:03:14.761215Z"
    }
   },
   "outputs": [],
   "source": [
    "!touch /work/yes.do"
   ]
  },
  {
   "cell_type": "markdown",
   "metadata": {},
   "source": [
    "# Kagle results"
   ]
  },
  {
   "cell_type": "markdown",
   "metadata": {
    "execution": {
     "iopub.execute_input": "2024-09-15T18:32:42.677358Z",
     "iopub.status.busy": "2024-09-15T18:32:42.677059Z",
     "iopub.status.idle": "2024-09-15T18:32:42.681390Z",
     "shell.execute_reply": "2024-09-15T18:32:42.680863Z",
     "shell.execute_reply.started": "2024-09-15T18:32:42.677337Z"
    }
   },
   "source": [
    "## Best:\n",
    "\n",
    "Private Score: `0.66859`  (1st: `0.80611`, 2nd: `0.76407`)  \n",
    "Public Score: `0.74468`  (1st: `0.83947`, 2nd: `0.83947`)  \n"
   ]
  },
  {
   "cell_type": "code",
   "execution_count": 23,
   "metadata": {
    "execution": {
     "iopub.execute_input": "2024-09-18T08:09:20.959118Z",
     "iopub.status.busy": "2024-09-18T08:09:20.958984Z",
     "iopub.status.idle": "2024-09-18T08:09:20.962530Z",
     "shell.execute_reply": "2024-09-18T08:09:20.962102Z",
     "shell.execute_reply.started": "2024-09-18T08:09:20.959101Z"
    }
   },
   "outputs": [
    {
     "data": {
      "text/plain": [
       "RandomForestMC(len(Forest)=256,n_trees=256,model_version=1.2.0-dev,module_version=1.2.0-dev)"
      ]
     },
     "execution_count": 23,
     "metadata": {},
     "output_type": "execute_result"
    }
   ],
   "source": [
    "cls"
   ]
  },
  {
   "cell_type": "code",
   "execution_count": 24,
   "metadata": {
    "execution": {
     "iopub.execute_input": "2024-09-18T08:09:20.963121Z",
     "iopub.status.busy": "2024-09-18T08:09:20.962957Z",
     "iopub.status.idle": "2024-09-18T08:09:21.205667Z",
     "shell.execute_reply": "2024-09-18T08:09:21.203645Z",
     "shell.execute_reply.started": "2024-09-18T08:09:20.963110Z"
    }
   },
   "outputs": [],
   "source": [
    "!mv /work/yes /work/yes.do ||touch /work/do"
   ]
  },
  {
   "cell_type": "code",
   "execution_count": 54,
   "metadata": {
    "execution": {
     "iopub.execute_input": "2024-09-18T11:59:45.232464Z",
     "iopub.status.busy": "2024-09-18T11:59:45.232318Z",
     "iopub.status.idle": "2024-09-18T11:59:45.235538Z",
     "shell.execute_reply": "2024-09-18T11:59:45.235287Z",
     "shell.execute_reply.started": "2024-09-18T11:59:45.232452Z"
    }
   },
   "outputs": [
    {
     "data": {
      "text/plain": [
       "((7.73828125, 2.773665813665813, 2, 12),\n",
       " [(10, 104),\n",
       "  (5, 27),\n",
       "  (4, 24),\n",
       "  (6, 24),\n",
       "  (11, 20),\n",
       "  (3, 15),\n",
       "  (9, 14),\n",
       "  (7, 11),\n",
       "  (8, 9),\n",
       "  (2, 7),\n",
       "  (12, 1)])"
      ]
     },
     "execution_count": 54,
     "metadata": {},
     "output_type": "execute_result"
    }
   ],
   "source": [
    "feat_stats, feat_count_list = cls.featCount()\n",
    "feat_stats, Counter(feat_count_list).most_common()"
   ]
  },
  {
   "cell_type": "code",
   "execution_count": 58,
   "metadata": {
    "execution": {
     "iopub.execute_input": "2024-09-18T12:03:03.474485Z",
     "iopub.status.busy": "2024-09-18T12:03:03.472568Z",
     "iopub.status.idle": "2024-09-18T12:03:03.483896Z",
     "shell.execute_reply": "2024-09-18T12:03:03.482056Z",
     "shell.execute_reply.started": "2024-09-18T12:03:03.474401Z"
    }
   },
   "outputs": [
    {
     "data": {
      "text/plain": [
       "9999"
      ]
     },
     "execution_count": 58,
     "metadata": {},
     "output_type": "execute_result"
    }
   ],
   "source": [
    "featPairImportance = cls.featPairImportance()\n",
    "featPairImportance"
   ]
  },
  {
   "cell_type": "code",
   "execution_count": null,
   "metadata": {},
   "outputs": [],
   "source": []
  }
 ],
 "metadata": {
  "kernelspec": {
   "display_name": "Python 3 (ipykernel)",
   "language": "python",
   "name": "python3"
  },
  "language_info": {
   "codemirror_mode": {
    "name": "ipython",
    "version": 3
   },
   "file_extension": ".py",
   "mimetype": "text/x-python",
   "name": "python",
   "nbconvert_exporter": "python",
   "pygments_lexer": "ipython3",
   "version": "3.11.10"
  }
 },
 "nbformat": 4,
 "nbformat_minor": 4
}
