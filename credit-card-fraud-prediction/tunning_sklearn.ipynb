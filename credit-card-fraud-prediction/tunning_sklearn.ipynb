{
 "cells": [
  {
   "cell_type": "markdown",
   "metadata": {},
   "source": [
    "# Tuning \n",
    "\n",
    "- Author: Israel Oliveira [\\[e-mail\\]](mailto:'Israel%20Oliveira%20'<prof.israel@gmail.com>)"
   ]
  },
  {
   "cell_type": "code",
   "execution_count": 1,
   "metadata": {
    "execution": {
     "iopub.execute_input": "2024-09-18T07:34:25.239045Z",
     "iopub.status.busy": "2024-09-18T07:34:25.238785Z",
     "iopub.status.idle": "2024-09-18T07:34:25.247316Z",
     "shell.execute_reply": "2024-09-18T07:34:25.246913Z",
     "shell.execute_reply.started": "2024-09-18T07:34:25.239030Z"
    }
   },
   "outputs": [],
   "source": [
    "%load_ext watermark"
   ]
  },
  {
   "cell_type": "code",
   "execution_count": 2,
   "metadata": {
    "execution": {
     "iopub.execute_input": "2024-09-18T07:34:25.550354Z",
     "iopub.status.busy": "2024-09-18T07:34:25.550203Z",
     "iopub.status.idle": "2024-09-18T07:34:26.454396Z",
     "shell.execute_reply": "2024-09-18T07:34:26.454098Z",
     "shell.execute_reply.started": "2024-09-18T07:34:25.550344Z"
    }
   },
   "outputs": [],
   "source": [
    "import pandas as pd\n",
    "import numpy as np\n",
    "from random_forest_mc.utils import LoadDicts, dump_file_json, load_file_json\n",
    "from tqdm.notebook import tqdm\n",
    "from datetime import datetime\n",
    "from collections import Counter, defaultdict\n",
    "from glob import glob\n",
    "from sklearn.metrics import accuracy_score, f1_score, confusion_matrix\n",
    "import matplotlib \n",
    "\n",
    "from sklearn.ensemble import RandomForestClassifier, AdaBoostClassifier, GradientBoostingClassifier\n",
    "from sklearn.experimental import enable_halving_search_cv  # noqa\n",
    "from sklearn.model_selection import HalvingGridSearchCV\n",
    "from sklearn.tree import DecisionTreeClassifier"
   ]
  },
  {
   "cell_type": "code",
   "execution_count": 3,
   "metadata": {
    "execution": {
     "iopub.execute_input": "2024-09-18T07:34:26.727367Z",
     "iopub.status.busy": "2024-09-18T07:34:26.727150Z",
     "iopub.status.idle": "2024-09-18T07:34:26.854040Z",
     "shell.execute_reply": "2024-09-18T07:34:26.853522Z",
     "shell.execute_reply.started": "2024-09-18T07:34:26.727354Z"
    }
   },
   "outputs": [],
   "source": [
    "import matplotlib.pyplot as plt\n",
    "%matplotlib inline\n",
    "from matplotlib import rcParams\n",
    "from cycler import cycler\n",
    "\n",
    "rcParams['figure.figsize'] = 6, 2 # 18, 5\n",
    "rcParams['axes.spines.top'] = False\n",
    "rcParams['axes.spines.right'] = False\n",
    "rcParams['axes.grid'] = True\n",
    "rcParams['axes.prop_cycle'] = cycler(color=['#365977'])\n",
    "rcParams['lines.linewidth'] = 2.5"
   ]
  },
  {
   "cell_type": "code",
   "execution_count": 4,
   "metadata": {
    "execution": {
     "iopub.execute_input": "2024-09-18T07:34:27.150651Z",
     "iopub.status.busy": "2024-09-18T07:34:27.150498Z",
     "iopub.status.idle": "2024-09-18T07:34:27.153522Z",
     "shell.execute_reply": "2024-09-18T07:34:27.153023Z",
     "shell.execute_reply.started": "2024-09-18T07:34:27.150639Z"
    }
   },
   "outputs": [],
   "source": [
    "import warnings\n",
    "warnings.filterwarnings('ignore', category=pd.errors.SettingWithCopyWarning)"
   ]
  },
  {
   "cell_type": "code",
   "execution_count": 5,
   "metadata": {
    "execution": {
     "iopub.execute_input": "2024-09-18T07:34:27.671155Z",
     "iopub.status.busy": "2024-09-18T07:34:27.670973Z",
     "iopub.status.idle": "2024-09-18T07:34:27.673619Z",
     "shell.execute_reply": "2024-09-18T07:34:27.673296Z",
     "shell.execute_reply.started": "2024-09-18T07:34:27.671143Z"
    }
   },
   "outputs": [],
   "source": [
    "import functools\n",
    "import operator\n",
    "def flat(a):\n",
    "    return functools.reduce(operator.iconcat, a, [])"
   ]
  },
  {
   "cell_type": "code",
   "execution_count": 6,
   "metadata": {
    "execution": {
     "iopub.execute_input": "2024-09-18T07:34:28.335583Z",
     "iopub.status.busy": "2024-09-18T07:34:28.335239Z",
     "iopub.status.idle": "2024-09-18T07:34:28.763342Z",
     "shell.execute_reply": "2024-09-18T07:34:28.762918Z",
     "shell.execute_reply.started": "2024-09-18T07:34:28.335570Z"
    }
   },
   "outputs": [
    {
     "name": "stdout",
     "output_type": "stream",
     "text": [
      "Python implementation: CPython\n",
      "Python version       : 3.11.10\n",
      "IPython version      : 8.27.0\n",
      "\n",
      "Compiler    : GCC 10.2.1 20210110\n",
      "OS          : Linux\n",
      "Release     : 6.8.0-44-generic\n",
      "Machine     : x86_64\n",
      "Processor   : \n",
      "CPU cores   : 20\n",
      "Architecture: 64bit\n",
      "\n",
      "Git hash: afffba9ffbd19f4c4b696c18f695f73af62368d0\n",
      "\n",
      "Git repo: https://github.com/ysraell/random-forest-mc-utils.git\n",
      "\n",
      "Git branch: main\n",
      "\n",
      "numpy     : 1.26.4\n",
      "sklearn   : 1.3.2\n",
      "pandas    : 2.2.2\n",
      "matplotlib: 3.9.2\n",
      "\n",
      "CPU\t: 12th Gen Intel(R) Core(TM) i7-12700\n",
      "Mem:            15G\n",
      "Swap:          3.7G\n"
     ]
    }
   ],
   "source": [
    "# Run this cell before close.\n",
    "%watermark -d --iversion -b -r -g -m -v\n",
    "!cat /proc/cpuinfo |grep 'model name'|head -n 1 |sed -e 's/model\\ name/CPU/'\n",
    "!free -h |cut -d'i' -f1  |grep -v total"
   ]
  },
  {
   "cell_type": "code",
   "execution_count": 7,
   "metadata": {
    "execution": {
     "iopub.execute_input": "2024-09-18T07:34:36.167720Z",
     "iopub.status.busy": "2024-09-18T07:34:36.167492Z",
     "iopub.status.idle": "2024-09-18T07:34:36.170711Z",
     "shell.execute_reply": "2024-09-18T07:34:36.170201Z",
     "shell.execute_reply.started": "2024-09-18T07:34:36.167701Z"
    }
   },
   "outputs": [],
   "source": [
    "dataset_path = '/work/tmp/credit-card-fraud-prediction'"
   ]
  },
  {
   "cell_type": "code",
   "execution_count": 8,
   "metadata": {
    "execution": {
     "iopub.execute_input": "2024-09-18T07:34:36.823494Z",
     "iopub.status.busy": "2024-09-18T07:34:36.823233Z",
     "iopub.status.idle": "2024-09-18T07:34:37.035427Z",
     "shell.execute_reply": "2024-09-18T07:34:37.034895Z",
     "shell.execute_reply.started": "2024-09-18T07:34:36.823478Z"
    }
   },
   "outputs": [
    {
     "name": "stdout",
     "output_type": "stream",
     "text": [
      "model_trans_tuning_256trees_20240917_1808.json\n",
      "model_trans_tuning_32trees_20240917_1322.json\n",
      "model_trans_tuning_32trees_20240917_1416.json\n",
      "model_tuned_256trees_20240918_0134.json\n",
      "model_tuned_not_trans_256trees_20240918_0559.json\n",
      "sample_submission.csv\n",
      "submission_exp1.csv\n",
      "submission_exp2_trans.csv\n",
      "submission_exp2_trans_probs.csv\n",
      "submission_exp2_trans_probs2.csv\n",
      "submission_exp2_trans_probs4.csv\n",
      "submission_exp2_trans_t2.csv\n",
      "submission_exp2_trans_t3.csv\n",
      "submission_exp2_trans_t4.csv\n",
      "submission_exp2_trans_t5.csv\n",
      "submission_exp2_trans_t6.csv\n",
      "submission_exp4_not_trans_probs1.csv\n",
      "submission_sklearn_exp1.csv\n",
      "submission_sklearn_exp1_proba.csv\n",
      "submission_sklearn_exp1_proba2.csv\n",
      "submission_sklearn_exp1_proba3.csv\n",
      "submission_sklearn_exp2_proba1.csv\n",
      "test.csv\n",
      "test_trans.csv\n",
      "train.csv\n",
      "train_trans.csv\n",
      "trees_trans_metrcis_sim_20240917_1950.json\n"
     ]
    }
   ],
   "source": [
    "!ls $dataset_path"
   ]
  },
  {
   "cell_type": "code",
   "execution_count": 9,
   "metadata": {
    "execution": {
     "iopub.execute_input": "2024-09-18T07:34:37.368007Z",
     "iopub.status.busy": "2024-09-18T07:34:37.367807Z",
     "iopub.status.idle": "2024-09-18T07:34:37.691983Z",
     "shell.execute_reply": "2024-09-18T07:34:37.691521Z",
     "shell.execute_reply.started": "2024-09-18T07:34:37.367994Z"
    }
   },
   "outputs": [
    {
     "data": {
      "text/plain": [
       "(269, 149731)"
      ]
     },
     "execution_count": 9,
     "metadata": {},
     "output_type": "execute_result"
    }
   ],
   "source": [
    "df = pd.read_csv(f'{dataset_path}/train.csv')\n",
    "#df = df.drop(columns='Time')\n",
    "target_col = 'IsFraud'\n",
    "df[target_col] = df[target_col].astype(str)\n",
    "feat_cols = df.columns.to_list()\n",
    "feat_cols.remove('id')\n",
    "feat_cols.remove(target_col)\n",
    "IsFraud_count, Not_IsFraud_count = df[target_col].value_counts()['1'], df[target_col].value_counts()['0']\n",
    "IsFraud_count, Not_IsFraud_count"
   ]
  },
  {
   "cell_type": "code",
   "execution_count": null,
   "metadata": {},
   "outputs": [],
   "source": [
    "RandomForestClassifier?"
   ]
  },
  {
   "cell_type": "code",
   "execution_count": null,
   "metadata": {},
   "outputs": [],
   "source": [
    "HalvingGridSearchCV?"
   ]
  },
  {
   "cell_type": "code",
   "execution_count": 10,
   "metadata": {
    "execution": {
     "iopub.execute_input": "2024-09-18T01:40:39.538003Z",
     "iopub.status.busy": "2024-09-18T01:40:39.537385Z",
     "iopub.status.idle": "2024-09-18T01:47:18.588050Z",
     "shell.execute_reply": "2024-09-18T01:47:18.587571Z",
     "shell.execute_reply.started": "2024-09-18T01:40:39.537989Z"
    }
   },
   "outputs": [
    {
     "data": {
      "text/plain": [
       "{'criterion': 'entropy',\n",
       " 'max_depth': 3,\n",
       " 'max_features': 'log2',\n",
       " 'min_samples_split': 3,\n",
       " 'n_estimators': 486}"
      ]
     },
     "execution_count": 10,
     "metadata": {},
     "output_type": "execute_result"
    }
   ],
   "source": [
    "X, y = df[feat_cols].to_numpy(), df[target_col].to_numpy()\n",
    "clf = RandomForestClassifier(random_state=0)\n",
    "param_grid = {\n",
    "    \"max_depth\": [2, 3, 4],\n",
    "    \"min_samples_split\": [3],\n",
    "    \"max_features\" : [\"sqrt\", \"log2\", None],\n",
    "    \"criterion\" : [\"gini\", \"entropy\", \"log_loss\"]\n",
    "}\n",
    "search = HalvingGridSearchCV(clf, param_grid, resource='n_estimators', max_resources=512, random_state=0, n_jobs=12).fit(X, y)\n",
    "search.best_params_  "
   ]
  },
  {
   "cell_type": "code",
   "execution_count": 10,
   "metadata": {
    "execution": {
     "iopub.execute_input": "2024-09-18T07:34:56.137664Z",
     "iopub.status.busy": "2024-09-18T07:34:56.137449Z",
     "iopub.status.idle": "2024-09-18T07:58:32.252772Z",
     "shell.execute_reply": "2024-09-18T07:58:32.252367Z",
     "shell.execute_reply.started": "2024-09-18T07:34:56.137652Z"
    }
   },
   "outputs": [
    {
     "data": {
      "text/plain": [
       "{'criterion': 'friedman_mse',\n",
       " 'loss': 'exponential',\n",
       " 'max_depth': 2,\n",
       " 'max_features': 'log2',\n",
       " 'min_samples_split': 2,\n",
       " 'n_estimators': 486}"
      ]
     },
     "execution_count": 10,
     "metadata": {},
     "output_type": "execute_result"
    }
   ],
   "source": [
    "X, y = df[feat_cols].to_numpy(), df[target_col].to_numpy()\n",
    "clf = GradientBoostingClassifier(random_state=0)\n",
    "param_grid = {\n",
    "    \"loss\": ['log_loss', 'exponential'],\n",
    "    \"min_samples_split\": [2, 3],\n",
    "    \"max_depth\": [2, 3, 4],\n",
    "    \"max_features\" : [\"sqrt\", \"log2\", None],\n",
    "    \"criterion\" : [\"friedman_mse\", \"squared_error\"]\n",
    "}\n",
    "search = HalvingGridSearchCV(clf, param_grid, resource='n_estimators', max_resources=512, random_state=0, n_jobs=12).fit(X, y)\n",
    "search.best_params_  "
   ]
  },
  {
   "cell_type": "code",
   "execution_count": null,
   "metadata": {},
   "outputs": [],
   "source": [
    "DecisionTreeClassifier?"
   ]
  },
  {
   "cell_type": "code",
   "execution_count": 25,
   "metadata": {
    "execution": {
     "iopub.execute_input": "2024-09-18T01:51:16.804250Z",
     "iopub.status.busy": "2024-09-18T01:51:16.803699Z",
     "iopub.status.idle": "2024-09-18T02:01:25.619948Z",
     "shell.execute_reply": "2024-09-18T02:01:25.619414Z",
     "shell.execute_reply.started": "2024-09-18T01:51:16.804216Z"
    }
   },
   "outputs": [
    {
     "data": {
      "text/plain": [
       "{'estimator': DecisionTreeClassifier(max_depth=3, max_features='sqrt', min_samples_split=3,\n",
       "                        random_state=0),\n",
       " 'n_estimators': 510}"
      ]
     },
     "execution_count": 25,
     "metadata": {},
     "output_type": "execute_result"
    }
   ],
   "source": [
    "X, y = df[feat_cols].to_numpy(), df[target_col].to_numpy()\n",
    "clf = AdaBoostClassifier(random_state=0)\n",
    "estimator1 = DecisionTreeClassifier(criterion= 'entropy', max_depth= 3, max_features= 'log2', min_samples_split=3, random_state=0)\n",
    "estimator2 = DecisionTreeClassifier(criterion= 'gini', max_depth= 3, max_features= 'log2', min_samples_split=3, random_state=0)\n",
    "estimator3 = DecisionTreeClassifier(criterion= 'entropy', max_depth= 3, max_features= 'sqrt', min_samples_split=3, random_state=0)\n",
    "estimator4 = DecisionTreeClassifier(criterion= 'gini', max_depth= 3, max_features= 'sqrt', min_samples_split=3, random_state=0)\n",
    "param_grid = {\n",
    "    \"estimator\": [estimator1, estimator2, estimator3, estimator4],\n",
    "}\n",
    "search = HalvingGridSearchCV(clf, param_grid, resource='n_estimators', max_resources=512, random_state=0, n_jobs=12).fit(X, y)\n",
    "search.best_params_  "
   ]
  },
  {
   "cell_type": "code",
   "execution_count": null,
   "metadata": {},
   "outputs": [],
   "source": [
    "search.best_score_"
   ]
  },
  {
   "cell_type": "code",
   "execution_count": 11,
   "metadata": {
    "execution": {
     "iopub.execute_input": "2024-09-18T07:58:32.253986Z",
     "iopub.status.busy": "2024-09-18T07:58:32.253577Z",
     "iopub.status.idle": "2024-09-18T07:58:32.256025Z",
     "shell.execute_reply": "2024-09-18T07:58:32.255784Z",
     "shell.execute_reply.started": "2024-09-18T07:58:32.253972Z"
    }
   },
   "outputs": [],
   "source": [
    "cls = search.best_estimator_"
   ]
  },
  {
   "cell_type": "code",
   "execution_count": null,
   "metadata": {},
   "outputs": [],
   "source": [
    "search.cv_results_"
   ]
  },
  {
   "cell_type": "markdown",
   "metadata": {},
   "source": [
    "# Generate the submission file"
   ]
  },
  {
   "cell_type": "code",
   "execution_count": 12,
   "metadata": {
    "execution": {
     "iopub.execute_input": "2024-09-18T07:58:32.256439Z",
     "iopub.status.busy": "2024-09-18T07:58:32.256355Z",
     "iopub.status.idle": "2024-09-18T07:58:32.438805Z",
     "shell.execute_reply": "2024-09-18T07:58:32.438243Z",
     "shell.execute_reply.started": "2024-09-18T07:58:32.256432Z"
    }
   },
   "outputs": [
    {
     "data": {
      "text/html": [
       "<div>\n",
       "<style scoped>\n",
       "    .dataframe tbody tr th:only-of-type {\n",
       "        vertical-align: middle;\n",
       "    }\n",
       "\n",
       "    .dataframe tbody tr th {\n",
       "        vertical-align: top;\n",
       "    }\n",
       "\n",
       "    .dataframe thead th {\n",
       "        text-align: right;\n",
       "    }\n",
       "</style>\n",
       "<table border=\"1\" class=\"dataframe\">\n",
       "  <thead>\n",
       "    <tr style=\"text-align: right;\">\n",
       "      <th></th>\n",
       "      <th>id</th>\n",
       "      <th>Time</th>\n",
       "      <th>feat1</th>\n",
       "      <th>feat2</th>\n",
       "      <th>feat3</th>\n",
       "      <th>feat4</th>\n",
       "      <th>feat5</th>\n",
       "      <th>feat6</th>\n",
       "      <th>feat7</th>\n",
       "      <th>feat8</th>\n",
       "      <th>...</th>\n",
       "      <th>feat20</th>\n",
       "      <th>feat21</th>\n",
       "      <th>feat22</th>\n",
       "      <th>feat23</th>\n",
       "      <th>feat24</th>\n",
       "      <th>feat25</th>\n",
       "      <th>feat26</th>\n",
       "      <th>feat27</th>\n",
       "      <th>feat28</th>\n",
       "      <th>Transaction_Amount</th>\n",
       "    </tr>\n",
       "  </thead>\n",
       "  <tbody>\n",
       "    <tr>\n",
       "      <th>0</th>\n",
       "      <td>150000</td>\n",
       "      <td>73899</td>\n",
       "      <td>-0.681234</td>\n",
       "      <td>-0.371212</td>\n",
       "      <td>0.385966</td>\n",
       "      <td>0.955703</td>\n",
       "      <td>2.064078</td>\n",
       "      <td>0.338827</td>\n",
       "      <td>-0.539452</td>\n",
       "      <td>-0.254046</td>\n",
       "      <td>...</td>\n",
       "      <td>0.183560</td>\n",
       "      <td>-0.253324</td>\n",
       "      <td>0.266668</td>\n",
       "      <td>-0.153829</td>\n",
       "      <td>0.455969</td>\n",
       "      <td>-0.503628</td>\n",
       "      <td>0.257588</td>\n",
       "      <td>-0.456685</td>\n",
       "      <td>-0.298919</td>\n",
       "      <td>30.42</td>\n",
       "    </tr>\n",
       "    <tr>\n",
       "      <th>1</th>\n",
       "      <td>150001</td>\n",
       "      <td>73899</td>\n",
       "      <td>-1.098947</td>\n",
       "      <td>-0.959377</td>\n",
       "      <td>0.324934</td>\n",
       "      <td>0.703908</td>\n",
       "      <td>1.090582</td>\n",
       "      <td>-1.595909</td>\n",
       "      <td>0.584548</td>\n",
       "      <td>0.260069</td>\n",
       "      <td>...</td>\n",
       "      <td>0.334764</td>\n",
       "      <td>0.130108</td>\n",
       "      <td>0.676928</td>\n",
       "      <td>-0.161070</td>\n",
       "      <td>-0.638011</td>\n",
       "      <td>-0.273424</td>\n",
       "      <td>0.711132</td>\n",
       "      <td>0.349967</td>\n",
       "      <td>0.141233</td>\n",
       "      <td>23.00</td>\n",
       "    </tr>\n",
       "    <tr>\n",
       "      <th>2</th>\n",
       "      <td>150002</td>\n",
       "      <td>73899</td>\n",
       "      <td>0.977029</td>\n",
       "      <td>-0.270984</td>\n",
       "      <td>0.471526</td>\n",
       "      <td>-1.232570</td>\n",
       "      <td>0.957537</td>\n",
       "      <td>-0.636602</td>\n",
       "      <td>-0.953060</td>\n",
       "      <td>-1.491744</td>\n",
       "      <td>...</td>\n",
       "      <td>0.355728</td>\n",
       "      <td>0.517912</td>\n",
       "      <td>1.175087</td>\n",
       "      <td>-0.325895</td>\n",
       "      <td>-0.362636</td>\n",
       "      <td>0.306037</td>\n",
       "      <td>0.004828</td>\n",
       "      <td>0.037389</td>\n",
       "      <td>0.058222</td>\n",
       "      <td>198.00</td>\n",
       "    </tr>\n",
       "    <tr>\n",
       "      <th>3</th>\n",
       "      <td>150003</td>\n",
       "      <td>73900</td>\n",
       "      <td>1.176658</td>\n",
       "      <td>-0.225816</td>\n",
       "      <td>-0.246600</td>\n",
       "      <td>0.015513</td>\n",
       "      <td>1.103831</td>\n",
       "      <td>1.229516</td>\n",
       "      <td>-1.527098</td>\n",
       "      <td>-0.459769</td>\n",
       "      <td>...</td>\n",
       "      <td>-0.152613</td>\n",
       "      <td>-0.104600</td>\n",
       "      <td>0.003800</td>\n",
       "      <td>-0.023180</td>\n",
       "      <td>-0.458338</td>\n",
       "      <td>0.481427</td>\n",
       "      <td>-0.381415</td>\n",
       "      <td>0.080165</td>\n",
       "      <td>0.027372</td>\n",
       "      <td>9.99</td>\n",
       "    </tr>\n",
       "    <tr>\n",
       "      <th>4</th>\n",
       "      <td>150004</td>\n",
       "      <td>73900</td>\n",
       "      <td>0.804828</td>\n",
       "      <td>-0.272967</td>\n",
       "      <td>0.959910</td>\n",
       "      <td>-1.117567</td>\n",
       "      <td>0.395748</td>\n",
       "      <td>0.589855</td>\n",
       "      <td>1.059880</td>\n",
       "      <td>-1.101203</td>\n",
       "      <td>...</td>\n",
       "      <td>-0.127818</td>\n",
       "      <td>-0.011849</td>\n",
       "      <td>0.078540</td>\n",
       "      <td>-0.241700</td>\n",
       "      <td>0.010130</td>\n",
       "      <td>0.302614</td>\n",
       "      <td>-0.259568</td>\n",
       "      <td>0.023127</td>\n",
       "      <td>0.056957</td>\n",
       "      <td>239.00</td>\n",
       "    </tr>\n",
       "    <tr>\n",
       "      <th>...</th>\n",
       "      <td>...</td>\n",
       "      <td>...</td>\n",
       "      <td>...</td>\n",
       "      <td>...</td>\n",
       "      <td>...</td>\n",
       "      <td>...</td>\n",
       "      <td>...</td>\n",
       "      <td>...</td>\n",
       "      <td>...</td>\n",
       "      <td>...</td>\n",
       "      <td>...</td>\n",
       "      <td>...</td>\n",
       "      <td>...</td>\n",
       "      <td>...</td>\n",
       "      <td>...</td>\n",
       "      <td>...</td>\n",
       "      <td>...</td>\n",
       "      <td>...</td>\n",
       "      <td>...</td>\n",
       "      <td>...</td>\n",
       "      <td>...</td>\n",
       "    </tr>\n",
       "    <tr>\n",
       "      <th>69124</th>\n",
       "      <td>219124</td>\n",
       "      <td>120580</td>\n",
       "      <td>1.891079</td>\n",
       "      <td>-0.041423</td>\n",
       "      <td>0.858158</td>\n",
       "      <td>-1.272908</td>\n",
       "      <td>-3.783908</td>\n",
       "      <td>-1.388939</td>\n",
       "      <td>-0.280639</td>\n",
       "      <td>2.012789</td>\n",
       "      <td>...</td>\n",
       "      <td>-0.195703</td>\n",
       "      <td>-0.181369</td>\n",
       "      <td>-0.456538</td>\n",
       "      <td>-0.069571</td>\n",
       "      <td>0.756765</td>\n",
       "      <td>0.244479</td>\n",
       "      <td>-0.147566</td>\n",
       "      <td>-0.054725</td>\n",
       "      <td>-0.044588</td>\n",
       "      <td>198.65</td>\n",
       "    </tr>\n",
       "    <tr>\n",
       "      <th>69125</th>\n",
       "      <td>219125</td>\n",
       "      <td>120580</td>\n",
       "      <td>0.139724</td>\n",
       "      <td>-0.917395</td>\n",
       "      <td>-0.257933</td>\n",
       "      <td>0.948649</td>\n",
       "      <td>-2.913655</td>\n",
       "      <td>-2.184829</td>\n",
       "      <td>-0.457534</td>\n",
       "      <td>1.883716</td>\n",
       "      <td>...</td>\n",
       "      <td>-0.116538</td>\n",
       "      <td>0.491469</td>\n",
       "      <td>1.478823</td>\n",
       "      <td>-0.085398</td>\n",
       "      <td>-0.091409</td>\n",
       "      <td>-1.053488</td>\n",
       "      <td>0.467570</td>\n",
       "      <td>0.358918</td>\n",
       "      <td>0.294735</td>\n",
       "      <td>24.00</td>\n",
       "    </tr>\n",
       "    <tr>\n",
       "      <th>69126</th>\n",
       "      <td>219126</td>\n",
       "      <td>120580</td>\n",
       "      <td>2.058343</td>\n",
       "      <td>0.391801</td>\n",
       "      <td>-0.136498</td>\n",
       "      <td>-0.038993</td>\n",
       "      <td>-1.928553</td>\n",
       "      <td>0.330117</td>\n",
       "      <td>0.179926</td>\n",
       "      <td>0.270127</td>\n",
       "      <td>...</td>\n",
       "      <td>-0.384830</td>\n",
       "      <td>-0.306640</td>\n",
       "      <td>-0.965783</td>\n",
       "      <td>0.307799</td>\n",
       "      <td>-0.021434</td>\n",
       "      <td>-0.343989</td>\n",
       "      <td>0.181065</td>\n",
       "      <td>-0.098387</td>\n",
       "      <td>-0.044064</td>\n",
       "      <td>1.79</td>\n",
       "    </tr>\n",
       "    <tr>\n",
       "      <th>69127</th>\n",
       "      <td>219127</td>\n",
       "      <td>120580</td>\n",
       "      <td>2.079227</td>\n",
       "      <td>0.301966</td>\n",
       "      <td>1.536193</td>\n",
       "      <td>-2.162389</td>\n",
       "      <td>-1.785833</td>\n",
       "      <td>-2.804889</td>\n",
       "      <td>-0.058879</td>\n",
       "      <td>0.552845</td>\n",
       "      <td>...</td>\n",
       "      <td>-0.190984</td>\n",
       "      <td>0.109909</td>\n",
       "      <td>0.590401</td>\n",
       "      <td>0.286621</td>\n",
       "      <td>0.675660</td>\n",
       "      <td>-0.510736</td>\n",
       "      <td>-0.090044</td>\n",
       "      <td>0.056749</td>\n",
       "      <td>-0.017126</td>\n",
       "      <td>88.00</td>\n",
       "    </tr>\n",
       "    <tr>\n",
       "      <th>69128</th>\n",
       "      <td>219128</td>\n",
       "      <td>120580</td>\n",
       "      <td>-0.431758</td>\n",
       "      <td>-0.640176</td>\n",
       "      <td>-0.049454</td>\n",
       "      <td>1.299171</td>\n",
       "      <td>-0.571602</td>\n",
       "      <td>-1.161499</td>\n",
       "      <td>1.374548</td>\n",
       "      <td>1.141765</td>\n",
       "      <td>...</td>\n",
       "      <td>0.058133</td>\n",
       "      <td>0.225629</td>\n",
       "      <td>0.988442</td>\n",
       "      <td>-0.224609</td>\n",
       "      <td>0.082977</td>\n",
       "      <td>-0.335529</td>\n",
       "      <td>0.042237</td>\n",
       "      <td>0.304965</td>\n",
       "      <td>0.240049</td>\n",
       "      <td>3.78</td>\n",
       "    </tr>\n",
       "  </tbody>\n",
       "</table>\n",
       "<p>69129 rows × 31 columns</p>\n",
       "</div>"
      ],
      "text/plain": [
       "           id    Time     feat1     feat2     feat3     feat4     feat5  \\\n",
       "0      150000   73899 -0.681234 -0.371212  0.385966  0.955703  2.064078   \n",
       "1      150001   73899 -1.098947 -0.959377  0.324934  0.703908  1.090582   \n",
       "2      150002   73899  0.977029 -0.270984  0.471526 -1.232570  0.957537   \n",
       "3      150003   73900  1.176658 -0.225816 -0.246600  0.015513  1.103831   \n",
       "4      150004   73900  0.804828 -0.272967  0.959910 -1.117567  0.395748   \n",
       "...       ...     ...       ...       ...       ...       ...       ...   \n",
       "69124  219124  120580  1.891079 -0.041423  0.858158 -1.272908 -3.783908   \n",
       "69125  219125  120580  0.139724 -0.917395 -0.257933  0.948649 -2.913655   \n",
       "69126  219126  120580  2.058343  0.391801 -0.136498 -0.038993 -1.928553   \n",
       "69127  219127  120580  2.079227  0.301966  1.536193 -2.162389 -1.785833   \n",
       "69128  219128  120580 -0.431758 -0.640176 -0.049454  1.299171 -0.571602   \n",
       "\n",
       "          feat6     feat7     feat8  ...    feat20    feat21    feat22  \\\n",
       "0      0.338827 -0.539452 -0.254046  ...  0.183560 -0.253324  0.266668   \n",
       "1     -1.595909  0.584548  0.260069  ...  0.334764  0.130108  0.676928   \n",
       "2     -0.636602 -0.953060 -1.491744  ...  0.355728  0.517912  1.175087   \n",
       "3      1.229516 -1.527098 -0.459769  ... -0.152613 -0.104600  0.003800   \n",
       "4      0.589855  1.059880 -1.101203  ... -0.127818 -0.011849  0.078540   \n",
       "...         ...       ...       ...  ...       ...       ...       ...   \n",
       "69124 -1.388939 -0.280639  2.012789  ... -0.195703 -0.181369 -0.456538   \n",
       "69125 -2.184829 -0.457534  1.883716  ... -0.116538  0.491469  1.478823   \n",
       "69126  0.330117  0.179926  0.270127  ... -0.384830 -0.306640 -0.965783   \n",
       "69127 -2.804889 -0.058879  0.552845  ... -0.190984  0.109909  0.590401   \n",
       "69128 -1.161499  1.374548  1.141765  ...  0.058133  0.225629  0.988442   \n",
       "\n",
       "         feat23    feat24    feat25    feat26    feat27    feat28  \\\n",
       "0     -0.153829  0.455969 -0.503628  0.257588 -0.456685 -0.298919   \n",
       "1     -0.161070 -0.638011 -0.273424  0.711132  0.349967  0.141233   \n",
       "2     -0.325895 -0.362636  0.306037  0.004828  0.037389  0.058222   \n",
       "3     -0.023180 -0.458338  0.481427 -0.381415  0.080165  0.027372   \n",
       "4     -0.241700  0.010130  0.302614 -0.259568  0.023127  0.056957   \n",
       "...         ...       ...       ...       ...       ...       ...   \n",
       "69124 -0.069571  0.756765  0.244479 -0.147566 -0.054725 -0.044588   \n",
       "69125 -0.085398 -0.091409 -1.053488  0.467570  0.358918  0.294735   \n",
       "69126  0.307799 -0.021434 -0.343989  0.181065 -0.098387 -0.044064   \n",
       "69127  0.286621  0.675660 -0.510736 -0.090044  0.056749 -0.017126   \n",
       "69128 -0.224609  0.082977 -0.335529  0.042237  0.304965  0.240049   \n",
       "\n",
       "       Transaction_Amount  \n",
       "0                   30.42  \n",
       "1                   23.00  \n",
       "2                  198.00  \n",
       "3                    9.99  \n",
       "4                  239.00  \n",
       "...                   ...  \n",
       "69124              198.65  \n",
       "69125               24.00  \n",
       "69126                1.79  \n",
       "69127               88.00  \n",
       "69128                3.78  \n",
       "\n",
       "[69129 rows x 31 columns]"
      ]
     },
     "execution_count": 12,
     "metadata": {},
     "output_type": "execute_result"
    }
   ],
   "source": [
    "df_test = pd.read_csv(f'{dataset_path}/test.csv')\n",
    "df_test"
   ]
  },
  {
   "cell_type": "code",
   "execution_count": 13,
   "metadata": {
    "execution": {
     "iopub.execute_input": "2024-09-18T07:58:32.439616Z",
     "iopub.status.busy": "2024-09-18T07:58:32.439520Z",
     "iopub.status.idle": "2024-09-18T07:58:32.446383Z",
     "shell.execute_reply": "2024-09-18T07:58:32.446026Z",
     "shell.execute_reply.started": "2024-09-18T07:58:32.439606Z"
    }
   },
   "outputs": [],
   "source": [
    "df_id = df_test['id'].to_frame()\n",
    "df_test = df_test.drop(columns=['id'])"
   ]
  },
  {
   "cell_type": "code",
   "execution_count": 14,
   "metadata": {
    "execution": {
     "iopub.execute_input": "2024-09-18T07:58:32.447046Z",
     "iopub.status.busy": "2024-09-18T07:58:32.446870Z",
     "iopub.status.idle": "2024-09-18T07:58:32.758803Z",
     "shell.execute_reply": "2024-09-18T07:58:32.758197Z",
     "shell.execute_reply.started": "2024-09-18T07:58:32.447033Z"
    }
   },
   "outputs": [],
   "source": [
    "y_pred_class = cls.predict(df_test.to_numpy())\n",
    "y_pred_proba = cls.predict_proba(df_test.to_numpy())"
   ]
  },
  {
   "cell_type": "code",
   "execution_count": 15,
   "metadata": {
    "execution": {
     "iopub.execute_input": "2024-09-18T07:58:32.759362Z",
     "iopub.status.busy": "2024-09-18T07:58:32.759274Z",
     "iopub.status.idle": "2024-09-18T07:58:32.763417Z",
     "shell.execute_reply": "2024-09-18T07:58:32.762890Z",
     "shell.execute_reply.started": "2024-09-18T07:58:32.759354Z"
    }
   },
   "outputs": [
    {
     "data": {
      "text/plain": [
       "(array([[9.99427077e-01, 5.72922940e-04],\n",
       "        [9.99581177e-01, 4.18822662e-04],\n",
       "        [9.99556557e-01, 4.43443086e-04]]),\n",
       " array(['0', '0', '0'], dtype=object))"
      ]
     },
     "execution_count": 15,
     "metadata": {},
     "output_type": "execute_result"
    }
   ],
   "source": [
    "y_pred_proba[:3], y_pred_class[:3]"
   ]
  },
  {
   "cell_type": "code",
   "execution_count": 16,
   "metadata": {
    "execution": {
     "iopub.execute_input": "2024-09-18T07:58:32.763880Z",
     "iopub.status.busy": "2024-09-18T07:58:32.763765Z",
     "iopub.status.idle": "2024-09-18T07:58:32.779247Z",
     "shell.execute_reply": "2024-09-18T07:58:32.778742Z",
     "shell.execute_reply.started": "2024-09-18T07:58:32.763870Z"
    }
   },
   "outputs": [],
   "source": [
    "fraud_proba = [x[1] for x in y_pred_proba]"
   ]
  },
  {
   "cell_type": "code",
   "execution_count": 17,
   "metadata": {
    "execution": {
     "iopub.execute_input": "2024-09-18T07:58:32.779821Z",
     "iopub.status.busy": "2024-09-18T07:58:32.779711Z",
     "iopub.status.idle": "2024-09-18T07:58:33.003525Z",
     "shell.execute_reply": "2024-09-18T07:58:33.002638Z",
     "shell.execute_reply.started": "2024-09-18T07:58:32.779812Z"
    }
   },
   "outputs": [
    {
     "name": "stdout",
     "output_type": "stream",
     "text": [
      "id,IsFraud\n",
      "150000,0.5\n",
      "150001,0.5\n",
      "150002,0.5\n",
      "150003,0.5\n",
      "150004,0.5\n",
      "150005,0.5\n",
      "150006,0.5\n",
      "150007,0.5\n",
      "150008,0.5\n"
     ]
    }
   ],
   "source": [
    "!head $dataset_path/sample_submission.csv"
   ]
  },
  {
   "cell_type": "code",
   "execution_count": 18,
   "metadata": {
    "execution": {
     "iopub.execute_input": "2024-09-18T07:58:33.004618Z",
     "iopub.status.busy": "2024-09-18T07:58:33.004391Z",
     "iopub.status.idle": "2024-09-18T07:58:33.018208Z",
     "shell.execute_reply": "2024-09-18T07:58:33.017517Z",
     "shell.execute_reply.started": "2024-09-18T07:58:33.004602Z"
    }
   },
   "outputs": [
    {
     "data": {
      "text/html": [
       "<div>\n",
       "<style scoped>\n",
       "    .dataframe tbody tr th:only-of-type {\n",
       "        vertical-align: middle;\n",
       "    }\n",
       "\n",
       "    .dataframe tbody tr th {\n",
       "        vertical-align: top;\n",
       "    }\n",
       "\n",
       "    .dataframe thead th {\n",
       "        text-align: right;\n",
       "    }\n",
       "</style>\n",
       "<table border=\"1\" class=\"dataframe\">\n",
       "  <thead>\n",
       "    <tr style=\"text-align: right;\">\n",
       "      <th></th>\n",
       "      <th>id</th>\n",
       "      <th>IsFraud</th>\n",
       "    </tr>\n",
       "  </thead>\n",
       "  <tbody>\n",
       "    <tr>\n",
       "      <th>0</th>\n",
       "      <td>150000</td>\n",
       "      <td>0.000573</td>\n",
       "    </tr>\n",
       "    <tr>\n",
       "      <th>1</th>\n",
       "      <td>150001</td>\n",
       "      <td>0.000419</td>\n",
       "    </tr>\n",
       "    <tr>\n",
       "      <th>2</th>\n",
       "      <td>150002</td>\n",
       "      <td>0.000443</td>\n",
       "    </tr>\n",
       "    <tr>\n",
       "      <th>3</th>\n",
       "      <td>150003</td>\n",
       "      <td>0.000537</td>\n",
       "    </tr>\n",
       "    <tr>\n",
       "      <th>4</th>\n",
       "      <td>150004</td>\n",
       "      <td>0.001963</td>\n",
       "    </tr>\n",
       "    <tr>\n",
       "      <th>...</th>\n",
       "      <td>...</td>\n",
       "      <td>...</td>\n",
       "    </tr>\n",
       "    <tr>\n",
       "      <th>69124</th>\n",
       "      <td>219124</td>\n",
       "      <td>0.001198</td>\n",
       "    </tr>\n",
       "    <tr>\n",
       "      <th>69125</th>\n",
       "      <td>219125</td>\n",
       "      <td>0.002203</td>\n",
       "    </tr>\n",
       "    <tr>\n",
       "      <th>69126</th>\n",
       "      <td>219126</td>\n",
       "      <td>0.001915</td>\n",
       "    </tr>\n",
       "    <tr>\n",
       "      <th>69127</th>\n",
       "      <td>219127</td>\n",
       "      <td>0.001256</td>\n",
       "    </tr>\n",
       "    <tr>\n",
       "      <th>69128</th>\n",
       "      <td>219128</td>\n",
       "      <td>0.000433</td>\n",
       "    </tr>\n",
       "  </tbody>\n",
       "</table>\n",
       "<p>69129 rows × 2 columns</p>\n",
       "</div>"
      ],
      "text/plain": [
       "           id   IsFraud\n",
       "0      150000  0.000573\n",
       "1      150001  0.000419\n",
       "2      150002  0.000443\n",
       "3      150003  0.000537\n",
       "4      150004  0.001963\n",
       "...       ...       ...\n",
       "69124  219124  0.001198\n",
       "69125  219125  0.002203\n",
       "69126  219126  0.001915\n",
       "69127  219127  0.001256\n",
       "69128  219128  0.000433\n",
       "\n",
       "[69129 rows x 2 columns]"
      ]
     },
     "execution_count": 18,
     "metadata": {},
     "output_type": "execute_result"
    }
   ],
   "source": [
    "#df_id['IsFraud'] = y_pred_soft\n",
    "df_id['IsFraud'] = fraud_proba\n",
    "df_id"
   ]
  },
  {
   "cell_type": "code",
   "execution_count": 19,
   "metadata": {
    "execution": {
     "iopub.execute_input": "2024-09-18T07:58:33.019587Z",
     "iopub.status.busy": "2024-09-18T07:58:33.019413Z",
     "iopub.status.idle": "2024-09-18T07:58:33.091270Z",
     "shell.execute_reply": "2024-09-18T07:58:33.090996Z",
     "shell.execute_reply.started": "2024-09-18T07:58:33.019575Z"
    }
   },
   "outputs": [],
   "source": [
    "df_id.to_csv(f'{dataset_path}/submission_sklearn_exp3_proba1.csv', index=False)"
   ]
  },
  {
   "cell_type": "code",
   "execution_count": null,
   "metadata": {},
   "outputs": [],
   "source": [
    "!head $dataset_path/submission_exp2_trans_t2.csv"
   ]
  },
  {
   "cell_type": "code",
   "execution_count": 20,
   "metadata": {
    "execution": {
     "iopub.execute_input": "2024-09-18T07:58:33.217667Z",
     "iopub.status.busy": "2024-09-18T07:58:33.217529Z",
     "iopub.status.idle": "2024-09-18T07:58:33.433751Z",
     "shell.execute_reply": "2024-09-18T07:58:33.433131Z",
     "shell.execute_reply.started": "2024-09-18T07:58:33.217654Z"
    }
   },
   "outputs": [
    {
     "name": "stdout",
     "output_type": "stream",
     "text": [
      "mv: cannot stat '/work/do': No such file or directory\n"
     ]
    }
   ],
   "source": [
    "!mv /work/do /work/yes.do ||touch /work/yes"
   ]
  },
  {
   "cell_type": "markdown",
   "metadata": {},
   "source": [
    "# Kagle results"
   ]
  },
  {
   "cell_type": "markdown",
   "metadata": {
    "execution": {
     "iopub.execute_input": "2024-09-15T18:32:42.677358Z",
     "iopub.status.busy": "2024-09-15T18:32:42.677059Z",
     "iopub.status.idle": "2024-09-15T18:32:42.681390Z",
     "shell.execute_reply": "2024-09-15T18:32:42.680863Z",
     "shell.execute_reply.started": "2024-09-15T18:32:42.677337Z"
    }
   },
   "source": [
    "## Exp1:\n",
    "\n",
    "Private Score: `0.53218`  (1st: `0.80611`)  \n",
    "Public Score: `0.59206`  (1st: `0.83947`)  \n",
    "\n",
    "## Exp2:\n",
    "Private Score: `0.54502`  \n",
    "Public score: `0.56385`  "
   ]
  },
  {
   "cell_type": "code",
   "execution_count": null,
   "metadata": {},
   "outputs": [],
   "source": []
  }
 ],
 "metadata": {
  "kernelspec": {
   "display_name": "Python 3 (ipykernel)",
   "language": "python",
   "name": "python3"
  },
  "language_info": {
   "codemirror_mode": {
    "name": "ipython",
    "version": 3
   },
   "file_extension": ".py",
   "mimetype": "text/x-python",
   "name": "python",
   "nbconvert_exporter": "python",
   "pygments_lexer": "ipython3",
   "version": "3.11.10"
  }
 },
 "nbformat": 4,
 "nbformat_minor": 4
}
