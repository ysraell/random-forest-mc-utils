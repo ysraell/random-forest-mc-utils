{
 "cells": [
  {
   "cell_type": "markdown",
   "metadata": {},
   "source": [
    "# Tuning \n",
    "\n",
    "- Author: Israel Oliveira [\\[e-mail\\]](mailto:'Israel%20Oliveira%20'<prof.israel@gmail.com>)"
   ]
  },
  {
   "cell_type": "code",
   "execution_count": 1,
   "metadata": {
    "execution": {
     "iopub.execute_input": "2024-09-17T14:19:00.019002Z",
     "iopub.status.busy": "2024-09-17T14:19:00.018493Z",
     "iopub.status.idle": "2024-09-17T14:19:00.028634Z",
     "shell.execute_reply": "2024-09-17T14:19:00.028347Z",
     "shell.execute_reply.started": "2024-09-17T14:19:00.018961Z"
    }
   },
   "outputs": [],
   "source": [
    "%load_ext watermark"
   ]
  },
  {
   "cell_type": "code",
   "execution_count": 2,
   "metadata": {
    "execution": {
     "iopub.execute_input": "2024-09-17T14:19:00.161201Z",
     "iopub.status.busy": "2024-09-17T14:19:00.160518Z",
     "iopub.status.idle": "2024-09-17T14:19:00.744783Z",
     "shell.execute_reply": "2024-09-17T14:19:00.744392Z",
     "shell.execute_reply.started": "2024-09-17T14:19:00.161156Z"
    }
   },
   "outputs": [],
   "source": [
    "import pandas as pd\n",
    "import numpy as np\n",
    "from random_forest_mc.model import RandomForestMC\n",
    "from random_forest_mc.utils import LoadDicts, dump_file_json, load_file_json\n",
    "from tqdm.notebook import tqdm\n",
    "from datetime import datetime\n",
    "from collections import Counter, defaultdict\n",
    "from glob import glob\n",
    "from sklearn.metrics import accuracy_score, f1_score, confusion_matrix\n",
    "import matplotlib "
   ]
  },
  {
   "cell_type": "code",
   "execution_count": 25,
   "metadata": {
    "execution": {
     "iopub.execute_input": "2024-09-17T19:08:30.244415Z",
     "iopub.status.busy": "2024-09-17T19:08:30.244092Z",
     "iopub.status.idle": "2024-09-17T19:08:30.251536Z",
     "shell.execute_reply": "2024-09-17T19:08:30.250416Z",
     "shell.execute_reply.started": "2024-09-17T19:08:30.244401Z"
    }
   },
   "outputs": [],
   "source": [
    "import matplotlib.pyplot as plt\n",
    "%matplotlib inline\n",
    "from matplotlib import rcParams\n",
    "from cycler import cycler\n",
    "\n",
    "rcParams['figure.figsize'] = 6, 2 # 18, 5\n",
    "rcParams['axes.spines.top'] = False\n",
    "rcParams['axes.spines.right'] = False\n",
    "rcParams['axes.grid'] = True\n",
    "rcParams['axes.prop_cycle'] = cycler(color=['#365977'])\n",
    "rcParams['lines.linewidth'] = 2.5"
   ]
  },
  {
   "cell_type": "code",
   "execution_count": 3,
   "metadata": {
    "execution": {
     "iopub.execute_input": "2024-09-17T14:19:00.745452Z",
     "iopub.status.busy": "2024-09-17T14:19:00.745312Z",
     "iopub.status.idle": "2024-09-17T14:19:00.747869Z",
     "shell.execute_reply": "2024-09-17T14:19:00.746962Z",
     "shell.execute_reply.started": "2024-09-17T14:19:00.745442Z"
    }
   },
   "outputs": [],
   "source": [
    "import warnings\n",
    "warnings.filterwarnings('ignore', category=pd.errors.SettingWithCopyWarning)"
   ]
  },
  {
   "cell_type": "code",
   "execution_count": 4,
   "metadata": {
    "execution": {
     "iopub.execute_input": "2024-09-17T14:19:00.748476Z",
     "iopub.status.busy": "2024-09-17T14:19:00.748233Z",
     "iopub.status.idle": "2024-09-17T14:19:00.756942Z",
     "shell.execute_reply": "2024-09-17T14:19:00.756543Z",
     "shell.execute_reply.started": "2024-09-17T14:19:00.748465Z"
    }
   },
   "outputs": [],
   "source": [
    "import functools\n",
    "import operator\n",
    "def flat(a):\n",
    "    return functools.reduce(operator.iconcat, a, [])"
   ]
  },
  {
   "cell_type": "code",
   "execution_count": 5,
   "metadata": {
    "execution": {
     "iopub.execute_input": "2024-09-17T14:19:00.874541Z",
     "iopub.status.busy": "2024-09-17T14:19:00.873202Z",
     "iopub.status.idle": "2024-09-17T14:19:01.336438Z",
     "shell.execute_reply": "2024-09-17T14:19:01.335325Z",
     "shell.execute_reply.started": "2024-09-17T14:19:00.874482Z"
    }
   },
   "outputs": [
    {
     "name": "stdout",
     "output_type": "stream",
     "text": [
      "Python implementation: CPython\n",
      "Python version       : 3.11.10\n",
      "IPython version      : 8.27.0\n",
      "\n",
      "Compiler    : GCC 10.2.1 20210110\n",
      "OS          : Linux\n",
      "Release     : 6.8.0-44-generic\n",
      "Machine     : x86_64\n",
      "Processor   : \n",
      "CPU cores   : 20\n",
      "Architecture: 64bit\n",
      "\n",
      "Git hash: afffba9ffbd19f4c4b696c18f695f73af62368d0\n",
      "\n",
      "Git repo: https://github.com/ysraell/random-forest-mc-utils.git\n",
      "\n",
      "Git branch: main\n",
      "\n",
      "pandas: 2.2.2\n",
      "numpy : 1.26.4\n",
      "\n",
      "CPU\t: 12th Gen Intel(R) Core(TM) i7-12700\n",
      "Mem:            15G\n",
      "Swap:          3.7G\n"
     ]
    }
   ],
   "source": [
    "# Run this cell before close.\n",
    "%watermark -d --iversion -b -r -g -m -v\n",
    "!cat /proc/cpuinfo |grep 'model name'|head -n 1 |sed -e 's/model\\ name/CPU/'\n",
    "!free -h |cut -d'i' -f1  |grep -v total"
   ]
  },
  {
   "cell_type": "code",
   "execution_count": 6,
   "metadata": {
    "execution": {
     "iopub.execute_input": "2024-09-17T14:19:01.338183Z",
     "iopub.status.busy": "2024-09-17T14:19:01.337944Z",
     "iopub.status.idle": "2024-09-17T14:19:01.341852Z",
     "shell.execute_reply": "2024-09-17T14:19:01.341284Z",
     "shell.execute_reply.started": "2024-09-17T14:19:01.338159Z"
    }
   },
   "outputs": [],
   "source": [
    "dataset_path = '/work/tmp/credit-card-fraud-prediction'"
   ]
  },
  {
   "cell_type": "code",
   "execution_count": 7,
   "metadata": {
    "execution": {
     "iopub.execute_input": "2024-09-17T14:19:03.050076Z",
     "iopub.status.busy": "2024-09-17T14:19:03.049565Z",
     "iopub.status.idle": "2024-09-17T14:19:03.271742Z",
     "shell.execute_reply": "2024-09-17T14:19:03.269123Z",
     "shell.execute_reply.started": "2024-09-17T14:19:03.050033Z"
    }
   },
   "outputs": [
    {
     "name": "stdout",
     "output_type": "stream",
     "text": [
      "model_trans2_tuning_8trees_20240917_1307.json\n",
      "model_trans_tuning_16trees_20240917_1313.json\n",
      "model_trans_tuning_16trees_20240917_1353.json\n",
      "model_trans_tuning_32trees_20240917_1322.json\n",
      "model_trans_tuning_32trees_20240917_1416.json\n",
      "model_trans_tuning_8trees_20240917_1339.json\n",
      "sample_submission.csv\n",
      "submission_exp1.csv\n",
      "submission_exp2_trans.csv\n",
      "submission_exp2_trans_t2.csv\n",
      "test.csv\n",
      "test_trans.csv\n",
      "train.csv\n",
      "train_trans.csv\n",
      "trees_metrcis_sim2_20240915_1804.json\n",
      "trees_metrcis_sim_20240915_1425.json\n",
      "trees_trans_metrcis_sim2_20240916_1450.json\n",
      "trees_trans_metrcis_sim_20240916_0327.json\n"
     ]
    }
   ],
   "source": [
    "!ls $dataset_path"
   ]
  },
  {
   "cell_type": "code",
   "execution_count": 128,
   "metadata": {
    "execution": {
     "iopub.execute_input": "2024-09-18T01:47:30.678266Z",
     "iopub.status.busy": "2024-09-18T01:47:30.677731Z",
     "iopub.status.idle": "2024-09-18T01:47:31.097247Z",
     "shell.execute_reply": "2024-09-18T01:47:31.096729Z",
     "shell.execute_reply.started": "2024-09-18T01:47:30.678212Z"
    }
   },
   "outputs": [
    {
     "data": {
      "text/plain": [
       "(269, 149731)"
      ]
     },
     "execution_count": 128,
     "metadata": {},
     "output_type": "execute_result"
    }
   ],
   "source": [
    "df = pd.read_csv(f'{dataset_path}/train_trans.csv')\n",
    "#df = df.drop(columns='Time')\n",
    "target_col = 'IsFraud'\n",
    "df[target_col] = df[target_col].astype(str)\n",
    "feat_cols = df.columns.to_list()\n",
    "feat_cols.remove('id')\n",
    "feat_cols.remove(target_col)\n",
    "IsFraud_count, Not_IsFraud_count = df[target_col].value_counts()['1'], df[target_col].value_counts()['0']\n",
    "IsFraud_count, Not_IsFraud_count"
   ]
  },
  {
   "cell_type": "code",
   "execution_count": 9,
   "metadata": {
    "execution": {
     "iopub.execute_input": "2024-09-17T14:19:04.193582Z",
     "iopub.status.busy": "2024-09-17T14:19:04.193029Z",
     "iopub.status.idle": "2024-09-17T14:19:04.201039Z",
     "shell.execute_reply": "2024-09-17T14:19:04.199899Z",
     "shell.execute_reply.started": "2024-09-17T14:19:04.193540Z"
    }
   },
   "outputs": [],
   "source": [
    "split_schema = {\n",
    "    'test': {\n",
    "        '1': 10,\n",
    "        '0': 10000,\n",
    "    },\n",
    "    'train': {\n",
    "        '1': 239,\n",
    "        '0': 50000,\n",
    "    },\n",
    "    'val': {\n",
    "        '1': 20,\n",
    "        '0': 6900,\n",
    "    }\n",
    "}"
   ]
  },
  {
   "cell_type": "code",
   "execution_count": 10,
   "metadata": {
    "execution": {
     "iopub.execute_input": "2024-09-17T14:19:05.129014Z",
     "iopub.status.busy": "2024-09-17T14:19:05.128483Z",
     "iopub.status.idle": "2024-09-17T14:19:05.285050Z",
     "shell.execute_reply": "2024-09-17T14:19:05.284751Z",
     "shell.execute_reply.started": "2024-09-17T14:19:05.128973Z"
    }
   },
   "outputs": [],
   "source": [
    "df_tmp = df.copy()\n",
    "\n",
    "dfs = {}\n",
    "for ds_set in split_schema.keys():\n",
    "    df_set = pd.concat([\n",
    "        df_tmp.query(f'{target_col} == \"{target_val}\"').sample(n=split_schema[ds_set][target_val], random_state=42)\n",
    "        for target_val in ['1', '0']\n",
    "    ])\n",
    "    df_tmp = df_tmp.drop(df_set.index).reset_index(drop=True)\n",
    "    dfs[ds_set] = df_set.reset_index(drop=True)\n",
    "\n",
    "df_tofit = pd.concat([dfs['train'], dfs['val']])"
   ]
  },
  {
   "cell_type": "code",
   "execution_count": 11,
   "metadata": {
    "execution": {
     "iopub.execute_input": "2024-09-17T14:19:08.785769Z",
     "iopub.status.busy": "2024-09-17T14:19:08.785232Z",
     "iopub.status.idle": "2024-09-17T14:19:08.791276Z",
     "shell.execute_reply": "2024-09-17T14:19:08.789697Z",
     "shell.execute_reply.started": "2024-09-17T14:19:08.785729Z"
    }
   },
   "outputs": [
    {
     "data": {
      "text/plain": [
       "(82831, 57159, 10010, 150000)"
      ]
     },
     "execution_count": 11,
     "metadata": {},
     "output_type": "execute_result"
    }
   ],
   "source": [
    "df_tmp.shape[0], df_tofit.shape[0], dfs['test'].shape[0], df_tmp.shape[0] + df_tofit.shape[0] + dfs['test'].shape[0]"
   ]
  },
  {
   "cell_type": "code",
   "execution_count": 113,
   "metadata": {
    "execution": {
     "iopub.execute_input": "2024-09-17T21:43:47.465870Z",
     "iopub.status.busy": "2024-09-17T21:43:47.465626Z",
     "iopub.status.idle": "2024-09-17T21:43:47.471002Z",
     "shell.execute_reply": "2024-09-17T21:43:47.470404Z",
     "shell.execute_reply.started": "2024-09-17T21:43:47.465848Z"
    }
   },
   "outputs": [
    {
     "data": {
      "text/plain": [
       "RandomForestMC(len(Forest)=0,n_trees=256,model_version=1.2.0-dev,module_version=1.2.0-dev)"
      ]
     },
     "execution_count": 113,
     "metadata": {},
     "output_type": "execute_result"
    }
   ],
   "source": [
    "batch_train_pclass = split_schema['train']['1']\n",
    "batch_val_pclass = split_schema['val']['1']\n",
    "max_depth = None\n",
    "n_trees = 256\n",
    "max_discard_trees = 256\n",
    "min_feature = 9\n",
    "max_feature = 10\n",
    "\n",
    "cpu_cores = 8\n",
    "max_workers = 16\n",
    "\n",
    "cls = RandomForestMC(\n",
    "    n_trees=n_trees, \n",
    "    target_col=target_col, \n",
    "    max_discard_trees=max_discard_trees,\n",
    "    batch_train_pclass=batch_train_pclass,\n",
    "    batch_val_pclass=batch_val_pclass,\n",
    "    min_feature=min_feature,\n",
    "    max_feature=max_feature,\n",
    "    max_depth=max_depth\n",
    ")\n",
    "cls"
   ]
  },
  {
   "cell_type": "code",
   "execution_count": 114,
   "metadata": {
    "execution": {
     "iopub.execute_input": "2024-09-17T21:43:50.466209Z",
     "iopub.status.busy": "2024-09-17T21:43:50.465675Z",
     "iopub.status.idle": "2024-09-17T21:43:50.472068Z",
     "shell.execute_reply": "2024-09-17T21:43:50.471642Z",
     "shell.execute_reply.started": "2024-09-17T21:43:50.466167Z"
    }
   },
   "outputs": [],
   "source": [
    "df_test = dfs['test']\n",
    "y_test = df_test[target_col].astype(int).to_list()\n",
    "ppy = lambda x: round(100*x, 6)"
   ]
  },
  {
   "cell_type": "markdown",
   "metadata": {},
   "source": [
    "# Create the model"
   ]
  },
  {
   "cell_type": "code",
   "execution_count": 115,
   "metadata": {
    "execution": {
     "iopub.execute_input": "2024-09-17T21:44:05.105498Z",
     "iopub.status.busy": "2024-09-17T21:44:05.105287Z",
     "iopub.status.idle": "2024-09-18T01:34:36.953427Z",
     "shell.execute_reply": "2024-09-18T01:34:36.952835Z",
     "shell.execute_reply.started": "2024-09-17T21:44:05.105483Z"
    }
   },
   "outputs": [
    {
     "data": {
      "application/vnd.jupyter.widget-view+json": {
       "model_id": "9158f96a133a401b8b9ef25f72e9f674",
       "version_major": 2,
       "version_minor": 0
      },
      "text/plain": [
       "Planting the forest:   0%|          | 0/256 [00:00<?, ?it/s]"
      ]
     },
     "metadata": {},
     "output_type": "display_data"
    }
   ],
   "source": [
    "cls.fitParallel(dataset=df_tofit, max_workers=max_workers)\n",
    "ModelDict = cls.model2dict()\n",
    "datetime_tag = datetime.now().strftime('%Y%m%d_%H%M')\n",
    "path_dict = f'{dataset_path}/model_tuned_{len(cls)}trees_{datetime_tag}.json'\n",
    "dump_file_json(path_dict, ModelDict)\n",
    "del ModelDict"
   ]
  },
  {
   "cell_type": "code",
   "execution_count": 116,
   "metadata": {
    "execution": {
     "iopub.execute_input": "2024-09-18T01:34:36.954159Z",
     "iopub.status.busy": "2024-09-18T01:34:36.954060Z",
     "iopub.status.idle": "2024-09-18T01:35:07.463663Z",
     "shell.execute_reply": "2024-09-18T01:35:07.463284Z",
     "shell.execute_reply.started": "2024-09-18T01:34:36.954151Z"
    }
   },
   "outputs": [
    {
     "name": "stdout",
     "output_type": "stream",
     "text": [
      "256 Trees\n"
     ]
    },
    {
     "data": {
      "text/html": [
       "<div>\n",
       "<style scoped>\n",
       "    .dataframe tbody tr th:only-of-type {\n",
       "        vertical-align: middle;\n",
       "    }\n",
       "\n",
       "    .dataframe tbody tr th {\n",
       "        vertical-align: top;\n",
       "    }\n",
       "\n",
       "    .dataframe thead th {\n",
       "        text-align: right;\n",
       "    }\n",
       "</style>\n",
       "<table border=\"1\" class=\"dataframe\">\n",
       "  <thead>\n",
       "    <tr style=\"text-align: right;\">\n",
       "      <th></th>\n",
       "      <th>Pred False</th>\n",
       "      <th>Pred True</th>\n",
       "    </tr>\n",
       "  </thead>\n",
       "  <tbody>\n",
       "    <tr>\n",
       "      <th>False</th>\n",
       "      <td>9830</td>\n",
       "      <td>170</td>\n",
       "    </tr>\n",
       "    <tr>\n",
       "      <th>True</th>\n",
       "      <td>6</td>\n",
       "      <td>4</td>\n",
       "    </tr>\n",
       "  </tbody>\n",
       "</table>\n",
       "</div>"
      ],
      "text/plain": [
       "       Pred False  Pred True\n",
       "False        9830        170\n",
       "True            6          4"
      ]
     },
     "metadata": {},
     "output_type": "display_data"
    },
    {
     "name": "stdout",
     "output_type": "stream",
     "text": [
      "Acc: 98.2418% \n",
      " F1: 4.3478% \n",
      " FN: 60.0000%\n",
      "Feat count stats: (9.5234375, 0.49945038151326904, 9, 10)\n"
     ]
    },
    {
     "data": {
      "text/plain": [
       "[(10, 134), (9, 122)]"
      ]
     },
     "execution_count": 116,
     "metadata": {},
     "output_type": "execute_result"
    }
   ],
   "source": [
    "cls.setSoftVoting()\n",
    "y_pred_soft = np.array(cls.testForest(df_test)).astype(int)\n",
    "accuracy_soft = accuracy_score(y_test, y_pred_soft)\n",
    "f1_score_soft = f1_score(y_test, y_pred_soft)\n",
    "\n",
    "print(f\"{len(cls)} Trees\")\n",
    "cm = confusion_matrix(y_test, y_pred_soft)\n",
    "display(pd.DataFrame(cm, columns=['Pred False','Pred True'], index=['False','True']))\n",
    "tn, fp, fn, tp = cm.ravel()\n",
    "obj_score = fn / (fn+tp)\n",
    "print(f\"Acc: {ppy(accuracy_soft):.4f}% \\n F1: {ppy(f1_score_soft):.4f}% \\n FN: {ppy(obj_score):.4f}%\")\n",
    "\n",
    "fc_stars, fc_list = cls.featCount()\n",
    "print(f\"Feat count stats: {fc_stars}\")\n",
    "Counter(fc_list).most_common()"
   ]
  },
  {
   "cell_type": "code",
   "execution_count": null,
   "metadata": {},
   "outputs": [],
   "source": [
    "cls.fitParallel(dataset=df_tofit, max_workers=max_workers)\n",
    "ModelDict = cls.model2dict()\n",
    "datetime_tag = datetime.now().strftime('%Y%m%d_%H%M')\n",
    "path_dict = f'{dataset_path}/model_trans_tuning_{len(cls)}trees_{datetime_tag}.json'\n",
    "dump_file_json(path_dict, ModelDict)\n",
    "del ModelDict"
   ]
  },
  {
   "cell_type": "code",
   "execution_count": null,
   "metadata": {},
   "outputs": [],
   "source": [
    "cls.setSoftVoting()\n",
    "y_pred_soft = np.array(cls.testForest(df_test)).astype(int)\n",
    "accuracy_soft = accuracy_score(y_test, y_pred_soft)\n",
    "f1_score_soft = f1_score(y_test, y_pred_soft)\n",
    "\n",
    "print(f\"{len(cls)} Trees\")\n",
    "cm = confusion_matrix(y_test, y_pred_soft)\n",
    "display(pd.DataFrame(cm, columns=['Pred False','Pred True'], index=['False','True']))\n",
    "tn, fp, fn, tp = cm.ravel()\n",
    "obj_score = fn / (fn+tp)\n",
    "print(f\"Acc: {ppy(accuracy_soft):.4f}% \\n F1: {ppy(f1_score_soft):.4f}% \\n FN: {ppy(obj_score):.4f}%\")\n",
    "\n",
    "fc_stars, fc_list = cls.featCount()\n",
    "print(f\"Feat count stats: {fc_stars}\")\n",
    "Counter(fc_list).most_common()"
   ]
  },
  {
   "cell_type": "code",
   "execution_count": null,
   "metadata": {},
   "outputs": [],
   "source": [
    "cls.n_trees = 16"
   ]
  },
  {
   "cell_type": "code",
   "execution_count": null,
   "metadata": {},
   "outputs": [],
   "source": [
    "cls.fitParallel(dataset=df_tofit, max_workers=max_workers)\n",
    "ModelDict = cls.model2dict()\n",
    "datetime_tag = datetime.now().strftime('%Y%m%d_%H%M')\n",
    "path_dict = f'{dataset_path}/model_trans_tuning_{len(cls)}trees_{datetime_tag}.json'\n",
    "dump_file_json(path_dict, ModelDict)\n",
    "del ModelDict"
   ]
  },
  {
   "cell_type": "code",
   "execution_count": null,
   "metadata": {},
   "outputs": [],
   "source": [
    "cls.setSoftVoting()\n",
    "y_pred_soft = np.array(cls.testForest(df_test)).astype(int)\n",
    "accuracy_soft = accuracy_score(y_test, y_pred_soft)\n",
    "f1_score_soft = f1_score(y_test, y_pred_soft)\n",
    "\n",
    "print(f\"{len(cls)} Trees\")\n",
    "cm = confusion_matrix(y_test, y_pred_soft)\n",
    "display(pd.DataFrame(cm, columns=['Pred False','Pred True'], index=['False','True']))\n",
    "tn, fp, fn, tp = cm.ravel()\n",
    "obj_score = fn / (fn+tp)\n",
    "print(f\"Acc: {ppy(accuracy_soft):.4f}% \\n F1: {ppy(f1_score_soft):.4f}% \\n FN: {ppy(obj_score):.4f}%\")\n",
    "\n",
    "fc_stars, fc_list = cls.featCount()\n",
    "print(f\"Feat count stats: {fc_stars}\")\n",
    "Counter(fc_list).most_common()"
   ]
  },
  {
   "cell_type": "code",
   "execution_count": null,
   "metadata": {},
   "outputs": [],
   "source": [
    "cls.n_trees = 256\n",
    "max_workers = 16"
   ]
  },
  {
   "cell_type": "code",
   "execution_count": null,
   "metadata": {},
   "outputs": [],
   "source": [
    "cls.fitParallel(dataset=df_tofit, max_workers=max_workers)\n",
    "ModelDict = cls.model2dict()\n",
    "datetime_tag = datetime.now().strftime('%Y%m%d_%H%M')\n",
    "path_dict = f'{dataset_path}/model_trans_tuning_{len(cls)}trees_{datetime_tag}.json'\n",
    "dump_file_json(path_dict, ModelDict)\n",
    "del ModelDict"
   ]
  },
  {
   "cell_type": "code",
   "execution_count": null,
   "metadata": {},
   "outputs": [],
   "source": [
    "cls.setSoftVoting()\n",
    "y_pred_soft = np.array(cls.testForest(df_test)).astype(int)\n",
    "accuracy_soft = accuracy_score(y_test, y_pred_soft)\n",
    "f1_score_soft = f1_score(y_test, y_pred_soft)\n",
    "\n",
    "print(f\"{len(cls)} Trees\")\n",
    "cm = confusion_matrix(y_test, y_pred_soft)\n",
    "display(pd.DataFrame(cm, columns=['Pred False','Pred True'], index=['False','True']))\n",
    "tn, fp, fn, tp = cm.ravel()\n",
    "obj_score = fn / (fn+tp)\n",
    "print(f\"Acc: {ppy(accuracy_soft):.4f}% \\n F1: {ppy(f1_score_soft):.4f}% \\n FN: {ppy(obj_score):.4f}%\")\n",
    "\n",
    "fc_stars, fc_list = cls.featCount()\n",
    "print(f\"Feat count stats: {fc_stars}\")\n",
    "Counter(fc_list).most_common()"
   ]
  },
  {
   "cell_type": "markdown",
   "metadata": {
    "execution": {
     "iopub.execute_input": "2024-09-14T14:58:54.658222Z",
     "iopub.status.busy": "2024-09-14T14:58:54.656802Z",
     "iopub.status.idle": "2024-09-14T14:58:54.660202Z",
     "shell.execute_reply": "2024-09-14T14:58:54.659937Z",
     "shell.execute_reply.started": "2024-09-14T14:58:54.658162Z"
    }
   },
   "source": [
    "# Search for the best set of trees"
   ]
  },
  {
   "cell_type": "code",
   "execution_count": 72,
   "metadata": {
    "execution": {
     "iopub.execute_input": "2024-09-17T21:00:33.641103Z",
     "iopub.status.busy": "2024-09-17T21:00:33.640677Z",
     "iopub.status.idle": "2024-09-17T21:00:33.677160Z",
     "shell.execute_reply": "2024-09-17T21:00:33.676310Z",
     "shell.execute_reply.started": "2024-09-17T21:00:33.641073Z"
    }
   },
   "outputs": [],
   "source": [
    "cls_ = RandomForestMC(target_col=target_col)\n",
    "cls.process_dataset(df_tofit)"
   ]
  },
  {
   "cell_type": "code",
   "execution_count": 73,
   "metadata": {
    "execution": {
     "iopub.execute_input": "2024-09-17T21:00:34.110832Z",
     "iopub.status.busy": "2024-09-17T21:00:34.110560Z",
     "iopub.status.idle": "2024-09-17T21:00:34.407052Z",
     "shell.execute_reply": "2024-09-17T21:00:34.406342Z",
     "shell.execute_reply.started": "2024-09-17T21:00:34.110816Z"
    }
   },
   "outputs": [
    {
     "name": "stdout",
     "output_type": "stream",
     "text": [
      "/work/tmp/credit-card-fraud-prediction/model_trans_tuning_256trees_20240917_1808.json\n",
      "/work/tmp/credit-card-fraud-prediction/model_trans_tuning_32trees_20240917_1322.json\n",
      "/work/tmp/credit-card-fraud-prediction/model_trans_tuning_32trees_20240917_1416.json\n"
     ]
    }
   ],
   "source": [
    "!ls $dataset_path/model_trans_tuning*"
   ]
  },
  {
   "cell_type": "code",
   "execution_count": 108,
   "metadata": {
    "execution": {
     "iopub.execute_input": "2024-09-17T21:18:54.641129Z",
     "iopub.status.busy": "2024-09-17T21:18:54.640696Z",
     "iopub.status.idle": "2024-09-17T21:18:57.213485Z",
     "shell.execute_reply": "2024-09-17T21:18:57.212975Z",
     "shell.execute_reply.started": "2024-09-17T21:18:54.641097Z"
    }
   },
   "outputs": [
    {
     "data": {
      "text/plain": [
       "RandomForestMC(len(Forest)=256,n_trees=256,model_version=1.2.0-dev,module_version=1.2.0-dev)"
      ]
     },
     "execution_count": 108,
     "metadata": {},
     "output_type": "execute_result"
    }
   ],
   "source": [
    "model_json = f'{dataset_path}/model_trans_tuning_256trees_20240917_1808.json'\n",
    "model_dict = load_file_json(model_json)\n",
    "cls.dict2model(model_dict)\n",
    "cls"
   ]
  },
  {
   "cell_type": "code",
   "execution_count": 16,
   "metadata": {
    "execution": {
     "iopub.execute_input": "2024-09-17T18:09:25.662977Z",
     "iopub.status.busy": "2024-09-17T18:09:25.662884Z",
     "iopub.status.idle": "2024-09-17T18:09:26.574310Z",
     "shell.execute_reply": "2024-09-17T18:09:26.573987Z",
     "shell.execute_reply.started": "2024-09-17T18:09:25.662969Z"
    },
    "scrolled": true
   },
   "outputs": [
    {
     "data": {
      "text/html": [
       "<div>\n",
       "<style scoped>\n",
       "    .dataframe tbody tr th:only-of-type {\n",
       "        vertical-align: middle;\n",
       "    }\n",
       "\n",
       "    .dataframe tbody tr th {\n",
       "        vertical-align: top;\n",
       "    }\n",
       "\n",
       "    .dataframe thead th {\n",
       "        text-align: right;\n",
       "    }\n",
       "</style>\n",
       "<table border=\"1\" class=\"dataframe\">\n",
       "  <thead>\n",
       "    <tr style=\"text-align: right;\">\n",
       "      <th></th>\n",
       "      <th>Depths</th>\n",
       "    </tr>\n",
       "  </thead>\n",
       "  <tbody>\n",
       "    <tr>\n",
       "      <th>count</th>\n",
       "      <td>116796.000000</td>\n",
       "    </tr>\n",
       "    <tr>\n",
       "      <th>mean</th>\n",
       "      <td>10.118523</td>\n",
       "    </tr>\n",
       "    <tr>\n",
       "      <th>std</th>\n",
       "      <td>0.837048</td>\n",
       "    </tr>\n",
       "    <tr>\n",
       "      <th>min</th>\n",
       "      <td>6.000000</td>\n",
       "    </tr>\n",
       "    <tr>\n",
       "      <th>25%</th>\n",
       "      <td>10.000000</td>\n",
       "    </tr>\n",
       "    <tr>\n",
       "      <th>50%</th>\n",
       "      <td>10.000000</td>\n",
       "    </tr>\n",
       "    <tr>\n",
       "      <th>75%</th>\n",
       "      <td>11.000000</td>\n",
       "    </tr>\n",
       "    <tr>\n",
       "      <th>max</th>\n",
       "      <td>12.000000</td>\n",
       "    </tr>\n",
       "  </tbody>\n",
       "</table>\n",
       "</div>"
      ],
      "text/plain": [
       "              Depths\n",
       "count  116796.000000\n",
       "mean       10.118523\n",
       "std         0.837048\n",
       "min         6.000000\n",
       "25%        10.000000\n",
       "50%        10.000000\n",
       "75%        11.000000\n",
       "max        12.000000"
      ]
     },
     "execution_count": 16,
     "metadata": {},
     "output_type": "execute_result"
    },
    {
     "data": {
      "image/png": "[encoded data removed]",
      "text/plain": [
       "<Figure size 640x480 with 1 Axes>"
      ]
     },
     "metadata": {},
     "output_type": "display_data"
    }
   ],
   "source": [
    "dps = cls.trees2depths\n",
    "df_dethps = pd.DataFrame(flat(dps), columns=['Depths'])\n",
    "df_dethps.hist()\n",
    "df_dethps.describe()"
   ]
  },
  {
   "cell_type": "code",
   "execution_count": 17,
   "metadata": {
    "execution": {
     "iopub.execute_input": "2024-09-17T18:09:26.575442Z",
     "iopub.status.busy": "2024-09-17T18:09:26.575222Z",
     "iopub.status.idle": "2024-09-17T18:09:34.060727Z",
     "shell.execute_reply": "2024-09-17T18:09:34.060282Z",
     "shell.execute_reply.started": "2024-09-17T18:09:26.575428Z"
    }
   },
   "outputs": [
    {
     "data": {
      "application/vnd.jupyter.widget-view+json": {
       "model_id": "120daea30f5d43539608c6d325d91ab9",
       "version_major": 2,
       "version_minor": 0
      },
      "text/plain": [
       "  0%|          | 0/255 [00:00<?, ?it/s]"
      ]
     },
     "metadata": {},
     "output_type": "display_data"
    }
   ],
   "source": [
    "cls_inc = RandomForestMC(target_col=target_col)\n",
    "cls_inc.process_dataset(df_tofit)\n",
    "df_frauds = df_test.query(f'{target_col} == \"1\"').reset_index(drop=True)\n",
    "\n",
    "tp_soft = []\n",
    "tp_hard = []\n",
    "final_N = cls.Forest_size\n",
    "for i in tqdm(range(1,final_N)):\n",
    "    cls_inc.reset_forest()\n",
    "    cls_inc.mergeForest(cls, N=i, by=\"score\")\n",
    "    cls_inc.setSoftVoting(True)\n",
    "    y_pred_soft = np.array(cls_inc.testForest(df_frauds)).astype(int)\n",
    "    tp_soft.append(sum(y_pred_soft))\n",
    "    cls_inc.setSoftVoting(False)\n",
    "    y_pred_hard = np.array(cls_inc.testForest(df_frauds)).astype(int)\n",
    "    tp_hard.append(sum(y_pred_hard))"
   ]
  },
  {
   "cell_type": "code",
   "execution_count": 18,
   "metadata": {
    "execution": {
     "iopub.execute_input": "2024-09-17T18:09:34.061146Z",
     "iopub.status.busy": "2024-09-17T18:09:34.061027Z",
     "iopub.status.idle": "2024-09-17T18:09:34.123621Z",
     "shell.execute_reply": "2024-09-17T18:09:34.123064Z",
     "shell.execute_reply.started": "2024-09-17T18:09:34.061136Z"
    }
   },
   "outputs": [
    {
     "data": {
      "text/html": [
       "<div>\n",
       "<style scoped>\n",
       "    .dataframe tbody tr th:only-of-type {\n",
       "        vertical-align: middle;\n",
       "    }\n",
       "\n",
       "    .dataframe tbody tr th {\n",
       "        vertical-align: top;\n",
       "    }\n",
       "\n",
       "    .dataframe thead th {\n",
       "        text-align: right;\n",
       "    }\n",
       "</style>\n",
       "<table border=\"1\" class=\"dataframe\">\n",
       "  <thead>\n",
       "    <tr style=\"text-align: right;\">\n",
       "      <th></th>\n",
       "      <th>0</th>\n",
       "    </tr>\n",
       "  </thead>\n",
       "  <tbody>\n",
       "    <tr>\n",
       "      <th>count</th>\n",
       "      <td>255.000000</td>\n",
       "    </tr>\n",
       "    <tr>\n",
       "      <th>mean</th>\n",
       "      <td>4.827451</td>\n",
       "    </tr>\n",
       "    <tr>\n",
       "      <th>std</th>\n",
       "      <td>0.388860</td>\n",
       "    </tr>\n",
       "    <tr>\n",
       "      <th>min</th>\n",
       "      <td>4.000000</td>\n",
       "    </tr>\n",
       "    <tr>\n",
       "      <th>25%</th>\n",
       "      <td>5.000000</td>\n",
       "    </tr>\n",
       "    <tr>\n",
       "      <th>50%</th>\n",
       "      <td>5.000000</td>\n",
       "    </tr>\n",
       "    <tr>\n",
       "      <th>75%</th>\n",
       "      <td>5.000000</td>\n",
       "    </tr>\n",
       "    <tr>\n",
       "      <th>max</th>\n",
       "      <td>6.000000</td>\n",
       "    </tr>\n",
       "  </tbody>\n",
       "</table>\n",
       "</div>"
      ],
      "text/plain": [
       "                0\n",
       "count  255.000000\n",
       "mean     4.827451\n",
       "std      0.388860\n",
       "min      4.000000\n",
       "25%      5.000000\n",
       "50%      5.000000\n",
       "75%      5.000000\n",
       "max      6.000000"
      ]
     },
     "execution_count": 18,
     "metadata": {},
     "output_type": "execute_result"
    },
    {
     "data": {
      "image/png": "[encoded data removed]",
      "text/plain": [
       "<Figure size 640x480 with 1 Axes>"
      ]
     },
     "metadata": {},
     "output_type": "display_data"
    }
   ],
   "source": [
    "df_soft = pd.DataFrame(tp_soft)\n",
    "df_soft.plot()\n",
    "df_soft.describe()"
   ]
  },
  {
   "cell_type": "code",
   "execution_count": 19,
   "metadata": {
    "execution": {
     "iopub.execute_input": "2024-09-17T18:09:34.124137Z",
     "iopub.status.busy": "2024-09-17T18:09:34.124035Z",
     "iopub.status.idle": "2024-09-17T18:09:34.185033Z",
     "shell.execute_reply": "2024-09-17T18:09:34.184599Z",
     "shell.execute_reply.started": "2024-09-17T18:09:34.124128Z"
    }
   },
   "outputs": [
    {
     "data": {
      "text/html": [
       "<div>\n",
       "<style scoped>\n",
       "    .dataframe tbody tr th:only-of-type {\n",
       "        vertical-align: middle;\n",
       "    }\n",
       "\n",
       "    .dataframe tbody tr th {\n",
       "        vertical-align: top;\n",
       "    }\n",
       "\n",
       "    .dataframe thead th {\n",
       "        text-align: right;\n",
       "    }\n",
       "</style>\n",
       "<table border=\"1\" class=\"dataframe\">\n",
       "  <thead>\n",
       "    <tr style=\"text-align: right;\">\n",
       "      <th></th>\n",
       "      <th>0</th>\n",
       "    </tr>\n",
       "  </thead>\n",
       "  <tbody>\n",
       "    <tr>\n",
       "      <th>count</th>\n",
       "      <td>255.000000</td>\n",
       "    </tr>\n",
       "    <tr>\n",
       "      <th>mean</th>\n",
       "      <td>4.827451</td>\n",
       "    </tr>\n",
       "    <tr>\n",
       "      <th>std</th>\n",
       "      <td>0.388860</td>\n",
       "    </tr>\n",
       "    <tr>\n",
       "      <th>min</th>\n",
       "      <td>4.000000</td>\n",
       "    </tr>\n",
       "    <tr>\n",
       "      <th>25%</th>\n",
       "      <td>5.000000</td>\n",
       "    </tr>\n",
       "    <tr>\n",
       "      <th>50%</th>\n",
       "      <td>5.000000</td>\n",
       "    </tr>\n",
       "    <tr>\n",
       "      <th>75%</th>\n",
       "      <td>5.000000</td>\n",
       "    </tr>\n",
       "    <tr>\n",
       "      <th>max</th>\n",
       "      <td>6.000000</td>\n",
       "    </tr>\n",
       "  </tbody>\n",
       "</table>\n",
       "</div>"
      ],
      "text/plain": [
       "                0\n",
       "count  255.000000\n",
       "mean     4.827451\n",
       "std      0.388860\n",
       "min      4.000000\n",
       "25%      5.000000\n",
       "50%      5.000000\n",
       "75%      5.000000\n",
       "max      6.000000"
      ]
     },
     "execution_count": 19,
     "metadata": {},
     "output_type": "execute_result"
    },
    {
     "data": {
      "image/png": "[encoded data removed]",
      "text/plain": [
       "<Figure size 640x480 with 1 Axes>"
      ]
     },
     "metadata": {},
     "output_type": "display_data"
    }
   ],
   "source": [
    "df_hard = pd.DataFrame(tp_hard)\n",
    "df_hard.plot()\n",
    "df_hard.describe()"
   ]
  },
  {
   "cell_type": "code",
   "execution_count": 20,
   "metadata": {
    "execution": {
     "iopub.execute_input": "2024-09-17T18:09:34.186001Z",
     "iopub.status.busy": "2024-09-17T18:09:34.185747Z",
     "iopub.status.idle": "2024-09-17T18:09:41.633716Z",
     "shell.execute_reply": "2024-09-17T18:09:41.633355Z",
     "shell.execute_reply.started": "2024-09-17T18:09:34.185986Z"
    }
   },
   "outputs": [
    {
     "data": {
      "application/vnd.jupyter.widget-view+json": {
       "model_id": "19eecb669a344591baf1517ab9204d97",
       "version_major": 2,
       "version_minor": 0
      },
      "text/plain": [
       "  0%|          | 0/255 [00:00<?, ?it/s]"
      ]
     },
     "metadata": {},
     "output_type": "display_data"
    }
   ],
   "source": [
    "cls_inc = RandomForestMC(target_col=target_col)\n",
    "cls_inc.process_dataset(df_tofit)\n",
    "df_frauds = df_test.query(f'{target_col} == \"1\"').reset_index(drop=True)\n",
    "\n",
    "tp_soft = []\n",
    "tp_hard = []\n",
    "final_N = cls.Forest_size\n",
    "for i in tqdm(range(1,final_N)):\n",
    "    cls_inc.reset_forest()\n",
    "    cls_inc.mergeForest(cls, N=i, by=\"random\")\n",
    "    cls_inc.setSoftVoting(True)\n",
    "    y_pred_soft = np.array(cls_inc.testForest(df_frauds)).astype(int)\n",
    "    tp_soft.append(sum(y_pred_soft))\n",
    "    cls_inc.setSoftVoting(False)\n",
    "    y_pred_hard = np.array(cls_inc.testForest(df_frauds)).astype(int)\n",
    "    tp_hard.append(sum(y_pred_hard))"
   ]
  },
  {
   "cell_type": "code",
   "execution_count": 21,
   "metadata": {
    "execution": {
     "iopub.execute_input": "2024-09-17T18:09:41.634216Z",
     "iopub.status.busy": "2024-09-17T18:09:41.634115Z",
     "iopub.status.idle": "2024-09-17T18:09:41.694687Z",
     "shell.execute_reply": "2024-09-17T18:09:41.694302Z",
     "shell.execute_reply.started": "2024-09-17T18:09:41.634207Z"
    }
   },
   "outputs": [
    {
     "data": {
      "text/html": [
       "<div>\n",
       "<style scoped>\n",
       "    .dataframe tbody tr th:only-of-type {\n",
       "        vertical-align: middle;\n",
       "    }\n",
       "\n",
       "    .dataframe tbody tr th {\n",
       "        vertical-align: top;\n",
       "    }\n",
       "\n",
       "    .dataframe thead th {\n",
       "        text-align: right;\n",
       "    }\n",
       "</style>\n",
       "<table border=\"1\" class=\"dataframe\">\n",
       "  <thead>\n",
       "    <tr style=\"text-align: right;\">\n",
       "      <th></th>\n",
       "      <th>0</th>\n",
       "    </tr>\n",
       "  </thead>\n",
       "  <tbody>\n",
       "    <tr>\n",
       "      <th>count</th>\n",
       "      <td>255.000000</td>\n",
       "    </tr>\n",
       "    <tr>\n",
       "      <th>mean</th>\n",
       "      <td>4.909804</td>\n",
       "    </tr>\n",
       "    <tr>\n",
       "      <th>std</th>\n",
       "      <td>0.728837</td>\n",
       "    </tr>\n",
       "    <tr>\n",
       "      <th>min</th>\n",
       "      <td>2.000000</td>\n",
       "    </tr>\n",
       "    <tr>\n",
       "      <th>25%</th>\n",
       "      <td>5.000000</td>\n",
       "    </tr>\n",
       "    <tr>\n",
       "      <th>50%</th>\n",
       "      <td>5.000000</td>\n",
       "    </tr>\n",
       "    <tr>\n",
       "      <th>75%</th>\n",
       "      <td>5.000000</td>\n",
       "    </tr>\n",
       "    <tr>\n",
       "      <th>max</th>\n",
       "      <td>7.000000</td>\n",
       "    </tr>\n",
       "  </tbody>\n",
       "</table>\n",
       "</div>"
      ],
      "text/plain": [
       "                0\n",
       "count  255.000000\n",
       "mean     4.909804\n",
       "std      0.728837\n",
       "min      2.000000\n",
       "25%      5.000000\n",
       "50%      5.000000\n",
       "75%      5.000000\n",
       "max      7.000000"
      ]
     },
     "execution_count": 21,
     "metadata": {},
     "output_type": "execute_result"
    },
    {
     "data": {
      "image/png": "[encoded data removed]",
      "text/plain": [
       "<Figure size 640x480 with 1 Axes>"
      ]
     },
     "metadata": {},
     "output_type": "display_data"
    }
   ],
   "source": [
    "df_soft = pd.DataFrame(tp_soft)\n",
    "df_soft.plot()\n",
    "df_soft.describe()"
   ]
  },
  {
   "cell_type": "code",
   "execution_count": 22,
   "metadata": {
    "execution": {
     "iopub.execute_input": "2024-09-17T18:09:41.695095Z",
     "iopub.status.busy": "2024-09-17T18:09:41.694997Z",
     "iopub.status.idle": "2024-09-17T18:09:41.751273Z",
     "shell.execute_reply": "2024-09-17T18:09:41.750761Z",
     "shell.execute_reply.started": "2024-09-17T18:09:41.695086Z"
    }
   },
   "outputs": [
    {
     "data": {
      "text/html": [
       "<div>\n",
       "<style scoped>\n",
       "    .dataframe tbody tr th:only-of-type {\n",
       "        vertical-align: middle;\n",
       "    }\n",
       "\n",
       "    .dataframe tbody tr th {\n",
       "        vertical-align: top;\n",
       "    }\n",
       "\n",
       "    .dataframe thead th {\n",
       "        text-align: right;\n",
       "    }\n",
       "</style>\n",
       "<table border=\"1\" class=\"dataframe\">\n",
       "  <thead>\n",
       "    <tr style=\"text-align: right;\">\n",
       "      <th></th>\n",
       "      <th>0</th>\n",
       "    </tr>\n",
       "  </thead>\n",
       "  <tbody>\n",
       "    <tr>\n",
       "      <th>count</th>\n",
       "      <td>255.000000</td>\n",
       "    </tr>\n",
       "    <tr>\n",
       "      <th>mean</th>\n",
       "      <td>4.909804</td>\n",
       "    </tr>\n",
       "    <tr>\n",
       "      <th>std</th>\n",
       "      <td>0.728837</td>\n",
       "    </tr>\n",
       "    <tr>\n",
       "      <th>min</th>\n",
       "      <td>2.000000</td>\n",
       "    </tr>\n",
       "    <tr>\n",
       "      <th>25%</th>\n",
       "      <td>5.000000</td>\n",
       "    </tr>\n",
       "    <tr>\n",
       "      <th>50%</th>\n",
       "      <td>5.000000</td>\n",
       "    </tr>\n",
       "    <tr>\n",
       "      <th>75%</th>\n",
       "      <td>5.000000</td>\n",
       "    </tr>\n",
       "    <tr>\n",
       "      <th>max</th>\n",
       "      <td>7.000000</td>\n",
       "    </tr>\n",
       "  </tbody>\n",
       "</table>\n",
       "</div>"
      ],
      "text/plain": [
       "                0\n",
       "count  255.000000\n",
       "mean     4.909804\n",
       "std      0.728837\n",
       "min      2.000000\n",
       "25%      5.000000\n",
       "50%      5.000000\n",
       "75%      5.000000\n",
       "max      7.000000"
      ]
     },
     "execution_count": 22,
     "metadata": {},
     "output_type": "execute_result"
    },
    {
     "data": {
      "image/png": "[encoded data removed]",
      "text/plain": [
       "<Figure size 640x480 with 1 Axes>"
      ]
     },
     "metadata": {},
     "output_type": "display_data"
    }
   ],
   "source": [
    "df_hard = pd.DataFrame(tp_hard)\n",
    "df_hard.plot()\n",
    "df_hard.describe()"
   ]
  },
  {
   "cell_type": "code",
   "execution_count": 23,
   "metadata": {
    "execution": {
     "iopub.execute_input": "2024-09-17T18:09:41.752369Z",
     "iopub.status.busy": "2024-09-17T18:09:41.752255Z",
     "iopub.status.idle": "2024-09-17T18:15:42.079373Z",
     "shell.execute_reply": "2024-09-17T18:15:42.079072Z",
     "shell.execute_reply.started": "2024-09-17T18:09:41.752361Z"
    }
   },
   "outputs": [
    {
     "data": {
      "application/vnd.jupyter.widget-view+json": {
       "model_id": "b4ad2604b3d14c5b9af786fd7257e63b",
       "version_major": 2,
       "version_minor": 0
      },
      "text/plain": [
       "  0%|          | 0/255 [00:00<?, ?it/s]"
      ]
     },
     "metadata": {},
     "output_type": "display_data"
    }
   ],
   "source": [
    "cls_inc = RandomForestMC(target_col=target_col)\n",
    "cls_inc.process_dataset(df_tofit)\n",
    "df_frauds = df_test.query(f'{target_col} == \"1\"').reset_index(drop=True)\n",
    "\n",
    "N_sim = 100\n",
    "\n",
    "data = []\n",
    "final_N = cls.Forest_size\n",
    "for i in tqdm(range(1,final_N)):\n",
    "    tp = []\n",
    "    for _ in range(N_sim):\n",
    "        cls_inc.reset_forest()\n",
    "        cls_inc.mergeForest(cls, N=i, by=\"random\")\n",
    "        cls_inc.setSoftVoting(True)\n",
    "        y_pred_soft = np.array(cls_inc.testForest(df_frauds)).astype(int)\n",
    "        tp.append(sum(y_pred_soft))\n",
    "    data.append(tp)"
   ]
  },
  {
   "cell_type": "code",
   "execution_count": 26,
   "metadata": {
    "execution": {
     "iopub.execute_input": "2024-09-17T19:08:46.574282Z",
     "iopub.status.busy": "2024-09-17T19:08:46.574057Z",
     "iopub.status.idle": "2024-09-17T19:08:47.534523Z",
     "shell.execute_reply": "2024-09-17T19:08:47.534037Z",
     "shell.execute_reply.started": "2024-09-17T19:08:46.574270Z"
    }
   },
   "outputs": [
    {
     "data": {
      "text/plain": [
       "<Axes: >"
      ]
     },
     "execution_count": 26,
     "metadata": {},
     "output_type": "execute_result"
    },
    {
     "data": {
      "image/png": "[encoded data removed]",
      "text/plain": [
       "<Figure size 640x480 with 1 Axes>"
      ]
     },
     "metadata": {},
     "output_type": "display_data"
    }
   ],
   "source": [
    "df = pd.DataFrame(data).T\n",
    "\n",
    "plt.figure()\n",
    "df.boxplot()"
   ]
  },
  {
   "cell_type": "code",
   "execution_count": 27,
   "metadata": {
    "execution": {
     "iopub.execute_input": "2024-09-17T19:09:11.204308Z",
     "iopub.status.busy": "2024-09-17T19:09:11.204093Z",
     "iopub.status.idle": "2024-09-17T19:09:11.325034Z",
     "shell.execute_reply": "2024-09-17T19:09:11.324523Z",
     "shell.execute_reply.started": "2024-09-17T19:09:11.204297Z"
    }
   },
   "outputs": [
    {
     "data": {
      "text/html": [
       "<div>\n",
       "<style scoped>\n",
       "    .dataframe tbody tr th:only-of-type {\n",
       "        vertical-align: middle;\n",
       "    }\n",
       "\n",
       "    .dataframe tbody tr th {\n",
       "        vertical-align: top;\n",
       "    }\n",
       "\n",
       "    .dataframe thead th {\n",
       "        text-align: right;\n",
       "    }\n",
       "</style>\n",
       "<table border=\"1\" class=\"dataframe\">\n",
       "  <thead>\n",
       "    <tr style=\"text-align: right;\">\n",
       "      <th></th>\n",
       "      <th>count</th>\n",
       "      <th>mean</th>\n",
       "      <th>std</th>\n",
       "      <th>min</th>\n",
       "      <th>25%</th>\n",
       "      <th>50%</th>\n",
       "      <th>75%</th>\n",
       "      <th>max</th>\n",
       "    </tr>\n",
       "  </thead>\n",
       "  <tbody>\n",
       "    <tr>\n",
       "      <th>1</th>\n",
       "      <td>100.0</td>\n",
       "      <td>6.81</td>\n",
       "      <td>1.292519</td>\n",
       "      <td>3.0</td>\n",
       "      <td>6.00</td>\n",
       "      <td>7.0</td>\n",
       "      <td>8.0</td>\n",
       "      <td>9.0</td>\n",
       "    </tr>\n",
       "    <tr>\n",
       "      <th>3</th>\n",
       "      <td>100.0</td>\n",
       "      <td>6.21</td>\n",
       "      <td>1.265669</td>\n",
       "      <td>3.0</td>\n",
       "      <td>5.00</td>\n",
       "      <td>6.0</td>\n",
       "      <td>7.0</td>\n",
       "      <td>9.0</td>\n",
       "    </tr>\n",
       "    <tr>\n",
       "      <th>5</th>\n",
       "      <td>100.0</td>\n",
       "      <td>5.95</td>\n",
       "      <td>1.320965</td>\n",
       "      <td>2.0</td>\n",
       "      <td>5.00</td>\n",
       "      <td>6.0</td>\n",
       "      <td>7.0</td>\n",
       "      <td>10.0</td>\n",
       "    </tr>\n",
       "    <tr>\n",
       "      <th>7</th>\n",
       "      <td>100.0</td>\n",
       "      <td>5.70</td>\n",
       "      <td>1.344649</td>\n",
       "      <td>2.0</td>\n",
       "      <td>5.00</td>\n",
       "      <td>6.0</td>\n",
       "      <td>7.0</td>\n",
       "      <td>8.0</td>\n",
       "    </tr>\n",
       "    <tr>\n",
       "      <th>13</th>\n",
       "      <td>100.0</td>\n",
       "      <td>5.27</td>\n",
       "      <td>1.117853</td>\n",
       "      <td>3.0</td>\n",
       "      <td>4.75</td>\n",
       "      <td>5.0</td>\n",
       "      <td>6.0</td>\n",
       "      <td>9.0</td>\n",
       "    </tr>\n",
       "    <tr>\n",
       "      <th>11</th>\n",
       "      <td>100.0</td>\n",
       "      <td>5.22</td>\n",
       "      <td>1.251908</td>\n",
       "      <td>3.0</td>\n",
       "      <td>4.00</td>\n",
       "      <td>5.0</td>\n",
       "      <td>6.0</td>\n",
       "      <td>8.0</td>\n",
       "    </tr>\n",
       "    <tr>\n",
       "      <th>9</th>\n",
       "      <td>100.0</td>\n",
       "      <td>5.16</td>\n",
       "      <td>1.361223</td>\n",
       "      <td>2.0</td>\n",
       "      <td>4.00</td>\n",
       "      <td>5.0</td>\n",
       "      <td>6.0</td>\n",
       "      <td>8.0</td>\n",
       "    </tr>\n",
       "    <tr>\n",
       "      <th>27</th>\n",
       "      <td>100.0</td>\n",
       "      <td>5.09</td>\n",
       "      <td>1.223466</td>\n",
       "      <td>2.0</td>\n",
       "      <td>4.00</td>\n",
       "      <td>5.0</td>\n",
       "      <td>6.0</td>\n",
       "      <td>7.0</td>\n",
       "    </tr>\n",
       "    <tr>\n",
       "      <th>17</th>\n",
       "      <td>100.0</td>\n",
       "      <td>5.09</td>\n",
       "      <td>1.164240</td>\n",
       "      <td>2.0</td>\n",
       "      <td>4.00</td>\n",
       "      <td>5.0</td>\n",
       "      <td>6.0</td>\n",
       "      <td>8.0</td>\n",
       "    </tr>\n",
       "    <tr>\n",
       "      <th>254</th>\n",
       "      <td>100.0</td>\n",
       "      <td>5.00</td>\n",
       "      <td>0.000000</td>\n",
       "      <td>5.0</td>\n",
       "      <td>5.00</td>\n",
       "      <td>5.0</td>\n",
       "      <td>5.0</td>\n",
       "      <td>5.0</td>\n",
       "    </tr>\n",
       "    <tr>\n",
       "      <th>247</th>\n",
       "      <td>100.0</td>\n",
       "      <td>5.00</td>\n",
       "      <td>0.000000</td>\n",
       "      <td>5.0</td>\n",
       "      <td>5.00</td>\n",
       "      <td>5.0</td>\n",
       "      <td>5.0</td>\n",
       "      <td>5.0</td>\n",
       "    </tr>\n",
       "    <tr>\n",
       "      <th>237</th>\n",
       "      <td>100.0</td>\n",
       "      <td>5.00</td>\n",
       "      <td>0.000000</td>\n",
       "      <td>5.0</td>\n",
       "      <td>5.00</td>\n",
       "      <td>5.0</td>\n",
       "      <td>5.0</td>\n",
       "      <td>5.0</td>\n",
       "    </tr>\n",
       "    <tr>\n",
       "      <th>243</th>\n",
       "      <td>100.0</td>\n",
       "      <td>5.00</td>\n",
       "      <td>0.000000</td>\n",
       "      <td>5.0</td>\n",
       "      <td>5.00</td>\n",
       "      <td>5.0</td>\n",
       "      <td>5.0</td>\n",
       "      <td>5.0</td>\n",
       "    </tr>\n",
       "    <tr>\n",
       "      <th>245</th>\n",
       "      <td>100.0</td>\n",
       "      <td>5.00</td>\n",
       "      <td>0.000000</td>\n",
       "      <td>5.0</td>\n",
       "      <td>5.00</td>\n",
       "      <td>5.0</td>\n",
       "      <td>5.0</td>\n",
       "      <td>5.0</td>\n",
       "    </tr>\n",
       "    <tr>\n",
       "      <th>233</th>\n",
       "      <td>100.0</td>\n",
       "      <td>5.00</td>\n",
       "      <td>0.000000</td>\n",
       "      <td>5.0</td>\n",
       "      <td>5.00</td>\n",
       "      <td>5.0</td>\n",
       "      <td>5.0</td>\n",
       "      <td>5.0</td>\n",
       "    </tr>\n",
       "    <tr>\n",
       "      <th>248</th>\n",
       "      <td>100.0</td>\n",
       "      <td>5.00</td>\n",
       "      <td>0.000000</td>\n",
       "      <td>5.0</td>\n",
       "      <td>5.00</td>\n",
       "      <td>5.0</td>\n",
       "      <td>5.0</td>\n",
       "      <td>5.0</td>\n",
       "    </tr>\n",
       "    <tr>\n",
       "      <th>249</th>\n",
       "      <td>100.0</td>\n",
       "      <td>5.00</td>\n",
       "      <td>0.000000</td>\n",
       "      <td>5.0</td>\n",
       "      <td>5.00</td>\n",
       "      <td>5.0</td>\n",
       "      <td>5.0</td>\n",
       "      <td>5.0</td>\n",
       "    </tr>\n",
       "    <tr>\n",
       "      <th>253</th>\n",
       "      <td>100.0</td>\n",
       "      <td>5.00</td>\n",
       "      <td>0.000000</td>\n",
       "      <td>5.0</td>\n",
       "      <td>5.00</td>\n",
       "      <td>5.0</td>\n",
       "      <td>5.0</td>\n",
       "      <td>5.0</td>\n",
       "    </tr>\n",
       "    <tr>\n",
       "      <th>250</th>\n",
       "      <td>100.0</td>\n",
       "      <td>5.00</td>\n",
       "      <td>0.000000</td>\n",
       "      <td>5.0</td>\n",
       "      <td>5.00</td>\n",
       "      <td>5.0</td>\n",
       "      <td>5.0</td>\n",
       "      <td>5.0</td>\n",
       "    </tr>\n",
       "    <tr>\n",
       "      <th>252</th>\n",
       "      <td>100.0</td>\n",
       "      <td>5.00</td>\n",
       "      <td>0.000000</td>\n",
       "      <td>5.0</td>\n",
       "      <td>5.00</td>\n",
       "      <td>5.0</td>\n",
       "      <td>5.0</td>\n",
       "      <td>5.0</td>\n",
       "    </tr>\n",
       "  </tbody>\n",
       "</table>\n",
       "</div>"
      ],
      "text/plain": [
       "     count  mean       std  min   25%  50%  75%   max\n",
       "1    100.0  6.81  1.292519  3.0  6.00  7.0  8.0   9.0\n",
       "3    100.0  6.21  1.265669  3.0  5.00  6.0  7.0   9.0\n",
       "5    100.0  5.95  1.320965  2.0  5.00  6.0  7.0  10.0\n",
       "7    100.0  5.70  1.344649  2.0  5.00  6.0  7.0   8.0\n",
       "13   100.0  5.27  1.117853  3.0  4.75  5.0  6.0   9.0\n",
       "11   100.0  5.22  1.251908  3.0  4.00  5.0  6.0   8.0\n",
       "9    100.0  5.16  1.361223  2.0  4.00  5.0  6.0   8.0\n",
       "27   100.0  5.09  1.223466  2.0  4.00  5.0  6.0   7.0\n",
       "17   100.0  5.09  1.164240  2.0  4.00  5.0  6.0   8.0\n",
       "254  100.0  5.00  0.000000  5.0  5.00  5.0  5.0   5.0\n",
       "247  100.0  5.00  0.000000  5.0  5.00  5.0  5.0   5.0\n",
       "237  100.0  5.00  0.000000  5.0  5.00  5.0  5.0   5.0\n",
       "243  100.0  5.00  0.000000  5.0  5.00  5.0  5.0   5.0\n",
       "245  100.0  5.00  0.000000  5.0  5.00  5.0  5.0   5.0\n",
       "233  100.0  5.00  0.000000  5.0  5.00  5.0  5.0   5.0\n",
       "248  100.0  5.00  0.000000  5.0  5.00  5.0  5.0   5.0\n",
       "249  100.0  5.00  0.000000  5.0  5.00  5.0  5.0   5.0\n",
       "253  100.0  5.00  0.000000  5.0  5.00  5.0  5.0   5.0\n",
       "250  100.0  5.00  0.000000  5.0  5.00  5.0  5.0   5.0\n",
       "252  100.0  5.00  0.000000  5.0  5.00  5.0  5.0   5.0"
      ]
     },
     "execution_count": 27,
     "metadata": {},
     "output_type": "execute_result"
    }
   ],
   "source": [
    "df.describe().T.sort_values(by='mean', ascending=False).head(20)"
   ]
  },
  {
   "cell_type": "code",
   "execution_count": 28,
   "metadata": {
    "execution": {
     "iopub.execute_input": "2024-09-17T19:10:02.656026Z",
     "iopub.status.busy": "2024-09-17T19:10:02.655365Z",
     "iopub.status.idle": "2024-09-17T19:10:10.320843Z",
     "shell.execute_reply": "2024-09-17T19:10:10.320338Z",
     "shell.execute_reply.started": "2024-09-17T19:10:02.655981Z"
    }
   },
   "outputs": [
    {
     "data": {
      "application/vnd.jupyter.widget-view+json": {
       "model_id": "943c80253ce642829b05a6e363fce892",
       "version_major": 2,
       "version_minor": 0
      },
      "text/plain": [
       "  0%|          | 0/9 [00:00<?, ?it/s]"
      ]
     },
     "metadata": {},
     "output_type": "display_data"
    }
   ],
   "source": [
    "cls_inc = RandomForestMC(target_col=target_col)\n",
    "cls_inc.process_dataset(df_tofit)\n",
    "df_frauds = df_test.query(f'{target_col} == \"1\"').reset_index(drop=True)\n",
    "\n",
    "N_sim = 1000\n",
    "\n",
    "data = []\n",
    "final_N = 10\n",
    "for i in tqdm(range(1,final_N)):\n",
    "    tp = []\n",
    "    for _ in range(N_sim):\n",
    "        cls_inc.reset_forest()\n",
    "        cls_inc.mergeForest(cls, N=i, by=\"random\")\n",
    "        cls_inc.setSoftVoting(True)\n",
    "        y_pred_soft = np.array(cls_inc.testForest(df_frauds)).astype(int)\n",
    "        tp.append(sum(y_pred_soft))\n",
    "    data.append(tp)"
   ]
  },
  {
   "cell_type": "code",
   "execution_count": 29,
   "metadata": {
    "execution": {
     "iopub.execute_input": "2024-09-17T19:10:10.321509Z",
     "iopub.status.busy": "2024-09-17T19:10:10.321413Z",
     "iopub.status.idle": "2024-09-17T19:10:10.397809Z",
     "shell.execute_reply": "2024-09-17T19:10:10.397446Z",
     "shell.execute_reply.started": "2024-09-17T19:10:10.321500Z"
    }
   },
   "outputs": [
    {
     "data": {
      "text/plain": [
       "<Axes: >"
      ]
     },
     "execution_count": 29,
     "metadata": {},
     "output_type": "execute_result"
    },
    {
     "data": {
      "image/png": "[encoded data removed]",
      "text/plain": [
       "<Figure size 640x480 with 1 Axes>"
      ]
     },
     "metadata": {},
     "output_type": "display_data"
    }
   ],
   "source": [
    "df = pd.DataFrame(data).T\n",
    "\n",
    "plt.figure()\n",
    "df.boxplot()"
   ]
  },
  {
   "cell_type": "code",
   "execution_count": 31,
   "metadata": {
    "execution": {
     "iopub.execute_input": "2024-09-17T19:11:00.643532Z",
     "iopub.status.busy": "2024-09-17T19:11:00.643330Z",
     "iopub.status.idle": "2024-09-17T19:11:00.665139Z",
     "shell.execute_reply": "2024-09-17T19:11:00.664891Z",
     "shell.execute_reply.started": "2024-09-17T19:11:00.643518Z"
    },
    "scrolled": true
   },
   "outputs": [
    {
     "data": {
      "text/html": [
       "<div>\n",
       "<style scoped>\n",
       "    .dataframe tbody tr th:only-of-type {\n",
       "        vertical-align: middle;\n",
       "    }\n",
       "\n",
       "    .dataframe tbody tr th {\n",
       "        vertical-align: top;\n",
       "    }\n",
       "\n",
       "    .dataframe thead th {\n",
       "        text-align: right;\n",
       "    }\n",
       "</style>\n",
       "<table border=\"1\" class=\"dataframe\">\n",
       "  <thead>\n",
       "    <tr style=\"text-align: right;\">\n",
       "      <th></th>\n",
       "      <th>count</th>\n",
       "      <th>mean</th>\n",
       "      <th>std</th>\n",
       "      <th>min</th>\n",
       "      <th>25%</th>\n",
       "      <th>50%</th>\n",
       "      <th>75%</th>\n",
       "      <th>max</th>\n",
       "    </tr>\n",
       "  </thead>\n",
       "  <tbody>\n",
       "    <tr>\n",
       "      <th>1</th>\n",
       "      <td>1000.0</td>\n",
       "      <td>6.878</td>\n",
       "      <td>1.359030</td>\n",
       "      <td>2.0</td>\n",
       "      <td>6.0</td>\n",
       "      <td>7.0</td>\n",
       "      <td>8.00</td>\n",
       "      <td>10.0</td>\n",
       "    </tr>\n",
       "    <tr>\n",
       "      <th>3</th>\n",
       "      <td>1000.0</td>\n",
       "      <td>6.085</td>\n",
       "      <td>1.381189</td>\n",
       "      <td>2.0</td>\n",
       "      <td>5.0</td>\n",
       "      <td>6.0</td>\n",
       "      <td>7.00</td>\n",
       "      <td>10.0</td>\n",
       "    </tr>\n",
       "    <tr>\n",
       "      <th>5</th>\n",
       "      <td>1000.0</td>\n",
       "      <td>5.771</td>\n",
       "      <td>1.291599</td>\n",
       "      <td>2.0</td>\n",
       "      <td>5.0</td>\n",
       "      <td>6.0</td>\n",
       "      <td>7.00</td>\n",
       "      <td>9.0</td>\n",
       "    </tr>\n",
       "    <tr>\n",
       "      <th>7</th>\n",
       "      <td>1000.0</td>\n",
       "      <td>5.538</td>\n",
       "      <td>1.275218</td>\n",
       "      <td>2.0</td>\n",
       "      <td>5.0</td>\n",
       "      <td>6.0</td>\n",
       "      <td>6.00</td>\n",
       "      <td>9.0</td>\n",
       "    </tr>\n",
       "    <tr>\n",
       "      <th>0</th>\n",
       "      <td>1000.0</td>\n",
       "      <td>4.595</td>\n",
       "      <td>1.526206</td>\n",
       "      <td>1.0</td>\n",
       "      <td>4.0</td>\n",
       "      <td>5.0</td>\n",
       "      <td>6.00</td>\n",
       "      <td>9.0</td>\n",
       "    </tr>\n",
       "    <tr>\n",
       "      <th>8</th>\n",
       "      <td>1000.0</td>\n",
       "      <td>4.544</td>\n",
       "      <td>1.240808</td>\n",
       "      <td>1.0</td>\n",
       "      <td>4.0</td>\n",
       "      <td>5.0</td>\n",
       "      <td>5.00</td>\n",
       "      <td>8.0</td>\n",
       "    </tr>\n",
       "    <tr>\n",
       "      <th>6</th>\n",
       "      <td>1000.0</td>\n",
       "      <td>4.542</td>\n",
       "      <td>1.334922</td>\n",
       "      <td>1.0</td>\n",
       "      <td>4.0</td>\n",
       "      <td>5.0</td>\n",
       "      <td>5.00</td>\n",
       "      <td>8.0</td>\n",
       "    </tr>\n",
       "    <tr>\n",
       "      <th>2</th>\n",
       "      <td>1000.0</td>\n",
       "      <td>4.478</td>\n",
       "      <td>1.430931</td>\n",
       "      <td>1.0</td>\n",
       "      <td>4.0</td>\n",
       "      <td>4.0</td>\n",
       "      <td>5.25</td>\n",
       "      <td>9.0</td>\n",
       "    </tr>\n",
       "    <tr>\n",
       "      <th>4</th>\n",
       "      <td>1000.0</td>\n",
       "      <td>4.464</td>\n",
       "      <td>1.356667</td>\n",
       "      <td>1.0</td>\n",
       "      <td>4.0</td>\n",
       "      <td>4.0</td>\n",
       "      <td>5.00</td>\n",
       "      <td>8.0</td>\n",
       "    </tr>\n",
       "  </tbody>\n",
       "</table>\n",
       "</div>"
      ],
      "text/plain": [
       "    count   mean       std  min  25%  50%   75%   max\n",
       "1  1000.0  6.878  1.359030  2.0  6.0  7.0  8.00  10.0\n",
       "3  1000.0  6.085  1.381189  2.0  5.0  6.0  7.00  10.0\n",
       "5  1000.0  5.771  1.291599  2.0  5.0  6.0  7.00   9.0\n",
       "7  1000.0  5.538  1.275218  2.0  5.0  6.0  6.00   9.0\n",
       "0  1000.0  4.595  1.526206  1.0  4.0  5.0  6.00   9.0\n",
       "8  1000.0  4.544  1.240808  1.0  4.0  5.0  5.00   8.0\n",
       "6  1000.0  4.542  1.334922  1.0  4.0  5.0  5.00   8.0\n",
       "2  1000.0  4.478  1.430931  1.0  4.0  4.0  5.25   9.0\n",
       "4  1000.0  4.464  1.356667  1.0  4.0  4.0  5.00   8.0"
      ]
     },
     "execution_count": 31,
     "metadata": {},
     "output_type": "execute_result"
    }
   ],
   "source": [
    "df.describe().T.sort_values(by='mean', ascending=False).head(20)"
   ]
  },
  {
   "cell_type": "markdown",
   "metadata": {
    "execution": {
     "iopub.execute_input": "2024-09-15T08:04:51.682912Z",
     "iopub.status.busy": "2024-09-15T08:04:51.682790Z",
     "iopub.status.idle": "2024-09-15T08:04:51.961459Z",
     "shell.execute_reply": "2024-09-15T08:04:51.958982Z",
     "shell.execute_reply.started": "2024-09-15T08:04:51.682904Z"
    }
   },
   "source": [
    "# Tunning 3 with search 2-4-6-trees"
   ]
  },
  {
   "cell_type": "code",
   "execution_count": 120,
   "metadata": {
    "execution": {
     "iopub.execute_input": "2024-09-18T01:37:48.320143Z",
     "iopub.status.busy": "2024-09-18T01:37:48.319976Z",
     "iopub.status.idle": "2024-09-18T01:37:48.540214Z",
     "shell.execute_reply": "2024-09-18T01:37:48.539730Z",
     "shell.execute_reply.started": "2024-09-18T01:37:48.320130Z"
    }
   },
   "outputs": [
    {
     "data": {
      "text/plain": [
       "0"
      ]
     },
     "execution_count": 120,
     "metadata": {},
     "output_type": "execute_result"
    }
   ],
   "source": [
    "cls.drop_duplicated_trees()"
   ]
  },
  {
   "cell_type": "code",
   "execution_count": 33,
   "metadata": {
    "execution": {
     "iopub.execute_input": "2024-09-17T19:11:21.457289Z",
     "iopub.status.busy": "2024-09-17T19:11:21.456759Z",
     "iopub.status.idle": "2024-09-17T19:11:21.460577Z",
     "shell.execute_reply": "2024-09-17T19:11:21.460139Z",
     "shell.execute_reply.started": "2024-09-17T19:11:21.457235Z"
    }
   },
   "outputs": [
    {
     "data": {
      "text/plain": [
       "RandomForestMC(len(Forest)=256,n_trees=256,model_version=1.2.0-dev,module_version=1.2.0-dev)"
      ]
     },
     "execution_count": 33,
     "metadata": {},
     "output_type": "execute_result"
    }
   ],
   "source": [
    "cls"
   ]
  },
  {
   "cell_type": "code",
   "execution_count": 34,
   "metadata": {
    "execution": {
     "iopub.execute_input": "2024-09-17T19:11:26.665252Z",
     "iopub.status.busy": "2024-09-17T19:11:26.664667Z",
     "iopub.status.idle": "2024-09-17T19:50:38.163513Z",
     "shell.execute_reply": "2024-09-17T19:50:38.163032Z",
     "shell.execute_reply.started": "2024-09-17T19:11:26.665192Z"
    }
   },
   "outputs": [
    {
     "data": {
      "application/vnd.jupyter.widget-view+json": {
       "model_id": "8abf055f00c14371ad6559db00456ac0",
       "version_major": 2,
       "version_minor": 0
      },
      "text/plain": [
       "  0%|          | 0/10000 [00:00<?, ?it/s]"
      ]
     },
     "metadata": {},
     "output_type": "display_data"
    }
   ],
   "source": [
    "cls_inc = RandomForestMC(target_col=target_col)\n",
    "cls_inc.process_dataset(df_tofit)\n",
    "cls_inc.setSoftVoting(True)\n",
    "df_frauds = df_test.query(f'{target_col} == \"1\"').reset_index(drop=True)\n",
    "df_notfrauds = df_test.query(f'{target_col} == \"0\"').sample(n=1000).reset_index(drop=True)\n",
    "df_mini_test = pd.concat([df_frauds, df_notfrauds], ignore_index=True)\n",
    "y_test = df_mini_test[target_col].astype(int).to_list()\n",
    "\n",
    "N_sim = 10000\n",
    "\n",
    "data = defaultdict(list)\n",
    "n_trees = [2, 4, 6]\n",
    "for _ in tqdm(range(N_sim)):\n",
    "    repated_forest = set()\n",
    "    for i in n_trees:\n",
    "        cls_inc.reset_forest()\n",
    "        cls_inc.mergeForest(cls, N=i, by=\"random\")\n",
    "        hd5_forest = \"\".join(sorted([Tree.md5hexdigest for Tree in cls_inc]))\n",
    "        if hd5_forest in repated_forest:\n",
    "            continue\n",
    "        repated_forest.add(hd5_forest)\n",
    "        y_pred_soft = np.array(cls_inc.testForest(df_mini_test)).astype(int)\n",
    "        acc = accuracy_score(y_test, y_pred_soft)\n",
    "        f1 = f1_score(y_test, y_pred_soft)\n",
    "        miss_rate = sum([not p for t, p in zip(y_test, y_pred_soft) if t]) / sum(y_test)\n",
    "        for Tree in cls_inc:\n",
    "            data[Tree.md5hexdigest].append((i, len(Tree.used_features), max(Tree.depths), acc, f1, miss_rate))"
   ]
  },
  {
   "cell_type": "code",
   "execution_count": 35,
   "metadata": {
    "execution": {
     "iopub.execute_input": "2024-09-17T19:50:38.164109Z",
     "iopub.status.busy": "2024-09-17T19:50:38.164019Z",
     "iopub.status.idle": "2024-09-17T19:50:38.609810Z",
     "shell.execute_reply": "2024-09-17T19:50:38.609406Z",
     "shell.execute_reply.started": "2024-09-17T19:50:38.164101Z"
    }
   },
   "outputs": [],
   "source": [
    "datetime_tag = datetime.now().strftime('%Y%m%d_%H%M')\n",
    "dump_file_json(f\"{dataset_path}/trees_trans_metrcis_sim_{datetime_tag}.json\", data)"
   ]
  },
  {
   "cell_type": "code",
   "execution_count": 36,
   "metadata": {
    "execution": {
     "iopub.execute_input": "2024-09-17T19:50:38.610311Z",
     "iopub.status.busy": "2024-09-17T19:50:38.610204Z",
     "iopub.status.idle": "2024-09-17T19:50:38.613400Z",
     "shell.execute_reply": "2024-09-17T19:50:38.613059Z",
     "shell.execute_reply.started": "2024-09-17T19:50:38.610302Z"
    }
   },
   "outputs": [
    {
     "data": {
      "text/plain": [
       "256"
      ]
     },
     "execution_count": 36,
     "metadata": {},
     "output_type": "execute_result"
    }
   ],
   "source": [
    "len(data)"
   ]
  },
  {
   "cell_type": "markdown",
   "metadata": {},
   "source": [
    "### Analysing the results"
   ]
  },
  {
   "cell_type": "code",
   "execution_count": null,
   "metadata": {},
   "outputs": [],
   "source": [
    "!ls $dataset_path/trees_metrcis_sim_*.json"
   ]
  },
  {
   "cell_type": "code",
   "execution_count": null,
   "metadata": {},
   "outputs": [],
   "source": [
    "data =  load_file_json('/work/tmp/credit-card-fraud-prediction/trees_metrcis_sim2_*.json')"
   ]
  },
  {
   "cell_type": "code",
   "execution_count": 37,
   "metadata": {
    "execution": {
     "iopub.execute_input": "2024-09-17T19:52:45.046544Z",
     "iopub.status.busy": "2024-09-17T19:52:45.046295Z",
     "iopub.status.idle": "2024-09-17T19:52:45.050295Z",
     "shell.execute_reply": "2024-09-17T19:52:45.048961Z",
     "shell.execute_reply.started": "2024-09-17T19:52:45.046533Z"
    }
   },
   "outputs": [],
   "source": [
    "md5_trees = list(data.keys())"
   ]
  },
  {
   "cell_type": "code",
   "execution_count": 38,
   "metadata": {
    "execution": {
     "iopub.execute_input": "2024-09-17T19:52:45.425271Z",
     "iopub.status.busy": "2024-09-17T19:52:45.424722Z",
     "iopub.status.idle": "2024-09-17T19:52:45.755733Z",
     "shell.execute_reply": "2024-09-17T19:52:45.755434Z",
     "shell.execute_reply.started": "2024-09-17T19:52:45.425207Z"
    }
   },
   "outputs": [
    {
     "data": {
      "text/html": [
       "<div>\n",
       "<style scoped>\n",
       "    .dataframe tbody tr th:only-of-type {\n",
       "        vertical-align: middle;\n",
       "    }\n",
       "\n",
       "    .dataframe tbody tr th {\n",
       "        vertical-align: top;\n",
       "    }\n",
       "\n",
       "    .dataframe thead th {\n",
       "        text-align: right;\n",
       "    }\n",
       "</style>\n",
       "<table border=\"1\" class=\"dataframe\">\n",
       "  <thead>\n",
       "    <tr style=\"text-align: right;\">\n",
       "      <th></th>\n",
       "      <th>Forest Size</th>\n",
       "      <th>Feature Count</th>\n",
       "      <th>Max Depths</th>\n",
       "      <th>Acc</th>\n",
       "      <th>F1</th>\n",
       "      <th>Miss Rate</th>\n",
       "      <th>Tree</th>\n",
       "    </tr>\n",
       "  </thead>\n",
       "  <tbody>\n",
       "    <tr>\n",
       "      <th>0</th>\n",
       "      <td>6.000000</td>\n",
       "      <td>5.0</td>\n",
       "      <td>12.0</td>\n",
       "      <td>0.846535</td>\n",
       "      <td>0.095238</td>\n",
       "      <td>0.800000</td>\n",
       "      <td>0ccc172997f8b372e682d1a405151c80</td>\n",
       "    </tr>\n",
       "    <tr>\n",
       "      <th>1</th>\n",
       "      <td>4.592593</td>\n",
       "      <td>5.0</td>\n",
       "      <td>12.0</td>\n",
       "      <td>0.729824</td>\n",
       "      <td>0.041810</td>\n",
       "      <td>0.450000</td>\n",
       "      <td>0ccc172997f8b372e682d1a405151c80</td>\n",
       "    </tr>\n",
       "    <tr>\n",
       "      <th>2</th>\n",
       "      <td>6.000000</td>\n",
       "      <td>10.0</td>\n",
       "      <td>11.0</td>\n",
       "      <td>0.832673</td>\n",
       "      <td>0.089552</td>\n",
       "      <td>0.700000</td>\n",
       "      <td>b16be8d4c3f4c8ff6400a4c5573d3910</td>\n",
       "    </tr>\n",
       "    <tr>\n",
       "      <th>3</th>\n",
       "      <td>4.622407</td>\n",
       "      <td>10.0</td>\n",
       "      <td>11.0</td>\n",
       "      <td>0.732774</td>\n",
       "      <td>0.046046</td>\n",
       "      <td>0.387759</td>\n",
       "      <td>b16be8d4c3f4c8ff6400a4c5573d3910</td>\n",
       "    </tr>\n",
       "    <tr>\n",
       "      <th>4</th>\n",
       "      <td>6.000000</td>\n",
       "      <td>10.0</td>\n",
       "      <td>11.0</td>\n",
       "      <td>0.849505</td>\n",
       "      <td>0.096774</td>\n",
       "      <td>0.800000</td>\n",
       "      <td>cc39a541f5bf5dbaf2bf55a16ce1b362</td>\n",
       "    </tr>\n",
       "    <tr>\n",
       "      <th>...</th>\n",
       "      <td>...</td>\n",
       "      <td>...</td>\n",
       "      <td>...</td>\n",
       "      <td>...</td>\n",
       "      <td>...</td>\n",
       "      <td>...</td>\n",
       "      <td>...</td>\n",
       "    </tr>\n",
       "    <tr>\n",
       "      <th>507</th>\n",
       "      <td>4.702811</td>\n",
       "      <td>4.0</td>\n",
       "      <td>11.0</td>\n",
       "      <td>0.739636</td>\n",
       "      <td>0.048630</td>\n",
       "      <td>0.372289</td>\n",
       "      <td>cf4ee5c5a78724fa2952ea8d7d834076</td>\n",
       "    </tr>\n",
       "    <tr>\n",
       "      <th>508</th>\n",
       "      <td>6.000000</td>\n",
       "      <td>9.0</td>\n",
       "      <td>12.0</td>\n",
       "      <td>0.853465</td>\n",
       "      <td>0.097561</td>\n",
       "      <td>0.800000</td>\n",
       "      <td>48b490d8ed71f9694be112398dd5e95b</td>\n",
       "    </tr>\n",
       "    <tr>\n",
       "      <th>509</th>\n",
       "      <td>4.665148</td>\n",
       "      <td>9.0</td>\n",
       "      <td>12.0</td>\n",
       "      <td>0.755378</td>\n",
       "      <td>0.049768</td>\n",
       "      <td>0.393394</td>\n",
       "      <td>48b490d8ed71f9694be112398dd5e95b</td>\n",
       "    </tr>\n",
       "    <tr>\n",
       "      <th>510</th>\n",
       "      <td>6.000000</td>\n",
       "      <td>4.0</td>\n",
       "      <td>12.0</td>\n",
       "      <td>0.840594</td>\n",
       "      <td>0.094737</td>\n",
       "      <td>0.700000</td>\n",
       "      <td>533b6eacea7366cf702ea2d80335fffe</td>\n",
       "    </tr>\n",
       "    <tr>\n",
       "      <th>511</th>\n",
       "      <td>4.539474</td>\n",
       "      <td>4.0</td>\n",
       "      <td>12.0</td>\n",
       "      <td>0.731225</td>\n",
       "      <td>0.049289</td>\n",
       "      <td>0.338816</td>\n",
       "      <td>533b6eacea7366cf702ea2d80335fffe</td>\n",
       "    </tr>\n",
       "  </tbody>\n",
       "</table>\n",
       "<p>512 rows × 7 columns</p>\n",
       "</div>"
      ],
      "text/plain": [
       "     Forest Size  Feature Count  Max Depths       Acc        F1  Miss Rate  \\\n",
       "0       6.000000            5.0        12.0  0.846535  0.095238   0.800000   \n",
       "1       4.592593            5.0        12.0  0.729824  0.041810   0.450000   \n",
       "2       6.000000           10.0        11.0  0.832673  0.089552   0.700000   \n",
       "3       4.622407           10.0        11.0  0.732774  0.046046   0.387759   \n",
       "4       6.000000           10.0        11.0  0.849505  0.096774   0.800000   \n",
       "..           ...            ...         ...       ...       ...        ...   \n",
       "507     4.702811            4.0        11.0  0.739636  0.048630   0.372289   \n",
       "508     6.000000            9.0        12.0  0.853465  0.097561   0.800000   \n",
       "509     4.665148            9.0        12.0  0.755378  0.049768   0.393394   \n",
       "510     6.000000            4.0        12.0  0.840594  0.094737   0.700000   \n",
       "511     4.539474            4.0        12.0  0.731225  0.049289   0.338816   \n",
       "\n",
       "                                 Tree  \n",
       "0    0ccc172997f8b372e682d1a405151c80  \n",
       "1    0ccc172997f8b372e682d1a405151c80  \n",
       "2    b16be8d4c3f4c8ff6400a4c5573d3910  \n",
       "3    b16be8d4c3f4c8ff6400a4c5573d3910  \n",
       "4    cc39a541f5bf5dbaf2bf55a16ce1b362  \n",
       "..                                ...  \n",
       "507  cf4ee5c5a78724fa2952ea8d7d834076  \n",
       "508  48b490d8ed71f9694be112398dd5e95b  \n",
       "509  48b490d8ed71f9694be112398dd5e95b  \n",
       "510  533b6eacea7366cf702ea2d80335fffe  \n",
       "511  533b6eacea7366cf702ea2d80335fffe  \n",
       "\n",
       "[512 rows x 7 columns]"
      ]
     },
     "execution_count": 38,
     "metadata": {},
     "output_type": "execute_result"
    }
   ],
   "source": [
    "columns = ['Forest Size','Feature Count','Max Depths','Acc','F1','Miss Rate']\n",
    "list_trees = []\n",
    "for md5_tree, stats_tree in data.items():\n",
    "    df_stats = pd.DataFrame(data[md5_tree], columns=columns).max().to_frame().T\n",
    "    df_stats['Tree'] = md5_tree\n",
    "    list_trees.append(df_stats)\n",
    "    df_stats = pd.DataFrame(data[md5_tree], columns=columns).mean().to_frame().T\n",
    "    df_stats['Tree'] = md5_tree\n",
    "    list_trees.append(df_stats)\n",
    "\n",
    "df_trees = pd.concat(list_trees, ignore_index=True)\n",
    "df_trees"
   ]
  },
  {
   "cell_type": "code",
   "execution_count": 39,
   "metadata": {
    "execution": {
     "iopub.execute_input": "2024-09-17T19:52:55.042399Z",
     "iopub.status.busy": "2024-09-17T19:52:55.042236Z",
     "iopub.status.idle": "2024-09-17T19:52:55.052052Z",
     "shell.execute_reply": "2024-09-17T19:52:55.051722Z",
     "shell.execute_reply.started": "2024-09-17T19:52:55.042387Z"
    }
   },
   "outputs": [
    {
     "data": {
      "text/html": [
       "<div>\n",
       "<style scoped>\n",
       "    .dataframe tbody tr th:only-of-type {\n",
       "        vertical-align: middle;\n",
       "    }\n",
       "\n",
       "    .dataframe tbody tr th {\n",
       "        vertical-align: top;\n",
       "    }\n",
       "\n",
       "    .dataframe thead th {\n",
       "        text-align: right;\n",
       "    }\n",
       "</style>\n",
       "<table border=\"1\" class=\"dataframe\">\n",
       "  <thead>\n",
       "    <tr style=\"text-align: right;\">\n",
       "      <th></th>\n",
       "      <th>Forest Size</th>\n",
       "      <th>Feature Count</th>\n",
       "      <th>Max Depths</th>\n",
       "      <th>Acc</th>\n",
       "      <th>F1</th>\n",
       "      <th>Miss Rate</th>\n",
       "      <th>Tree</th>\n",
       "    </tr>\n",
       "  </thead>\n",
       "  <tbody>\n",
       "    <tr>\n",
       "      <th>74</th>\n",
       "      <td>6.0</td>\n",
       "      <td>10.0</td>\n",
       "      <td>11.0</td>\n",
       "      <td>0.864356</td>\n",
       "      <td>0.102273</td>\n",
       "      <td>0.8</td>\n",
       "      <td>7230900758e1d98f4cfc3c0864cfdd6e</td>\n",
       "    </tr>\n",
       "    <tr>\n",
       "      <th>122</th>\n",
       "      <td>6.0</td>\n",
       "      <td>3.0</td>\n",
       "      <td>11.0</td>\n",
       "      <td>0.843564</td>\n",
       "      <td>0.102273</td>\n",
       "      <td>0.6</td>\n",
       "      <td>d022586972cc3dc9f22e14539790e651</td>\n",
       "    </tr>\n",
       "    <tr>\n",
       "      <th>130</th>\n",
       "      <td>6.0</td>\n",
       "      <td>10.0</td>\n",
       "      <td>11.0</td>\n",
       "      <td>0.843564</td>\n",
       "      <td>0.102273</td>\n",
       "      <td>0.7</td>\n",
       "      <td>2d0d69f16006551aa522b54211ba95b6</td>\n",
       "    </tr>\n",
       "    <tr>\n",
       "      <th>452</th>\n",
       "      <td>6.0</td>\n",
       "      <td>10.0</td>\n",
       "      <td>11.0</td>\n",
       "      <td>0.844554</td>\n",
       "      <td>0.102273</td>\n",
       "      <td>0.8</td>\n",
       "      <td>0f05b50baa88ed72a4f5cb6af1040a23</td>\n",
       "    </tr>\n",
       "    <tr>\n",
       "      <th>370</th>\n",
       "      <td>6.0</td>\n",
       "      <td>10.0</td>\n",
       "      <td>11.0</td>\n",
       "      <td>0.857426</td>\n",
       "      <td>0.102273</td>\n",
       "      <td>0.8</td>\n",
       "      <td>6e52c50c6b3910b831f037ec5e425f8e</td>\n",
       "    </tr>\n",
       "    <tr>\n",
       "      <th>400</th>\n",
       "      <td>6.0</td>\n",
       "      <td>11.0</td>\n",
       "      <td>12.0</td>\n",
       "      <td>0.850495</td>\n",
       "      <td>0.102273</td>\n",
       "      <td>0.7</td>\n",
       "      <td>ac55227cee4980f5418a4facb9a9b49f</td>\n",
       "    </tr>\n",
       "    <tr>\n",
       "      <th>14</th>\n",
       "      <td>6.0</td>\n",
       "      <td>10.0</td>\n",
       "      <td>11.0</td>\n",
       "      <td>0.853465</td>\n",
       "      <td>0.100559</td>\n",
       "      <td>0.8</td>\n",
       "      <td>8cb1d9f8b0c7633f05ffc5bf194bade6</td>\n",
       "    </tr>\n",
       "    <tr>\n",
       "      <th>158</th>\n",
       "      <td>6.0</td>\n",
       "      <td>10.0</td>\n",
       "      <td>11.0</td>\n",
       "      <td>0.840594</td>\n",
       "      <td>0.100559</td>\n",
       "      <td>0.8</td>\n",
       "      <td>54229f4eece4b6f7ffc49d57641582e7</td>\n",
       "    </tr>\n",
       "    <tr>\n",
       "      <th>162</th>\n",
       "      <td>6.0</td>\n",
       "      <td>8.0</td>\n",
       "      <td>11.0</td>\n",
       "      <td>0.851485</td>\n",
       "      <td>0.100559</td>\n",
       "      <td>0.8</td>\n",
       "      <td>4806962a3fe0c3e38bcd51dead459d79</td>\n",
       "    </tr>\n",
       "    <tr>\n",
       "      <th>302</th>\n",
       "      <td>6.0</td>\n",
       "      <td>10.0</td>\n",
       "      <td>11.0</td>\n",
       "      <td>0.844554</td>\n",
       "      <td>0.100559</td>\n",
       "      <td>0.7</td>\n",
       "      <td>2e3a4a3fe15946e97ad9879acc5649cc</td>\n",
       "    </tr>\n",
       "  </tbody>\n",
       "</table>\n",
       "</div>"
      ],
      "text/plain": [
       "     Forest Size  Feature Count  Max Depths       Acc        F1  Miss Rate  \\\n",
       "74           6.0           10.0        11.0  0.864356  0.102273        0.8   \n",
       "122          6.0            3.0        11.0  0.843564  0.102273        0.6   \n",
       "130          6.0           10.0        11.0  0.843564  0.102273        0.7   \n",
       "452          6.0           10.0        11.0  0.844554  0.102273        0.8   \n",
       "370          6.0           10.0        11.0  0.857426  0.102273        0.8   \n",
       "400          6.0           11.0        12.0  0.850495  0.102273        0.7   \n",
       "14           6.0           10.0        11.0  0.853465  0.100559        0.8   \n",
       "158          6.0           10.0        11.0  0.840594  0.100559        0.8   \n",
       "162          6.0            8.0        11.0  0.851485  0.100559        0.8   \n",
       "302          6.0           10.0        11.0  0.844554  0.100559        0.7   \n",
       "\n",
       "                                 Tree  \n",
       "74   7230900758e1d98f4cfc3c0864cfdd6e  \n",
       "122  d022586972cc3dc9f22e14539790e651  \n",
       "130  2d0d69f16006551aa522b54211ba95b6  \n",
       "452  0f05b50baa88ed72a4f5cb6af1040a23  \n",
       "370  6e52c50c6b3910b831f037ec5e425f8e  \n",
       "400  ac55227cee4980f5418a4facb9a9b49f  \n",
       "14   8cb1d9f8b0c7633f05ffc5bf194bade6  \n",
       "158  54229f4eece4b6f7ffc49d57641582e7  \n",
       "162  4806962a3fe0c3e38bcd51dead459d79  \n",
       "302  2e3a4a3fe15946e97ad9879acc5649cc  "
      ]
     },
     "execution_count": 39,
     "metadata": {},
     "output_type": "execute_result"
    }
   ],
   "source": [
    "df_trees.sort_values(by='F1', ascending=False).head(10)"
   ]
  },
  {
   "cell_type": "code",
   "execution_count": 40,
   "metadata": {
    "execution": {
     "iopub.execute_input": "2024-09-17T19:53:17.547594Z",
     "iopub.status.busy": "2024-09-17T19:53:17.547014Z",
     "iopub.status.idle": "2024-09-17T19:53:17.558921Z",
     "shell.execute_reply": "2024-09-17T19:53:17.558703Z",
     "shell.execute_reply.started": "2024-09-17T19:53:17.547550Z"
    }
   },
   "outputs": [
    {
     "data": {
      "text/html": [
       "<div>\n",
       "<style scoped>\n",
       "    .dataframe tbody tr th:only-of-type {\n",
       "        vertical-align: middle;\n",
       "    }\n",
       "\n",
       "    .dataframe tbody tr th {\n",
       "        vertical-align: top;\n",
       "    }\n",
       "\n",
       "    .dataframe thead th {\n",
       "        text-align: right;\n",
       "    }\n",
       "</style>\n",
       "<table border=\"1\" class=\"dataframe\">\n",
       "  <thead>\n",
       "    <tr style=\"text-align: right;\">\n",
       "      <th></th>\n",
       "      <th>Forest Size</th>\n",
       "      <th>Feature Count</th>\n",
       "      <th>Max Depths</th>\n",
       "      <th>Acc</th>\n",
       "      <th>F1</th>\n",
       "      <th>Miss Rate</th>\n",
       "      <th>Tree</th>\n",
       "    </tr>\n",
       "  </thead>\n",
       "  <tbody>\n",
       "    <tr>\n",
       "      <th>295</th>\n",
       "      <td>4.769231</td>\n",
       "      <td>10.0</td>\n",
       "      <td>11.0</td>\n",
       "      <td>0.747298</td>\n",
       "      <td>0.058171</td>\n",
       "      <td>0.255094</td>\n",
       "      <td>e49f22d11177bde7eb74ad25e86551b4</td>\n",
       "    </tr>\n",
       "    <tr>\n",
       "      <th>27</th>\n",
       "      <td>4.733607</td>\n",
       "      <td>10.0</td>\n",
       "      <td>11.0</td>\n",
       "      <td>0.743930</td>\n",
       "      <td>0.056775</td>\n",
       "      <td>0.260861</td>\n",
       "      <td>a4073635cb1d71d41c264105a264048f</td>\n",
       "    </tr>\n",
       "    <tr>\n",
       "      <th>421</th>\n",
       "      <td>4.653422</td>\n",
       "      <td>10.0</td>\n",
       "      <td>11.0</td>\n",
       "      <td>0.754438</td>\n",
       "      <td>0.059325</td>\n",
       "      <td>0.260927</td>\n",
       "      <td>073400c0f65e111470d3d30db8627089</td>\n",
       "    </tr>\n",
       "    <tr>\n",
       "      <th>293</th>\n",
       "      <td>4.493213</td>\n",
       "      <td>10.0</td>\n",
       "      <td>11.0</td>\n",
       "      <td>0.728487</td>\n",
       "      <td>0.053709</td>\n",
       "      <td>0.277828</td>\n",
       "      <td>da0f57a6fa995e74527ddd4c77e5c779</td>\n",
       "    </tr>\n",
       "    <tr>\n",
       "      <th>411</th>\n",
       "      <td>4.643629</td>\n",
       "      <td>11.0</td>\n",
       "      <td>12.0</td>\n",
       "      <td>0.744758</td>\n",
       "      <td>0.055840</td>\n",
       "      <td>0.281425</td>\n",
       "      <td>199853f1e4ac7419fb268ee3dfadbd30</td>\n",
       "    </tr>\n",
       "    <tr>\n",
       "      <th>395</th>\n",
       "      <td>4.770213</td>\n",
       "      <td>10.0</td>\n",
       "      <td>11.0</td>\n",
       "      <td>0.750038</td>\n",
       "      <td>0.056513</td>\n",
       "      <td>0.283191</td>\n",
       "      <td>b3d35438d2b988334db48db88d77dc95</td>\n",
       "    </tr>\n",
       "    <tr>\n",
       "      <th>141</th>\n",
       "      <td>4.834711</td>\n",
       "      <td>10.0</td>\n",
       "      <td>11.0</td>\n",
       "      <td>0.746625</td>\n",
       "      <td>0.055999</td>\n",
       "      <td>0.284091</td>\n",
       "      <td>513003d3fbeda6b46873413cc48a2317</td>\n",
       "    </tr>\n",
       "    <tr>\n",
       "      <th>31</th>\n",
       "      <td>4.644880</td>\n",
       "      <td>10.0</td>\n",
       "      <td>11.0</td>\n",
       "      <td>0.740682</td>\n",
       "      <td>0.054878</td>\n",
       "      <td>0.285185</td>\n",
       "      <td>3fd59aae522e6e366a34a52bf220e8de</td>\n",
       "    </tr>\n",
       "    <tr>\n",
       "      <th>359</th>\n",
       "      <td>4.596026</td>\n",
       "      <td>10.0</td>\n",
       "      <td>11.0</td>\n",
       "      <td>0.732114</td>\n",
       "      <td>0.052929</td>\n",
       "      <td>0.290066</td>\n",
       "      <td>2f898c0718814ddd27306a075d9e0343</td>\n",
       "    </tr>\n",
       "    <tr>\n",
       "      <th>313</th>\n",
       "      <td>4.747515</td>\n",
       "      <td>11.0</td>\n",
       "      <td>12.0</td>\n",
       "      <td>0.746793</td>\n",
       "      <td>0.055763</td>\n",
       "      <td>0.291252</td>\n",
       "      <td>411097085446b27b179dddd5666bf9d1</td>\n",
       "    </tr>\n",
       "  </tbody>\n",
       "</table>\n",
       "</div>"
      ],
      "text/plain": [
       "     Forest Size  Feature Count  Max Depths       Acc        F1  Miss Rate  \\\n",
       "295     4.769231           10.0        11.0  0.747298  0.058171   0.255094   \n",
       "27      4.733607           10.0        11.0  0.743930  0.056775   0.260861   \n",
       "421     4.653422           10.0        11.0  0.754438  0.059325   0.260927   \n",
       "293     4.493213           10.0        11.0  0.728487  0.053709   0.277828   \n",
       "411     4.643629           11.0        12.0  0.744758  0.055840   0.281425   \n",
       "395     4.770213           10.0        11.0  0.750038  0.056513   0.283191   \n",
       "141     4.834711           10.0        11.0  0.746625  0.055999   0.284091   \n",
       "31      4.644880           10.0        11.0  0.740682  0.054878   0.285185   \n",
       "359     4.596026           10.0        11.0  0.732114  0.052929   0.290066   \n",
       "313     4.747515           11.0        12.0  0.746793  0.055763   0.291252   \n",
       "\n",
       "                                 Tree  \n",
       "295  e49f22d11177bde7eb74ad25e86551b4  \n",
       "27   a4073635cb1d71d41c264105a264048f  \n",
       "421  073400c0f65e111470d3d30db8627089  \n",
       "293  da0f57a6fa995e74527ddd4c77e5c779  \n",
       "411  199853f1e4ac7419fb268ee3dfadbd30  \n",
       "395  b3d35438d2b988334db48db88d77dc95  \n",
       "141  513003d3fbeda6b46873413cc48a2317  \n",
       "31   3fd59aae522e6e366a34a52bf220e8de  \n",
       "359  2f898c0718814ddd27306a075d9e0343  \n",
       "313  411097085446b27b179dddd5666bf9d1  "
      ]
     },
     "execution_count": 40,
     "metadata": {},
     "output_type": "execute_result"
    }
   ],
   "source": [
    "df_trees.sort_values(by='Miss Rate').head(10)"
   ]
  },
  {
   "cell_type": "code",
   "execution_count": 41,
   "metadata": {
    "execution": {
     "iopub.execute_input": "2024-09-17T19:53:34.459041Z",
     "iopub.status.busy": "2024-09-17T19:53:34.458522Z",
     "iopub.status.idle": "2024-09-17T19:53:34.531515Z",
     "shell.execute_reply": "2024-09-17T19:53:34.530981Z",
     "shell.execute_reply.started": "2024-09-17T19:53:34.458999Z"
    }
   },
   "outputs": [
    {
     "data": {
      "text/plain": [
       "<Axes: >"
      ]
     },
     "execution_count": 41,
     "metadata": {},
     "output_type": "execute_result"
    },
    {
     "data": {
      "image/png": "[encoded data removed]",
      "text/plain": [
       "<Figure size 640x480 with 1 Axes>"
      ]
     },
     "metadata": {},
     "output_type": "display_data"
    }
   ],
   "source": [
    "df_trees.sort_values(by='Miss Rate')[['Acc', 'Miss Rate']].reset_index(drop=True).plot(grid=True)"
   ]
  },
  {
   "cell_type": "code",
   "execution_count": 42,
   "metadata": {
    "execution": {
     "iopub.execute_input": "2024-09-17T19:53:42.685109Z",
     "iopub.status.busy": "2024-09-17T19:53:42.684341Z",
     "iopub.status.idle": "2024-09-17T19:53:42.763301Z",
     "shell.execute_reply": "2024-09-17T19:53:42.762775Z",
     "shell.execute_reply.started": "2024-09-17T19:53:42.685051Z"
    }
   },
   "outputs": [
    {
     "data": {
      "text/plain": [
       "<Axes: >"
      ]
     },
     "execution_count": 42,
     "metadata": {},
     "output_type": "execute_result"
    },
    {
     "data": {
      "image/png": "[encoded data removed]",
      "text/plain": [
       "<Figure size 640x480 with 1 Axes>"
      ]
     },
     "metadata": {},
     "output_type": "display_data"
    }
   ],
   "source": [
    "df_trees.sort_values(by='Acc')[['Acc', 'Miss Rate']].reset_index(drop=True).plot(grid=True)"
   ]
  },
  {
   "cell_type": "code",
   "execution_count": 43,
   "metadata": {
    "execution": {
     "iopub.execute_input": "2024-09-17T19:53:46.621260Z",
     "iopub.status.busy": "2024-09-17T19:53:46.620473Z",
     "iopub.status.idle": "2024-09-17T19:53:46.688016Z",
     "shell.execute_reply": "2024-09-17T19:53:46.687291Z",
     "shell.execute_reply.started": "2024-09-17T19:53:46.621184Z"
    }
   },
   "outputs": [
    {
     "data": {
      "text/plain": [
       "<Axes: >"
      ]
     },
     "execution_count": 43,
     "metadata": {},
     "output_type": "execute_result"
    },
    {
     "data": {
      "image/png": "[encoded data removed]",
      "text/plain": [
       "<Figure size 640x480 with 1 Axes>"
      ]
     },
     "metadata": {},
     "output_type": "display_data"
    }
   ],
   "source": [
    "df_trees.sort_values(by='Miss Rate')[['Forest Size', 'Miss Rate']].reset_index(drop=True).plot(grid=True)"
   ]
  },
  {
   "cell_type": "code",
   "execution_count": 44,
   "metadata": {
    "execution": {
     "iopub.execute_input": "2024-09-17T19:53:46.908533Z",
     "iopub.status.busy": "2024-09-17T19:53:46.907847Z",
     "iopub.status.idle": "2024-09-17T19:53:47.000505Z",
     "shell.execute_reply": "2024-09-17T19:53:47.000142Z",
     "shell.execute_reply.started": "2024-09-17T19:53:46.908488Z"
    }
   },
   "outputs": [
    {
     "data": {
      "text/plain": [
       "<Axes: >"
      ]
     },
     "execution_count": 44,
     "metadata": {},
     "output_type": "execute_result"
    },
    {
     "data": {
      "image/png": "[encoded data removed]",
      "text/plain": [
       "<Figure size 640x480 with 1 Axes>"
      ]
     },
     "metadata": {},
     "output_type": "display_data"
    }
   ],
   "source": [
    "df_trees.sort_values(by='Miss Rate')[['Feature Count', 'Miss Rate']].reset_index(drop=True).plot(grid=True)"
   ]
  },
  {
   "cell_type": "code",
   "execution_count": null,
   "metadata": {},
   "outputs": [],
   "source": [
    "!touch /work/yes.do"
   ]
  },
  {
   "cell_type": "markdown",
   "metadata": {},
   "source": [
    "# Tuning 3"
   ]
  },
  {
   "cell_type": "code",
   "execution_count": null,
   "metadata": {},
   "outputs": [],
   "source": []
  },
  {
   "cell_type": "code",
   "execution_count": null,
   "metadata": {},
   "outputs": [],
   "source": [
    "batch_train_pclass = split_schema['train']['1']\n",
    "batch_val_pclass = split_schema['val']['1']\n",
    "max_depth = 11\n",
    "n_trees = 256\n",
    "max_discard_trees = 256\n",
    "min_feature = 10\n",
    "max_feature = 10\n",
    "\n",
    "cpu_cores = 8\n",
    "max_workers = 2*cpu_cores\n",
    "\n",
    "cls = RandomForestMC(\n",
    "    n_trees=n_trees, \n",
    "    target_col=target_col, \n",
    "    max_discard_trees=max_discard_trees,\n",
    "    batch_train_pclass=batch_train_pclass,\n",
    "    batch_val_pclass=batch_val_pclass,\n",
    "    min_feature=min_feature,\n",
    "    max_feature=max_feature,\n",
    "    max_depth=max_depth\n",
    ")\n",
    "cls"
   ]
  },
  {
   "cell_type": "code",
   "execution_count": 130,
   "metadata": {
    "execution": {
     "iopub.execute_input": "2024-09-18T01:48:08.340573Z",
     "iopub.status.busy": "2024-09-18T01:48:08.340278Z",
     "iopub.status.idle": "2024-09-18T01:48:08.344932Z",
     "shell.execute_reply": "2024-09-18T01:48:08.344407Z",
     "shell.execute_reply.started": "2024-09-18T01:48:08.340563Z"
    }
   },
   "outputs": [],
   "source": [
    "df_test = dfs['test']\n",
    "y_test = df_test[target_col].astype(int).to_list()\n",
    "ppy = lambda x: round(100*x, 6)"
   ]
  },
  {
   "cell_type": "code",
   "execution_count": null,
   "metadata": {},
   "outputs": [],
   "source": [
    "cls.fitParallel(dataset=df_tofit, max_workers=max_workers)\n",
    "ModelDict = cls.model2dict()\n",
    "datetime_tag = datetime.now().strftime('%Y%m%d_%H%M')\n",
    "path_dict = f'{dataset_path}/model_trans_tuning_{len(cls)}trees_{datetime_tag}.json'\n",
    "dump_file_json(path_dict, ModelDict)\n",
    "del ModelDict"
   ]
  },
  {
   "cell_type": "code",
   "execution_count": null,
   "metadata": {},
   "outputs": [],
   "source": [
    "cls.setSoftVoting()\n",
    "y_pred_soft = np.array(cls.testForest(df_test)).astype(int)\n",
    "accuracy_soft = accuracy_score(y_test, y_pred_soft)\n",
    "f1_score_soft = f1_score(y_test, y_pred_soft)\n",
    "\n",
    "print(f\"{len(cls)} Trees\")\n",
    "cm = confusion_matrix(y_test, y_pred_soft)\n",
    "display(pd.DataFrame(cm, columns=['Pred False','Pred True'], index=['False','True']))\n",
    "tn, fp, fn, tp = cm.ravel()\n",
    "obj_score = fn / (fn+tp)\n",
    "print(f\"Acc: {ppy(accuracy_soft):.4f}% \\n F1: {ppy(f1_score_soft):.4f}% \\n FN: {ppy(obj_score):.4f}%\")\n",
    "\n",
    "fc_stars, fc_list = cls.featCount()\n",
    "print(f\"Feat count stats: {fc_stars}\")\n",
    "Counter(fc_list).most_common()"
   ]
  },
  {
   "cell_type": "code",
   "execution_count": null,
   "metadata": {},
   "outputs": [],
   "source": [
    "cls.drop_duplicated_trees()"
   ]
  },
  {
   "cell_type": "code",
   "execution_count": null,
   "metadata": {},
   "outputs": [],
   "source": [
    "cls"
   ]
  },
  {
   "cell_type": "code",
   "execution_count": 131,
   "metadata": {
    "execution": {
     "iopub.execute_input": "2024-09-18T01:48:17.782722Z",
     "iopub.status.busy": "2024-09-18T01:48:17.782499Z",
     "iopub.status.idle": "2024-09-18T01:53:11.556312Z",
     "shell.execute_reply": "2024-09-18T01:53:11.555494Z",
     "shell.execute_reply.started": "2024-09-18T01:48:17.782711Z"
    }
   },
   "outputs": [
    {
     "data": {
      "application/vnd.jupyter.widget-view+json": {
       "model_id": "b68900642bc94b558a994f5f6bd7976e",
       "version_major": 2,
       "version_minor": 0
      },
      "text/plain": [
       "  0%|          | 0/10000 [00:00<?, ?it/s]"
      ]
     },
     "metadata": {},
     "output_type": "display_data"
    },
    {
     "ename": "KeyboardInterrupt",
     "evalue": "",
     "output_type": "error",
     "traceback": [
      "\u001b[0;31m---------------------------------------------------------------------------\u001b[0m",
      "\u001b[0;31mKeyboardInterrupt\u001b[0m                         Traceback (most recent call last)",
      "Cell \u001b[0;32mIn[131], line 22\u001b[0m\n\u001b[1;32m     20\u001b[0m     \u001b[38;5;28;01mcontinue\u001b[39;00m\n\u001b[1;32m     21\u001b[0m repated_forest\u001b[38;5;241m.\u001b[39madd(hd5_forest)\n\u001b[0;32m---> 22\u001b[0m y_pred_soft \u001b[38;5;241m=\u001b[39m np\u001b[38;5;241m.\u001b[39marray(\u001b[43mcls_inc\u001b[49m\u001b[38;5;241;43m.\u001b[39;49m\u001b[43mtestForest\u001b[49m\u001b[43m(\u001b[49m\u001b[43mdf_mini_test\u001b[49m\u001b[43m)\u001b[49m)\u001b[38;5;241m.\u001b[39mastype(\u001b[38;5;28mint\u001b[39m)\n\u001b[1;32m     23\u001b[0m acc \u001b[38;5;241m=\u001b[39m accuracy_score(y_test, y_pred_soft)\n\u001b[1;32m     24\u001b[0m f1 \u001b[38;5;241m=\u001b[39m f1_score(y_test, y_pred_soft)\n",
      "File \u001b[0;32m/usr/local/lib/python3.11/site-packages/random_forest_mc/model.py:775\u001b[0m, in \u001b[0;36mRandomForestMC.testForest\u001b[0;34m(self, ds)\u001b[0m\n\u001b[1;32m    774\u001b[0m \u001b[38;5;28;01mdef\u001b[39;00m \u001b[38;5;21mtestForest\u001b[39m(\u001b[38;5;28mself\u001b[39m, ds: pd\u001b[38;5;241m.\u001b[39mDataFrame) \u001b[38;5;241m-\u001b[39m\u001b[38;5;241m>\u001b[39m List[TypeClassVal]:\n\u001b[0;32m--> 775\u001b[0m     \u001b[38;5;28;01mreturn\u001b[39;00m \u001b[43m[\u001b[49m\u001b[38;5;28;43mself\u001b[39;49m\u001b[38;5;241;43m.\u001b[39;49m\u001b[43mmaxProbClas\u001b[49m\u001b[43m(\u001b[49m\u001b[38;5;28;43mself\u001b[39;49m\u001b[38;5;241;43m.\u001b[39;49m\u001b[43museForest\u001b[49m\u001b[43m(\u001b[49m\u001b[43mrow\u001b[49m\u001b[43m)\u001b[49m\u001b[43m)\u001b[49m\u001b[43m \u001b[49m\u001b[38;5;28;43;01mfor\u001b[39;49;00m\u001b[43m \u001b[49m\u001b[43m_\u001b[49m\u001b[43m,\u001b[49m\u001b[43m \u001b[49m\u001b[43mrow\u001b[49m\u001b[43m \u001b[49m\u001b[38;5;129;43;01min\u001b[39;49;00m\u001b[43m \u001b[49m\u001b[43mds\u001b[49m\u001b[38;5;241;43m.\u001b[39;49m\u001b[43miterrows\u001b[49m\u001b[43m(\u001b[49m\u001b[43m)\u001b[49m\u001b[43m]\u001b[49m\n",
      "File \u001b[0;32m/usr/local/lib/python3.11/site-packages/random_forest_mc/model.py:775\u001b[0m, in \u001b[0;36m<listcomp>\u001b[0;34m(.0)\u001b[0m\n\u001b[1;32m    774\u001b[0m \u001b[38;5;28;01mdef\u001b[39;00m \u001b[38;5;21mtestForest\u001b[39m(\u001b[38;5;28mself\u001b[39m, ds: pd\u001b[38;5;241m.\u001b[39mDataFrame) \u001b[38;5;241m-\u001b[39m\u001b[38;5;241m>\u001b[39m List[TypeClassVal]:\n\u001b[0;32m--> 775\u001b[0m     \u001b[38;5;28;01mreturn\u001b[39;00m [\u001b[38;5;28mself\u001b[39m\u001b[38;5;241m.\u001b[39mmaxProbClas(\u001b[38;5;28;43mself\u001b[39;49m\u001b[38;5;241;43m.\u001b[39;49m\u001b[43museForest\u001b[49m\u001b[43m(\u001b[49m\u001b[43mrow\u001b[49m\u001b[43m)\u001b[49m) \u001b[38;5;28;01mfor\u001b[39;00m _, row \u001b[38;5;129;01min\u001b[39;00m ds\u001b[38;5;241m.\u001b[39miterrows()]\n",
      "File \u001b[0;32m/usr/local/lib/python3.11/site-packages/random_forest_mc/model.py:746\u001b[0m, in \u001b[0;36mRandomForestMC.useForest\u001b[0;34m(self, row)\u001b[0m\n\u001b[1;32m    744\u001b[0m \u001b[38;5;28;01melse\u001b[39;00m:\n\u001b[1;32m    745\u001b[0m     class_probs \u001b[38;5;241m=\u001b[39m defaultdict(\u001b[38;5;28mfloat\u001b[39m)\n\u001b[0;32m--> 746\u001b[0m     pred_probs \u001b[38;5;241m=\u001b[39m \u001b[43m[\u001b[49m\u001b[43mTree\u001b[49m\u001b[43m(\u001b[49m\u001b[43mrow\u001b[49m\u001b[43m)\u001b[49m\u001b[43m \u001b[49m\u001b[38;5;28;43;01mfor\u001b[39;49;00m\u001b[43m \u001b[49m\u001b[43mTree\u001b[49m\u001b[43m \u001b[49m\u001b[38;5;129;43;01min\u001b[39;49;00m\u001b[43m \u001b[49m\u001b[38;5;28;43mself\u001b[39;49m\u001b[38;5;241;43m.\u001b[39;49m\u001b[43mdata\u001b[49m\u001b[43m]\u001b[49m\n\u001b[1;32m    747\u001b[0m     \u001b[38;5;28;01mfor\u001b[39;00m predp \u001b[38;5;129;01min\u001b[39;00m pred_probs:\n\u001b[1;32m    748\u001b[0m         \u001b[38;5;28;01mfor\u001b[39;00m class_val, prob \u001b[38;5;129;01min\u001b[39;00m predp\u001b[38;5;241m.\u001b[39mitems():\n",
      "File \u001b[0;32m/usr/local/lib/python3.11/site-packages/random_forest_mc/model.py:746\u001b[0m, in \u001b[0;36m<listcomp>\u001b[0;34m(.0)\u001b[0m\n\u001b[1;32m    744\u001b[0m \u001b[38;5;28;01melse\u001b[39;00m:\n\u001b[1;32m    745\u001b[0m     class_probs \u001b[38;5;241m=\u001b[39m defaultdict(\u001b[38;5;28mfloat\u001b[39m)\n\u001b[0;32m--> 746\u001b[0m     pred_probs \u001b[38;5;241m=\u001b[39m [\u001b[43mTree\u001b[49m\u001b[43m(\u001b[49m\u001b[43mrow\u001b[49m\u001b[43m)\u001b[49m \u001b[38;5;28;01mfor\u001b[39;00m Tree \u001b[38;5;129;01min\u001b[39;00m \u001b[38;5;28mself\u001b[39m\u001b[38;5;241m.\u001b[39mdata]\n\u001b[1;32m    747\u001b[0m     \u001b[38;5;28;01mfor\u001b[39;00m predp \u001b[38;5;129;01min\u001b[39;00m pred_probs:\n\u001b[1;32m    748\u001b[0m         \u001b[38;5;28;01mfor\u001b[39;00m class_val, prob \u001b[38;5;129;01min\u001b[39;00m predp\u001b[38;5;241m.\u001b[39mitems():\n",
      "File \u001b[0;32m/usr/local/lib/python3.11/site-packages/random_forest_mc/model.py:178\u001b[0m, in \u001b[0;36mDecisionTreeMC.__call__\u001b[0;34m(self, row)\u001b[0m\n\u001b[1;32m    177\u001b[0m \u001b[38;5;28;01mdef\u001b[39;00m \u001b[38;5;21m__call__\u001b[39m(\u001b[38;5;28mself\u001b[39m, row: dsRow) \u001b[38;5;241m-\u001b[39m\u001b[38;5;241m>\u001b[39m TypeLeaf:\n\u001b[0;32m--> 178\u001b[0m     \u001b[38;5;28;01mreturn\u001b[39;00m \u001b[38;5;28;43mself\u001b[39;49m\u001b[38;5;241;43m.\u001b[39;49m\u001b[43museTree\u001b[49m\u001b[43m(\u001b[49m\u001b[43mrow\u001b[49m\u001b[43m)\u001b[49m\n",
      "File \u001b[0;32m/usr/local/lib/python3.11/site-packages/random_forest_mc/model.py:243\u001b[0m, in \u001b[0;36mDecisionTreeMC.useTree\u001b[0;34m(self, row)\u001b[0m\n\u001b[1;32m    241\u001b[0m \u001b[38;5;28;01mdef\u001b[39;00m \u001b[38;5;21museTree\u001b[39m(\u001b[38;5;28mself\u001b[39m, row: dsRow) \u001b[38;5;241m-\u001b[39m\u001b[38;5;241m>\u001b[39m TypeLeaf:\n\u001b[1;32m    242\u001b[0m     Tree \u001b[38;5;241m=\u001b[39m \u001b[38;5;28mself\u001b[39m\u001b[38;5;241m.\u001b[39mdata\u001b[38;5;241m.\u001b[39mcopy()\n\u001b[0;32m--> 243\u001b[0m     out \u001b[38;5;241m=\u001b[39m \u001b[38;5;28;43mself\u001b[39;49m\u001b[38;5;241;43m.\u001b[39;49m\u001b[43m_useTree\u001b[49m\u001b[43m(\u001b[49m\u001b[43mTree\u001b[49m\u001b[43m,\u001b[49m\u001b[43m \u001b[49m\u001b[43mrow\u001b[49m\u001b[43m)\u001b[49m\n\u001b[1;32m    244\u001b[0m     \u001b[38;5;28;01mif\u001b[39;00m \u001b[38;5;28misinstance\u001b[39m(out, \u001b[38;5;28mdict\u001b[39m):\n\u001b[1;32m    245\u001b[0m         \u001b[38;5;28;01mreturn\u001b[39;00m out\n",
      "File \u001b[0;32m/usr/local/lib/python3.11/site-packages/random_forest_mc/model.py:239\u001b[0m, in \u001b[0;36mDecisionTreeMC._useTree\u001b[0;34m(Tree, row)\u001b[0m\n\u001b[1;32m    236\u001b[0m         \u001b[38;5;28;01mreturn\u001b[39;00m functionalUseTree(tree_node_split[\u001b[38;5;124m\"\u001b[39m\u001b[38;5;124m>=\u001b[39m\u001b[38;5;124m\"\u001b[39m])\n\u001b[1;32m    237\u001b[0m     \u001b[38;5;28;01mreturn\u001b[39;00m functionalUseTree(tree_node_split[\u001b[38;5;124m\"\u001b[39m\u001b[38;5;124m<\u001b[39m\u001b[38;5;124m\"\u001b[39m])\n\u001b[0;32m--> 239\u001b[0m \u001b[38;5;28;01mreturn\u001b[39;00m \u001b[43mfunctionalUseTree\u001b[49m\u001b[43m(\u001b[49m\u001b[43mTree\u001b[49m\u001b[43m)\u001b[49m\n",
      "File \u001b[0;32m/usr/local/lib/python3.11/site-packages/random_forest_mc/model.py:237\u001b[0m, in \u001b[0;36mDecisionTreeMC._useTree.<locals>.functionalUseTree\u001b[0;34m(subTree)\u001b[0m\n\u001b[1;32m    232\u001b[0m \u001b[38;5;28;01mif\u001b[39;00m val \u001b[38;5;241m==\u001b[39m tree_node_split[\u001b[38;5;124m\"\u001b[39m\u001b[38;5;124msplit_val\u001b[39m\u001b[38;5;124m\"\u001b[39m] \u001b[38;5;129;01mor\u001b[39;00m (\n\u001b[1;32m    233\u001b[0m     tree_node_split[\u001b[38;5;124m\"\u001b[39m\u001b[38;5;124mfeat_type\u001b[39m\u001b[38;5;124m\"\u001b[39m] \u001b[38;5;241m==\u001b[39m \u001b[38;5;124m\"\u001b[39m\u001b[38;5;124mnumeric\u001b[39m\u001b[38;5;124m\"\u001b[39m\n\u001b[1;32m    234\u001b[0m     \u001b[38;5;129;01mand\u001b[39;00m val \u001b[38;5;241m>\u001b[39m tree_node_split[\u001b[38;5;124m\"\u001b[39m\u001b[38;5;124msplit_val\u001b[39m\u001b[38;5;124m\"\u001b[39m]\n\u001b[1;32m    235\u001b[0m ):\n\u001b[1;32m    236\u001b[0m     \u001b[38;5;28;01mreturn\u001b[39;00m functionalUseTree(tree_node_split[\u001b[38;5;124m\"\u001b[39m\u001b[38;5;124m>=\u001b[39m\u001b[38;5;124m\"\u001b[39m])\n\u001b[0;32m--> 237\u001b[0m \u001b[38;5;28;01mreturn\u001b[39;00m \u001b[43mfunctionalUseTree\u001b[49m\u001b[43m(\u001b[49m\u001b[43mtree_node_split\u001b[49m\u001b[43m[\u001b[49m\u001b[38;5;124;43m\"\u001b[39;49m\u001b[38;5;124;43m<\u001b[39;49m\u001b[38;5;124;43m\"\u001b[39;49m\u001b[43m]\u001b[49m\u001b[43m)\u001b[49m\n",
      "File \u001b[0;32m/usr/local/lib/python3.11/site-packages/random_forest_mc/model.py:237\u001b[0m, in \u001b[0;36mDecisionTreeMC._useTree.<locals>.functionalUseTree\u001b[0;34m(subTree)\u001b[0m\n\u001b[1;32m    232\u001b[0m \u001b[38;5;28;01mif\u001b[39;00m val \u001b[38;5;241m==\u001b[39m tree_node_split[\u001b[38;5;124m\"\u001b[39m\u001b[38;5;124msplit_val\u001b[39m\u001b[38;5;124m\"\u001b[39m] \u001b[38;5;129;01mor\u001b[39;00m (\n\u001b[1;32m    233\u001b[0m     tree_node_split[\u001b[38;5;124m\"\u001b[39m\u001b[38;5;124mfeat_type\u001b[39m\u001b[38;5;124m\"\u001b[39m] \u001b[38;5;241m==\u001b[39m \u001b[38;5;124m\"\u001b[39m\u001b[38;5;124mnumeric\u001b[39m\u001b[38;5;124m\"\u001b[39m\n\u001b[1;32m    234\u001b[0m     \u001b[38;5;129;01mand\u001b[39;00m val \u001b[38;5;241m>\u001b[39m tree_node_split[\u001b[38;5;124m\"\u001b[39m\u001b[38;5;124msplit_val\u001b[39m\u001b[38;5;124m\"\u001b[39m]\n\u001b[1;32m    235\u001b[0m ):\n\u001b[1;32m    236\u001b[0m     \u001b[38;5;28;01mreturn\u001b[39;00m functionalUseTree(tree_node_split[\u001b[38;5;124m\"\u001b[39m\u001b[38;5;124m>=\u001b[39m\u001b[38;5;124m\"\u001b[39m])\n\u001b[0;32m--> 237\u001b[0m \u001b[38;5;28;01mreturn\u001b[39;00m \u001b[43mfunctionalUseTree\u001b[49m\u001b[43m(\u001b[49m\u001b[43mtree_node_split\u001b[49m\u001b[43m[\u001b[49m\u001b[38;5;124;43m\"\u001b[39;49m\u001b[38;5;124;43m<\u001b[39;49m\u001b[38;5;124;43m\"\u001b[39;49m\u001b[43m]\u001b[49m\u001b[43m)\u001b[49m\n",
      "    \u001b[0;31m[... skipping similar frames: DecisionTreeMC._useTree.<locals>.functionalUseTree at line 237 (1 times)]\u001b[0m\n",
      "File \u001b[0;32m/usr/local/lib/python3.11/site-packages/random_forest_mc/model.py:237\u001b[0m, in \u001b[0;36mDecisionTreeMC._useTree.<locals>.functionalUseTree\u001b[0;34m(subTree)\u001b[0m\n\u001b[1;32m    232\u001b[0m \u001b[38;5;28;01mif\u001b[39;00m val \u001b[38;5;241m==\u001b[39m tree_node_split[\u001b[38;5;124m\"\u001b[39m\u001b[38;5;124msplit_val\u001b[39m\u001b[38;5;124m\"\u001b[39m] \u001b[38;5;129;01mor\u001b[39;00m (\n\u001b[1;32m    233\u001b[0m     tree_node_split[\u001b[38;5;124m\"\u001b[39m\u001b[38;5;124mfeat_type\u001b[39m\u001b[38;5;124m\"\u001b[39m] \u001b[38;5;241m==\u001b[39m \u001b[38;5;124m\"\u001b[39m\u001b[38;5;124mnumeric\u001b[39m\u001b[38;5;124m\"\u001b[39m\n\u001b[1;32m    234\u001b[0m     \u001b[38;5;129;01mand\u001b[39;00m val \u001b[38;5;241m>\u001b[39m tree_node_split[\u001b[38;5;124m\"\u001b[39m\u001b[38;5;124msplit_val\u001b[39m\u001b[38;5;124m\"\u001b[39m]\n\u001b[1;32m    235\u001b[0m ):\n\u001b[1;32m    236\u001b[0m     \u001b[38;5;28;01mreturn\u001b[39;00m functionalUseTree(tree_node_split[\u001b[38;5;124m\"\u001b[39m\u001b[38;5;124m>=\u001b[39m\u001b[38;5;124m\"\u001b[39m])\n\u001b[0;32m--> 237\u001b[0m \u001b[38;5;28;01mreturn\u001b[39;00m \u001b[43mfunctionalUseTree\u001b[49m\u001b[43m(\u001b[49m\u001b[43mtree_node_split\u001b[49m\u001b[43m[\u001b[49m\u001b[38;5;124;43m\"\u001b[39;49m\u001b[38;5;124;43m<\u001b[39;49m\u001b[38;5;124;43m\"\u001b[39;49m\u001b[43m]\u001b[49m\u001b[43m)\u001b[49m\n",
      "File \u001b[0;32m/usr/local/lib/python3.11/site-packages/random_forest_mc/model.py:231\u001b[0m, in \u001b[0;36mDecisionTreeMC._useTree.<locals>.functionalUseTree\u001b[0;34m(subTree)\u001b[0m\n\u001b[1;32m    226\u001b[0m \u001b[38;5;28;01mif\u001b[39;00m node \u001b[38;5;129;01mnot\u001b[39;00m \u001b[38;5;129;01min\u001b[39;00m row\u001b[38;5;241m.\u001b[39mindex:\n\u001b[1;32m    227\u001b[0m     \u001b[38;5;28;01mreturn\u001b[39;00m [\n\u001b[1;32m    228\u001b[0m         functionalUseTree(tree_node_split[\u001b[38;5;124m\"\u001b[39m\u001b[38;5;124m>=\u001b[39m\u001b[38;5;124m\"\u001b[39m]),\n\u001b[1;32m    229\u001b[0m         functionalUseTree(tree_node_split[\u001b[38;5;124m\"\u001b[39m\u001b[38;5;124m<\u001b[39m\u001b[38;5;124m\"\u001b[39m]),\n\u001b[1;32m    230\u001b[0m     ]\n\u001b[0;32m--> 231\u001b[0m val \u001b[38;5;241m=\u001b[39m \u001b[43mrow\u001b[49m\u001b[43m[\u001b[49m\u001b[43mnode\u001b[49m\u001b[43m]\u001b[49m\n\u001b[1;32m    232\u001b[0m \u001b[38;5;28;01mif\u001b[39;00m val \u001b[38;5;241m==\u001b[39m tree_node_split[\u001b[38;5;124m\"\u001b[39m\u001b[38;5;124msplit_val\u001b[39m\u001b[38;5;124m\"\u001b[39m] \u001b[38;5;129;01mor\u001b[39;00m (\n\u001b[1;32m    233\u001b[0m     tree_node_split[\u001b[38;5;124m\"\u001b[39m\u001b[38;5;124mfeat_type\u001b[39m\u001b[38;5;124m\"\u001b[39m] \u001b[38;5;241m==\u001b[39m \u001b[38;5;124m\"\u001b[39m\u001b[38;5;124mnumeric\u001b[39m\u001b[38;5;124m\"\u001b[39m\n\u001b[1;32m    234\u001b[0m     \u001b[38;5;129;01mand\u001b[39;00m val \u001b[38;5;241m>\u001b[39m tree_node_split[\u001b[38;5;124m\"\u001b[39m\u001b[38;5;124msplit_val\u001b[39m\u001b[38;5;124m\"\u001b[39m]\n\u001b[1;32m    235\u001b[0m ):\n\u001b[1;32m    236\u001b[0m     \u001b[38;5;28;01mreturn\u001b[39;00m functionalUseTree(tree_node_split[\u001b[38;5;124m\"\u001b[39m\u001b[38;5;124m>=\u001b[39m\u001b[38;5;124m\"\u001b[39m])\n",
      "File \u001b[0;32m/usr/local/lib/python3.11/site-packages/pandas/core/series.py:1096\u001b[0m, in \u001b[0;36mSeries.__getitem__\u001b[0;34m(self, key)\u001b[0m\n\u001b[1;32m   1095\u001b[0m \u001b[38;5;28;01mdef\u001b[39;00m \u001b[38;5;21m__getitem__\u001b[39m(\u001b[38;5;28mself\u001b[39m, key):\n\u001b[0;32m-> 1096\u001b[0m     \u001b[43mcheck_dict_or_set_indexers\u001b[49m\u001b[43m(\u001b[49m\u001b[43mkey\u001b[49m\u001b[43m)\u001b[49m\n\u001b[1;32m   1097\u001b[0m     key \u001b[38;5;241m=\u001b[39m com\u001b[38;5;241m.\u001b[39mapply_if_callable(key, \u001b[38;5;28mself\u001b[39m)\n\u001b[1;32m   1099\u001b[0m     \u001b[38;5;28;01mif\u001b[39;00m key \u001b[38;5;129;01mis\u001b[39;00m \u001b[38;5;28mEllipsis\u001b[39m:\n",
      "File \u001b[0;32m/usr/local/lib/python3.11/site-packages/pandas/core/indexing.py:2765\u001b[0m, in \u001b[0;36mcheck_dict_or_set_indexers\u001b[0;34m(key)\u001b[0m\n\u001b[1;32m   2753\u001b[0m \u001b[38;5;250m    \u001b[39m\u001b[38;5;124;03m\"\"\"\u001b[39;00m\n\u001b[1;32m   2754\u001b[0m \u001b[38;5;124;03m    Returns\u001b[39;00m\n\u001b[1;32m   2755\u001b[0m \u001b[38;5;124;03m    -------\u001b[39;00m\n\u001b[1;32m   2756\u001b[0m \u001b[38;5;124;03m    bool\u001b[39;00m\n\u001b[1;32m   2757\u001b[0m \u001b[38;5;124;03m    \"\"\"\u001b[39;00m\n\u001b[1;32m   2758\u001b[0m     \u001b[38;5;28;01mreturn\u001b[39;00m (\n\u001b[1;32m   2759\u001b[0m         obj\u001b[38;5;241m.\u001b[39mstart \u001b[38;5;129;01mis\u001b[39;00m \u001b[38;5;129;01mnot\u001b[39;00m \u001b[38;5;28;01mNone\u001b[39;00m\n\u001b[1;32m   2760\u001b[0m         \u001b[38;5;129;01mor\u001b[39;00m obj\u001b[38;5;241m.\u001b[39mstop \u001b[38;5;129;01mis\u001b[39;00m \u001b[38;5;129;01mnot\u001b[39;00m \u001b[38;5;28;01mNone\u001b[39;00m\n\u001b[1;32m   2761\u001b[0m         \u001b[38;5;129;01mor\u001b[39;00m (obj\u001b[38;5;241m.\u001b[39mstep \u001b[38;5;129;01mis\u001b[39;00m \u001b[38;5;129;01mnot\u001b[39;00m \u001b[38;5;28;01mNone\u001b[39;00m \u001b[38;5;129;01mand\u001b[39;00m obj\u001b[38;5;241m.\u001b[39mstep \u001b[38;5;241m!=\u001b[39m \u001b[38;5;241m1\u001b[39m)\n\u001b[1;32m   2762\u001b[0m     )\n\u001b[0;32m-> 2765\u001b[0m \u001b[38;5;28;01mdef\u001b[39;00m \u001b[38;5;21mcheck_dict_or_set_indexers\u001b[39m(key) \u001b[38;5;241m-\u001b[39m\u001b[38;5;241m>\u001b[39m \u001b[38;5;28;01mNone\u001b[39;00m:\n\u001b[1;32m   2766\u001b[0m \u001b[38;5;250m    \u001b[39m\u001b[38;5;124;03m\"\"\"\u001b[39;00m\n\u001b[1;32m   2767\u001b[0m \u001b[38;5;124;03m    Check if the indexer is or contains a dict or set, which is no longer allowed.\u001b[39;00m\n\u001b[1;32m   2768\u001b[0m \u001b[38;5;124;03m    \"\"\"\u001b[39;00m\n\u001b[1;32m   2769\u001b[0m     \u001b[38;5;28;01mif\u001b[39;00m (\n\u001b[1;32m   2770\u001b[0m         \u001b[38;5;28misinstance\u001b[39m(key, \u001b[38;5;28mset\u001b[39m)\n\u001b[1;32m   2771\u001b[0m         \u001b[38;5;129;01mor\u001b[39;00m \u001b[38;5;28misinstance\u001b[39m(key, \u001b[38;5;28mtuple\u001b[39m)\n\u001b[1;32m   2772\u001b[0m         \u001b[38;5;129;01mand\u001b[39;00m \u001b[38;5;28many\u001b[39m(\u001b[38;5;28misinstance\u001b[39m(x, \u001b[38;5;28mset\u001b[39m) \u001b[38;5;28;01mfor\u001b[39;00m x \u001b[38;5;129;01min\u001b[39;00m key)\n\u001b[1;32m   2773\u001b[0m     ):\n",
      "\u001b[0;31mKeyboardInterrupt\u001b[0m: "
     ]
    }
   ],
   "source": [
    "cls_inc = RandomForestMC(target_col=target_col)\n",
    "cls_inc.process_dataset(df_tofit)\n",
    "cls_inc.setSoftVoting(True)\n",
    "df_frauds = df_test.query(f'{target_col} == \"1\"').reset_index(drop=True)\n",
    "df_notfrauds = df_test.query(f'{target_col} == \"0\"').sample(n=1000).reset_index(drop=True)\n",
    "df_mini_test = pd.concat([df_frauds, df_notfrauds], ignore_index=True)\n",
    "y_test = df_mini_test[target_col].astype(int).to_list()\n",
    "\n",
    "N_sim = 10000\n",
    "\n",
    "data = defaultdict(list)\n",
    "n_trees = [4, 5, 6]\n",
    "for _ in tqdm(range(N_sim)):\n",
    "    repated_forest = set()\n",
    "    for i in n_trees:\n",
    "        cls_inc.reset_forest()\n",
    "        cls_inc.mergeForest(cls, N=i, by=\"random\")\n",
    "        hd5_forest = \"\".join(sorted([Tree.md5hexdigest for Tree in cls_inc]))\n",
    "        if hd5_forest in repated_forest:\n",
    "            continue\n",
    "        repated_forest.add(hd5_forest)\n",
    "        y_pred_soft = np.array(cls_inc.testForest(df_mini_test)).astype(int)\n",
    "        acc = accuracy_score(y_test, y_pred_soft)\n",
    "        f1 = f1_score(y_test, y_pred_soft)\n",
    "        miss_rate = sum([not p for t, p in zip(y_test, y_pred_soft) if t]) / sum(y_test)\n",
    "        for Tree in cls_inc:\n",
    "            data[Tree.md5hexdigest].append((i, len(Tree.used_features), max(Tree.depths), acc, f1, miss_rate))"
   ]
  },
  {
   "cell_type": "code",
   "execution_count": null,
   "metadata": {
    "execution": {
     "iopub.status.busy": "2024-09-18T01:53:11.556773Z",
     "iopub.status.idle": "2024-09-18T01:53:11.556910Z",
     "shell.execute_reply": "2024-09-18T01:53:11.556848Z",
     "shell.execute_reply.started": "2024-09-18T01:53:11.556842Z"
    }
   },
   "outputs": [],
   "source": [
    "datetime_tag = datetime.now().strftime('%Y%m%d_%H%M')\n",
    "dump_file_json(f\"{dataset_path}/trees_trans_metrcis_sim3_{datetime_tag}.json\", data)"
   ]
  },
  {
   "cell_type": "code",
   "execution_count": null,
   "metadata": {
    "execution": {
     "iopub.status.busy": "2024-09-18T01:53:11.557698Z",
     "iopub.status.idle": "2024-09-18T01:53:11.557951Z",
     "shell.execute_reply": "2024-09-18T01:53:11.557856Z",
     "shell.execute_reply.started": "2024-09-18T01:53:11.557847Z"
    }
   },
   "outputs": [],
   "source": [
    "len(data)"
   ]
  },
  {
   "cell_type": "markdown",
   "metadata": {},
   "source": [
    "### Analysing the results"
   ]
  },
  {
   "cell_type": "code",
   "execution_count": 71,
   "metadata": {
    "execution": {
     "iopub.execute_input": "2024-09-17T21:00:01.729034Z",
     "iopub.status.busy": "2024-09-17T21:00:01.728773Z",
     "iopub.status.idle": "2024-09-17T21:00:02.137809Z",
     "shell.execute_reply": "2024-09-17T21:00:02.136395Z",
     "shell.execute_reply.started": "2024-09-17T21:00:01.729014Z"
    }
   },
   "outputs": [
    {
     "name": "stdout",
     "output_type": "stream",
     "text": [
      "ls: cannot access '/work/tmp/credit-card-fraud-prediction/trees_metrcis_sim2_*.json': No such file or directory\n"
     ]
    }
   ],
   "source": [
    "!ls $dataset_path/trees_metrcis_sim2_*.json"
   ]
  },
  {
   "cell_type": "code",
   "execution_count": null,
   "metadata": {},
   "outputs": [],
   "source": [
    "data =  load_file_json('/work/tmp/credit-card-fraud-prediction/trees_metrcis_sim2_20240915_1804.json')"
   ]
  },
  {
   "cell_type": "code",
   "execution_count": null,
   "metadata": {
    "execution": {
     "iopub.status.busy": "2024-09-18T01:53:11.558761Z",
     "iopub.status.idle": "2024-09-18T01:53:11.558980Z",
     "shell.execute_reply": "2024-09-18T01:53:11.558889Z",
     "shell.execute_reply.started": "2024-09-18T01:53:11.558881Z"
    }
   },
   "outputs": [],
   "source": [
    "md5_trees = list(data.keys())"
   ]
  },
  {
   "cell_type": "code",
   "execution_count": null,
   "metadata": {
    "execution": {
     "iopub.status.busy": "2024-09-18T01:53:11.559457Z",
     "iopub.status.idle": "2024-09-18T01:53:11.559634Z",
     "shell.execute_reply": "2024-09-18T01:53:11.559551Z",
     "shell.execute_reply.started": "2024-09-18T01:53:11.559543Z"
    }
   },
   "outputs": [],
   "source": [
    "columns = ['Forest Size','Feature Count','Max Depths','Acc','F1','Miss Rate']\n",
    "list_trees = []\n",
    "for md5_tree, stats_tree in data.items():\n",
    "    df_stats = pd.DataFrame(data[md5_tree], columns=columns).max().to_frame().T\n",
    "    df_stats['Tree'] = md5_tree\n",
    "    list_trees.append(df_stats)\n",
    "    df_stats = pd.DataFrame(data[md5_tree], columns=columns).mean().to_frame().T\n",
    "    df_stats['Tree'] = md5_tree\n",
    "    list_trees.append(df_stats)\n",
    "\n",
    "df_trees = pd.concat(list_trees, ignore_index=True)\n",
    "df_trees"
   ]
  },
  {
   "cell_type": "code",
   "execution_count": 49,
   "metadata": {
    "execution": {
     "iopub.execute_input": "2024-09-17T20:45:44.867160Z",
     "iopub.status.busy": "2024-09-17T20:45:44.867023Z",
     "iopub.status.idle": "2024-09-17T20:45:44.873903Z",
     "shell.execute_reply": "2024-09-17T20:45:44.873611Z",
     "shell.execute_reply.started": "2024-09-17T20:45:44.867150Z"
    }
   },
   "outputs": [
    {
     "data": {
      "text/html": [
       "<div>\n",
       "<style scoped>\n",
       "    .dataframe tbody tr th:only-of-type {\n",
       "        vertical-align: middle;\n",
       "    }\n",
       "\n",
       "    .dataframe tbody tr th {\n",
       "        vertical-align: top;\n",
       "    }\n",
       "\n",
       "    .dataframe thead th {\n",
       "        text-align: right;\n",
       "    }\n",
       "</style>\n",
       "<table border=\"1\" class=\"dataframe\">\n",
       "  <thead>\n",
       "    <tr style=\"text-align: right;\">\n",
       "      <th></th>\n",
       "      <th>Forest Size</th>\n",
       "      <th>Feature Count</th>\n",
       "      <th>Max Depths</th>\n",
       "      <th>Acc</th>\n",
       "      <th>F1</th>\n",
       "      <th>Miss Rate</th>\n",
       "      <th>Tree</th>\n",
       "    </tr>\n",
       "  </thead>\n",
       "  <tbody>\n",
       "    <tr>\n",
       "      <th>324</th>\n",
       "      <td>6.0</td>\n",
       "      <td>9.0</td>\n",
       "      <td>11.0</td>\n",
       "      <td>0.920792</td>\n",
       "      <td>0.183673</td>\n",
       "      <td>0.8</td>\n",
       "      <td>1e6a288dbfa0ca83808df6694771d80b</td>\n",
       "    </tr>\n",
       "    <tr>\n",
       "      <th>354</th>\n",
       "      <td>6.0</td>\n",
       "      <td>10.0</td>\n",
       "      <td>11.0</td>\n",
       "      <td>0.920792</td>\n",
       "      <td>0.183673</td>\n",
       "      <td>0.9</td>\n",
       "      <td>232ce693be42a0de41395b6b6f662e54</td>\n",
       "    </tr>\n",
       "    <tr>\n",
       "      <th>110</th>\n",
       "      <td>6.0</td>\n",
       "      <td>10.0</td>\n",
       "      <td>11.0</td>\n",
       "      <td>0.920792</td>\n",
       "      <td>0.183673</td>\n",
       "      <td>0.8</td>\n",
       "      <td>e8ef3fbca3726d4e0d7de93f6bc14255</td>\n",
       "    </tr>\n",
       "    <tr>\n",
       "      <th>416</th>\n",
       "      <td>6.0</td>\n",
       "      <td>10.0</td>\n",
       "      <td>11.0</td>\n",
       "      <td>0.920792</td>\n",
       "      <td>0.183673</td>\n",
       "      <td>0.8</td>\n",
       "      <td>74edde510ada9774a2d7091f1fe98900</td>\n",
       "    </tr>\n",
       "    <tr>\n",
       "      <th>206</th>\n",
       "      <td>6.0</td>\n",
       "      <td>10.0</td>\n",
       "      <td>11.0</td>\n",
       "      <td>0.920792</td>\n",
       "      <td>0.183673</td>\n",
       "      <td>0.9</td>\n",
       "      <td>e49f22d11177bde7eb74ad25e86551b4</td>\n",
       "    </tr>\n",
       "    <tr>\n",
       "      <th>328</th>\n",
       "      <td>6.0</td>\n",
       "      <td>10.0</td>\n",
       "      <td>11.0</td>\n",
       "      <td>0.920792</td>\n",
       "      <td>0.160000</td>\n",
       "      <td>0.8</td>\n",
       "      <td>b52837e949ad9033723523c82f0d68b2</td>\n",
       "    </tr>\n",
       "    <tr>\n",
       "      <th>218</th>\n",
       "      <td>6.0</td>\n",
       "      <td>10.0</td>\n",
       "      <td>11.0</td>\n",
       "      <td>0.916832</td>\n",
       "      <td>0.160000</td>\n",
       "      <td>0.8</td>\n",
       "      <td>fdbbc6fb66035f3fdc8d6615cdabc217</td>\n",
       "    </tr>\n",
       "    <tr>\n",
       "      <th>76</th>\n",
       "      <td>6.0</td>\n",
       "      <td>10.0</td>\n",
       "      <td>11.0</td>\n",
       "      <td>0.917822</td>\n",
       "      <td>0.160000</td>\n",
       "      <td>0.8</td>\n",
       "      <td>a4073635cb1d71d41c264105a264048f</td>\n",
       "    </tr>\n",
       "    <tr>\n",
       "      <th>418</th>\n",
       "      <td>6.0</td>\n",
       "      <td>10.0</td>\n",
       "      <td>11.0</td>\n",
       "      <td>0.916832</td>\n",
       "      <td>0.160000</td>\n",
       "      <td>0.9</td>\n",
       "      <td>489dc639fca81b2ebcddb25a5005c2f4</td>\n",
       "    </tr>\n",
       "    <tr>\n",
       "      <th>264</th>\n",
       "      <td>6.0</td>\n",
       "      <td>11.0</td>\n",
       "      <td>12.0</td>\n",
       "      <td>0.916832</td>\n",
       "      <td>0.160000</td>\n",
       "      <td>0.9</td>\n",
       "      <td>f96351008e185e3a4b568b9e255ca67d</td>\n",
       "    </tr>\n",
       "  </tbody>\n",
       "</table>\n",
       "</div>"
      ],
      "text/plain": [
       "     Forest Size  Feature Count  Max Depths       Acc        F1  Miss Rate  \\\n",
       "324          6.0            9.0        11.0  0.920792  0.183673        0.8   \n",
       "354          6.0           10.0        11.0  0.920792  0.183673        0.9   \n",
       "110          6.0           10.0        11.0  0.920792  0.183673        0.8   \n",
       "416          6.0           10.0        11.0  0.920792  0.183673        0.8   \n",
       "206          6.0           10.0        11.0  0.920792  0.183673        0.9   \n",
       "328          6.0           10.0        11.0  0.920792  0.160000        0.8   \n",
       "218          6.0           10.0        11.0  0.916832  0.160000        0.8   \n",
       "76           6.0           10.0        11.0  0.917822  0.160000        0.8   \n",
       "418          6.0           10.0        11.0  0.916832  0.160000        0.9   \n",
       "264          6.0           11.0        12.0  0.916832  0.160000        0.9   \n",
       "\n",
       "                                 Tree  \n",
       "324  1e6a288dbfa0ca83808df6694771d80b  \n",
       "354  232ce693be42a0de41395b6b6f662e54  \n",
       "110  e8ef3fbca3726d4e0d7de93f6bc14255  \n",
       "416  74edde510ada9774a2d7091f1fe98900  \n",
       "206  e49f22d11177bde7eb74ad25e86551b4  \n",
       "328  b52837e949ad9033723523c82f0d68b2  \n",
       "218  fdbbc6fb66035f3fdc8d6615cdabc217  \n",
       "76   a4073635cb1d71d41c264105a264048f  \n",
       "418  489dc639fca81b2ebcddb25a5005c2f4  \n",
       "264  f96351008e185e3a4b568b9e255ca67d  "
      ]
     },
     "execution_count": 49,
     "metadata": {},
     "output_type": "execute_result"
    }
   ],
   "source": [
    "df_trees.sort_values(by='F1', ascending=False).head(10)"
   ]
  },
  {
   "cell_type": "code",
   "execution_count": 50,
   "metadata": {
    "execution": {
     "iopub.execute_input": "2024-09-17T20:45:53.330866Z",
     "iopub.status.busy": "2024-09-17T20:45:53.330719Z",
     "iopub.status.idle": "2024-09-17T20:45:53.337211Z",
     "shell.execute_reply": "2024-09-17T20:45:53.336898Z",
     "shell.execute_reply.started": "2024-09-17T20:45:53.330857Z"
    }
   },
   "outputs": [
    {
     "data": {
      "text/html": [
       "<div>\n",
       "<style scoped>\n",
       "    .dataframe tbody tr th:only-of-type {\n",
       "        vertical-align: middle;\n",
       "    }\n",
       "\n",
       "    .dataframe tbody tr th {\n",
       "        vertical-align: top;\n",
       "    }\n",
       "\n",
       "    .dataframe thead th {\n",
       "        text-align: right;\n",
       "    }\n",
       "</style>\n",
       "<table border=\"1\" class=\"dataframe\">\n",
       "  <thead>\n",
       "    <tr style=\"text-align: right;\">\n",
       "      <th></th>\n",
       "      <th>Forest Size</th>\n",
       "      <th>Feature Count</th>\n",
       "      <th>Max Depths</th>\n",
       "      <th>Acc</th>\n",
       "      <th>F1</th>\n",
       "      <th>Miss Rate</th>\n",
       "      <th>Tree</th>\n",
       "    </tr>\n",
       "  </thead>\n",
       "  <tbody>\n",
       "    <tr>\n",
       "      <th>77</th>\n",
       "      <td>5.182741</td>\n",
       "      <td>10.0</td>\n",
       "      <td>11.0</td>\n",
       "      <td>0.818666</td>\n",
       "      <td>0.071290</td>\n",
       "      <td>0.338409</td>\n",
       "      <td>a4073635cb1d71d41c264105a264048f</td>\n",
       "    </tr>\n",
       "    <tr>\n",
       "      <th>85</th>\n",
       "      <td>5.116487</td>\n",
       "      <td>10.0</td>\n",
       "      <td>11.0</td>\n",
       "      <td>0.817007</td>\n",
       "      <td>0.071157</td>\n",
       "      <td>0.339247</td>\n",
       "      <td>da0f57a6fa995e74527ddd4c77e5c779</td>\n",
       "    </tr>\n",
       "    <tr>\n",
       "      <th>437</th>\n",
       "      <td>5.168367</td>\n",
       "      <td>10.0</td>\n",
       "      <td>11.0</td>\n",
       "      <td>0.825037</td>\n",
       "      <td>0.073457</td>\n",
       "      <td>0.339286</td>\n",
       "      <td>073400c0f65e111470d3d30db8627089</td>\n",
       "    </tr>\n",
       "    <tr>\n",
       "      <th>207</th>\n",
       "      <td>5.152753</td>\n",
       "      <td>10.0</td>\n",
       "      <td>11.0</td>\n",
       "      <td>0.826279</td>\n",
       "      <td>0.074166</td>\n",
       "      <td>0.341030</td>\n",
       "      <td>e49f22d11177bde7eb74ad25e86551b4</td>\n",
       "    </tr>\n",
       "    <tr>\n",
       "      <th>123</th>\n",
       "      <td>5.141818</td>\n",
       "      <td>11.0</td>\n",
       "      <td>12.0</td>\n",
       "      <td>0.818742</td>\n",
       "      <td>0.070270</td>\n",
       "      <td>0.348545</td>\n",
       "      <td>199853f1e4ac7419fb268ee3dfadbd30</td>\n",
       "    </tr>\n",
       "    <tr>\n",
       "      <th>155</th>\n",
       "      <td>5.132404</td>\n",
       "      <td>8.0</td>\n",
       "      <td>11.0</td>\n",
       "      <td>0.810493</td>\n",
       "      <td>0.066502</td>\n",
       "      <td>0.356446</td>\n",
       "      <td>b0eb2833f46d57f43baf7a1b8d1e9f0f</td>\n",
       "    </tr>\n",
       "    <tr>\n",
       "      <th>87</th>\n",
       "      <td>5.170984</td>\n",
       "      <td>10.0</td>\n",
       "      <td>11.0</td>\n",
       "      <td>0.807442</td>\n",
       "      <td>0.065075</td>\n",
       "      <td>0.358377</td>\n",
       "      <td>513003d3fbeda6b46873413cc48a2317</td>\n",
       "    </tr>\n",
       "    <tr>\n",
       "      <th>101</th>\n",
       "      <td>5.104596</td>\n",
       "      <td>11.0</td>\n",
       "      <td>12.0</td>\n",
       "      <td>0.811318</td>\n",
       "      <td>0.066610</td>\n",
       "      <td>0.358479</td>\n",
       "      <td>411097085446b27b179dddd5666bf9d1</td>\n",
       "    </tr>\n",
       "    <tr>\n",
       "      <th>265</th>\n",
       "      <td>5.104348</td>\n",
       "      <td>11.0</td>\n",
       "      <td>12.0</td>\n",
       "      <td>0.821927</td>\n",
       "      <td>0.069355</td>\n",
       "      <td>0.373043</td>\n",
       "      <td>f96351008e185e3a4b568b9e255ca67d</td>\n",
       "    </tr>\n",
       "    <tr>\n",
       "      <th>485</th>\n",
       "      <td>5.126582</td>\n",
       "      <td>10.0</td>\n",
       "      <td>11.0</td>\n",
       "      <td>0.823693</td>\n",
       "      <td>0.069657</td>\n",
       "      <td>0.373599</td>\n",
       "      <td>3fd59aae522e6e366a34a52bf220e8de</td>\n",
       "    </tr>\n",
       "  </tbody>\n",
       "</table>\n",
       "</div>"
      ],
      "text/plain": [
       "     Forest Size  Feature Count  Max Depths       Acc        F1  Miss Rate  \\\n",
       "77      5.182741           10.0        11.0  0.818666  0.071290   0.338409   \n",
       "85      5.116487           10.0        11.0  0.817007  0.071157   0.339247   \n",
       "437     5.168367           10.0        11.0  0.825037  0.073457   0.339286   \n",
       "207     5.152753           10.0        11.0  0.826279  0.074166   0.341030   \n",
       "123     5.141818           11.0        12.0  0.818742  0.070270   0.348545   \n",
       "155     5.132404            8.0        11.0  0.810493  0.066502   0.356446   \n",
       "87      5.170984           10.0        11.0  0.807442  0.065075   0.358377   \n",
       "101     5.104596           11.0        12.0  0.811318  0.066610   0.358479   \n",
       "265     5.104348           11.0        12.0  0.821927  0.069355   0.373043   \n",
       "485     5.126582           10.0        11.0  0.823693  0.069657   0.373599   \n",
       "\n",
       "                                 Tree  \n",
       "77   a4073635cb1d71d41c264105a264048f  \n",
       "85   da0f57a6fa995e74527ddd4c77e5c779  \n",
       "437  073400c0f65e111470d3d30db8627089  \n",
       "207  e49f22d11177bde7eb74ad25e86551b4  \n",
       "123  199853f1e4ac7419fb268ee3dfadbd30  \n",
       "155  b0eb2833f46d57f43baf7a1b8d1e9f0f  \n",
       "87   513003d3fbeda6b46873413cc48a2317  \n",
       "101  411097085446b27b179dddd5666bf9d1  \n",
       "265  f96351008e185e3a4b568b9e255ca67d  \n",
       "485  3fd59aae522e6e366a34a52bf220e8de  "
      ]
     },
     "execution_count": 50,
     "metadata": {},
     "output_type": "execute_result"
    }
   ],
   "source": [
    "df_trees.sort_values(by='Miss Rate').head(10)"
   ]
  },
  {
   "cell_type": "code",
   "execution_count": null,
   "metadata": {
    "execution": {
     "iopub.status.busy": "2024-09-18T01:53:11.560279Z",
     "iopub.status.idle": "2024-09-18T01:53:11.560456Z",
     "shell.execute_reply": "2024-09-18T01:53:11.560372Z",
     "shell.execute_reply.started": "2024-09-18T01:53:11.560365Z"
    }
   },
   "outputs": [],
   "source": [
    "df_trees['My Score'] = df_trees['Acc']-2*df_trees['Miss Rate']"
   ]
  },
  {
   "cell_type": "code",
   "execution_count": null,
   "metadata": {
    "execution": {
     "iopub.status.busy": "2024-09-18T01:53:11.560924Z",
     "iopub.status.idle": "2024-09-18T01:53:11.561095Z",
     "shell.execute_reply": "2024-09-18T01:53:11.561013Z",
     "shell.execute_reply.started": "2024-09-18T01:53:11.561006Z"
    }
   },
   "outputs": [],
   "source": [
    "df_trees.sort_values(by='My Score', ascending=False).head(10)"
   ]
  },
  {
   "cell_type": "code",
   "execution_count": 93,
   "metadata": {
    "execution": {
     "iopub.execute_input": "2024-09-17T21:04:03.429122Z",
     "iopub.status.busy": "2024-09-17T21:04:03.428779Z",
     "iopub.status.idle": "2024-09-17T21:04:03.433294Z",
     "shell.execute_reply": "2024-09-17T21:04:03.432853Z",
     "shell.execute_reply.started": "2024-09-17T21:04:03.429099Z"
    }
   },
   "outputs": [],
   "source": [
    "golden_trees = df_trees.sort_values(by='My Score', ascending=False).head(6).Tree.to_list()"
   ]
  },
  {
   "cell_type": "code",
   "execution_count": 94,
   "metadata": {
    "execution": {
     "iopub.execute_input": "2024-09-17T21:04:03.821581Z",
     "iopub.status.busy": "2024-09-17T21:04:03.821010Z",
     "iopub.status.idle": "2024-09-17T21:04:03.843476Z",
     "shell.execute_reply": "2024-09-17T21:04:03.842998Z",
     "shell.execute_reply.started": "2024-09-17T21:04:03.821555Z"
    }
   },
   "outputs": [],
   "source": [
    "cls.data = [Tree for Tree in cls.data if Tree.md5hexdigest in golden_trees]"
   ]
  },
  {
   "cell_type": "code",
   "execution_count": 95,
   "metadata": {
    "execution": {
     "iopub.execute_input": "2024-09-17T21:04:04.431083Z",
     "iopub.status.busy": "2024-09-17T21:04:04.430529Z",
     "iopub.status.idle": "2024-09-17T21:04:04.435086Z",
     "shell.execute_reply": "2024-09-17T21:04:04.434498Z",
     "shell.execute_reply.started": "2024-09-17T21:04:04.431058Z"
    }
   },
   "outputs": [
    {
     "data": {
      "text/plain": [
       "RandomForestMC(len(Forest)=6,n_trees=256,model_version=1.2.0-dev,module_version=1.2.0-dev)"
      ]
     },
     "execution_count": 95,
     "metadata": {},
     "output_type": "execute_result"
    }
   ],
   "source": [
    "cls"
   ]
  },
  {
   "cell_type": "markdown",
   "metadata": {},
   "source": [
    "# Generate the submission file"
   ]
  },
  {
   "cell_type": "code",
   "execution_count": 121,
   "metadata": {
    "execution": {
     "iopub.execute_input": "2024-09-18T01:38:19.469070Z",
     "iopub.status.busy": "2024-09-18T01:38:19.468399Z",
     "iopub.status.idle": "2024-09-18T01:38:19.795954Z",
     "shell.execute_reply": "2024-09-18T01:38:19.795589Z",
     "shell.execute_reply.started": "2024-09-18T01:38:19.469021Z"
    }
   },
   "outputs": [
    {
     "data": {
      "text/html": [
       "<div>\n",
       "<style scoped>\n",
       "    .dataframe tbody tr th:only-of-type {\n",
       "        vertical-align: middle;\n",
       "    }\n",
       "\n",
       "    .dataframe tbody tr th {\n",
       "        vertical-align: top;\n",
       "    }\n",
       "\n",
       "    .dataframe thead th {\n",
       "        text-align: right;\n",
       "    }\n",
       "</style>\n",
       "<table border=\"1\" class=\"dataframe\">\n",
       "  <thead>\n",
       "    <tr style=\"text-align: right;\">\n",
       "      <th></th>\n",
       "      <th>id</th>\n",
       "      <th>feat1</th>\n",
       "      <th>feat2</th>\n",
       "      <th>feat3</th>\n",
       "      <th>feat4</th>\n",
       "      <th>feat5</th>\n",
       "      <th>feat6</th>\n",
       "      <th>feat7</th>\n",
       "      <th>feat8</th>\n",
       "      <th>feat9</th>\n",
       "      <th>...</th>\n",
       "      <th>feat20</th>\n",
       "      <th>feat21</th>\n",
       "      <th>feat22</th>\n",
       "      <th>feat23</th>\n",
       "      <th>feat24</th>\n",
       "      <th>feat25</th>\n",
       "      <th>feat26</th>\n",
       "      <th>feat27</th>\n",
       "      <th>feat28</th>\n",
       "      <th>Transaction_Amount</th>\n",
       "    </tr>\n",
       "  </thead>\n",
       "  <tbody>\n",
       "    <tr>\n",
       "      <th>0</th>\n",
       "      <td>150000</td>\n",
       "      <td>-0.729379</td>\n",
       "      <td>-0.418770</td>\n",
       "      <td>-0.122692</td>\n",
       "      <td>0.685474</td>\n",
       "      <td>1.801201</td>\n",
       "      <td>0.317933</td>\n",
       "      <td>-0.537668</td>\n",
       "      <td>-0.492928</td>\n",
       "      <td>0.186811</td>\n",
       "      <td>...</td>\n",
       "      <td>0.419470</td>\n",
       "      <td>-0.530028</td>\n",
       "      <td>0.512478</td>\n",
       "      <td>-0.320477</td>\n",
       "      <td>0.762645</td>\n",
       "      <td>-1.476471</td>\n",
       "      <td>0.662104</td>\n",
       "      <td>-1.984817</td>\n",
       "      <td>-1.955863</td>\n",
       "      <td>0.200614</td>\n",
       "    </tr>\n",
       "    <tr>\n",
       "      <th>1</th>\n",
       "      <td>150001</td>\n",
       "      <td>-0.967199</td>\n",
       "      <td>-0.948422</td>\n",
       "      <td>-0.181320</td>\n",
       "      <td>0.471770</td>\n",
       "      <td>1.014431</td>\n",
       "      <td>-1.639838</td>\n",
       "      <td>0.762997</td>\n",
       "      <td>0.125419</td>\n",
       "      <td>0.230368</td>\n",
       "      <td>...</td>\n",
       "      <td>0.758261</td>\n",
       "      <td>0.409252</td>\n",
       "      <td>1.236127</td>\n",
       "      <td>-0.343396</td>\n",
       "      <td>-1.069279</td>\n",
       "      <td>-0.994046</td>\n",
       "      <td>1.393463</td>\n",
       "      <td>1.487245</td>\n",
       "      <td>0.758979</td>\n",
       "      <td>0.040926</td>\n",
       "    </tr>\n",
       "    <tr>\n",
       "      <th>2</th>\n",
       "      <td>150002</td>\n",
       "      <td>0.601161</td>\n",
       "      <td>-0.324767</td>\n",
       "      <td>-0.040041</td>\n",
       "      <td>-1.118989</td>\n",
       "      <td>0.905209</td>\n",
       "      <td>-0.571874</td>\n",
       "      <td>-1.012144</td>\n",
       "      <td>-1.847303</td>\n",
       "      <td>0.383486</td>\n",
       "      <td>...</td>\n",
       "      <td>0.804758</td>\n",
       "      <td>1.308602</td>\n",
       "      <td>2.144138</td>\n",
       "      <td>-0.866989</td>\n",
       "      <td>-0.649351</td>\n",
       "      <td>0.403534</td>\n",
       "      <td>0.151693</td>\n",
       "      <td>0.084931</td>\n",
       "      <td>0.255804</td>\n",
       "      <td>1.410986</td>\n",
       "    </tr>\n",
       "    <tr>\n",
       "      <th>3</th>\n",
       "      <td>150003</td>\n",
       "      <td>0.809663</td>\n",
       "      <td>-0.281973</td>\n",
       "      <td>-0.714931</td>\n",
       "      <td>-0.105075</td>\n",
       "      <td>1.025281</td>\n",
       "      <td>0.966551</td>\n",
       "      <td>-1.668184</td>\n",
       "      <td>-0.728817</td>\n",
       "      <td>0.816166</td>\n",
       "      <td>...</td>\n",
       "      <td>-0.358853</td>\n",
       "      <td>-0.159244</td>\n",
       "      <td>0.063201</td>\n",
       "      <td>0.091704</td>\n",
       "      <td>-0.797722</td>\n",
       "      <td>0.883891</td>\n",
       "      <td>-0.843995</td>\n",
       "      <td>0.272549</td>\n",
       "      <td>0.067771</td>\n",
       "      <td>-0.406373</td>\n",
       "    </tr>\n",
       "    <tr>\n",
       "      <th>4</th>\n",
       "      <td>150004</td>\n",
       "      <td>0.428651</td>\n",
       "      <td>-0.326640</td>\n",
       "      <td>0.440840</td>\n",
       "      <td>-1.026834</td>\n",
       "      <td>0.438053</td>\n",
       "      <td>0.512048</td>\n",
       "      <td>1.317883</td>\n",
       "      <td>-1.434548</td>\n",
       "      <td>0.238628</td>\n",
       "      <td>...</td>\n",
       "      <td>-0.300170</td>\n",
       "      <td>0.067936</td>\n",
       "      <td>0.189630</td>\n",
       "      <td>-0.599081</td>\n",
       "      <td>-0.041038</td>\n",
       "      <td>0.394406</td>\n",
       "      <td>-0.500654</td>\n",
       "      <td>0.022704</td>\n",
       "      <td>0.248110</td>\n",
       "      <td>1.547347</td>\n",
       "    </tr>\n",
       "    <tr>\n",
       "      <th>...</th>\n",
       "      <td>...</td>\n",
       "      <td>...</td>\n",
       "      <td>...</td>\n",
       "      <td>...</td>\n",
       "      <td>...</td>\n",
       "      <td>...</td>\n",
       "      <td>...</td>\n",
       "      <td>...</td>\n",
       "      <td>...</td>\n",
       "      <td>...</td>\n",
       "      <td>...</td>\n",
       "      <td>...</td>\n",
       "      <td>...</td>\n",
       "      <td>...</td>\n",
       "      <td>...</td>\n",
       "      <td>...</td>\n",
       "      <td>...</td>\n",
       "      <td>...</td>\n",
       "      <td>...</td>\n",
       "      <td>...</td>\n",
       "      <td>...</td>\n",
       "    </tr>\n",
       "    <tr>\n",
       "      <th>69124</th>\n",
       "      <td>219124</td>\n",
       "      <td>1.624262</td>\n",
       "      <td>-0.104165</td>\n",
       "      <td>0.339478</td>\n",
       "      <td>-1.151265</td>\n",
       "      <td>-3.374176</td>\n",
       "      <td>-1.396422</td>\n",
       "      <td>-0.239808</td>\n",
       "      <td>2.486085</td>\n",
       "      <td>2.122469</td>\n",
       "      <td>...</td>\n",
       "      <td>-0.461286</td>\n",
       "      <td>-0.349678</td>\n",
       "      <td>-0.693283</td>\n",
       "      <td>-0.054359</td>\n",
       "      <td>1.346170</td>\n",
       "      <td>0.240897</td>\n",
       "      <td>-0.208657</td>\n",
       "      <td>-0.314032</td>\n",
       "      <td>-0.373149</td>\n",
       "      <td>1.413336</td>\n",
       "    </tr>\n",
       "    <tr>\n",
       "      <th>69125</th>\n",
       "      <td>219125</td>\n",
       "      <td>-0.166251</td>\n",
       "      <td>-0.911678</td>\n",
       "      <td>-0.725224</td>\n",
       "      <td>0.679471</td>\n",
       "      <td>-2.548697</td>\n",
       "      <td>-2.366322</td>\n",
       "      <td>-0.443480</td>\n",
       "      <td>2.302638</td>\n",
       "      <td>-0.972085</td>\n",
       "      <td>...</td>\n",
       "      <td>-0.273539</td>\n",
       "      <td>1.248593</td>\n",
       "      <td>2.710799</td>\n",
       "      <td>-0.104265</td>\n",
       "      <td>-0.212177</td>\n",
       "      <td>-2.520144</td>\n",
       "      <td>1.024263</td>\n",
       "      <td>1.528406</td>\n",
       "      <td>1.679585</td>\n",
       "      <td>0.064907</td>\n",
       "    </tr>\n",
       "    <tr>\n",
       "      <th>69126</th>\n",
       "      <td>219126</td>\n",
       "      <td>1.829244</td>\n",
       "      <td>0.335278</td>\n",
       "      <td>-0.614405</td>\n",
       "      <td>-0.150166</td>\n",
       "      <td>-1.629168</td>\n",
       "      <td>0.310995</td>\n",
       "      <td>0.292634</td>\n",
       "      <td>0.137957</td>\n",
       "      <td>-0.594961</td>\n",
       "      <td>...</td>\n",
       "      <td>-0.917303</td>\n",
       "      <td>-0.664766</td>\n",
       "      <td>-1.496607</td>\n",
       "      <td>1.124411</td>\n",
       "      <td>-0.094732</td>\n",
       "      <td>-1.145439</td>\n",
       "      <td>0.517427</td>\n",
       "      <td>-0.500782</td>\n",
       "      <td>-0.369928</td>\n",
       "      <td>-1.204521</td>\n",
       "    </tr>\n",
       "    <tr>\n",
       "      <th>69127</th>\n",
       "      <td>219127</td>\n",
       "      <td>1.855195</td>\n",
       "      <td>0.241811</td>\n",
       "      <td>1.024810</td>\n",
       "      <td>-1.857585</td>\n",
       "      <td>-1.497506</td>\n",
       "      <td>-3.179887</td>\n",
       "      <td>0.016132</td>\n",
       "      <td>0.496345</td>\n",
       "      <td>2.912143</td>\n",
       "      <td>...</td>\n",
       "      <td>-0.450039</td>\n",
       "      <td>0.361137</td>\n",
       "      <td>1.081499</td>\n",
       "      <td>1.058779</td>\n",
       "      <td>1.185905</td>\n",
       "      <td>-1.490868</td>\n",
       "      <td>-0.067597</td>\n",
       "      <td>0.169664</td>\n",
       "      <td>-0.204495</td>\n",
       "      <td>0.855445</td>\n",
       "    </tr>\n",
       "    <tr>\n",
       "      <th>69128</th>\n",
       "      <td>219128</td>\n",
       "      <td>-0.574627</td>\n",
       "      <td>-0.665208</td>\n",
       "      <td>-0.534200</td>\n",
       "      <td>0.978813</td>\n",
       "      <td>-0.398262</td>\n",
       "      <td>-1.136734</td>\n",
       "      <td>1.686320</td>\n",
       "      <td>1.274421</td>\n",
       "      <td>-1.220006</td>\n",
       "      <td>...</td>\n",
       "      <td>0.133437</td>\n",
       "      <td>0.634927</td>\n",
       "      <td>1.800603</td>\n",
       "      <td>-0.544809</td>\n",
       "      <td>0.084631</td>\n",
       "      <td>-1.127462</td>\n",
       "      <td>0.233585</td>\n",
       "      <td>1.281099</td>\n",
       "      <td>1.352996</td>\n",
       "      <td>-0.876830</td>\n",
       "    </tr>\n",
       "  </tbody>\n",
       "</table>\n",
       "<p>69129 rows × 30 columns</p>\n",
       "</div>"
      ],
      "text/plain": [
       "           id     feat1     feat2     feat3     feat4     feat5     feat6  \\\n",
       "0      150000 -0.729379 -0.418770 -0.122692  0.685474  1.801201  0.317933   \n",
       "1      150001 -0.967199 -0.948422 -0.181320  0.471770  1.014431 -1.639838   \n",
       "2      150002  0.601161 -0.324767 -0.040041 -1.118989  0.905209 -0.571874   \n",
       "3      150003  0.809663 -0.281973 -0.714931 -0.105075  1.025281  0.966551   \n",
       "4      150004  0.428651 -0.326640  0.440840 -1.026834  0.438053  0.512048   \n",
       "...       ...       ...       ...       ...       ...       ...       ...   \n",
       "69124  219124  1.624262 -0.104165  0.339478 -1.151265 -3.374176 -1.396422   \n",
       "69125  219125 -0.166251 -0.911678 -0.725224  0.679471 -2.548697 -2.366322   \n",
       "69126  219126  1.829244  0.335278 -0.614405 -0.150166 -1.629168  0.310995   \n",
       "69127  219127  1.855195  0.241811  1.024810 -1.857585 -1.497506 -3.179887   \n",
       "69128  219128 -0.574627 -0.665208 -0.534200  0.978813 -0.398262 -1.136734   \n",
       "\n",
       "          feat7     feat8     feat9  ...    feat20    feat21    feat22  \\\n",
       "0     -0.537668 -0.492928  0.186811  ...  0.419470 -0.530028  0.512478   \n",
       "1      0.762997  0.125419  0.230368  ...  0.758261  0.409252  1.236127   \n",
       "2     -1.012144 -1.847303  0.383486  ...  0.804758  1.308602  2.144138   \n",
       "3     -1.668184 -0.728817  0.816166  ... -0.358853 -0.159244  0.063201   \n",
       "4      1.317883 -1.434548  0.238628  ... -0.300170  0.067936  0.189630   \n",
       "...         ...       ...       ...  ...       ...       ...       ...   \n",
       "69124 -0.239808  2.486085  2.122469  ... -0.461286 -0.349678 -0.693283   \n",
       "69125 -0.443480  2.302638 -0.972085  ... -0.273539  1.248593  2.710799   \n",
       "69126  0.292634  0.137957 -0.594961  ... -0.917303 -0.664766 -1.496607   \n",
       "69127  0.016132  0.496345  2.912143  ... -0.450039  0.361137  1.081499   \n",
       "69128  1.686320  1.274421 -1.220006  ...  0.133437  0.634927  1.800603   \n",
       "\n",
       "         feat23    feat24    feat25    feat26    feat27    feat28  \\\n",
       "0     -0.320477  0.762645 -1.476471  0.662104 -1.984817 -1.955863   \n",
       "1     -0.343396 -1.069279 -0.994046  1.393463  1.487245  0.758979   \n",
       "2     -0.866989 -0.649351  0.403534  0.151693  0.084931  0.255804   \n",
       "3      0.091704 -0.797722  0.883891 -0.843995  0.272549  0.067771   \n",
       "4     -0.599081 -0.041038  0.394406 -0.500654  0.022704  0.248110   \n",
       "...         ...       ...       ...       ...       ...       ...   \n",
       "69124 -0.054359  1.346170  0.240897 -0.208657 -0.314032 -0.373149   \n",
       "69125 -0.104265 -0.212177 -2.520144  1.024263  1.528406  1.679585   \n",
       "69126  1.124411 -0.094732 -1.145439  0.517427 -0.500782 -0.369928   \n",
       "69127  1.058779  1.185905 -1.490868 -0.067597  0.169664 -0.204495   \n",
       "69128 -0.544809  0.084631 -1.127462  0.233585  1.281099  1.352996   \n",
       "\n",
       "       Transaction_Amount  \n",
       "0                0.200614  \n",
       "1                0.040926  \n",
       "2                1.410986  \n",
       "3               -0.406373  \n",
       "4                1.547347  \n",
       "...                   ...  \n",
       "69124            1.413336  \n",
       "69125            0.064907  \n",
       "69126           -1.204521  \n",
       "69127            0.855445  \n",
       "69128           -0.876830  \n",
       "\n",
       "[69129 rows x 30 columns]"
      ]
     },
     "execution_count": 121,
     "metadata": {},
     "output_type": "execute_result"
    }
   ],
   "source": [
    "df_test = pd.read_csv(f'{dataset_path}/test_trans.csv')\n",
    "df_test"
   ]
  },
  {
   "cell_type": "code",
   "execution_count": 122,
   "metadata": {
    "execution": {
     "iopub.execute_input": "2024-09-18T01:38:40.734786Z",
     "iopub.status.busy": "2024-09-18T01:38:40.734316Z",
     "iopub.status.idle": "2024-09-18T01:38:40.740687Z",
     "shell.execute_reply": "2024-09-18T01:38:40.740416Z",
     "shell.execute_reply.started": "2024-09-18T01:38:40.734760Z"
    }
   },
   "outputs": [],
   "source": [
    "df_id = df_test['id'].to_frame()\n",
    "df_test = df_test.drop(columns=['id'])"
   ]
  },
  {
   "cell_type": "code",
   "execution_count": 123,
   "metadata": {
    "execution": {
     "iopub.execute_input": "2024-09-18T01:38:42.642379Z",
     "iopub.status.busy": "2024-09-18T01:38:42.641796Z",
     "iopub.status.idle": "2024-09-18T01:45:18.904642Z",
     "shell.execute_reply": "2024-09-18T01:45:18.904111Z",
     "shell.execute_reply.started": "2024-09-18T01:38:42.642334Z"
    }
   },
   "outputs": [],
   "source": [
    "cls.setSoftVoting()\n",
    "y_pred_probs = cls.testForestProbs(df_test)"
   ]
  },
  {
   "cell_type": "code",
   "execution_count": 124,
   "metadata": {
    "execution": {
     "iopub.execute_input": "2024-09-18T01:45:18.905479Z",
     "iopub.status.busy": "2024-09-18T01:45:18.905367Z",
     "iopub.status.idle": "2024-09-18T01:45:18.913671Z",
     "shell.execute_reply": "2024-09-18T01:45:18.913368Z",
     "shell.execute_reply.started": "2024-09-18T01:45:18.905470Z"
    }
   },
   "outputs": [],
   "source": [
    "y_pred_soft = [x['1'] for x in y_pred_probs]"
   ]
  },
  {
   "cell_type": "code",
   "execution_count": 99,
   "metadata": {
    "execution": {
     "iopub.execute_input": "2024-09-17T21:04:15.702006Z",
     "iopub.status.busy": "2024-09-17T21:04:15.701907Z",
     "iopub.status.idle": "2024-09-17T21:04:15.966353Z",
     "shell.execute_reply": "2024-09-17T21:04:15.965899Z",
     "shell.execute_reply.started": "2024-09-17T21:04:15.701997Z"
    }
   },
   "outputs": [
    {
     "name": "stdout",
     "output_type": "stream",
     "text": [
      "id,IsFraud\n",
      "150000,0.5\n",
      "150001,0.5\n",
      "150002,0.5\n",
      "150003,0.5\n",
      "150004,0.5\n",
      "150005,0.5\n",
      "150006,0.5\n",
      "150007,0.5\n",
      "150008,0.5\n"
     ]
    }
   ],
   "source": [
    "!head $dataset_path/sample_submission.csv"
   ]
  },
  {
   "cell_type": "code",
   "execution_count": 125,
   "metadata": {
    "execution": {
     "iopub.execute_input": "2024-09-18T01:45:18.914169Z",
     "iopub.status.busy": "2024-09-18T01:45:18.914066Z",
     "iopub.status.idle": "2024-09-18T01:45:18.931658Z",
     "shell.execute_reply": "2024-09-18T01:45:18.931293Z",
     "shell.execute_reply.started": "2024-09-18T01:45:18.914160Z"
    }
   },
   "outputs": [
    {
     "data": {
      "text/html": [
       "<div>\n",
       "<style scoped>\n",
       "    .dataframe tbody tr th:only-of-type {\n",
       "        vertical-align: middle;\n",
       "    }\n",
       "\n",
       "    .dataframe tbody tr th {\n",
       "        vertical-align: top;\n",
       "    }\n",
       "\n",
       "    .dataframe thead th {\n",
       "        text-align: right;\n",
       "    }\n",
       "</style>\n",
       "<table border=\"1\" class=\"dataframe\">\n",
       "  <thead>\n",
       "    <tr style=\"text-align: right;\">\n",
       "      <th></th>\n",
       "      <th>id</th>\n",
       "      <th>IsFraud</th>\n",
       "    </tr>\n",
       "  </thead>\n",
       "  <tbody>\n",
       "    <tr>\n",
       "      <th>0</th>\n",
       "      <td>150000</td>\n",
       "      <td>0.257812</td>\n",
       "    </tr>\n",
       "    <tr>\n",
       "      <th>1</th>\n",
       "      <td>150001</td>\n",
       "      <td>0.316406</td>\n",
       "    </tr>\n",
       "    <tr>\n",
       "      <th>2</th>\n",
       "      <td>150002</td>\n",
       "      <td>0.308594</td>\n",
       "    </tr>\n",
       "    <tr>\n",
       "      <th>3</th>\n",
       "      <td>150003</td>\n",
       "      <td>0.343750</td>\n",
       "    </tr>\n",
       "    <tr>\n",
       "      <th>4</th>\n",
       "      <td>150004</td>\n",
       "      <td>0.355469</td>\n",
       "    </tr>\n",
       "    <tr>\n",
       "      <th>...</th>\n",
       "      <td>...</td>\n",
       "      <td>...</td>\n",
       "    </tr>\n",
       "    <tr>\n",
       "      <th>69124</th>\n",
       "      <td>219124</td>\n",
       "      <td>0.222656</td>\n",
       "    </tr>\n",
       "    <tr>\n",
       "      <th>69125</th>\n",
       "      <td>219125</td>\n",
       "      <td>0.242188</td>\n",
       "    </tr>\n",
       "    <tr>\n",
       "      <th>69126</th>\n",
       "      <td>219126</td>\n",
       "      <td>0.191406</td>\n",
       "    </tr>\n",
       "    <tr>\n",
       "      <th>69127</th>\n",
       "      <td>219127</td>\n",
       "      <td>0.246094</td>\n",
       "    </tr>\n",
       "    <tr>\n",
       "      <th>69128</th>\n",
       "      <td>219128</td>\n",
       "      <td>0.246094</td>\n",
       "    </tr>\n",
       "  </tbody>\n",
       "</table>\n",
       "<p>69129 rows × 2 columns</p>\n",
       "</div>"
      ],
      "text/plain": [
       "           id   IsFraud\n",
       "0      150000  0.257812\n",
       "1      150001  0.316406\n",
       "2      150002  0.308594\n",
       "3      150003  0.343750\n",
       "4      150004  0.355469\n",
       "...       ...       ...\n",
       "69124  219124  0.222656\n",
       "69125  219125  0.242188\n",
       "69126  219126  0.191406\n",
       "69127  219127  0.246094\n",
       "69128  219128  0.246094\n",
       "\n",
       "[69129 rows x 2 columns]"
      ]
     },
     "execution_count": 125,
     "metadata": {},
     "output_type": "execute_result"
    }
   ],
   "source": [
    "df_id['IsFraud'] = y_pred_soft\n",
    "df_id"
   ]
  },
  {
   "cell_type": "code",
   "execution_count": 126,
   "metadata": {
    "execution": {
     "iopub.execute_input": "2024-09-18T01:45:18.932637Z",
     "iopub.status.busy": "2024-09-18T01:45:18.932447Z",
     "iopub.status.idle": "2024-09-18T01:45:18.993617Z",
     "shell.execute_reply": "2024-09-18T01:45:18.993287Z",
     "shell.execute_reply.started": "2024-09-18T01:45:18.932625Z"
    }
   },
   "outputs": [],
   "source": [
    "df_id.to_csv(f'{dataset_path}/submission_exp2_trans_probs4.csv', index=False)"
   ]
  },
  {
   "cell_type": "code",
   "execution_count": null,
   "metadata": {},
   "outputs": [],
   "source": [
    "!head $dataset_path/submission_exp2_trans_t2.csv"
   ]
  },
  {
   "cell_type": "markdown",
   "metadata": {},
   "source": [
    "# Kagle results"
   ]
  },
  {
   "cell_type": "markdown",
   "metadata": {
    "execution": {
     "iopub.execute_input": "2024-09-15T18:32:42.677358Z",
     "iopub.status.busy": "2024-09-15T18:32:42.677059Z",
     "iopub.status.idle": "2024-09-15T18:32:42.681390Z",
     "shell.execute_reply": "2024-09-15T18:32:42.680863Z",
     "shell.execute_reply.started": "2024-09-15T18:32:42.677337Z"
    }
   },
   "source": [
    "## Exp1:\n",
    "\n",
    "Private Score: `0.53218`  (1st: `0.80611`)  \n",
    "Public Score: `0.59206`  (1st: `0.83947`)  \n",
    "\n",
    "## Exp2:\n",
    "Private Score: `0.54502`  \n",
    "Public score: `0.56385`  "
   ]
  },
  {
   "cell_type": "code",
   "execution_count": null,
   "metadata": {},
   "outputs": [],
   "source": []
  }
 ],
 "metadata": {
  "kernelspec": {
   "display_name": "Python 3 (ipykernel)",
   "language": "python",
   "name": "python3"
  },
  "language_info": {
   "codemirror_mode": {
    "name": "ipython",
    "version": 3
   },
   "file_extension": ".py",
   "mimetype": "text/x-python",
   "name": "python",
   "nbconvert_exporter": "python",
   "pygments_lexer": "ipython3",
   "version": "3.11.10"
  }
 },
 "nbformat": 4,
 "nbformat_minor": 4
}
