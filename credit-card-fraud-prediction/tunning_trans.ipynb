{
 "cells": [
  {
   "cell_type": "markdown",
   "metadata": {},
   "source": [
    "# Tuning \n",
    "\n",
    "- Author: Israel Oliveira [\\[e-mail\\]](mailto:'Israel%20Oliveira%20'<prof.israel@gmail.com>)"
   ]
  },
  {
   "cell_type": "code",
   "execution_count": 2,
   "metadata": {
    "execution": {
     "iopub.execute_input": "2024-09-16T12:40:33.900571Z",
     "iopub.status.busy": "2024-09-16T12:40:33.900424Z",
     "iopub.status.idle": "2024-09-16T12:40:33.910914Z",
     "shell.execute_reply": "2024-09-16T12:40:33.910463Z",
     "shell.execute_reply.started": "2024-09-16T12:40:33.900562Z"
    }
   },
   "outputs": [],
   "source": [
    "%load_ext watermark"
   ]
  },
  {
   "cell_type": "code",
   "execution_count": 3,
   "metadata": {
    "execution": {
     "iopub.execute_input": "2024-09-16T12:40:34.052309Z",
     "iopub.status.busy": "2024-09-16T12:40:34.051556Z",
     "iopub.status.idle": "2024-09-16T12:40:36.049693Z",
     "shell.execute_reply": "2024-09-16T12:40:36.049106Z",
     "shell.execute_reply.started": "2024-09-16T12:40:34.052261Z"
    }
   },
   "outputs": [],
   "source": [
    "import pandas as pd\n",
    "import numpy as np\n",
    "from random_forest_mc.model import RandomForestMC\n",
    "from random_forest_mc.utils import LoadDicts, dump_file_json, load_file_json\n",
    "from tqdm.notebook import tqdm\n",
    "from datetime import datetime\n",
    "from collections import Counter, defaultdict\n",
    "from glob import glob\n",
    "from sklearn.metrics import accuracy_score, f1_score, confusion_matrix"
   ]
  },
  {
   "cell_type": "code",
   "execution_count": 4,
   "metadata": {
    "execution": {
     "iopub.execute_input": "2024-09-16T12:40:36.050911Z",
     "iopub.status.busy": "2024-09-16T12:40:36.050583Z",
     "iopub.status.idle": "2024-09-16T12:40:36.054361Z",
     "shell.execute_reply": "2024-09-16T12:40:36.053871Z",
     "shell.execute_reply.started": "2024-09-16T12:40:36.050884Z"
    }
   },
   "outputs": [],
   "source": [
    "import warnings\n",
    "warnings.filterwarnings('ignore', category=pd.errors.SettingWithCopyWarning)"
   ]
  },
  {
   "cell_type": "code",
   "execution_count": 5,
   "metadata": {
    "execution": {
     "iopub.execute_input": "2024-09-16T12:40:36.055386Z",
     "iopub.status.busy": "2024-09-16T12:40:36.055164Z",
     "iopub.status.idle": "2024-09-16T12:40:36.082544Z",
     "shell.execute_reply": "2024-09-16T12:40:36.081723Z",
     "shell.execute_reply.started": "2024-09-16T12:40:36.055369Z"
    }
   },
   "outputs": [],
   "source": [
    "import functools\n",
    "import operator\n",
    "def flat(a):\n",
    "    return functools.reduce(operator.iconcat, a, [])"
   ]
  },
  {
   "cell_type": "code",
   "execution_count": 6,
   "metadata": {
    "execution": {
     "iopub.execute_input": "2024-09-16T12:40:36.085373Z",
     "iopub.status.busy": "2024-09-16T12:40:36.084799Z",
     "iopub.status.idle": "2024-09-16T12:40:36.667393Z",
     "shell.execute_reply": "2024-09-16T12:40:36.664753Z",
     "shell.execute_reply.started": "2024-09-16T12:40:36.085322Z"
    }
   },
   "outputs": [
    {
     "name": "stdout",
     "output_type": "stream",
     "text": [
      "Python implementation: CPython\n",
      "Python version       : 3.11.10\n",
      "IPython version      : 8.27.0\n",
      "\n",
      "Compiler    : GCC 10.2.1 20210110\n",
      "OS          : Linux\n",
      "Release     : 6.8.0-44-generic\n",
      "Machine     : x86_64\n",
      "Processor   : \n",
      "CPU cores   : 20\n",
      "Architecture: 64bit\n",
      "\n",
      "Git hash: 2567a478ebf147744980cf5e4a612cf661cced24\n",
      "\n",
      "Git repo: https://github.com/ysraell/random-forest-mc-utils.git\n",
      "\n",
      "Git branch: main\n",
      "\n",
      "numpy : 1.26.4\n",
      "pandas: 2.2.2\n",
      "\n",
      "CPU\t: 12th Gen Intel(R) Core(TM) i7-12700\n",
      "Mem:            15G\n",
      "Swap:          3.7G\n"
     ]
    }
   ],
   "source": [
    "# Run this cell before close.\n",
    "%watermark -d --iversion -b -r -g -m -v\n",
    "!cat /proc/cpuinfo |grep 'model name'|head -n 1 |sed -e 's/model\\ name/CPU/'\n",
    "!free -h |cut -d'i' -f1  |grep -v total"
   ]
  },
  {
   "cell_type": "code",
   "execution_count": 7,
   "metadata": {
    "execution": {
     "iopub.execute_input": "2024-09-16T12:40:36.670430Z",
     "iopub.status.busy": "2024-09-16T12:40:36.669771Z",
     "iopub.status.idle": "2024-09-16T12:40:36.677697Z",
     "shell.execute_reply": "2024-09-16T12:40:36.676380Z",
     "shell.execute_reply.started": "2024-09-16T12:40:36.670361Z"
    }
   },
   "outputs": [],
   "source": [
    "dataset_path = '/work/tmp/credit-card-fraud-prediction'"
   ]
  },
  {
   "cell_type": "code",
   "execution_count": 8,
   "metadata": {
    "execution": {
     "iopub.execute_input": "2024-09-16T12:40:36.680318Z",
     "iopub.status.busy": "2024-09-16T12:40:36.679539Z",
     "iopub.status.idle": "2024-09-16T12:40:36.916676Z",
     "shell.execute_reply": "2024-09-16T12:40:36.914685Z",
     "shell.execute_reply.started": "2024-09-16T12:40:36.680268Z"
    }
   },
   "outputs": [
    {
     "name": "stdout",
     "output_type": "stream",
     "text": [
      "model_trans_tuning_16trees_20240916_0001.json\n",
      "model_trans_tuning_16trees_20240916_0022.json\n",
      "model_trans_tuning_288trees_20240916_0237.json\n",
      "model_trans_tuning_32trees_20240916_0032.json\n",
      "model_trans_tuning_8trees_20240915_2355.json\n",
      "model_trans_tuning_8trees_20240916_0016.json\n",
      "model_tuning2_64trees_20240914_2326.json\n",
      "model_tuning3_256trees_20240915_1729.json\n",
      "model_tuning_320trees_20240914_2145.json\n",
      "sample_submission.csv\n",
      "submission_exp1.csv\n",
      "test.csv\n",
      "test_trans.csv\n",
      "train.csv\n",
      "train_trans.csv\n",
      "trees_metrcis_sim2_20240915_1804.json\n",
      "trees_metrcis_sim_20240915_1425.json\n",
      "trees_trans_metrcis_sim_20240916_0327.json\n"
     ]
    }
   ],
   "source": [
    "!ls $dataset_path"
   ]
  },
  {
   "cell_type": "code",
   "execution_count": 9,
   "metadata": {
    "execution": {
     "iopub.execute_input": "2024-09-16T12:40:36.919475Z",
     "iopub.status.busy": "2024-09-16T12:40:36.919033Z",
     "iopub.status.idle": "2024-09-16T12:40:37.302793Z",
     "shell.execute_reply": "2024-09-16T12:40:37.302276Z",
     "shell.execute_reply.started": "2024-09-16T12:40:36.919430Z"
    }
   },
   "outputs": [
    {
     "data": {
      "text/plain": [
       "(269, 149731)"
      ]
     },
     "execution_count": 9,
     "metadata": {},
     "output_type": "execute_result"
    }
   ],
   "source": [
    "df = pd.read_csv(f'{dataset_path}/train_trans.csv')\n",
    "#df = df.drop(columns='Time')\n",
    "target_col = 'IsFraud'\n",
    "df[target_col] = df[target_col].astype(str)\n",
    "feat_cols = df.columns.to_list()\n",
    "feat_cols.remove('id')\n",
    "feat_cols.remove(target_col)\n",
    "IsFraud_count, Not_IsFraud_count = df[target_col].value_counts()['1'], df[target_col].value_counts()['0']\n",
    "IsFraud_count, Not_IsFraud_count"
   ]
  },
  {
   "cell_type": "code",
   "execution_count": 10,
   "metadata": {
    "execution": {
     "iopub.execute_input": "2024-09-16T12:40:37.303547Z",
     "iopub.status.busy": "2024-09-16T12:40:37.303373Z",
     "iopub.status.idle": "2024-09-16T12:40:37.305735Z",
     "shell.execute_reply": "2024-09-16T12:40:37.305406Z",
     "shell.execute_reply.started": "2024-09-16T12:40:37.303538Z"
    }
   },
   "outputs": [],
   "source": [
    "split_schema = {\n",
    "    'test': {\n",
    "        '1': 100,\n",
    "        '0': 10000,\n",
    "    },\n",
    "    'train': {\n",
    "        '1': 100,\n",
    "        '0': 50000,\n",
    "    },\n",
    "    'val': {\n",
    "        '1': 69,\n",
    "        '0': 6900,\n",
    "    }\n",
    "}"
   ]
  },
  {
   "cell_type": "code",
   "execution_count": 11,
   "metadata": {
    "execution": {
     "iopub.execute_input": "2024-09-16T12:40:37.306256Z",
     "iopub.status.busy": "2024-09-16T12:40:37.306137Z",
     "iopub.status.idle": "2024-09-16T12:40:37.440601Z",
     "shell.execute_reply": "2024-09-16T12:40:37.440104Z",
     "shell.execute_reply.started": "2024-09-16T12:40:37.306248Z"
    }
   },
   "outputs": [],
   "source": [
    "df_tmp = df.copy()\n",
    "\n",
    "dfs = {}\n",
    "for ds_set in split_schema.keys():\n",
    "    df_set = pd.concat([\n",
    "        df_tmp.query(f'{target_col} == \"{target_val}\"').sample(n=split_schema[ds_set][target_val], random_state=42)\n",
    "        for target_val in ['1', '0']\n",
    "    ])\n",
    "    df_tmp = df_tmp.drop(df_set.index).reset_index(drop=True)\n",
    "    dfs[ds_set] = df_set.reset_index(drop=True)\n",
    "\n",
    "df_tofit = pd.concat([dfs['train'], dfs['val']])"
   ]
  },
  {
   "cell_type": "code",
   "execution_count": 12,
   "metadata": {
    "execution": {
     "iopub.execute_input": "2024-09-16T12:40:37.441571Z",
     "iopub.status.busy": "2024-09-16T12:40:37.441478Z",
     "iopub.status.idle": "2024-09-16T12:40:37.445689Z",
     "shell.execute_reply": "2024-09-16T12:40:37.445296Z",
     "shell.execute_reply.started": "2024-09-16T12:40:37.441562Z"
    }
   },
   "outputs": [
    {
     "data": {
      "text/plain": [
       "(82831, 57069, 10100, 150000)"
      ]
     },
     "execution_count": 12,
     "metadata": {},
     "output_type": "execute_result"
    }
   ],
   "source": [
    "df_tmp.shape[0], df_tofit.shape[0], dfs['test'].shape[0], df_tmp.shape[0] + df_tofit.shape[0] + dfs['test'].shape[0]"
   ]
  },
  {
   "cell_type": "code",
   "execution_count": 13,
   "metadata": {
    "execution": {
     "iopub.execute_input": "2024-09-16T12:40:37.446268Z",
     "iopub.status.busy": "2024-09-16T12:40:37.446165Z",
     "iopub.status.idle": "2024-09-16T12:40:37.455438Z",
     "shell.execute_reply": "2024-09-16T12:40:37.455155Z",
     "shell.execute_reply.started": "2024-09-16T12:40:37.446259Z"
    }
   },
   "outputs": [
    {
     "data": {
      "text/plain": [
       "RandomForestMC(len(Forest)=0,n_trees=8,model_version=1.2.0-dev,module_version=1.2.0-dev)"
      ]
     },
     "execution_count": 13,
     "metadata": {},
     "output_type": "execute_result"
    }
   ],
   "source": [
    "batch_train_pclass = split_schema['train']['1']\n",
    "batch_val_pclass = split_schema['val']['1']\n",
    "max_depth = None\n",
    "n_trees = 8\n",
    "max_discard_trees = 256\n",
    "min_feature = 2\n",
    "max_feature = None\n",
    "\n",
    "cpu_cores = 8\n",
    "max_workers = 7\n",
    "\n",
    "cls = RandomForestMC(\n",
    "    n_trees=n_trees, \n",
    "    target_col=target_col, \n",
    "    max_discard_trees=max_discard_trees,\n",
    "    batch_train_pclass=batch_train_pclass,\n",
    "    batch_val_pclass=batch_val_pclass,\n",
    "    min_feature=min_feature,\n",
    "    max_feature=max_feature,\n",
    "    max_depth=max_depth\n",
    ")\n",
    "cls"
   ]
  },
  {
   "cell_type": "code",
   "execution_count": 14,
   "metadata": {
    "execution": {
     "iopub.execute_input": "2024-09-16T12:40:38.178095Z",
     "iopub.status.busy": "2024-09-16T12:40:38.177563Z",
     "iopub.status.idle": "2024-09-16T12:40:38.188474Z",
     "shell.execute_reply": "2024-09-16T12:40:38.187636Z",
     "shell.execute_reply.started": "2024-09-16T12:40:38.178057Z"
    }
   },
   "outputs": [],
   "source": [
    "df_test = dfs['test']\n",
    "y_test = df_test[target_col].astype(int).to_list()\n",
    "ppy = lambda x: round(100*x, 6)"
   ]
  },
  {
   "cell_type": "markdown",
   "metadata": {},
   "source": [
    "# Create the model"
   ]
  },
  {
   "cell_type": "code",
   "execution_count": 15,
   "metadata": {
    "execution": {
     "iopub.execute_input": "2024-09-16T00:11:03.799114Z",
     "iopub.status.busy": "2024-09-16T00:11:03.798592Z",
     "iopub.status.idle": "2024-09-16T00:16:58.596945Z",
     "shell.execute_reply": "2024-09-16T00:16:58.596498Z",
     "shell.execute_reply.started": "2024-09-16T00:11:03.799066Z"
    }
   },
   "outputs": [
    {
     "data": {
      "application/vnd.jupyter.widget-view+json": {
       "model_id": "c4d8651f087c4680882393e9095af1f3",
       "version_major": 2,
       "version_minor": 0
      },
      "text/plain": [
       "Planting the forest:   0%|          | 0/8 [00:00<?, ?it/s]"
      ]
     },
     "metadata": {},
     "output_type": "display_data"
    }
   ],
   "source": [
    "cls.fitParallel(dataset=df_tofit, max_workers=max_workers)\n",
    "ModelDict = cls.model2dict()\n",
    "datetime_tag = datetime.now().strftime('%Y%m%d_%H%M')\n",
    "path_dict = f'{dataset_path}/model_trans_tuning_{len(cls)}trees_{datetime_tag}.json'\n",
    "dump_file_json(path_dict, ModelDict)\n",
    "del ModelDict"
   ]
  },
  {
   "cell_type": "code",
   "execution_count": 16,
   "metadata": {
    "execution": {
     "iopub.execute_input": "2024-09-16T00:16:58.597697Z",
     "iopub.status.busy": "2024-09-16T00:16:58.597600Z",
     "iopub.status.idle": "2024-09-16T00:16:59.629001Z",
     "shell.execute_reply": "2024-09-16T00:16:59.628507Z",
     "shell.execute_reply.started": "2024-09-16T00:16:58.597687Z"
    }
   },
   "outputs": [
    {
     "name": "stdout",
     "output_type": "stream",
     "text": [
      "8 Trees\n"
     ]
    },
    {
     "data": {
      "text/html": [
       "<div>\n",
       "<style scoped>\n",
       "    .dataframe tbody tr th:only-of-type {\n",
       "        vertical-align: middle;\n",
       "    }\n",
       "\n",
       "    .dataframe tbody tr th {\n",
       "        vertical-align: top;\n",
       "    }\n",
       "\n",
       "    .dataframe thead th {\n",
       "        text-align: right;\n",
       "    }\n",
       "</style>\n",
       "<table border=\"1\" class=\"dataframe\">\n",
       "  <thead>\n",
       "    <tr style=\"text-align: right;\">\n",
       "      <th></th>\n",
       "      <th>Pred False</th>\n",
       "      <th>Pred True</th>\n",
       "    </tr>\n",
       "  </thead>\n",
       "  <tbody>\n",
       "    <tr>\n",
       "      <th>False</th>\n",
       "      <td>6793</td>\n",
       "      <td>3207</td>\n",
       "    </tr>\n",
       "    <tr>\n",
       "      <th>True</th>\n",
       "      <td>42</td>\n",
       "      <td>58</td>\n",
       "    </tr>\n",
       "  </tbody>\n",
       "</table>\n",
       "</div>"
      ],
      "text/plain": [
       "       Pred False  Pred True\n",
       "False        6793       3207\n",
       "True           42         58"
      ]
     },
     "metadata": {},
     "output_type": "display_data"
    },
    {
     "name": "stdout",
     "output_type": "stream",
     "text": [
      "Acc: 67.8317% \n",
      " F1: 3.4473% \n",
      " FN: 42.0000%\n",
      "Feat count stats: (8.125, 1.964529205687714, 3, 9)\n"
     ]
    },
    {
     "data": {
      "text/plain": [
       "[(9, 6), (3, 1), (8, 1)]"
      ]
     },
     "execution_count": 16,
     "metadata": {},
     "output_type": "execute_result"
    }
   ],
   "source": [
    "cls.setSoftVoting()\n",
    "y_pred_soft = np.array(cls.testForest(df_test)).astype(int)\n",
    "accuracy_soft = accuracy_score(y_test, y_pred_soft)\n",
    "f1_score_soft = f1_score(y_test, y_pred_soft)\n",
    "\n",
    "print(f\"{len(cls)} Trees\")\n",
    "cm = confusion_matrix(y_test, y_pred_soft)\n",
    "display(pd.DataFrame(cm, columns=['Pred False','Pred True'], index=['False','True']))\n",
    "tn, fp, fn, tp = cm.ravel()\n",
    "obj_score = fn / (fn+tp)\n",
    "print(f\"Acc: {ppy(accuracy_soft):.4f}% \\n F1: {ppy(f1_score_soft):.4f}% \\n FN: {ppy(obj_score):.4f}%\")\n",
    "\n",
    "fc_stars, fc_list = cls.featCount()\n",
    "print(f\"Feat count stats: {fc_stars}\")\n",
    "Counter(fc_list).most_common()"
   ]
  },
  {
   "cell_type": "code",
   "execution_count": 17,
   "metadata": {
    "execution": {
     "iopub.execute_input": "2024-09-16T00:16:59.629519Z",
     "iopub.status.busy": "2024-09-16T00:16:59.629422Z",
     "iopub.status.idle": "2024-09-16T00:22:50.314692Z",
     "shell.execute_reply": "2024-09-16T00:22:50.314126Z",
     "shell.execute_reply.started": "2024-09-16T00:16:59.629510Z"
    }
   },
   "outputs": [
    {
     "data": {
      "application/vnd.jupyter.widget-view+json": {
       "model_id": "bd6de5cccbe845b386de91fb6338a2d6",
       "version_major": 2,
       "version_minor": 0
      },
      "text/plain": [
       "Planting the forest:   0%|          | 0/8 [00:00<?, ?it/s]"
      ]
     },
     "metadata": {},
     "output_type": "display_data"
    }
   ],
   "source": [
    "cls.fitParallel(dataset=df_tofit, max_workers=max_workers)\n",
    "ModelDict = cls.model2dict()\n",
    "datetime_tag = datetime.now().strftime('%Y%m%d_%H%M')\n",
    "path_dict = f'{dataset_path}/model_trans_tuning_{len(cls)}trees_{datetime_tag}.json'\n",
    "dump_file_json(path_dict, ModelDict)\n",
    "del ModelDict"
   ]
  },
  {
   "cell_type": "code",
   "execution_count": 18,
   "metadata": {
    "execution": {
     "iopub.execute_input": "2024-09-16T00:22:50.315629Z",
     "iopub.status.busy": "2024-09-16T00:22:50.315528Z",
     "iopub.status.idle": "2024-09-16T00:22:52.034093Z",
     "shell.execute_reply": "2024-09-16T00:22:52.033729Z",
     "shell.execute_reply.started": "2024-09-16T00:22:50.315620Z"
    }
   },
   "outputs": [
    {
     "name": "stdout",
     "output_type": "stream",
     "text": [
      "16 Trees\n"
     ]
    },
    {
     "data": {
      "text/html": [
       "<div>\n",
       "<style scoped>\n",
       "    .dataframe tbody tr th:only-of-type {\n",
       "        vertical-align: middle;\n",
       "    }\n",
       "\n",
       "    .dataframe tbody tr th {\n",
       "        vertical-align: top;\n",
       "    }\n",
       "\n",
       "    .dataframe thead th {\n",
       "        text-align: right;\n",
       "    }\n",
       "</style>\n",
       "<table border=\"1\" class=\"dataframe\">\n",
       "  <thead>\n",
       "    <tr style=\"text-align: right;\">\n",
       "      <th></th>\n",
       "      <th>Pred False</th>\n",
       "      <th>Pred True</th>\n",
       "    </tr>\n",
       "  </thead>\n",
       "  <tbody>\n",
       "    <tr>\n",
       "      <th>False</th>\n",
       "      <td>7517</td>\n",
       "      <td>2483</td>\n",
       "    </tr>\n",
       "    <tr>\n",
       "      <th>True</th>\n",
       "      <td>42</td>\n",
       "      <td>58</td>\n",
       "    </tr>\n",
       "  </tbody>\n",
       "</table>\n",
       "</div>"
      ],
      "text/plain": [
       "       Pred False  Pred True\n",
       "False        7517       2483\n",
       "True           42         58"
      ]
     },
     "metadata": {},
     "output_type": "display_data"
    },
    {
     "name": "stdout",
     "output_type": "stream",
     "text": [
      "Acc: 75.0000% \n",
      " F1: 4.3923% \n",
      " FN: 42.0000%\n",
      "Feat count stats: (7.875, 1.964529205687714, 3, 9)\n"
     ]
    },
    {
     "data": {
      "text/plain": [
       "[(9, 11), (3, 1), (8, 1), (5, 1), (7, 1), (4, 1)]"
      ]
     },
     "execution_count": 18,
     "metadata": {},
     "output_type": "execute_result"
    }
   ],
   "source": [
    "cls.setSoftVoting()\n",
    "y_pred_soft = np.array(cls.testForest(df_test)).astype(int)\n",
    "accuracy_soft = accuracy_score(y_test, y_pred_soft)\n",
    "f1_score_soft = f1_score(y_test, y_pred_soft)\n",
    "\n",
    "print(f\"{len(cls)} Trees\")\n",
    "cm = confusion_matrix(y_test, y_pred_soft)\n",
    "display(pd.DataFrame(cm, columns=['Pred False','Pred True'], index=['False','True']))\n",
    "tn, fp, fn, tp = cm.ravel()\n",
    "obj_score = fn / (fn+tp)\n",
    "print(f\"Acc: {ppy(accuracy_soft):.4f}% \\n F1: {ppy(f1_score_soft):.4f}% \\n FN: {ppy(obj_score):.4f}%\")\n",
    "\n",
    "fc_stars, fc_list = cls.featCount()\n",
    "print(f\"Feat count stats: {fc_stars}\")\n",
    "Counter(fc_list).most_common()"
   ]
  },
  {
   "cell_type": "code",
   "execution_count": 19,
   "metadata": {
    "execution": {
     "iopub.execute_input": "2024-09-16T00:22:52.034568Z",
     "iopub.status.busy": "2024-09-16T00:22:52.034475Z",
     "iopub.status.idle": "2024-09-16T00:22:52.036889Z",
     "shell.execute_reply": "2024-09-16T00:22:52.036502Z",
     "shell.execute_reply.started": "2024-09-16T00:22:52.034558Z"
    }
   },
   "outputs": [],
   "source": [
    "cls.n_trees = 16"
   ]
  },
  {
   "cell_type": "code",
   "execution_count": 20,
   "metadata": {
    "execution": {
     "iopub.execute_input": "2024-09-16T00:22:52.037518Z",
     "iopub.status.busy": "2024-09-16T00:22:52.037392Z",
     "iopub.status.idle": "2024-09-16T00:32:11.841850Z",
     "shell.execute_reply": "2024-09-16T00:32:11.841169Z",
     "shell.execute_reply.started": "2024-09-16T00:22:52.037508Z"
    }
   },
   "outputs": [
    {
     "data": {
      "application/vnd.jupyter.widget-view+json": {
       "model_id": "b007feaa58c7499cafd35b1eb188e0f3",
       "version_major": 2,
       "version_minor": 0
      },
      "text/plain": [
       "Planting the forest:   0%|          | 0/16 [00:00<?, ?it/s]"
      ]
     },
     "metadata": {},
     "output_type": "display_data"
    }
   ],
   "source": [
    "cls.fitParallel(dataset=df_tofit, max_workers=max_workers)\n",
    "ModelDict = cls.model2dict()\n",
    "datetime_tag = datetime.now().strftime('%Y%m%d_%H%M')\n",
    "path_dict = f'{dataset_path}/model_trans_tuning_{len(cls)}trees_{datetime_tag}.json'\n",
    "dump_file_json(path_dict, ModelDict)\n",
    "del ModelDict"
   ]
  },
  {
   "cell_type": "code",
   "execution_count": 21,
   "metadata": {
    "execution": {
     "iopub.execute_input": "2024-09-16T00:32:11.842510Z",
     "iopub.status.busy": "2024-09-16T00:32:11.842416Z",
     "iopub.status.idle": "2024-09-16T00:32:15.063223Z",
     "shell.execute_reply": "2024-09-16T00:32:15.062941Z",
     "shell.execute_reply.started": "2024-09-16T00:32:11.842501Z"
    }
   },
   "outputs": [
    {
     "name": "stdout",
     "output_type": "stream",
     "text": [
      "32 Trees\n"
     ]
    },
    {
     "data": {
      "text/html": [
       "<div>\n",
       "<style scoped>\n",
       "    .dataframe tbody tr th:only-of-type {\n",
       "        vertical-align: middle;\n",
       "    }\n",
       "\n",
       "    .dataframe tbody tr th {\n",
       "        vertical-align: top;\n",
       "    }\n",
       "\n",
       "    .dataframe thead th {\n",
       "        text-align: right;\n",
       "    }\n",
       "</style>\n",
       "<table border=\"1\" class=\"dataframe\">\n",
       "  <thead>\n",
       "    <tr style=\"text-align: right;\">\n",
       "      <th></th>\n",
       "      <th>Pred False</th>\n",
       "      <th>Pred True</th>\n",
       "    </tr>\n",
       "  </thead>\n",
       "  <tbody>\n",
       "    <tr>\n",
       "      <th>False</th>\n",
       "      <td>8190</td>\n",
       "      <td>1810</td>\n",
       "    </tr>\n",
       "    <tr>\n",
       "      <th>True</th>\n",
       "      <td>52</td>\n",
       "      <td>48</td>\n",
       "    </tr>\n",
       "  </tbody>\n",
       "</table>\n",
       "</div>"
      ],
      "text/plain": [
       "       Pred False  Pred True\n",
       "False        8190       1810\n",
       "True           52         48"
      ]
     },
     "metadata": {},
     "output_type": "display_data"
    },
    {
     "name": "stdout",
     "output_type": "stream",
     "text": [
      "Acc: 81.5644% \n",
      " F1: 4.9030% \n",
      " FN: 52.0000%\n",
      "Feat count stats: (7.9375, 2.2211694554896075, 2, 10)\n"
     ]
    },
    {
     "data": {
      "text/plain": [
       "[(9, 22), (3, 2), (4, 2), (10, 2), (8, 1), (5, 1), (7, 1), (2, 1)]"
      ]
     },
     "execution_count": 21,
     "metadata": {},
     "output_type": "execute_result"
    }
   ],
   "source": [
    "cls.setSoftVoting()\n",
    "y_pred_soft = np.array(cls.testForest(df_test)).astype(int)\n",
    "accuracy_soft = accuracy_score(y_test, y_pred_soft)\n",
    "f1_score_soft = f1_score(y_test, y_pred_soft)\n",
    "\n",
    "print(f\"{len(cls)} Trees\")\n",
    "cm = confusion_matrix(y_test, y_pred_soft)\n",
    "display(pd.DataFrame(cm, columns=['Pred False','Pred True'], index=['False','True']))\n",
    "tn, fp, fn, tp = cm.ravel()\n",
    "obj_score = fn / (fn+tp)\n",
    "print(f\"Acc: {ppy(accuracy_soft):.4f}% \\n F1: {ppy(f1_score_soft):.4f}% \\n FN: {ppy(obj_score):.4f}%\")\n",
    "\n",
    "fc_stars, fc_list = cls.featCount()\n",
    "print(f\"Feat count stats: {fc_stars}\")\n",
    "Counter(fc_list).most_common()"
   ]
  },
  {
   "cell_type": "code",
   "execution_count": 22,
   "metadata": {
    "execution": {
     "iopub.execute_input": "2024-09-16T00:32:15.063645Z",
     "iopub.status.busy": "2024-09-16T00:32:15.063556Z",
     "iopub.status.idle": "2024-09-16T00:32:15.065909Z",
     "shell.execute_reply": "2024-09-16T00:32:15.065640Z",
     "shell.execute_reply.started": "2024-09-16T00:32:15.063637Z"
    }
   },
   "outputs": [],
   "source": [
    "cls.n_trees = 256"
   ]
  },
  {
   "cell_type": "code",
   "execution_count": 23,
   "metadata": {
    "execution": {
     "iopub.execute_input": "2024-09-16T00:32:15.066497Z",
     "iopub.status.busy": "2024-09-16T00:32:15.066254Z",
     "iopub.status.idle": "2024-09-16T02:37:48.796292Z",
     "shell.execute_reply": "2024-09-16T02:37:48.795752Z",
     "shell.execute_reply.started": "2024-09-16T00:32:15.066488Z"
    }
   },
   "outputs": [
    {
     "data": {
      "application/vnd.jupyter.widget-view+json": {
       "model_id": "027a38697269446d8ab228afb27b26c4",
       "version_major": 2,
       "version_minor": 0
      },
      "text/plain": [
       "Planting the forest:   0%|          | 0/256 [00:00<?, ?it/s]"
      ]
     },
     "metadata": {},
     "output_type": "display_data"
    }
   ],
   "source": [
    "cls.fitParallel(dataset=df_tofit, max_workers=max_workers)\n",
    "ModelDict = cls.model2dict()\n",
    "datetime_tag = datetime.now().strftime('%Y%m%d_%H%M')\n",
    "path_dict = f'{dataset_path}/model_trans_tuning_{len(cls)}trees_{datetime_tag}.json'\n",
    "dump_file_json(path_dict, ModelDict)\n",
    "del ModelDict"
   ]
  },
  {
   "cell_type": "code",
   "execution_count": 24,
   "metadata": {
    "execution": {
     "iopub.execute_input": "2024-09-16T02:37:48.798011Z",
     "iopub.status.busy": "2024-09-16T02:37:48.797854Z",
     "iopub.status.idle": "2024-09-16T02:38:19.272628Z",
     "shell.execute_reply": "2024-09-16T02:38:19.272399Z",
     "shell.execute_reply.started": "2024-09-16T02:37:48.798002Z"
    }
   },
   "outputs": [
    {
     "name": "stdout",
     "output_type": "stream",
     "text": [
      "288 Trees\n"
     ]
    },
    {
     "data": {
      "text/html": [
       "<div>\n",
       "<style scoped>\n",
       "    .dataframe tbody tr th:only-of-type {\n",
       "        vertical-align: middle;\n",
       "    }\n",
       "\n",
       "    .dataframe tbody tr th {\n",
       "        vertical-align: top;\n",
       "    }\n",
       "\n",
       "    .dataframe thead th {\n",
       "        text-align: right;\n",
       "    }\n",
       "</style>\n",
       "<table border=\"1\" class=\"dataframe\">\n",
       "  <thead>\n",
       "    <tr style=\"text-align: right;\">\n",
       "      <th></th>\n",
       "      <th>Pred False</th>\n",
       "      <th>Pred True</th>\n",
       "    </tr>\n",
       "  </thead>\n",
       "  <tbody>\n",
       "    <tr>\n",
       "      <th>False</th>\n",
       "      <td>9099</td>\n",
       "      <td>901</td>\n",
       "    </tr>\n",
       "    <tr>\n",
       "      <th>True</th>\n",
       "      <td>53</td>\n",
       "      <td>47</td>\n",
       "    </tr>\n",
       "  </tbody>\n",
       "</table>\n",
       "</div>"
      ],
      "text/plain": [
       "       Pred False  Pred True\n",
       "False        9099        901\n",
       "True           53         47"
      ]
     },
     "metadata": {},
     "output_type": "display_data"
    },
    {
     "name": "stdout",
     "output_type": "stream",
     "text": [
      "Acc: 90.5545% \n",
      " F1: 8.9695% \n",
      " FN: 53.0000%\n",
      "Feat count stats: (8.23611111111111, 1.846491083376157, 2, 10)\n"
     ]
    },
    {
     "data": {
      "text/plain": [
       "[(9, 218), (4, 12), (8, 11), (10, 11), (3, 9), (5, 8), (7, 7), (2, 6), (6, 6)]"
      ]
     },
     "execution_count": 24,
     "metadata": {},
     "output_type": "execute_result"
    }
   ],
   "source": [
    "cls.setSoftVoting()\n",
    "y_pred_soft = np.array(cls.testForest(df_test)).astype(int)\n",
    "accuracy_soft = accuracy_score(y_test, y_pred_soft)\n",
    "f1_score_soft = f1_score(y_test, y_pred_soft)\n",
    "\n",
    "print(f\"{len(cls)} Trees\")\n",
    "cm = confusion_matrix(y_test, y_pred_soft)\n",
    "display(pd.DataFrame(cm, columns=['Pred False','Pred True'], index=['False','True']))\n",
    "tn, fp, fn, tp = cm.ravel()\n",
    "obj_score = fn / (fn+tp)\n",
    "print(f\"Acc: {ppy(accuracy_soft):.4f}% \\n F1: {ppy(f1_score_soft):.4f}% \\n FN: {ppy(obj_score):.4f}%\")\n",
    "\n",
    "fc_stars, fc_list = cls.featCount()\n",
    "print(f\"Feat count stats: {fc_stars}\")\n",
    "Counter(fc_list).most_common()"
   ]
  },
  {
   "cell_type": "markdown",
   "metadata": {
    "execution": {
     "iopub.execute_input": "2024-09-14T14:58:54.658222Z",
     "iopub.status.busy": "2024-09-14T14:58:54.656802Z",
     "iopub.status.idle": "2024-09-14T14:58:54.660202Z",
     "shell.execute_reply": "2024-09-14T14:58:54.659937Z",
     "shell.execute_reply.started": "2024-09-14T14:58:54.658162Z"
    }
   },
   "source": [
    "# Search for the best set of trees"
   ]
  },
  {
   "cell_type": "code",
   "execution_count": 57,
   "metadata": {
    "execution": {
     "iopub.execute_input": "2024-09-16T16:27:53.762594Z",
     "iopub.status.busy": "2024-09-16T16:27:53.762050Z",
     "iopub.status.idle": "2024-09-16T16:27:53.822271Z",
     "shell.execute_reply": "2024-09-16T16:27:53.821109Z",
     "shell.execute_reply.started": "2024-09-16T16:27:53.762546Z"
    }
   },
   "outputs": [],
   "source": [
    "cls = RandomForestMC(target_col=target_col)\n",
    "cls.process_dataset(df_tofit)"
   ]
  },
  {
   "cell_type": "code",
   "execution_count": 58,
   "metadata": {
    "execution": {
     "iopub.execute_input": "2024-09-16T16:27:54.807235Z",
     "iopub.status.busy": "2024-09-16T16:27:54.806501Z",
     "iopub.status.idle": "2024-09-16T16:27:55.041786Z",
     "shell.execute_reply": "2024-09-16T16:27:55.040285Z",
     "shell.execute_reply.started": "2024-09-16T16:27:54.807189Z"
    }
   },
   "outputs": [
    {
     "name": "stdout",
     "output_type": "stream",
     "text": [
      "/work/tmp/credit-card-fraud-prediction/model_trans_tuning3_256trees_20240916_1416.json\n",
      "/work/tmp/credit-card-fraud-prediction/model_trans_tuning_16trees_20240916_0001.json\n",
      "/work/tmp/credit-card-fraud-prediction/model_trans_tuning_16trees_20240916_0022.json\n",
      "/work/tmp/credit-card-fraud-prediction/model_trans_tuning_288trees_20240916_0237.json\n",
      "/work/tmp/credit-card-fraud-prediction/model_trans_tuning_32trees_20240916_0032.json\n",
      "/work/tmp/credit-card-fraud-prediction/model_trans_tuning_8trees_20240915_2355.json\n",
      "/work/tmp/credit-card-fraud-prediction/model_trans_tuning_8trees_20240916_0016.json\n"
     ]
    }
   ],
   "source": [
    "!ls $dataset_path/model_trans_tuning*"
   ]
  },
  {
   "cell_type": "code",
   "execution_count": 59,
   "metadata": {
    "execution": {
     "iopub.execute_input": "2024-09-16T16:27:55.351897Z",
     "iopub.status.busy": "2024-09-16T16:27:55.351093Z",
     "iopub.status.idle": "2024-09-16T16:27:55.763878Z",
     "shell.execute_reply": "2024-09-16T16:27:55.763605Z",
     "shell.execute_reply.started": "2024-09-16T16:27:55.351848Z"
    }
   },
   "outputs": [
    {
     "data": {
      "text/plain": [
       "RandomForestMC(len(Forest)=256,n_trees=256,model_version=1.2.0-dev,module_version=1.2.0-dev)"
      ]
     },
     "execution_count": 59,
     "metadata": {},
     "output_type": "execute_result"
    }
   ],
   "source": [
    "model_json = f'{dataset_path}/model_trans_tuning3_256trees_20240916_1416.json'\n",
    "model_dict = load_file_json(model_json)\n",
    "cls.dict2model(model_dict)\n",
    "cls"
   ]
  },
  {
   "cell_type": "code",
   "execution_count": 49,
   "metadata": {
    "execution": {
     "iopub.execute_input": "2024-09-16T16:24:42.003500Z",
     "iopub.status.busy": "2024-09-16T16:24:42.003367Z",
     "iopub.status.idle": "2024-09-16T16:24:42.643810Z",
     "shell.execute_reply": "2024-09-16T16:24:42.643435Z",
     "shell.execute_reply.started": "2024-09-16T16:24:42.003492Z"
    },
    "scrolled": true
   },
   "outputs": [
    {
     "data": {
      "text/html": [
       "<div>\n",
       "<style scoped>\n",
       "    .dataframe tbody tr th:only-of-type {\n",
       "        vertical-align: middle;\n",
       "    }\n",
       "\n",
       "    .dataframe tbody tr th {\n",
       "        vertical-align: top;\n",
       "    }\n",
       "\n",
       "    .dataframe thead th {\n",
       "        text-align: right;\n",
       "    }\n",
       "</style>\n",
       "<table border=\"1\" class=\"dataframe\">\n",
       "  <thead>\n",
       "    <tr style=\"text-align: right;\">\n",
       "      <th></th>\n",
       "      <th>Depths</th>\n",
       "    </tr>\n",
       "  </thead>\n",
       "  <tbody>\n",
       "    <tr>\n",
       "      <th>count</th>\n",
       "      <td>53993.000000</td>\n",
       "    </tr>\n",
       "    <tr>\n",
       "      <th>mean</th>\n",
       "      <td>8.818143</td>\n",
       "    </tr>\n",
       "    <tr>\n",
       "      <th>std</th>\n",
       "      <td>0.828708</td>\n",
       "    </tr>\n",
       "    <tr>\n",
       "      <th>min</th>\n",
       "      <td>5.000000</td>\n",
       "    </tr>\n",
       "    <tr>\n",
       "      <th>25%</th>\n",
       "      <td>8.000000</td>\n",
       "    </tr>\n",
       "    <tr>\n",
       "      <th>50%</th>\n",
       "      <td>9.000000</td>\n",
       "    </tr>\n",
       "    <tr>\n",
       "      <th>75%</th>\n",
       "      <td>9.000000</td>\n",
       "    </tr>\n",
       "    <tr>\n",
       "      <th>max</th>\n",
       "      <td>11.000000</td>\n",
       "    </tr>\n",
       "  </tbody>\n",
       "</table>\n",
       "</div>"
      ],
      "text/plain": [
       "             Depths\n",
       "count  53993.000000\n",
       "mean       8.818143\n",
       "std        0.828708\n",
       "min        5.000000\n",
       "25%        8.000000\n",
       "50%        9.000000\n",
       "75%        9.000000\n",
       "max       11.000000"
      ]
     },
     "execution_count": 49,
     "metadata": {},
     "output_type": "execute_result"
    },
    {
     "data": {
      "image/png": "[encoded data removed]",
      "text/plain": [
       "<Figure size 640x480 with 1 Axes>"
      ]
     },
     "metadata": {},
     "output_type": "display_data"
    }
   ],
   "source": [
    "dps = cls.trees2depths\n",
    "df_dethps = pd.DataFrame(flat(dps), columns=['Depths'])\n",
    "df_dethps.hist()\n",
    "df_dethps.describe()"
   ]
  },
  {
   "cell_type": "code",
   "execution_count": 26,
   "metadata": {
    "execution": {
     "iopub.execute_input": "2024-09-16T02:38:19.800216Z",
     "iopub.status.busy": "2024-09-16T02:38:19.798321Z",
     "iopub.status.idle": "2024-09-16T02:39:46.257073Z",
     "shell.execute_reply": "2024-09-16T02:39:46.256620Z",
     "shell.execute_reply.started": "2024-09-16T02:38:19.800198Z"
    }
   },
   "outputs": [
    {
     "data": {
      "application/vnd.jupyter.widget-view+json": {
       "model_id": "d9ea86bd5ba24b81b985a7028a440426",
       "version_major": 2,
       "version_minor": 0
      },
      "text/plain": [
       "  0%|          | 0/287 [00:00<?, ?it/s]"
      ]
     },
     "metadata": {},
     "output_type": "display_data"
    }
   ],
   "source": [
    "cls_inc = RandomForestMC(target_col=target_col)\n",
    "cls_inc.process_dataset(df_tofit)\n",
    "df_frauds = df_test.query(f'{target_col} == \"1\"').reset_index(drop=True)\n",
    "\n",
    "tp_soft = []\n",
    "tp_hard = []\n",
    "final_N = cls.Forest_size\n",
    "for i in tqdm(range(1,final_N)):\n",
    "    cls_inc.reset_forest()\n",
    "    cls_inc.mergeForest(cls, N=i, by=\"score\")\n",
    "    cls_inc.setSoftVoting(True)\n",
    "    y_pred_soft = np.array(cls_inc.testForest(df_frauds)).astype(int)\n",
    "    tp_soft.append(sum(y_pred_soft))\n",
    "    cls_inc.setSoftVoting(False)\n",
    "    y_pred_hard = np.array(cls_inc.testForest(df_frauds)).astype(int)\n",
    "    tp_hard.append(sum(y_pred_hard))"
   ]
  },
  {
   "cell_type": "code",
   "execution_count": 27,
   "metadata": {
    "execution": {
     "iopub.execute_input": "2024-09-16T02:39:46.257556Z",
     "iopub.status.busy": "2024-09-16T02:39:46.257453Z",
     "iopub.status.idle": "2024-09-16T02:39:46.317680Z",
     "shell.execute_reply": "2024-09-16T02:39:46.317078Z",
     "shell.execute_reply.started": "2024-09-16T02:39:46.257548Z"
    }
   },
   "outputs": [
    {
     "data": {
      "text/html": [
       "<div>\n",
       "<style scoped>\n",
       "    .dataframe tbody tr th:only-of-type {\n",
       "        vertical-align: middle;\n",
       "    }\n",
       "\n",
       "    .dataframe tbody tr th {\n",
       "        vertical-align: top;\n",
       "    }\n",
       "\n",
       "    .dataframe thead th {\n",
       "        text-align: right;\n",
       "    }\n",
       "</style>\n",
       "<table border=\"1\" class=\"dataframe\">\n",
       "  <thead>\n",
       "    <tr style=\"text-align: right;\">\n",
       "      <th></th>\n",
       "      <th>0</th>\n",
       "    </tr>\n",
       "  </thead>\n",
       "  <tbody>\n",
       "    <tr>\n",
       "      <th>count</th>\n",
       "      <td>287.000000</td>\n",
       "    </tr>\n",
       "    <tr>\n",
       "      <th>mean</th>\n",
       "      <td>48.174216</td>\n",
       "    </tr>\n",
       "    <tr>\n",
       "      <th>std</th>\n",
       "      <td>2.533199</td>\n",
       "    </tr>\n",
       "    <tr>\n",
       "      <th>min</th>\n",
       "      <td>36.000000</td>\n",
       "    </tr>\n",
       "    <tr>\n",
       "      <th>25%</th>\n",
       "      <td>47.000000</td>\n",
       "    </tr>\n",
       "    <tr>\n",
       "      <th>50%</th>\n",
       "      <td>48.000000</td>\n",
       "    </tr>\n",
       "    <tr>\n",
       "      <th>75%</th>\n",
       "      <td>49.000000</td>\n",
       "    </tr>\n",
       "    <tr>\n",
       "      <th>max</th>\n",
       "      <td>68.000000</td>\n",
       "    </tr>\n",
       "  </tbody>\n",
       "</table>\n",
       "</div>"
      ],
      "text/plain": [
       "                0\n",
       "count  287.000000\n",
       "mean    48.174216\n",
       "std      2.533199\n",
       "min     36.000000\n",
       "25%     47.000000\n",
       "50%     48.000000\n",
       "75%     49.000000\n",
       "max     68.000000"
      ]
     },
     "execution_count": 27,
     "metadata": {},
     "output_type": "execute_result"
    },
    {
     "data": {
      "image/png": "[encoded data removed]",
      "text/plain": [
       "<Figure size 640x480 with 1 Axes>"
      ]
     },
     "metadata": {},
     "output_type": "display_data"
    }
   ],
   "source": [
    "df_soft = pd.DataFrame(tp_soft)\n",
    "df_soft.plot()\n",
    "df_soft.describe()"
   ]
  },
  {
   "cell_type": "code",
   "execution_count": 28,
   "metadata": {
    "execution": {
     "iopub.execute_input": "2024-09-16T02:39:46.318100Z",
     "iopub.status.busy": "2024-09-16T02:39:46.318008Z",
     "iopub.status.idle": "2024-09-16T02:39:46.376498Z",
     "shell.execute_reply": "2024-09-16T02:39:46.375915Z",
     "shell.execute_reply.started": "2024-09-16T02:39:46.318092Z"
    }
   },
   "outputs": [
    {
     "data": {
      "text/html": [
       "<div>\n",
       "<style scoped>\n",
       "    .dataframe tbody tr th:only-of-type {\n",
       "        vertical-align: middle;\n",
       "    }\n",
       "\n",
       "    .dataframe tbody tr th {\n",
       "        vertical-align: top;\n",
       "    }\n",
       "\n",
       "    .dataframe thead th {\n",
       "        text-align: right;\n",
       "    }\n",
       "</style>\n",
       "<table border=\"1\" class=\"dataframe\">\n",
       "  <thead>\n",
       "    <tr style=\"text-align: right;\">\n",
       "      <th></th>\n",
       "      <th>0</th>\n",
       "    </tr>\n",
       "  </thead>\n",
       "  <tbody>\n",
       "    <tr>\n",
       "      <th>count</th>\n",
       "      <td>287.000000</td>\n",
       "    </tr>\n",
       "    <tr>\n",
       "      <th>mean</th>\n",
       "      <td>48.174216</td>\n",
       "    </tr>\n",
       "    <tr>\n",
       "      <th>std</th>\n",
       "      <td>2.533199</td>\n",
       "    </tr>\n",
       "    <tr>\n",
       "      <th>min</th>\n",
       "      <td>36.000000</td>\n",
       "    </tr>\n",
       "    <tr>\n",
       "      <th>25%</th>\n",
       "      <td>47.000000</td>\n",
       "    </tr>\n",
       "    <tr>\n",
       "      <th>50%</th>\n",
       "      <td>48.000000</td>\n",
       "    </tr>\n",
       "    <tr>\n",
       "      <th>75%</th>\n",
       "      <td>49.000000</td>\n",
       "    </tr>\n",
       "    <tr>\n",
       "      <th>max</th>\n",
       "      <td>68.000000</td>\n",
       "    </tr>\n",
       "  </tbody>\n",
       "</table>\n",
       "</div>"
      ],
      "text/plain": [
       "                0\n",
       "count  287.000000\n",
       "mean    48.174216\n",
       "std      2.533199\n",
       "min     36.000000\n",
       "25%     47.000000\n",
       "50%     48.000000\n",
       "75%     49.000000\n",
       "max     68.000000"
      ]
     },
     "execution_count": 28,
     "metadata": {},
     "output_type": "execute_result"
    },
    {
     "data": {
      "image/png": "[encoded data removed]",
      "text/plain": [
       "<Figure size 640x480 with 1 Axes>"
      ]
     },
     "metadata": {},
     "output_type": "display_data"
    }
   ],
   "source": [
    "df_hard = pd.DataFrame(tp_hard)\n",
    "df_hard.plot()\n",
    "df_hard.describe()"
   ]
  },
  {
   "cell_type": "code",
   "execution_count": 29,
   "metadata": {
    "execution": {
     "iopub.execute_input": "2024-09-16T02:39:46.377018Z",
     "iopub.status.busy": "2024-09-16T02:39:46.376915Z",
     "iopub.status.idle": "2024-09-16T02:41:13.370713Z",
     "shell.execute_reply": "2024-09-16T02:41:13.370326Z",
     "shell.execute_reply.started": "2024-09-16T02:39:46.377009Z"
    }
   },
   "outputs": [
    {
     "data": {
      "application/vnd.jupyter.widget-view+json": {
       "model_id": "27420fb594eb41769491e04c8ff51463",
       "version_major": 2,
       "version_minor": 0
      },
      "text/plain": [
       "  0%|          | 0/287 [00:00<?, ?it/s]"
      ]
     },
     "metadata": {},
     "output_type": "display_data"
    }
   ],
   "source": [
    "cls_inc = RandomForestMC(target_col=target_col)\n",
    "cls_inc.process_dataset(df_tofit)\n",
    "df_frauds = df_test.query(f'{target_col} == \"1\"').reset_index(drop=True)\n",
    "\n",
    "tp_soft = []\n",
    "tp_hard = []\n",
    "final_N = cls.Forest_size\n",
    "for i in tqdm(range(1,final_N)):\n",
    "    cls_inc.reset_forest()\n",
    "    cls_inc.mergeForest(cls, N=i, by=\"random\")\n",
    "    cls_inc.setSoftVoting(True)\n",
    "    y_pred_soft = np.array(cls_inc.testForest(df_frauds)).astype(int)\n",
    "    tp_soft.append(sum(y_pred_soft))\n",
    "    cls_inc.setSoftVoting(False)\n",
    "    y_pred_hard = np.array(cls_inc.testForest(df_frauds)).astype(int)\n",
    "    tp_hard.append(sum(y_pred_hard))"
   ]
  },
  {
   "cell_type": "code",
   "execution_count": 30,
   "metadata": {
    "execution": {
     "iopub.execute_input": "2024-09-16T02:41:13.371269Z",
     "iopub.status.busy": "2024-09-16T02:41:13.371154Z",
     "iopub.status.idle": "2024-09-16T02:41:13.436191Z",
     "shell.execute_reply": "2024-09-16T02:41:13.435676Z",
     "shell.execute_reply.started": "2024-09-16T02:41:13.371262Z"
    }
   },
   "outputs": [
    {
     "data": {
      "text/html": [
       "<div>\n",
       "<style scoped>\n",
       "    .dataframe tbody tr th:only-of-type {\n",
       "        vertical-align: middle;\n",
       "    }\n",
       "\n",
       "    .dataframe tbody tr th {\n",
       "        vertical-align: top;\n",
       "    }\n",
       "\n",
       "    .dataframe thead th {\n",
       "        text-align: right;\n",
       "    }\n",
       "</style>\n",
       "<table border=\"1\" class=\"dataframe\">\n",
       "  <thead>\n",
       "    <tr style=\"text-align: right;\">\n",
       "      <th></th>\n",
       "      <th>0</th>\n",
       "    </tr>\n",
       "  </thead>\n",
       "  <tbody>\n",
       "    <tr>\n",
       "      <th>count</th>\n",
       "      <td>287.000000</td>\n",
       "    </tr>\n",
       "    <tr>\n",
       "      <th>mean</th>\n",
       "      <td>47.365854</td>\n",
       "    </tr>\n",
       "    <tr>\n",
       "      <th>std</th>\n",
       "      <td>3.842432</td>\n",
       "    </tr>\n",
       "    <tr>\n",
       "      <th>min</th>\n",
       "      <td>40.000000</td>\n",
       "    </tr>\n",
       "    <tr>\n",
       "      <th>25%</th>\n",
       "      <td>45.000000</td>\n",
       "    </tr>\n",
       "    <tr>\n",
       "      <th>50%</th>\n",
       "      <td>47.000000</td>\n",
       "    </tr>\n",
       "    <tr>\n",
       "      <th>75%</th>\n",
       "      <td>49.000000</td>\n",
       "    </tr>\n",
       "    <tr>\n",
       "      <th>max</th>\n",
       "      <td>71.000000</td>\n",
       "    </tr>\n",
       "  </tbody>\n",
       "</table>\n",
       "</div>"
      ],
      "text/plain": [
       "                0\n",
       "count  287.000000\n",
       "mean    47.365854\n",
       "std      3.842432\n",
       "min     40.000000\n",
       "25%     45.000000\n",
       "50%     47.000000\n",
       "75%     49.000000\n",
       "max     71.000000"
      ]
     },
     "execution_count": 30,
     "metadata": {},
     "output_type": "execute_result"
    },
    {
     "data": {
      "image/png": "[encoded data removed]",
      "text/plain": [
       "<Figure size 640x480 with 1 Axes>"
      ]
     },
     "metadata": {},
     "output_type": "display_data"
    }
   ],
   "source": [
    "df_soft = pd.DataFrame(tp_soft)\n",
    "df_soft.plot()\n",
    "df_soft.describe()"
   ]
  },
  {
   "cell_type": "code",
   "execution_count": 31,
   "metadata": {
    "execution": {
     "iopub.execute_input": "2024-09-16T02:41:13.436839Z",
     "iopub.status.busy": "2024-09-16T02:41:13.436672Z",
     "iopub.status.idle": "2024-09-16T02:41:13.521749Z",
     "shell.execute_reply": "2024-09-16T02:41:13.521335Z",
     "shell.execute_reply.started": "2024-09-16T02:41:13.436824Z"
    }
   },
   "outputs": [
    {
     "data": {
      "text/html": [
       "<div>\n",
       "<style scoped>\n",
       "    .dataframe tbody tr th:only-of-type {\n",
       "        vertical-align: middle;\n",
       "    }\n",
       "\n",
       "    .dataframe tbody tr th {\n",
       "        vertical-align: top;\n",
       "    }\n",
       "\n",
       "    .dataframe thead th {\n",
       "        text-align: right;\n",
       "    }\n",
       "</style>\n",
       "<table border=\"1\" class=\"dataframe\">\n",
       "  <thead>\n",
       "    <tr style=\"text-align: right;\">\n",
       "      <th></th>\n",
       "      <th>0</th>\n",
       "    </tr>\n",
       "  </thead>\n",
       "  <tbody>\n",
       "    <tr>\n",
       "      <th>count</th>\n",
       "      <td>287.000000</td>\n",
       "    </tr>\n",
       "    <tr>\n",
       "      <th>mean</th>\n",
       "      <td>47.365854</td>\n",
       "    </tr>\n",
       "    <tr>\n",
       "      <th>std</th>\n",
       "      <td>3.842432</td>\n",
       "    </tr>\n",
       "    <tr>\n",
       "      <th>min</th>\n",
       "      <td>40.000000</td>\n",
       "    </tr>\n",
       "    <tr>\n",
       "      <th>25%</th>\n",
       "      <td>45.000000</td>\n",
       "    </tr>\n",
       "    <tr>\n",
       "      <th>50%</th>\n",
       "      <td>47.000000</td>\n",
       "    </tr>\n",
       "    <tr>\n",
       "      <th>75%</th>\n",
       "      <td>49.000000</td>\n",
       "    </tr>\n",
       "    <tr>\n",
       "      <th>max</th>\n",
       "      <td>71.000000</td>\n",
       "    </tr>\n",
       "  </tbody>\n",
       "</table>\n",
       "</div>"
      ],
      "text/plain": [
       "                0\n",
       "count  287.000000\n",
       "mean    47.365854\n",
       "std      3.842432\n",
       "min     40.000000\n",
       "25%     45.000000\n",
       "50%     47.000000\n",
       "75%     49.000000\n",
       "max     71.000000"
      ]
     },
     "execution_count": 31,
     "metadata": {},
     "output_type": "execute_result"
    },
    {
     "data": {
      "image/png": "[encoded data removed]",
      "text/plain": [
       "<Figure size 640x480 with 1 Axes>"
      ]
     },
     "metadata": {},
     "output_type": "display_data"
    }
   ],
   "source": [
    "df_hard = pd.DataFrame(tp_hard)\n",
    "df_hard.plot()\n",
    "df_hard.describe()"
   ]
  },
  {
   "cell_type": "code",
   "execution_count": 32,
   "metadata": {
    "execution": {
     "iopub.execute_input": "2024-09-16T02:41:13.522288Z",
     "iopub.status.busy": "2024-09-16T02:41:13.522175Z",
     "iopub.status.idle": "2024-09-16T02:50:14.160081Z",
     "shell.execute_reply": "2024-09-16T02:50:14.159213Z",
     "shell.execute_reply.started": "2024-09-16T02:41:13.522278Z"
    }
   },
   "outputs": [
    {
     "data": {
      "application/vnd.jupyter.widget-view+json": {
       "model_id": "0fdb1f8bb7834286b77b4c2fca1a35e8",
       "version_major": 2,
       "version_minor": 0
      },
      "text/plain": [
       "  0%|          | 0/287 [00:00<?, ?it/s]"
      ]
     },
     "metadata": {},
     "output_type": "display_data"
    },
    {
     "ename": "KeyboardInterrupt",
     "evalue": "",
     "output_type": "error",
     "traceback": [
      "\u001b[0;31m---------------------------------------------------------------------------\u001b[0m",
      "\u001b[0;31mKeyboardInterrupt\u001b[0m                         Traceback (most recent call last)",
      "Cell \u001b[0;32mIn[32], line 15\u001b[0m\n\u001b[1;32m     13\u001b[0m     cls_inc\u001b[38;5;241m.\u001b[39mmergeForest(\u001b[38;5;28mcls\u001b[39m, N\u001b[38;5;241m=\u001b[39mi, by\u001b[38;5;241m=\u001b[39m\u001b[38;5;124m\"\u001b[39m\u001b[38;5;124mrandom\u001b[39m\u001b[38;5;124m\"\u001b[39m)\n\u001b[1;32m     14\u001b[0m     cls_inc\u001b[38;5;241m.\u001b[39msetSoftVoting(\u001b[38;5;28;01mTrue\u001b[39;00m)\n\u001b[0;32m---> 15\u001b[0m     y_pred_soft \u001b[38;5;241m=\u001b[39m np\u001b[38;5;241m.\u001b[39marray(\u001b[43mcls_inc\u001b[49m\u001b[38;5;241;43m.\u001b[39;49m\u001b[43mtestForest\u001b[49m\u001b[43m(\u001b[49m\u001b[43mdf_frauds\u001b[49m\u001b[43m)\u001b[49m)\u001b[38;5;241m.\u001b[39mastype(\u001b[38;5;28mint\u001b[39m)\n\u001b[1;32m     16\u001b[0m     tp\u001b[38;5;241m.\u001b[39mappend(\u001b[38;5;28msum\u001b[39m(y_pred_soft))\n\u001b[1;32m     17\u001b[0m data\u001b[38;5;241m.\u001b[39mappend(tp)\n",
      "File \u001b[0;32m/usr/local/lib/python3.11/site-packages/random_forest_mc/model.py:775\u001b[0m, in \u001b[0;36mRandomForestMC.testForest\u001b[0;34m(self, ds)\u001b[0m\n\u001b[1;32m    774\u001b[0m \u001b[38;5;28;01mdef\u001b[39;00m \u001b[38;5;21mtestForest\u001b[39m(\u001b[38;5;28mself\u001b[39m, ds: pd\u001b[38;5;241m.\u001b[39mDataFrame) \u001b[38;5;241m-\u001b[39m\u001b[38;5;241m>\u001b[39m List[TypeClassVal]:\n\u001b[0;32m--> 775\u001b[0m     \u001b[38;5;28;01mreturn\u001b[39;00m \u001b[43m[\u001b[49m\u001b[38;5;28;43mself\u001b[39;49m\u001b[38;5;241;43m.\u001b[39;49m\u001b[43mmaxProbClas\u001b[49m\u001b[43m(\u001b[49m\u001b[38;5;28;43mself\u001b[39;49m\u001b[38;5;241;43m.\u001b[39;49m\u001b[43museForest\u001b[49m\u001b[43m(\u001b[49m\u001b[43mrow\u001b[49m\u001b[43m)\u001b[49m\u001b[43m)\u001b[49m\u001b[43m \u001b[49m\u001b[38;5;28;43;01mfor\u001b[39;49;00m\u001b[43m \u001b[49m\u001b[43m_\u001b[49m\u001b[43m,\u001b[49m\u001b[43m \u001b[49m\u001b[43mrow\u001b[49m\u001b[43m \u001b[49m\u001b[38;5;129;43;01min\u001b[39;49;00m\u001b[43m \u001b[49m\u001b[43mds\u001b[49m\u001b[38;5;241;43m.\u001b[39;49m\u001b[43miterrows\u001b[49m\u001b[43m(\u001b[49m\u001b[43m)\u001b[49m\u001b[43m]\u001b[49m\n",
      "File \u001b[0;32m/usr/local/lib/python3.11/site-packages/random_forest_mc/model.py:775\u001b[0m, in \u001b[0;36m<listcomp>\u001b[0;34m(.0)\u001b[0m\n\u001b[1;32m    774\u001b[0m \u001b[38;5;28;01mdef\u001b[39;00m \u001b[38;5;21mtestForest\u001b[39m(\u001b[38;5;28mself\u001b[39m, ds: pd\u001b[38;5;241m.\u001b[39mDataFrame) \u001b[38;5;241m-\u001b[39m\u001b[38;5;241m>\u001b[39m List[TypeClassVal]:\n\u001b[0;32m--> 775\u001b[0m     \u001b[38;5;28;01mreturn\u001b[39;00m [\u001b[38;5;28mself\u001b[39m\u001b[38;5;241m.\u001b[39mmaxProbClas(\u001b[38;5;28;43mself\u001b[39;49m\u001b[38;5;241;43m.\u001b[39;49m\u001b[43museForest\u001b[49m\u001b[43m(\u001b[49m\u001b[43mrow\u001b[49m\u001b[43m)\u001b[49m) \u001b[38;5;28;01mfor\u001b[39;00m _, row \u001b[38;5;129;01min\u001b[39;00m ds\u001b[38;5;241m.\u001b[39miterrows()]\n",
      "File \u001b[0;32m/usr/local/lib/python3.11/site-packages/random_forest_mc/model.py:746\u001b[0m, in \u001b[0;36mRandomForestMC.useForest\u001b[0;34m(self, row)\u001b[0m\n\u001b[1;32m    744\u001b[0m \u001b[38;5;28;01melse\u001b[39;00m:\n\u001b[1;32m    745\u001b[0m     class_probs \u001b[38;5;241m=\u001b[39m defaultdict(\u001b[38;5;28mfloat\u001b[39m)\n\u001b[0;32m--> 746\u001b[0m     pred_probs \u001b[38;5;241m=\u001b[39m \u001b[43m[\u001b[49m\u001b[43mTree\u001b[49m\u001b[43m(\u001b[49m\u001b[43mrow\u001b[49m\u001b[43m)\u001b[49m\u001b[43m \u001b[49m\u001b[38;5;28;43;01mfor\u001b[39;49;00m\u001b[43m \u001b[49m\u001b[43mTree\u001b[49m\u001b[43m \u001b[49m\u001b[38;5;129;43;01min\u001b[39;49;00m\u001b[43m \u001b[49m\u001b[38;5;28;43mself\u001b[39;49m\u001b[38;5;241;43m.\u001b[39;49m\u001b[43mdata\u001b[49m\u001b[43m]\u001b[49m\n\u001b[1;32m    747\u001b[0m     \u001b[38;5;28;01mfor\u001b[39;00m predp \u001b[38;5;129;01min\u001b[39;00m pred_probs:\n\u001b[1;32m    748\u001b[0m         \u001b[38;5;28;01mfor\u001b[39;00m class_val, prob \u001b[38;5;129;01min\u001b[39;00m predp\u001b[38;5;241m.\u001b[39mitems():\n",
      "File \u001b[0;32m/usr/local/lib/python3.11/site-packages/random_forest_mc/model.py:746\u001b[0m, in \u001b[0;36m<listcomp>\u001b[0;34m(.0)\u001b[0m\n\u001b[1;32m    744\u001b[0m \u001b[38;5;28;01melse\u001b[39;00m:\n\u001b[1;32m    745\u001b[0m     class_probs \u001b[38;5;241m=\u001b[39m defaultdict(\u001b[38;5;28mfloat\u001b[39m)\n\u001b[0;32m--> 746\u001b[0m     pred_probs \u001b[38;5;241m=\u001b[39m [\u001b[43mTree\u001b[49m\u001b[43m(\u001b[49m\u001b[43mrow\u001b[49m\u001b[43m)\u001b[49m \u001b[38;5;28;01mfor\u001b[39;00m Tree \u001b[38;5;129;01min\u001b[39;00m \u001b[38;5;28mself\u001b[39m\u001b[38;5;241m.\u001b[39mdata]\n\u001b[1;32m    747\u001b[0m     \u001b[38;5;28;01mfor\u001b[39;00m predp \u001b[38;5;129;01min\u001b[39;00m pred_probs:\n\u001b[1;32m    748\u001b[0m         \u001b[38;5;28;01mfor\u001b[39;00m class_val, prob \u001b[38;5;129;01min\u001b[39;00m predp\u001b[38;5;241m.\u001b[39mitems():\n",
      "File \u001b[0;32m/usr/local/lib/python3.11/site-packages/random_forest_mc/model.py:178\u001b[0m, in \u001b[0;36mDecisionTreeMC.__call__\u001b[0;34m(self, row)\u001b[0m\n\u001b[1;32m    177\u001b[0m \u001b[38;5;28;01mdef\u001b[39;00m \u001b[38;5;21m__call__\u001b[39m(\u001b[38;5;28mself\u001b[39m, row: dsRow) \u001b[38;5;241m-\u001b[39m\u001b[38;5;241m>\u001b[39m TypeLeaf:\n\u001b[0;32m--> 178\u001b[0m     \u001b[38;5;28;01mreturn\u001b[39;00m \u001b[38;5;28;43mself\u001b[39;49m\u001b[38;5;241;43m.\u001b[39;49m\u001b[43museTree\u001b[49m\u001b[43m(\u001b[49m\u001b[43mrow\u001b[49m\u001b[43m)\u001b[49m\n",
      "File \u001b[0;32m/usr/local/lib/python3.11/site-packages/random_forest_mc/model.py:242\u001b[0m, in \u001b[0;36mDecisionTreeMC.useTree\u001b[0;34m(self, row)\u001b[0m\n\u001b[1;32m    241\u001b[0m \u001b[38;5;28;01mdef\u001b[39;00m \u001b[38;5;21museTree\u001b[39m(\u001b[38;5;28mself\u001b[39m, row: dsRow) \u001b[38;5;241m-\u001b[39m\u001b[38;5;241m>\u001b[39m TypeLeaf:\n\u001b[0;32m--> 242\u001b[0m     Tree \u001b[38;5;241m=\u001b[39m \u001b[38;5;28mself\u001b[39m\u001b[38;5;241m.\u001b[39mdata\u001b[38;5;241m.\u001b[39mcopy()\n\u001b[1;32m    243\u001b[0m     out \u001b[38;5;241m=\u001b[39m \u001b[38;5;28mself\u001b[39m\u001b[38;5;241m.\u001b[39m_useTree(Tree, row)\n\u001b[1;32m    244\u001b[0m     \u001b[38;5;28;01mif\u001b[39;00m \u001b[38;5;28misinstance\u001b[39m(out, \u001b[38;5;28mdict\u001b[39m):\n",
      "\u001b[0;31mKeyboardInterrupt\u001b[0m: "
     ]
    }
   ],
   "source": [
    "cls_inc = RandomForestMC(target_col=target_col)\n",
    "cls_inc.process_dataset(df_tofit)\n",
    "df_frauds = df_test.query(f'{target_col} == \"1\"').reset_index(drop=True)\n",
    "\n",
    "N_sim = 100\n",
    "\n",
    "data = []\n",
    "final_N = cls.Forest_size\n",
    "for i in tqdm(range(1,final_N)):\n",
    "    tp = []\n",
    "    for _ in range(N_sim):\n",
    "        cls_inc.reset_forest()\n",
    "        cls_inc.mergeForest(cls, N=i, by=\"random\")\n",
    "        cls_inc.setSoftVoting(True)\n",
    "        y_pred_soft = np.array(cls_inc.testForest(df_frauds)).astype(int)\n",
    "        tp.append(sum(y_pred_soft))\n",
    "    data.append(tp)"
   ]
  },
  {
   "cell_type": "code",
   "execution_count": 33,
   "metadata": {
    "execution": {
     "iopub.execute_input": "2024-09-16T02:50:17.008150Z",
     "iopub.status.busy": "2024-09-16T02:50:17.007847Z",
     "iopub.status.idle": "2024-09-16T02:50:17.371001Z",
     "shell.execute_reply": "2024-09-16T02:50:17.370620Z",
     "shell.execute_reply.started": "2024-09-16T02:50:17.008132Z"
    }
   },
   "outputs": [
    {
     "data": {
      "text/plain": [
       "<Axes: >"
      ]
     },
     "execution_count": 33,
     "metadata": {},
     "output_type": "execute_result"
    },
    {
     "data": {
      "image/png": "[encoded data removed]",
      "text/plain": [
       "<Figure size 1200x600 with 1 Axes>"
      ]
     },
     "metadata": {},
     "output_type": "display_data"
    }
   ],
   "source": [
    "df = pd.DataFrame(data).T\n",
    "\n",
    "plt.figure()\n",
    "df.boxplot()"
   ]
  },
  {
   "cell_type": "code",
   "execution_count": 34,
   "metadata": {
    "execution": {
     "iopub.execute_input": "2024-09-16T02:50:22.006534Z",
     "iopub.status.busy": "2024-09-16T02:50:22.006360Z",
     "iopub.status.idle": "2024-09-16T02:50:22.154962Z",
     "shell.execute_reply": "2024-09-16T02:50:22.154646Z",
     "shell.execute_reply.started": "2024-09-16T02:50:22.006525Z"
    }
   },
   "outputs": [
    {
     "data": {
      "text/html": [
       "<div>\n",
       "<style scoped>\n",
       "    .dataframe tbody tr th:only-of-type {\n",
       "        vertical-align: middle;\n",
       "    }\n",
       "\n",
       "    .dataframe tbody tr th {\n",
       "        vertical-align: top;\n",
       "    }\n",
       "\n",
       "    .dataframe thead th {\n",
       "        text-align: right;\n",
       "    }\n",
       "</style>\n",
       "<table border=\"1\" class=\"dataframe\">\n",
       "  <thead>\n",
       "    <tr style=\"text-align: right;\">\n",
       "      <th></th>\n",
       "      <th>count</th>\n",
       "      <th>mean</th>\n",
       "      <th>std</th>\n",
       "      <th>min</th>\n",
       "      <th>25%</th>\n",
       "      <th>50%</th>\n",
       "      <th>75%</th>\n",
       "      <th>max</th>\n",
       "    </tr>\n",
       "  </thead>\n",
       "  <tbody>\n",
       "    <tr>\n",
       "      <th>1</th>\n",
       "      <td>100.0</td>\n",
       "      <td>72.35</td>\n",
       "      <td>4.560203</td>\n",
       "      <td>57.0</td>\n",
       "      <td>70.00</td>\n",
       "      <td>73.0</td>\n",
       "      <td>76.00</td>\n",
       "      <td>82.0</td>\n",
       "    </tr>\n",
       "    <tr>\n",
       "      <th>3</th>\n",
       "      <td>100.0</td>\n",
       "      <td>65.00</td>\n",
       "      <td>4.666667</td>\n",
       "      <td>56.0</td>\n",
       "      <td>62.00</td>\n",
       "      <td>65.0</td>\n",
       "      <td>68.25</td>\n",
       "      <td>76.0</td>\n",
       "    </tr>\n",
       "    <tr>\n",
       "      <th>5</th>\n",
       "      <td>100.0</td>\n",
       "      <td>61.12</td>\n",
       "      <td>5.182098</td>\n",
       "      <td>47.0</td>\n",
       "      <td>58.00</td>\n",
       "      <td>61.0</td>\n",
       "      <td>65.00</td>\n",
       "      <td>74.0</td>\n",
       "    </tr>\n",
       "    <tr>\n",
       "      <th>7</th>\n",
       "      <td>100.0</td>\n",
       "      <td>58.69</td>\n",
       "      <td>4.585209</td>\n",
       "      <td>45.0</td>\n",
       "      <td>55.75</td>\n",
       "      <td>59.0</td>\n",
       "      <td>62.00</td>\n",
       "      <td>70.0</td>\n",
       "    </tr>\n",
       "    <tr>\n",
       "      <th>9</th>\n",
       "      <td>100.0</td>\n",
       "      <td>56.95</td>\n",
       "      <td>4.000947</td>\n",
       "      <td>48.0</td>\n",
       "      <td>54.00</td>\n",
       "      <td>57.0</td>\n",
       "      <td>59.25</td>\n",
       "      <td>66.0</td>\n",
       "    </tr>\n",
       "    <tr>\n",
       "      <th>11</th>\n",
       "      <td>100.0</td>\n",
       "      <td>55.51</td>\n",
       "      <td>4.953307</td>\n",
       "      <td>42.0</td>\n",
       "      <td>52.00</td>\n",
       "      <td>55.0</td>\n",
       "      <td>59.00</td>\n",
       "      <td>67.0</td>\n",
       "    </tr>\n",
       "    <tr>\n",
       "      <th>13</th>\n",
       "      <td>100.0</td>\n",
       "      <td>54.46</td>\n",
       "      <td>3.937440</td>\n",
       "      <td>42.0</td>\n",
       "      <td>52.00</td>\n",
       "      <td>54.0</td>\n",
       "      <td>58.00</td>\n",
       "      <td>62.0</td>\n",
       "    </tr>\n",
       "    <tr>\n",
       "      <th>15</th>\n",
       "      <td>100.0</td>\n",
       "      <td>54.14</td>\n",
       "      <td>5.719045</td>\n",
       "      <td>41.0</td>\n",
       "      <td>50.00</td>\n",
       "      <td>54.0</td>\n",
       "      <td>58.00</td>\n",
       "      <td>69.0</td>\n",
       "    </tr>\n",
       "    <tr>\n",
       "      <th>17</th>\n",
       "      <td>100.0</td>\n",
       "      <td>54.06</td>\n",
       "      <td>5.122381</td>\n",
       "      <td>36.0</td>\n",
       "      <td>51.00</td>\n",
       "      <td>54.0</td>\n",
       "      <td>58.00</td>\n",
       "      <td>63.0</td>\n",
       "    </tr>\n",
       "    <tr>\n",
       "      <th>19</th>\n",
       "      <td>100.0</td>\n",
       "      <td>53.17</td>\n",
       "      <td>4.226073</td>\n",
       "      <td>44.0</td>\n",
       "      <td>51.00</td>\n",
       "      <td>53.0</td>\n",
       "      <td>56.00</td>\n",
       "      <td>63.0</td>\n",
       "    </tr>\n",
       "    <tr>\n",
       "      <th>21</th>\n",
       "      <td>100.0</td>\n",
       "      <td>51.75</td>\n",
       "      <td>4.073504</td>\n",
       "      <td>43.0</td>\n",
       "      <td>49.00</td>\n",
       "      <td>52.0</td>\n",
       "      <td>54.00</td>\n",
       "      <td>62.0</td>\n",
       "    </tr>\n",
       "    <tr>\n",
       "      <th>25</th>\n",
       "      <td>100.0</td>\n",
       "      <td>51.58</td>\n",
       "      <td>3.649215</td>\n",
       "      <td>42.0</td>\n",
       "      <td>49.00</td>\n",
       "      <td>52.0</td>\n",
       "      <td>54.00</td>\n",
       "      <td>60.0</td>\n",
       "    </tr>\n",
       "    <tr>\n",
       "      <th>23</th>\n",
       "      <td>100.0</td>\n",
       "      <td>51.48</td>\n",
       "      <td>4.123057</td>\n",
       "      <td>43.0</td>\n",
       "      <td>48.00</td>\n",
       "      <td>51.0</td>\n",
       "      <td>54.00</td>\n",
       "      <td>63.0</td>\n",
       "    </tr>\n",
       "    <tr>\n",
       "      <th>31</th>\n",
       "      <td>100.0</td>\n",
       "      <td>50.61</td>\n",
       "      <td>3.757538</td>\n",
       "      <td>39.0</td>\n",
       "      <td>48.00</td>\n",
       "      <td>50.0</td>\n",
       "      <td>53.00</td>\n",
       "      <td>61.0</td>\n",
       "    </tr>\n",
       "    <tr>\n",
       "      <th>29</th>\n",
       "      <td>100.0</td>\n",
       "      <td>50.56</td>\n",
       "      <td>4.200337</td>\n",
       "      <td>40.0</td>\n",
       "      <td>48.00</td>\n",
       "      <td>51.0</td>\n",
       "      <td>53.25</td>\n",
       "      <td>63.0</td>\n",
       "    </tr>\n",
       "    <tr>\n",
       "      <th>27</th>\n",
       "      <td>100.0</td>\n",
       "      <td>50.13</td>\n",
       "      <td>3.658821</td>\n",
       "      <td>41.0</td>\n",
       "      <td>48.00</td>\n",
       "      <td>50.0</td>\n",
       "      <td>52.25</td>\n",
       "      <td>58.0</td>\n",
       "    </tr>\n",
       "    <tr>\n",
       "      <th>35</th>\n",
       "      <td>100.0</td>\n",
       "      <td>49.72</td>\n",
       "      <td>3.626725</td>\n",
       "      <td>40.0</td>\n",
       "      <td>48.00</td>\n",
       "      <td>50.0</td>\n",
       "      <td>52.00</td>\n",
       "      <td>57.0</td>\n",
       "    </tr>\n",
       "    <tr>\n",
       "      <th>33</th>\n",
       "      <td>100.0</td>\n",
       "      <td>49.69</td>\n",
       "      <td>4.021897</td>\n",
       "      <td>39.0</td>\n",
       "      <td>47.00</td>\n",
       "      <td>50.0</td>\n",
       "      <td>52.00</td>\n",
       "      <td>61.0</td>\n",
       "    </tr>\n",
       "    <tr>\n",
       "      <th>37</th>\n",
       "      <td>100.0</td>\n",
       "      <td>49.56</td>\n",
       "      <td>3.456278</td>\n",
       "      <td>40.0</td>\n",
       "      <td>47.00</td>\n",
       "      <td>49.5</td>\n",
       "      <td>52.00</td>\n",
       "      <td>57.0</td>\n",
       "    </tr>\n",
       "    <tr>\n",
       "      <th>2</th>\n",
       "      <td>100.0</td>\n",
       "      <td>49.54</td>\n",
       "      <td>5.277013</td>\n",
       "      <td>38.0</td>\n",
       "      <td>46.00</td>\n",
       "      <td>49.0</td>\n",
       "      <td>53.00</td>\n",
       "      <td>62.0</td>\n",
       "    </tr>\n",
       "  </tbody>\n",
       "</table>\n",
       "</div>"
      ],
      "text/plain": [
       "    count   mean       std   min    25%   50%    75%   max\n",
       "1   100.0  72.35  4.560203  57.0  70.00  73.0  76.00  82.0\n",
       "3   100.0  65.00  4.666667  56.0  62.00  65.0  68.25  76.0\n",
       "5   100.0  61.12  5.182098  47.0  58.00  61.0  65.00  74.0\n",
       "7   100.0  58.69  4.585209  45.0  55.75  59.0  62.00  70.0\n",
       "9   100.0  56.95  4.000947  48.0  54.00  57.0  59.25  66.0\n",
       "11  100.0  55.51  4.953307  42.0  52.00  55.0  59.00  67.0\n",
       "13  100.0  54.46  3.937440  42.0  52.00  54.0  58.00  62.0\n",
       "15  100.0  54.14  5.719045  41.0  50.00  54.0  58.00  69.0\n",
       "17  100.0  54.06  5.122381  36.0  51.00  54.0  58.00  63.0\n",
       "19  100.0  53.17  4.226073  44.0  51.00  53.0  56.00  63.0\n",
       "21  100.0  51.75  4.073504  43.0  49.00  52.0  54.00  62.0\n",
       "25  100.0  51.58  3.649215  42.0  49.00  52.0  54.00  60.0\n",
       "23  100.0  51.48  4.123057  43.0  48.00  51.0  54.00  63.0\n",
       "31  100.0  50.61  3.757538  39.0  48.00  50.0  53.00  61.0\n",
       "29  100.0  50.56  4.200337  40.0  48.00  51.0  53.25  63.0\n",
       "27  100.0  50.13  3.658821  41.0  48.00  50.0  52.25  58.0\n",
       "35  100.0  49.72  3.626725  40.0  48.00  50.0  52.00  57.0\n",
       "33  100.0  49.69  4.021897  39.0  47.00  50.0  52.00  61.0\n",
       "37  100.0  49.56  3.456278  40.0  47.00  49.5  52.00  57.0\n",
       "2   100.0  49.54  5.277013  38.0  46.00  49.0  53.00  62.0"
      ]
     },
     "execution_count": 34,
     "metadata": {},
     "output_type": "execute_result"
    }
   ],
   "source": [
    "df.describe().T.sort_values(by='mean', ascending=False).head(20)"
   ]
  },
  {
   "cell_type": "code",
   "execution_count": 35,
   "metadata": {
    "execution": {
     "iopub.execute_input": "2024-09-16T02:50:26.030119Z",
     "iopub.status.busy": "2024-09-16T02:50:26.029772Z",
     "iopub.status.idle": "2024-09-16T02:51:28.815312Z",
     "shell.execute_reply": "2024-09-16T02:51:28.814698Z",
     "shell.execute_reply.started": "2024-09-16T02:50:26.030106Z"
    }
   },
   "outputs": [
    {
     "data": {
      "application/vnd.jupyter.widget-view+json": {
       "model_id": "2b4999a574cb456795ab358bcf163e12",
       "version_major": 2,
       "version_minor": 0
      },
      "text/plain": [
       "  0%|          | 0/9 [00:00<?, ?it/s]"
      ]
     },
     "metadata": {},
     "output_type": "display_data"
    }
   ],
   "source": [
    "cls_inc = RandomForestMC(target_col=target_col)\n",
    "cls_inc.process_dataset(df_tofit)\n",
    "df_frauds = df_test.query(f'{target_col} == \"1\"').reset_index(drop=True)\n",
    "\n",
    "N_sim = 1000\n",
    "\n",
    "data = []\n",
    "final_N = 10\n",
    "for i in tqdm(range(1,final_N)):\n",
    "    tp = []\n",
    "    for _ in range(N_sim):\n",
    "        cls_inc.reset_forest()\n",
    "        cls_inc.mergeForest(cls, N=i, by=\"random\")\n",
    "        cls_inc.setSoftVoting(True)\n",
    "        y_pred_soft = np.array(cls_inc.testForest(df_frauds)).astype(int)\n",
    "        tp.append(sum(y_pred_soft))\n",
    "    data.append(tp)"
   ]
  },
  {
   "cell_type": "code",
   "execution_count": 36,
   "metadata": {
    "execution": {
     "iopub.execute_input": "2024-09-16T02:51:28.816731Z",
     "iopub.status.busy": "2024-09-16T02:51:28.816031Z",
     "iopub.status.idle": "2024-09-16T02:51:28.912457Z",
     "shell.execute_reply": "2024-09-16T02:51:28.912194Z",
     "shell.execute_reply.started": "2024-09-16T02:51:28.816714Z"
    },
    "scrolled": true
   },
   "outputs": [
    {
     "data": {
      "text/plain": [
       "<Axes: >"
      ]
     },
     "execution_count": 36,
     "metadata": {},
     "output_type": "execute_result"
    },
    {
     "data": {
      "image/png": "[encoded data removed]",
      "text/plain": [
       "<Figure size 1200x600 with 1 Axes>"
      ]
     },
     "metadata": {},
     "output_type": "display_data"
    }
   ],
   "source": [
    "df = pd.DataFrame(data).T\n",
    "\n",
    "plt.figure()\n",
    "df.boxplot()"
   ]
  },
  {
   "cell_type": "code",
   "execution_count": 37,
   "metadata": {
    "execution": {
     "iopub.execute_input": "2024-09-16T02:51:28.912961Z",
     "iopub.status.busy": "2024-09-16T02:51:28.912863Z",
     "iopub.status.idle": "2024-09-16T02:51:28.928939Z",
     "shell.execute_reply": "2024-09-16T02:51:28.928651Z",
     "shell.execute_reply.started": "2024-09-16T02:51:28.912953Z"
    },
    "scrolled": true
   },
   "outputs": [
    {
     "data": {
      "text/html": [
       "<div>\n",
       "<style scoped>\n",
       "    .dataframe tbody tr th:only-of-type {\n",
       "        vertical-align: middle;\n",
       "    }\n",
       "\n",
       "    .dataframe tbody tr th {\n",
       "        vertical-align: top;\n",
       "    }\n",
       "\n",
       "    .dataframe thead th {\n",
       "        text-align: right;\n",
       "    }\n",
       "</style>\n",
       "<table border=\"1\" class=\"dataframe\">\n",
       "  <thead>\n",
       "    <tr style=\"text-align: right;\">\n",
       "      <th></th>\n",
       "      <th>count</th>\n",
       "      <th>mean</th>\n",
       "      <th>std</th>\n",
       "      <th>min</th>\n",
       "      <th>25%</th>\n",
       "      <th>50%</th>\n",
       "      <th>75%</th>\n",
       "      <th>max</th>\n",
       "    </tr>\n",
       "  </thead>\n",
       "  <tbody>\n",
       "    <tr>\n",
       "      <th>1</th>\n",
       "      <td>1000.0</td>\n",
       "      <td>72.571</td>\n",
       "      <td>5.186893</td>\n",
       "      <td>56.0</td>\n",
       "      <td>69.00</td>\n",
       "      <td>73.0</td>\n",
       "      <td>76.0</td>\n",
       "      <td>86.0</td>\n",
       "    </tr>\n",
       "    <tr>\n",
       "      <th>3</th>\n",
       "      <td>1000.0</td>\n",
       "      <td>64.853</td>\n",
       "      <td>4.995232</td>\n",
       "      <td>49.0</td>\n",
       "      <td>62.00</td>\n",
       "      <td>65.0</td>\n",
       "      <td>68.0</td>\n",
       "      <td>80.0</td>\n",
       "    </tr>\n",
       "    <tr>\n",
       "      <th>5</th>\n",
       "      <td>1000.0</td>\n",
       "      <td>61.223</td>\n",
       "      <td>4.923567</td>\n",
       "      <td>44.0</td>\n",
       "      <td>58.00</td>\n",
       "      <td>61.0</td>\n",
       "      <td>64.0</td>\n",
       "      <td>76.0</td>\n",
       "    </tr>\n",
       "    <tr>\n",
       "      <th>7</th>\n",
       "      <td>1000.0</td>\n",
       "      <td>58.797</td>\n",
       "      <td>4.929512</td>\n",
       "      <td>44.0</td>\n",
       "      <td>56.00</td>\n",
       "      <td>59.0</td>\n",
       "      <td>62.0</td>\n",
       "      <td>74.0</td>\n",
       "    </tr>\n",
       "    <tr>\n",
       "      <th>0</th>\n",
       "      <td>1000.0</td>\n",
       "      <td>49.123</td>\n",
       "      <td>6.030443</td>\n",
       "      <td>33.0</td>\n",
       "      <td>45.00</td>\n",
       "      <td>49.0</td>\n",
       "      <td>53.0</td>\n",
       "      <td>65.0</td>\n",
       "    </tr>\n",
       "    <tr>\n",
       "      <th>2</th>\n",
       "      <td>1000.0</td>\n",
       "      <td>48.733</td>\n",
       "      <td>5.389319</td>\n",
       "      <td>28.0</td>\n",
       "      <td>45.00</td>\n",
       "      <td>49.0</td>\n",
       "      <td>52.0</td>\n",
       "      <td>70.0</td>\n",
       "    </tr>\n",
       "    <tr>\n",
       "      <th>4</th>\n",
       "      <td>1000.0</td>\n",
       "      <td>48.385</td>\n",
       "      <td>5.215551</td>\n",
       "      <td>30.0</td>\n",
       "      <td>45.00</td>\n",
       "      <td>48.0</td>\n",
       "      <td>52.0</td>\n",
       "      <td>67.0</td>\n",
       "    </tr>\n",
       "    <tr>\n",
       "      <th>6</th>\n",
       "      <td>1000.0</td>\n",
       "      <td>47.905</td>\n",
       "      <td>5.089192</td>\n",
       "      <td>32.0</td>\n",
       "      <td>44.75</td>\n",
       "      <td>48.0</td>\n",
       "      <td>51.0</td>\n",
       "      <td>64.0</td>\n",
       "    </tr>\n",
       "    <tr>\n",
       "      <th>8</th>\n",
       "      <td>1000.0</td>\n",
       "      <td>47.893</td>\n",
       "      <td>4.761956</td>\n",
       "      <td>34.0</td>\n",
       "      <td>45.00</td>\n",
       "      <td>48.0</td>\n",
       "      <td>51.0</td>\n",
       "      <td>63.0</td>\n",
       "    </tr>\n",
       "  </tbody>\n",
       "</table>\n",
       "</div>"
      ],
      "text/plain": [
       "    count    mean       std   min    25%   50%   75%   max\n",
       "1  1000.0  72.571  5.186893  56.0  69.00  73.0  76.0  86.0\n",
       "3  1000.0  64.853  4.995232  49.0  62.00  65.0  68.0  80.0\n",
       "5  1000.0  61.223  4.923567  44.0  58.00  61.0  64.0  76.0\n",
       "7  1000.0  58.797  4.929512  44.0  56.00  59.0  62.0  74.0\n",
       "0  1000.0  49.123  6.030443  33.0  45.00  49.0  53.0  65.0\n",
       "2  1000.0  48.733  5.389319  28.0  45.00  49.0  52.0  70.0\n",
       "4  1000.0  48.385  5.215551  30.0  45.00  48.0  52.0  67.0\n",
       "6  1000.0  47.905  5.089192  32.0  44.75  48.0  51.0  64.0\n",
       "8  1000.0  47.893  4.761956  34.0  45.00  48.0  51.0  63.0"
      ]
     },
     "execution_count": 37,
     "metadata": {},
     "output_type": "execute_result"
    }
   ],
   "source": [
    "df.describe().T.sort_values(by='mean', ascending=False).head(20)"
   ]
  },
  {
   "cell_type": "markdown",
   "metadata": {
    "execution": {
     "iopub.execute_input": "2024-09-15T08:04:51.682912Z",
     "iopub.status.busy": "2024-09-15T08:04:51.682790Z",
     "iopub.status.idle": "2024-09-15T08:04:51.961459Z",
     "shell.execute_reply": "2024-09-15T08:04:51.958982Z",
     "shell.execute_reply.started": "2024-09-15T08:04:51.682904Z"
    }
   },
   "source": [
    "# Tunning 3 with search 2-4-6-trees"
   ]
  },
  {
   "cell_type": "code",
   "execution_count": 38,
   "metadata": {
    "execution": {
     "iopub.execute_input": "2024-09-16T02:52:05.983382Z",
     "iopub.status.busy": "2024-09-16T02:52:05.981878Z",
     "iopub.status.idle": "2024-09-16T02:52:06.093269Z",
     "shell.execute_reply": "2024-09-16T02:52:06.092795Z",
     "shell.execute_reply.started": "2024-09-16T02:52:05.983308Z"
    }
   },
   "outputs": [
    {
     "data": {
      "text/plain": [
       "0"
      ]
     },
     "execution_count": 38,
     "metadata": {},
     "output_type": "execute_result"
    }
   ],
   "source": [
    "cls.drop_duplicated_trees()"
   ]
  },
  {
   "cell_type": "code",
   "execution_count": 39,
   "metadata": {
    "execution": {
     "iopub.execute_input": "2024-09-16T02:52:06.928507Z",
     "iopub.status.busy": "2024-09-16T02:52:06.927942Z",
     "iopub.status.idle": "2024-09-16T02:52:06.936690Z",
     "shell.execute_reply": "2024-09-16T02:52:06.935881Z",
     "shell.execute_reply.started": "2024-09-16T02:52:06.928463Z"
    }
   },
   "outputs": [
    {
     "data": {
      "text/plain": [
       "RandomForestMC(len(Forest)=288,n_trees=256,model_version=1.2.0-dev,module_version=1.2.0-dev)"
      ]
     },
     "execution_count": 39,
     "metadata": {},
     "output_type": "execute_result"
    }
   ],
   "source": [
    "cls"
   ]
  },
  {
   "cell_type": "code",
   "execution_count": 41,
   "metadata": {
    "execution": {
     "iopub.execute_input": "2024-09-16T02:53:46.437188Z",
     "iopub.status.busy": "2024-09-16T02:53:46.436971Z",
     "iopub.status.idle": "2024-09-16T03:27:50.206190Z",
     "shell.execute_reply": "2024-09-16T03:27:50.205691Z",
     "shell.execute_reply.started": "2024-09-16T02:53:46.437176Z"
    }
   },
   "outputs": [
    {
     "data": {
      "application/vnd.jupyter.widget-view+json": {
       "model_id": "f6e328021e8948ceb5c5520f1470c7ac",
       "version_major": 2,
       "version_minor": 0
      },
      "text/plain": [
       "  0%|          | 0/10000 [00:00<?, ?it/s]"
      ]
     },
     "metadata": {},
     "output_type": "display_data"
    }
   ],
   "source": [
    "cls_inc = RandomForestMC(target_col=target_col)\n",
    "cls_inc.process_dataset(df_tofit)\n",
    "cls_inc.setSoftVoting(True)\n",
    "df_frauds = df_test.query(f'{target_col} == \"1\"').reset_index(drop=True)\n",
    "df_notfrauds = df_test.query(f'{target_col} == \"0\"').sample(n=1000).reset_index(drop=True)\n",
    "df_mini_test = pd.concat([df_frauds, df_notfrauds], ignore_index=True)\n",
    "y_test = df_mini_test[target_col].astype(int).to_list()\n",
    "\n",
    "N_sim = 10000\n",
    "\n",
    "data = defaultdict(list)\n",
    "n_trees = [2, 4, 6]\n",
    "for _ in tqdm(range(N_sim)):\n",
    "    repated_forest = set()\n",
    "    for i in n_trees:\n",
    "        cls_inc.reset_forest()\n",
    "        cls_inc.mergeForest(cls, N=i, by=\"random\")\n",
    "        hd5_forest = \"\".join(sorted([Tree.md5hexdigest for Tree in cls_inc]))\n",
    "        if hd5_forest in repated_forest:\n",
    "            continue\n",
    "        repated_forest.add(hd5_forest)\n",
    "        y_pred_soft = np.array(cls_inc.testForest(df_mini_test)).astype(int)\n",
    "        acc = accuracy_score(y_test, y_pred_soft)\n",
    "        f1 = f1_score(y_test, y_pred_soft)\n",
    "        miss_rate = sum([not p for t, p in zip(y_test, y_pred_soft) if t]) / sum(y_test)\n",
    "        for Tree in cls_inc:\n",
    "            data[Tree.md5hexdigest].append((i, len(Tree.used_features), max(Tree.depths), acc, f1, miss_rate))"
   ]
  },
  {
   "cell_type": "code",
   "execution_count": 42,
   "metadata": {
    "execution": {
     "iopub.execute_input": "2024-09-16T03:27:50.207266Z",
     "iopub.status.busy": "2024-09-16T03:27:50.207063Z",
     "iopub.status.idle": "2024-09-16T03:27:50.623420Z",
     "shell.execute_reply": "2024-09-16T03:27:50.622965Z",
     "shell.execute_reply.started": "2024-09-16T03:27:50.207254Z"
    }
   },
   "outputs": [],
   "source": [
    "datetime_tag = datetime.now().strftime('%Y%m%d_%H%M')\n",
    "dump_file_json(f\"{dataset_path}/trees_trans_metrcis_sim_{datetime_tag}.json\", data)"
   ]
  },
  {
   "cell_type": "code",
   "execution_count": null,
   "metadata": {
    "execution": {
     "iopub.status.busy": "2024-09-16T02:53:24.341543Z",
     "iopub.status.idle": "2024-09-16T02:53:24.341655Z",
     "shell.execute_reply": "2024-09-16T02:53:24.341606Z",
     "shell.execute_reply.started": "2024-09-16T02:53:24.341601Z"
    }
   },
   "outputs": [],
   "source": [
    "len(data)"
   ]
  },
  {
   "cell_type": "markdown",
   "metadata": {},
   "source": [
    "### Analysing the results"
   ]
  },
  {
   "cell_type": "code",
   "execution_count": null,
   "metadata": {},
   "outputs": [],
   "source": [
    "!ls $dataset_path/trees_metrcis_sim_*.json"
   ]
  },
  {
   "cell_type": "code",
   "execution_count": null,
   "metadata": {},
   "outputs": [],
   "source": [
    "data =  load_file_json('/work/tmp/credit-card-fraud-prediction/trees_metrcis_sim2_*.json')"
   ]
  },
  {
   "cell_type": "code",
   "execution_count": 43,
   "metadata": {
    "execution": {
     "iopub.execute_input": "2024-09-16T03:27:50.623963Z",
     "iopub.status.busy": "2024-09-16T03:27:50.623847Z",
     "iopub.status.idle": "2024-09-16T03:27:50.626167Z",
     "shell.execute_reply": "2024-09-16T03:27:50.625892Z",
     "shell.execute_reply.started": "2024-09-16T03:27:50.623952Z"
    }
   },
   "outputs": [],
   "source": [
    "md5_trees = list(data.keys())"
   ]
  },
  {
   "cell_type": "code",
   "execution_count": 44,
   "metadata": {
    "execution": {
     "iopub.execute_input": "2024-09-16T03:27:50.627073Z",
     "iopub.status.busy": "2024-09-16T03:27:50.626926Z",
     "iopub.status.idle": "2024-09-16T03:27:50.952017Z",
     "shell.execute_reply": "2024-09-16T03:27:50.951589Z",
     "shell.execute_reply.started": "2024-09-16T03:27:50.627059Z"
    }
   },
   "outputs": [
    {
     "data": {
      "text/html": [
       "<div>\n",
       "<style scoped>\n",
       "    .dataframe tbody tr th:only-of-type {\n",
       "        vertical-align: middle;\n",
       "    }\n",
       "\n",
       "    .dataframe tbody tr th {\n",
       "        vertical-align: top;\n",
       "    }\n",
       "\n",
       "    .dataframe thead th {\n",
       "        text-align: right;\n",
       "    }\n",
       "</style>\n",
       "<table border=\"1\" class=\"dataframe\">\n",
       "  <thead>\n",
       "    <tr style=\"text-align: right;\">\n",
       "      <th></th>\n",
       "      <th>Forest Size</th>\n",
       "      <th>Feature Count</th>\n",
       "      <th>Max Depths</th>\n",
       "      <th>Acc</th>\n",
       "      <th>F1</th>\n",
       "      <th>Miss Rate</th>\n",
       "      <th>Tree</th>\n",
       "    </tr>\n",
       "  </thead>\n",
       "  <tbody>\n",
       "    <tr>\n",
       "      <th>0</th>\n",
       "      <td>6.000000</td>\n",
       "      <td>9.0</td>\n",
       "      <td>10.0</td>\n",
       "      <td>0.707273</td>\n",
       "      <td>0.278008</td>\n",
       "      <td>0.530000</td>\n",
       "      <td>c6e510d23997e733f02b579b20673584</td>\n",
       "    </tr>\n",
       "    <tr>\n",
       "      <th>1</th>\n",
       "      <td>4.646925</td>\n",
       "      <td>9.0</td>\n",
       "      <td>10.0</td>\n",
       "      <td>0.573212</td>\n",
       "      <td>0.220217</td>\n",
       "      <td>0.344556</td>\n",
       "      <td>c6e510d23997e733f02b579b20673584</td>\n",
       "    </tr>\n",
       "    <tr>\n",
       "      <th>2</th>\n",
       "      <td>6.000000</td>\n",
       "      <td>9.0</td>\n",
       "      <td>10.0</td>\n",
       "      <td>0.684545</td>\n",
       "      <td>0.276000</td>\n",
       "      <td>0.500000</td>\n",
       "      <td>8c976ceb222e3d69ef68f061cb9b814a</td>\n",
       "    </tr>\n",
       "    <tr>\n",
       "      <th>3</th>\n",
       "      <td>4.661692</td>\n",
       "      <td>9.0</td>\n",
       "      <td>10.0</td>\n",
       "      <td>0.576531</td>\n",
       "      <td>0.224008</td>\n",
       "      <td>0.333806</td>\n",
       "      <td>8c976ceb222e3d69ef68f061cb9b814a</td>\n",
       "    </tr>\n",
       "    <tr>\n",
       "      <th>4</th>\n",
       "      <td>6.000000</td>\n",
       "      <td>9.0</td>\n",
       "      <td>10.0</td>\n",
       "      <td>0.654545</td>\n",
       "      <td>0.267857</td>\n",
       "      <td>0.490000</td>\n",
       "      <td>6ac8be2b0dc3bdf7c4db893804a1bf42</td>\n",
       "    </tr>\n",
       "    <tr>\n",
       "      <th>...</th>\n",
       "      <td>...</td>\n",
       "      <td>...</td>\n",
       "      <td>...</td>\n",
       "      <td>...</td>\n",
       "      <td>...</td>\n",
       "      <td>...</td>\n",
       "      <td>...</td>\n",
       "    </tr>\n",
       "    <tr>\n",
       "      <th>571</th>\n",
       "      <td>4.748235</td>\n",
       "      <td>9.0</td>\n",
       "      <td>10.0</td>\n",
       "      <td>0.546036</td>\n",
       "      <td>0.202466</td>\n",
       "      <td>0.373647</td>\n",
       "      <td>831ef917dbe40d856db3e5fbd4e50495</td>\n",
       "    </tr>\n",
       "    <tr>\n",
       "      <th>572</th>\n",
       "      <td>6.000000</td>\n",
       "      <td>9.0</td>\n",
       "      <td>10.0</td>\n",
       "      <td>0.690909</td>\n",
       "      <td>0.276008</td>\n",
       "      <td>0.530000</td>\n",
       "      <td>671634d660b107215702ca7ed21a751a</td>\n",
       "    </tr>\n",
       "    <tr>\n",
       "      <th>573</th>\n",
       "      <td>4.633094</td>\n",
       "      <td>9.0</td>\n",
       "      <td>10.0</td>\n",
       "      <td>0.584886</td>\n",
       "      <td>0.219162</td>\n",
       "      <td>0.364628</td>\n",
       "      <td>671634d660b107215702ca7ed21a751a</td>\n",
       "    </tr>\n",
       "    <tr>\n",
       "      <th>574</th>\n",
       "      <td>6.000000</td>\n",
       "      <td>9.0</td>\n",
       "      <td>10.0</td>\n",
       "      <td>0.658182</td>\n",
       "      <td>0.262231</td>\n",
       "      <td>0.520000</td>\n",
       "      <td>9145604af4cab63bf8e04559c5e3756d</td>\n",
       "    </tr>\n",
       "    <tr>\n",
       "      <th>575</th>\n",
       "      <td>4.644391</td>\n",
       "      <td>9.0</td>\n",
       "      <td>10.0</td>\n",
       "      <td>0.554441</td>\n",
       "      <td>0.210305</td>\n",
       "      <td>0.353771</td>\n",
       "      <td>9145604af4cab63bf8e04559c5e3756d</td>\n",
       "    </tr>\n",
       "  </tbody>\n",
       "</table>\n",
       "<p>576 rows × 7 columns</p>\n",
       "</div>"
      ],
      "text/plain": [
       "     Forest Size  Feature Count  Max Depths       Acc        F1  Miss Rate  \\\n",
       "0       6.000000            9.0        10.0  0.707273  0.278008   0.530000   \n",
       "1       4.646925            9.0        10.0  0.573212  0.220217   0.344556   \n",
       "2       6.000000            9.0        10.0  0.684545  0.276000   0.500000   \n",
       "3       4.661692            9.0        10.0  0.576531  0.224008   0.333806   \n",
       "4       6.000000            9.0        10.0  0.654545  0.267857   0.490000   \n",
       "..           ...            ...         ...       ...       ...        ...   \n",
       "571     4.748235            9.0        10.0  0.546036  0.202466   0.373647   \n",
       "572     6.000000            9.0        10.0  0.690909  0.276008   0.530000   \n",
       "573     4.633094            9.0        10.0  0.584886  0.219162   0.364628   \n",
       "574     6.000000            9.0        10.0  0.658182  0.262231   0.520000   \n",
       "575     4.644391            9.0        10.0  0.554441  0.210305   0.353771   \n",
       "\n",
       "                                 Tree  \n",
       "0    c6e510d23997e733f02b579b20673584  \n",
       "1    c6e510d23997e733f02b579b20673584  \n",
       "2    8c976ceb222e3d69ef68f061cb9b814a  \n",
       "3    8c976ceb222e3d69ef68f061cb9b814a  \n",
       "4    6ac8be2b0dc3bdf7c4db893804a1bf42  \n",
       "..                                ...  \n",
       "571  831ef917dbe40d856db3e5fbd4e50495  \n",
       "572  671634d660b107215702ca7ed21a751a  \n",
       "573  671634d660b107215702ca7ed21a751a  \n",
       "574  9145604af4cab63bf8e04559c5e3756d  \n",
       "575  9145604af4cab63bf8e04559c5e3756d  \n",
       "\n",
       "[576 rows x 7 columns]"
      ]
     },
     "execution_count": 44,
     "metadata": {},
     "output_type": "execute_result"
    }
   ],
   "source": [
    "columns = ['Forest Size','Feature Count','Max Depths','Acc','F1','Miss Rate']\n",
    "list_trees = []\n",
    "for md5_tree, stats_tree in data.items():\n",
    "    df_stats = pd.DataFrame(data[md5_tree], columns=columns).max().to_frame().T\n",
    "    df_stats['Tree'] = md5_tree\n",
    "    list_trees.append(df_stats)\n",
    "    df_stats = pd.DataFrame(data[md5_tree], columns=columns).mean().to_frame().T\n",
    "    df_stats['Tree'] = md5_tree\n",
    "    list_trees.append(df_stats)\n",
    "\n",
    "df_trees = pd.concat(list_trees, ignore_index=True)\n",
    "df_trees"
   ]
  },
  {
   "cell_type": "code",
   "execution_count": 45,
   "metadata": {
    "execution": {
     "iopub.execute_input": "2024-09-16T03:27:50.952517Z",
     "iopub.status.busy": "2024-09-16T03:27:50.952365Z",
     "iopub.status.idle": "2024-09-16T03:27:50.959076Z",
     "shell.execute_reply": "2024-09-16T03:27:50.958767Z",
     "shell.execute_reply.started": "2024-09-16T03:27:50.952503Z"
    }
   },
   "outputs": [
    {
     "data": {
      "text/html": [
       "<div>\n",
       "<style scoped>\n",
       "    .dataframe tbody tr th:only-of-type {\n",
       "        vertical-align: middle;\n",
       "    }\n",
       "\n",
       "    .dataframe tbody tr th {\n",
       "        vertical-align: top;\n",
       "    }\n",
       "\n",
       "    .dataframe thead th {\n",
       "        text-align: right;\n",
       "    }\n",
       "</style>\n",
       "<table border=\"1\" class=\"dataframe\">\n",
       "  <thead>\n",
       "    <tr style=\"text-align: right;\">\n",
       "      <th></th>\n",
       "      <th>Forest Size</th>\n",
       "      <th>Feature Count</th>\n",
       "      <th>Max Depths</th>\n",
       "      <th>Acc</th>\n",
       "      <th>F1</th>\n",
       "      <th>Miss Rate</th>\n",
       "      <th>Tree</th>\n",
       "    </tr>\n",
       "  </thead>\n",
       "  <tbody>\n",
       "    <tr>\n",
       "      <th>288</th>\n",
       "      <td>6.0</td>\n",
       "      <td>8.0</td>\n",
       "      <td>10.0</td>\n",
       "      <td>0.722727</td>\n",
       "      <td>0.285714</td>\n",
       "      <td>0.55</td>\n",
       "      <td>ef556a3c230bab32bb4ee14018ec7722</td>\n",
       "    </tr>\n",
       "    <tr>\n",
       "      <th>450</th>\n",
       "      <td>6.0</td>\n",
       "      <td>9.0</td>\n",
       "      <td>10.0</td>\n",
       "      <td>0.722727</td>\n",
       "      <td>0.285714</td>\n",
       "      <td>0.54</td>\n",
       "      <td>ef2c5aa3068228720ecab33d1a15b59b</td>\n",
       "    </tr>\n",
       "    <tr>\n",
       "      <th>36</th>\n",
       "      <td>6.0</td>\n",
       "      <td>9.0</td>\n",
       "      <td>10.0</td>\n",
       "      <td>0.722727</td>\n",
       "      <td>0.285714</td>\n",
       "      <td>0.50</td>\n",
       "      <td>295a7ef56c2489b7c57f77dd3993a3c4</td>\n",
       "    </tr>\n",
       "    <tr>\n",
       "      <th>166</th>\n",
       "      <td>6.0</td>\n",
       "      <td>9.0</td>\n",
       "      <td>10.0</td>\n",
       "      <td>0.722727</td>\n",
       "      <td>0.285714</td>\n",
       "      <td>0.56</td>\n",
       "      <td>79062402470c51379b5336bef975dbd0</td>\n",
       "    </tr>\n",
       "    <tr>\n",
       "      <th>408</th>\n",
       "      <td>6.0</td>\n",
       "      <td>9.0</td>\n",
       "      <td>10.0</td>\n",
       "      <td>0.722727</td>\n",
       "      <td>0.285714</td>\n",
       "      <td>0.53</td>\n",
       "      <td>42f3d341ceaf051aa4a173fd43716ab5</td>\n",
       "    </tr>\n",
       "    <tr>\n",
       "      <th>330</th>\n",
       "      <td>6.0</td>\n",
       "      <td>9.0</td>\n",
       "      <td>10.0</td>\n",
       "      <td>0.722727</td>\n",
       "      <td>0.285714</td>\n",
       "      <td>0.48</td>\n",
       "      <td>b4bf1b5431a38d37db8cfef0122d29b7</td>\n",
       "    </tr>\n",
       "    <tr>\n",
       "      <th>92</th>\n",
       "      <td>6.0</td>\n",
       "      <td>9.0</td>\n",
       "      <td>10.0</td>\n",
       "      <td>0.685455</td>\n",
       "      <td>0.285124</td>\n",
       "      <td>0.51</td>\n",
       "      <td>eab711ef351b61eb465724efd81c65bc</td>\n",
       "    </tr>\n",
       "    <tr>\n",
       "      <th>62</th>\n",
       "      <td>6.0</td>\n",
       "      <td>9.0</td>\n",
       "      <td>10.0</td>\n",
       "      <td>0.685455</td>\n",
       "      <td>0.285124</td>\n",
       "      <td>0.55</td>\n",
       "      <td>806b46cecc32adad041de2a1cdaeec1e</td>\n",
       "    </tr>\n",
       "    <tr>\n",
       "      <th>252</th>\n",
       "      <td>6.0</td>\n",
       "      <td>9.0</td>\n",
       "      <td>10.0</td>\n",
       "      <td>0.696364</td>\n",
       "      <td>0.285124</td>\n",
       "      <td>0.53</td>\n",
       "      <td>50d7b76d98829a730118283857a07b1f</td>\n",
       "    </tr>\n",
       "    <tr>\n",
       "      <th>300</th>\n",
       "      <td>6.0</td>\n",
       "      <td>9.0</td>\n",
       "      <td>10.0</td>\n",
       "      <td>0.694545</td>\n",
       "      <td>0.285124</td>\n",
       "      <td>0.54</td>\n",
       "      <td>ca81ef386163bad51081c509359dd7bc</td>\n",
       "    </tr>\n",
       "  </tbody>\n",
       "</table>\n",
       "</div>"
      ],
      "text/plain": [
       "     Forest Size  Feature Count  Max Depths       Acc        F1  Miss Rate  \\\n",
       "288          6.0            8.0        10.0  0.722727  0.285714       0.55   \n",
       "450          6.0            9.0        10.0  0.722727  0.285714       0.54   \n",
       "36           6.0            9.0        10.0  0.722727  0.285714       0.50   \n",
       "166          6.0            9.0        10.0  0.722727  0.285714       0.56   \n",
       "408          6.0            9.0        10.0  0.722727  0.285714       0.53   \n",
       "330          6.0            9.0        10.0  0.722727  0.285714       0.48   \n",
       "92           6.0            9.0        10.0  0.685455  0.285124       0.51   \n",
       "62           6.0            9.0        10.0  0.685455  0.285124       0.55   \n",
       "252          6.0            9.0        10.0  0.696364  0.285124       0.53   \n",
       "300          6.0            9.0        10.0  0.694545  0.285124       0.54   \n",
       "\n",
       "                                 Tree  \n",
       "288  ef556a3c230bab32bb4ee14018ec7722  \n",
       "450  ef2c5aa3068228720ecab33d1a15b59b  \n",
       "36   295a7ef56c2489b7c57f77dd3993a3c4  \n",
       "166  79062402470c51379b5336bef975dbd0  \n",
       "408  42f3d341ceaf051aa4a173fd43716ab5  \n",
       "330  b4bf1b5431a38d37db8cfef0122d29b7  \n",
       "92   eab711ef351b61eb465724efd81c65bc  \n",
       "62   806b46cecc32adad041de2a1cdaeec1e  \n",
       "252  50d7b76d98829a730118283857a07b1f  \n",
       "300  ca81ef386163bad51081c509359dd7bc  "
      ]
     },
     "execution_count": 45,
     "metadata": {},
     "output_type": "execute_result"
    }
   ],
   "source": [
    "df_trees.sort_values(by='F1', ascending=False).head(10)"
   ]
  },
  {
   "cell_type": "code",
   "execution_count": 46,
   "metadata": {
    "execution": {
     "iopub.execute_input": "2024-09-16T03:27:50.959775Z",
     "iopub.status.busy": "2024-09-16T03:27:50.959624Z",
     "iopub.status.idle": "2024-09-16T03:27:50.974730Z",
     "shell.execute_reply": "2024-09-16T03:27:50.974405Z",
     "shell.execute_reply.started": "2024-09-16T03:27:50.959764Z"
    }
   },
   "outputs": [
    {
     "data": {
      "text/html": [
       "<div>\n",
       "<style scoped>\n",
       "    .dataframe tbody tr th:only-of-type {\n",
       "        vertical-align: middle;\n",
       "    }\n",
       "\n",
       "    .dataframe tbody tr th {\n",
       "        vertical-align: top;\n",
       "    }\n",
       "\n",
       "    .dataframe thead th {\n",
       "        text-align: right;\n",
       "    }\n",
       "</style>\n",
       "<table border=\"1\" class=\"dataframe\">\n",
       "  <thead>\n",
       "    <tr style=\"text-align: right;\">\n",
       "      <th></th>\n",
       "      <th>Forest Size</th>\n",
       "      <th>Feature Count</th>\n",
       "      <th>Max Depths</th>\n",
       "      <th>Acc</th>\n",
       "      <th>F1</th>\n",
       "      <th>Miss Rate</th>\n",
       "      <th>Tree</th>\n",
       "    </tr>\n",
       "  </thead>\n",
       "  <tbody>\n",
       "    <tr>\n",
       "      <th>181</th>\n",
       "      <td>4.519608</td>\n",
       "      <td>9.0</td>\n",
       "      <td>10.0</td>\n",
       "      <td>0.544563</td>\n",
       "      <td>0.224387</td>\n",
       "      <td>0.282255</td>\n",
       "      <td>1badb983fa776a93c4808da3a67e212d</td>\n",
       "    </tr>\n",
       "    <tr>\n",
       "      <th>305</th>\n",
       "      <td>4.595843</td>\n",
       "      <td>9.0</td>\n",
       "      <td>10.0</td>\n",
       "      <td>0.540296</td>\n",
       "      <td>0.218287</td>\n",
       "      <td>0.301132</td>\n",
       "      <td>3c5569ce72a493a3e3826e961f5c64b8</td>\n",
       "    </tr>\n",
       "    <tr>\n",
       "      <th>109</th>\n",
       "      <td>4.590164</td>\n",
       "      <td>5.0</td>\n",
       "      <td>10.0</td>\n",
       "      <td>0.558959</td>\n",
       "      <td>0.223912</td>\n",
       "      <td>0.306768</td>\n",
       "      <td>c71a65d909a8c75a995cf295df8d5f1a</td>\n",
       "    </tr>\n",
       "    <tr>\n",
       "      <th>211</th>\n",
       "      <td>4.568182</td>\n",
       "      <td>4.0</td>\n",
       "      <td>10.0</td>\n",
       "      <td>0.542746</td>\n",
       "      <td>0.217004</td>\n",
       "      <td>0.310068</td>\n",
       "      <td>8cf6c2613a3ad2e40440ba178ec074cc</td>\n",
       "    </tr>\n",
       "    <tr>\n",
       "      <th>5</th>\n",
       "      <td>4.617117</td>\n",
       "      <td>9.0</td>\n",
       "      <td>10.0</td>\n",
       "      <td>0.537160</td>\n",
       "      <td>0.214893</td>\n",
       "      <td>0.310203</td>\n",
       "      <td>6ac8be2b0dc3bdf7c4db893804a1bf42</td>\n",
       "    </tr>\n",
       "    <tr>\n",
       "      <th>529</th>\n",
       "      <td>4.781395</td>\n",
       "      <td>9.0</td>\n",
       "      <td>10.0</td>\n",
       "      <td>0.572983</td>\n",
       "      <td>0.227845</td>\n",
       "      <td>0.312140</td>\n",
       "      <td>7f82a5def8b82f0bc7c60cf92c392acd</td>\n",
       "    </tr>\n",
       "    <tr>\n",
       "      <th>183</th>\n",
       "      <td>4.732719</td>\n",
       "      <td>9.0</td>\n",
       "      <td>10.0</td>\n",
       "      <td>0.572945</td>\n",
       "      <td>0.227771</td>\n",
       "      <td>0.312650</td>\n",
       "      <td>2478ccd4bc2de4896767d91101d03ec4</td>\n",
       "    </tr>\n",
       "    <tr>\n",
       "      <th>297</th>\n",
       "      <td>4.630385</td>\n",
       "      <td>9.0</td>\n",
       "      <td>10.0</td>\n",
       "      <td>0.532956</td>\n",
       "      <td>0.212855</td>\n",
       "      <td>0.313469</td>\n",
       "      <td>12ede1c0e5a66c7f38e06c682399e09b</td>\n",
       "    </tr>\n",
       "    <tr>\n",
       "      <th>35</th>\n",
       "      <td>4.610169</td>\n",
       "      <td>9.0</td>\n",
       "      <td>10.0</td>\n",
       "      <td>0.588162</td>\n",
       "      <td>0.233931</td>\n",
       "      <td>0.313777</td>\n",
       "      <td>59b45573bbd659d41c231178f4856d96</td>\n",
       "    </tr>\n",
       "    <tr>\n",
       "      <th>51</th>\n",
       "      <td>4.675737</td>\n",
       "      <td>9.0</td>\n",
       "      <td>10.0</td>\n",
       "      <td>0.586840</td>\n",
       "      <td>0.232850</td>\n",
       "      <td>0.315351</td>\n",
       "      <td>8b40e4d2083bd35b9ecb3193d33bb154</td>\n",
       "    </tr>\n",
       "  </tbody>\n",
       "</table>\n",
       "</div>"
      ],
      "text/plain": [
       "     Forest Size  Feature Count  Max Depths       Acc        F1  Miss Rate  \\\n",
       "181     4.519608            9.0        10.0  0.544563  0.224387   0.282255   \n",
       "305     4.595843            9.0        10.0  0.540296  0.218287   0.301132   \n",
       "109     4.590164            5.0        10.0  0.558959  0.223912   0.306768   \n",
       "211     4.568182            4.0        10.0  0.542746  0.217004   0.310068   \n",
       "5       4.617117            9.0        10.0  0.537160  0.214893   0.310203   \n",
       "529     4.781395            9.0        10.0  0.572983  0.227845   0.312140   \n",
       "183     4.732719            9.0        10.0  0.572945  0.227771   0.312650   \n",
       "297     4.630385            9.0        10.0  0.532956  0.212855   0.313469   \n",
       "35      4.610169            9.0        10.0  0.588162  0.233931   0.313777   \n",
       "51      4.675737            9.0        10.0  0.586840  0.232850   0.315351   \n",
       "\n",
       "                                 Tree  \n",
       "181  1badb983fa776a93c4808da3a67e212d  \n",
       "305  3c5569ce72a493a3e3826e961f5c64b8  \n",
       "109  c71a65d909a8c75a995cf295df8d5f1a  \n",
       "211  8cf6c2613a3ad2e40440ba178ec074cc  \n",
       "5    6ac8be2b0dc3bdf7c4db893804a1bf42  \n",
       "529  7f82a5def8b82f0bc7c60cf92c392acd  \n",
       "183  2478ccd4bc2de4896767d91101d03ec4  \n",
       "297  12ede1c0e5a66c7f38e06c682399e09b  \n",
       "35   59b45573bbd659d41c231178f4856d96  \n",
       "51   8b40e4d2083bd35b9ecb3193d33bb154  "
      ]
     },
     "execution_count": 46,
     "metadata": {},
     "output_type": "execute_result"
    }
   ],
   "source": [
    "df_trees.sort_values(by='Miss Rate').head(10)"
   ]
  },
  {
   "cell_type": "code",
   "execution_count": 47,
   "metadata": {
    "execution": {
     "iopub.execute_input": "2024-09-16T03:27:50.975313Z",
     "iopub.status.busy": "2024-09-16T03:27:50.975139Z",
     "iopub.status.idle": "2024-09-16T03:27:51.055982Z",
     "shell.execute_reply": "2024-09-16T03:27:51.055697Z",
     "shell.execute_reply.started": "2024-09-16T03:27:50.975300Z"
    }
   },
   "outputs": [
    {
     "data": {
      "text/plain": [
       "<Axes: >"
      ]
     },
     "execution_count": 47,
     "metadata": {},
     "output_type": "execute_result"
    },
    {
     "data": {
      "image/png": "[encoded data removed]",
      "text/plain": [
       "<Figure size 1200x600 with 1 Axes>"
      ]
     },
     "metadata": {},
     "output_type": "display_data"
    }
   ],
   "source": [
    "df_trees.sort_values(by='Miss Rate')[['Acc', 'Miss Rate']].reset_index(drop=True).plot(grid=True)"
   ]
  },
  {
   "cell_type": "code",
   "execution_count": 48,
   "metadata": {
    "execution": {
     "iopub.execute_input": "2024-09-16T03:27:51.056636Z",
     "iopub.status.busy": "2024-09-16T03:27:51.056391Z",
     "iopub.status.idle": "2024-09-16T03:27:51.134838Z",
     "shell.execute_reply": "2024-09-16T03:27:51.134515Z",
     "shell.execute_reply.started": "2024-09-16T03:27:51.056625Z"
    }
   },
   "outputs": [
    {
     "data": {
      "text/plain": [
       "<Axes: >"
      ]
     },
     "execution_count": 48,
     "metadata": {},
     "output_type": "execute_result"
    },
    {
     "data": {
      "image/png": "[encoded data removed]",
      "text/plain": [
       "<Figure size 1200x600 with 1 Axes>"
      ]
     },
     "metadata": {},
     "output_type": "display_data"
    }
   ],
   "source": [
    "df_trees.sort_values(by='Acc')[['Acc', 'Miss Rate']].reset_index(drop=True).plot(grid=True)"
   ]
  },
  {
   "cell_type": "code",
   "execution_count": 49,
   "metadata": {
    "execution": {
     "iopub.execute_input": "2024-09-16T03:27:51.135443Z",
     "iopub.status.busy": "2024-09-16T03:27:51.135277Z",
     "iopub.status.idle": "2024-09-16T03:27:51.206642Z",
     "shell.execute_reply": "2024-09-16T03:27:51.206222Z",
     "shell.execute_reply.started": "2024-09-16T03:27:51.135432Z"
    }
   },
   "outputs": [
    {
     "data": {
      "text/plain": [
       "<Axes: >"
      ]
     },
     "execution_count": 49,
     "metadata": {},
     "output_type": "execute_result"
    },
    {
     "data": {
      "image/png": "[encoded data removed]",
      "text/plain": [
       "<Figure size 1200x600 with 1 Axes>"
      ]
     },
     "metadata": {},
     "output_type": "display_data"
    }
   ],
   "source": [
    "df_trees.sort_values(by='Miss Rate')[['Forest Size', 'Miss Rate']].reset_index(drop=True).plot(grid=True)"
   ]
  },
  {
   "cell_type": "code",
   "execution_count": 50,
   "metadata": {
    "execution": {
     "iopub.execute_input": "2024-09-16T03:27:51.208157Z",
     "iopub.status.busy": "2024-09-16T03:27:51.207901Z",
     "iopub.status.idle": "2024-09-16T03:27:51.294922Z",
     "shell.execute_reply": "2024-09-16T03:27:51.294509Z",
     "shell.execute_reply.started": "2024-09-16T03:27:51.208142Z"
    }
   },
   "outputs": [
    {
     "data": {
      "text/plain": [
       "<Axes: >"
      ]
     },
     "execution_count": 50,
     "metadata": {},
     "output_type": "execute_result"
    },
    {
     "data": {
      "image/png": "[encoded data removed]",
      "text/plain": [
       "<Figure size 1200x600 with 1 Axes>"
      ]
     },
     "metadata": {},
     "output_type": "display_data"
    }
   ],
   "source": [
    "df_trees.sort_values(by='Miss Rate')[['Feature Count', 'Miss Rate']].reset_index(drop=True).plot(grid=True)"
   ]
  },
  {
   "cell_type": "code",
   "execution_count": 51,
   "metadata": {
    "execution": {
     "iopub.execute_input": "2024-09-16T03:27:51.364282Z",
     "iopub.status.busy": "2024-09-16T03:27:51.364174Z",
     "iopub.status.idle": "2024-09-16T03:27:51.627178Z",
     "shell.execute_reply": "2024-09-16T03:27:51.625514Z",
     "shell.execute_reply.started": "2024-09-16T03:27:51.364272Z"
    }
   },
   "outputs": [],
   "source": [
    "!touch /work/yes.do"
   ]
  },
  {
   "cell_type": "markdown",
   "metadata": {},
   "source": [
    "# Tuning 3"
   ]
  },
  {
   "cell_type": "code",
   "execution_count": null,
   "metadata": {},
   "outputs": [],
   "source": []
  },
  {
   "cell_type": "code",
   "execution_count": 15,
   "metadata": {
    "execution": {
     "iopub.execute_input": "2024-09-16T12:41:25.878134Z",
     "iopub.status.busy": "2024-09-16T12:41:25.877995Z",
     "iopub.status.idle": "2024-09-16T12:41:25.881931Z",
     "shell.execute_reply": "2024-09-16T12:41:25.881295Z",
     "shell.execute_reply.started": "2024-09-16T12:41:25.878125Z"
    }
   },
   "outputs": [
    {
     "data": {
      "text/plain": [
       "RandomForestMC(len(Forest)=0,n_trees=256,model_version=1.2.0-dev,module_version=1.2.0-dev)"
      ]
     },
     "execution_count": 15,
     "metadata": {},
     "output_type": "execute_result"
    }
   ],
   "source": [
    "batch_train_pclass = split_schema['train']['1']\n",
    "batch_val_pclass = split_schema['val']['1']\n",
    "max_depth = None\n",
    "n_trees = 256\n",
    "max_discard_trees = 256\n",
    "min_feature = 6\n",
    "max_feature = 10\n",
    "\n",
    "cpu_cores = 8\n",
    "max_workers = 2*cpu_cores\n",
    "\n",
    "cls = RandomForestMC(\n",
    "    n_trees=n_trees, \n",
    "    target_col=target_col, \n",
    "    max_discard_trees=max_discard_trees,\n",
    "    batch_train_pclass=batch_train_pclass,\n",
    "    batch_val_pclass=batch_val_pclass,\n",
    "    min_feature=min_feature,\n",
    "    max_feature=max_feature,\n",
    "    max_depth=max_depth\n",
    ")\n",
    "cls"
   ]
  },
  {
   "cell_type": "code",
   "execution_count": 16,
   "metadata": {
    "execution": {
     "iopub.execute_input": "2024-09-16T12:41:27.676112Z",
     "iopub.status.busy": "2024-09-16T12:41:27.675530Z",
     "iopub.status.idle": "2024-09-16T12:41:27.682103Z",
     "shell.execute_reply": "2024-09-16T12:41:27.680895Z",
     "shell.execute_reply.started": "2024-09-16T12:41:27.676067Z"
    }
   },
   "outputs": [],
   "source": [
    "df_test = dfs['test']\n",
    "y_test = df_test[target_col].astype(int).to_list()\n",
    "ppy = lambda x: round(100*x, 6)"
   ]
  },
  {
   "cell_type": "code",
   "execution_count": 17,
   "metadata": {
    "execution": {
     "iopub.execute_input": "2024-09-16T12:41:44.490963Z",
     "iopub.status.busy": "2024-09-16T12:41:44.489677Z",
     "iopub.status.idle": "2024-09-16T14:16:45.205618Z",
     "shell.execute_reply": "2024-09-16T14:16:45.204995Z",
     "shell.execute_reply.started": "2024-09-16T12:41:44.490864Z"
    }
   },
   "outputs": [
    {
     "data": {
      "application/vnd.jupyter.widget-view+json": {
       "model_id": "8c3c92074db94cc4bcf5808da53acdf0",
       "version_major": 2,
       "version_minor": 0
      },
      "text/plain": [
       "Planting the forest:   0%|          | 0/256 [00:00<?, ?it/s]"
      ]
     },
     "metadata": {},
     "output_type": "display_data"
    }
   ],
   "source": [
    "cls.fitParallel(dataset=df_tofit, max_workers=max_workers)\n",
    "ModelDict = cls.model2dict()\n",
    "datetime_tag = datetime.now().strftime('%Y%m%d_%H%M')\n",
    "path_dict = f'{dataset_path}/model_trans_tuning3_{len(cls)}trees_{datetime_tag}.json'\n",
    "dump_file_json(path_dict, ModelDict)\n",
    "del ModelDict"
   ]
  },
  {
   "cell_type": "code",
   "execution_count": 18,
   "metadata": {
    "execution": {
     "iopub.execute_input": "2024-09-16T14:16:45.206419Z",
     "iopub.status.busy": "2024-09-16T14:16:45.206295Z",
     "iopub.status.idle": "2024-09-16T14:17:10.951751Z",
     "shell.execute_reply": "2024-09-16T14:17:10.951523Z",
     "shell.execute_reply.started": "2024-09-16T14:16:45.206406Z"
    }
   },
   "outputs": [
    {
     "name": "stdout",
     "output_type": "stream",
     "text": [
      "256 Trees\n"
     ]
    },
    {
     "data": {
      "text/html": [
       "<div>\n",
       "<style scoped>\n",
       "    .dataframe tbody tr th:only-of-type {\n",
       "        vertical-align: middle;\n",
       "    }\n",
       "\n",
       "    .dataframe tbody tr th {\n",
       "        vertical-align: top;\n",
       "    }\n",
       "\n",
       "    .dataframe thead th {\n",
       "        text-align: right;\n",
       "    }\n",
       "</style>\n",
       "<table border=\"1\" class=\"dataframe\">\n",
       "  <thead>\n",
       "    <tr style=\"text-align: right;\">\n",
       "      <th></th>\n",
       "      <th>Pred False</th>\n",
       "      <th>Pred True</th>\n",
       "    </tr>\n",
       "  </thead>\n",
       "  <tbody>\n",
       "    <tr>\n",
       "      <th>False</th>\n",
       "      <td>9100</td>\n",
       "      <td>900</td>\n",
       "    </tr>\n",
       "    <tr>\n",
       "      <th>True</th>\n",
       "      <td>55</td>\n",
       "      <td>45</td>\n",
       "    </tr>\n",
       "  </tbody>\n",
       "</table>\n",
       "</div>"
      ],
      "text/plain": [
       "       Pred False  Pred True\n",
       "False        9100        900\n",
       "True           55         45"
      ]
     },
     "metadata": {},
     "output_type": "display_data"
    },
    {
     "name": "stdout",
     "output_type": "stream",
     "text": [
      "Acc: 90.5446% \n",
      " F1: 8.6124% \n",
      " FN: 55.0000%\n",
      "Feat count stats: (7.83203125, 1.2243897455563066, 6, 10)\n"
     ]
    },
    {
     "data": {
      "text/plain": [
       "[(9, 108), (6, 60), (8, 51), (7, 35), (10, 2)]"
      ]
     },
     "execution_count": 18,
     "metadata": {},
     "output_type": "execute_result"
    }
   ],
   "source": [
    "cls.setSoftVoting()\n",
    "y_pred_soft = np.array(cls.testForest(df_test)).astype(int)\n",
    "accuracy_soft = accuracy_score(y_test, y_pred_soft)\n",
    "f1_score_soft = f1_score(y_test, y_pred_soft)\n",
    "\n",
    "print(f\"{len(cls)} Trees\")\n",
    "cm = confusion_matrix(y_test, y_pred_soft)\n",
    "display(pd.DataFrame(cm, columns=['Pred False','Pred True'], index=['False','True']))\n",
    "tn, fp, fn, tp = cm.ravel()\n",
    "obj_score = fn / (fn+tp)\n",
    "print(f\"Acc: {ppy(accuracy_soft):.4f}% \\n F1: {ppy(f1_score_soft):.4f}% \\n FN: {ppy(obj_score):.4f}%\")\n",
    "\n",
    "fc_stars, fc_list = cls.featCount()\n",
    "print(f\"Feat count stats: {fc_stars}\")\n",
    "Counter(fc_list).most_common()"
   ]
  },
  {
   "cell_type": "code",
   "execution_count": 19,
   "metadata": {
    "execution": {
     "iopub.execute_input": "2024-09-16T14:17:10.952248Z",
     "iopub.status.busy": "2024-09-16T14:17:10.952126Z",
     "iopub.status.idle": "2024-09-16T14:17:11.038039Z",
     "shell.execute_reply": "2024-09-16T14:17:11.037776Z",
     "shell.execute_reply.started": "2024-09-16T14:17:10.952240Z"
    }
   },
   "outputs": [
    {
     "data": {
      "text/plain": [
       "0"
      ]
     },
     "execution_count": 19,
     "metadata": {},
     "output_type": "execute_result"
    }
   ],
   "source": [
    "cls.drop_duplicated_trees()"
   ]
  },
  {
   "cell_type": "code",
   "execution_count": 20,
   "metadata": {
    "execution": {
     "iopub.execute_input": "2024-09-16T14:17:11.038806Z",
     "iopub.status.busy": "2024-09-16T14:17:11.038671Z",
     "iopub.status.idle": "2024-09-16T14:17:11.041107Z",
     "shell.execute_reply": "2024-09-16T14:17:11.040797Z",
     "shell.execute_reply.started": "2024-09-16T14:17:11.038797Z"
    }
   },
   "outputs": [
    {
     "data": {
      "text/plain": [
       "RandomForestMC(len(Forest)=256,n_trees=256,model_version=1.2.0-dev,module_version=1.2.0-dev)"
      ]
     },
     "execution_count": 20,
     "metadata": {},
     "output_type": "execute_result"
    }
   ],
   "source": [
    "cls"
   ]
  },
  {
   "cell_type": "code",
   "execution_count": 21,
   "metadata": {
    "execution": {
     "iopub.execute_input": "2024-09-16T14:17:11.041596Z",
     "iopub.status.busy": "2024-09-16T14:17:11.041479Z",
     "iopub.status.idle": "2024-09-16T14:50:57.651257Z",
     "shell.execute_reply": "2024-09-16T14:50:57.650987Z",
     "shell.execute_reply.started": "2024-09-16T14:17:11.041588Z"
    }
   },
   "outputs": [
    {
     "data": {
      "application/vnd.jupyter.widget-view+json": {
       "model_id": "4954e41276964000b94d7bb446e2b1d8",
       "version_major": 2,
       "version_minor": 0
      },
      "text/plain": [
       "  0%|          | 0/10000 [00:00<?, ?it/s]"
      ]
     },
     "metadata": {},
     "output_type": "display_data"
    }
   ],
   "source": [
    "cls_inc = RandomForestMC(target_col=target_col)\n",
    "cls_inc.process_dataset(df_tofit)\n",
    "cls_inc.setSoftVoting(True)\n",
    "df_frauds = df_test.query(f'{target_col} == \"1\"').reset_index(drop=True)\n",
    "df_notfrauds = df_test.query(f'{target_col} == \"0\"').sample(n=1000).reset_index(drop=True)\n",
    "df_mini_test = pd.concat([df_frauds, df_notfrauds], ignore_index=True)\n",
    "y_test = df_mini_test[target_col].astype(int).to_list()\n",
    "\n",
    "N_sim = 10000\n",
    "\n",
    "data = defaultdict(list)\n",
    "n_trees = [2, 4, 6]\n",
    "for _ in tqdm(range(N_sim)):\n",
    "    repated_forest = set()\n",
    "    for i in n_trees:\n",
    "        cls_inc.reset_forest()\n",
    "        cls_inc.mergeForest(cls, N=i, by=\"random\")\n",
    "        hd5_forest = \"\".join(sorted([Tree.md5hexdigest for Tree in cls_inc]))\n",
    "        if hd5_forest in repated_forest:\n",
    "            continue\n",
    "        repated_forest.add(hd5_forest)\n",
    "        y_pred_soft = np.array(cls_inc.testForest(df_mini_test)).astype(int)\n",
    "        acc = accuracy_score(y_test, y_pred_soft)\n",
    "        f1 = f1_score(y_test, y_pred_soft)\n",
    "        miss_rate = sum([not p for t, p in zip(y_test, y_pred_soft) if t]) / sum(y_test)\n",
    "        for Tree in cls_inc:\n",
    "            data[Tree.md5hexdigest].append((i, len(Tree.used_features), max(Tree.depths), acc, f1, miss_rate))"
   ]
  },
  {
   "cell_type": "code",
   "execution_count": 22,
   "metadata": {
    "execution": {
     "iopub.execute_input": "2024-09-16T14:50:57.651845Z",
     "iopub.status.busy": "2024-09-16T14:50:57.651634Z",
     "iopub.status.idle": "2024-09-16T14:50:58.080472Z",
     "shell.execute_reply": "2024-09-16T14:50:58.080134Z",
     "shell.execute_reply.started": "2024-09-16T14:50:57.651835Z"
    }
   },
   "outputs": [],
   "source": [
    "datetime_tag = datetime.now().strftime('%Y%m%d_%H%M')\n",
    "dump_file_json(f\"{dataset_path}/trees_trans_metrcis_sim2_{datetime_tag}.json\", data)"
   ]
  },
  {
   "cell_type": "code",
   "execution_count": 23,
   "metadata": {
    "execution": {
     "iopub.execute_input": "2024-09-16T14:50:58.081185Z",
     "iopub.status.busy": "2024-09-16T14:50:58.080993Z",
     "iopub.status.idle": "2024-09-16T14:50:58.084095Z",
     "shell.execute_reply": "2024-09-16T14:50:58.083674Z",
     "shell.execute_reply.started": "2024-09-16T14:50:58.081175Z"
    }
   },
   "outputs": [
    {
     "data": {
      "text/plain": [
       "256"
      ]
     },
     "execution_count": 23,
     "metadata": {},
     "output_type": "execute_result"
    }
   ],
   "source": [
    "len(data)"
   ]
  },
  {
   "cell_type": "markdown",
   "metadata": {},
   "source": [
    "### Analysing the results"
   ]
  },
  {
   "cell_type": "code",
   "execution_count": null,
   "metadata": {},
   "outputs": [],
   "source": [
    "!ls $dataset_path/trees_metrcis_sim2_*.json"
   ]
  },
  {
   "cell_type": "code",
   "execution_count": null,
   "metadata": {},
   "outputs": [],
   "source": [
    "data =  load_file_json('/work/tmp/credit-card-fraud-prediction/trees_metrcis_sim2_20240915_1804.json')"
   ]
  },
  {
   "cell_type": "code",
   "execution_count": 24,
   "metadata": {
    "execution": {
     "iopub.execute_input": "2024-09-16T14:50:58.084877Z",
     "iopub.status.busy": "2024-09-16T14:50:58.084700Z",
     "iopub.status.idle": "2024-09-16T14:50:58.093873Z",
     "shell.execute_reply": "2024-09-16T14:50:58.093587Z",
     "shell.execute_reply.started": "2024-09-16T14:50:58.084860Z"
    }
   },
   "outputs": [],
   "source": [
    "md5_trees = list(data.keys())"
   ]
  },
  {
   "cell_type": "code",
   "execution_count": 25,
   "metadata": {
    "execution": {
     "iopub.execute_input": "2024-09-16T14:50:58.094415Z",
     "iopub.status.busy": "2024-09-16T14:50:58.094289Z",
     "iopub.status.idle": "2024-09-16T14:50:58.410383Z",
     "shell.execute_reply": "2024-09-16T14:50:58.410115Z",
     "shell.execute_reply.started": "2024-09-16T14:50:58.094407Z"
    }
   },
   "outputs": [
    {
     "data": {
      "text/html": [
       "<div>\n",
       "<style scoped>\n",
       "    .dataframe tbody tr th:only-of-type {\n",
       "        vertical-align: middle;\n",
       "    }\n",
       "\n",
       "    .dataframe tbody tr th {\n",
       "        vertical-align: top;\n",
       "    }\n",
       "\n",
       "    .dataframe thead th {\n",
       "        text-align: right;\n",
       "    }\n",
       "</style>\n",
       "<table border=\"1\" class=\"dataframe\">\n",
       "  <thead>\n",
       "    <tr style=\"text-align: right;\">\n",
       "      <th></th>\n",
       "      <th>Forest Size</th>\n",
       "      <th>Feature Count</th>\n",
       "      <th>Max Depths</th>\n",
       "      <th>Acc</th>\n",
       "      <th>F1</th>\n",
       "      <th>Miss Rate</th>\n",
       "      <th>Tree</th>\n",
       "    </tr>\n",
       "  </thead>\n",
       "  <tbody>\n",
       "    <tr>\n",
       "      <th>0</th>\n",
       "      <td>6.000000</td>\n",
       "      <td>9.0</td>\n",
       "      <td>10.0</td>\n",
       "      <td>0.688182</td>\n",
       "      <td>0.255965</td>\n",
       "      <td>0.590000</td>\n",
       "      <td>b94da7fc9bd4bc8955b3781b1edcbb30</td>\n",
       "    </tr>\n",
       "    <tr>\n",
       "      <th>1</th>\n",
       "      <td>4.686992</td>\n",
       "      <td>9.0</td>\n",
       "      <td>10.0</td>\n",
       "      <td>0.567788</td>\n",
       "      <td>0.203454</td>\n",
       "      <td>0.400346</td>\n",
       "      <td>b94da7fc9bd4bc8955b3781b1edcbb30</td>\n",
       "    </tr>\n",
       "    <tr>\n",
       "      <th>2</th>\n",
       "      <td>6.000000</td>\n",
       "      <td>9.0</td>\n",
       "      <td>10.0</td>\n",
       "      <td>0.703636</td>\n",
       "      <td>0.274194</td>\n",
       "      <td>0.500000</td>\n",
       "      <td>0b13f1f8e9df834495b1e91f256f88bb</td>\n",
       "    </tr>\n",
       "    <tr>\n",
       "      <th>3</th>\n",
       "      <td>4.758030</td>\n",
       "      <td>9.0</td>\n",
       "      <td>10.0</td>\n",
       "      <td>0.594205</td>\n",
       "      <td>0.224640</td>\n",
       "      <td>0.359465</td>\n",
       "      <td>0b13f1f8e9df834495b1e91f256f88bb</td>\n",
       "    </tr>\n",
       "    <tr>\n",
       "      <th>4</th>\n",
       "      <td>6.000000</td>\n",
       "      <td>7.0</td>\n",
       "      <td>10.0</td>\n",
       "      <td>0.686364</td>\n",
       "      <td>0.273469</td>\n",
       "      <td>0.540000</td>\n",
       "      <td>31b47a43789d96425cabe2fab053953b</td>\n",
       "    </tr>\n",
       "    <tr>\n",
       "      <th>...</th>\n",
       "      <td>...</td>\n",
       "      <td>...</td>\n",
       "      <td>...</td>\n",
       "      <td>...</td>\n",
       "      <td>...</td>\n",
       "      <td>...</td>\n",
       "      <td>...</td>\n",
       "    </tr>\n",
       "    <tr>\n",
       "      <th>507</th>\n",
       "      <td>4.644880</td>\n",
       "      <td>9.0</td>\n",
       "      <td>10.0</td>\n",
       "      <td>0.574203</td>\n",
       "      <td>0.214828</td>\n",
       "      <td>0.366928</td>\n",
       "      <td>7bcd53b7a48f2fe4eb7934b94d42063f</td>\n",
       "    </tr>\n",
       "    <tr>\n",
       "      <th>508</th>\n",
       "      <td>6.000000</td>\n",
       "      <td>6.0</td>\n",
       "      <td>10.0</td>\n",
       "      <td>0.683636</td>\n",
       "      <td>0.275449</td>\n",
       "      <td>0.530000</td>\n",
       "      <td>d19a7ee958cca3699e8cd0ff2e6cd099</td>\n",
       "    </tr>\n",
       "    <tr>\n",
       "      <th>509</th>\n",
       "      <td>4.562900</td>\n",
       "      <td>6.0</td>\n",
       "      <td>10.0</td>\n",
       "      <td>0.575460</td>\n",
       "      <td>0.222298</td>\n",
       "      <td>0.339062</td>\n",
       "      <td>d19a7ee958cca3699e8cd0ff2e6cd099</td>\n",
       "    </tr>\n",
       "    <tr>\n",
       "      <th>510</th>\n",
       "      <td>6.000000</td>\n",
       "      <td>8.0</td>\n",
       "      <td>10.0</td>\n",
       "      <td>0.676364</td>\n",
       "      <td>0.257812</td>\n",
       "      <td>0.580000</td>\n",
       "      <td>654b251a5109acff8aa5c1491ced31bd</td>\n",
       "    </tr>\n",
       "    <tr>\n",
       "      <th>511</th>\n",
       "      <td>4.680180</td>\n",
       "      <td>8.0</td>\n",
       "      <td>10.0</td>\n",
       "      <td>0.571489</td>\n",
       "      <td>0.206218</td>\n",
       "      <td>0.394189</td>\n",
       "      <td>654b251a5109acff8aa5c1491ced31bd</td>\n",
       "    </tr>\n",
       "  </tbody>\n",
       "</table>\n",
       "<p>512 rows × 7 columns</p>\n",
       "</div>"
      ],
      "text/plain": [
       "     Forest Size  Feature Count  Max Depths       Acc        F1  Miss Rate  \\\n",
       "0       6.000000            9.0        10.0  0.688182  0.255965   0.590000   \n",
       "1       4.686992            9.0        10.0  0.567788  0.203454   0.400346   \n",
       "2       6.000000            9.0        10.0  0.703636  0.274194   0.500000   \n",
       "3       4.758030            9.0        10.0  0.594205  0.224640   0.359465   \n",
       "4       6.000000            7.0        10.0  0.686364  0.273469   0.540000   \n",
       "..           ...            ...         ...       ...       ...        ...   \n",
       "507     4.644880            9.0        10.0  0.574203  0.214828   0.366928   \n",
       "508     6.000000            6.0        10.0  0.683636  0.275449   0.530000   \n",
       "509     4.562900            6.0        10.0  0.575460  0.222298   0.339062   \n",
       "510     6.000000            8.0        10.0  0.676364  0.257812   0.580000   \n",
       "511     4.680180            8.0        10.0  0.571489  0.206218   0.394189   \n",
       "\n",
       "                                 Tree  \n",
       "0    b94da7fc9bd4bc8955b3781b1edcbb30  \n",
       "1    b94da7fc9bd4bc8955b3781b1edcbb30  \n",
       "2    0b13f1f8e9df834495b1e91f256f88bb  \n",
       "3    0b13f1f8e9df834495b1e91f256f88bb  \n",
       "4    31b47a43789d96425cabe2fab053953b  \n",
       "..                                ...  \n",
       "507  7bcd53b7a48f2fe4eb7934b94d42063f  \n",
       "508  d19a7ee958cca3699e8cd0ff2e6cd099  \n",
       "509  d19a7ee958cca3699e8cd0ff2e6cd099  \n",
       "510  654b251a5109acff8aa5c1491ced31bd  \n",
       "511  654b251a5109acff8aa5c1491ced31bd  \n",
       "\n",
       "[512 rows x 7 columns]"
      ]
     },
     "execution_count": 25,
     "metadata": {},
     "output_type": "execute_result"
    }
   ],
   "source": [
    "columns = ['Forest Size','Feature Count','Max Depths','Acc','F1','Miss Rate']\n",
    "list_trees = []\n",
    "for md5_tree, stats_tree in data.items():\n",
    "    df_stats = pd.DataFrame(data[md5_tree], columns=columns).max().to_frame().T\n",
    "    df_stats['Tree'] = md5_tree\n",
    "    list_trees.append(df_stats)\n",
    "    df_stats = pd.DataFrame(data[md5_tree], columns=columns).mean().to_frame().T\n",
    "    df_stats['Tree'] = md5_tree\n",
    "    list_trees.append(df_stats)\n",
    "\n",
    "df_trees = pd.concat(list_trees, ignore_index=True)\n",
    "df_trees"
   ]
  },
  {
   "cell_type": "code",
   "execution_count": 26,
   "metadata": {
    "execution": {
     "iopub.execute_input": "2024-09-16T14:50:58.411474Z",
     "iopub.status.busy": "2024-09-16T14:50:58.411335Z",
     "iopub.status.idle": "2024-09-16T14:50:58.417799Z",
     "shell.execute_reply": "2024-09-16T14:50:58.417413Z",
     "shell.execute_reply.started": "2024-09-16T14:50:58.411466Z"
    }
   },
   "outputs": [
    {
     "data": {
      "text/html": [
       "<div>\n",
       "<style scoped>\n",
       "    .dataframe tbody tr th:only-of-type {\n",
       "        vertical-align: middle;\n",
       "    }\n",
       "\n",
       "    .dataframe tbody tr th {\n",
       "        vertical-align: top;\n",
       "    }\n",
       "\n",
       "    .dataframe thead th {\n",
       "        text-align: right;\n",
       "    }\n",
       "</style>\n",
       "<table border=\"1\" class=\"dataframe\">\n",
       "  <thead>\n",
       "    <tr style=\"text-align: right;\">\n",
       "      <th></th>\n",
       "      <th>Forest Size</th>\n",
       "      <th>Feature Count</th>\n",
       "      <th>Max Depths</th>\n",
       "      <th>Acc</th>\n",
       "      <th>F1</th>\n",
       "      <th>Miss Rate</th>\n",
       "      <th>Tree</th>\n",
       "    </tr>\n",
       "  </thead>\n",
       "  <tbody>\n",
       "    <tr>\n",
       "      <th>52</th>\n",
       "      <td>6.0</td>\n",
       "      <td>6.0</td>\n",
       "      <td>10.0</td>\n",
       "      <td>0.709091</td>\n",
       "      <td>0.294949</td>\n",
       "      <td>0.54</td>\n",
       "      <td>4a9bbc93dbfdeb1a339055d495ed2635</td>\n",
       "    </tr>\n",
       "    <tr>\n",
       "      <th>490</th>\n",
       "      <td>6.0</td>\n",
       "      <td>6.0</td>\n",
       "      <td>11.0</td>\n",
       "      <td>0.693636</td>\n",
       "      <td>0.294949</td>\n",
       "      <td>0.56</td>\n",
       "      <td>8856f427ccebe9da8461bb3e5736ce3b</td>\n",
       "    </tr>\n",
       "    <tr>\n",
       "      <th>360</th>\n",
       "      <td>6.0</td>\n",
       "      <td>8.0</td>\n",
       "      <td>10.0</td>\n",
       "      <td>0.710909</td>\n",
       "      <td>0.294949</td>\n",
       "      <td>0.52</td>\n",
       "      <td>622de5582f1b48fa42f7039e39674393</td>\n",
       "    </tr>\n",
       "    <tr>\n",
       "      <th>138</th>\n",
       "      <td>6.0</td>\n",
       "      <td>9.0</td>\n",
       "      <td>10.0</td>\n",
       "      <td>0.710909</td>\n",
       "      <td>0.294949</td>\n",
       "      <td>0.51</td>\n",
       "      <td>47621e8e17e544dc40b6d883ca9030c3</td>\n",
       "    </tr>\n",
       "    <tr>\n",
       "      <th>400</th>\n",
       "      <td>6.0</td>\n",
       "      <td>8.0</td>\n",
       "      <td>10.0</td>\n",
       "      <td>0.709091</td>\n",
       "      <td>0.294949</td>\n",
       "      <td>0.51</td>\n",
       "      <td>3ecdbcc3deed665943f3b0f5d6351235</td>\n",
       "    </tr>\n",
       "    <tr>\n",
       "      <th>254</th>\n",
       "      <td>6.0</td>\n",
       "      <td>6.0</td>\n",
       "      <td>10.0</td>\n",
       "      <td>0.682727</td>\n",
       "      <td>0.294949</td>\n",
       "      <td>0.52</td>\n",
       "      <td>f9ff37bd55b4a881665afe766ca49756</td>\n",
       "    </tr>\n",
       "    <tr>\n",
       "      <th>12</th>\n",
       "      <td>6.0</td>\n",
       "      <td>6.0</td>\n",
       "      <td>10.0</td>\n",
       "      <td>0.704545</td>\n",
       "      <td>0.291939</td>\n",
       "      <td>0.53</td>\n",
       "      <td>db131474e1866929ab2d11293d61a508</td>\n",
       "    </tr>\n",
       "    <tr>\n",
       "      <th>58</th>\n",
       "      <td>6.0</td>\n",
       "      <td>9.0</td>\n",
       "      <td>10.0</td>\n",
       "      <td>0.704545</td>\n",
       "      <td>0.291939</td>\n",
       "      <td>0.51</td>\n",
       "      <td>f7e3a4e58e9c1f2e2d6d69a28a73d645</td>\n",
       "    </tr>\n",
       "    <tr>\n",
       "      <th>442</th>\n",
       "      <td>6.0</td>\n",
       "      <td>9.0</td>\n",
       "      <td>10.0</td>\n",
       "      <td>0.713636</td>\n",
       "      <td>0.291939</td>\n",
       "      <td>0.53</td>\n",
       "      <td>6c862987e269738c0788db6f77a1837c</td>\n",
       "    </tr>\n",
       "    <tr>\n",
       "      <th>278</th>\n",
       "      <td>6.0</td>\n",
       "      <td>9.0</td>\n",
       "      <td>10.0</td>\n",
       "      <td>0.707273</td>\n",
       "      <td>0.291939</td>\n",
       "      <td>0.53</td>\n",
       "      <td>126f4ad75f3e8aee40dcb39cbf050297</td>\n",
       "    </tr>\n",
       "  </tbody>\n",
       "</table>\n",
       "</div>"
      ],
      "text/plain": [
       "     Forest Size  Feature Count  Max Depths       Acc        F1  Miss Rate  \\\n",
       "52           6.0            6.0        10.0  0.709091  0.294949       0.54   \n",
       "490          6.0            6.0        11.0  0.693636  0.294949       0.56   \n",
       "360          6.0            8.0        10.0  0.710909  0.294949       0.52   \n",
       "138          6.0            9.0        10.0  0.710909  0.294949       0.51   \n",
       "400          6.0            8.0        10.0  0.709091  0.294949       0.51   \n",
       "254          6.0            6.0        10.0  0.682727  0.294949       0.52   \n",
       "12           6.0            6.0        10.0  0.704545  0.291939       0.53   \n",
       "58           6.0            9.0        10.0  0.704545  0.291939       0.51   \n",
       "442          6.0            9.0        10.0  0.713636  0.291939       0.53   \n",
       "278          6.0            9.0        10.0  0.707273  0.291939       0.53   \n",
       "\n",
       "                                 Tree  \n",
       "52   4a9bbc93dbfdeb1a339055d495ed2635  \n",
       "490  8856f427ccebe9da8461bb3e5736ce3b  \n",
       "360  622de5582f1b48fa42f7039e39674393  \n",
       "138  47621e8e17e544dc40b6d883ca9030c3  \n",
       "400  3ecdbcc3deed665943f3b0f5d6351235  \n",
       "254  f9ff37bd55b4a881665afe766ca49756  \n",
       "12   db131474e1866929ab2d11293d61a508  \n",
       "58   f7e3a4e58e9c1f2e2d6d69a28a73d645  \n",
       "442  6c862987e269738c0788db6f77a1837c  \n",
       "278  126f4ad75f3e8aee40dcb39cbf050297  "
      ]
     },
     "execution_count": 26,
     "metadata": {},
     "output_type": "execute_result"
    }
   ],
   "source": [
    "df_trees.sort_values(by='F1', ascending=False).head(10)"
   ]
  },
  {
   "cell_type": "code",
   "execution_count": 27,
   "metadata": {
    "execution": {
     "iopub.execute_input": "2024-09-16T14:50:58.418406Z",
     "iopub.status.busy": "2024-09-16T14:50:58.418262Z",
     "iopub.status.idle": "2024-09-16T14:50:58.431798Z",
     "shell.execute_reply": "2024-09-16T14:50:58.431451Z",
     "shell.execute_reply.started": "2024-09-16T14:50:58.418394Z"
    }
   },
   "outputs": [
    {
     "data": {
      "text/html": [
       "<div>\n",
       "<style scoped>\n",
       "    .dataframe tbody tr th:only-of-type {\n",
       "        vertical-align: middle;\n",
       "    }\n",
       "\n",
       "    .dataframe tbody tr th {\n",
       "        vertical-align: top;\n",
       "    }\n",
       "\n",
       "    .dataframe thead th {\n",
       "        text-align: right;\n",
       "    }\n",
       "</style>\n",
       "<table border=\"1\" class=\"dataframe\">\n",
       "  <thead>\n",
       "    <tr style=\"text-align: right;\">\n",
       "      <th></th>\n",
       "      <th>Forest Size</th>\n",
       "      <th>Feature Count</th>\n",
       "      <th>Max Depths</th>\n",
       "      <th>Acc</th>\n",
       "      <th>F1</th>\n",
       "      <th>Miss Rate</th>\n",
       "      <th>Tree</th>\n",
       "    </tr>\n",
       "  </thead>\n",
       "  <tbody>\n",
       "    <tr>\n",
       "      <th>475</th>\n",
       "      <td>4.646421</td>\n",
       "      <td>8.0</td>\n",
       "      <td>10.0</td>\n",
       "      <td>0.560878</td>\n",
       "      <td>0.222085</td>\n",
       "      <td>0.318416</td>\n",
       "      <td>bf35e8a78360e673fba787c9fefd0fcf</td>\n",
       "    </tr>\n",
       "    <tr>\n",
       "      <th>423</th>\n",
       "      <td>4.640860</td>\n",
       "      <td>9.0</td>\n",
       "      <td>10.0</td>\n",
       "      <td>0.553756</td>\n",
       "      <td>0.219293</td>\n",
       "      <td>0.318473</td>\n",
       "      <td>a795db13b3f43f1b3c2329ff5f9f2d0b</td>\n",
       "    </tr>\n",
       "    <tr>\n",
       "      <th>167</th>\n",
       "      <td>4.621145</td>\n",
       "      <td>9.0</td>\n",
       "      <td>10.0</td>\n",
       "      <td>0.582185</td>\n",
       "      <td>0.230125</td>\n",
       "      <td>0.318965</td>\n",
       "      <td>7506422619b8cb6b412a1d8080ea71f8</td>\n",
       "    </tr>\n",
       "    <tr>\n",
       "      <th>437</th>\n",
       "      <td>4.719647</td>\n",
       "      <td>9.0</td>\n",
       "      <td>10.0</td>\n",
       "      <td>0.570413</td>\n",
       "      <td>0.224735</td>\n",
       "      <td>0.321413</td>\n",
       "      <td>53bd79855a8fe591a23451d0d05c63b4</td>\n",
       "    </tr>\n",
       "    <tr>\n",
       "      <th>339</th>\n",
       "      <td>4.697211</td>\n",
       "      <td>8.0</td>\n",
       "      <td>10.0</td>\n",
       "      <td>0.562718</td>\n",
       "      <td>0.221412</td>\n",
       "      <td>0.323506</td>\n",
       "      <td>7c625fa615517b064f29f38cf2c7dcb7</td>\n",
       "    </tr>\n",
       "    <tr>\n",
       "      <th>243</th>\n",
       "      <td>4.627451</td>\n",
       "      <td>7.0</td>\n",
       "      <td>10.0</td>\n",
       "      <td>0.586063</td>\n",
       "      <td>0.230319</td>\n",
       "      <td>0.326144</td>\n",
       "      <td>7570d14f98e0b0339a970389d35cc158</td>\n",
       "    </tr>\n",
       "    <tr>\n",
       "      <th>487</th>\n",
       "      <td>4.664987</td>\n",
       "      <td>6.0</td>\n",
       "      <td>10.0</td>\n",
       "      <td>0.558111</td>\n",
       "      <td>0.217740</td>\n",
       "      <td>0.330453</td>\n",
       "      <td>966ceff7358ace7a4e996610a06be6e9</td>\n",
       "    </tr>\n",
       "    <tr>\n",
       "      <th>9</th>\n",
       "      <td>4.631579</td>\n",
       "      <td>6.0</td>\n",
       "      <td>10.0</td>\n",
       "      <td>0.566411</td>\n",
       "      <td>0.220401</td>\n",
       "      <td>0.332232</td>\n",
       "      <td>f4e06b11932e5d3911eb4b937c53b241</td>\n",
       "    </tr>\n",
       "    <tr>\n",
       "      <th>71</th>\n",
       "      <td>4.656716</td>\n",
       "      <td>6.0</td>\n",
       "      <td>10.0</td>\n",
       "      <td>0.549773</td>\n",
       "      <td>0.214138</td>\n",
       "      <td>0.332687</td>\n",
       "      <td>2b37e24e8201361162395455aab1a306</td>\n",
       "    </tr>\n",
       "    <tr>\n",
       "      <th>439</th>\n",
       "      <td>4.755467</td>\n",
       "      <td>9.0</td>\n",
       "      <td>10.0</td>\n",
       "      <td>0.581609</td>\n",
       "      <td>0.226771</td>\n",
       "      <td>0.333419</td>\n",
       "      <td>87b906da73e48de65ca863860f762269</td>\n",
       "    </tr>\n",
       "  </tbody>\n",
       "</table>\n",
       "</div>"
      ],
      "text/plain": [
       "     Forest Size  Feature Count  Max Depths       Acc        F1  Miss Rate  \\\n",
       "475     4.646421            8.0        10.0  0.560878  0.222085   0.318416   \n",
       "423     4.640860            9.0        10.0  0.553756  0.219293   0.318473   \n",
       "167     4.621145            9.0        10.0  0.582185  0.230125   0.318965   \n",
       "437     4.719647            9.0        10.0  0.570413  0.224735   0.321413   \n",
       "339     4.697211            8.0        10.0  0.562718  0.221412   0.323506   \n",
       "243     4.627451            7.0        10.0  0.586063  0.230319   0.326144   \n",
       "487     4.664987            6.0        10.0  0.558111  0.217740   0.330453   \n",
       "9       4.631579            6.0        10.0  0.566411  0.220401   0.332232   \n",
       "71      4.656716            6.0        10.0  0.549773  0.214138   0.332687   \n",
       "439     4.755467            9.0        10.0  0.581609  0.226771   0.333419   \n",
       "\n",
       "                                 Tree  \n",
       "475  bf35e8a78360e673fba787c9fefd0fcf  \n",
       "423  a795db13b3f43f1b3c2329ff5f9f2d0b  \n",
       "167  7506422619b8cb6b412a1d8080ea71f8  \n",
       "437  53bd79855a8fe591a23451d0d05c63b4  \n",
       "339  7c625fa615517b064f29f38cf2c7dcb7  \n",
       "243  7570d14f98e0b0339a970389d35cc158  \n",
       "487  966ceff7358ace7a4e996610a06be6e9  \n",
       "9    f4e06b11932e5d3911eb4b937c53b241  \n",
       "71   2b37e24e8201361162395455aab1a306  \n",
       "439  87b906da73e48de65ca863860f762269  "
      ]
     },
     "execution_count": 27,
     "metadata": {},
     "output_type": "execute_result"
    }
   ],
   "source": [
    "df_trees.sort_values(by='Miss Rate').head(10)"
   ]
  },
  {
   "cell_type": "code",
   "execution_count": 40,
   "metadata": {
    "execution": {
     "iopub.execute_input": "2024-09-16T16:22:38.515841Z",
     "iopub.status.busy": "2024-09-16T16:22:38.515181Z",
     "iopub.status.idle": "2024-09-16T16:22:38.518339Z",
     "shell.execute_reply": "2024-09-16T16:22:38.517977Z",
     "shell.execute_reply.started": "2024-09-16T16:22:38.515820Z"
    }
   },
   "outputs": [],
   "source": [
    "df_trees['My Score'] = 0.5*df_trees['Acc']-df_trees['Miss Rate']+df_trees['F1']"
   ]
  },
  {
   "cell_type": "code",
   "execution_count": 41,
   "metadata": {
    "execution": {
     "iopub.execute_input": "2024-09-16T16:22:38.884613Z",
     "iopub.status.busy": "2024-09-16T16:22:38.882823Z",
     "iopub.status.idle": "2024-09-16T16:22:38.895514Z",
     "shell.execute_reply": "2024-09-16T16:22:38.895036Z",
     "shell.execute_reply.started": "2024-09-16T16:22:38.884563Z"
    }
   },
   "outputs": [
    {
     "data": {
      "text/html": [
       "<div>\n",
       "<style scoped>\n",
       "    .dataframe tbody tr th:only-of-type {\n",
       "        vertical-align: middle;\n",
       "    }\n",
       "\n",
       "    .dataframe tbody tr th {\n",
       "        vertical-align: top;\n",
       "    }\n",
       "\n",
       "    .dataframe thead th {\n",
       "        text-align: right;\n",
       "    }\n",
       "</style>\n",
       "<table border=\"1\" class=\"dataframe\">\n",
       "  <thead>\n",
       "    <tr style=\"text-align: right;\">\n",
       "      <th></th>\n",
       "      <th>Forest Size</th>\n",
       "      <th>Feature Count</th>\n",
       "      <th>Max Depths</th>\n",
       "      <th>Acc</th>\n",
       "      <th>F1</th>\n",
       "      <th>Miss Rate</th>\n",
       "      <th>Tree</th>\n",
       "      <th>My Score</th>\n",
       "    </tr>\n",
       "  </thead>\n",
       "  <tbody>\n",
       "    <tr>\n",
       "      <th>167</th>\n",
       "      <td>4.621145</td>\n",
       "      <td>9.0</td>\n",
       "      <td>10.0</td>\n",
       "      <td>0.582185</td>\n",
       "      <td>0.230125</td>\n",
       "      <td>0.318965</td>\n",
       "      <td>7506422619b8cb6b412a1d8080ea71f8</td>\n",
       "      <td>0.202253</td>\n",
       "    </tr>\n",
       "    <tr>\n",
       "      <th>243</th>\n",
       "      <td>4.627451</td>\n",
       "      <td>7.0</td>\n",
       "      <td>10.0</td>\n",
       "      <td>0.586063</td>\n",
       "      <td>0.230319</td>\n",
       "      <td>0.326144</td>\n",
       "      <td>7570d14f98e0b0339a970389d35cc158</td>\n",
       "      <td>0.197206</td>\n",
       "    </tr>\n",
       "    <tr>\n",
       "      <th>437</th>\n",
       "      <td>4.719647</td>\n",
       "      <td>9.0</td>\n",
       "      <td>10.0</td>\n",
       "      <td>0.570413</td>\n",
       "      <td>0.224735</td>\n",
       "      <td>0.321413</td>\n",
       "      <td>53bd79855a8fe591a23451d0d05c63b4</td>\n",
       "      <td>0.188529</td>\n",
       "    </tr>\n",
       "    <tr>\n",
       "      <th>443</th>\n",
       "      <td>4.645418</td>\n",
       "      <td>9.0</td>\n",
       "      <td>10.0</td>\n",
       "      <td>0.607539</td>\n",
       "      <td>0.233180</td>\n",
       "      <td>0.348586</td>\n",
       "      <td>6c862987e269738c0788db6f77a1837c</td>\n",
       "      <td>0.188364</td>\n",
       "    </tr>\n",
       "    <tr>\n",
       "      <th>439</th>\n",
       "      <td>4.755467</td>\n",
       "      <td>9.0</td>\n",
       "      <td>10.0</td>\n",
       "      <td>0.581609</td>\n",
       "      <td>0.226771</td>\n",
       "      <td>0.333419</td>\n",
       "      <td>87b906da73e48de65ca863860f762269</td>\n",
       "      <td>0.184156</td>\n",
       "    </tr>\n",
       "    <tr>\n",
       "      <th>475</th>\n",
       "      <td>4.646421</td>\n",
       "      <td>8.0</td>\n",
       "      <td>10.0</td>\n",
       "      <td>0.560878</td>\n",
       "      <td>0.222085</td>\n",
       "      <td>0.318416</td>\n",
       "      <td>bf35e8a78360e673fba787c9fefd0fcf</td>\n",
       "      <td>0.184108</td>\n",
       "    </tr>\n",
       "    <tr>\n",
       "      <th>207</th>\n",
       "      <td>4.656250</td>\n",
       "      <td>6.0</td>\n",
       "      <td>10.0</td>\n",
       "      <td>0.583334</td>\n",
       "      <td>0.226161</td>\n",
       "      <td>0.335357</td>\n",
       "      <td>d3d11863520b6c727bb4300fe2bf4a0a</td>\n",
       "      <td>0.182471</td>\n",
       "    </tr>\n",
       "    <tr>\n",
       "      <th>259</th>\n",
       "      <td>4.837310</td>\n",
       "      <td>7.0</td>\n",
       "      <td>10.0</td>\n",
       "      <td>0.608347</td>\n",
       "      <td>0.231898</td>\n",
       "      <td>0.354707</td>\n",
       "      <td>d007f843d012c116ac6ed498ce038ef8</td>\n",
       "      <td>0.181365</td>\n",
       "    </tr>\n",
       "    <tr>\n",
       "      <th>401</th>\n",
       "      <td>4.604762</td>\n",
       "      <td>8.0</td>\n",
       "      <td>10.0</td>\n",
       "      <td>0.591045</td>\n",
       "      <td>0.228155</td>\n",
       "      <td>0.342333</td>\n",
       "      <td>3ecdbcc3deed665943f3b0f5d6351235</td>\n",
       "      <td>0.181344</td>\n",
       "    </tr>\n",
       "    <tr>\n",
       "      <th>461</th>\n",
       "      <td>4.539095</td>\n",
       "      <td>7.0</td>\n",
       "      <td>10.0</td>\n",
       "      <td>0.578648</td>\n",
       "      <td>0.225115</td>\n",
       "      <td>0.333663</td>\n",
       "      <td>89b06d20acba166395ab246462225793</td>\n",
       "      <td>0.180776</td>\n",
       "    </tr>\n",
       "  </tbody>\n",
       "</table>\n",
       "</div>"
      ],
      "text/plain": [
       "     Forest Size  Feature Count  Max Depths       Acc        F1  Miss Rate  \\\n",
       "167     4.621145            9.0        10.0  0.582185  0.230125   0.318965   \n",
       "243     4.627451            7.0        10.0  0.586063  0.230319   0.326144   \n",
       "437     4.719647            9.0        10.0  0.570413  0.224735   0.321413   \n",
       "443     4.645418            9.0        10.0  0.607539  0.233180   0.348586   \n",
       "439     4.755467            9.0        10.0  0.581609  0.226771   0.333419   \n",
       "475     4.646421            8.0        10.0  0.560878  0.222085   0.318416   \n",
       "207     4.656250            6.0        10.0  0.583334  0.226161   0.335357   \n",
       "259     4.837310            7.0        10.0  0.608347  0.231898   0.354707   \n",
       "401     4.604762            8.0        10.0  0.591045  0.228155   0.342333   \n",
       "461     4.539095            7.0        10.0  0.578648  0.225115   0.333663   \n",
       "\n",
       "                                 Tree  My Score  \n",
       "167  7506422619b8cb6b412a1d8080ea71f8  0.202253  \n",
       "243  7570d14f98e0b0339a970389d35cc158  0.197206  \n",
       "437  53bd79855a8fe591a23451d0d05c63b4  0.188529  \n",
       "443  6c862987e269738c0788db6f77a1837c  0.188364  \n",
       "439  87b906da73e48de65ca863860f762269  0.184156  \n",
       "475  bf35e8a78360e673fba787c9fefd0fcf  0.184108  \n",
       "207  d3d11863520b6c727bb4300fe2bf4a0a  0.182471  \n",
       "259  d007f843d012c116ac6ed498ce038ef8  0.181365  \n",
       "401  3ecdbcc3deed665943f3b0f5d6351235  0.181344  \n",
       "461  89b06d20acba166395ab246462225793  0.180776  "
      ]
     },
     "execution_count": 41,
     "metadata": {},
     "output_type": "execute_result"
    }
   ],
   "source": [
    "df_trees.sort_values(by='My Score', ascending=False).head(10)"
   ]
  },
  {
   "cell_type": "code",
   "execution_count": 60,
   "metadata": {
    "execution": {
     "iopub.execute_input": "2024-09-16T16:28:09.459035Z",
     "iopub.status.busy": "2024-09-16T16:28:09.458343Z",
     "iopub.status.idle": "2024-09-16T16:28:09.469321Z",
     "shell.execute_reply": "2024-09-16T16:28:09.468395Z",
     "shell.execute_reply.started": "2024-09-16T16:28:09.458989Z"
    }
   },
   "outputs": [],
   "source": [
    "golden_trees = df_trees.sort_values(by='My Score', ascending=False).head(6).Tree.to_list()"
   ]
  },
  {
   "cell_type": "code",
   "execution_count": 61,
   "metadata": {
    "execution": {
     "iopub.execute_input": "2024-09-16T16:28:10.429211Z",
     "iopub.status.busy": "2024-09-16T16:28:10.428674Z",
     "iopub.status.idle": "2024-09-16T16:28:10.530464Z",
     "shell.execute_reply": "2024-09-16T16:28:10.529952Z",
     "shell.execute_reply.started": "2024-09-16T16:28:10.429171Z"
    }
   },
   "outputs": [],
   "source": [
    "cls.data = [Tree for Tree in cls.data if Tree.md5hexdigest in golden_trees]"
   ]
  },
  {
   "cell_type": "code",
   "execution_count": 62,
   "metadata": {
    "execution": {
     "iopub.execute_input": "2024-09-16T16:28:10.806781Z",
     "iopub.status.busy": "2024-09-16T16:28:10.806266Z",
     "iopub.status.idle": "2024-09-16T16:28:10.815079Z",
     "shell.execute_reply": "2024-09-16T16:28:10.814151Z",
     "shell.execute_reply.started": "2024-09-16T16:28:10.806741Z"
    }
   },
   "outputs": [
    {
     "data": {
      "text/plain": [
       "RandomForestMC(len(Forest)=6,n_trees=256,model_version=1.2.0-dev,module_version=1.2.0-dev)"
      ]
     },
     "execution_count": 62,
     "metadata": {},
     "output_type": "execute_result"
    }
   ],
   "source": [
    "cls"
   ]
  },
  {
   "cell_type": "markdown",
   "metadata": {},
   "source": [
    "# Generate the submission file"
   ]
  },
  {
   "cell_type": "code",
   "execution_count": 64,
   "metadata": {
    "execution": {
     "iopub.execute_input": "2024-09-16T16:28:23.383163Z",
     "iopub.status.busy": "2024-09-16T16:28:23.382390Z",
     "iopub.status.idle": "2024-09-16T16:28:23.573864Z",
     "shell.execute_reply": "2024-09-16T16:28:23.573494Z",
     "shell.execute_reply.started": "2024-09-16T16:28:23.383107Z"
    }
   },
   "outputs": [
    {
     "data": {
      "text/html": [
       "<div>\n",
       "<style scoped>\n",
       "    .dataframe tbody tr th:only-of-type {\n",
       "        vertical-align: middle;\n",
       "    }\n",
       "\n",
       "    .dataframe tbody tr th {\n",
       "        vertical-align: top;\n",
       "    }\n",
       "\n",
       "    .dataframe thead th {\n",
       "        text-align: right;\n",
       "    }\n",
       "</style>\n",
       "<table border=\"1\" class=\"dataframe\">\n",
       "  <thead>\n",
       "    <tr style=\"text-align: right;\">\n",
       "      <th></th>\n",
       "      <th>id</th>\n",
       "      <th>feat1</th>\n",
       "      <th>feat2</th>\n",
       "      <th>feat3</th>\n",
       "      <th>feat4</th>\n",
       "      <th>feat5</th>\n",
       "      <th>feat6</th>\n",
       "      <th>feat7</th>\n",
       "      <th>feat8</th>\n",
       "      <th>feat9</th>\n",
       "      <th>...</th>\n",
       "      <th>feat20</th>\n",
       "      <th>feat21</th>\n",
       "      <th>feat22</th>\n",
       "      <th>feat23</th>\n",
       "      <th>feat24</th>\n",
       "      <th>feat25</th>\n",
       "      <th>feat26</th>\n",
       "      <th>feat27</th>\n",
       "      <th>feat28</th>\n",
       "      <th>Transaction_Amount</th>\n",
       "    </tr>\n",
       "  </thead>\n",
       "  <tbody>\n",
       "    <tr>\n",
       "      <th>0</th>\n",
       "      <td>150000</td>\n",
       "      <td>0.318355</td>\n",
       "      <td>0.321163</td>\n",
       "      <td>0.462163</td>\n",
       "      <td>0.756566</td>\n",
       "      <td>0.957549</td>\n",
       "      <td>0.668337</td>\n",
       "      <td>0.304175</td>\n",
       "      <td>0.191049</td>\n",
       "      <td>0.590411</td>\n",
       "      <td>...</td>\n",
       "      <td>0.806909</td>\n",
       "      <td>0.180823</td>\n",
       "      <td>0.700434</td>\n",
       "      <td>0.289070</td>\n",
       "      <td>0.800238</td>\n",
       "      <td>0.066284</td>\n",
       "      <td>0.751069</td>\n",
       "      <td>0.019574</td>\n",
       "      <td>0.020359</td>\n",
       "      <td>57</td>\n",
       "    </tr>\n",
       "    <tr>\n",
       "      <th>1</th>\n",
       "      <td>150001</td>\n",
       "      <td>0.157953</td>\n",
       "      <td>0.116052</td>\n",
       "      <td>0.442224</td>\n",
       "      <td>0.666073</td>\n",
       "      <td>0.854879</td>\n",
       "      <td>0.038326</td>\n",
       "      <td>0.790019</td>\n",
       "      <td>0.633170</td>\n",
       "      <td>0.608514</td>\n",
       "      <td>...</td>\n",
       "      <td>0.907089</td>\n",
       "      <td>0.774638</td>\n",
       "      <td>0.887381</td>\n",
       "      <td>0.275813</td>\n",
       "      <td>0.141341</td>\n",
       "      <td>0.152846</td>\n",
       "      <td>0.883049</td>\n",
       "      <td>0.963289</td>\n",
       "      <td>0.903018</td>\n",
       "      <td>51</td>\n",
       "    </tr>\n",
       "    <tr>\n",
       "      <th>2</th>\n",
       "      <td>150002</td>\n",
       "      <td>0.575795</td>\n",
       "      <td>0.365659</td>\n",
       "      <td>0.487609</td>\n",
       "      <td>0.125266</td>\n",
       "      <td>0.829039</td>\n",
       "      <td>0.255753</td>\n",
       "      <td>0.130055</td>\n",
       "      <td>0.024725</td>\n",
       "      <td>0.674943</td>\n",
       "      <td>...</td>\n",
       "      <td>0.915107</td>\n",
       "      <td>0.977730</td>\n",
       "      <td>0.986178</td>\n",
       "      <td>0.070841</td>\n",
       "      <td>0.231233</td>\n",
       "      <td>0.653077</td>\n",
       "      <td>0.571366</td>\n",
       "      <td>0.596056</td>\n",
       "      <td>0.721636</td>\n",
       "      <td>92</td>\n",
       "    </tr>\n",
       "    <tr>\n",
       "      <th>3</th>\n",
       "      <td>150003</td>\n",
       "      <td>0.733706</td>\n",
       "      <td>0.387797</td>\n",
       "      <td>0.233842</td>\n",
       "      <td>0.465443</td>\n",
       "      <td>0.857811</td>\n",
       "      <td>0.882159</td>\n",
       "      <td>0.029470</td>\n",
       "      <td>0.124882</td>\n",
       "      <td>0.819187</td>\n",
       "      <td>...</td>\n",
       "      <td>0.276938</td>\n",
       "      <td>0.376094</td>\n",
       "      <td>0.523755</td>\n",
       "      <td>0.588606</td>\n",
       "      <td>0.187639</td>\n",
       "      <td>0.812250</td>\n",
       "      <td>0.180992</td>\n",
       "      <td>0.763024</td>\n",
       "      <td>0.547735</td>\n",
       "      <td>32</td>\n",
       "    </tr>\n",
       "    <tr>\n",
       "      <th>4</th>\n",
       "      <td>150004</td>\n",
       "      <td>0.526584</td>\n",
       "      <td>0.364314</td>\n",
       "      <td>0.677058</td>\n",
       "      <td>0.142279</td>\n",
       "      <td>0.704843</td>\n",
       "      <td>0.753111</td>\n",
       "      <td>0.919480</td>\n",
       "      <td>0.045687</td>\n",
       "      <td>0.613396</td>\n",
       "      <td>...</td>\n",
       "      <td>0.318202</td>\n",
       "      <td>0.551307</td>\n",
       "      <td>0.578053</td>\n",
       "      <td>0.152166</td>\n",
       "      <td>0.463283</td>\n",
       "      <td>0.649355</td>\n",
       "      <td>0.333335</td>\n",
       "      <td>0.530985</td>\n",
       "      <td>0.717708</td>\n",
       "      <td>94</td>\n",
       "    </tr>\n",
       "    <tr>\n",
       "      <th>...</th>\n",
       "      <td>...</td>\n",
       "      <td>...</td>\n",
       "      <td>...</td>\n",
       "      <td>...</td>\n",
       "      <td>...</td>\n",
       "      <td>...</td>\n",
       "      <td>...</td>\n",
       "      <td>...</td>\n",
       "      <td>...</td>\n",
       "      <td>...</td>\n",
       "      <td>...</td>\n",
       "      <td>...</td>\n",
       "      <td>...</td>\n",
       "      <td>...</td>\n",
       "      <td>...</td>\n",
       "      <td>...</td>\n",
       "      <td>...</td>\n",
       "      <td>...</td>\n",
       "      <td>...</td>\n",
       "      <td>...</td>\n",
       "      <td>...</td>\n",
       "    </tr>\n",
       "    <tr>\n",
       "      <th>69124</th>\n",
       "      <td>219124</td>\n",
       "      <td>0.946700</td>\n",
       "      <td>0.482789</td>\n",
       "      <td>0.635031</td>\n",
       "      <td>0.117141</td>\n",
       "      <td>0.002670</td>\n",
       "      <td>0.053935</td>\n",
       "      <td>0.408696</td>\n",
       "      <td>0.979986</td>\n",
       "      <td>0.969050</td>\n",
       "      <td>...</td>\n",
       "      <td>0.205887</td>\n",
       "      <td>0.262923</td>\n",
       "      <td>0.256931</td>\n",
       "      <td>0.476562</td>\n",
       "      <td>0.914507</td>\n",
       "      <td>0.588197</td>\n",
       "      <td>0.448856</td>\n",
       "      <td>0.240624</td>\n",
       "      <td>0.180632</td>\n",
       "      <td>92</td>\n",
       "    </tr>\n",
       "    <tr>\n",
       "      <th>69125</th>\n",
       "      <td>219125</td>\n",
       "      <td>0.491267</td>\n",
       "      <td>0.128343</td>\n",
       "      <td>0.229411</td>\n",
       "      <td>0.754758</td>\n",
       "      <td>0.006749</td>\n",
       "      <td>0.014178</td>\n",
       "      <td>0.338803</td>\n",
       "      <td>0.976500</td>\n",
       "      <td>0.131362</td>\n",
       "      <td>...</td>\n",
       "      <td>0.338346</td>\n",
       "      <td>0.974590</td>\n",
       "      <td>0.997693</td>\n",
       "      <td>0.434614</td>\n",
       "      <td>0.366381</td>\n",
       "      <td>0.006764</td>\n",
       "      <td>0.835440</td>\n",
       "      <td>0.967308</td>\n",
       "      <td>0.989621</td>\n",
       "      <td>51</td>\n",
       "    </tr>\n",
       "    <tr>\n",
       "      <th>69126</th>\n",
       "      <td>219126</td>\n",
       "      <td>0.982213</td>\n",
       "      <td>0.679197</td>\n",
       "      <td>0.271293</td>\n",
       "      <td>0.445455</td>\n",
       "      <td>0.036369</td>\n",
       "      <td>0.664091</td>\n",
       "      <td>0.638989</td>\n",
       "      <td>0.641462</td>\n",
       "      <td>0.245448</td>\n",
       "      <td>...</td>\n",
       "      <td>0.060191</td>\n",
       "      <td>0.119682</td>\n",
       "      <td>0.057690</td>\n",
       "      <td>0.954319</td>\n",
       "      <td>0.422145</td>\n",
       "      <td>0.119597</td>\n",
       "      <td>0.720867</td>\n",
       "      <td>0.141393</td>\n",
       "      <td>0.181480</td>\n",
       "      <td>14</td>\n",
       "    </tr>\n",
       "    <tr>\n",
       "      <th>69127</th>\n",
       "      <td>219127</td>\n",
       "      <td>0.986848</td>\n",
       "      <td>0.645635</td>\n",
       "      <td>0.852133</td>\n",
       "      <td>0.025489</td>\n",
       "      <td>0.049657</td>\n",
       "      <td>0.004620</td>\n",
       "      <td>0.518634</td>\n",
       "      <td>0.795943</td>\n",
       "      <td>0.996771</td>\n",
       "      <td>...</td>\n",
       "      <td>0.212513</td>\n",
       "      <td>0.750730</td>\n",
       "      <td>0.857209</td>\n",
       "      <td>0.948622</td>\n",
       "      <td>0.888000</td>\n",
       "      <td>0.064845</td>\n",
       "      <td>0.495666</td>\n",
       "      <td>0.679714</td>\n",
       "      <td>0.227132</td>\n",
       "      <td>79</td>\n",
       "    </tr>\n",
       "    <tr>\n",
       "      <th>69128</th>\n",
       "      <td>219128</td>\n",
       "      <td>0.409283</td>\n",
       "      <td>0.213528</td>\n",
       "      <td>0.311644</td>\n",
       "      <td>0.871521</td>\n",
       "      <td>0.342254</td>\n",
       "      <td>0.084182</td>\n",
       "      <td>0.959829</td>\n",
       "      <td>0.940820</td>\n",
       "      <td>0.090211</td>\n",
       "      <td>...</td>\n",
       "      <td>0.647837</td>\n",
       "      <td>0.867612</td>\n",
       "      <td>0.965472</td>\n",
       "      <td>0.177978</td>\n",
       "      <td>0.561925</td>\n",
       "      <td>0.124089</td>\n",
       "      <td>0.590759</td>\n",
       "      <td>0.950648</td>\n",
       "      <td>0.977668</td>\n",
       "      <td>20</td>\n",
       "    </tr>\n",
       "  </tbody>\n",
       "</table>\n",
       "<p>69129 rows × 30 columns</p>\n",
       "</div>"
      ],
      "text/plain": [
       "           id     feat1     feat2     feat3     feat4     feat5     feat6  \\\n",
       "0      150000  0.318355  0.321163  0.462163  0.756566  0.957549  0.668337   \n",
       "1      150001  0.157953  0.116052  0.442224  0.666073  0.854879  0.038326   \n",
       "2      150002  0.575795  0.365659  0.487609  0.125266  0.829039  0.255753   \n",
       "3      150003  0.733706  0.387797  0.233842  0.465443  0.857811  0.882159   \n",
       "4      150004  0.526584  0.364314  0.677058  0.142279  0.704843  0.753111   \n",
       "...       ...       ...       ...       ...       ...       ...       ...   \n",
       "69124  219124  0.946700  0.482789  0.635031  0.117141  0.002670  0.053935   \n",
       "69125  219125  0.491267  0.128343  0.229411  0.754758  0.006749  0.014178   \n",
       "69126  219126  0.982213  0.679197  0.271293  0.445455  0.036369  0.664091   \n",
       "69127  219127  0.986848  0.645635  0.852133  0.025489  0.049657  0.004620   \n",
       "69128  219128  0.409283  0.213528  0.311644  0.871521  0.342254  0.084182   \n",
       "\n",
       "          feat7     feat8     feat9  ...    feat20    feat21    feat22  \\\n",
       "0      0.304175  0.191049  0.590411  ...  0.806909  0.180823  0.700434   \n",
       "1      0.790019  0.633170  0.608514  ...  0.907089  0.774638  0.887381   \n",
       "2      0.130055  0.024725  0.674943  ...  0.915107  0.977730  0.986178   \n",
       "3      0.029470  0.124882  0.819187  ...  0.276938  0.376094  0.523755   \n",
       "4      0.919480  0.045687  0.613396  ...  0.318202  0.551307  0.578053   \n",
       "...         ...       ...       ...  ...       ...       ...       ...   \n",
       "69124  0.408696  0.979986  0.969050  ...  0.205887  0.262923  0.256931   \n",
       "69125  0.338803  0.976500  0.131362  ...  0.338346  0.974590  0.997693   \n",
       "69126  0.638989  0.641462  0.245448  ...  0.060191  0.119682  0.057690   \n",
       "69127  0.518634  0.795943  0.996771  ...  0.212513  0.750730  0.857209   \n",
       "69128  0.959829  0.940820  0.090211  ...  0.647837  0.867612  0.965472   \n",
       "\n",
       "         feat23    feat24    feat25    feat26    feat27    feat28  \\\n",
       "0      0.289070  0.800238  0.066284  0.751069  0.019574  0.020359   \n",
       "1      0.275813  0.141341  0.152846  0.883049  0.963289  0.903018   \n",
       "2      0.070841  0.231233  0.653077  0.571366  0.596056  0.721636   \n",
       "3      0.588606  0.187639  0.812250  0.180992  0.763024  0.547735   \n",
       "4      0.152166  0.463283  0.649355  0.333335  0.530985  0.717708   \n",
       "...         ...       ...       ...       ...       ...       ...   \n",
       "69124  0.476562  0.914507  0.588197  0.448856  0.240624  0.180632   \n",
       "69125  0.434614  0.366381  0.006764  0.835440  0.967308  0.989621   \n",
       "69126  0.954319  0.422145  0.119597  0.720867  0.141393  0.181480   \n",
       "69127  0.948622  0.888000  0.064845  0.495666  0.679714  0.227132   \n",
       "69128  0.177978  0.561925  0.124089  0.590759  0.950648  0.977668   \n",
       "\n",
       "       Transaction_Amount  \n",
       "0                      57  \n",
       "1                      51  \n",
       "2                      92  \n",
       "3                      32  \n",
       "4                      94  \n",
       "...                   ...  \n",
       "69124                  92  \n",
       "69125                  51  \n",
       "69126                  14  \n",
       "69127                  79  \n",
       "69128                  20  \n",
       "\n",
       "[69129 rows x 30 columns]"
      ]
     },
     "execution_count": 64,
     "metadata": {},
     "output_type": "execute_result"
    }
   ],
   "source": [
    "df_test = pd.read_csv(f'{dataset_path}/test_trans.csv')\n",
    "df_test['Transaction_Amount'] = (df_test['Transaction_Amount'] * 100).astype(np.uint32)\n",
    "df_test"
   ]
  },
  {
   "cell_type": "code",
   "execution_count": 65,
   "metadata": {
    "execution": {
     "iopub.execute_input": "2024-09-16T16:28:28.365705Z",
     "iopub.status.busy": "2024-09-16T16:28:28.365203Z",
     "iopub.status.idle": "2024-09-16T16:28:28.371567Z",
     "shell.execute_reply": "2024-09-16T16:28:28.370996Z",
     "shell.execute_reply.started": "2024-09-16T16:28:28.365666Z"
    }
   },
   "outputs": [],
   "source": [
    "df_id = df_test['id'].to_frame()\n",
    "df_test = df_test.drop(columns=['id'])"
   ]
  },
  {
   "cell_type": "code",
   "execution_count": 66,
   "metadata": {
    "execution": {
     "iopub.execute_input": "2024-09-16T16:28:30.342079Z",
     "iopub.status.busy": "2024-09-16T16:28:30.341815Z",
     "iopub.status.idle": "2024-09-16T16:28:35.648167Z",
     "shell.execute_reply": "2024-09-16T16:28:35.647819Z",
     "shell.execute_reply.started": "2024-09-16T16:28:30.342071Z"
    }
   },
   "outputs": [],
   "source": [
    "cls.setSoftVoting()\n",
    "y_pred_soft = np.array(cls.testForest(df_test)).astype(int)"
   ]
  },
  {
   "cell_type": "code",
   "execution_count": null,
   "metadata": {},
   "outputs": [],
   "source": [
    "!head $dataset_path/sample_submission.csv"
   ]
  },
  {
   "cell_type": "code",
   "execution_count": 67,
   "metadata": {
    "execution": {
     "iopub.execute_input": "2024-09-16T16:28:37.242609Z",
     "iopub.status.busy": "2024-09-16T16:28:37.241974Z",
     "iopub.status.idle": "2024-09-16T16:28:37.258360Z",
     "shell.execute_reply": "2024-09-16T16:28:37.257688Z",
     "shell.execute_reply.started": "2024-09-16T16:28:37.242562Z"
    }
   },
   "outputs": [
    {
     "data": {
      "text/html": [
       "<div>\n",
       "<style scoped>\n",
       "    .dataframe tbody tr th:only-of-type {\n",
       "        vertical-align: middle;\n",
       "    }\n",
       "\n",
       "    .dataframe tbody tr th {\n",
       "        vertical-align: top;\n",
       "    }\n",
       "\n",
       "    .dataframe thead th {\n",
       "        text-align: right;\n",
       "    }\n",
       "</style>\n",
       "<table border=\"1\" class=\"dataframe\">\n",
       "  <thead>\n",
       "    <tr style=\"text-align: right;\">\n",
       "      <th></th>\n",
       "      <th>id</th>\n",
       "      <th>IsFraud</th>\n",
       "    </tr>\n",
       "  </thead>\n",
       "  <tbody>\n",
       "    <tr>\n",
       "      <th>0</th>\n",
       "      <td>150000</td>\n",
       "      <td>0</td>\n",
       "    </tr>\n",
       "    <tr>\n",
       "      <th>1</th>\n",
       "      <td>150001</td>\n",
       "      <td>1</td>\n",
       "    </tr>\n",
       "    <tr>\n",
       "      <th>2</th>\n",
       "      <td>150002</td>\n",
       "      <td>1</td>\n",
       "    </tr>\n",
       "    <tr>\n",
       "      <th>3</th>\n",
       "      <td>150003</td>\n",
       "      <td>0</td>\n",
       "    </tr>\n",
       "    <tr>\n",
       "      <th>4</th>\n",
       "      <td>150004</td>\n",
       "      <td>1</td>\n",
       "    </tr>\n",
       "    <tr>\n",
       "      <th>...</th>\n",
       "      <td>...</td>\n",
       "      <td>...</td>\n",
       "    </tr>\n",
       "    <tr>\n",
       "      <th>69124</th>\n",
       "      <td>219124</td>\n",
       "      <td>1</td>\n",
       "    </tr>\n",
       "    <tr>\n",
       "      <th>69125</th>\n",
       "      <td>219125</td>\n",
       "      <td>0</td>\n",
       "    </tr>\n",
       "    <tr>\n",
       "      <th>69126</th>\n",
       "      <td>219126</td>\n",
       "      <td>0</td>\n",
       "    </tr>\n",
       "    <tr>\n",
       "      <th>69127</th>\n",
       "      <td>219127</td>\n",
       "      <td>1</td>\n",
       "    </tr>\n",
       "    <tr>\n",
       "      <th>69128</th>\n",
       "      <td>219128</td>\n",
       "      <td>1</td>\n",
       "    </tr>\n",
       "  </tbody>\n",
       "</table>\n",
       "<p>69129 rows × 2 columns</p>\n",
       "</div>"
      ],
      "text/plain": [
       "           id  IsFraud\n",
       "0      150000        0\n",
       "1      150001        1\n",
       "2      150002        1\n",
       "3      150003        0\n",
       "4      150004        1\n",
       "...       ...      ...\n",
       "69124  219124        1\n",
       "69125  219125        0\n",
       "69126  219126        0\n",
       "69127  219127        1\n",
       "69128  219128        1\n",
       "\n",
       "[69129 rows x 2 columns]"
      ]
     },
     "execution_count": 67,
     "metadata": {},
     "output_type": "execute_result"
    }
   ],
   "source": [
    "df_id['IsFraud'] = y_pred_soft\n",
    "df_id"
   ]
  },
  {
   "cell_type": "code",
   "execution_count": 68,
   "metadata": {
    "execution": {
     "iopub.execute_input": "2024-09-16T16:28:40.134099Z",
     "iopub.status.busy": "2024-09-16T16:28:40.133541Z",
     "iopub.status.idle": "2024-09-16T16:28:40.166763Z",
     "shell.execute_reply": "2024-09-16T16:28:40.166139Z",
     "shell.execute_reply.started": "2024-09-16T16:28:40.134057Z"
    }
   },
   "outputs": [],
   "source": [
    "df_id.to_csv(f'{dataset_path}/submission_exp2_trans.csv', index=False)"
   ]
  },
  {
   "cell_type": "code",
   "execution_count": 69,
   "metadata": {
    "execution": {
     "iopub.execute_input": "2024-09-16T16:28:43.874855Z",
     "iopub.status.busy": "2024-09-16T16:28:43.874302Z",
     "iopub.status.idle": "2024-09-16T16:28:44.130191Z",
     "shell.execute_reply": "2024-09-16T16:28:44.127999Z",
     "shell.execute_reply.started": "2024-09-16T16:28:43.874815Z"
    }
   },
   "outputs": [
    {
     "name": "stdout",
     "output_type": "stream",
     "text": [
      "id,IsFraud\n",
      "150000,0\n",
      "150001,1\n",
      "150002,1\n",
      "150003,0\n",
      "150004,1\n",
      "150005,1\n",
      "150006,1\n",
      "150007,0\n",
      "150008,1\n"
     ]
    }
   ],
   "source": [
    "!head $dataset_path/submission_exp2_trans.csv"
   ]
  },
  {
   "cell_type": "markdown",
   "metadata": {},
   "source": [
    "# Kagle results"
   ]
  },
  {
   "cell_type": "markdown",
   "metadata": {
    "execution": {
     "iopub.execute_input": "2024-09-15T18:32:42.677358Z",
     "iopub.status.busy": "2024-09-15T18:32:42.677059Z",
     "iopub.status.idle": "2024-09-15T18:32:42.681390Z",
     "shell.execute_reply": "2024-09-15T18:32:42.680863Z",
     "shell.execute_reply.started": "2024-09-15T18:32:42.677337Z"
    }
   },
   "source": [
    "## Exp1:\n",
    "\n",
    "Private Score: `0.53218`  (1st: `0.80611`)  \n",
    "Public Score: `0.59206`  (1st: `0.83947`)  "
   ]
  },
  {
   "cell_type": "code",
   "execution_count": null,
   "metadata": {},
   "outputs": [],
   "source": []
  }
 ],
 "metadata": {
  "kernelspec": {
   "display_name": "Python 3 (ipykernel)",
   "language": "python",
   "name": "python3"
  },
  "language_info": {
   "codemirror_mode": {
    "name": "ipython",
    "version": 3
   },
   "file_extension": ".py",
   "mimetype": "text/x-python",
   "name": "python",
   "nbconvert_exporter": "python",
   "pygments_lexer": "ipython3",
   "version": "3.11.10"
  }
 },
 "nbformat": 4,
 "nbformat_minor": 4
}
