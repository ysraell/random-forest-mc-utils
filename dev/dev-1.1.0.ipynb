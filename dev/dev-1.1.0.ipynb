{
 "cells": [
  {
   "cell_type": "code",
   "execution_count": 1,
   "id": "452bf15d-7ae7-4816-975c-8e7a8901da2f",
   "metadata": {
    "execution": {
     "iopub.execute_input": "2023-09-03T14:02:06.843268Z",
     "iopub.status.busy": "2023-09-03T14:02:06.842012Z",
     "iopub.status.idle": "2023-09-03T14:02:40.364034Z",
     "shell.execute_reply": "2023-09-03T14:02:40.363411Z",
     "shell.execute_reply.started": "2023-09-03T14:02:06.843198Z"
    },
    "tags": []
   },
   "outputs": [
    {
     "name": "stdout",
     "output_type": "stream",
     "text": [
      "Processing /work/random-forest-mc\n",
      "  Installing build dependencies ... \u001b[?25ldone\n",
      "\u001b[?25h  Getting requirements to build wheel ... \u001b[?25ldone\n",
      "\u001b[?25h  Preparing metadata (pyproject.toml) ... \u001b[?25ldone\n",
      "\u001b[?25hRequirement already satisfied: numpy>=1.20 in /usr/local/lib/python3.10/site-packages (from random-forest-mc==1.0.3) (1.23.5)\n",
      "Requirement already satisfied: pandas>=1.3 in /usr/local/lib/python3.10/site-packages (from random-forest-mc==1.0.3) (1.5.3)\n",
      "Requirement already satisfied: tqdm>=4.60 in /usr/local/lib/python3.10/site-packages (from random-forest-mc==1.0.3) (4.64.1)\n",
      "Requirement already satisfied: python-dateutil>=2.8.1 in /usr/local/lib/python3.10/site-packages (from pandas>=1.3->random-forest-mc==1.0.3) (2.8.2)\n",
      "Requirement already satisfied: pytz>=2020.1 in /usr/local/lib/python3.10/site-packages (from pandas>=1.3->random-forest-mc==1.0.3) (2023.3)\n",
      "Requirement already satisfied: six>=1.5 in /usr/local/lib/python3.10/site-packages (from python-dateutil>=2.8.1->pandas>=1.3->random-forest-mc==1.0.3) (1.16.0)\n",
      "Building wheels for collected packages: random-forest-mc\n",
      "  Building wheel for random-forest-mc (pyproject.toml) ... \u001b[?25ldone\n",
      "\u001b[?25h  Created wheel for random-forest-mc: filename=random_forest_mc-1.0.3-py3-none-any.whl size=13683 sha256=ebae454773847f73f72a96da72377bafc8a330d52f9e4493de3dfc32b24fc53f\n",
      "  Stored in directory: /root/.cache/pip/wheels/eb/5f/19/4722d7f6bf0d13102d1af6ab98e4b53771da1ed44ce678108e\n",
      "Successfully built random-forest-mc\n",
      "Installing collected packages: random-forest-mc\n",
      "Successfully installed random-forest-mc-1.0.3\n",
      "\u001b[33mWARNING: Running pip as the 'root' user can result in broken permissions and conflicting behaviour with the system package manager. It is recommended to use a virtual environment instead: https://pip.pypa.io/warnings/venv\u001b[0m\u001b[33m\n",
      "\u001b[0m\n",
      "\u001b[1m[\u001b[0m\u001b[34;49mnotice\u001b[0m\u001b[1;39;49m]\u001b[0m\u001b[39;49m A new release of pip is available: \u001b[0m\u001b[31;49m23.1.2\u001b[0m\u001b[39;49m -> \u001b[0m\u001b[32;49m23.2.1\u001b[0m\n",
      "\u001b[1m[\u001b[0m\u001b[34;49mnotice\u001b[0m\u001b[1;39;49m]\u001b[0m\u001b[39;49m To update, run: \u001b[0m\u001b[32;49mpip install --upgrade pip\u001b[0m\n"
     ]
    }
   ],
   "source": [
    "!pip3 install ../../random-forest-mc/"
   ]
  },
  {
   "cell_type": "code",
   "execution_count": 97,
   "id": "53b0084f-16c9-4018-8c08-b6163de47358",
   "metadata": {
    "execution": {
     "iopub.execute_input": "2023-09-03T15:15:57.273760Z",
     "iopub.status.busy": "2023-09-03T15:15:57.272880Z",
     "iopub.status.idle": "2023-09-03T15:15:57.286714Z",
     "shell.execute_reply": "2023-09-03T15:15:57.284805Z",
     "shell.execute_reply.started": "2023-09-03T15:15:57.273677Z"
    },
    "tags": []
   },
   "outputs": [],
   "source": [
    "from random_forest_mc.model import RandomForestMC\n",
    "from random_forest_mc.utils import LoadDicts\n",
    "import pandas as pd\n",
    "import numpy as np\n",
    "\n",
    "from typing import Any\n",
    "from typing import Dict\n",
    "from typing import List\n",
    "from typing import Optional\n",
    "from typing import Tuple\n",
    "from typing import Union\n",
    "\n",
    "from numbers import Number\n",
    "import logging as log"
   ]
  },
  {
   "cell_type": "markdown",
   "id": "075843fc-f921-4821-9874-8d8907ebacaf",
   "metadata": {},
   "source": [
    "# Load dataset"
   ]
  },
  {
   "cell_type": "code",
   "execution_count": 84,
   "id": "7704f23a-99e4-49e9-a4b5-301daeba652c",
   "metadata": {
    "execution": {
     "iopub.execute_input": "2023-09-03T14:59:06.258269Z",
     "iopub.status.busy": "2023-09-03T14:59:06.257405Z",
     "iopub.status.idle": "2023-09-03T14:59:06.292769Z",
     "shell.execute_reply": "2023-09-03T14:59:06.291287Z",
     "shell.execute_reply.started": "2023-09-03T14:59:06.258187Z"
    },
    "tags": []
   },
   "outputs": [],
   "source": [
    "dicts = LoadDicts(\"../../random-forest-mc/tests/\")\n",
    "dataset_dict = dicts.datasets_metadata\n",
    "ds_name = \"titanic\"\n",
    "params = dataset_dict[ds_name]\n",
    "dataset = (\n",
    "    pd.read_csv(params[\"csv_path\"])[params[\"ds_cols\"] + [params[\"target_col\"]]]\n",
    "    .dropna()\n",
    "    .reset_index(drop=True)\n",
    ")\n",
    "dataset[\"Age\"] = dataset[\"Age\"].astype(np.uint8)\n",
    "dataset[\"SibSp\"] = dataset[\"SibSp\"].astype(np.uint8)\n",
    "dataset[\"Pclass\"] = dataset[\"Pclass\"].astype(str)\n",
    "dataset[\"Fare\"] = dataset[\"Fare\"].astype(np.uint32)\n",
    "ds_cols = params[\"ds_cols\"]\n",
    "target_col = params[\"target_col\"]"
   ]
  },
  {
   "cell_type": "markdown",
   "id": "5d9d403f-4878-4279-bd84-8a3911c63ff4",
   "metadata": {},
   "source": [
    "# Load current model"
   ]
  },
  {
   "cell_type": "code",
   "execution_count": 24,
   "id": "365b7f5f-bf38-4810-a927-079335c6ec91",
   "metadata": {
    "execution": {
     "iopub.execute_input": "2023-09-03T14:22:51.058673Z",
     "iopub.status.busy": "2023-09-03T14:22:51.058427Z",
     "iopub.status.idle": "2023-09-03T14:22:51.071236Z",
     "shell.execute_reply": "2023-09-03T14:22:51.070478Z",
     "shell.execute_reply.started": "2023-09-03T14:22:51.058655Z"
    },
    "tags": []
   },
   "outputs": [],
   "source": [
    "cls = RandomForestMC(target_col=target_col)\n",
    "cls.fit(dataset)\n",
    "row = dataset.reset_index(drop=True).loc[0]\n",
    "predict_row = cls.predict(row)\n",
    "predict_ds = cls.predict(dataset.sample(n=10))\n",
    "predict_probs_ds = cls.predict_proba(dataset.sample(n=10))"
   ]
  },
  {
   "cell_type": "code",
   "execution_count": 25,
   "id": "7fdb38c6-f146-4b09-acee-c6427b326414",
   "metadata": {
    "execution": {
     "iopub.execute_input": "2023-09-03T14:22:51.072262Z",
     "iopub.status.busy": "2023-09-03T14:22:51.072021Z",
     "iopub.status.idle": "2023-09-03T14:22:51.109721Z",
     "shell.execute_reply": "2023-09-03T14:22:51.109070Z",
     "shell.execute_reply.started": "2023-09-03T14:22:51.072244Z"
    },
    "tags": []
   },
   "outputs": [
    {
     "data": {
      "text/plain": [
       "['0', '0', '1', '0', '0', '0', '0', '0', '0', '1']"
      ]
     },
     "execution_count": 25,
     "metadata": {},
     "output_type": "execute_result"
    }
   ],
   "source": [
    "predict_ds"
   ]
  },
  {
   "cell_type": "code",
   "execution_count": 26,
   "id": "f3d7dccc-d48a-45e0-be39-33279396c8c8",
   "metadata": {
    "execution": {
     "iopub.execute_input": "2023-09-03T14:22:51.111143Z",
     "iopub.status.busy": "2023-09-03T14:22:51.110933Z",
     "iopub.status.idle": "2023-09-03T14:22:51.119983Z",
     "shell.execute_reply": "2023-09-03T14:22:51.119258Z",
     "shell.execute_reply.started": "2023-09-03T14:22:51.111125Z"
    },
    "tags": []
   },
   "outputs": [
    {
     "data": {
      "text/plain": [
       "RandomForestMC(len(Forest)=16,n_trees=16,model_version=1.0.4-dev,module_version=1.0.4-dev)"
      ]
     },
     "execution_count": 26,
     "metadata": {},
     "output_type": "execute_result"
    }
   ],
   "source": [
    "cls"
   ]
  },
  {
   "cell_type": "markdown",
   "id": "d65f7fb8-137a-4e64-a255-dab7257467d0",
   "metadata": {},
   "source": [
    "# Generate some missing data"
   ]
  },
  {
   "cell_type": "code",
   "execution_count": 79,
   "id": "63e2a046-01d2-4480-9ba2-b63731b98781",
   "metadata": {
    "execution": {
     "iopub.execute_input": "2023-09-03T14:57:31.544868Z",
     "iopub.status.busy": "2023-09-03T14:57:31.543389Z",
     "iopub.status.idle": "2023-09-03T14:57:31.572575Z",
     "shell.execute_reply": "2023-09-03T14:57:31.571128Z",
     "shell.execute_reply.started": "2023-09-03T14:57:31.544809Z"
    },
    "tags": []
   },
   "outputs": [],
   "source": [
    "df_tmp = dataset.sample(frac=0.2).reset_index(drop=True)\n",
    "mask_random = np.random.choice([True, False], size=df_tmp[ds_cols].shape, p=[0.7, 0.3])\n",
    "dataset_missing_values = df_tmp[ds_cols].mask(~mask_random)\n",
    "dataset_missing_values[target_col] = df_tmp[target_col]\n",
    "dataset_missing_values_ground_truth = df_tmp"
   ]
  },
  {
   "cell_type": "code",
   "execution_count": 80,
   "id": "a79d21ba-b270-42f2-b8b4-568c6e74bc74",
   "metadata": {
    "execution": {
     "iopub.execute_input": "2023-09-03T14:57:35.328513Z",
     "iopub.status.busy": "2023-09-03T14:57:35.327637Z",
     "iopub.status.idle": "2023-09-03T14:57:35.366627Z",
     "shell.execute_reply": "2023-09-03T14:57:35.365910Z",
     "shell.execute_reply.started": "2023-09-03T14:57:35.328435Z"
    },
    "tags": []
   },
   "outputs": [
    {
     "data": {
      "text/html": [
       "<div>\n",
       "<style scoped>\n",
       "    .dataframe tbody tr th:only-of-type {\n",
       "        vertical-align: middle;\n",
       "    }\n",
       "\n",
       "    .dataframe tbody tr th {\n",
       "        vertical-align: top;\n",
       "    }\n",
       "\n",
       "    .dataframe thead th {\n",
       "        text-align: right;\n",
       "    }\n",
       "</style>\n",
       "<table border=\"1\" class=\"dataframe\">\n",
       "  <thead>\n",
       "    <tr style=\"text-align: right;\">\n",
       "      <th></th>\n",
       "      <th>Pclass</th>\n",
       "      <th>Sex</th>\n",
       "      <th>Age</th>\n",
       "      <th>SibSp</th>\n",
       "      <th>Fare</th>\n",
       "      <th>Embarked</th>\n",
       "      <th>Survived</th>\n",
       "    </tr>\n",
       "  </thead>\n",
       "  <tbody>\n",
       "    <tr>\n",
       "      <th>0</th>\n",
       "      <td>3</td>\n",
       "      <td>male</td>\n",
       "      <td>17.0</td>\n",
       "      <td>NaN</td>\n",
       "      <td>8.0</td>\n",
       "      <td>NaN</td>\n",
       "      <td>0</td>\n",
       "    </tr>\n",
       "    <tr>\n",
       "      <th>1</th>\n",
       "      <td>1</td>\n",
       "      <td>female</td>\n",
       "      <td>NaN</td>\n",
       "      <td>0.0</td>\n",
       "      <td>134.0</td>\n",
       "      <td>C</td>\n",
       "      <td>1</td>\n",
       "    </tr>\n",
       "    <tr>\n",
       "      <th>2</th>\n",
       "      <td>2</td>\n",
       "      <td>NaN</td>\n",
       "      <td>32.0</td>\n",
       "      <td>NaN</td>\n",
       "      <td>13.0</td>\n",
       "      <td>NaN</td>\n",
       "      <td>1</td>\n",
       "    </tr>\n",
       "    <tr>\n",
       "      <th>3</th>\n",
       "      <td>3</td>\n",
       "      <td>NaN</td>\n",
       "      <td>21.0</td>\n",
       "      <td>0.0</td>\n",
       "      <td>NaN</td>\n",
       "      <td>NaN</td>\n",
       "      <td>0</td>\n",
       "    </tr>\n",
       "    <tr>\n",
       "      <th>4</th>\n",
       "      <td>2</td>\n",
       "      <td>male</td>\n",
       "      <td>59.0</td>\n",
       "      <td>NaN</td>\n",
       "      <td>13.0</td>\n",
       "      <td>NaN</td>\n",
       "      <td>0</td>\n",
       "    </tr>\n",
       "    <tr>\n",
       "      <th>...</th>\n",
       "      <td>...</td>\n",
       "      <td>...</td>\n",
       "      <td>...</td>\n",
       "      <td>...</td>\n",
       "      <td>...</td>\n",
       "      <td>...</td>\n",
       "      <td>...</td>\n",
       "    </tr>\n",
       "    <tr>\n",
       "      <th>137</th>\n",
       "      <td>NaN</td>\n",
       "      <td>male</td>\n",
       "      <td>NaN</td>\n",
       "      <td>0.0</td>\n",
       "      <td>7.0</td>\n",
       "      <td>S</td>\n",
       "      <td>0</td>\n",
       "    </tr>\n",
       "    <tr>\n",
       "      <th>138</th>\n",
       "      <td>1</td>\n",
       "      <td>NaN</td>\n",
       "      <td>62.0</td>\n",
       "      <td>0.0</td>\n",
       "      <td>NaN</td>\n",
       "      <td>NaN</td>\n",
       "      <td>0</td>\n",
       "    </tr>\n",
       "    <tr>\n",
       "      <th>139</th>\n",
       "      <td>1</td>\n",
       "      <td>male</td>\n",
       "      <td>65.0</td>\n",
       "      <td>NaN</td>\n",
       "      <td>26.0</td>\n",
       "      <td>S</td>\n",
       "      <td>0</td>\n",
       "    </tr>\n",
       "    <tr>\n",
       "      <th>140</th>\n",
       "      <td>NaN</td>\n",
       "      <td>NaN</td>\n",
       "      <td>16.0</td>\n",
       "      <td>0.0</td>\n",
       "      <td>NaN</td>\n",
       "      <td>NaN</td>\n",
       "      <td>0</td>\n",
       "    </tr>\n",
       "    <tr>\n",
       "      <th>141</th>\n",
       "      <td>3</td>\n",
       "      <td>female</td>\n",
       "      <td>NaN</td>\n",
       "      <td>1.0</td>\n",
       "      <td>NaN</td>\n",
       "      <td>NaN</td>\n",
       "      <td>1</td>\n",
       "    </tr>\n",
       "  </tbody>\n",
       "</table>\n",
       "<p>142 rows × 7 columns</p>\n",
       "</div>"
      ],
      "text/plain": [
       "    Pclass     Sex   Age  SibSp   Fare Embarked Survived\n",
       "0        3    male  17.0    NaN    8.0      NaN        0\n",
       "1        1  female   NaN    0.0  134.0        C        1\n",
       "2        2     NaN  32.0    NaN   13.0      NaN        1\n",
       "3        3     NaN  21.0    0.0    NaN      NaN        0\n",
       "4        2    male  59.0    NaN   13.0      NaN        0\n",
       "..     ...     ...   ...    ...    ...      ...      ...\n",
       "137    NaN    male   NaN    0.0    7.0        S        0\n",
       "138      1     NaN  62.0    0.0    NaN      NaN        0\n",
       "139      1    male  65.0    NaN   26.0        S        0\n",
       "140    NaN     NaN  16.0    0.0    NaN      NaN        0\n",
       "141      3  female   NaN    1.0    NaN      NaN        1\n",
       "\n",
       "[142 rows x 7 columns]"
      ]
     },
     "execution_count": 80,
     "metadata": {},
     "output_type": "execute_result"
    }
   ],
   "source": [
    "dataset_missing_values"
   ]
  },
  {
   "cell_type": "code",
   "execution_count": 90,
   "id": "4a3f0e70-d03a-4c06-a2a7-04f096919a16",
   "metadata": {
    "execution": {
     "iopub.execute_input": "2023-09-03T15:01:24.847864Z",
     "iopub.status.busy": "2023-09-03T15:01:24.847252Z",
     "iopub.status.idle": "2023-09-03T15:01:24.855859Z",
     "shell.execute_reply": "2023-09-03T15:01:24.854439Z",
     "shell.execute_reply.started": "2023-09-03T15:01:24.847807Z"
    },
    "tags": []
   },
   "outputs": [],
   "source": [
    "dict_values = {col: dataset[col].unique().tolist() for col in ds_cols}"
   ]
  },
  {
   "cell_type": "code",
   "execution_count": 91,
   "id": "baf26f8b-ab57-42a4-a610-1810bbe4d497",
   "metadata": {
    "execution": {
     "iopub.execute_input": "2023-09-03T15:01:30.564029Z",
     "iopub.status.busy": "2023-09-03T15:01:30.563163Z",
     "iopub.status.idle": "2023-09-03T15:01:30.573126Z",
     "shell.execute_reply": "2023-09-03T15:01:30.571447Z",
     "shell.execute_reply.started": "2023-09-03T15:01:30.563986Z"
    },
    "tags": []
   },
   "outputs": [
    {
     "data": {
      "text/plain": [
       "dict_keys(['Pclass', 'Sex', 'Age', 'SibSp', 'Fare', 'Embarked'])"
      ]
     },
     "execution_count": 91,
     "metadata": {},
     "output_type": "execute_result"
    }
   ],
   "source": [
    "dict_values.keys()"
   ]
  },
  {
   "cell_type": "markdown",
   "id": "9bdb0bb3-d05d-4137-993b-1a3a374adc31",
   "metadata": {},
   "source": [
    "# Load the new extention"
   ]
  },
  {
   "cell_type": "code",
   "execution_count": 104,
   "id": "9fdc1101-5fde-428d-8d3a-aeb588179dcd",
   "metadata": {
    "execution": {
     "iopub.execute_input": "2023-09-03T15:21:05.622649Z",
     "iopub.status.busy": "2023-09-03T15:21:05.620274Z",
     "iopub.status.idle": "2023-09-03T15:21:05.636358Z",
     "shell.execute_reply": "2023-09-03T15:21:05.634374Z",
     "shell.execute_reply.started": "2023-09-03T15:21:05.622512Z"
    },
    "tags": []
   },
   "outputs": [],
   "source": [
    "# a row of pd.DataFrame.iterrows()\n",
    "# dsRow: TypeAlias = pd.core.series.Series\n",
    "dsRow = pd.core.series.Series\n",
    "\n",
    "# A tree composed by a assimetric tree of dictionaries:\n",
    "# TypeTree: TypeAlias = Dict\n",
    "TypeTree = Dict\n",
    "\n",
    "# Value type of classes\n",
    "# TypeClassVal: TypeAlias = Any\n",
    "TypeClassVal = Any  # !Review if is not forced to be str!\n",
    "\n",
    "# Type of the leaf\n",
    "# TypeLeaf: TypeAlias = Dict[TypeClassVal, float]\n",
    "TypeLeaf = Dict[TypeClassVal, float]"
   ]
  },
  {
   "cell_type": "code",
   "execution_count": 111,
   "id": "6119ee73-4e2c-494d-a468-51717e0f46b1",
   "metadata": {
    "execution": {
     "iopub.execute_input": "2023-09-03T15:23:21.168494Z",
     "iopub.status.busy": "2023-09-03T15:23:21.167858Z",
     "iopub.status.idle": "2023-09-03T15:23:21.177866Z",
     "shell.execute_reply": "2023-09-03T15:23:21.176801Z",
     "shell.execute_reply.started": "2023-09-03T15:23:21.168452Z"
    },
    "tags": []
   },
   "outputs": [],
   "source": [
    "# How to format a dict with values to fill the missing ones\n",
    "featName = str\n",
    "featValue = Union[str, Number]\n",
    "dictValues = Dict[featName, featValue]\n",
    "\n",
    "\n",
    "class RandomForestMC_Ext(RandomForestMC):\n",
    "    @staticmethod\n",
    "    def _fill_row_missing(row: dsRow, dict_values : dictValues) -> pd.DataFrame:\n",
    "        pass\n",
    "        \n",
    "        \n",
    "    def predictMissingValues(self, row_or_matrix: Union[dsRow, pd.DataFrame], dict_values : dictValues, use_all_Tress: bool = True):\n",
    "        used_features = set()\n",
    "        for Tree in self:\n",
    "            used_features |= set(Tree.used_features)\n",
    "        not_have_feats = set(dict_values.keys()) - used_features\n",
    "        if not_have_feats:\n",
    "            _tmp = \", \".join(not_have_feats)\n",
    "            log.warning(f'The Forest model have not the following feature(s): [{_tmp}].')\n",
    "        \n",
    "        if isinstance(row_or_matrix, dsRow):\n",
    "            pass\n",
    "        if isinstance(row_or_matrix, pd.DataFrame):\n",
    "            pass"
   ]
  },
  {
   "cell_type": "code",
   "execution_count": 112,
   "id": "11eeb061-a0b4-4285-8df0-47b2465d6a2a",
   "metadata": {
    "execution": {
     "iopub.execute_input": "2023-09-03T15:23:22.383163Z",
     "iopub.status.busy": "2023-09-03T15:23:22.382299Z",
     "iopub.status.idle": "2023-09-03T15:23:29.143870Z",
     "shell.execute_reply": "2023-09-03T15:23:29.143324Z",
     "shell.execute_reply.started": "2023-09-03T15:23:22.383083Z"
    },
    "tags": []
   },
   "outputs": [
    {
     "name": "stderr",
     "output_type": "stream",
     "text": [
      "Planting the forest: 100%|██████████| 16/16 [00:06<00:00,  2.37it/s]\n"
     ]
    }
   ],
   "source": [
    "cls_ext = RandomForestMC_Ext(target_col=params[\"target_col\"])\n",
    "cls_ext.fit(dataset)"
   ]
  },
  {
   "cell_type": "code",
   "execution_count": 113,
   "id": "2f854481-5ba1-4936-8df5-d6f45e81ecbd",
   "metadata": {
    "execution": {
     "iopub.execute_input": "2023-09-03T15:23:29.145541Z",
     "iopub.status.busy": "2023-09-03T15:23:29.145057Z",
     "iopub.status.idle": "2023-09-03T15:23:29.150144Z",
     "shell.execute_reply": "2023-09-03T15:23:29.149334Z",
     "shell.execute_reply.started": "2023-09-03T15:23:29.145517Z"
    },
    "tags": []
   },
   "outputs": [
    {
     "data": {
      "text/plain": [
       "RandomForestMC_Ext(len(Forest)=16,n_trees=16,model_version=1.0.4-dev,module_version=1.0.4-dev)"
      ]
     },
     "execution_count": 113,
     "metadata": {},
     "output_type": "execute_result"
    }
   ],
   "source": [
    "cls_ext"
   ]
  },
  {
   "cell_type": "code",
   "execution_count": 114,
   "id": "c94ce0ef-7adc-4a90-a57c-a2a5bd374ae4",
   "metadata": {
    "execution": {
     "iopub.execute_input": "2023-09-03T15:23:29.151968Z",
     "iopub.status.busy": "2023-09-03T15:23:29.151333Z",
     "iopub.status.idle": "2023-09-03T15:23:29.169647Z",
     "shell.execute_reply": "2023-09-03T15:23:29.168559Z",
     "shell.execute_reply.started": "2023-09-03T15:23:29.151920Z"
    },
    "tags": []
   },
   "outputs": [
    {
     "data": {
      "text/plain": [
       "'RandomForestMC_Ext'"
      ]
     },
     "execution_count": 114,
     "metadata": {},
     "output_type": "execute_result"
    }
   ],
   "source": [
    "cls_ext.__class__.__name__"
   ]
  },
  {
   "cell_type": "code",
   "execution_count": 115,
   "id": "f6899c08-4854-4d34-9254-ee73adf5a8f7",
   "metadata": {
    "execution": {
     "iopub.execute_input": "2023-09-03T15:23:29.171695Z",
     "iopub.status.busy": "2023-09-03T15:23:29.171308Z",
     "iopub.status.idle": "2023-09-03T15:23:29.180622Z",
     "shell.execute_reply": "2023-09-03T15:23:29.179916Z",
     "shell.execute_reply.started": "2023-09-03T15:23:29.171657Z"
    },
    "tags": []
   },
   "outputs": [],
   "source": [
    "cls_ext.predictMissingValues(dataset_missing_values, dict_values)"
   ]
  },
  {
   "cell_type": "code",
   "execution_count": null,
   "id": "d72674c3-704d-4408-8ddd-f42b7085c6c0",
   "metadata": {},
   "outputs": [],
   "source": []
  }
 ],
 "metadata": {
  "kernelspec": {
   "display_name": "Python 3 (ipykernel)",
   "language": "python",
   "name": "python3"
  },
  "language_info": {
   "codemirror_mode": {
    "name": "ipython",
    "version": 3
   },
   "file_extension": ".py",
   "mimetype": "text/x-python",
   "name": "python",
   "nbconvert_exporter": "python",
   "pygments_lexer": "ipython3",
   "version": "3.10.11"
  }
 },
 "nbformat": 4,
 "nbformat_minor": 5
}
