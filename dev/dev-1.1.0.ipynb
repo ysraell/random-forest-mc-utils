{
 "cells": [
  {
   "cell_type": "code",
   "execution_count": null,
   "id": "452bf15d-7ae7-4816-975c-8e7a8901da2f",
   "metadata": {},
   "outputs": [],
   "source": [
    "!pip3 install ../../random-forest-mc/"
   ]
  },
  {
   "cell_type": "code",
   "execution_count": 20,
   "id": "53b0084f-16c9-4018-8c08-b6163de47358",
   "metadata": {},
   "outputs": [],
   "source": [
    "from random_forest_mc.model import RandomForestMC\n",
    "from random_forest_mc.utils import LoadDicts\n",
    "import pandas as pd\n",
    "import numpy as np\n",
    "\n",
    "from typing import Any\n",
    "from typing import Dict\n",
    "from typing import List\n",
    "from typing import Optional\n",
    "from typing import Tuple\n",
    "from typing import Union\n",
    "\n",
    "from numbers import Number"
   ]
  },
  {
   "cell_type": "code",
   "execution_count": 3,
   "id": "7704f23a-99e4-49e9-a4b5-301daeba652c",
   "metadata": {
    "collapsed": true,
    "jupyter": {
     "outputs_hidden": true
    }
   },
   "outputs": [
    {
     "name": "stderr",
     "output_type": "stream",
     "text": [
      "Planting the forest: 100%|████████████████████████████████████████████████████████████████████████████████████████████████████████████████████████████| 16/16 [00:06<00:00,  2.38it/s]\n"
     ]
    },
    {
     "ename": "NameError",
     "evalue": "name 'check' is not defined",
     "output_type": "error",
     "traceback": [
      "\u001b[0;31m---------------------------------------------------------------------------\u001b[0m",
      "\u001b[0;31mNameError\u001b[0m                                 Traceback (most recent call last)",
      "Cell \u001b[0;32mIn [3], line 19\u001b[0m\n\u001b[1;32m     16\u001b[0m row \u001b[38;5;241m=\u001b[39m dataset\u001b[38;5;241m.\u001b[39mreset_index(drop\u001b[38;5;241m=\u001b[39m\u001b[38;5;28;01mTrue\u001b[39;00m)\u001b[38;5;241m.\u001b[39mloc[\u001b[38;5;241m0\u001b[39m]\n\u001b[1;32m     18\u001b[0m predict_row \u001b[38;5;241m=\u001b[39m \u001b[38;5;28mcls\u001b[39m\u001b[38;5;241m.\u001b[39mpredict(row)\n\u001b[0;32m---> 19\u001b[0m \u001b[43mcheck\u001b[49m\u001b[38;5;241m.\u001b[39mis_instance(predict_row, \u001b[38;5;28mdict\u001b[39m)\n\u001b[1;32m     21\u001b[0m predict_ds \u001b[38;5;241m=\u001b[39m \u001b[38;5;28mcls\u001b[39m\u001b[38;5;241m.\u001b[39mpredict(dataset\u001b[38;5;241m.\u001b[39msample(n\u001b[38;5;241m=\u001b[39m\u001b[38;5;241m10\u001b[39m))\n\u001b[1;32m     22\u001b[0m check\u001b[38;5;241m.\u001b[39mis_instance(predict_ds, \u001b[38;5;28mlist\u001b[39m)\n",
      "\u001b[0;31mNameError\u001b[0m: name 'check' is not defined"
     ]
    }
   ],
   "source": [
    "dicts = LoadDicts(\"../../random-forest-mc/tests/\")\n",
    "dataset_dict = dicts.datasets_metadata\n",
    "ds_name = \"titanic\"\n",
    "params = dataset_dict[ds_name]\n",
    "dataset = (\n",
    "    pd.read_csv(params[\"csv_path\"])[params[\"ds_cols\"] + [params[\"target_col\"]]]\n",
    "    .dropna()\n",
    "    .reset_index(drop=True)\n",
    ")\n",
    "dataset[\"Age\"] = dataset[\"Age\"].astype(np.uint8)\n",
    "dataset[\"SibSp\"] = dataset[\"SibSp\"].astype(np.uint8)\n",
    "dataset[\"Pclass\"] = dataset[\"Pclass\"].astype(str)\n",
    "dataset[\"Fare\"] = dataset[\"Fare\"].astype(np.uint32)\n",
    "cls = RandomForestMC(target_col=params[\"target_col\"])\n",
    "cls.fit(dataset)"
   ]
  },
  {
   "cell_type": "code",
   "execution_count": 4,
   "id": "365b7f5f-bf38-4810-a927-079335c6ec91",
   "metadata": {},
   "outputs": [],
   "source": [
    "row = dataset.reset_index(drop=True).loc[0]\n",
    "predict_row = cls.predict(row)\n",
    "predict_ds = cls.predict(dataset.sample(n=10))\n",
    "predict_probs_ds = cls.predict_proba(dataset.sample(n=10))"
   ]
  },
  {
   "cell_type": "code",
   "execution_count": 5,
   "id": "f3d7dccc-d48a-45e0-be39-33279396c8c8",
   "metadata": {},
   "outputs": [
    {
     "data": {
      "text/plain": [
       "RandomForestMC(len(Forest)=16,n_trees=16,model_version=1.0.4-dev,module_version=1.0.4-dev)"
      ]
     },
     "execution_count": 5,
     "metadata": {},
     "output_type": "execute_result"
    }
   ],
   "source": [
    "cls"
   ]
  },
  {
   "cell_type": "code",
   "execution_count": 17,
   "id": "9fdc1101-5fde-428d-8d3a-aeb588179dcd",
   "metadata": {},
   "outputs": [],
   "source": [
    "# a row of pd.DataFrame.iterrows()\n",
    "# dsRow: TypeAlias = pd.core.series.Series\n",
    "dsRow = pd.core.series.Series\n",
    "\n",
    "# A tree composed by a assimetric tree of dictionaries:\n",
    "# TypeTree: TypeAlias = Dict\n",
    "TypeTree = Dict\n",
    "\n",
    "# Value type of classes\n",
    "# TypeClassVal: TypeAlias = Any\n",
    "TypeClassVal = Any  # !Review if is not forced to be str!\n",
    "\n",
    "# Type of the leaf\n",
    "# TypeLeaf: TypeAlias = Dict[TypeClassVal, float]\n",
    "TypeLeaf = Dict[TypeClassVal, float]"
   ]
  },
  {
   "cell_type": "code",
   "execution_count": 18,
   "id": "6119ee73-4e2c-494d-a468-51717e0f46b1",
   "metadata": {},
   "outputs": [],
   "source": [
    "# How to format a dict with values to fill the missing ones\n",
    "featName = str\n",
    "featValue = Union[str, Number]\n",
    "dictValues = Dict[featName: featValue]\n",
    "\n",
    "\n",
    "class RandomForestMC_Ext(RandomForestMC):\n",
    "    def _fill_row_missing(row: dsRow, dict_values : dictValues) -> pd.DataFrame:\n",
    "        pass\n",
    "        \n",
    "    def predictMissingValues(row_or_matrix: Union[dsRow, pd.DataFrame], dict_values : dictValues):\n",
    "        if isinstance(row_or_matrix, dsRow):\n",
    "            pass\n",
    "        if isinstance(row_or_matrix, pd.DataFrame):\n",
    "            pass"
   ]
  },
  {
   "cell_type": "code",
   "execution_count": 9,
   "id": "11eeb061-a0b4-4285-8df0-47b2465d6a2a",
   "metadata": {},
   "outputs": [],
   "source": [
    "cls = RandomForestMC_Ext(target_col=params[\"target_col\"])"
   ]
  },
  {
   "cell_type": "code",
   "execution_count": 10,
   "id": "2f854481-5ba1-4936-8df5-d6f45e81ecbd",
   "metadata": {},
   "outputs": [
    {
     "data": {
      "text/plain": [
       "RandomForestMC(len(Forest)=0,n_trees=16,model_version=1.0.4-dev,module_version=1.0.4-dev)"
      ]
     },
     "execution_count": 10,
     "metadata": {},
     "output_type": "execute_result"
    }
   ],
   "source": [
    "cls"
   ]
  },
  {
   "cell_type": "code",
   "execution_count": 14,
   "id": "c94ce0ef-7adc-4a90-a57c-a2a5bd374ae4",
   "metadata": {},
   "outputs": [
    {
     "data": {
      "text/plain": [
       "'RandomForestMC_Ext'"
      ]
     },
     "execution_count": 14,
     "metadata": {},
     "output_type": "execute_result"
    }
   ],
   "source": [
    "cls.__class__.__name__"
   ]
  },
  {
   "cell_type": "code",
   "execution_count": null,
   "id": "9e1954ad-f57b-414f-85dc-52d2d43bfb92",
   "metadata": {},
   "outputs": [],
   "source": []
  }
 ],
 "metadata": {
  "kernelspec": {
   "display_name": "Python 3 (ipykernel)",
   "language": "python",
   "name": "python3"
  },
  "language_info": {
   "codemirror_mode": {
    "name": "ipython",
    "version": 3
   },
   "file_extension": ".py",
   "mimetype": "text/x-python",
   "name": "python",
   "nbconvert_exporter": "python",
   "pygments_lexer": "ipython3",
   "version": "3.9.15"
  }
 },
 "nbformat": 4,
 "nbformat_minor": 5
}
