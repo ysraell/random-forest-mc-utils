{
 "cells": [
  {
   "cell_type": "code",
   "execution_count": null,
   "id": "452bf15d-7ae7-4816-975c-8e7a8901da2f",
   "metadata": {
    "tags": []
   },
   "outputs": [],
   "source": [
    "!pip3 install ../../random-forest-mc/"
   ]
  },
  {
   "cell_type": "code",
   "execution_count": 1,
   "id": "53b0084f-16c9-4018-8c08-b6163de47358",
   "metadata": {
    "execution": {
     "iopub.execute_input": "2023-09-04T01:14:04.861435Z",
     "iopub.status.busy": "2023-09-04T01:14:04.859680Z",
     "iopub.status.idle": "2023-09-04T01:14:05.241961Z",
     "shell.execute_reply": "2023-09-04T01:14:05.241456Z",
     "shell.execute_reply.started": "2023-09-04T01:14:04.861340Z"
    },
    "tags": []
   },
   "outputs": [],
   "source": [
    "from random_forest_mc.model import RandomForestMC\n",
    "from random_forest_mc.utils import LoadDicts\n",
    "import pandas as pd\n",
    "import numpy as np\n",
    "\n",
    "from typing import Any\n",
    "from typing import Dict\n",
    "from typing import List\n",
    "from typing import Optional\n",
    "from typing import Tuple\n",
    "from typing import Union\n",
    "\n",
    "from numbers import Number\n",
    "import logging as log"
   ]
  },
  {
   "cell_type": "markdown",
   "id": "075843fc-f921-4821-9874-8d8907ebacaf",
   "metadata": {},
   "source": [
    "# Load dataset"
   ]
  },
  {
   "cell_type": "code",
   "execution_count": 2,
   "id": "7704f23a-99e4-49e9-a4b5-301daeba652c",
   "metadata": {
    "execution": {
     "iopub.execute_input": "2023-09-04T01:14:06.803863Z",
     "iopub.status.busy": "2023-09-04T01:14:06.803501Z",
     "iopub.status.idle": "2023-09-04T01:14:06.819704Z",
     "shell.execute_reply": "2023-09-04T01:14:06.818747Z",
     "shell.execute_reply.started": "2023-09-04T01:14:06.803837Z"
    },
    "tags": []
   },
   "outputs": [],
   "source": [
    "dicts = LoadDicts(\"../../random-forest-mc/tests/\")\n",
    "dataset_dict = dicts.datasets_metadata\n",
    "ds_name = \"titanic\"\n",
    "params = dataset_dict[ds_name]\n",
    "dataset = (\n",
    "    pd.read_csv(params[\"csv_path\"])[params[\"ds_cols\"] + [params[\"target_col\"]]]\n",
    "    .dropna()\n",
    "    .reset_index(drop=True)\n",
    ")\n",
    "dataset[\"Age\"] = dataset[\"Age\"].astype(np.uint8)\n",
    "dataset[\"SibSp\"] = dataset[\"SibSp\"].astype(np.uint8)\n",
    "dataset[\"Pclass\"] = dataset[\"Pclass\"].astype(str)\n",
    "dataset[\"Fare\"] = dataset[\"Fare\"].astype(np.uint32)\n",
    "ds_cols = params[\"ds_cols\"]\n",
    "target_col = params[\"target_col\"]"
   ]
  },
  {
   "cell_type": "markdown",
   "id": "5d9d403f-4878-4279-bd84-8a3911c63ff4",
   "metadata": {},
   "source": [
    "# Load current model"
   ]
  },
  {
   "cell_type": "code",
   "execution_count": 3,
   "id": "365b7f5f-bf38-4810-a927-079335c6ec91",
   "metadata": {
    "execution": {
     "iopub.execute_input": "2023-09-04T01:14:08.061635Z",
     "iopub.status.busy": "2023-09-04T01:14:08.061052Z",
     "iopub.status.idle": "2023-09-04T01:14:14.313204Z",
     "shell.execute_reply": "2023-09-04T01:14:14.312645Z",
     "shell.execute_reply.started": "2023-09-04T01:14:08.061580Z"
    },
    "tags": []
   },
   "outputs": [
    {
     "name": "stderr",
     "output_type": "stream",
     "text": [
      "Planting the forest: 100%|██████████| 16/16 [00:06<00:00,  2.57it/s]\n"
     ]
    }
   ],
   "source": [
    "cls = RandomForestMC(target_col=target_col)\n",
    "cls.fit(dataset)\n",
    "row = dataset.reset_index(drop=True).loc[0]\n",
    "predict_row = cls.predict(row)\n",
    "predict_ds = cls.predict(dataset.sample(n=10))\n",
    "predict_probs_ds = cls.predict_proba(dataset.sample(n=10))"
   ]
  },
  {
   "cell_type": "code",
   "execution_count": null,
   "id": "7fdb38c6-f146-4b09-acee-c6427b326414",
   "metadata": {
    "tags": []
   },
   "outputs": [],
   "source": [
    "predict_ds"
   ]
  },
  {
   "cell_type": "code",
   "execution_count": null,
   "id": "f3d7dccc-d48a-45e0-be39-33279396c8c8",
   "metadata": {
    "tags": []
   },
   "outputs": [],
   "source": [
    "cls"
   ]
  },
  {
   "cell_type": "markdown",
   "id": "d65f7fb8-137a-4e64-a255-dab7257467d0",
   "metadata": {},
   "source": [
    "# Generate some missing data"
   ]
  },
  {
   "cell_type": "code",
   "execution_count": 4,
   "id": "63e2a046-01d2-4480-9ba2-b63731b98781",
   "metadata": {
    "execution": {
     "iopub.execute_input": "2023-09-04T01:14:14.934882Z",
     "iopub.status.busy": "2023-09-04T01:14:14.934283Z",
     "iopub.status.idle": "2023-09-04T01:14:14.943880Z",
     "shell.execute_reply": "2023-09-04T01:14:14.943103Z",
     "shell.execute_reply.started": "2023-09-04T01:14:14.934843Z"
    },
    "tags": []
   },
   "outputs": [],
   "source": [
    "df_tmp = dataset.sample(frac=0.2).reset_index(drop=True)\n",
    "mask_random = np.random.choice([True, False], size=df_tmp[ds_cols].shape, p=[0.7, 0.3])\n",
    "dataset_missing_values = df_tmp[ds_cols].mask(~mask_random)\n",
    "dataset_missing_values[target_col] = df_tmp[target_col]\n",
    "dataset_missing_values_ground_truth = df_tmp"
   ]
  },
  {
   "cell_type": "code",
   "execution_count": 5,
   "id": "a79d21ba-b270-42f2-b8b4-568c6e74bc74",
   "metadata": {
    "execution": {
     "iopub.execute_input": "2023-09-04T01:14:16.643838Z",
     "iopub.status.busy": "2023-09-04T01:14:16.643313Z",
     "iopub.status.idle": "2023-09-04T01:14:16.671069Z",
     "shell.execute_reply": "2023-09-04T01:14:16.670316Z",
     "shell.execute_reply.started": "2023-09-04T01:14:16.643795Z"
    },
    "tags": []
   },
   "outputs": [
    {
     "data": {
      "text/html": [
       "<div>\n",
       "<style scoped>\n",
       "    .dataframe tbody tr th:only-of-type {\n",
       "        vertical-align: middle;\n",
       "    }\n",
       "\n",
       "    .dataframe tbody tr th {\n",
       "        vertical-align: top;\n",
       "    }\n",
       "\n",
       "    .dataframe thead th {\n",
       "        text-align: right;\n",
       "    }\n",
       "</style>\n",
       "<table border=\"1\" class=\"dataframe\">\n",
       "  <thead>\n",
       "    <tr style=\"text-align: right;\">\n",
       "      <th></th>\n",
       "      <th>Pclass</th>\n",
       "      <th>Sex</th>\n",
       "      <th>Age</th>\n",
       "      <th>SibSp</th>\n",
       "      <th>Fare</th>\n",
       "      <th>Embarked</th>\n",
       "      <th>Survived</th>\n",
       "    </tr>\n",
       "  </thead>\n",
       "  <tbody>\n",
       "    <tr>\n",
       "      <th>0</th>\n",
       "      <td>NaN</td>\n",
       "      <td>NaN</td>\n",
       "      <td>16.0</td>\n",
       "      <td>2.0</td>\n",
       "      <td>18.0</td>\n",
       "      <td>S</td>\n",
       "      <td>0</td>\n",
       "    </tr>\n",
       "    <tr>\n",
       "      <th>1</th>\n",
       "      <td>1</td>\n",
       "      <td>female</td>\n",
       "      <td>40.0</td>\n",
       "      <td>1.0</td>\n",
       "      <td>134.0</td>\n",
       "      <td>C</td>\n",
       "      <td>1</td>\n",
       "    </tr>\n",
       "    <tr>\n",
       "      <th>2</th>\n",
       "      <td>NaN</td>\n",
       "      <td>female</td>\n",
       "      <td>15.0</td>\n",
       "      <td>0.0</td>\n",
       "      <td>8.0</td>\n",
       "      <td>Q</td>\n",
       "      <td>1</td>\n",
       "    </tr>\n",
       "    <tr>\n",
       "      <th>3</th>\n",
       "      <td>3</td>\n",
       "      <td>NaN</td>\n",
       "      <td>34.0</td>\n",
       "      <td>0.0</td>\n",
       "      <td>NaN</td>\n",
       "      <td>C</td>\n",
       "      <td>0</td>\n",
       "    </tr>\n",
       "    <tr>\n",
       "      <th>4</th>\n",
       "      <td>1</td>\n",
       "      <td>male</td>\n",
       "      <td>51.0</td>\n",
       "      <td>0.0</td>\n",
       "      <td>NaN</td>\n",
       "      <td>S</td>\n",
       "      <td>1</td>\n",
       "    </tr>\n",
       "    <tr>\n",
       "      <th>...</th>\n",
       "      <td>...</td>\n",
       "      <td>...</td>\n",
       "      <td>...</td>\n",
       "      <td>...</td>\n",
       "      <td>...</td>\n",
       "      <td>...</td>\n",
       "      <td>...</td>\n",
       "    </tr>\n",
       "    <tr>\n",
       "      <th>137</th>\n",
       "      <td>3</td>\n",
       "      <td>male</td>\n",
       "      <td>17.0</td>\n",
       "      <td>0.0</td>\n",
       "      <td>7.0</td>\n",
       "      <td>S</td>\n",
       "      <td>0</td>\n",
       "    </tr>\n",
       "    <tr>\n",
       "      <th>138</th>\n",
       "      <td>3</td>\n",
       "      <td>NaN</td>\n",
       "      <td>NaN</td>\n",
       "      <td>NaN</td>\n",
       "      <td>17.0</td>\n",
       "      <td>NaN</td>\n",
       "      <td>1</td>\n",
       "    </tr>\n",
       "    <tr>\n",
       "      <th>139</th>\n",
       "      <td>NaN</td>\n",
       "      <td>female</td>\n",
       "      <td>16.0</td>\n",
       "      <td>NaN</td>\n",
       "      <td>46.0</td>\n",
       "      <td>NaN</td>\n",
       "      <td>0</td>\n",
       "    </tr>\n",
       "    <tr>\n",
       "      <th>140</th>\n",
       "      <td>NaN</td>\n",
       "      <td>male</td>\n",
       "      <td>54.0</td>\n",
       "      <td>1.0</td>\n",
       "      <td>26.0</td>\n",
       "      <td>S</td>\n",
       "      <td>0</td>\n",
       "    </tr>\n",
       "    <tr>\n",
       "      <th>141</th>\n",
       "      <td>NaN</td>\n",
       "      <td>female</td>\n",
       "      <td>41.0</td>\n",
       "      <td>0.0</td>\n",
       "      <td>134.0</td>\n",
       "      <td>NaN</td>\n",
       "      <td>1</td>\n",
       "    </tr>\n",
       "  </tbody>\n",
       "</table>\n",
       "<p>142 rows × 7 columns</p>\n",
       "</div>"
      ],
      "text/plain": [
       "    Pclass     Sex   Age  SibSp   Fare Embarked Survived\n",
       "0      NaN     NaN  16.0    2.0   18.0        S        0\n",
       "1        1  female  40.0    1.0  134.0        C        1\n",
       "2      NaN  female  15.0    0.0    8.0        Q        1\n",
       "3        3     NaN  34.0    0.0    NaN        C        0\n",
       "4        1    male  51.0    0.0    NaN        S        1\n",
       "..     ...     ...   ...    ...    ...      ...      ...\n",
       "137      3    male  17.0    0.0    7.0        S        0\n",
       "138      3     NaN   NaN    NaN   17.0      NaN        1\n",
       "139    NaN  female  16.0    NaN   46.0      NaN        0\n",
       "140    NaN    male  54.0    1.0   26.0        S        0\n",
       "141    NaN  female  41.0    0.0  134.0      NaN        1\n",
       "\n",
       "[142 rows x 7 columns]"
      ]
     },
     "execution_count": 5,
     "metadata": {},
     "output_type": "execute_result"
    }
   ],
   "source": [
    "dataset_missing_values"
   ]
  },
  {
   "cell_type": "code",
   "execution_count": 6,
   "id": "4a3f0e70-d03a-4c06-a2a7-04f096919a16",
   "metadata": {
    "execution": {
     "iopub.execute_input": "2023-09-04T01:14:17.796186Z",
     "iopub.status.busy": "2023-09-04T01:14:17.795726Z",
     "iopub.status.idle": "2023-09-04T01:14:17.804030Z",
     "shell.execute_reply": "2023-09-04T01:14:17.802566Z",
     "shell.execute_reply.started": "2023-09-04T01:14:17.796146Z"
    },
    "tags": []
   },
   "outputs": [],
   "source": [
    "dict_values = {col: dataset[col].unique().tolist() for col in ds_cols}"
   ]
  },
  {
   "cell_type": "code",
   "execution_count": 7,
   "id": "baf26f8b-ab57-42a4-a610-1810bbe4d497",
   "metadata": {
    "execution": {
     "iopub.execute_input": "2023-09-04T01:14:18.966767Z",
     "iopub.status.busy": "2023-09-04T01:14:18.965889Z",
     "iopub.status.idle": "2023-09-04T01:14:18.982656Z",
     "shell.execute_reply": "2023-09-04T01:14:18.979995Z",
     "shell.execute_reply.started": "2023-09-04T01:14:18.966682Z"
    },
    "tags": []
   },
   "outputs": [
    {
     "data": {
      "text/plain": [
       "dict_keys(['Pclass', 'Sex', 'Age', 'SibSp', 'Fare', 'Embarked'])"
      ]
     },
     "execution_count": 7,
     "metadata": {},
     "output_type": "execute_result"
    }
   ],
   "source": [
    "dict_values.keys()"
   ]
  },
  {
   "cell_type": "markdown",
   "id": "9bdb0bb3-d05d-4137-993b-1a3a374adc31",
   "metadata": {},
   "source": [
    "# Load the new extention"
   ]
  },
  {
   "cell_type": "code",
   "execution_count": 8,
   "id": "9fdc1101-5fde-428d-8d3a-aeb588179dcd",
   "metadata": {
    "execution": {
     "iopub.execute_input": "2023-09-04T01:14:21.077716Z",
     "iopub.status.busy": "2023-09-04T01:14:21.076849Z",
     "iopub.status.idle": "2023-09-04T01:14:21.090327Z",
     "shell.execute_reply": "2023-09-04T01:14:21.088055Z",
     "shell.execute_reply.started": "2023-09-04T01:14:21.077632Z"
    },
    "tags": []
   },
   "outputs": [],
   "source": [
    "# a row of pd.DataFrame.iterrows()\n",
    "# dsRow: TypeAlias = pd.core.series.Series\n",
    "dsRow = pd.core.series.Series\n",
    "\n",
    "# A tree composed by a assimetric tree of dictionaries:\n",
    "# TypeTree: TypeAlias = Dict\n",
    "TypeTree = Dict\n",
    "\n",
    "# Value type of classes\n",
    "# TypeClassVal: TypeAlias = Any\n",
    "TypeClassVal = Any  # !Review if is not forced to be str!\n",
    "\n",
    "# Type of the leaf\n",
    "# TypeLeaf: TypeAlias = Dict[TypeClassVal, float]\n",
    "TypeLeaf = Dict[TypeClassVal, float]"
   ]
  },
  {
   "cell_type": "code",
   "execution_count": 9,
   "id": "6119ee73-4e2c-494d-a468-51717e0f46b1",
   "metadata": {
    "execution": {
     "iopub.execute_input": "2023-09-04T01:14:21.544665Z",
     "iopub.status.busy": "2023-09-04T01:14:21.544200Z",
     "iopub.status.idle": "2023-09-04T01:14:21.551827Z",
     "shell.execute_reply": "2023-09-04T01:14:21.551179Z",
     "shell.execute_reply.started": "2023-09-04T01:14:21.544645Z"
    },
    "tags": []
   },
   "outputs": [],
   "source": [
    "# How to format a dict with values to fill the missing ones\n",
    "featName = str\n",
    "featValue = Union[str, Number]\n",
    "dictValues = Dict[featName, featValue]\n",
    "\n",
    "\n",
    "class RandomForestMC_Ext(RandomForestMC):\n",
    "    @staticmethod\n",
    "    def _fill_row_missing(row: dsRow, dict_values : dictValues) -> pd.DataFrame:\n",
    "        list_out = []\n",
    "        for col, vals in dict_values.items():\n",
    "            if pd.isna(row[col]):        \n",
    "                for val in vals:\n",
    "                    _row = row.copy()\n",
    "                    _row[col] = val\n",
    "                    list_out.append(_row)\n",
    "        return pd.concat(list_out, axis=1).transpose().reset_index(drop=True)\n",
    "        \n",
    "        \n",
    "    def predictMissingValues(self, row_or_matrix: Union[dsRow, pd.DataFrame], dict_values : dictValues, use_all_Tress: bool = True):\n",
    "        used_features = set()\n",
    "        for Tree in self:\n",
    "            used_features |= set(Tree.used_features)\n",
    "        not_have_feats = set(dict_values.keys()) - used_features\n",
    "        if not_have_feats:\n",
    "            _tmp = \", \".join(not_have_feats)\n",
    "            log.warning(f'The Forest model have not the following feature(s): [{_tmp}].')\n",
    "        \n",
    "        if isinstance(row_or_matrix, dsRow):\n",
    "            self.df_data_miss = self._fill_row_missing(row_or_matrix, dict_values)\n",
    "            \n",
    "        if isinstance(row_or_matrix, pd.DataFrame):\n",
    "            self.df_data_miss = []\n",
    "            for _, row in row_or_matrix.iterrows():\n",
    "                self.df_data_miss.append(self._fill_row_missing(row, dict_values))\n",
    "            self.df_data_miss = pd.concat(self.df_data_miss).reset_index(drop=True)\n",
    "            \n",
    "        df_predict = pd.DataFrame.from_dict(self.predict_proba(cls_ext.df_data_miss))"
   ]
  },
  {
   "cell_type": "code",
   "execution_count": 10,
   "id": "11eeb061-a0b4-4285-8df0-47b2465d6a2a",
   "metadata": {
    "execution": {
     "iopub.execute_input": "2023-09-04T01:14:29.858356Z",
     "iopub.status.busy": "2023-09-04T01:14:29.856688Z",
     "iopub.status.idle": "2023-09-04T01:14:36.867385Z",
     "shell.execute_reply": "2023-09-04T01:14:36.866812Z",
     "shell.execute_reply.started": "2023-09-04T01:14:29.858265Z"
    },
    "tags": []
   },
   "outputs": [
    {
     "name": "stderr",
     "output_type": "stream",
     "text": [
      "Planting the forest: 100%|██████████| 16/16 [00:06<00:00,  2.29it/s]\n"
     ]
    }
   ],
   "source": [
    "cls_ext = RandomForestMC_Ext(target_col=params[\"target_col\"])\n",
    "cls_ext.fit(dataset)"
   ]
  },
  {
   "cell_type": "code",
   "execution_count": 11,
   "id": "2f854481-5ba1-4936-8df5-d6f45e81ecbd",
   "metadata": {
    "execution": {
     "iopub.execute_input": "2023-09-04T01:14:38.160451Z",
     "iopub.status.busy": "2023-09-04T01:14:38.160189Z",
     "iopub.status.idle": "2023-09-04T01:14:38.164300Z",
     "shell.execute_reply": "2023-09-04T01:14:38.163787Z",
     "shell.execute_reply.started": "2023-09-04T01:14:38.160432Z"
    },
    "tags": []
   },
   "outputs": [
    {
     "data": {
      "text/plain": [
       "RandomForestMC_Ext(len(Forest)=16,n_trees=16,model_version=1.0.4-dev,module_version=1.0.4-dev)"
      ]
     },
     "execution_count": 11,
     "metadata": {},
     "output_type": "execute_result"
    }
   ],
   "source": [
    "cls_ext"
   ]
  },
  {
   "cell_type": "code",
   "execution_count": 12,
   "id": "c94ce0ef-7adc-4a90-a57c-a2a5bd374ae4",
   "metadata": {
    "execution": {
     "iopub.execute_input": "2023-09-04T01:14:38.516536Z",
     "iopub.status.busy": "2023-09-04T01:14:38.516236Z",
     "iopub.status.idle": "2023-09-04T01:14:38.521492Z",
     "shell.execute_reply": "2023-09-04T01:14:38.520619Z",
     "shell.execute_reply.started": "2023-09-04T01:14:38.516511Z"
    },
    "tags": []
   },
   "outputs": [
    {
     "data": {
      "text/plain": [
       "'RandomForestMC_Ext'"
      ]
     },
     "execution_count": 12,
     "metadata": {},
     "output_type": "execute_result"
    }
   ],
   "source": [
    "cls_ext.__class__.__name__"
   ]
  },
  {
   "cell_type": "code",
   "execution_count": 15,
   "id": "c849a431-d3ff-4137-8976-df32c7f63c77",
   "metadata": {
    "execution": {
     "iopub.execute_input": "2023-09-04T01:15:06.099618Z",
     "iopub.status.busy": "2023-09-04T01:15:06.098745Z",
     "iopub.status.idle": "2023-09-04T01:15:06.111470Z",
     "shell.execute_reply": "2023-09-04T01:15:06.110368Z",
     "shell.execute_reply.started": "2023-09-04T01:15:06.099534Z"
    },
    "tags": []
   },
   "outputs": [
    {
     "data": {
      "text/plain": [
       "Pclass         NaN\n",
       "Sex         female\n",
       "Age           15.0\n",
       "SibSp          0.0\n",
       "Fare           8.0\n",
       "Embarked         Q\n",
       "Survived         1\n",
       "Name: 2, dtype: object"
      ]
     },
     "execution_count": 15,
     "metadata": {},
     "output_type": "execute_result"
    }
   ],
   "source": [
    "dataset_missing_values.loc[2]"
   ]
  },
  {
   "cell_type": "code",
   "execution_count": 13,
   "id": "f6899c08-4854-4d34-9254-ee73adf5a8f7",
   "metadata": {
    "execution": {
     "iopub.execute_input": "2023-09-04T01:14:38.812782Z",
     "iopub.status.busy": "2023-09-04T01:14:38.812523Z",
     "iopub.status.idle": "2023-09-04T01:14:38.819474Z",
     "shell.execute_reply": "2023-09-04T01:14:38.818727Z",
     "shell.execute_reply.started": "2023-09-04T01:14:38.812765Z"
    },
    "tags": []
   },
   "outputs": [],
   "source": [
    "cls_ext.predictMissingValues(dataset_missing_values.loc[2], dict_values)"
   ]
  },
  {
   "cell_type": "code",
   "execution_count": 14,
   "id": "5b3921c9-f13b-4a1c-add1-9994c3447cd3",
   "metadata": {
    "execution": {
     "iopub.execute_input": "2023-09-04T01:14:43.537902Z",
     "iopub.status.busy": "2023-09-04T01:14:43.537017Z",
     "iopub.status.idle": "2023-09-04T01:14:43.569773Z",
     "shell.execute_reply": "2023-09-04T01:14:43.566611Z",
     "shell.execute_reply.started": "2023-09-04T01:14:43.537818Z"
    },
    "tags": []
   },
   "outputs": [
    {
     "data": {
      "text/html": [
       "<div>\n",
       "<style scoped>\n",
       "    .dataframe tbody tr th:only-of-type {\n",
       "        vertical-align: middle;\n",
       "    }\n",
       "\n",
       "    .dataframe tbody tr th {\n",
       "        vertical-align: top;\n",
       "    }\n",
       "\n",
       "    .dataframe thead th {\n",
       "        text-align: right;\n",
       "    }\n",
       "</style>\n",
       "<table border=\"1\" class=\"dataframe\">\n",
       "  <thead>\n",
       "    <tr style=\"text-align: right;\">\n",
       "      <th></th>\n",
       "      <th>Pclass</th>\n",
       "      <th>Sex</th>\n",
       "      <th>Age</th>\n",
       "      <th>SibSp</th>\n",
       "      <th>Fare</th>\n",
       "      <th>Embarked</th>\n",
       "      <th>Survived</th>\n",
       "    </tr>\n",
       "  </thead>\n",
       "  <tbody>\n",
       "    <tr>\n",
       "      <th>0</th>\n",
       "      <td>3</td>\n",
       "      <td>female</td>\n",
       "      <td>15.0</td>\n",
       "      <td>0.0</td>\n",
       "      <td>8.0</td>\n",
       "      <td>Q</td>\n",
       "      <td>1</td>\n",
       "    </tr>\n",
       "    <tr>\n",
       "      <th>1</th>\n",
       "      <td>1</td>\n",
       "      <td>female</td>\n",
       "      <td>15.0</td>\n",
       "      <td>0.0</td>\n",
       "      <td>8.0</td>\n",
       "      <td>Q</td>\n",
       "      <td>1</td>\n",
       "    </tr>\n",
       "    <tr>\n",
       "      <th>2</th>\n",
       "      <td>2</td>\n",
       "      <td>female</td>\n",
       "      <td>15.0</td>\n",
       "      <td>0.0</td>\n",
       "      <td>8.0</td>\n",
       "      <td>Q</td>\n",
       "      <td>1</td>\n",
       "    </tr>\n",
       "  </tbody>\n",
       "</table>\n",
       "</div>"
      ],
      "text/plain": [
       "  Pclass     Sex   Age SibSp Fare Embarked Survived\n",
       "0      3  female  15.0   0.0  8.0        Q        1\n",
       "1      1  female  15.0   0.0  8.0        Q        1\n",
       "2      2  female  15.0   0.0  8.0        Q        1"
      ]
     },
     "execution_count": 14,
     "metadata": {},
     "output_type": "execute_result"
    }
   ],
   "source": [
    "cls_ext.df_data_miss"
   ]
  },
  {
   "cell_type": "code",
   "execution_count": 17,
   "id": "7736ce35-1194-497e-8bc5-563b4732ff82",
   "metadata": {
    "execution": {
     "iopub.execute_input": "2023-09-04T01:15:28.642716Z",
     "iopub.status.busy": "2023-09-04T01:15:28.642282Z",
     "iopub.status.idle": "2023-09-04T01:15:28.651416Z",
     "shell.execute_reply": "2023-09-04T01:15:28.650807Z",
     "shell.execute_reply.started": "2023-09-04T01:15:28.642690Z"
    },
    "tags": []
   },
   "outputs": [
    {
     "data": {
      "text/html": [
       "<div>\n",
       "<style scoped>\n",
       "    .dataframe tbody tr th:only-of-type {\n",
       "        vertical-align: middle;\n",
       "    }\n",
       "\n",
       "    .dataframe tbody tr th {\n",
       "        vertical-align: top;\n",
       "    }\n",
       "\n",
       "    .dataframe thead th {\n",
       "        text-align: right;\n",
       "    }\n",
       "</style>\n",
       "<table border=\"1\" class=\"dataframe\">\n",
       "  <thead>\n",
       "    <tr style=\"text-align: right;\">\n",
       "      <th></th>\n",
       "      <th>Pclass</th>\n",
       "      <th>Sex</th>\n",
       "      <th>Age</th>\n",
       "      <th>SibSp</th>\n",
       "      <th>Fare</th>\n",
       "      <th>Embarked</th>\n",
       "      <th>Survived</th>\n",
       "    </tr>\n",
       "  </thead>\n",
       "  <tbody>\n",
       "    <tr>\n",
       "      <th>133</th>\n",
       "      <td>1</td>\n",
       "      <td>female</td>\n",
       "      <td>39.0</td>\n",
       "      <td>NaN</td>\n",
       "      <td>83.0</td>\n",
       "      <td>C</td>\n",
       "      <td>1</td>\n",
       "    </tr>\n",
       "    <tr>\n",
       "      <th>77</th>\n",
       "      <td>NaN</td>\n",
       "      <td>NaN</td>\n",
       "      <td>24.0</td>\n",
       "      <td>NaN</td>\n",
       "      <td>7.0</td>\n",
       "      <td>S</td>\n",
       "      <td>0</td>\n",
       "    </tr>\n",
       "    <tr>\n",
       "      <th>40</th>\n",
       "      <td>3</td>\n",
       "      <td>male</td>\n",
       "      <td>22.0</td>\n",
       "      <td>0.0</td>\n",
       "      <td>7.0</td>\n",
       "      <td>S</td>\n",
       "      <td>0</td>\n",
       "    </tr>\n",
       "  </tbody>\n",
       "</table>\n",
       "</div>"
      ],
      "text/plain": [
       "    Pclass     Sex   Age  SibSp  Fare Embarked Survived\n",
       "133      1  female  39.0    NaN  83.0        C        1\n",
       "77     NaN     NaN  24.0    NaN   7.0        S        0\n",
       "40       3    male  22.0    0.0   7.0        S        0"
      ]
     },
     "execution_count": 17,
     "metadata": {},
     "output_type": "execute_result"
    }
   ],
   "source": [
    "dataset_missing_values_A"
   ]
  },
  {
   "cell_type": "code",
   "execution_count": 18,
   "id": "bf3bde4e-5ec4-430d-842d-be2cb2a18af4",
   "metadata": {
    "execution": {
     "iopub.execute_input": "2023-09-04T01:15:44.694392Z",
     "iopub.status.busy": "2023-09-04T01:15:44.693770Z",
     "iopub.status.idle": "2023-09-04T01:15:44.730169Z",
     "shell.execute_reply": "2023-09-04T01:15:44.728678Z",
     "shell.execute_reply.started": "2023-09-04T01:15:44.694335Z"
    },
    "tags": []
   },
   "outputs": [],
   "source": [
    "dataset_missing_values_A = dataset_missing_values.sample(n=3).reset_index(drop=True)\n",
    "cls_ext.predictMissingValues(dataset_missing_values_A, dict_values)"
   ]
  },
  {
   "cell_type": "code",
   "execution_count": 19,
   "id": "a50f3482-2e15-48e2-88b5-4bceada2fbb6",
   "metadata": {
    "execution": {
     "iopub.execute_input": "2023-09-04T01:15:48.866448Z",
     "iopub.status.busy": "2023-09-04T01:15:48.865625Z",
     "iopub.status.idle": "2023-09-04T01:15:48.902150Z",
     "shell.execute_reply": "2023-09-04T01:15:48.899719Z",
     "shell.execute_reply.started": "2023-09-04T01:15:48.866372Z"
    },
    "tags": []
   },
   "outputs": [
    {
     "data": {
      "text/html": [
       "<div>\n",
       "<style scoped>\n",
       "    .dataframe tbody tr th:only-of-type {\n",
       "        vertical-align: middle;\n",
       "    }\n",
       "\n",
       "    .dataframe tbody tr th {\n",
       "        vertical-align: top;\n",
       "    }\n",
       "\n",
       "    .dataframe thead th {\n",
       "        text-align: right;\n",
       "    }\n",
       "</style>\n",
       "<table border=\"1\" class=\"dataframe\">\n",
       "  <thead>\n",
       "    <tr style=\"text-align: right;\">\n",
       "      <th></th>\n",
       "      <th>Pclass</th>\n",
       "      <th>Sex</th>\n",
       "      <th>Age</th>\n",
       "      <th>SibSp</th>\n",
       "      <th>Fare</th>\n",
       "      <th>Embarked</th>\n",
       "      <th>Survived</th>\n",
       "    </tr>\n",
       "  </thead>\n",
       "  <tbody>\n",
       "    <tr>\n",
       "      <th>0</th>\n",
       "      <td>3</td>\n",
       "      <td>male</td>\n",
       "      <td>26.0</td>\n",
       "      <td>1</td>\n",
       "      <td>18.0</td>\n",
       "      <td>C</td>\n",
       "      <td>1</td>\n",
       "    </tr>\n",
       "    <tr>\n",
       "      <th>1</th>\n",
       "      <td>3</td>\n",
       "      <td>male</td>\n",
       "      <td>26.0</td>\n",
       "      <td>0</td>\n",
       "      <td>18.0</td>\n",
       "      <td>C</td>\n",
       "      <td>1</td>\n",
       "    </tr>\n",
       "    <tr>\n",
       "      <th>2</th>\n",
       "      <td>3</td>\n",
       "      <td>male</td>\n",
       "      <td>26.0</td>\n",
       "      <td>3</td>\n",
       "      <td>18.0</td>\n",
       "      <td>C</td>\n",
       "      <td>1</td>\n",
       "    </tr>\n",
       "    <tr>\n",
       "      <th>3</th>\n",
       "      <td>3</td>\n",
       "      <td>male</td>\n",
       "      <td>26.0</td>\n",
       "      <td>4</td>\n",
       "      <td>18.0</td>\n",
       "      <td>C</td>\n",
       "      <td>1</td>\n",
       "    </tr>\n",
       "    <tr>\n",
       "      <th>4</th>\n",
       "      <td>3</td>\n",
       "      <td>male</td>\n",
       "      <td>26.0</td>\n",
       "      <td>2</td>\n",
       "      <td>18.0</td>\n",
       "      <td>C</td>\n",
       "      <td>1</td>\n",
       "    </tr>\n",
       "    <tr>\n",
       "      <th>5</th>\n",
       "      <td>3</td>\n",
       "      <td>male</td>\n",
       "      <td>26.0</td>\n",
       "      <td>5</td>\n",
       "      <td>18.0</td>\n",
       "      <td>C</td>\n",
       "      <td>1</td>\n",
       "    </tr>\n",
       "    <tr>\n",
       "      <th>6</th>\n",
       "      <td>3</td>\n",
       "      <td>male</td>\n",
       "      <td>27.0</td>\n",
       "      <td>0.0</td>\n",
       "      <td>7.0</td>\n",
       "      <td>S</td>\n",
       "      <td>1</td>\n",
       "    </tr>\n",
       "    <tr>\n",
       "      <th>7</th>\n",
       "      <td>3</td>\n",
       "      <td>male</td>\n",
       "      <td>27.0</td>\n",
       "      <td>0.0</td>\n",
       "      <td>7.0</td>\n",
       "      <td>C</td>\n",
       "      <td>1</td>\n",
       "    </tr>\n",
       "    <tr>\n",
       "      <th>8</th>\n",
       "      <td>3</td>\n",
       "      <td>male</td>\n",
       "      <td>27.0</td>\n",
       "      <td>0.0</td>\n",
       "      <td>7.0</td>\n",
       "      <td>Q</td>\n",
       "      <td>1</td>\n",
       "    </tr>\n",
       "    <tr>\n",
       "      <th>9</th>\n",
       "      <td>3</td>\n",
       "      <td>NaN</td>\n",
       "      <td>18.0</td>\n",
       "      <td>0.0</td>\n",
       "      <td>7.0</td>\n",
       "      <td>S</td>\n",
       "      <td>1</td>\n",
       "    </tr>\n",
       "    <tr>\n",
       "      <th>10</th>\n",
       "      <td>1</td>\n",
       "      <td>NaN</td>\n",
       "      <td>18.0</td>\n",
       "      <td>0.0</td>\n",
       "      <td>7.0</td>\n",
       "      <td>S</td>\n",
       "      <td>1</td>\n",
       "    </tr>\n",
       "    <tr>\n",
       "      <th>11</th>\n",
       "      <td>2</td>\n",
       "      <td>NaN</td>\n",
       "      <td>18.0</td>\n",
       "      <td>0.0</td>\n",
       "      <td>7.0</td>\n",
       "      <td>S</td>\n",
       "      <td>1</td>\n",
       "    </tr>\n",
       "    <tr>\n",
       "      <th>12</th>\n",
       "      <td>NaN</td>\n",
       "      <td>male</td>\n",
       "      <td>18.0</td>\n",
       "      <td>0.0</td>\n",
       "      <td>7.0</td>\n",
       "      <td>S</td>\n",
       "      <td>1</td>\n",
       "    </tr>\n",
       "    <tr>\n",
       "      <th>13</th>\n",
       "      <td>NaN</td>\n",
       "      <td>female</td>\n",
       "      <td>18.0</td>\n",
       "      <td>0.0</td>\n",
       "      <td>7.0</td>\n",
       "      <td>S</td>\n",
       "      <td>1</td>\n",
       "    </tr>\n",
       "  </tbody>\n",
       "</table>\n",
       "</div>"
      ],
      "text/plain": [
       "   Pclass     Sex   Age SibSp  Fare Embarked Survived\n",
       "0       3    male  26.0     1  18.0        C        1\n",
       "1       3    male  26.0     0  18.0        C        1\n",
       "2       3    male  26.0     3  18.0        C        1\n",
       "3       3    male  26.0     4  18.0        C        1\n",
       "4       3    male  26.0     2  18.0        C        1\n",
       "5       3    male  26.0     5  18.0        C        1\n",
       "6       3    male  27.0   0.0   7.0        S        1\n",
       "7       3    male  27.0   0.0   7.0        C        1\n",
       "8       3    male  27.0   0.0   7.0        Q        1\n",
       "9       3     NaN  18.0   0.0   7.0        S        1\n",
       "10      1     NaN  18.0   0.0   7.0        S        1\n",
       "11      2     NaN  18.0   0.0   7.0        S        1\n",
       "12    NaN    male  18.0   0.0   7.0        S        1\n",
       "13    NaN  female  18.0   0.0   7.0        S        1"
      ]
     },
     "execution_count": 19,
     "metadata": {},
     "output_type": "execute_result"
    }
   ],
   "source": [
    "cls_ext.df_data_miss"
   ]
  },
  {
   "cell_type": "code",
   "execution_count": 20,
   "id": "a679ba4d-92ae-4421-9a42-18a9ec281c4a",
   "metadata": {
    "execution": {
     "iopub.execute_input": "2023-09-04T01:16:01.431445Z",
     "iopub.status.busy": "2023-09-04T01:16:01.428539Z",
     "iopub.status.idle": "2023-09-04T01:16:01.466374Z",
     "shell.execute_reply": "2023-09-04T01:16:01.464258Z",
     "shell.execute_reply.started": "2023-09-04T01:16:01.431308Z"
    },
    "tags": []
   },
   "outputs": [],
   "source": [
    "predict_probs_ds = cls_ext.predict_proba(cls_ext.df_data_miss)"
   ]
  },
  {
   "cell_type": "code",
   "execution_count": 21,
   "id": "ceed5874-7c05-4909-a273-9b43ce2676c3",
   "metadata": {
    "execution": {
     "iopub.execute_input": "2023-09-04T01:16:04.902822Z",
     "iopub.status.busy": "2023-09-04T01:16:04.901940Z",
     "iopub.status.idle": "2023-09-04T01:16:04.937549Z",
     "shell.execute_reply": "2023-09-04T01:16:04.935469Z",
     "shell.execute_reply.started": "2023-09-04T01:16:04.902736Z"
    },
    "tags": []
   },
   "outputs": [],
   "source": [
    "df_predict = pd.DataFrame.from_dict(cls_ext.predict_proba(cls_ext.df_data_miss))"
   ]
  },
  {
   "cell_type": "code",
   "execution_count": 22,
   "id": "4ffe93b6-afe7-4588-939f-e7bc0989c7d8",
   "metadata": {
    "execution": {
     "iopub.execute_input": "2023-09-04T01:16:11.255691Z",
     "iopub.status.busy": "2023-09-04T01:16:11.254811Z",
     "iopub.status.idle": "2023-09-04T01:16:11.268417Z",
     "shell.execute_reply": "2023-09-04T01:16:11.265519Z",
     "shell.execute_reply.started": "2023-09-04T01:16:11.255606Z"
    },
    "tags": []
   },
   "outputs": [],
   "source": [
    "cls_ext.df_data_miss_with_preds = pd.concat([cls_ext.df_data_miss, df_predict], axis=1)"
   ]
  },
  {
   "cell_type": "code",
   "execution_count": 35,
   "id": "a165414d-c368-4271-af7d-9ba3a91caca0",
   "metadata": {
    "execution": {
     "iopub.execute_input": "2023-09-04T01:19:12.126591Z",
     "iopub.status.busy": "2023-09-04T01:19:12.123820Z",
     "iopub.status.idle": "2023-09-04T01:19:12.144404Z",
     "shell.execute_reply": "2023-09-04T01:19:12.142007Z",
     "shell.execute_reply.started": "2023-09-04T01:19:12.126503Z"
    },
    "tags": []
   },
   "outputs": [],
   "source": [
    "for i, row in dataset_missing_values_A.iterrows():\n",
    "    conds = []\n",
    "    missing_cols = []\n",
    "    for col in dict_values.keys():\n",
    "        if not pd.isna(row[col]):\n",
    "            conds.append(cls_ext.df_data_miss[col] == row[col])\n",
    "        else:\n",
    "            missing_cols.append(col)\n",
    "    cond = conds.pop()\n",
    "    while conds:\n",
    "        cond = cond & conds.pop()\n",
    "        \n",
    "    df_tmp = cls_ext.df_data_miss_with_preds.loc[cond]\n",
    "    break"
   ]
  },
  {
   "cell_type": "code",
   "execution_count": 31,
   "id": "378c49f8-2674-46a5-a515-9382de655b39",
   "metadata": {
    "execution": {
     "iopub.execute_input": "2023-09-04T01:18:51.753148Z",
     "iopub.status.busy": "2023-09-04T01:18:51.752273Z",
     "iopub.status.idle": "2023-09-04T01:18:51.776356Z",
     "shell.execute_reply": "2023-09-04T01:18:51.772392Z",
     "shell.execute_reply.started": "2023-09-04T01:18:51.753065Z"
    },
    "tags": []
   },
   "outputs": [
    {
     "data": {
      "text/plain": [
       "Pclass         3\n",
       "Sex         male\n",
       "Age         26.0\n",
       "SibSp        NaN\n",
       "Fare        18.0\n",
       "Embarked       C\n",
       "Survived       1\n",
       "Name: 0, dtype: object"
      ]
     },
     "execution_count": 31,
     "metadata": {},
     "output_type": "execute_result"
    }
   ],
   "source": [
    "row"
   ]
  },
  {
   "cell_type": "code",
   "execution_count": 36,
   "id": "1416fcd0-16d0-4fab-8235-635c5410ab37",
   "metadata": {
    "execution": {
     "iopub.execute_input": "2023-09-04T01:19:18.514251Z",
     "iopub.status.busy": "2023-09-04T01:19:18.513419Z",
     "iopub.status.idle": "2023-09-04T01:19:18.541950Z",
     "shell.execute_reply": "2023-09-04T01:19:18.540259Z",
     "shell.execute_reply.started": "2023-09-04T01:19:18.514173Z"
    },
    "tags": []
   },
   "outputs": [
    {
     "data": {
      "text/html": [
       "<div>\n",
       "<style scoped>\n",
       "    .dataframe tbody tr th:only-of-type {\n",
       "        vertical-align: middle;\n",
       "    }\n",
       "\n",
       "    .dataframe tbody tr th {\n",
       "        vertical-align: top;\n",
       "    }\n",
       "\n",
       "    .dataframe thead th {\n",
       "        text-align: right;\n",
       "    }\n",
       "</style>\n",
       "<table border=\"1\" class=\"dataframe\">\n",
       "  <thead>\n",
       "    <tr style=\"text-align: right;\">\n",
       "      <th></th>\n",
       "      <th>Pclass</th>\n",
       "      <th>Sex</th>\n",
       "      <th>Age</th>\n",
       "      <th>SibSp</th>\n",
       "      <th>Fare</th>\n",
       "      <th>Embarked</th>\n",
       "      <th>Survived</th>\n",
       "      <th>0</th>\n",
       "      <th>1</th>\n",
       "    </tr>\n",
       "  </thead>\n",
       "  <tbody>\n",
       "    <tr>\n",
       "      <th>0</th>\n",
       "      <td>3</td>\n",
       "      <td>male</td>\n",
       "      <td>26.0</td>\n",
       "      <td>1</td>\n",
       "      <td>18.0</td>\n",
       "      <td>C</td>\n",
       "      <td>1</td>\n",
       "      <td>0.5625</td>\n",
       "      <td>0.4375</td>\n",
       "    </tr>\n",
       "    <tr>\n",
       "      <th>1</th>\n",
       "      <td>3</td>\n",
       "      <td>male</td>\n",
       "      <td>26.0</td>\n",
       "      <td>0</td>\n",
       "      <td>18.0</td>\n",
       "      <td>C</td>\n",
       "      <td>1</td>\n",
       "      <td>0.6250</td>\n",
       "      <td>0.3750</td>\n",
       "    </tr>\n",
       "    <tr>\n",
       "      <th>2</th>\n",
       "      <td>3</td>\n",
       "      <td>male</td>\n",
       "      <td>26.0</td>\n",
       "      <td>3</td>\n",
       "      <td>18.0</td>\n",
       "      <td>C</td>\n",
       "      <td>1</td>\n",
       "      <td>0.5625</td>\n",
       "      <td>0.4375</td>\n",
       "    </tr>\n",
       "    <tr>\n",
       "      <th>3</th>\n",
       "      <td>3</td>\n",
       "      <td>male</td>\n",
       "      <td>26.0</td>\n",
       "      <td>4</td>\n",
       "      <td>18.0</td>\n",
       "      <td>C</td>\n",
       "      <td>1</td>\n",
       "      <td>0.5625</td>\n",
       "      <td>0.4375</td>\n",
       "    </tr>\n",
       "    <tr>\n",
       "      <th>4</th>\n",
       "      <td>3</td>\n",
       "      <td>male</td>\n",
       "      <td>26.0</td>\n",
       "      <td>2</td>\n",
       "      <td>18.0</td>\n",
       "      <td>C</td>\n",
       "      <td>1</td>\n",
       "      <td>0.5625</td>\n",
       "      <td>0.4375</td>\n",
       "    </tr>\n",
       "    <tr>\n",
       "      <th>5</th>\n",
       "      <td>3</td>\n",
       "      <td>male</td>\n",
       "      <td>26.0</td>\n",
       "      <td>5</td>\n",
       "      <td>18.0</td>\n",
       "      <td>C</td>\n",
       "      <td>1</td>\n",
       "      <td>0.5625</td>\n",
       "      <td>0.4375</td>\n",
       "    </tr>\n",
       "  </tbody>\n",
       "</table>\n",
       "</div>"
      ],
      "text/plain": [
       "  Pclass   Sex   Age SibSp  Fare Embarked Survived       0       1\n",
       "0      3  male  26.0     1  18.0        C        1  0.5625  0.4375\n",
       "1      3  male  26.0     0  18.0        C        1  0.6250  0.3750\n",
       "2      3  male  26.0     3  18.0        C        1  0.5625  0.4375\n",
       "3      3  male  26.0     4  18.0        C        1  0.5625  0.4375\n",
       "4      3  male  26.0     2  18.0        C        1  0.5625  0.4375\n",
       "5      3  male  26.0     5  18.0        C        1  0.5625  0.4375"
      ]
     },
     "execution_count": 36,
     "metadata": {},
     "output_type": "execute_result"
    }
   ],
   "source": [
    "df_tmp"
   ]
  },
  {
   "cell_type": "code",
   "execution_count": 33,
   "id": "55e61a28-2540-47ba-8cbc-9987a46b3f93",
   "metadata": {
    "execution": {
     "iopub.execute_input": "2023-09-04T01:18:52.898959Z",
     "iopub.status.busy": "2023-09-04T01:18:52.898570Z",
     "iopub.status.idle": "2023-09-04T01:18:52.906009Z",
     "shell.execute_reply": "2023-09-04T01:18:52.905267Z",
     "shell.execute_reply.started": "2023-09-04T01:18:52.898926Z"
    },
    "tags": []
   },
   "outputs": [
    {
     "data": {
      "text/plain": [
       "Pclass         3\n",
       "Sex         male\n",
       "Age         26.0\n",
       "SibSp        NaN\n",
       "Fare        18.0\n",
       "Embarked       C\n",
       "Survived       1\n",
       "Name: 0, dtype: object"
      ]
     },
     "execution_count": 33,
     "metadata": {},
     "output_type": "execute_result"
    }
   ],
   "source": [
    "row"
   ]
  },
  {
   "cell_type": "code",
   "execution_count": 34,
   "id": "e4bd7cd0-3dc9-4528-973c-0c399113bbd7",
   "metadata": {
    "execution": {
     "iopub.execute_input": "2023-09-04T01:19:00.106706Z",
     "iopub.status.busy": "2023-09-04T01:19:00.105086Z",
     "iopub.status.idle": "2023-09-04T01:19:00.121536Z",
     "shell.execute_reply": "2023-09-04T01:19:00.118907Z",
     "shell.execute_reply.started": "2023-09-04T01:19:00.106616Z"
    },
    "tags": []
   },
   "outputs": [
    {
     "data": {
      "text/plain": [
       "'Embarked'"
      ]
     },
     "execution_count": 34,
     "metadata": {},
     "output_type": "execute_result"
    }
   ],
   "source": [
    "col"
   ]
  },
  {
   "cell_type": "code",
   "execution_count": null,
   "id": "2fd5b599-266c-4acb-9a5e-1cb456595a75",
   "metadata": {},
   "outputs": [],
   "source": []
  }
 ],
 "metadata": {
  "kernelspec": {
   "display_name": "Python 3 (ipykernel)",
   "language": "python",
   "name": "python3"
  },
  "language_info": {
   "codemirror_mode": {
    "name": "ipython",
    "version": 3
   },
   "file_extension": ".py",
   "mimetype": "text/x-python",
   "name": "python",
   "nbconvert_exporter": "python",
   "pygments_lexer": "ipython3",
   "version": "3.10.11"
  }
 },
 "nbformat": 4,
 "nbformat_minor": 5
}
