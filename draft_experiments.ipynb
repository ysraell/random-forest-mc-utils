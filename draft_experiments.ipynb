{
 "cells": [
  {
   "cell_type": "markdown",
   "metadata": {},
   "source": [
    "# Customized Random Forest Classifier Model \n",
    "\n",
    "- TODO: implement tqdm.contrib.concurrent for build trees in parallel.\n",
    "\n",
    "## Fundamentals:\n",
    "\n",
    "- Based on Random Forest method principles: ensemble of models (decision trees).\n",
    "\n",
    "- In bootstrap process:\n",
    "\n",
    "    - the data sampled ensure the balance between classes, for training and validation;\n",
    "\n",
    "    - the list of features used are randomly sampled (with random number of features and order).\n",
    "    \n",
    "- For each tree:\n",
    "\n",
    "    - fallowing the sequence of a given list of features, the data is splited half/half based on meadian value;\n",
    "    \n",
    "    - the splitting process ends when the samples have one only class;\n",
    "    \n",
    "    - validation process based on dynamic threshold can discard the tree.\n",
    "    \n",
    "- For use the forest:\n",
    "\n",
    "    - all trees predictions are combined as a vote;\n",
    "    \n",
    "    - it is possible to use soft or hard-voting.\n",
    "    \n",
    "- Positive side-effects:\n",
    "\n",
    "    - possible more generalization caused by the combination of overfitted trees, each tree is highly specialized in a smallest and different set of feature;\n",
    "    \n",
    "    - robustness for unbalanced and missing data, in case of missing data, the feature could be skipped without degrade the optimization process;\n",
    "    \n",
    "    - in prediction process, a missing value could be dealt with a tree replication considering the two possible paths;\n",
    "    \n",
    "    - the survived trees have a potential information about feature importance.\n",
    "\n",
    "### Premises: \n",
    "- all features must be numeric.\n",
    "   \n",
    "- Is case of categorical data, the splitting is done for each categorical value, creating one branch for each value.\n",
    "\n",
    "- Author: Israel Oliveira [\\[e-mail\\]](mailto:'Israel%20Oliveira%20'<prof.israel@gmail.com>)"
   ]
  },
  {
   "cell_type": "code",
   "execution_count": 1,
   "metadata": {
    "execution": {
     "iopub.execute_input": "2021-09-11T13:45:43.472981Z",
     "iopub.status.busy": "2021-09-11T13:45:43.472639Z",
     "iopub.status.idle": "2021-09-11T13:46:25.749490Z",
     "shell.execute_reply": "2021-09-11T13:46:25.747073Z",
     "shell.execute_reply.started": "2021-09-11T13:45:43.472902Z"
    },
    "tags": []
   },
   "outputs": [
    {
     "name": "stdout",
     "output_type": "stream",
     "text": [
      "Collecting random-forest-mc\n",
      "  Downloading random_forest_mc-0.2.1-py3-none-any.whl (9.0 kB)\n",
      "Requirement already satisfied: pandas<2.0.0,>=1.3.2 in /usr/local/lib/python3.9/site-packages (from random-forest-mc) (1.3.2)\n",
      "Collecting numpy<2.0.0,>=1.21.2\n",
      "  Downloading numpy-1.21.2-cp39-cp39-manylinux_2_12_x86_64.manylinux2010_x86_64.whl (15.8 MB)\n",
      "\u001b[K     |████████████████████████████████| 15.8 MB 200 kB/s eta 0:00:01    |█████████████████▎              | 8.5 MB 179 kB/s eta 0:00:41\n",
      "\u001b[?25hRequirement already satisfied: tqdm<5.0.0,>=4.62.1 in /usr/local/lib/python3.9/site-packages (from random-forest-mc) (4.62.2)\n",
      "Collecting poetry-version<0.2.0,>=0.1.5\n",
      "  Downloading poetry_version-0.1.5-py2.py3-none-any.whl (13 kB)\n",
      "Requirement already satisfied: pytz>=2017.3 in /usr/local/lib/python3.9/site-packages (from pandas<2.0.0,>=1.3.2->random-forest-mc) (2021.1)\n",
      "Requirement already satisfied: python-dateutil>=2.7.3 in /usr/local/lib/python3.9/site-packages (from pandas<2.0.0,>=1.3.2->random-forest-mc) (2.8.2)\n",
      "Collecting tomlkit<0.6.0,>=0.4.6\n",
      "  Downloading tomlkit-0.5.11-py2.py3-none-any.whl (31 kB)\n",
      "Requirement already satisfied: six>=1.5 in /usr/local/lib/python3.9/site-packages (from python-dateutil>=2.7.3->pandas<2.0.0,>=1.3.2->random-forest-mc) (1.16.0)\n",
      "Installing collected packages: tomlkit, numpy, poetry-version, random-forest-mc\n",
      "  Attempting uninstall: numpy\n",
      "    Found existing installation: numpy 1.20.3\n",
      "    Uninstalling numpy-1.20.3:\n",
      "      Successfully uninstalled numpy-1.20.3\n",
      "\u001b[31mERROR: pip's dependency resolver does not currently take into account all the packages that are installed. This behaviour is the source of the following dependency conflicts.\n",
      "numba 0.54.0 requires numpy<1.21,>=1.17, but you have numpy 1.21.2 which is incompatible.\u001b[0m\n",
      "Successfully installed numpy-1.21.2 poetry-version-0.1.5 random-forest-mc-0.2.1 tomlkit-0.5.11\n",
      "\u001b[33mWARNING: Running pip as the 'root' user can result in broken permissions and conflicting behaviour with the system package manager. It is recommended to use a virtual environment instead: https://pip.pypa.io/warnings/venv\u001b[0m\n"
     ]
    }
   ],
   "source": [
    "!pip3 install random-forest-mc"
   ]
  },
  {
   "cell_type": "code",
   "execution_count": 1,
   "metadata": {
    "execution": {
     "iopub.execute_input": "2021-09-11T14:11:33.112856Z",
     "iopub.status.busy": "2021-09-11T14:11:33.112436Z",
     "iopub.status.idle": "2021-09-11T14:11:33.139320Z",
     "shell.execute_reply": "2021-09-11T14:11:33.138677Z",
     "shell.execute_reply.started": "2021-09-11T14:11:33.112754Z"
    },
    "tags": []
   },
   "outputs": [],
   "source": [
    "%load_ext watermark"
   ]
  },
  {
   "cell_type": "code",
   "execution_count": 10,
   "metadata": {
    "execution": {
     "iopub.execute_input": "2021-09-11T14:13:32.418841Z",
     "iopub.status.busy": "2021-09-11T14:13:32.415587Z",
     "iopub.status.idle": "2021-09-11T14:13:32.442907Z",
     "shell.execute_reply": "2021-09-11T14:13:32.440896Z",
     "shell.execute_reply.started": "2021-09-11T14:13:32.418662Z"
    },
    "tags": []
   },
   "outputs": [],
   "source": [
    "import pandas as pd\n",
    "import numpy as np\n",
    "from random_forest_mc.model import RandomForestMC\n",
    "from random_forest_mc.utils import load_file_json\n",
    "from sklearn.model_selection import train_test_split\n",
    "from sklearn.metrics import f1_score, roc_auc_score\n",
    "from collections import Counter\n",
    "import hashlib\n",
    "import joblib"
   ]
  },
  {
   "cell_type": "code",
   "execution_count": 3,
   "metadata": {
    "execution": {
     "iopub.execute_input": "2021-09-11T14:11:34.447253Z",
     "iopub.status.busy": "2021-09-11T14:11:34.446185Z",
     "iopub.status.idle": "2021-09-11T14:11:34.495361Z",
     "shell.execute_reply": "2021-09-11T14:11:34.494091Z",
     "shell.execute_reply.started": "2021-09-11T14:11:34.447170Z"
    },
    "tags": []
   },
   "outputs": [],
   "source": [
    "from tqdm import tqdm\n",
    "\n",
    "# from glob import glob\n",
    "\n",
    "# import matplotlib.pyplot as plt\n",
    "# %matplotlib inline\n",
    "# from matplotlib import rcParams\n",
    "# from cycler import cycler\n",
    "\n",
    "# rcParams['figure.figsize'] = 12, 8 # 18, 5\n",
    "# rcParams['axes.spines.top'] = False\n",
    "# rcParams['axes.spines.right'] = False\n",
    "# rcParams['axes.grid'] = True\n",
    "# rcParams['axes.prop_cycle'] = cycler(color=['#365977'])\n",
    "# rcParams['lines.linewidth'] = 2.5\n",
    "\n",
    "# import seaborn as sns\n",
    "# sns.set_theme()\n",
    "\n",
    "# pd.set_option(\"max_columns\", None)\n",
    "# pd.set_option(\"max_rows\", None)\n",
    "# pd.set_option('display.max_colwidth', None)\n",
    "\n",
    "from IPython.display import Markdown, display\n",
    "def md(arg):\n",
    "    display(Markdown(arg))\n",
    "\n",
    "# from pandas_profiling import ProfileReport\n",
    "# #report = ProfileReport(#DataFrame here#, minimal=True)\n",
    "# #report.to\n",
    "\n",
    "# import pyarrow.parquet as pq\n",
    "# #df = pq.ParquetDataset(path_to_folder_with_parquets, filesystem=None).read_pandas().to_pandas()\n",
    "\n",
    "# import json\n",
    "# def open_file_json(path,mode='r',var=None):\n",
    "#     if mode == 'w':\n",
    "#         with open(path,'w') as f:\n",
    "#             json.dump(var, f)\n",
    "#     if mode == 'r':\n",
    "#         with open(path,'r') as f:\n",
    "#             return json.load(f)\n",
    "\n",
    "# import functools\n",
    "# import operator\n",
    "# def flat(a):\n",
    "#     return functools.reduce(operator.iconcat, a, [])\n",
    "\n",
    "# import json\n",
    "# from glob import glob\n",
    "# from typing import NewType\n",
    "\n",
    "\n",
    "# DictsPathType = NewType(\"DictsPath\", str)\n",
    "\n",
    "\n",
    "# def open_file_json(path):\n",
    "#     with open(path, \"r\") as f:\n",
    "#         return json.load(f)\n",
    "\n",
    "# class LoadDicts:\n",
    "#     def __init__(self, dict_path: DictsPathType = \"./data\"):\n",
    "#         Dicts_glob = glob(f\"{dict_path}/*.json\")\n",
    "#         self.List = []\n",
    "#         self.Dict = {}\n",
    "#         for path_json in Dicts_glob:\n",
    "#             name = path_json.split(\"/\")[-1].replace(\".json\", \"\")\n",
    "#             self.List.append(name)\n",
    "#             self.Dict[name] = open_file_json(path_json)\n",
    "#             setattr(self, name, self.Dict[name])\n"
   ]
  },
  {
   "cell_type": "code",
   "execution_count": 4,
   "metadata": {
    "execution": {
     "iopub.execute_input": "2021-09-11T14:11:35.186194Z",
     "iopub.status.busy": "2021-09-11T14:11:35.185053Z",
     "iopub.status.idle": "2021-09-11T14:11:36.457183Z",
     "shell.execute_reply": "2021-09-11T14:11:36.455117Z",
     "shell.execute_reply.started": "2021-09-11T14:11:35.186093Z"
    },
    "tags": []
   },
   "outputs": [
    {
     "name": "stdout",
     "output_type": "stream",
     "text": [
      "Python implementation: CPython\n",
      "Python version       : 3.9.7\n",
      "IPython version      : 7.27.0\n",
      "\n",
      "Compiler    : GCC 10.2.1 20210110\n",
      "OS          : Linux\n",
      "Release     : 5.11.0-7633-generic\n",
      "Machine     : x86_64\n",
      "Processor   : \n",
      "CPU cores   : 4\n",
      "Architecture: 64bit\n",
      "\n",
      "Git hash: 5962e2dd43def4f66834036ad82aba1cac443e17\n",
      "\n",
      "Git repo: https://github.com/ysraell/random-forest-mc.git\n",
      "\n",
      "Git branch: main\n",
      "\n",
      "numpy : 1.20.3\n",
      "joblib: 1.0.1\n",
      "pandas: 1.3.2\n",
      "\n",
      "CPU\t: Intel(R) Core(TM) i7-7500U CPU @ 2.70GHz\n",
      "Mem:            15G\n",
      "Swap:          4.0G\n"
     ]
    }
   ],
   "source": [
    "# Run this cell before close.\n",
    "%watermark -d --iversion -b -r -g -m -v\n",
    "!cat /proc/cpuinfo |grep 'model name'|head -n 1 |sed -e 's/model\\ name/CPU/'\n",
    "!free -h |cut -d'i' -f1  |grep -v total"
   ]
  },
  {
   "cell_type": "code",
   "execution_count": 5,
   "metadata": {
    "execution": {
     "iopub.execute_input": "2021-09-11T14:11:36.464818Z",
     "iopub.status.busy": "2021-09-11T14:11:36.462601Z",
     "iopub.status.idle": "2021-09-11T14:11:37.794291Z",
     "shell.execute_reply": "2021-09-11T14:11:37.793732Z",
     "shell.execute_reply.started": "2021-09-11T14:11:36.464703Z"
    },
    "tags": []
   },
   "outputs": [],
   "source": [
    "df = pd.read_csv('/work/data/creditcard_trans_int.csv')\n",
    "target_col = 'Class'\n",
    "ds_cols = ['V1', 'V2', 'V3', 'V4', 'V5', 'V6', 'V7', 'V8', 'V9', 'V10', 'V11', 'V12', 'V13', 'V14', 'V15', 'V16', 'V17', 'V18', 'V19', 'V20', 'V21', 'V22', 'V23', 'V24', 'V25', 'V26', 'V27', 'V28', 'Amount']"
   ]
  },
  {
   "cell_type": "markdown",
   "metadata": {},
   "source": [
    "## How much data for each class:"
   ]
  },
  {
   "cell_type": "code",
   "execution_count": 6,
   "metadata": {
    "execution": {
     "iopub.execute_input": "2021-09-11T14:11:37.795472Z",
     "iopub.status.busy": "2021-09-11T14:11:37.795281Z",
     "iopub.status.idle": "2021-09-11T14:11:37.810791Z",
     "shell.execute_reply": "2021-09-11T14:11:37.810195Z",
     "shell.execute_reply.started": "2021-09-11T14:11:37.795442Z"
    },
    "tags": []
   },
   "outputs": [
    {
     "data": {
      "text/plain": [
       "0    284315\n",
       "1       492\n",
       "Name: Class, dtype: int64"
      ]
     },
     "execution_count": 6,
     "metadata": {},
     "output_type": "execute_result"
    }
   ],
   "source": [
    "df[target_col].value_counts()"
   ]
  },
  {
   "cell_type": "code",
   "execution_count": 7,
   "metadata": {
    "execution": {
     "iopub.execute_input": "2021-09-11T14:11:38.302641Z",
     "iopub.status.busy": "2021-09-11T14:11:38.302151Z",
     "iopub.status.idle": "2021-09-11T14:11:38.321674Z",
     "shell.execute_reply": "2021-09-11T14:11:38.320484Z",
     "shell.execute_reply.started": "2021-09-11T14:11:38.302592Z"
    },
    "tags": []
   },
   "outputs": [],
   "source": [
    "# How much for test step:\n",
    "N_fraud_test = 200\n",
    "N_truth_test = int(2e4)\n",
    "\n",
    "# How much for training step:\n",
    "N_truth_train = int(2e5)\n",
    "# The remaing data for fraud is all used.\n",
    "\n",
    "# How much (survived) trees:\n",
    "T = 64\n",
    "\n",
    "# Parameters for bootstrap\n",
    "\n",
    "# Data for each tree:\n",
    "N_T = int((df[target_col].value_counts()[1] - N_fraud_test)/2) # remaing data for fraud.\n",
    "N_V = N_T # keep balanced amount for each classe.\n",
    "\n",
    "# How much features:\n",
    "n_F_max = len(ds_cols)\n",
    "n_F_min = n_F_max//2\n",
    "# From EDA: decision trees with small amount of features could be not so efficient.\n",
    "\n",
    "# Droped trees limit:\n",
    "D = 64\n",
    "# When a total of D trees are dropped, the validation threshold decreases delta_Th, restarting the counting.\n",
    "\n",
    "# Delta Threshold\n",
    "delta_th = 0.001\n",
    "th_start = 0.96\n",
    "# The validation threshold decreases dynamically as need to selection more specialized tree.\n",
    "\n",
    "# Metric in validation\n",
    "M = 'Accuracy'\n",
    "# This parameter have no effect, only to say which metric is used in validation process.\n",
    "\n",
    "#Seeds\n",
    "#split_seeds = [43, 47, 53, 59]\n",
    "split_seeds = [43]\n",
    "# One for each experiment."
   ]
  },
  {
   "cell_type": "code",
   "execution_count": 8,
   "metadata": {
    "execution": {
     "iopub.execute_input": "2021-09-11T14:11:39.761749Z",
     "iopub.status.busy": "2021-09-11T14:11:39.761432Z",
     "iopub.status.idle": "2021-09-11T14:11:39.767167Z",
     "shell.execute_reply": "2021-09-11T14:11:39.766305Z",
     "shell.execute_reply.started": "2021-09-11T14:11:39.761719Z"
    },
    "tags": []
   },
   "outputs": [
    {
     "data": {
      "text/plain": [
       "146"
      ]
     },
     "execution_count": 8,
     "metadata": {},
     "output_type": "execute_result"
    }
   ],
   "source": [
    "N_T"
   ]
  },
  {
   "cell_type": "code",
   "execution_count": 9,
   "metadata": {
    "execution": {
     "iopub.execute_input": "2021-09-10T03:44:07.970168Z",
     "iopub.status.busy": "2021-09-10T03:44:07.969637Z",
     "iopub.status.idle": "2021-09-10T11:18:28.597435Z",
     "shell.execute_reply": "2021-09-10T11:18:28.596846Z",
     "shell.execute_reply.started": "2021-09-10T03:44:07.970135Z"
    },
    "tags": []
   },
   "outputs": [
    {
     "data": {
      "application/vnd.jupyter.widget-view+json": {
       "model_id": "151610f92e2749c49d9852d5f729da6c",
       "version_major": 2,
       "version_minor": 0
      },
      "text/plain": [
       "Planting the forest:   0%|          | 0/64 [00:00<?, ?it/s]"
      ]
     },
     "metadata": {},
     "output_type": "display_data"
    }
   ],
   "source": [
    "# Splitting by unique values of the classes.\n",
    "df = df[ds_cols+[target_col]]\n",
    "df_fraud = df.query('Class == 1').reset_index(drop=True).copy()\n",
    "df_truth = df.query('Class == 0').reset_index(drop=True).copy()\n",
    "\n",
    "Results = {}\n",
    "    \n",
    "# Each seed is a experiment.\n",
    "for seed in split_seeds:\n",
    "\n",
    "    # Start the experiment\n",
    "    df_fraud_train, df_fraud_test = train_test_split(df_fraud, test_size=N_fraud_test, random_state=seed)\n",
    "    df_truth_train, df_truth_test = train_test_split(df_truth, train_size=N_truth_train, test_size=N_truth_test, random_state=seed)\n",
    "    df_train = pd.concat([df_fraud_train, df_truth_train]).reset_index(drop=True)\n",
    "    df_test = pd.concat([df_fraud_test, df_truth_test]).reset_index(drop=True)\n",
    "    del df_fraud_test, df_truth_test, df_fraud_train, df_truth_train\n",
    "    \n",
    "    # Training step\n",
    "    cls = RandomForestMC(\n",
    "        n_trees=T, target_col='Class', max_discard_trees=D,\n",
    "        delta_th=delta_th, th_start=th_start,\n",
    "        batch_train_pclass=N_T, batch_val_pclass=N_V,\n",
    "        th_decease_verbose = False\n",
    "    )\n",
    "    cls.process_dataset(df_train)\n",
    "    cls.fitParallel(max_workers=16, thread_parallel_method=False)\n",
    "    #cls.fit()\n",
    "    \n",
    "    # Test step\n",
    "    probs = cls.testForestProbs(df_test)\n",
    "\n",
    "    # Save results\n",
    "    target_test = df_test.Class.to_list()\n",
    "    Results[seed] = {\n",
    "        'probs': probs,\n",
    "        'target_test': target_test\n",
    "    }"
   ]
  },
  {
   "cell_type": "code",
   "execution_count": 10,
   "metadata": {
    "execution": {
     "iopub.execute_input": "2021-09-10T11:18:28.598922Z",
     "iopub.status.busy": "2021-09-10T11:18:28.598643Z",
     "iopub.status.idle": "2021-09-10T19:09:33.973020Z",
     "shell.execute_reply": "2021-09-10T19:09:33.972453Z",
     "shell.execute_reply.started": "2021-09-10T11:18:28.598898Z"
    }
   },
   "outputs": [
    {
     "data": {
      "application/vnd.jupyter.widget-view+json": {
       "model_id": "b73e77983661469ab959a2709e8c9a9b",
       "version_major": 2,
       "version_minor": 0
      },
      "text/plain": [
       "Planting the forest:   0%|          | 0/64 [00:00<?, ?it/s]"
      ]
     },
     "metadata": {},
     "output_type": "display_data"
    }
   ],
   "source": [
    "cls.fitParallel(max_workers=16, thread_parallel_method=False)\n",
    "#cls.fit()\n",
    "\n",
    "# Test step\n",
    "probs = cls.testForestProbs(df_test)\n",
    "\n",
    "# Save results\n",
    "target_test = df_test.Class.to_list()\n",
    "Results[seed] = {\n",
    "    'probs': probs,\n",
    "    'target_test': target_test\n",
    "}"
   ]
  },
  {
   "cell_type": "code",
   "execution_count": 11,
   "metadata": {
    "execution": {
     "iopub.execute_input": "2021-09-11T14:14:13.938334Z",
     "iopub.status.busy": "2021-09-11T14:14:13.937368Z",
     "iopub.status.idle": "2021-09-11T14:14:13.945013Z",
     "shell.execute_reply": "2021-09-11T14:14:13.943969Z",
     "shell.execute_reply.started": "2021-09-11T14:14:13.938274Z"
    }
   },
   "outputs": [],
   "source": [
    "cls = RandomForestMC(\n",
    "    n_trees=T, target_col='Class', max_discard_trees=D,\n",
    "    delta_th=delta_th, th_start=th_start,\n",
    "    batch_train_pclass=N_T, batch_val_pclass=N_V,\n",
    "    th_decease_verbose = False\n",
    ")"
   ]
  },
  {
   "cell_type": "code",
   "execution_count": 13,
   "metadata": {
    "execution": {
     "iopub.execute_input": "2021-09-11T14:15:28.013210Z",
     "iopub.status.busy": "2021-09-11T14:15:28.012819Z",
     "iopub.status.idle": "2021-09-11T14:15:28.165389Z",
     "shell.execute_reply": "2021-09-11T14:15:28.164727Z",
     "shell.execute_reply.started": "2021-09-11T14:15:28.013178Z"
    },
    "tags": []
   },
   "outputs": [],
   "source": [
    "ModelDict = load_file_json('/work/data/cls_rfmc.json')\n",
    "cls.dict2model(ModelDict)"
   ]
  },
  {
   "cell_type": "code",
   "execution_count": 14,
   "metadata": {
    "execution": {
     "iopub.execute_input": "2021-09-11T14:15:35.503832Z",
     "iopub.status.busy": "2021-09-11T14:15:35.499649Z",
     "iopub.status.idle": "2021-09-11T14:15:35.724450Z",
     "shell.execute_reply": "2021-09-11T14:15:35.723760Z",
     "shell.execute_reply.started": "2021-09-11T14:15:35.503761Z"
    },
    "tags": []
   },
   "outputs": [
    {
     "name": "stderr",
     "output_type": "stream",
     "text": [
      "100%|██████████| 1/1 [00:00<00:00,  8.18it/s]\n"
     ]
    }
   ],
   "source": [
    "# Splitting by unique values of the classes.\n",
    "df = df[ds_cols+[target_col]]\n",
    "df_fraud = df.query('Class == 1').reset_index(drop=True).copy()\n",
    "df_truth = df.query('Class == 0').reset_index(drop=True).copy()\n",
    "\n",
    "Results = {}\n",
    "\n",
    "# Each seed is a experiment.\n",
    "for seed in tqdm(split_seeds):\n",
    "\n",
    "    # Start the experiment\n",
    "    df_fraud_train, df_fraud_test = train_test_split(df_fraud, test_size=N_fraud_test, random_state=seed)\n",
    "    df_truth_train, df_truth_test = train_test_split(df_truth, train_size=N_truth_train, test_size=N_truth_test, random_state=seed)\n",
    "    df_train = pd.concat([df_fraud_train, df_truth_train]).reset_index(drop=True)\n",
    "    df_test = pd.concat([df_fraud_test, df_truth_test]).reset_index(drop=True)\n",
    "    del df_fraud_test, df_truth_test, df_fraud_train, df_truth_train"
   ]
  },
  {
   "cell_type": "code",
   "execution_count": 24,
   "metadata": {
    "execution": {
     "iopub.execute_input": "2021-09-11T14:37:01.393716Z",
     "iopub.status.busy": "2021-09-11T14:37:01.392344Z",
     "iopub.status.idle": "2021-09-11T14:38:34.263478Z",
     "shell.execute_reply": "2021-09-11T14:38:34.262960Z",
     "shell.execute_reply.started": "2021-09-11T14:37:01.393585Z"
    },
    "tags": []
   },
   "outputs": [],
   "source": [
    "    # Test step\n",
    "    probs = cls.testForestProbs(df_test, soft_voting=True, weighted_tree=True)\n",
    "\n",
    "    # Save results\n",
    "    target_test = df_test.Class.to_list()\n",
    "    Results[seed] = {\n",
    "        'probs': probs,\n",
    "        'target_test': target_test\n",
    "    }"
   ]
  },
  {
   "cell_type": "code",
   "execution_count": 25,
   "metadata": {
    "execution": {
     "iopub.execute_input": "2021-09-11T14:38:34.264941Z",
     "iopub.status.busy": "2021-09-11T14:38:34.264700Z",
     "iopub.status.idle": "2021-09-11T14:38:35.822866Z",
     "shell.execute_reply": "2021-09-11T14:38:35.822318Z",
     "shell.execute_reply.started": "2021-09-11T14:38:34.264910Z"
    },
    "tags": []
   },
   "outputs": [],
   "source": [
    "\n",
    "# Generates the metrics\n",
    "data = []\n",
    "for seed,exp in Results.items():\n",
    "    target_test = exp['target_test']\n",
    "    rf_classes = [0, 1]\n",
    "    df_exp = pd.DataFrame([(d['0'], d['1']) for d in exp['probs']], columns=rf_classes)\n",
    "    df_exp['pred'] = df_exp[[0, 1]].apply(lambda x: rf_classes[np.argmax(x)], axis=1)\n",
    "    df_exp['target'] = target_test\n",
    "    Fraud_True_Sum = df_exp.loc[(df_exp.pred == 1) & (df_exp.target == 1)][1].sum()/sum(df_exp.target == 1)\n",
    "    Truth_False_Sum = df_exp.loc[(df_exp.pred == 0) & (df_exp.target == 1)][0].sum()/sum(df_exp.target == 1)\n",
    "    Fraud_False_Sum = df_exp.loc[(df_exp.pred == 1) & (df_exp.target == 0)][1].sum()/sum(df_exp.target == 0)\n",
    "    F1_M = f1_score(target_test, df_exp['pred'].to_numpy(), average='macro')\n",
    "    AUC_ROC_M = roc_auc_score(target_test, df_exp['pred'].to_numpy(), average='macro')\n",
    "    TP_0 = df_exp.loc[(df_exp.pred == 0) & (df_exp.target == 0)].shape[0]/sum(df_exp.target == 0)\n",
    "    TP_1 = df_exp.loc[(df_exp.pred == 1) & (df_exp.target == 1)].shape[0]/sum(df_exp.target == 1)\n",
    "\n",
    "\n",
    "    data.append([\n",
    "        seed, Fraud_True_Sum, Truth_False_Sum, Fraud_False_Sum, F1_M, AUC_ROC_M, TP_0, TP_1\n",
    "    ])"
   ]
  },
  {
   "cell_type": "code",
   "execution_count": 23,
   "metadata": {
    "execution": {
     "iopub.execute_input": "2021-09-11T14:27:46.740660Z",
     "iopub.status.busy": "2021-09-11T14:27:46.740450Z",
     "iopub.status.idle": "2021-09-11T14:27:46.754242Z",
     "shell.execute_reply": "2021-09-11T14:27:46.753633Z",
     "shell.execute_reply.started": "2021-09-11T14:27:46.740637Z"
    },
    "tags": []
   },
   "outputs": [
    {
     "data": {
      "text/html": [
       "<div>\n",
       "<style scoped>\n",
       "    .dataframe tbody tr th:only-of-type {\n",
       "        vertical-align: middle;\n",
       "    }\n",
       "\n",
       "    .dataframe tbody tr th {\n",
       "        vertical-align: top;\n",
       "    }\n",
       "\n",
       "    .dataframe thead th {\n",
       "        text-align: right;\n",
       "    }\n",
       "</style>\n",
       "<table border=\"1\" class=\"dataframe\">\n",
       "  <thead>\n",
       "    <tr style=\"text-align: right;\">\n",
       "      <th></th>\n",
       "      <th>seed</th>\n",
       "      <th>Fraud_True_Sum</th>\n",
       "      <th>Truth_False_Sum</th>\n",
       "      <th>Fraud_False_Sum</th>\n",
       "      <th>F1_M</th>\n",
       "      <th>AUC_ROC_M</th>\n",
       "      <th>TP_0</th>\n",
       "      <th>TP_1</th>\n",
       "    </tr>\n",
       "  </thead>\n",
       "  <tbody>\n",
       "    <tr>\n",
       "      <th>0</th>\n",
       "      <td>43</td>\n",
       "      <td>0.834806</td>\n",
       "      <td>0.102332</td>\n",
       "      <td>0.007831</td>\n",
       "      <td>0.775837</td>\n",
       "      <td>0.928775</td>\n",
       "      <td>0.98755</td>\n",
       "      <td>0.87</td>\n",
       "    </tr>\n",
       "  </tbody>\n",
       "</table>\n",
       "</div>"
      ],
      "text/plain": [
       "   seed  Fraud_True_Sum  Truth_False_Sum  Fraud_False_Sum      F1_M  \\\n",
       "0    43        0.834806         0.102332         0.007831  0.775837   \n",
       "\n",
       "   AUC_ROC_M     TP_0  TP_1  \n",
       "0   0.928775  0.98755  0.87  "
      ]
     },
     "execution_count": 23,
     "metadata": {},
     "output_type": "execute_result"
    }
   ],
   "source": [
    "columns = ['seed', 'Fraud_True_Sum','Truth_False_Sum', 'Fraud_False_Sum', 'F1_M', 'AUC_ROC_M', 'TP_0', 'TP_1']\n",
    "df_Results = pd.DataFrame(data, columns=columns)\n",
    "df_Results.to_csv('/work/data/Results_creditcard_RFMC_6.csv', index=False)\n",
    "df_Results"
   ]
  },
  {
   "cell_type": "code",
   "execution_count": 26,
   "metadata": {
    "execution": {
     "iopub.execute_input": "2021-09-11T14:38:35.823867Z",
     "iopub.status.busy": "2021-09-11T14:38:35.823649Z",
     "iopub.status.idle": "2021-09-11T14:38:35.840139Z",
     "shell.execute_reply": "2021-09-11T14:38:35.839317Z",
     "shell.execute_reply.started": "2021-09-11T14:38:35.823837Z"
    },
    "tags": []
   },
   "outputs": [
    {
     "data": {
      "text/html": [
       "<div>\n",
       "<style scoped>\n",
       "    .dataframe tbody tr th:only-of-type {\n",
       "        vertical-align: middle;\n",
       "    }\n",
       "\n",
       "    .dataframe tbody tr th {\n",
       "        vertical-align: top;\n",
       "    }\n",
       "\n",
       "    .dataframe thead th {\n",
       "        text-align: right;\n",
       "    }\n",
       "</style>\n",
       "<table border=\"1\" class=\"dataframe\">\n",
       "  <thead>\n",
       "    <tr style=\"text-align: right;\">\n",
       "      <th></th>\n",
       "      <th>seed</th>\n",
       "      <th>Fraud_True_Sum</th>\n",
       "      <th>Truth_False_Sum</th>\n",
       "      <th>Fraud_False_Sum</th>\n",
       "      <th>F1_M</th>\n",
       "      <th>AUC_ROC_M</th>\n",
       "      <th>TP_0</th>\n",
       "      <th>TP_1</th>\n",
       "    </tr>\n",
       "  </thead>\n",
       "  <tbody>\n",
       "    <tr>\n",
       "      <th>0</th>\n",
       "      <td>43</td>\n",
       "      <td>0.834806</td>\n",
       "      <td>0.102332</td>\n",
       "      <td>0.007831</td>\n",
       "      <td>0.775837</td>\n",
       "      <td>0.928775</td>\n",
       "      <td>0.98755</td>\n",
       "      <td>0.87</td>\n",
       "    </tr>\n",
       "  </tbody>\n",
       "</table>\n",
       "</div>"
      ],
      "text/plain": [
       "   seed  Fraud_True_Sum  Truth_False_Sum  Fraud_False_Sum      F1_M  \\\n",
       "0    43        0.834806         0.102332         0.007831  0.775837   \n",
       "\n",
       "   AUC_ROC_M     TP_0  TP_1  \n",
       "0   0.928775  0.98755  0.87  "
      ]
     },
     "execution_count": 26,
     "metadata": {},
     "output_type": "execute_result"
    }
   ],
   "source": [
    "columns = ['seed', 'Fraud_True_Sum','Truth_False_Sum', 'Fraud_False_Sum', 'F1_M', 'AUC_ROC_M', 'TP_0', 'TP_1']\n",
    "df_Results = pd.DataFrame(data, columns=columns)\n",
    "df_Results.to_csv('/work/data/Results_creditcard_RFMC_7.csv', index=False)\n",
    "df_Results"
   ]
  },
  {
   "cell_type": "markdown",
   "metadata": {
    "jp-MarkdownHeadingCollapsed": true,
    "tags": []
   },
   "source": [
    "# Results"
   ]
  },
  {
   "cell_type": "code",
   "execution_count": null,
   "metadata": {},
   "outputs": [],
   "source": [
    "md('# T = 128 e D = 512 (delta_th = 0.002)')\n",
    "#md(\"With 16 threads: {:.2f}s/tree\".format((6*3600+16*60+13)/512))\n",
    "df_Results"
   ]
  },
  {
   "cell_type": "code",
   "execution_count": null,
   "metadata": {
    "tags": []
   },
   "outputs": [],
   "source": [
    "md('# T = 512 e D = 32')\n",
    "md(\"With 16 threads: {:.2f}s/tree\".format((6*3600+16*60+13)/512))\n",
    "df_Results"
   ]
  },
  {
   "cell_type": "code",
   "execution_count": null,
   "metadata": {
    "tags": []
   },
   "outputs": [],
   "source": [
    "md('# T = 128 e D = 16')\n",
    "md(\"With 16 threads: {:.2f}s/tree\".format((50*60+28)/128))\n",
    "df_Results = pd.read_csv('/work/data/Results_creditcard_RFMC_3.csv')\n",
    "df_Results"
   ]
  },
  {
   "cell_type": "markdown",
   "metadata": {},
   "source": [
    "### Basic statistics for all experiments"
   ]
  },
  {
   "cell_type": "code",
   "execution_count": null,
   "metadata": {
    "tags": []
   },
   "outputs": [],
   "source": [
    "df_Results[df_Results.columns[1:]].describe().loc[['mean', 'std', 'min', 'max']]"
   ]
  },
  {
   "cell_type": "markdown",
   "metadata": {
    "execution": {
     "iopub.execute_input": "2021-08-15T17:06:53.458722Z",
     "iopub.status.busy": "2021-08-15T17:06:53.458205Z",
     "iopub.status.idle": "2021-08-15T17:06:53.463759Z",
     "shell.execute_reply": "2021-08-15T17:06:53.462601Z",
     "shell.execute_reply.started": "2021-08-15T17:06:53.458680Z"
    }
   },
   "source": [
    "# Baseline model metrics"
   ]
  },
  {
   "cell_type": "code",
   "execution_count": null,
   "metadata": {
    "tags": []
   },
   "outputs": [],
   "source": [
    "df_Baseline = pd.read_csv('Results_creditcard_Baseline.csv')"
   ]
  },
  {
   "cell_type": "code",
   "execution_count": null,
   "metadata": {
    "tags": []
   },
   "outputs": [],
   "source": [
    "columns = ['seed', 'n_estimators', 'Fraud_True_Sum','Truth_False_Sum', 'Fraud_False_Sum', 'F1_M', 'AUC_ROC_M', 'TP_0', 'TP_1']\n",
    "df_Baseline[columns].groupby(['seed','n_estimators']).mean()"
   ]
  },
  {
   "cell_type": "code",
   "execution_count": 21,
   "metadata": {
    "execution": {
     "iopub.execute_input": "2021-09-10T19:42:28.892603Z",
     "iopub.status.busy": "2021-09-10T19:42:28.892041Z",
     "iopub.status.idle": "2021-09-10T19:42:28.910027Z",
     "shell.execute_reply": "2021-09-10T19:42:28.908463Z",
     "shell.execute_reply.started": "2021-09-10T19:42:28.892534Z"
    },
    "tags": []
   },
   "outputs": [
    {
     "data": {
      "text/plain": [
       "Counter({0.924: 6,\n",
       "         0.909: 5,\n",
       "         0.906: 6,\n",
       "         0.913: 5,\n",
       "         0.919: 4,\n",
       "         0.902: 2,\n",
       "         0.905: 8,\n",
       "         0.908: 2,\n",
       "         0.916: 3,\n",
       "         0.911: 2,\n",
       "         0.922: 7,\n",
       "         0.929: 3,\n",
       "         0.923: 4,\n",
       "         0.946: 2,\n",
       "         0.917: 4,\n",
       "         0.931: 7,\n",
       "         0.928: 5,\n",
       "         0.93: 4,\n",
       "         0.934: 3,\n",
       "         0.933: 2,\n",
       "         0.9: 1,\n",
       "         0.912: 4,\n",
       "         0.914: 3,\n",
       "         0.915: 1,\n",
       "         0.901: 3,\n",
       "         0.896: 2,\n",
       "         0.903: 3,\n",
       "         0.907: 5,\n",
       "         0.94: 2,\n",
       "         0.921: 4,\n",
       "         0.937: 1,\n",
       "         0.927: 1,\n",
       "         0.91: 2,\n",
       "         0.92: 5,\n",
       "         0.932: 2,\n",
       "         0.925: 2,\n",
       "         0.935: 1,\n",
       "         0.899: 1,\n",
       "         0.904: 1})"
      ]
     },
     "execution_count": 21,
     "metadata": {},
     "output_type": "execute_result"
    }
   ],
   "source": [
    "Counter([round(x,8) for x in cls.survived_scores])"
   ]
  },
  {
   "cell_type": "code",
   "execution_count": 51,
   "metadata": {
    "execution": {
     "iopub.execute_input": "2021-09-11T01:32:54.706074Z",
     "iopub.status.busy": "2021-09-11T01:32:54.705181Z",
     "iopub.status.idle": "2021-09-11T01:32:54.790323Z",
     "shell.execute_reply": "2021-09-11T01:32:54.789003Z",
     "shell.execute_reply.started": "2021-09-11T01:32:54.706028Z"
    },
    "tags": []
   },
   "outputs": [
    {
     "name": "stdout",
     "output_type": "stream",
     "text": [
      "256\n",
      "128\n"
     ]
    },
    {
     "ename": "NameError",
     "evalue": "name 'survived_scores' is not defined",
     "output_type": "error",
     "traceback": [
      "\u001b[0;31m---------------------------------------------------------------------------\u001b[0m",
      "\u001b[0;31mNameError\u001b[0m                                 Traceback (most recent call last)",
      "\u001b[0;32m/tmp/ipykernel_134/1020157726.py\u001b[0m in \u001b[0;36m<module>\u001b[0;34m\u001b[0m\n\u001b[1;32m      4\u001b[0m \u001b[0mForest\u001b[0m \u001b[0;34m=\u001b[0m \u001b[0;34m[\u001b[0m\u001b[0mTree\u001b[0m \u001b[0;32mfor\u001b[0m \u001b[0mTree\u001b[0m\u001b[0;34m,\u001b[0m \u001b[0mcond\u001b[0m \u001b[0;32min\u001b[0m \u001b[0mzip\u001b[0m\u001b[0;34m(\u001b[0m\u001b[0mForest\u001b[0m\u001b[0;34m,\u001b[0m\u001b[0mconds\u001b[0m\u001b[0;34m)\u001b[0m \u001b[0;32mif\u001b[0m \u001b[0mcond\u001b[0m\u001b[0;34m]\u001b[0m\u001b[0;34m\u001b[0m\u001b[0;34m\u001b[0m\u001b[0m\n\u001b[1;32m      5\u001b[0m \u001b[0mprint\u001b[0m\u001b[0;34m(\u001b[0m\u001b[0mlen\u001b[0m\u001b[0;34m(\u001b[0m\u001b[0mForest\u001b[0m\u001b[0;34m)\u001b[0m\u001b[0;34m)\u001b[0m\u001b[0;34m\u001b[0m\u001b[0;34m\u001b[0m\u001b[0m\n\u001b[0;32m----> 6\u001b[0;31m \u001b[0mForest\u001b[0m \u001b[0;34m=\u001b[0m \u001b[0;34m[\u001b[0m\u001b[0mscore\u001b[0m \u001b[0;32mfor\u001b[0m \u001b[0mscore\u001b[0m\u001b[0;34m,\u001b[0m \u001b[0mcond\u001b[0m \u001b[0;32min\u001b[0m \u001b[0mzip\u001b[0m\u001b[0;34m(\u001b[0m\u001b[0msurvived_scores\u001b[0m\u001b[0;34m,\u001b[0m\u001b[0mconds\u001b[0m\u001b[0;34m)\u001b[0m \u001b[0;32mif\u001b[0m \u001b[0mcond\u001b[0m\u001b[0;34m]\u001b[0m\u001b[0;34m\u001b[0m\u001b[0;34m\u001b[0m\u001b[0m\n\u001b[0m\u001b[1;32m      7\u001b[0m \u001b[0mprint\u001b[0m\u001b[0;34m(\u001b[0m\u001b[0mlen\u001b[0m\u001b[0;34m(\u001b[0m\u001b[0mForest\u001b[0m\u001b[0;34m)\u001b[0m\u001b[0;34m)\u001b[0m\u001b[0;34m\u001b[0m\u001b[0;34m\u001b[0m\u001b[0m\n",
      "\u001b[0;31mNameError\u001b[0m: name 'survived_scores' is not defined"
     ]
    }
   ],
   "source": [
    "Forest = cls.Forest+cls.Forest\n",
    "print(len(Forest))\n",
    "conds = pd.DataFrame([hashlib.md5(str(Tree).encode('utf-8')).hexdigest() for Tree in Forest]).duplicated().to_list()\n",
    "Forest = [Tree for Tree, cond in zip(Forest,conds) if cond]\n",
    "print(len(Forest))\n",
    "Forest = [score for score, cond in zip(survived_scores,conds) if cond]\n",
    "print(len(Forest))"
   ]
  },
  {
   "cell_type": "code",
   "execution_count": 35,
   "metadata": {
    "execution": {
     "iopub.execute_input": "2021-09-11T01:20:50.750100Z",
     "iopub.status.busy": "2021-09-11T01:20:50.747470Z",
     "iopub.status.idle": "2021-09-11T01:20:50.771469Z",
     "shell.execute_reply": "2021-09-11T01:20:50.769920Z",
     "shell.execute_reply.started": "2021-09-11T01:20:50.749919Z"
    }
   },
   "outputs": [
    {
     "data": {
      "text/plain": [
       "0"
      ]
     },
     "execution_count": 35,
     "metadata": {},
     "output_type": "execute_result"
    }
   ],
   "source": [
    "i"
   ]
  },
  {
   "cell_type": "code",
   "execution_count": 36,
   "metadata": {
    "execution": {
     "iopub.execute_input": "2021-09-11T01:20:58.756330Z",
     "iopub.status.busy": "2021-09-11T01:20:58.755241Z",
     "iopub.status.idle": "2021-09-11T01:20:58.765431Z",
     "shell.execute_reply": "2021-09-11T01:20:58.764460Z",
     "shell.execute_reply.started": "2021-09-11T01:20:58.756262Z"
    }
   },
   "outputs": [
    {
     "data": {
      "text/plain": [
       "'37f4348ff86b2fc5486ef88873d9363e'"
      ]
     },
     "execution_count": 36,
     "metadata": {},
     "output_type": "execute_result"
    }
   ],
   "source": [
    "hashlib.md5(str(Tree).encode('utf-8')).hexdigest()"
   ]
  },
  {
   "cell_type": "code",
   "execution_count": null,
   "metadata": {},
   "outputs": [],
   "source": []
  }
 ],
 "metadata": {
  "kernelspec": {
   "display_name": "Python 3 (ipykernel)",
   "language": "python",
   "name": "python3"
  },
  "language_info": {
   "codemirror_mode": {
    "name": "ipython",
    "version": 3
   },
   "file_extension": ".py",
   "mimetype": "text/x-python",
   "name": "python",
   "nbconvert_exporter": "python",
   "pygments_lexer": "ipython3",
   "version": "3.9.7"
  }
 },
 "nbformat": 4,
 "nbformat_minor": 4
}
